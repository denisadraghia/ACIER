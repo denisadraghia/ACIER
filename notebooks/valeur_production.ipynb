{
 "cells": [
  {
   "cell_type": "markdown",
   "metadata": {},
   "source": [
    "Dans ce notebook, on calcule la proportion d'usines pour lesquelles on dispose\n",
    "de valeurs de production."
   ]
  },
  {
   "cell_type": "code",
   "execution_count": 1,
   "metadata": {},
   "outputs": [
    {
     "ename": "ModuleNotFoundError",
     "evalue": "No module named 'GSPTDataset'",
     "output_type": "error",
     "traceback": [
      "\u001b[1;31m---------------------------------------------------------------------------\u001b[0m",
      "\u001b[1;31mModuleNotFoundError\u001b[0m                       Traceback (most recent call last)",
      "\u001b[1;32mc:\\Users\\Denisa.draghia\\Desktop\\Acier\\notebooks\\valeur_production.ipynb Cell 2\u001b[0m line \u001b[0;36m1\n\u001b[1;32m----> <a href='vscode-notebook-cell:/c%3A/Users/Denisa.draghia/Desktop/Acier/notebooks/valeur_production.ipynb#W1sZmlsZQ%3D%3D?line=0'>1</a>\u001b[0m \u001b[39mfrom\u001b[39;00m \u001b[39mGSPTDataset\u001b[39;00m \u001b[39mimport\u001b[39;00m GSPTDataset\n\u001b[0;32m      <a href='vscode-notebook-cell:/c%3A/Users/Denisa.draghia/Desktop/Acier/notebooks/valeur_production.ipynb#W1sZmlsZQ%3D%3D?line=1'>2</a>\u001b[0m gspt \u001b[39m=\u001b[39m GSPTDataset(data_path\u001b[39m=\u001b[39m\u001b[39m\"\u001b[39m\u001b[39mGlobal-Steel-Plant-Tracker-2023-03-2.xlsx\u001b[39m\u001b[39m\"\u001b[39m,\n\u001b[0;32m      <a href='vscode-notebook-cell:/c%3A/Users/Denisa.draghia/Desktop/Acier/notebooks/valeur_production.ipynb#W1sZmlsZQ%3D%3D?line=2'>3</a>\u001b[0m                         missing_years_path\u001b[39m=\u001b[39m\u001b[39m\"\u001b[39m\u001b[39mfilled_missing_start_years.xlsx\u001b[39m\u001b[39m\"\u001b[39m,\n\u001b[0;32m      <a href='vscode-notebook-cell:/c%3A/Users/Denisa.draghia/Desktop/Acier/notebooks/valeur_production.ipynb#W1sZmlsZQ%3D%3D?line=3'>4</a>\u001b[0m                         version_year\u001b[39m=\u001b[39m\u001b[39m2023\u001b[39m,\n\u001b[0;32m      <a href='vscode-notebook-cell:/c%3A/Users/Denisa.draghia/Desktop/Acier/notebooks/valeur_production.ipynb#W1sZmlsZQ%3D%3D?line=4'>5</a>\u001b[0m                         gspt2gspt_path\u001b[39m=\u001b[39m\u001b[39m\"\u001b[39m\u001b[39mGSPT2GSPT.json\u001b[39m\u001b[39m\"\u001b[39m)\n",
      "\u001b[1;31mModuleNotFoundError\u001b[0m: No module named 'GSPTDataset'"
     ]
    }
   ],
   "source": [
    "from GSPTDataset import GSPTDataset\n",
    "gspt = GSPTDataset(data_path=\"Global-Steel-Plant-Tracker-2023-03-2.xlsx\",\n",
    "                        missing_years_path=\"filled_missing_start_years.xlsx\",\n",
    "                        version_year=2023,\n",
    "                        gspt2gspt_path=\"GSPT2GSPT.json\")"
   ]
  },
  {
   "cell_type": "code",
   "execution_count": 14,
   "metadata": {},
   "outputs": [],
   "source": [
    "import src.utils\n",
    "import pandas as pd\n",
    "import numpy as np\n"
   ]
  },
  {
   "cell_type": "code",
   "execution_count": null,
   "metadata": {},
   "outputs": [],
   "source": [
    "year=[2019,2020,2021]\n",
    "proportion=[]\n",
    "for i in range(3):\n",
    "    df=gspt.get_merged_capacity_prod(year[i])\n",
    "    available_numbers=df['Crude steel production (ttpa)'].notna().sum()\n",
    "    proportion.append(available_numbers/len(df))"
   ]
  },
  {
   "cell_type": "code",
   "execution_count": 17,
   "metadata": {},
   "outputs": [
    {
     "data": {
      "text/plain": [
       "{'2019': 0.2641509433962264,\n",
       " '2020': 0.23286052009456265,\n",
       " '2021': 0.23508771929824562}"
      ]
     },
     "execution_count": 17,
     "metadata": {},
     "output_type": "execute_result"
    }
   ],
   "source": [
    "prop={'2019':proportion[0],'2020':proportion[1],'2021':proportion[2]}\n",
    "prop\n"
   ]
  }
 ],
 "metadata": {
  "kernelspec": {
   "display_name": "Denisa.draghia-IwxA2Vx_",
   "language": "python",
   "name": "python3"
  },
  "language_info": {
   "codemirror_mode": {
    "name": "ipython",
    "version": 3
   },
   "file_extension": ".py",
   "mimetype": "text/x-python",
   "name": "python",
   "nbconvert_exporter": "python",
   "pygments_lexer": "ipython3",
   "version": "3.9.13"
  },
  "orig_nbformat": 4
 },
 "nbformat": 4,
 "nbformat_minor": 2
}
