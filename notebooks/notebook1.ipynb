{
 "cells": [
  {
   "cell_type": "code",
   "execution_count": 1,
   "metadata": {},
   "outputs": [],
   "source": [
    "from GSPTDataset import GSPTDataset\n",
    "gspt = GSPTDataset(data_path=\"Global-Steel-Plant-Tracker-2023-03-2.xlsx\",\n",
    "                        missing_years_path=\"filled_missing_start_years.xlsx\",\n",
    "                        version_year=2023,\n",
    "                        gspt2gspt_path=\"GSPT2GSPT.json\")"
   ]
  },
  {
   "cell_type": "code",
   "execution_count": 2,
   "metadata": {},
   "outputs": [],
   "source": [
    "from functions import get_cartesian, coordinates_change, f, transform_coordinates_to_lat_long, von_mises_mu\n",
    "from numpy import linalg as LA"
   ]
  },
  {
   "cell_type": "code",
   "execution_count": 4,
   "metadata": {},
   "outputs": [],
   "source": [
    "import src.utils\n",
    "import pandas as pd\n",
    "import numpy as np\n",
    "\n",
    "from scipy.stats import vonmises_fisher\n",
    "from matplotlib.colors import Normalize\n",
    "from sklearn.metrics.pairwise import haversine_distances"
   ]
  },
  {
   "cell_type": "code",
   "execution_count": 3,
   "metadata": {},
   "outputs": [
    {
     "name": "stderr",
     "output_type": "stream",
     "text": [
      "c:\\Users\\Denisa.draghia\\Desktop\\Acier\\GSPTDataset.py:538: FutureWarning: DataFrame.applymap has been deprecated. Use DataFrame.map instead.\n",
      "  steel_df[[c.replace(\"date\", \"year\") for c in date_cols]] = steel_df.loc[:, date_cols].applymap(extract_year, na_action=\"ignore\")\n"
     ]
    }
   ],
   "source": [
    "df_gspt= gspt.get_operating_plants(start_year=2019,melt=True)\n",
    "df_gspt=df_gspt.drop_duplicates([\"Coordinates\"])\n",
    "df_gspt[['latitude', 'longitude']] = df_gspt['Coordinates'].str.split(',',expand=True)\n",
    "df_gspt['latitude']=df_gspt['latitude'].astype(float)\n",
    "df_gspt['longitude']=df_gspt['longitude'].astype(float)\n",
    "\n"
   ]
  },
  {
   "cell_type": "code",
   "execution_count": 7,
   "metadata": {},
   "outputs": [],
   "source": [
    "steel_factories_coordinates=df_gspt[['Country','Region','latitude','longitude']]\n",
    "steel_factories_coordinates.to_csv(\"steel_factories_coordinates.csv\")"
   ]
  },
  {
   "cell_type": "code",
   "execution_count": 8,
   "metadata": {},
   "outputs": [
    {
     "data": {
      "text/plain": [
       "array([0.00885352, 0.62104601, 0.7837241 ])"
      ]
     },
     "execution_count": 8,
     "metadata": {},
     "output_type": "execute_result"
    }
   ],
   "source": [
    "mu=von_mises_mu(df_gspt)\n",
    "mu"
   ]
  },
  {
   "cell_type": "code",
   "execution_count": 11,
   "metadata": {},
   "outputs": [
    {
     "data": {
      "text/plain": [
       "array([51.602826, 89.183257])"
      ]
     },
     "execution_count": 11,
     "metadata": {},
     "output_type": "execute_result"
    }
   ],
   "source": [
    "transform_coordinates_to_lat_long([mu]) # "
   ]
  },
  {
   "cell_type": "code",
   "execution_count": 12,
   "metadata": {},
   "outputs": [
    {
     "data": {
      "text/plain": [
       "array([[0.08022455, 0.66165571, 0.74550369]])"
      ]
     },
     "execution_count": 12,
     "metadata": {},
     "output_type": "execute_result"
    }
   ],
   "source": [
    "rng = np.random.default_rng()\n",
    "\n",
    "samples = vonmises_fisher(mu, 100).rvs(1, random_state=rng)\n",
    "samples"
   ]
  },
  {
   "cell_type": "code",
   "execution_count": 13,
   "metadata": {},
   "outputs": [],
   "source": [
    "def f(coordinates_tirage, steel_coordinates,h):\n",
    "    coordinates_lat_lon_tirage=transform_coordinates_to_lat_long(coordinates_tirage)\n",
    "    def distance(a):\n",
    "        return haversine_distances([a,coordinates_lat_lon_tirage])[0][1]\n",
    "    distances=list(map(distance,steel_coordinates))\n",
    "    return np.exp(-sum(distances)/h)\n",
    "    \n",
    "    \n"
   ]
  },
  {
   "cell_type": "code",
   "execution_count": 14,
   "metadata": {},
   "outputs": [
    {
     "data": {
      "text/plain": [
       "array([[  36.795924,    7.707633],\n",
       "       [  36.753961,    6.24442 ],\n",
       "       [  35.770912,   -0.263031],\n",
       "       ...,\n",
       "       [  37.272927,  -79.998828],\n",
       "       [  47.569597, -122.367395],\n",
       "       [  43.400533,  -87.9482  ]])"
      ]
     },
     "execution_count": 14,
     "metadata": {},
     "output_type": "execute_result"
    }
   ],
   "source": [
    "coordinates_change(df_gspt)"
   ]
  },
  {
   "cell_type": "code",
   "execution_count": 15,
   "metadata": {},
   "outputs": [
    {
     "data": {
      "text/plain": [
       "2.329870571230115e-06"
      ]
     },
     "execution_count": 15,
     "metadata": {},
     "output_type": "execute_result"
    }
   ],
   "source": [
    "f(samples,coordinates_change(df_gspt),100) # précision de python : 1e-15"
   ]
  },
  {
   "cell_type": "code",
   "execution_count": 16,
   "metadata": {},
   "outputs": [],
   "source": [
    "multiple_samples_cartesian = vonmises_fisher(mu, 1).rvs(10**6, random_state=rng)\n",
    "#transform_coordinates_to_lat_long(multiple_samples_cartesian[0][1])\n",
    "\n",
    "d=multiple_samples_cartesian"
   ]
  },
  {
   "cell_type": "code",
   "execution_count": 17,
   "metadata": {},
   "outputs": [
    {
     "data": {
      "text/plain": [
       "array([0.17811912, 0.14197862, 0.11290058, ..., 0.08999047, 0.034197  ,\n",
       "       0.13350492])"
      ]
     },
     "execution_count": 17,
     "metadata": {},
     "output_type": "execute_result"
    }
   ],
   "source": [
    "vonmises_fisher.pdf(multiple_samples_cartesian,kappa=1, mu=np.array([0.00885352, 0.62104601, 0.7837241 ]))"
   ]
  },
  {
   "cell_type": "code",
   "execution_count": 18,
   "metadata": {},
   "outputs": [],
   "source": [
    "def transf(p):\n",
    "    return transform_coordinates_to_lat_long(np.array([p]))"
   ]
  },
  {
   "cell_type": "code",
   "execution_count": 19,
   "metadata": {},
   "outputs": [
    {
     "data": {
      "text/plain": [
       "array([ 79.159274, -92.83503 ])"
      ]
     },
     "execution_count": 19,
     "metadata": {},
     "output_type": "execute_result"
    }
   ],
   "source": [
    "transform_coordinates_to_lat_long(np.array([[-0.00930249, -0.1878493 ,  0.98215381]]))"
   ]
  },
  {
   "cell_type": "code",
   "execution_count": 20,
   "metadata": {},
   "outputs": [],
   "source": [
    "steel_coordinates=coordinates_change(df_gspt)"
   ]
  },
  {
   "cell_type": "code",
   "execution_count": 21,
   "metadata": {},
   "outputs": [],
   "source": [
    "simulated_lat_lon=list(map(transf,multiple_samples_cartesian))\n"
   ]
  },
  {
   "cell_type": "code",
   "execution_count": 22,
   "metadata": {},
   "outputs": [],
   "source": [
    "import scipy\n",
    "from scipy import spatial"
   ]
  },
  {
   "cell_type": "code",
   "execution_count": 24,
   "metadata": {},
   "outputs": [],
   "source": [
    "tuple_steel=[tuple(c) for c in steel_coordinates]"
   ]
  },
  {
   "cell_type": "code",
   "execution_count": 25,
   "metadata": {},
   "outputs": [],
   "source": [
    "def geo(coordinate,h):\n",
    "    \n",
    "    def distance(tuple_steel_coordinate):\n",
    "        return geodesic(coordinate,tuple_steel_coordinate).kilometers /6371 # rayon de la terre\n",
    "    distances=list(map(distance,tuple_steel))\n",
    "    return -sum(distances)/h"
   ]
  },
  {
   "cell_type": "code",
   "execution_count": 26,
   "metadata": {},
   "outputs": [
    {
     "data": {
      "text/plain": [
       "'Brasil'"
      ]
     },
     "execution_count": 26,
     "metadata": {},
     "output_type": "execute_result"
    }
   ],
   "source": [
    "location=geolocator.reverse(simulated_lat_lon[3])\n",
    "country_name = location.raw['address'].get('country', 'Unknown')\n",
    "country_name"
   ]
  },
  {
   "cell_type": "code",
   "execution_count": 29,
   "metadata": {},
   "outputs": [
    {
     "data": {
      "text/html": [
       "<div>\n",
       "<style scoped>\n",
       "    .dataframe tbody tr th:only-of-type {\n",
       "        vertical-align: middle;\n",
       "    }\n",
       "\n",
       "    .dataframe tbody tr th {\n",
       "        vertical-align: top;\n",
       "    }\n",
       "\n",
       "    .dataframe thead th {\n",
       "        text-align: right;\n",
       "    }\n",
       "</style>\n",
       "<table border=\"1\" class=\"dataframe\">\n",
       "  <thead>\n",
       "    <tr style=\"text-align: right;\">\n",
       "      <th></th>\n",
       "      <th>value</th>\n",
       "      <th>latitude</th>\n",
       "      <th>longitude</th>\n",
       "    </tr>\n",
       "  </thead>\n",
       "  <tbody>\n",
       "    <tr>\n",
       "      <th>0</th>\n",
       "      <td>0.000000</td>\n",
       "      <td>51.375000</td>\n",
       "      <td>-178.958333</td>\n",
       "    </tr>\n",
       "    <tr>\n",
       "      <th>1</th>\n",
       "      <td>0.000000</td>\n",
       "      <td>51.875000</td>\n",
       "      <td>-178.208333</td>\n",
       "    </tr>\n",
       "    <tr>\n",
       "      <th>2</th>\n",
       "      <td>0.000000</td>\n",
       "      <td>51.875000</td>\n",
       "      <td>-178.125000</td>\n",
       "    </tr>\n",
       "    <tr>\n",
       "      <th>3</th>\n",
       "      <td>0.000000</td>\n",
       "      <td>51.875000</td>\n",
       "      <td>-178.041667</td>\n",
       "    </tr>\n",
       "    <tr>\n",
       "      <th>4</th>\n",
       "      <td>0.000000</td>\n",
       "      <td>51.875000</td>\n",
       "      <td>-177.958333</td>\n",
       "    </tr>\n",
       "    <tr>\n",
       "      <th>...</th>\n",
       "      <td>...</td>\n",
       "      <td>...</td>\n",
       "      <td>...</td>\n",
       "    </tr>\n",
       "    <tr>\n",
       "      <th>160780</th>\n",
       "      <td>0.000000</td>\n",
       "      <td>52.875000</td>\n",
       "      <td>173.041667</td>\n",
       "    </tr>\n",
       "    <tr>\n",
       "      <th>160781</th>\n",
       "      <td>4348.029150</td>\n",
       "      <td>52.875000</td>\n",
       "      <td>173.125000</td>\n",
       "    </tr>\n",
       "    <tr>\n",
       "      <th>160782</th>\n",
       "      <td>29688.926871</td>\n",
       "      <td>52.875000</td>\n",
       "      <td>173.208333</td>\n",
       "    </tr>\n",
       "    <tr>\n",
       "      <th>160783</th>\n",
       "      <td>0.000000</td>\n",
       "      <td>52.791667</td>\n",
       "      <td>172.791667</td>\n",
       "    </tr>\n",
       "    <tr>\n",
       "      <th>160784</th>\n",
       "      <td>0.000000</td>\n",
       "      <td>52.791667</td>\n",
       "      <td>172.958333</td>\n",
       "    </tr>\n",
       "  </tbody>\n",
       "</table>\n",
       "<p>160785 rows × 3 columns</p>\n",
       "</div>"
      ],
      "text/plain": [
       "               value   latitude   longitude\n",
       "0           0.000000  51.375000 -178.958333\n",
       "1           0.000000  51.875000 -178.208333\n",
       "2           0.000000  51.875000 -178.125000\n",
       "3           0.000000  51.875000 -178.041667\n",
       "4           0.000000  51.875000 -177.958333\n",
       "...              ...        ...         ...\n",
       "160780      0.000000  52.875000  173.041667\n",
       "160781   4348.029150  52.875000  173.125000\n",
       "160782  29688.926871  52.875000  173.208333\n",
       "160783      0.000000  52.791667  172.791667\n",
       "160784      0.000000  52.791667  172.958333\n",
       "\n",
       "[160785 rows x 3 columns]"
      ]
     },
     "execution_count": 29,
     "metadata": {},
     "output_type": "execute_result"
    }
   ],
   "source": [
    "usa=pd.read_hdf(\"C:\\\\Users\\\\Denisa.draghia\\\\Downloads\\\\climada_python-1.2.0\\\\climada_python-1.2.0\\\\data\\\\results\\\\5 minutes\\\\LitPop_pc_300_arcsec_USA_v1.hdf5\")\n",
    "usa=usa.drop(columns=['geometry','region_id','impf_'])\n",
    "usa"
   ]
  },
  {
   "cell_type": "code",
   "execution_count": 30,
   "metadata": {},
   "outputs": [],
   "source": [
    "def geo(lat_lon,h,tuple_steel):\n",
    "    lat, lon = lat_lon\n",
    "    coordinate=np.array([lat,lon])\n",
    "    def distance(tuple_steel_coordinate):\n",
    "        return geodesic(coordinate,tuple_steel_coordinate).kilometers /6371 # rayon de la terre\n",
    "    distances=list(map(distance,tuple_steel))\n",
    "    return -sum(distances)/h"
   ]
  },
  {
   "cell_type": "code",
   "execution_count": 39,
   "metadata": {},
   "outputs": [
    {
     "data": {
      "text/plain": [
       "-9.68797524831873"
      ]
     },
     "execution_count": 39,
     "metadata": {},
     "output_type": "execute_result"
    }
   ],
   "source": [
    "steel_coordinates=coordinates_change(df_gspt)\n",
    "tuple_steel=[tuple(c) for c in steel_coordinates]\n",
    "a=tuple_steel[5]\n",
    "geo(list_usa[1],100,tuple_steel)"
   ]
  },
  {
   "cell_type": "code",
   "execution_count": null,
   "metadata": {},
   "outputs": [],
   "source": [
    "list_usa=[tuple(row) for row in usa.to_records(index=False)]\n",
    "list_usa"
   ]
  }
 ],
 "metadata": {
  "kernelspec": {
   "display_name": "Denisa.draghia-IwxA2Vx_",
   "language": "python",
   "name": "python3"
  },
  "language_info": {
   "codemirror_mode": {
    "name": "ipython",
    "version": 3
   },
   "file_extension": ".py",
   "mimetype": "text/x-python",
   "name": "python",
   "nbconvert_exporter": "python",
   "pygments_lexer": "ipython3",
   "version": "3.9.13"
  },
  "orig_nbformat": 4
 },
 "nbformat": 4,
 "nbformat_minor": 2
}
