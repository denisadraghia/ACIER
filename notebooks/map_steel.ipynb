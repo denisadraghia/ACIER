{
 "cells": [
  {
   "attachments": {},
   "cell_type": "markdown",
   "metadata": {},
   "source": [
    "## GSPT Steel plants"
   ]
  },
  {
   "cell_type": "code",
   "execution_count": 3,
   "metadata": {},
   "outputs": [],
   "source": [
    "import warnings\n",
    "warnings.filterwarnings('ignore')"
   ]
  },
  {
   "cell_type": "code",
   "execution_count": 1,
   "metadata": {},
   "outputs": [],
   "source": [
    "GSPT_path = \"steel.xlsx\"\n",
    "import pandas as pd"
   ]
  },
  {
   "cell_type": "code",
   "execution_count": 31,
   "metadata": {},
   "outputs": [
    {
     "data": {
      "text/plain": [
       "848"
      ]
     },
     "execution_count": 31,
     "metadata": {},
     "output_type": "execute_result"
    }
   ],
   "source": [
    "df_gspt1= gspt.get_operating_plants(start_year=2019,end_year=2019,melt=False)\n",
    "df_gspt=df_gspt1.drop_duplicates([\"Coordinates\"])\n",
    "df_gspt1[[\"lat\", \"lon\"]] = df_gspt1[\"Coordinates\"].str.split(\",\",expand=True).astype(float)\n",
    "len(df_gspt1)"
   ]
  },
  {
   "cell_type": "code",
   "execution_count": 28,
   "metadata": {},
   "outputs": [],
   "source": [
    "from src.GSPTDataset import GSPTDataset\n",
    "gspt = GSPTDataset(data_path=\"data\\\\raw_data\\\\Global-Steel-Plant-Tracker-2023-03-2.xlsx\",\n",
    "                        missing_years_path=\"data\\\\raw_data\\\\filled_missing_start_years.xlsx\",\n",
    "                        version_year=2023,\n",
    "                        gspt2gspt_path=\"data\\\\raw_data\\\\GSPT2GSPT.json\")\n",
    "'''Database with operating steel plants in 2019'''\n",
    "df_gspt= gspt.get_operating_plants(start_year=2019,end_year=2019,melt=True)\n",
    "df_gspt=df_gspt.drop_duplicates([\"Coordinates\"])\n",
    "df_gspt[[\"lat\", \"lon\"]] = df_gspt[\"Coordinates\"].str.split(\",\",expand=True).astype(float)"
   ]
  },
  {
   "cell_type": "code",
   "execution_count": 34,
   "metadata": {},
   "outputs": [],
   "source": [
    "df_gspt[[\"lat\", \"lon\"]] = df_gspt[\"Coordinates\"].str.split(\",\",expand=True).astype(float)"
   ]
  },
  {
   "cell_type": "code",
   "execution_count": 50,
   "metadata": {},
   "outputs": [
    {
     "data": {
      "application/vnd.plotly.v1+json": {
       "config": {
        "plotlyServerURL": "https://plot.ly"
       },
       "data": [
        {
         "customdata": [
          [
           "Africa",
           "Algeria"
          ],
          [
           "Africa",
           "Algeria"
          ],
          [
           "Africa",
           "Algeria"
          ],
          [
           "Africa",
           "Angola"
          ],
          [
           "Africa",
           "Egypt"
          ],
          [
           "Africa",
           "Egypt"
          ],
          [
           "Africa",
           "Egypt"
          ],
          [
           "Africa",
           "Egypt"
          ],
          [
           "Africa",
           "Egypt"
          ],
          [
           "Africa",
           "Egypt"
          ],
          [
           "Africa",
           "Egypt"
          ],
          [
           "Africa",
           "Egypt"
          ],
          [
           "Africa",
           "Egypt"
          ],
          [
           "Africa",
           "Ghana"
          ],
          [
           "Africa",
           "Libya"
          ],
          [
           "Africa",
           "Morocco"
          ],
          [
           "Africa",
           "Morocco"
          ],
          [
           "Africa",
           "Nigeria"
          ],
          [
           "Africa",
           "South Africa"
          ],
          [
           "Africa",
           "South Africa"
          ],
          [
           "Africa",
           "South Africa"
          ],
          [
           "Africa",
           "South Africa"
          ],
          [
           "Africa",
           "Uganda"
          ],
          [
           "Asia Pacific",
           "Australia"
          ],
          [
           "Asia Pacific",
           "Australia"
          ],
          [
           "Asia Pacific",
           "Australia"
          ],
          [
           "Asia Pacific",
           "Australia"
          ],
          [
           "Asia Pacific",
           "Bangladesh"
          ],
          [
           "Asia Pacific",
           "Bangladesh"
          ],
          [
           "Asia Pacific",
           "Bangladesh"
          ],
          [
           "Asia Pacific",
           "Bangladesh"
          ],
          [
           "Asia Pacific",
           "Bangladesh"
          ],
          [
           "Asia Pacific",
           "China"
          ],
          [
           "Asia Pacific",
           "China"
          ],
          [
           "Asia Pacific",
           "China"
          ],
          [
           "Asia Pacific",
           "China"
          ],
          [
           "Asia Pacific",
           "China"
          ],
          [
           "Asia Pacific",
           "China"
          ],
          [
           "Asia Pacific",
           "China"
          ],
          [
           "Asia Pacific",
           "China"
          ],
          [
           "Asia Pacific",
           "China"
          ],
          [
           "Asia Pacific",
           "China"
          ],
          [
           "Asia Pacific",
           "China"
          ],
          [
           "Asia Pacific",
           "China"
          ],
          [
           "Asia Pacific",
           "China"
          ],
          [
           "Asia Pacific",
           "China"
          ],
          [
           "Asia Pacific",
           "China"
          ],
          [
           "Asia Pacific",
           "China"
          ],
          [
           "Asia Pacific",
           "China"
          ],
          [
           "Asia Pacific",
           "China"
          ],
          [
           "Asia Pacific",
           "China"
          ],
          [
           "Asia Pacific",
           "China"
          ],
          [
           "Asia Pacific",
           "China"
          ],
          [
           "Asia Pacific",
           "China"
          ],
          [
           "Asia Pacific",
           "China"
          ],
          [
           "Asia Pacific",
           "China"
          ],
          [
           "Asia Pacific",
           "China"
          ],
          [
           "Asia Pacific",
           "China"
          ],
          [
           "Asia Pacific",
           "China"
          ],
          [
           "Asia Pacific",
           "China"
          ],
          [
           "Asia Pacific",
           "China"
          ],
          [
           "Asia Pacific",
           "China"
          ],
          [
           "Asia Pacific",
           "China"
          ],
          [
           "Asia Pacific",
           "China"
          ],
          [
           "Asia Pacific",
           "China"
          ],
          [
           "Asia Pacific",
           "China"
          ],
          [
           "Asia Pacific",
           "China"
          ],
          [
           "Asia Pacific",
           "China"
          ],
          [
           "Asia Pacific",
           "China"
          ],
          [
           "Asia Pacific",
           "China"
          ],
          [
           "Asia Pacific",
           "China"
          ],
          [
           "Asia Pacific",
           "China"
          ],
          [
           "Asia Pacific",
           "China"
          ],
          [
           "Asia Pacific",
           "China"
          ],
          [
           "Asia Pacific",
           "China"
          ],
          [
           "Asia Pacific",
           "China"
          ],
          [
           "Asia Pacific",
           "China"
          ],
          [
           "Asia Pacific",
           "China"
          ],
          [
           "Asia Pacific",
           "China"
          ],
          [
           "Asia Pacific",
           "China"
          ],
          [
           "Asia Pacific",
           "China"
          ],
          [
           "Asia Pacific",
           "China"
          ],
          [
           "Asia Pacific",
           "China"
          ],
          [
           "Asia Pacific",
           "China"
          ],
          [
           "Asia Pacific",
           "China"
          ],
          [
           "Asia Pacific",
           "China"
          ],
          [
           "Asia Pacific",
           "China"
          ],
          [
           "Asia Pacific",
           "China"
          ],
          [
           "Asia Pacific",
           "China"
          ],
          [
           "Asia Pacific",
           "China"
          ],
          [
           "Asia Pacific",
           "China"
          ],
          [
           "Asia Pacific",
           "China"
          ],
          [
           "Asia Pacific",
           "China"
          ],
          [
           "Asia Pacific",
           "China"
          ],
          [
           "Asia Pacific",
           "China"
          ],
          [
           "Asia Pacific",
           "China"
          ],
          [
           "Asia Pacific",
           "China"
          ],
          [
           "Asia Pacific",
           "China"
          ],
          [
           "Asia Pacific",
           "China"
          ],
          [
           "Asia Pacific",
           "China"
          ],
          [
           "Asia Pacific",
           "China"
          ],
          [
           "Asia Pacific",
           "China"
          ],
          [
           "Asia Pacific",
           "China"
          ],
          [
           "Asia Pacific",
           "China"
          ],
          [
           "Asia Pacific",
           "China"
          ],
          [
           "Asia Pacific",
           "China"
          ],
          [
           "Asia Pacific",
           "China"
          ],
          [
           "Asia Pacific",
           "China"
          ],
          [
           "Asia Pacific",
           "China"
          ],
          [
           "Asia Pacific",
           "China"
          ],
          [
           "Asia Pacific",
           "China"
          ],
          [
           "Asia Pacific",
           "China"
          ],
          [
           "Asia Pacific",
           "China"
          ],
          [
           "Asia Pacific",
           "China"
          ],
          [
           "Asia Pacific",
           "China"
          ],
          [
           "Asia Pacific",
           "China"
          ],
          [
           "Asia Pacific",
           "China"
          ],
          [
           "Asia Pacific",
           "China"
          ],
          [
           "Asia Pacific",
           "China"
          ],
          [
           "Asia Pacific",
           "China"
          ],
          [
           "Asia Pacific",
           "China"
          ],
          [
           "Asia Pacific",
           "China"
          ],
          [
           "Asia Pacific",
           "China"
          ],
          [
           "Asia Pacific",
           "China"
          ],
          [
           "Asia Pacific",
           "China"
          ],
          [
           "Asia Pacific",
           "China"
          ],
          [
           "Asia Pacific",
           "China"
          ],
          [
           "Asia Pacific",
           "China"
          ],
          [
           "Asia Pacific",
           "China"
          ],
          [
           "Asia Pacific",
           "China"
          ],
          [
           "Asia Pacific",
           "China"
          ],
          [
           "Asia Pacific",
           "China"
          ],
          [
           "Asia Pacific",
           "China"
          ],
          [
           "Asia Pacific",
           "China"
          ],
          [
           "Asia Pacific",
           "China"
          ],
          [
           "Asia Pacific",
           "China"
          ],
          [
           "Asia Pacific",
           "China"
          ],
          [
           "Asia Pacific",
           "China"
          ],
          [
           "Asia Pacific",
           "China"
          ],
          [
           "Asia Pacific",
           "China"
          ],
          [
           "Asia Pacific",
           "China"
          ],
          [
           "Asia Pacific",
           "China"
          ],
          [
           "Asia Pacific",
           "China"
          ],
          [
           "Asia Pacific",
           "China"
          ],
          [
           "Asia Pacific",
           "China"
          ],
          [
           "Asia Pacific",
           "China"
          ],
          [
           "Asia Pacific",
           "China"
          ],
          [
           "Asia Pacific",
           "China"
          ],
          [
           "Asia Pacific",
           "China"
          ],
          [
           "Asia Pacific",
           "China"
          ],
          [
           "Asia Pacific",
           "China"
          ],
          [
           "Asia Pacific",
           "China"
          ],
          [
           "Asia Pacific",
           "China"
          ],
          [
           "Asia Pacific",
           "China"
          ],
          [
           "Asia Pacific",
           "China"
          ],
          [
           "Asia Pacific",
           "China"
          ],
          [
           "Asia Pacific",
           "China"
          ],
          [
           "Asia Pacific",
           "China"
          ],
          [
           "Asia Pacific",
           "China"
          ],
          [
           "Asia Pacific",
           "China"
          ],
          [
           "Asia Pacific",
           "China"
          ],
          [
           "Asia Pacific",
           "China"
          ],
          [
           "Asia Pacific",
           "China"
          ],
          [
           "Asia Pacific",
           "China"
          ],
          [
           "Asia Pacific",
           "China"
          ],
          [
           "Asia Pacific",
           "China"
          ],
          [
           "Asia Pacific",
           "China"
          ],
          [
           "Asia Pacific",
           "China"
          ],
          [
           "Asia Pacific",
           "China"
          ],
          [
           "Asia Pacific",
           "China"
          ],
          [
           "Asia Pacific",
           "China"
          ],
          [
           "Asia Pacific",
           "China"
          ],
          [
           "Asia Pacific",
           "China"
          ],
          [
           "Asia Pacific",
           "China"
          ],
          [
           "Asia Pacific",
           "China"
          ],
          [
           "Asia Pacific",
           "China"
          ],
          [
           "Asia Pacific",
           "China"
          ],
          [
           "Asia Pacific",
           "China"
          ],
          [
           "Asia Pacific",
           "China"
          ],
          [
           "Asia Pacific",
           "China"
          ],
          [
           "Asia Pacific",
           "China"
          ],
          [
           "Asia Pacific",
           "China"
          ],
          [
           "Asia Pacific",
           "China"
          ],
          [
           "Asia Pacific",
           "China"
          ],
          [
           "Asia Pacific",
           "China"
          ],
          [
           "Asia Pacific",
           "China"
          ],
          [
           "Asia Pacific",
           "China"
          ],
          [
           "Asia Pacific",
           "China"
          ],
          [
           "Asia Pacific",
           "China"
          ],
          [
           "Asia Pacific",
           "China"
          ],
          [
           "Asia Pacific",
           "China"
          ],
          [
           "Asia Pacific",
           "China"
          ],
          [
           "Asia Pacific",
           "China"
          ],
          [
           "Asia Pacific",
           "China"
          ],
          [
           "Asia Pacific",
           "China"
          ],
          [
           "Asia Pacific",
           "China"
          ],
          [
           "Asia Pacific",
           "China"
          ],
          [
           "Asia Pacific",
           "China"
          ],
          [
           "Asia Pacific",
           "China"
          ],
          [
           "Asia Pacific",
           "China"
          ],
          [
           "Asia Pacific",
           "China"
          ],
          [
           "Asia Pacific",
           "China"
          ],
          [
           "Asia Pacific",
           "China"
          ],
          [
           "Asia Pacific",
           "China"
          ],
          [
           "Asia Pacific",
           "China"
          ],
          [
           "Asia Pacific",
           "China"
          ],
          [
           "Asia Pacific",
           "China"
          ],
          [
           "Asia Pacific",
           "China"
          ],
          [
           "Asia Pacific",
           "China"
          ],
          [
           "Asia Pacific",
           "China"
          ],
          [
           "Asia Pacific",
           "China"
          ],
          [
           "Asia Pacific",
           "China"
          ],
          [
           "Asia Pacific",
           "China"
          ],
          [
           "Asia Pacific",
           "China"
          ],
          [
           "Asia Pacific",
           "China"
          ],
          [
           "Asia Pacific",
           "China"
          ],
          [
           "Asia Pacific",
           "China"
          ],
          [
           "Asia Pacific",
           "China"
          ],
          [
           "Asia Pacific",
           "China"
          ],
          [
           "Asia Pacific",
           "China"
          ],
          [
           "Asia Pacific",
           "China"
          ],
          [
           "Asia Pacific",
           "China"
          ],
          [
           "Asia Pacific",
           "China"
          ],
          [
           "Asia Pacific",
           "China"
          ],
          [
           "Asia Pacific",
           "China"
          ],
          [
           "Asia Pacific",
           "China"
          ],
          [
           "Asia Pacific",
           "China"
          ],
          [
           "Asia Pacific",
           "China"
          ],
          [
           "Asia Pacific",
           "China"
          ],
          [
           "Asia Pacific",
           "China"
          ],
          [
           "Asia Pacific",
           "China"
          ],
          [
           "Asia Pacific",
           "China"
          ],
          [
           "Asia Pacific",
           "China"
          ],
          [
           "Asia Pacific",
           "China"
          ],
          [
           "Asia Pacific",
           "China"
          ],
          [
           "Asia Pacific",
           "China"
          ],
          [
           "Asia Pacific",
           "China"
          ],
          [
           "Asia Pacific",
           "China"
          ],
          [
           "Asia Pacific",
           "China"
          ],
          [
           "Asia Pacific",
           "China"
          ],
          [
           "Asia Pacific",
           "China"
          ],
          [
           "Asia Pacific",
           "China"
          ],
          [
           "Asia Pacific",
           "China"
          ],
          [
           "Asia Pacific",
           "China"
          ],
          [
           "Asia Pacific",
           "China"
          ],
          [
           "Asia Pacific",
           "China"
          ],
          [
           "Asia Pacific",
           "China"
          ],
          [
           "Asia Pacific",
           "China"
          ],
          [
           "Asia Pacific",
           "China"
          ],
          [
           "Asia Pacific",
           "China"
          ],
          [
           "Asia Pacific",
           "China"
          ],
          [
           "Asia Pacific",
           "China"
          ],
          [
           "Asia Pacific",
           "China"
          ],
          [
           "Asia Pacific",
           "China"
          ],
          [
           "Asia Pacific",
           "China"
          ],
          [
           "Asia Pacific",
           "China"
          ],
          [
           "Asia Pacific",
           "China"
          ],
          [
           "Asia Pacific",
           "China"
          ],
          [
           "Asia Pacific",
           "China"
          ],
          [
           "Asia Pacific",
           "China"
          ],
          [
           "Asia Pacific",
           "China"
          ],
          [
           "Asia Pacific",
           "China"
          ],
          [
           "Asia Pacific",
           "China"
          ],
          [
           "Asia Pacific",
           "China"
          ],
          [
           "Asia Pacific",
           "China"
          ],
          [
           "Asia Pacific",
           "China"
          ],
          [
           "Asia Pacific",
           "China"
          ],
          [
           "Asia Pacific",
           "China"
          ],
          [
           "Asia Pacific",
           "China"
          ],
          [
           "Asia Pacific",
           "China"
          ],
          [
           "Asia Pacific",
           "China"
          ],
          [
           "Asia Pacific",
           "China"
          ],
          [
           "Asia Pacific",
           "China"
          ],
          [
           "Asia Pacific",
           "China"
          ],
          [
           "Asia Pacific",
           "China"
          ],
          [
           "Asia Pacific",
           "China"
          ],
          [
           "Asia Pacific",
           "China"
          ],
          [
           "Asia Pacific",
           "China"
          ],
          [
           "Asia Pacific",
           "China"
          ],
          [
           "Asia Pacific",
           "China"
          ],
          [
           "Asia Pacific",
           "China"
          ],
          [
           "Asia Pacific",
           "China"
          ],
          [
           "Asia Pacific",
           "China"
          ],
          [
           "Asia Pacific",
           "China"
          ],
          [
           "Asia Pacific",
           "China"
          ],
          [
           "Asia Pacific",
           "China"
          ],
          [
           "Asia Pacific",
           "China"
          ],
          [
           "Asia Pacific",
           "China"
          ],
          [
           "Asia Pacific",
           "China"
          ],
          [
           "Asia Pacific",
           "China"
          ],
          [
           "Asia Pacific",
           "China"
          ],
          [
           "Asia Pacific",
           "China"
          ],
          [
           "Asia Pacific",
           "China"
          ],
          [
           "Asia Pacific",
           "China"
          ],
          [
           "Asia Pacific",
           "China"
          ],
          [
           "Asia Pacific",
           "China"
          ],
          [
           "Asia Pacific",
           "China"
          ],
          [
           "Asia Pacific",
           "China"
          ],
          [
           "Asia Pacific",
           "China"
          ],
          [
           "Asia Pacific",
           "China"
          ],
          [
           "Asia Pacific",
           "China"
          ],
          [
           "Asia Pacific",
           "China"
          ],
          [
           "Asia Pacific",
           "China"
          ],
          [
           "Asia Pacific",
           "China"
          ],
          [
           "Asia Pacific",
           "China"
          ],
          [
           "Asia Pacific",
           "China"
          ],
          [
           "Asia Pacific",
           "China"
          ],
          [
           "Asia Pacific",
           "China"
          ],
          [
           "Asia Pacific",
           "China"
          ],
          [
           "Asia Pacific",
           "China"
          ],
          [
           "Asia Pacific",
           "China"
          ],
          [
           "Asia Pacific",
           "China"
          ],
          [
           "Asia Pacific",
           "China"
          ],
          [
           "Asia Pacific",
           "China"
          ],
          [
           "Asia Pacific",
           "China"
          ],
          [
           "Asia Pacific",
           "China"
          ],
          [
           "Asia Pacific",
           "China"
          ],
          [
           "Asia Pacific",
           "China"
          ],
          [
           "Asia Pacific",
           "China"
          ],
          [
           "Asia Pacific",
           "China"
          ],
          [
           "Asia Pacific",
           "China"
          ],
          [
           "Asia Pacific",
           "China"
          ],
          [
           "Asia Pacific",
           "China"
          ],
          [
           "Asia Pacific",
           "China"
          ],
          [
           "Asia Pacific",
           "China"
          ],
          [
           "Asia Pacific",
           "China"
          ],
          [
           "Asia Pacific",
           "China"
          ],
          [
           "Asia Pacific",
           "China"
          ],
          [
           "Asia Pacific",
           "China"
          ],
          [
           "Asia Pacific",
           "China"
          ],
          [
           "Asia Pacific",
           "China"
          ],
          [
           "Asia Pacific",
           "China"
          ],
          [
           "Asia Pacific",
           "China"
          ],
          [
           "Asia Pacific",
           "China"
          ],
          [
           "Asia Pacific",
           "China"
          ],
          [
           "Asia Pacific",
           "China"
          ],
          [
           "Asia Pacific",
           "China"
          ],
          [
           "Asia Pacific",
           "China"
          ],
          [
           "Asia Pacific",
           "China"
          ],
          [
           "Asia Pacific",
           "China"
          ],
          [
           "Asia Pacific",
           "China"
          ],
          [
           "Asia Pacific",
           "China"
          ],
          [
           "Asia Pacific",
           "China"
          ],
          [
           "Asia Pacific",
           "China"
          ],
          [
           "Asia Pacific",
           "China"
          ],
          [
           "Asia Pacific",
           "China"
          ],
          [
           "Asia Pacific",
           "China"
          ],
          [
           "Asia Pacific",
           "China"
          ],
          [
           "Asia Pacific",
           "China"
          ],
          [
           "Asia Pacific",
           "China"
          ],
          [
           "Asia Pacific",
           "China"
          ],
          [
           "Asia Pacific",
           "China"
          ],
          [
           "Asia Pacific",
           "China"
          ],
          [
           "Asia Pacific",
           "China"
          ],
          [
           "Asia Pacific",
           "China"
          ],
          [
           "Asia Pacific",
           "China"
          ],
          [
           "Asia Pacific",
           "China"
          ],
          [
           "Asia Pacific",
           "China"
          ],
          [
           "Asia Pacific",
           "China"
          ],
          [
           "Asia Pacific",
           "China"
          ],
          [
           "Asia Pacific",
           "India"
          ],
          [
           "Asia Pacific",
           "India"
          ],
          [
           "Asia Pacific",
           "India"
          ],
          [
           "Asia Pacific",
           "India"
          ],
          [
           "Asia Pacific",
           "India"
          ],
          [
           "Asia Pacific",
           "India"
          ],
          [
           "Asia Pacific",
           "India"
          ],
          [
           "Asia Pacific",
           "India"
          ],
          [
           "Asia Pacific",
           "India"
          ],
          [
           "Asia Pacific",
           "India"
          ],
          [
           "Asia Pacific",
           "India"
          ],
          [
           "Asia Pacific",
           "India"
          ],
          [
           "Asia Pacific",
           "India"
          ],
          [
           "Asia Pacific",
           "India"
          ],
          [
           "Asia Pacific",
           "India"
          ],
          [
           "Asia Pacific",
           "India"
          ],
          [
           "Asia Pacific",
           "India"
          ],
          [
           "Asia Pacific",
           "India"
          ],
          [
           "Asia Pacific",
           "India"
          ],
          [
           "Asia Pacific",
           "India"
          ],
          [
           "Asia Pacific",
           "India"
          ],
          [
           "Asia Pacific",
           "India"
          ],
          [
           "Asia Pacific",
           "India"
          ],
          [
           "Asia Pacific",
           "India"
          ],
          [
           "Asia Pacific",
           "India"
          ],
          [
           "Asia Pacific",
           "India"
          ],
          [
           "Asia Pacific",
           "India"
          ],
          [
           "Asia Pacific",
           "India"
          ],
          [
           "Asia Pacific",
           "India"
          ],
          [
           "Asia Pacific",
           "India"
          ],
          [
           "Asia Pacific",
           "India"
          ],
          [
           "Asia Pacific",
           "India"
          ],
          [
           "Asia Pacific",
           "India"
          ],
          [
           "Asia Pacific",
           "India"
          ],
          [
           "Asia Pacific",
           "India"
          ],
          [
           "Asia Pacific",
           "India"
          ],
          [
           "Asia Pacific",
           "India"
          ],
          [
           "Asia Pacific",
           "India"
          ],
          [
           "Asia Pacific",
           "India"
          ],
          [
           "Asia Pacific",
           "India"
          ],
          [
           "Asia Pacific",
           "India"
          ],
          [
           "Asia Pacific",
           "India"
          ],
          [
           "Asia Pacific",
           "India"
          ],
          [
           "Asia Pacific",
           "India"
          ],
          [
           "Asia Pacific",
           "India"
          ],
          [
           "Asia Pacific",
           "Indonesia"
          ],
          [
           "Asia Pacific",
           "Indonesia"
          ],
          [
           "Asia Pacific",
           "Indonesia"
          ],
          [
           "Asia Pacific",
           "Indonesia"
          ],
          [
           "Asia Pacific",
           "Indonesia"
          ],
          [
           "Asia Pacific",
           "Japan"
          ],
          [
           "Asia Pacific",
           "Japan"
          ],
          [
           "Asia Pacific",
           "Japan"
          ],
          [
           "Asia Pacific",
           "Japan"
          ],
          [
           "Asia Pacific",
           "Japan"
          ],
          [
           "Asia Pacific",
           "Japan"
          ],
          [
           "Asia Pacific",
           "Japan"
          ],
          [
           "Asia Pacific",
           "Japan"
          ],
          [
           "Asia Pacific",
           "Japan"
          ],
          [
           "Asia Pacific",
           "Japan"
          ],
          [
           "Asia Pacific",
           "Japan"
          ],
          [
           "Asia Pacific",
           "Japan"
          ],
          [
           "Asia Pacific",
           "Japan"
          ],
          [
           "Asia Pacific",
           "Japan"
          ],
          [
           "Asia Pacific",
           "Japan"
          ],
          [
           "Asia Pacific",
           "Japan"
          ],
          [
           "Asia Pacific",
           "Japan"
          ],
          [
           "Asia Pacific",
           "Japan"
          ],
          [
           "Asia Pacific",
           "Japan"
          ],
          [
           "Asia Pacific",
           "Japan"
          ],
          [
           "Asia Pacific",
           "Japan"
          ],
          [
           "Asia Pacific",
           "Japan"
          ],
          [
           "Asia Pacific",
           "Japan"
          ],
          [
           "Asia Pacific",
           "Japan"
          ],
          [
           "Asia Pacific",
           "Japan"
          ],
          [
           "Asia Pacific",
           "Japan"
          ],
          [
           "Asia Pacific",
           "Japan"
          ],
          [
           "Asia Pacific",
           "Japan"
          ],
          [
           "Asia Pacific",
           "Japan"
          ],
          [
           "Asia Pacific",
           "Japan"
          ],
          [
           "Asia Pacific",
           "Japan"
          ],
          [
           "Asia Pacific",
           "Japan"
          ],
          [
           "Asia Pacific",
           "Japan"
          ],
          [
           "Asia Pacific",
           "Japan"
          ],
          [
           "Asia Pacific",
           "Japan"
          ],
          [
           "Asia Pacific",
           "Japan"
          ],
          [
           "Asia Pacific",
           "Japan"
          ],
          [
           "Asia Pacific",
           "Japan"
          ],
          [
           "Asia Pacific",
           "Japan"
          ],
          [
           "Asia Pacific",
           "Malaysia"
          ],
          [
           "Asia Pacific",
           "Malaysia"
          ],
          [
           "Asia Pacific",
           "Malaysia"
          ],
          [
           "Asia Pacific",
           "Malaysia"
          ],
          [
           "Asia Pacific",
           "Malaysia"
          ],
          [
           "Asia Pacific",
           "Malaysia"
          ],
          [
           "Asia Pacific",
           "Malaysia"
          ],
          [
           "Asia Pacific",
           "Malaysia"
          ],
          [
           "Asia Pacific",
           "Malaysia"
          ],
          [
           "Asia Pacific",
           "Malaysia"
          ],
          [
           "Asia Pacific",
           "New Zealand"
          ],
          [
           "Asia Pacific",
           "North Korea"
          ],
          [
           "Asia Pacific",
           "North Korea"
          ],
          [
           "Asia Pacific",
           "North Korea"
          ],
          [
           "Asia Pacific",
           "North Korea"
          ],
          [
           "Asia Pacific",
           "Pakistan"
          ],
          [
           "Asia Pacific",
           "Pakistan"
          ],
          [
           "Asia Pacific",
           "Philippines"
          ],
          [
           "Asia Pacific",
           "Singapore"
          ],
          [
           "Asia Pacific",
           "South Korea"
          ],
          [
           "Asia Pacific",
           "South Korea"
          ],
          [
           "Asia Pacific",
           "South Korea"
          ],
          [
           "Asia Pacific",
           "South Korea"
          ],
          [
           "Asia Pacific",
           "South Korea"
          ],
          [
           "Asia Pacific",
           "South Korea"
          ],
          [
           "Asia Pacific",
           "South Korea"
          ],
          [
           "Asia Pacific",
           "South Korea"
          ],
          [
           "Asia Pacific",
           "South Korea"
          ],
          [
           "Asia Pacific",
           "South Korea"
          ],
          [
           "Asia Pacific",
           "South Korea"
          ],
          [
           "Asia Pacific",
           "South Korea"
          ],
          [
           "Asia Pacific",
           "South Korea"
          ],
          [
           "Asia Pacific",
           "South Korea"
          ],
          [
           "Asia Pacific",
           "South Korea"
          ],
          [
           "Asia Pacific",
           "Taiwan"
          ],
          [
           "Asia Pacific",
           "Taiwan"
          ],
          [
           "Asia Pacific",
           "Taiwan"
          ],
          [
           "Asia Pacific",
           "Taiwan"
          ],
          [
           "Asia Pacific",
           "Taiwan"
          ],
          [
           "Asia Pacific",
           "Taiwan"
          ],
          [
           "Asia Pacific",
           "Taiwan"
          ],
          [
           "Asia Pacific",
           "Thailand"
          ],
          [
           "Asia Pacific",
           "Thailand"
          ],
          [
           "Asia Pacific",
           "Thailand"
          ],
          [
           "Asia Pacific",
           "Thailand"
          ],
          [
           "Asia Pacific",
           "Thailand"
          ],
          [
           "Asia Pacific",
           "Thailand"
          ],
          [
           "Asia Pacific",
           "Thailand"
          ],
          [
           "Asia Pacific",
           "Thailand"
          ],
          [
           "Asia Pacific",
           "Thailand"
          ],
          [
           "Asia Pacific",
           "Vietnam"
          ],
          [
           "Asia Pacific",
           "Vietnam"
          ],
          [
           "Asia Pacific",
           "Vietnam"
          ],
          [
           "Asia Pacific",
           "Vietnam"
          ],
          [
           "Asia Pacific",
           "Vietnam"
          ],
          [
           "Asia Pacific",
           "Vietnam"
          ],
          [
           "Asia Pacific",
           "Vietnam"
          ],
          [
           "Asia Pacific",
           "Vietnam"
          ],
          [
           "Asia Pacific",
           "Vietnam"
          ],
          [
           "Asia Pacific",
           "Vietnam"
          ],
          [
           "Asia Pacific",
           "Vietnam"
          ],
          [
           "Asia Pacific",
           "Vietnam"
          ],
          [
           "Asia Pacific",
           "Vietnam"
          ],
          [
           "Asia Pacific",
           "Vietnam"
          ],
          [
           "Central & South America",
           "Argentina"
          ],
          [
           "Central & South America",
           "Argentina"
          ],
          [
           "Central & South America",
           "Argentina"
          ],
          [
           "Central & South America",
           "Argentina"
          ],
          [
           "Central & South America",
           "Brazil"
          ],
          [
           "Central & South America",
           "Brazil"
          ],
          [
           "Central & South America",
           "Brazil"
          ],
          [
           "Central & South America",
           "Brazil"
          ],
          [
           "Central & South America",
           "Brazil"
          ],
          [
           "Central & South America",
           "Brazil"
          ],
          [
           "Central & South America",
           "Brazil"
          ],
          [
           "Central & South America",
           "Brazil"
          ],
          [
           "Central & South America",
           "Brazil"
          ],
          [
           "Central & South America",
           "Brazil"
          ],
          [
           "Central & South America",
           "Brazil"
          ],
          [
           "Central & South America",
           "Brazil"
          ],
          [
           "Central & South America",
           "Brazil"
          ],
          [
           "Central & South America",
           "Brazil"
          ],
          [
           "Central & South America",
           "Brazil"
          ],
          [
           "Central & South America",
           "Brazil"
          ],
          [
           "Central & South America",
           "Brazil"
          ],
          [
           "Central & South America",
           "Brazil"
          ],
          [
           "Central & South America",
           "Brazil"
          ],
          [
           "Central & South America",
           "Brazil"
          ],
          [
           "Central & South America",
           "Brazil"
          ],
          [
           "Central & South America",
           "Chile"
          ],
          [
           "Central & South America",
           "Chile"
          ],
          [
           "Central & South America",
           "Guatemala"
          ],
          [
           "Central & South America",
           "Peru"
          ],
          [
           "Central & South America",
           "Peru"
          ],
          [
           "Central & South America",
           "Venezuela"
          ],
          [
           "Eurasia",
           "Azerbaijan"
          ],
          [
           "Eurasia",
           "Georgia"
          ],
          [
           "Eurasia",
           "Kazakhstan"
          ],
          [
           "Eurasia",
           "Kazakhstan"
          ],
          [
           "Eurasia",
           "Russia"
          ],
          [
           "Eurasia",
           "Russia"
          ],
          [
           "Eurasia",
           "Russia"
          ],
          [
           "Eurasia",
           "Russia"
          ],
          [
           "Eurasia",
           "Russia"
          ],
          [
           "Eurasia",
           "Russia"
          ],
          [
           "Eurasia",
           "Russia"
          ],
          [
           "Eurasia",
           "Russia"
          ],
          [
           "Eurasia",
           "Russia"
          ],
          [
           "Eurasia",
           "Russia"
          ],
          [
           "Eurasia",
           "Russia"
          ],
          [
           "Eurasia",
           "Russia"
          ],
          [
           "Eurasia",
           "Russia"
          ],
          [
           "Eurasia",
           "Russia"
          ],
          [
           "Eurasia",
           "Russia"
          ],
          [
           "Eurasia",
           "Russia"
          ],
          [
           "Eurasia",
           "Russia"
          ],
          [
           "Eurasia",
           "Russia"
          ],
          [
           "Eurasia",
           "Russia"
          ],
          [
           "Eurasia",
           "Russia"
          ],
          [
           "Eurasia",
           "Russia"
          ],
          [
           "Eurasia",
           "Russia"
          ],
          [
           "Eurasia",
           "Russia"
          ],
          [
           "Eurasia",
           "Russia"
          ],
          [
           "Eurasia",
           "Russia"
          ],
          [
           "Eurasia",
           "Russia"
          ],
          [
           "Eurasia",
           "Uzbekistan"
          ],
          [
           "Europe",
           "Albania"
          ],
          [
           "Europe",
           "Austria"
          ],
          [
           "Europe",
           "Austria"
          ],
          [
           "Europe",
           "Belarus"
          ],
          [
           "Europe",
           "Belgium"
          ],
          [
           "Europe",
           "Belgium"
          ],
          [
           "Europe",
           "Belgium"
          ],
          [
           "Europe",
           "Bosnia and Herzegovina"
          ],
          [
           "Europe",
           "Bulgaria"
          ],
          [
           "Europe",
           "Croatia"
          ],
          [
           "Europe",
           "Czech Republic"
          ],
          [
           "Europe",
           "Czech Republic"
          ],
          [
           "Europe",
           "Finland"
          ],
          [
           "Europe",
           "Finland"
          ],
          [
           "Europe",
           "Finland"
          ],
          [
           "Europe",
           "France"
          ],
          [
           "Europe",
           "France"
          ],
          [
           "Europe",
           "France"
          ],
          [
           "Europe",
           "France"
          ],
          [
           "Europe",
           "France"
          ],
          [
           "Europe",
           "France"
          ],
          [
           "Europe",
           "France"
          ],
          [
           "Europe",
           "Germany"
          ],
          [
           "Europe",
           "Germany"
          ],
          [
           "Europe",
           "Germany"
          ],
          [
           "Europe",
           "Germany"
          ],
          [
           "Europe",
           "Germany"
          ],
          [
           "Europe",
           "Germany"
          ],
          [
           "Europe",
           "Germany"
          ],
          [
           "Europe",
           "Germany"
          ],
          [
           "Europe",
           "Germany"
          ],
          [
           "Europe",
           "Germany"
          ],
          [
           "Europe",
           "Germany"
          ],
          [
           "Europe",
           "Germany"
          ],
          [
           "Europe",
           "Germany"
          ],
          [
           "Europe",
           "Germany"
          ],
          [
           "Europe",
           "Germany"
          ],
          [
           "Europe",
           "Germany"
          ],
          [
           "Europe",
           "Germany"
          ],
          [
           "Europe",
           "Germany"
          ],
          [
           "Europe",
           "Greece"
          ],
          [
           "Europe",
           "Greece"
          ],
          [
           "Europe",
           "Greece"
          ],
          [
           "Europe",
           "Hungary"
          ],
          [
           "Europe",
           "Hungary"
          ],
          [
           "Europe",
           "Hungary"
          ],
          [
           "Europe",
           "Italy"
          ],
          [
           "Europe",
           "Italy"
          ],
          [
           "Europe",
           "Italy"
          ],
          [
           "Europe",
           "Italy"
          ],
          [
           "Europe",
           "Italy"
          ],
          [
           "Europe",
           "Italy"
          ],
          [
           "Europe",
           "Italy"
          ],
          [
           "Europe",
           "Italy"
          ],
          [
           "Europe",
           "Italy"
          ],
          [
           "Europe",
           "Italy"
          ],
          [
           "Europe",
           "Italy"
          ],
          [
           "Europe",
           "Italy"
          ],
          [
           "Europe",
           "Italy"
          ],
          [
           "Europe",
           "Italy"
          ],
          [
           "Europe",
           "Italy"
          ],
          [
           "Europe",
           "Italy"
          ],
          [
           "Europe",
           "Italy"
          ],
          [
           "Europe",
           "Italy"
          ],
          [
           "Europe",
           "Italy"
          ],
          [
           "Europe",
           "Italy"
          ],
          [
           "Europe",
           "Italy"
          ],
          [
           "Europe",
           "Italy"
          ],
          [
           "Europe",
           "Italy"
          ],
          [
           "Europe",
           "Luxembourg"
          ],
          [
           "Europe",
           "Luxembourg"
          ],
          [
           "Europe",
           "Moldova"
          ],
          [
           "Europe",
           "Netherlands"
          ],
          [
           "Europe",
           "North Macedonia"
          ],
          [
           "Europe",
           "Norway"
          ],
          [
           "Europe",
           "Poland"
          ],
          [
           "Europe",
           "Poland"
          ],
          [
           "Europe",
           "Poland"
          ],
          [
           "Europe",
           "Poland"
          ],
          [
           "Europe",
           "Poland"
          ],
          [
           "Europe",
           "Poland"
          ],
          [
           "Europe",
           "Poland"
          ],
          [
           "Europe",
           "Portugal"
          ],
          [
           "Europe",
           "Portugal"
          ],
          [
           "Europe",
           "Romania"
          ],
          [
           "Europe",
           "Romania"
          ],
          [
           "Europe",
           "Romania"
          ],
          [
           "Europe",
           "Romania"
          ],
          [
           "Europe",
           "Serbia"
          ],
          [
           "Europe",
           "Serbia"
          ],
          [
           "Europe",
           "Slovakia"
          ],
          [
           "Europe",
           "Slovenia"
          ],
          [
           "Europe",
           "Spain"
          ],
          [
           "Europe",
           "Spain"
          ],
          [
           "Europe",
           "Spain"
          ],
          [
           "Europe",
           "Spain"
          ],
          [
           "Europe",
           "Spain"
          ],
          [
           "Europe",
           "Spain"
          ],
          [
           "Europe",
           "Spain"
          ],
          [
           "Europe",
           "Spain"
          ],
          [
           "Europe",
           "Spain"
          ],
          [
           "Europe",
           "Spain"
          ],
          [
           "Europe",
           "Spain"
          ],
          [
           "Europe",
           "Spain"
          ],
          [
           "Europe",
           "Spain"
          ],
          [
           "Europe",
           "Sweden"
          ],
          [
           "Europe",
           "Sweden"
          ],
          [
           "Europe",
           "Sweden"
          ],
          [
           "Europe",
           "Sweden"
          ],
          [
           "Europe",
           "Sweden"
          ],
          [
           "Europe",
           "Switzerland"
          ],
          [
           "Europe",
           "Türkiye"
          ],
          [
           "Europe",
           "Türkiye"
          ],
          [
           "Europe",
           "Türkiye"
          ],
          [
           "Europe",
           "Türkiye"
          ],
          [
           "Europe",
           "Türkiye"
          ],
          [
           "Europe",
           "Türkiye"
          ],
          [
           "Europe",
           "Türkiye"
          ],
          [
           "Europe",
           "Türkiye"
          ],
          [
           "Europe",
           "Türkiye"
          ],
          [
           "Europe",
           "Türkiye"
          ],
          [
           "Europe",
           "Türkiye"
          ],
          [
           "Europe",
           "Türkiye"
          ],
          [
           "Europe",
           "Türkiye"
          ],
          [
           "Europe",
           "Türkiye"
          ],
          [
           "Europe",
           "Türkiye"
          ],
          [
           "Europe",
           "Türkiye"
          ],
          [
           "Europe",
           "Türkiye"
          ],
          [
           "Europe",
           "Türkiye"
          ],
          [
           "Europe",
           "Türkiye"
          ],
          [
           "Europe",
           "Türkiye"
          ],
          [
           "Europe",
           "Türkiye"
          ],
          [
           "Europe",
           "Türkiye"
          ],
          [
           "Europe",
           "Türkiye"
          ],
          [
           "Europe",
           "Ukraine"
          ],
          [
           "Europe",
           "Ukraine"
          ],
          [
           "Europe",
           "Ukraine"
          ],
          [
           "Europe",
           "Ukraine"
          ],
          [
           "Europe",
           "Ukraine"
          ],
          [
           "Europe",
           "Ukraine"
          ],
          [
           "Europe",
           "Ukraine"
          ],
          [
           "Europe",
           "Ukraine"
          ],
          [
           "Europe",
           "Ukraine"
          ],
          [
           "Europe",
           "Ukraine"
          ],
          [
           "Europe",
           "United Kingdom"
          ],
          [
           "Europe",
           "United Kingdom"
          ],
          [
           "Europe",
           "United Kingdom"
          ],
          [
           "Europe",
           "United Kingdom"
          ],
          [
           "Middle East",
           "Bahrain"
          ],
          [
           "Middle East",
           "Iran"
          ],
          [
           "Middle East",
           "Iran"
          ],
          [
           "Middle East",
           "Iran"
          ],
          [
           "Middle East",
           "Iran"
          ],
          [
           "Middle East",
           "Iran"
          ],
          [
           "Middle East",
           "Iran"
          ],
          [
           "Middle East",
           "Iran"
          ],
          [
           "Middle East",
           "Iran"
          ],
          [
           "Middle East",
           "Iran"
          ],
          [
           "Middle East",
           "Iran"
          ],
          [
           "Middle East",
           "Iran"
          ],
          [
           "Middle East",
           "Iran"
          ],
          [
           "Middle East",
           "Iran"
          ],
          [
           "Middle East",
           "Iran"
          ],
          [
           "Middle East",
           "Iran"
          ],
          [
           "Middle East",
           "Iran"
          ],
          [
           "Middle East",
           "Iran"
          ],
          [
           "Middle East",
           "Iran"
          ],
          [
           "Middle East",
           "Iraq"
          ],
          [
           "Middle East",
           "Kuwait"
          ],
          [
           "Middle East",
           "Oman"
          ],
          [
           "Middle East",
           "Qatar"
          ],
          [
           "Middle East",
           "Saudi Arabia"
          ],
          [
           "Middle East",
           "Saudi Arabia"
          ],
          [
           "Middle East",
           "Saudi Arabia"
          ],
          [
           "Middle East",
           "Saudi Arabia"
          ],
          [
           "Middle East",
           "Saudi Arabia"
          ],
          [
           "Middle East",
           "Saudi Arabia"
          ],
          [
           "Middle East",
           "Syria"
          ],
          [
           "Middle East",
           "Syria"
          ],
          [
           "Middle East",
           "United Arab Emirates"
          ],
          [
           "North America",
           "Canada"
          ],
          [
           "North America",
           "Canada"
          ],
          [
           "North America",
           "Canada"
          ],
          [
           "North America",
           "Canada"
          ],
          [
           "North America",
           "Canada"
          ],
          [
           "North America",
           "Canada"
          ],
          [
           "North America",
           "Canada"
          ],
          [
           "North America",
           "Canada"
          ],
          [
           "North America",
           "Mexico"
          ],
          [
           "North America",
           "Mexico"
          ],
          [
           "North America",
           "Mexico"
          ],
          [
           "North America",
           "Mexico"
          ],
          [
           "North America",
           "Mexico"
          ],
          [
           "North America",
           "Mexico"
          ],
          [
           "North America",
           "Mexico"
          ],
          [
           "North America",
           "Mexico"
          ],
          [
           "North America",
           "Mexico"
          ],
          [
           "North America",
           "Mexico"
          ],
          [
           "North America",
           "Mexico"
          ],
          [
           "North America",
           "Mexico"
          ],
          [
           "North America",
           "Mexico"
          ],
          [
           "North America",
           "Mexico"
          ],
          [
           "North America",
           "United States"
          ],
          [
           "North America",
           "United States"
          ],
          [
           "North America",
           "United States"
          ],
          [
           "North America",
           "United States"
          ],
          [
           "North America",
           "United States"
          ],
          [
           "North America",
           "United States"
          ],
          [
           "North America",
           "United States"
          ],
          [
           "North America",
           "United States"
          ],
          [
           "North America",
           "United States"
          ],
          [
           "North America",
           "United States"
          ],
          [
           "North America",
           "United States"
          ],
          [
           "North America",
           "United States"
          ],
          [
           "North America",
           "United States"
          ],
          [
           "North America",
           "United States"
          ],
          [
           "North America",
           "United States"
          ],
          [
           "North America",
           "United States"
          ],
          [
           "North America",
           "United States"
          ],
          [
           "North America",
           "United States"
          ],
          [
           "North America",
           "United States"
          ],
          [
           "North America",
           "United States"
          ],
          [
           "North America",
           "United States"
          ],
          [
           "North America",
           "United States"
          ],
          [
           "North America",
           "United States"
          ],
          [
           "North America",
           "United States"
          ],
          [
           "North America",
           "United States"
          ],
          [
           "North America",
           "United States"
          ],
          [
           "North America",
           "United States"
          ],
          [
           "North America",
           "United States"
          ],
          [
           "North America",
           "United States"
          ],
          [
           "North America",
           "United States"
          ],
          [
           "North America",
           "United States"
          ],
          [
           "North America",
           "United States"
          ],
          [
           "North America",
           "United States"
          ],
          [
           "North America",
           "United States"
          ],
          [
           "North America",
           "United States"
          ],
          [
           "North America",
           "United States"
          ],
          [
           "North America",
           "United States"
          ],
          [
           "North America",
           "United States"
          ],
          [
           "North America",
           "United States"
          ],
          [
           "North America",
           "United States"
          ],
          [
           "North America",
           "United States"
          ],
          [
           "North America",
           "United States"
          ],
          [
           "North America",
           "United States"
          ],
          [
           "North America",
           "United States"
          ],
          [
           "North America",
           "United States"
          ],
          [
           "North America",
           "United States"
          ],
          [
           "North America",
           "United States"
          ],
          [
           "North America",
           "United States"
          ],
          [
           "North America",
           "United States"
          ],
          [
           "North America",
           "United States"
          ],
          [
           "North America",
           "United States"
          ],
          [
           "North America",
           "United States"
          ],
          [
           "North America",
           "United States"
          ],
          [
           "North America",
           "United States"
          ],
          [
           "North America",
           "United States"
          ],
          [
           "North America",
           "United States"
          ],
          [
           "North America",
           "United States"
          ],
          [
           "North America",
           "United States"
          ],
          [
           "North America",
           "United States"
          ],
          [
           "North America",
           "United States"
          ],
          [
           "North America",
           "United States"
          ],
          [
           "North America",
           "United States"
          ],
          [
           "North America",
           "United States"
          ],
          [
           "North America",
           "United States"
          ],
          [
           "North America",
           "United States"
          ],
          [
           "North America",
           "United States"
          ],
          [
           "North America",
           "United States"
          ],
          [
           "North America",
           "United States"
          ],
          [
           "North America",
           "United States"
          ]
         ],
         "hovertemplate": "<b>%{hovertext}</b><br><br>lat=%{lat}<br>lon=%{lon}<br>Region=%{customdata[0]}<br>Country=%{customdata[1]}<extra></extra>",
         "hovertext": [
          "Sider El Hadjar Annaba steel plant",
          "Algerian Qatari Steel Jijel plant",
          "Tosyali Algerie Oran steel plant",
          "Aceria Angola Bengo steel plant",
          "Al-Ezz Dekheila Steel Alexandria plant",
          "Egyptian Steel Beni Suef plant",
          "Egyptian Iron & Steel Company Cairo plant",
          "Egyptian American Steel Rolling Company Sadat City plant",
          "Egyptian Sponge Iron and Steel Company Sadat City plant",
          "Ezz Steel Rebar Sadat City plant",
          "Ezz Flat Steel Ain Sokhna plant",
          "Suez Steel Solb Misr Attaka plant",
          "Egyptian Steel Ain Sokhna plant",
          "Sentuo Steel Tema plant",
          "Libyan Iron and Steel Misrata plant",
          "ArcelorMittal Sonasid Casablanca steel plant",
          "Mahgreb Steel Casablanca plant",
          "Delta Steel Company Warri plant",
          "ArcelorMittal Vanderbijlpark Steel Works",
          "ArcelorMittal Newcastle Steel Works",
          "Acerinox Columbus Stainless steel plant",
          "ArcelorMittal Saldanha Steel Works",
          "Tembo Steels Iganga plant",
          "BlueScope Port Kembla steel plant",
          "GFG Liberty Sydney Steel Mill",
          "GFG Liberty Steel Australia Whyalla steel plant",
          "GFG Liberty Laverton Steel Mill",
          "BSRM Steels Chattogram plant",
          "GPH Steel Sitakunda plant",
          "Abul Khair Steel Sitakunda plant",
          "KSRM Sitakunda steel plant",
          "BSRM Steels Mirsarai plant",
          "Anhui Guihang Special Steel Co., Ltd.",
          "Chizhou Guichi Guihang Metal Products Co., Ltd.",
          "Huainan Hongtai Iron and Steel Co., Ltd.",
          "Anhui Shoukuang Dachang Metal Material Co., Ltd.（phase 1)",
          "Ma'anshan Iron & Steel Co., Ltd.",
          "Anhui Changjiang Steel Co., Ltd.",
          "Tongling Fuxin Iron and Steel Co., Ltd.",
          "Tongling Xuanli Special Steel Co., Ltd.",
          "Wuhu Xinxing Ductile Iron Pipes Co., Ltd.",
          "Wuhu Fuxin Iron and Steel Co., Ltd.",
          "Anhui Langxi Hongtai Iron and Steel Co., Ltd.",
          "Anhui Jingxian Longxin Iron and Steel Co., Ltd.",
          "Chongqing Iron & Steel Co., Ltd.",
          "Sichuan Desheng Group Vanadium and Titanium Co., Ltd.",
          "Chongqing Zuhang Iron & Steel Co., Ltd",
          "Chongqing Yonghang Steel Group Co., Ltd.",
          "Fujian Yixin Steel Co., Ltd.",
          "Fujian Luoyuan Minguang Iron and Steel Co., Ltd.",
          "Fujian Wuhang Stainless Steel Products Co., Ltd.",
          "Baosteel Desheng Stainless Steel Co., Ltd.",
          "Fujian Dadonghai Industrial Group Co., Ltd.",
          "Fujian Tsingtuo Nickel Industry Co., Ltd.",
          "Fujian Dingxin Industrial Co., Ltd.",
          "Fujian Fuhua New Materials Group Co., Ltd.",
          "Fujian Quanzhou Minguang Iron and Steel Co., Ltd.",
          "Sansteel Minguang Co., Ltd. Fujian",
          "Fujian Sanbao Steel Co., Ltd.",
          "Fujian Fuxin Special Steel Co., Ltd.",
          "Gansu Jiu Steel Group Hongxing Iron and Steel Co., Ltd.",
          "Jiugang Group Yuzhong Iron & Steel Co., Ltd.",
          "Lanxin Steel Group Co., Ltd.",
          "Angang Lianzhong Stainless Steel Co., Ltd.",
          "Heyuan Derun Steel Co., Ltd.",
          "Heping Yueshen Steel Industry Co., Ltd.",
          "SGIS Songshan Co.,Ltd.",
          "Guangdong Guangqing Metal Technology Co., Ltd.",
          "Yangchun New Steel Co., Ltd.",
          "Guangdong Yuebei United Steel Co., Ltd.",
          "Baosteel Zhanjiang Iron & Steel Co., Ltd.",
          "Zhuhai Yueyufeng Iron & Steel Co., Ltd.",
          "Guangxi Beigang New Material Co., Ltd.",
          "Guangxi Shenglong Metallurgical Co., Ltd.",
          "Guangxi Guigang Iron and Steel Group Co., Ltd.",
          "Guangxi Guigang Iron and Steel Group Guigang Guibao Special Steel Co., Ltd.",
          "Guilin Pinggang Iron and Steel Co., Ltd.",
          "Guangxi Guixin Iron and Steel Group Co., Ltd.",
          "Hezhou Zhaoxin Hardware Products Co., Ltd.",
          "Guangxi Guifeng Special Steel Co., Ltd.",
          "Hezhou Xindu Sanyuan Casting Co., Ltd.",
          "Guangxi Hezhou Kexinda Metal Products Co., Ltd.",
          "Liuzhou Iron & Steel Co., Ltd.(Liuzhou Base）",
          "Guangxi Deyuan Metallurgy Co., Ltd.",
          "Wuzhou Yongda Iron and Steel Co., Ltd.",
          "Wuzhou Yongda Special Steel Co., Ltd.",
          "Guangxi Wuzhou Jinhai Stainless Steel Co., Ltd.",
          "Guangxi Liugang Zhongjin Stainless Steel Co., Ltd.",
          "Shougang Guiyang Special Steel Co., Ltd.",
          "Shougang Shuicheng Iron and Steel (Group) Co., Ltd.",
          "Guizhou Hexing Metal Products Co., Ltd.",
          "Guizhou Juxin Iron and Steel (Group) Co., Ltd.",
          "Guizhou United Iron and Steel (Group) Co., Ltd.",
          "Guizhou Ganglian Industrial Group Co., Ltd.",
          "Zunyi Fuxin Special Steel Equipment Manufacturing Co., Ltd.",
          "Zunyi Changling Special Steel Co., Ltd.",
          "Cangzhou Lingang Sanling Metal Co., Ltd.",
          "Chengde Iron and Steel Group Co., Ltd.",
          "Chengde Jianlong Special Steel Co., Ltd.",
          "Chengde Zhaofeng Steel Group Co., Ltd.",
          "Chengde Shengfeng Iron and Steel Co., Ltd.",
          "Hebei Xinxing Ductile Iron Pipes Co., Ltd.",
          "Handan Iron and Steel Group Co., Ltd.",
          "Hebei Puyang Iron and Steel Co., Ltd.",
          "Wu'an Yuhua Iron and Steel Co., Ltd.",
          "Hebei Wenfeng Iron and Steel Co., Ltd.",
          "Zhongpu (Handan) Iron and Steel Co., Ltd.",
          "Hebei Xinwu'an Iron and Steel Group Xinhui Metallurgy Co., Ltd.",
          "Hebei Yongyang Special Steel Group Co., Ltd.",
          "Jinding Heavy Industry Co., Ltd.",
          "Hebei Xin Wu'an Steel Group Wen'an Iron and Steel Co., Ltd.",
          "Wu'an Mingfang Iron and Steel Co., Ltd.",
          "Hebei Baoxin Iron and Steel Group Co., Ltd.",
          "Hebei Xin Wu'an Steel Group Hongrong Iron and Steel Co., Ltd.",
          "Hebei Xinjin Iron and Steel Co., Ltd.",
          "Hebei Xinghua Iron and Steel Co., Ltd.",
          "Hebei Mingbin Iron and Steel Co., Ltd.",
          "Cangzhou China Railway Equipment Manufacture Material Co., Ltd.",
          "Qinhuangdao Hongxing Iron and Steel Co., Ltd.",
          "Qinhuangdao Baigong Steel Co., Ltd.",
          "Hebei Anfeng Iron & Steel Co., Ltd.",
          "Shijiazhuang Iron & Steel Co., Ltd.",
          "Jingye Iron and Steel Co., Ltd.",
          "Xinji Aosen Iron and Steel Group Co., Ltd.",
          "Qian'an Zhayi Steel Group Co., Ltd.",
          "Tangshan Iron and Steel Group Co., Ltd.",
          "Shougang Jingtang United Iron & Steel Co Ltd",
          "Shougang Qian'an Iron and Steel Co., Ltd.",
          "Tangshan Donghua Iron & Steel Enterprise Group Co., Ltd.",
          "Tangshan Ruifeng Iron and Steel (Group) Co., Ltd.",
          "Qian'an Jiujiang Wire Co., Ltd.",
          "Hebei Yanshan Iron and Steel Group Co., Ltd.",
          "Tangshan Songting Iron & Steel Co., Ltd.",
          "Hebei Jinxi Iron & Steel Group Co., Ltd.",
          "Tangshan Ganglu Iron and Steel Co., Ltd.",
          "Hebei Donghai Special Steel Co., Ltd.",
          "Tangshan Delong Iron & Steel Co., Ltd.",
          "Tangshan Jianlong Special Steel Co., Ltd.",
          "Tangshan Stainless Steel Co., Ltd.",
          "Tangshan Medium Thick Plate Co., Ltd.",
          "Tangshan Fengnan District Jing'an Iron and Steel Co., Ltd.",
          "Tangshan Xinbaotai Iron and Steel Co., Ltd.",
          "Tangshan Jinma Steel Group Co., Ltd.",
          "Hebei Xinda Iron and Steel Group Co., Ltd.",
          "Tangshan Fengnan Kaiheng Iron and Steel Co., Ltd.",
          "Tangshan Guoyi Special Type Iron and Steel Co., Ltd.",
          "Hebei Rongxin Steel Co., Ltd.",
          "Tangshan Donghai Iron and Steel Group Co., Ltd.",
          "Tangshan Chunxing Special Steel Co., Ltd.",
          "Tangshan Wenfeng Special Steel Co., Ltd.",
          "Hebei Tianzhu Iron and Steel Group Co., Ltd.",
          "Hebei Tangyin Iron and Steel Co., Ltd.",
          "Hebei Huaxi Iron and Steel Co., Ltd.",
          "Hebei Zongheng Group Fengnan Iron & Steel Co., Ltd.",
          "Tangshan Yutian Jinzhou Industrial Co., Ltd.",
          "Tangshan Zhengfeng Steel Co., Ltd.",
          "Xingtai Iron & Steel Co., Ltd.",
          "Delong Steel Co., Ltd.",
          "Xuanhua Iron and Steel Group Co., Ltd.",
          "Jianglong Acheng Iron & Steel Co., Ltd.",
          "Jianlong Beiman Special Steel Co., Ltd.",
          "Heilongjiang Jianlong Iron and Steel Co., Ltd.",
          "Jianlong Xilin Iron and Steel Co., Ltd.",
          "Anyang Iron & Steel Co., Ltd.",
          "Wuyang Iron and Steel Co., Ltd.",
          "Shagang Group Anyang Yongxing Special Steel Co., Ltd.",
          "Anyang Xinpu Steel Co., Ltd.",
          "Henan Yaxin Iron and Steel Group Co., Ltd.",
          "Anyang Huixin Special Steel Co., Ltd.",
          "Henan Xinjinhui Stainless Steel Industry Co., Ltd.",
          "Henan Changtai Stainless Steel Plate Co., Ltd.",
          "Henan Jiyuan Iron & Steel (Group) Co., Ltd.",
          "Henan Fengbao Special Steel Co., Ltd.",
          "Luoyang Luogang Group of Steel and Iron Co., Ltd.",
          "Nanyang Hanye Special Steel Co., Ltd.",
          "Angang Group Xinyang Iron and Steel Co., Ltd.",
          "Minyuan Iron and Steel Group Co., Ltd.",
          "Zhengzhou Yongtong Special Steel Co., Ltd.",
          "Baowu Group Echeng Iron and Steel Co., Ltd.",
          "Ezhou Hongtai Steel Co., Ltd.",
          "Hubei Wucheng Iron and Steel Group Co., Ltd.",
          "Daye Special Steel Co., Ltd.",
          "Daye Xinye Special Steel Co., Ltd.",
          "Daye Huaxin Industrial Co., Ltd.",
          "Jingzhou Qunli Metal Products Co., Ltd.",
          "Shiyan Fuyan Iron and Steel Co., Ltd.",
          "Shiyan Yunyang District Rongfeng Iron & Steel Co., Ltd.",
          "Guangshui Huaxin Metallurgical Industry Co., Ltd.",
          "Wuhan Iron and Steel Co., Ltd.",
          "Wuhan Shunle Stainless Steel Co., Ltd.",
          "WISCO Group Xiangyang Heavy Equipment Materials Co., Ltd.",
          "Hubei Lijin Steel Group Co., Ltd.",
          "Hubei Jinshenglan Metallurgical Technology Co., Ltd.",
          "Hubei Dazhan Iron & Steel Co., Ltd.",
          "Yichang Fulong Iron & Steel Co., Ltd.",
          "Hengyang Valin Steel Tube Co., Ltd.",
          "Lengshuijiang Steel Co., Ltd.",
          "Hunan Valin Lianyuan Iron and Steel Co., Ltd.",
          "Hunan Valin Xiangtan Iron and Steel Co., Ltd.",
          "Inner Mongolia BaoTou Steel Union Co., Ltd.",
          "Inner Mongolia Baotou Jiyu Iron and Steel Co., Ltd.",
          "Baotou Baoxin Special Steel Co., Ltd.",
          "Baotou Da'an Iron and Steel Co., Ltd.",
          "Inner Mongolia Yaxin Longshun Special Steel Co., Ltd.",
          "Chifeng Yuanlian Steel Co., Ltd.",
          "Inner Mongolia Desheng Metal Products Co., Ltd.",
          "Wuhai Baogang Wanteng Iron and Steel Co., Ltd.",
          "Wulanhot Steel Co., Ltd.",
          "Zenith Steel Group Co., Ltd.",
          "Jiangsu Shente Steel Co. Ltd.",
          "Changzhou Eastern Special Steel Co., Ltd.",
          "Danyang Longjiang Steel Co., Ltd.",
          "Zhongye Dongfang Jiangsu Heavy Industry Co., Ltd.",
          "Jiangsu Shagang Group Huaigang Special Steel Co., Ltd.",
          "Jiangyin Xingcheng Special Steel Works Co., Ltd.",
          "Jiangsu Changqiang Iron & Steel Co., Ltd.",
          "Jiangyin Xicheng Steel Co., Ltd.",
          "Zhangjiagang Rongsheng Special Steel Co., Ltd.",
          "Jiangsu Binxin Steel Group Co., Ltd.",
          "Lianyungang Xingxin Iron and Steel Co., Ltd.",
          "Lianyungang Yaxin Iron and Steel Co., Ltd.",
          "Nanjing Iron & Steel Co., Ltd.",
          "Shanghai Meishan Iron and Steel Co., Ltd.",
          "Lianfeng Steel (Zhangjiagang) Co., Ltd.",
          "Changshu Longteng Special Steel Co., Ltd.",
          "Jiangsu Suxin Special Steel Group Co., Ltd.",
          "Wuxi Xinsanzhou Steel Co., Ltd.",
          "Jiangyin Huaxi Iron and Steel Co., Ltd.",
          "Jiangsu Xugang Iron and Steel Group Co., Ltd.",
          "Xuzhou Baofeng Special Steel Co., Ltd.",
          "Xuzhou Taifa Special Steel Group Co., Ltd.",
          "Zhongxin Iron and Steel Group Co., Ltd.",
          "Xuzhou Jinhong Iron and Steel Group Co., Ltd.",
          "Yancheng Lianxin Iron and Steel Co., Ltd.",
          "Jiangsu Delong Nickel Industry Co., Ltd.",
          "Yangzhou Qinyou Special Metal Materials Co., Ltd.",
          "Yangzhou Hengrun Ocean Heavy Industry Co., Ltd.",
          "Zhangjiagang Hongchang Steel Co., Ltd.",
          "Posco (Zhangjiagang) Stainless Steel Co., Ltd.",
          "Jiangsu Hongtai Iron and Steel Co., Ltd.",
          "Longnan Fuxin Iron and Steel Co., Ltd.",
          "Jiujiang Pinggang Iron and Steel Co., Ltd.",
          "Fangda Special Steel Technology Co., Ltd.",
          "Pingxiang Pinggang Anyuan Iron & Steel Co., Ltd.",
          "Jiangxi Taixin Iron & Steel Co., Ltd.",
          "Xinyu Iron and Steel Group Co., Ltd.",
          "Baicheng Fuda Bar Rolling Co., Ltd.",
          "Jilin Steel Group Taihua Metal Equipment Manufacture Co., Ltd.",
          "Jilin Steel Group Fugang Metal Manufacturing Co., Ltd.",
          "Jilin Jianlong Steel Co., Ltd.",
          "Jilin Xinda Iron and Steel Co., Ltd.",
          "Panshi Jianlong Iron and Steel Co., Ltd.",
          "Jilin Jingang Iron and Steel Co., Ltd.",
          "Tonghua Iron and Steel Co., Ltd.",
          "Angang Steel Co., Ltd.",
          "Houying Group Haicheng Iron and Steel Co., Ltd. Datun Branch",
          "Anshan Baode Iron & Steel Co., Ltd.",
          "Bengang Steel Plates Co., Ltd.",
          "Benxi Beiying Iron & Steel (Group) Co., Ltd.",
          "Ansteel Group Chaoyang Steel & Iron Co., Ltd.",
          "Lingyuan Iron & Steel Co.,Ltd.",
          "Dongbei Special Steel Group Dalian Special Steel Co., Ltd.",
          "Fushun New Steel Co., Ltd.",
          "Fushun Special Steel Co., Ltd.",
          "Liaoyang Xinyi Special Steel Co., Ltd.",
          "Angang Steel Co., Ltd. Bayuquan branch",
          "Rizhao Steel Yingkou Medium Plate Co Ltd",
          "Yingkou Iron & Steel Co., Ltd.",
          "Ningxia Jianlong Special Steel Co., Ltd.",
          "Ningxia Iron and Steel (Group) Co., Ltd.",
          "Xining Special Steel Co., Ltd.",
          "Shaanxi Longmen Steel Co., Ltd.",
          "Shaanxi Steel Group Hanzhong Iron and Steel Co., Ltd.",
          "Shaanxi Lueyang Iron and Steel Co., Ltd.",
          "Shaanxi Hanzhong Iron & Steel Group Co., Ltd.",
          "Shaanxi Huaxin Special Steel Group Co., Ltd.",
          "Shandong Guangfu Group Co., Ltd.",
          "Xiwang Metal Science Technology Co., Ltd.",
          "Shandong Chuanyang Group Co., Ltd.",
          "Shandong Laigang Yongfeng Steel Co., Ltd.",
          "Shandong Taishan Steel Group Co., Ltd.",
          "Shandong Fulun Iron and Steel Co., Ltd.",
          "Shandong Minyuan Iron and Steel Co., Ltd.",
          "Laiwu Iron and Steel Group Yinshan Section Steel Co., Ltd.",
          "Linyi Jiangxin Iron and Steel Co., Ltd.",
          "Qingdao Special Iron and Steel Co., Ltd.",
          "Rizhao Steel Holding Group Co., Ltd.",
          "Shandong IRON&STEEL Group Rizhao Co., Ltd.（Phase 1）",
          "Shiheng Special Steel Group Co., Ltd.",
          "Weifang Special Steel Group Co., Ltd.",
          "Shandong Shouguang Juneng Special Steel Co., Ltd.",
          "Shandong Luli Steel Co., Ltd.",
          "Yantai Walsin Stainless Steel Co., Ltd.",
          "Shandong Iron and Steel Group Yongfeng Zibo Co., Ltd.",
          "Shandong Longsheng Iron and Steel Co., Ltd.",
          "Zibo Qilin Fushan Iron and Steel Co., Ltd.",
          "Baoshan Iron and Steel Co., Ltd. (Baoshan Base)",
          "Baosteel Special Steel Co., Ltd.",
          "Changzhi Xingbao Steel Co., Ltd.",
          "Licheng Taihang Iron & Steel Co., Ltd.",
          "Shanxi Changxin Industrial Co., Ltd.",
          "Shougang Changzhi Iron and Steel Co., Ltd.",
          "Jinye Iron and Steel Group Co., Ltd.",
          "Shanxi Tongde Xinghua Special Steel Co., Ltd.",
          "Shanxi Hongda Iron and Steel Group Co., Ltd.",
          "Shanxi Huaxinyuan Steel & Iron Group Co., Ltd.",
          "Jincheng Fusheng Iron & Steel Co., Ltd.",
          "Shanxi Xintai Iron and Steel Co., Ltd.",
          "Shanxi Liheng Steel Co., Ltd.",
          "Xiangfen County Xingyuan Steel Group Co., Ltd.",
          "Shanxi Zhongsheng Iron and Steel Co., Ltd.",
          "Xiangfen County Xinjinshan Special Steel Co., Ltd.",
          "Shanxi Jianbang Group Casting Co., Ltd.",
          "Shanxi Zhongyang Iron and Steel Co., Ltd.",
          "Shanxi Taigang Stainless Steel Co., Ltd.",
          "Shanxi Meijin Iron and Steel Co., Ltd.",
          "Shanxi Gaoyi Steel Co., Ltd.",
          "Shanxi Jianlong Industrial Co., Ltd.",
          "Jishan Mingfu Steel Products Co., Ltd.",
          "Chengdu Changfeng Iron and Steel Group Co., Ltd.",
          "Pangang Group Xichang Steel and Vanadium Co., Ltd.",
          "Pangang Group Jiangyou Changcheng Special Steel Co., Ltd.",
          "Chengyu Vanadium & Titanium Technology Co., Ltd.",
          "Pangang Group Panzhihua Steel Vanadium Co., Ltd.",
          "Sichuan Shehong Chuanzhong Construction Materials Co., Ltd.",
          "Sichuan Dazhou Iron & Steel Group Co., Ltd.",
          "Sichuan Ya'an Anshan Iron and Steel Co., Ltd.",
          "Tianjin Tianzhong Giant Heavy Industry Co., Ltd.",
          "Tianjin Iron & Steel Group Co., Ltd.",
          "Tianjin Pipe Corporation",
          "Tianjin Iron Plant",
          "Tianjin Tianfeng Steel Co., Ltd.",
          "Tianjin Metallurgy Group Zhasan Steel Co., Ltd.",
          "Tianjin Rockcheck Steel Group Co., Ltd.",
          "Tianjin New Tiangang United Special Steel Co., Ltd.",
          "Xinjiang Kingtec Steel Co., Ltd.",
          "Xinjiang Tianshan Iron and Steel Bazhou Co., Ltd.",
          "Xinjiang Minxin Iron and Steel (Group) Minhang Special Steel Co., Ltd.",
          "Xinjiang Xin'an Special Steel Co., Ltd.",
          "Xinjiang Da'an Special Steel Co., Ltd.",
          "Xinjiang Kunyu Iron and Steel Co., Ltd.",
          "Xinjiang Yili Iron and Steel Co., Ltd.",
          "Baosteel Group Xinjiang Bayi Iron & Steel Co., Ltd.",
          "Yunnan Desheng Iron and Steel Co., Ltd.",
          "WISCO Group Kunming Steel Co., Ltd. Honghe Iron and Steel Company",
          "WISCO Group Kunming Steel Co., Ltd. Anning Branch",
          "Yunnan Tiangao Nickel Alloy Co., Ltd.",
          "Yunnan Qujing Iron and Steel Group Chenggang Iron and Steel Co., Ltd.",
          "Yunnan Qujing Iron and Steel Group Fenghuang Steel Co., Ltd.",
          "WISCO Group Kunming Steel Co., Ltd. Yuxi Xinxing Steel Company",
          "Yunnan Yuxi Iron and Steel Group Yukun Iron and Steel Co., Ltd.",
          "Yunnan Yuxi Xianfu Iron & Steel (Group) Co., Ltd.",
          "Zhenshi Group Eastern Special Steel Co., Ltd.",
          "Zhejiang Wantai Special Steel Co., Ltd.",
          "Zhejiang Tsingshan Iron & Steel Co., Ltd.",
          "Lishui Huahong Iron and Steel Products Co., Ltd.",
          "Zhejiang Yuxin Industrial Co., Ltd.",
          "Ningbo Iron & Steel Co., Ltd.",
          "Ningbo Haoyang New Materials Techonology Co., Ltd.",
          "Quzhou Yuanli Metal Products Co., Ltd.",
          "Arjas Steel Tadipatri plant",
          "Vizag Steel plant",
          "SAIL Bhilai steel plant BF and BOF 1 expansion",
          "Prakash Industries steel plant",
          "JSPL Chhattisgarh steel plant",
          "JSW Ispat Special Products Raigarh steel plant",
          "MSP Steel & Power Raigarh plant",
          "Jayaswal Neco Industries Raipur steel plant",
          "Godawari Power and Ispat steel plant",
          "JSW Ispat Special Products Raipur steel plant",
          "Welspun Steel plant",
          "ArcelorMittal Nippon Steel India",
          "Jindal Stainless Hisar steel plant",
          "Atibir Industries steel plant",
          "ESL Steel plant",
          "SAIL Bokaro steel plant",
          "Tata Steel Jamshedpur steel plant",
          "Tata Steel Long Products steel plant",
          "JSPL Jharkhand steel plant",
          "BMM Ispat steel plant",
          "Kalyani Steels Hospet plant",
          "JSW Steel Vijayanagar steel plant",
          "JSW Steel Dolvi steel plant",
          "Lloyds Steel Industries steel plant",
          "Jayaswal Neco Industries Nagpur steel plant",
          "Sunflag Iron and Steel plant",
          "JSPL Odisha steel plant",
          "Neelachal Ispat Nigam steel plant",
          "Jindal Stainless Odisha steel plant",
          "Tata Steel Kalinganagar steel plant",
          "Mesco Steel Kalinganagar plant",
          "Sree Metaliks Barbil steel plant",
          "Orissa Sponge Iron & Steel plant",
          "Tata Steel BSL Dhenkanal plant",
          "SAIL Rourkela steel plant",
          "Jai Balaji Jyoti Steels plant",
          "JSW BPSL Odisha steel plant",
          "JSW Steel Salem steel plant",
          "SAIL IISCO steel plant",
          "SAIL Durgapur steel plant",
          "SAIL Alloy Steel Plant",
          "Jai Balaji Durgapur steel plant",
          "Shyam Steel Durgapur plant",
          "Tata Metaliks West Bengal steel plant",
          "Rashmi Metaliks Kharagpur steel plant",
          "Krakatau Steel Cilegon plant",
          "KS Posco Cilegon steel plant",
          "Jakarta Prima Steel Industries plant",
          "CNR Mandan Steel South Kalimantan plant",
          "Gunung Raja Paksi West Java steel plant",
          "Chubu Steel Plate Nagoya plant",
          "Tokyo Steel Tahara plant",
          "Aichi Steel Chita Plant (Tokai)",
          "Daido Steel Chita plant (Tokai)",
          "Nippon East Japan Works (Nagoya) steel plant",
          "Kyoei Steel Nagoya Division (Tokai)",
          "Topy Industries Toyohashi steel plant",
          "JFE West Japan Works (Fukuyama) steel plant",
          "JFE Bars & Shapes Mizushima Works steel plant",
          "JFE West Japan Works (Kurashiki) steel plant",
          "Tokyo Steel Okayama plant",
          "Nippon Setouchi Works (Kure Area) steel plant",
          "Kyoei Steel Yamaguchi Division (Yamaguchi)",
          "North Nippon Muroran Works steel plant",
          "JFE Bars & Shapes Himeji Works steel plant",
          "Nippon Setouchi Works (Hirohata Area) steel plant",
          "Nippon Sanyo Special Steel",
          "Yamato Steel Himeji Plant",
          "Godo Steel Himeji Works",
          "Kobe Kakogawa Works steel plant",
          "Kobe Wire Rod & Bar steel plant",
          "Godo Steel Osaka Works",
          "Nippon Steel Wakayama Area (Sakai) plant",
          "Nakayama Steel Products Osaka plant",
          "Nakayama Steel Works Osaka",
          "Kyoei Steel Hirakata Division (Osaka)",
          "Nippon Kansai Works (Wakayama Area, Wakayama) steel plant",
          "JFE East Japan Works (Chiba) steel plant",
          "JFE Bars & Shapes Kashima Works steel plant",
          "Nippon East Japan Works (Kashima) steel plant",
          "JFE East Japan Works (Keihin) steel plant",
          "Nippon East Japan Works (Kimitsu) steel plant",
          "JFE Bars & Shapes Toubu Works steel plant",
          "Tokyo Steel Utsunomiya plant",
          "Nippon Kyushu Works (Yawata Area, Tobata) steel plant",
          "Nippon Kyushu Works (Yawata Area, Kokura) steel plant",
          "Tokyo Steel Kyushu plant",
          "Nippon Kyushu Works (Oita Area, Oita) steel plant",
          "JFE Sendai Works steel plant",
          "Lion Industries Antara Johor steel plant",
          "Alliance Steel Kuantan plant",
          "Ann Joo Integrated Steel Penang plant",
          "Lion Industries Amsteel Banting steel plant",
          "Lion Industries Megasteel plant",
          "Lion Industries Amsteel Klang steel plant",
          "Malaysia Steel Works Klang",
          "Ann Joo Steel Selangor plant",
          "Eastern Steel Kemaman plant",
          "Maju Perwaja Steel plant",
          "BlueScope New Zealand Steel Glenbrook",
          "Ch'ŏngjin Ironworks steel plant",
          "Kim Chaek Iron and Steel Complex steel plant",
          "Hwanghae Iron and Steel Complex steel plant",
          "Ch'ollima Steel Complex steel plant",
          "Ittehad Steel Faisalabad plant",
          "Agha Steel Industries Karachi plant",
          "SteelAsia Calaca plant",
          "Natsteel Singapore plant",
          "SeAH Steel Pohang plant",
          "Dongkuk Steel Pohang steel plant",
          "Hyundai Steel Pohang steel plant",
          "POSCO Pohang steel plant",
          "SeAH Besteel Gunsan steel plant",
          "KG Dongbu Steel Incheon steel plant",
          "Dongkuk Steel Incheon steel plant",
          "Hyundai Steel Incheon steel plant",
          "Hansco Hwangyoung Steel Dangjin plant",
          "KG Dongbu Steel Dangjin steel plant",
          "Hyundai Steel Dangjin steel plant",
          "YK Steel Busan plant",
          "KISCO steel Changwon plant",
          "SeAH Changwon Integrated Special Steel plant",
          "POSCO Gwangyang steel plant",
          "Tung Ho Steel Taoyuan Plant",
          "Yieh United Steel Kaohsiung plant",
          "China Steel Structure Kaohsiung plant",
          "Tung Ho Steel Miaoli Factory",
          "Feng Hsin Steel Taichung plant",
          "China Steel Dragon Steel Taichung plant",
          "Tung Ho Steel Kaohsiung Plant",
          "UMC Metals Chon Buri plant",
          "Tata Steel Manufacturing (Thailand) NTS Plant",
          "Nippon GJS steel plant",
          "Tata Steel Manufacturing (Thailand) SCSC Plant",
          "Siam Yamato Steel I plant",
          "Siam Yamato Steel II plant",
          "Millcon Steel plant",
          "Nippon G Steel plant",
          "Bangkok Steel Industry plant",
          "Pomina Steel 2 Phu My plant",
          "Tung Ho Steel Phu My plant",
          "Pomina Steel 3 Phu My plant",
          "POSCO Vietnam Phu My steel plant",
          "VNSteel Southern Steel Company plant",
          "Vina Kyoei Steel Phu My plant",
          "VAS Tue Minh Steel Binh Duong plant",
          "VAS An Hung Tuong Steel Binh Duong plant",
          "Formosa Ha Tinh Steel plant",
          "Hoa Phat Hai Duong Steel plant",
          "Lao Cai Cast Iron and Steel Plant",
          "Hoa Phat Dung Quat steel plant",
          "Thai Nguyen Iron & Steel plant",
          "VAS Nghi Son Cast Iron and Steel plant",
          "TenarisSiderca Campana steel plant",
          "Ternium Siderar San Nicolás steel plant",
          "Gerdau Sipar Pérez steel plant",
          "ArcelorMittal Acindar Villa Constitución steel plant",
          "ArcelorMittal Pecém steel plant",
          "Simec Cariacica steel plant",
          "ArcelorMittal Tubarão steel plant",
          "AVB Açailândia steel plant",
          "Gerdau Divinópolis steel plant",
          "Usiminas Ipatinga steel plant",
          "Vallourec Jeceaba steel plant",
          "ArcelorMittal Monlevade steel plant",
          "ArcelorMittal Juiz de Fora steel plant",
          "Gerdau Açominas Ouro Branco steel plant",
          "Aperam Timóteo steel plant",
          "Gerdau Guaíra Araucária steel plant",
          "ArcelorMittal Barra Mansa steel plant",
          "ArcelorMittal Resende steel plant",
          "Ternium Brasil Santa Cruz steel plant",
          "Gerdau Cosigua Santa Cruz steel plant",
          "CSN Volta Redonda steel plant",
          "Gerdau São Paulo Araçariguama steel plant",
          "Simec Pindamonhangaba steel plant",
          "Gerdau Pindamonhangaba steel plant",
          "ArcelorMittal Piracicaba steel plant",
          "CAP Acero Huachipato steel plant",
          "AZA Colina steel plant",
          "AG Sidegua Masagua steel plant",
          "Gerdau Siderperu Chimbote steel plant",
          "Aceros Arequipa Pisco steel plant",
          "Sidor Ciudad Guayana steel plant",
          "Baku Steel Company steel plant",
          "Rustavi Metallurgical Plant",
          "ArcelorMittal Temirtau steel plant",
          "KSP Steel Pavlodar steel plant",
          "Metalloinvest OEMK steel plant",
          "Ashinskiy Metallurgical Works",
          "Mechel Chelyabinsk Metallurgical Plant",
          "Magnitogorsk Iron & Steel Works",
          "Zlatoust Metallurgical Plant",
          "NLMK Kaluga steel plant",
          "Evraz ZSMK steel plant",
          "Amurstal steel plant",
          "Abinsk Electric Steel Works",
          "NLMK Lipetsk steel plant",
          "OMK Vyksa Casting and Rolling Complex",
          "Ural Steel Metallurgical Plant",
          "Kamsky Metallurgical Works TEMPO",
          "TMK Taganrog Metallurgical Plant",
          "Balakovo Steel Factory",
          "StavStal Metallurgical Plant",
          "Evraz NTMK steel plant",
          "Iron Ozone 32 steel plant",
          "TMK Seversky Pipe Plant",
          "NLMK Ural steel plant",
          "Nadezhdinski Metallurgical Plant (Serov)",
          "IMH Tulachermet",
          "Tyumen Electrosteel plant",
          "VMK Red October steel plant",
          "Volzhsky Pipe Plant",
          "Severstal Cherepovets steel plant",
          "Uzmetkombinat steel plant",
          "Kurum International Elbasan steel plant",
          "Voestalpine Stahl Donawitz steel plant",
          "Voestalpine Stahl Linz steel plant",
          "Byelorussian Steel Works",
          "ArcelorMittal Gent steel plant",
          "Thy Marcinelle Charleroi steel plant",
          "Aperam Stainless Belgium Châtelet steel plant",
          "ArcelorMittal Zenica steel plant",
          "Stomana Industry Pernik steel plant",
          "ABS Sisak Iron & Steel plant",
          "GFG Liberty Ostrava steel plant",
          "TZMS Třinecké železárny Trinec steel plant",
          "Ovako Imatra steel plant",
          "Outokumpu Tornio steel plant",
          "SSAB Raahe steel plant",
          "Riva Sam Neuves-Maisons steel plant",
          "ArcelorMittal Dunkerque steel plant",
          "Riva Iton Seine Bonnieres Sur Seine steel plant",
          "Riva Alpa Gargenville steel plant",
          "Riva Sam Montereau steel plant",
          "Celsa France Boucau steel plant",
          "ArcelorMittal Méditerranée Fos sur Mer steel plant",
          "Kehler Baden Steel Works",
          "Lech Stahlwerke Meitingen steel plant",
          "Riva Brandenburg Electric Steel Works",
          "ArcelorMittal Eisenhüttenstadt steel plant",
          "Riva Hennigsdorfer Electric Steel Works",
          "ArcelorMittal Bremen steel plant",
          "ArcelorMittal Hamburg steel plant",
          "Benteler Steel Tube Lingen plant",
          "Salzgitter Peiner Träger Peine steel plant",
          "Salzgitter Flachstahl steel plant",
          "ThyssenKrupp Steel Duisburg steel plant",
          "Hüttenwerke Krupp Mannesmann (HKM) steel plant",
          "ArcelorMittal Duisburg steel plant",
          "Deutsche Edelstahlwerke steel plant",
          "AG der Dillinger Hüttenwerke Dillingen steel plant",
          "Saarstahl Völklingen Steelmaking Plant",
          "ESF Elbe Stahlwerke Feralpi Riesa plant",
          "CSN Stahlwerk Thüringen Unterwellenborn steel plant",
          "Sidenor Steel Industry Thessaloniki plant",
          "Sovel Almyros steel plant",
          "Larco Larymna smelting plant",
          "Diósgyőr Steelworks Miskolc",
          "ÓAM Ózdi Acélművek Kft Ózd steel plant",
          "ISD Dunaferr Dunaújváros steel plant",
          "Tenaris Dalmine steel plant",
          "Alfa Acciai Brescia steel plant",
          "Feralpi Siderurgica Lonato steel plant",
          "Ori Martin Brescia steel plant",
          "Feralpi Calvisano Lonato steel plant",
          "Ferriera Valsabbia Odolo steel plant",
          "IRO Odolo steel plant",
          "Duferci Travu e Profilati San Zeno Naviglio steel plant",
          "Finarvedi Cremona steel plant",
          "Riva Acciaio Lesegno steel plant",
          "JSW Steel Piombino steel plant",
          "Acciaierie Venete Padua steel plant",
          "Pittini Siderpotenza Potenza steel plant",
          "Alfa Acciai Catania steel plant",
          "ArcelorMittal Acciaierie d'Italia Taranto steel plant",
          "Finarvedi Acciai Speciali Terni steel plant",
          "Acciaierie Venete Borgo Valsugana steel plant",
          "Pittini Ferriere Nord Osoppo steel plant",
          "Danieli ABS Pozzuolo del Friuli steel plant",
          "Marcegaglia Palini e Bertoli San Giorgio di Nogaro steel plant",
          "Riva Acciaio Caronno Pertusella steel plant",
          "Pittini Acciaierie di Verona steel plant",
          "AFV Accaierie Beltrame Vicenza steel plant",
          "ArcelorMittal Differdange steel plant",
          "ArcelorMittal Esch-Belval steel plant",
          "JSC Moldova Steel Works",
          "Tata Steel IJmuiden steel plant",
          "Makstil Skopje Steel plant",
          "Celsa Nordic steel plant",
          "ArcelorMittal Kraków steel plant",
          "ArcelorMittal Warszawa steel plant",
          "Liberty Czestochowa steel plant",
          "ArcelorMittal Dąbrowa Górnicza steel plant",
          "CMC Zawiercie steel plant",
          "Ferrostal Labedy Gliwice steel plant",
          "Celsa Huta Ostrowiec steel plant",
          "SN MAIA Siderurgia Nacional steel plant",
          "SN SEIXAL Siderurgia Nacional steel plant",
          "Otelu Rosu Steel Plant",
          "Resita Iron & Steel Works",
          "GFG Liberty Galati steel plant",
          "ArcelorMittal Hunedoara steel plant",
          "HBIS GROUP Serbia Iron & Steel plant Belgrade",
          "Metalfer Steel Mill Sremska Mitrovica",
          "U. S. Steel Košice steel plant",
          "SIJ Acroni Jesenice steel plant",
          "ArcelorMittal Olaberria-Bergara (Olaberria) steel plant",
          "ArcelorMittal Asturias (Gijón) steel plant",
          "Grupo Gallardo Siderurgica Balboa Jerez de los Caballeros steel plant",
          "Celsa Barcelona Castellbisbal steel plant",
          "ArcelorMittal Sestao steel plant",
          "Acerinox Europa Los Barrios steel plant",
          "Celsa Global Steel Wire Santander plant",
          "ArcelorMittal Olaberria-Bergara (Olaberria) steel plant",
          "Megasa Siderúrgica Narón steel plant",
          "Grupo Gallardo Corrugados Getafe steel plant",
          "Celsa Nervacero steel plant",
          "Riva Siderurgica Sevillana steel plant",
          "Megasider Zaragoza steel plant",
          "Outokumpu Avesta steel plant",
          "Ovako Smedjebacken steel plant",
          "Ovako Hofors steel plant",
          "SSAB Luleå steel plant",
          "SSAB Oxelösund steel plant",
          "Stahl Gerlafingen steel plant",
          "Cebitas steel plant",
          "Asil Celik Orhangazi steel plant",
          "İÇDAŞ Biga steel plant",
          "Ekinciler Iron and Steel Iskenderun plant",
          "Yazici Iron and Steel Iskenderun plant",
          "Isdemir Payas steel plant",
          "MMK Türkiye Metallurgical Payas plant",
          "Aba Iron and Steel Payas plant",
          "Ege Steel Aliaga plant",
          "Habas Aliaga steel plant",
          "İDÇ Izdemir Aliaga steel plant",
          "Ozkan Iron and Steel Aliaga plant",
          "Kardemir Merkez steel plant",
          "Kroman Steel Darica plant",
          "Colakoglu Metallurgical Dilovasi plant",
          "Diler Iron and Steel Dilovasi plant",
          "Siddik Kardesler Dilovasi steel plant",
          "Koc Metallurgical Toprakkale plant",
          "Toscelik Toprakkale steel plant",
          "Bastug Metallurgical Toprakkale plant",
          "Yesilyurt Iron and Steel Tekkekoy plant",
          "Kaptan Ereglisi steel plant",
          "Erdemir Eregli steel plant",
          "DCH Dnipro Metallurgical Plant",
          "Interpipe Steel Plant",
          "Metallurgical Plant Kametstal",
          "ArcelorMittal Kryvyi Rih steel plant",
          "Yuzovsky Metallurgical Plant",
          "Azovstal Iron & Steel Works",
          "Metinvest Ilyich Iron & Steel Works",
          "Yenakiieve Iron & Steel Works",
          "Alchevsk Iron & Steel plant",
          "Metinvest Zaporizhstal steel plant",
          "British Steel Scunthorpe plant",
          "Marcegaglia Sheffield steel plant",
          "Celsa Steel UK Cardiff plant",
          "Tata Steel Port Talbot steel plant",
          "Sulb Bahrain Al Hidd steel plant",
          "Bonab Steel Complex",
          "Miyaneh Steel East Azerbaijan",
          "Pasargad Steel Complex Fars",
          "Mobarakeh Steel Hormuzgan Steel Company plant",
          "Kish South Kaveh Steel Hormuzgan plant",
          "Esfahan Steel Isfahan plant",
          "Mobarakeh Steel Complex Isfahan",
          "Natanz Steel Company Isfahan plant",
          "Sirjan Iranian Steel Kerman Plant",
          "Butia Steel Kerman plant",
          "Jahan Foolad Sirjan Steel Kerman plant",
          "Zarand Iranian Steel Company Kerman plant",
          "Khouzestan Steel plant Shadegan",
          "Khorasan Steel Complex Khuzestan",
          "Ghadir Iron & Steel plant Yazd",
          "Arfa Iron and Steel Yazd plant",
          "Iran Alloy Steel Company Yazd plant",
          "West Alborz Ana Steel Zanjan plant",
          "Mass Iron and Steel Industry Co Sulaimaniya plant",
          "United Steel Industrial Kuwait Steel Sharq plant",
          "Jindal Shadeed Iron & Steel Sohar plant",
          "Industries Qatar Steel Mesaieed plant",
          "SABIC Hadeed Al Jubail steel plant",
          "Al Ittefaq National Steel Dammam plant",
          "Al Ittefaq Arab Steel Dammam plant",
          "Solb Steel Jizan plant",
          "Rajhi Al Assemah Steel Jeddah plant",
          "Al Yamamah Steel Industries Yanbu plant",
          "Hadeed Metal Manufacturing Co Damascus steel plant",
          "Hmisho Steel Hassia plant",
          "GHC Emirates Steel Industries Abu Dhabi plant",
          "ArcelorMittal Dofasco steel plant",
          "Ivaco Rolling Mills steel plant",
          "Stelco Lake Erie steel plant",
          "Algoma Steel plant",
          "Gerdau Whitby Steel Mill",
          "ArcelorMittal Montreal steel plant",
          "Rio Tinto Fer et Titane steel plant",
          "Evraz Regina Steel plant",
          "Altos Hornos De Mexico S.A. (AHMSA) steel plant",
          "Deacero Saltillo-Ramos Arizpe steel plant",
          "Deacero Celaya steel plant",
          "Gerdau Corsa Ciudad Sahagún steel plant",
          "ArcelorMittal Lázaro Cárdenas steel plant",
          "Ternium Apodaca steel plant",
          "Ternium Guerrero San Nicolás de los Garza steel plant",
          "Ternium Puebla steel plant",
          "Grupo Acerero steel plant",
          "Acero Simec San Luis steel plants",
          "Gerdau Tultitlán (Sidertul) steel plant",
          "Acero Simec Apizaco steel plant",
          "TYASA steel plant",
          "TenarisTamsa Veracruz steel plant",
          "SSAB Americas Alabama steel plant",
          "CMC Alabama steel plant",
          "Outokumpu Stainless USA steel plant",
          "Nucor Steel Decatur plant",
          "Nucor Steel Tuscaloosa plant",
          "CMC Arizona steel plant",
          "Nucor Steel Hickman plant",
          "Nucor-Yamato Steel Blytheville plant",
          "Gerdau Fort Smith steel plant",
          "U.S. Steel Big River Steel plant",
          "Evraz Pueblo steel plant",
          "CMC Steel Florida plant",
          "Gerdau Cartersville steel plant",
          "Alton Steel plant",
          "Nucor Steel Kankakee plant",
          "Finkl Steel Chicago plant",
          "U.S. Steel Granite City Works",
          "Liberty Steel & Wire Peoria plant",
          "Cleveland-Cliffs Riverdale steel plant",
          "Leggett & Platt Sterling Steel plant",
          "Cleveland-Cliffs Burns Harbor steel plant",
          "Steel Dynamics Butler plant",
          "Steel Dynamics Columbia City plant",
          "Nucor Steel Crawfordsville plant",
          "Cleveland-Cliffs Indiana Harbor steel plant",
          "U.S. Steel Gary Works",
          "Steel Dynamics Engineered Bar Products steel plant",
          "NLMK Indiana steel plant",
          "SSAB Americas Iowa steel plant",
          "North American Stainless steel plant",
          "Nucor Steel Gallatin plant",
          "Cleveland-Cliffs Dearborn steel plant",
          "U.S. Steel Great Lakes Works",
          "Gerdau Monroe steel plant",
          "Gerdau Saint Paul steel plant",
          "Steel Dynamics Columbus plant",
          "Nucor Steel Norfolk plant",
          "CMC Steel New Jersey plant",
          "Nucor Steel Hertford plant",
          "Republic Steel Canton plant",
          "Timken Harrison steel plant",
          "Timken Faircrest steel plant",
          "Cleveland-Cliffs Cleveland steel plant",
          "Charter Steel Cleveland plant",
          "BlueScope North Star Steel plant",
          "Cleveland-Cliffs Mansfield Works",
          "Cleveland-Cliffs Middletown steel plant",
          "JSW Steel USA Ohio plant",
          "Vallourec Star Youngstown steel plant",
          "Cascade Steel Rolling Mills",
          "U.S. Steel Edgar Thomson Plant",
          "Cleveland-Cliffs Coatesville steel plant",
          "Cleveland-Cliffs Butler steel plant",
          "Cleveland-Cliffs Steelton steel plant",
          "CMC South Carolina steel plant",
          "Nucor Steel Darlington plant",
          "Liberty Steel Georgetown plant",
          "Nucor Steel Berkeley plant",
          "CMC Tennessee steel plant",
          "Nucor Steel Memphis plant",
          "Optimus Steel Beaumont plant",
          "Nucor Steel Jewett plant",
          "Gerdau Midlothian Steel Mill",
          "CMC Steel Texas plant",
          "Nucor Steel Plymouth plant",
          "Gerdau Petersburg Steel Mill",
          "Steel Dynamics Roanoke steel plant",
          "Nucor Steel Seattle plant",
          "Charter Steel Saukville plant"
         ],
         "lat": [
          36.795924,
          36.753961,
          35.770912,
          -8.5824,
          31.123467,
          29.152604,
          29.774458,
          30.389174,
          30.393079,
          30.382179,
          29.692045,
          29.923176,
          29.872757,
          5.70949,
          32.335185,
          33.136529,
          33.592793,
          5.480763,
          -26.657367,
          -27.705376,
          -25.796313,
          -32.97952,
          0.611975,
          -34.463834,
          -33.76601,
          -33.009381,
          -37.831379,
          22.38106,
          22.536569,
          22.472008,
          22.499834,
          22.87176,
          30.531068,
          30.532786,
          32.619248,
          32.329171,
          31.698884,
          31.502272,
          30.907561,
          31.062807,
          31.229893,
          31.194505,
          31.246635,
          30.709058,
          29.790253,
          29.39798,
          29.440056,
          29.836163,
          26.491308,
          26.483815,
          25.95923,
          26.48747,
          25.737777,
          26.768925,
          26.7695,
          26.961516,
          25.244396,
          26.261109,
          24.635769,
          24.472439,
          39.812121,
          36.033646,
          36.488866,
          23.126822,
          23.693659,
          24.49796,
          24.708232,
          21.697069,
          22.084904,
          24.262452,
          21.056035,
          21.96092,
          21.519924,
          21.687637,
          23.088182,
          23.089502,
          24.673567,
          23.978962,
          23.978567,
          23.987136,
          23.987007,
          23.979937,
          24.385304,
          22.712996,
          23.524465,
          23.520307,
          23.518229,
          21.67261,
          26.873592,
          26.595229,
          26.509525,
          25.150857,
          27.591691,
          27.615147,
          27.591697,
          27.614947,
          38.311738,
          40.947707,
          40.515035,
          40.593875,
          40.622466,
          36.621504,
          36.601308,
          36.733675,
          36.731752,
          36.64577,
          36.721376,
          36.664097,
          36.786851,
          36.718952,
          36.679431,
          36.710754,
          36.555205,
          36.640411,
          36.715632,
          36.744936,
          36.631491,
          38.289221,
          39.700721,
          39.748773,
          39.65849,
          38.060735,
          38.391372,
          37.752351,
          40.044026,
          39.648587,
          38.953664,
          39.976702,
          39.468366,
          39.497472,
          39.952209,
          39.925508,
          39.938866,
          40.209844,
          40.183913,
          39.610605,
          39.19256,
          40.167686,
          39.730795,
          39.268452,
          39.600956,
          39.861425,
          39.700499,
          39.898362,
          39.4632,
          39.659153,
          39.880661,
          39.748373,
          39.676326,
          39.146541,
          39.803524,
          39.699354,
          39.51833,
          39.222566,
          39.967373,
          39.85271,
          37.041601,
          37.086116,
          40.589591,
          45.562002,
          47.191285,
          46.602297,
          47.495036,
          36.122129,
          33.287536,
          36.143573,
          36.163203,
          35.879956,
          36.152418,
          34.263509,
          34.702951,
          35.086396,
          36.131666,
          34.798477,
          33.269324,
          32.488704,
          34.013369,
          34.64443,
          30.39574,
          30.532352,
          30.341239,
          30.204603,
          30.067469,
          30.070219,
          30.3505,
          32.650367,
          32.738598,
          31.50221,
          30.616222,
          30.394434,
          32.10704,
          32.127263,
          29.916729,
          31.006752,
          30.586332,
          26.865484,
          27.690401,
          27.747782,
          27.81413,
          40.647997,
          40.662343,
          41.362925,
          40.662343,
          40.689778,
          42.278115,
          39.867015,
          39.855971,
          46.055685,
          31.707656,
          31.471123,
          31.602554,
          32.027791,
          32.104319,
          33.566039,
          31.950191,
          31.952064,
          31.892299,
          31.985496,
          35.09556,
          34.38381,
          34.423786,
          32.200797,
          31.902969,
          31.855205,
          31.723833,
          31.400644,
          31.681005,
          31.816482,
          34.577016,
          34.364872,
          34.448514,
          34.368618,
          34.500122,
          33.211332,
          34.443469,
          32.838703,
          32.249602,
          31.983146,
          31.980237,
          32.138393,
          24.912904,
          29.778431,
          28.645441,
          27.64555,
          28.60445,
          27.786859,
          45.593303,
          44.138826,
          44.022802,
          44.011951,
          42.3249,
          43.196537,
          43.20023,
          41.779125,
          41.148267,
          40.981855,
          41.173613,
          41.274132,
          41.224814,
          41.528945,
          41.271048,
          39.193697,
          41.841223,
          41.838774,
          41.225003,
          40.308494,
          40.671136,
          40.664651,
          39.215452,
          37.503054,
          36.66856,
          35.618466,
          33.133192,
          33.323678,
          33.132446,
          34.523278,
          36.863145,
          36.928208,
          36.894784,
          36.813545,
          36.22141,
          36.308447,
          36.728409,
          36.106143,
          34.951117,
          35.6296,
          35.16535,
          35.188969,
          36.229201,
          36.644469,
          36.939125,
          36.970875,
          37.548627,
          36.906036,
          36.891189,
          36.887998,
          31.41623,
          31.379422,
          36.332449,
          36.472303,
          36.326589,
          36.356404,
          36.148131,
          40.183517,
          35.701895,
          35.605506,
          35.662985,
          37.075017,
          35.701541,
          35.880324,
          35.727776,
          35.934831,
          35.668163,
          37.370796,
          37.931488,
          37.571354,
          35.586841,
          35.417405,
          35.665945,
          31.031921,
          27.74799,
          31.763517,
          29.732143,
          26.565265,
          30.830726,
          31.18945,
          30.059133,
          39.501442,
          39.031083,
          39.034002,
          36.58967,
          38.832642,
          38.825269,
          38.970638,
          39.300258,
          42.674192,
          42.333321,
          44.080866,
          44.290299,
          42.700465,
          44.404189,
          43.526808,
          43.852147,
          25.142516,
          23.470733,
          24.909695,
          24.80128,
          25.45543,
          26.275342,
          24.249024,
          24.465884,
          24.012309,
          30.720411,
          30.944342,
          28.136096,
          28.090098,
          28.787202,
          29.918776,
          30.267113,
          28.893407,
          14.873471,
          17.612846,
          21.185157,
          22.004694,
          21.922703,
          21.983709,
          21.87673,
          21.354495,
          21.376214,
          21.244467,
          23.112781,
          21.112377,
          29.127253,
          24.145239,
          23.632907,
          23.671677,
          22.788598,
          22.812895,
          23.632991,
          15.16972,
          15.339055,
          15.180423,
          18.690312,
          19.262606,
          21.118112,
          21.232929,
          20.884896,
          20.998641,
          20.954939,
          20.970411,
          20.976277,
          21.99181,
          21.801994,
          20.796053,
          22.210804,
          22.085338,
          21.763989,
          11.814912,
          23.673236,
          23.54843,
          23.522882,
          23.487077,
          23.50844,
          22.385611,
          22.360664,
          -6.007021,
          -5.998661,
          -6.181643,
          -3.339296,
          -6.282658,
          35.118836,
          34.702012,
          35.044558,
          35.016404,
          35.027575,
          35.065055,
          34.719644,
          34.465222,
          34.503883,
          34.501198,
          34.515062,
          34.221172,
          33.976513,
          42.341873,
          34.784113,
          34.786879,
          34.788074,
          34.783319,
          34.783057,
          34.720268,
          34.703624,
          34.693045,
          34.59822,
          34.699762,
          34.628162,
          34.816321,
          34.233519,
          35.580917,
          35.882023,
          35.93437,
          35.48069,
          35.360912,
          35.813807,
          36.540425,
          33.911803,
          33.89771,
          33.881431,
          33.260829,
          38.265706,
          1.451512,
          4.007595,
          5.380391,
          2.812908,
          2.8072653,
          3.069682,
          3.077835,
          3.042585,
          4.285062,
          4.264364,
          -37.206878,
          41.777936,
          41.753784,
          38.742224,
          38.729864,
          31.643426,
          24.841851,
          13.922346,
          1.30674117443,
          35.991176,
          36.00147,
          36.004981,
          36.00931,
          35.968596,
          37.482625,
          37.486465,
          37.489678,
          36.956486,
          36.983721,
          36.986282,
          35.083819,
          35.216552,
          35.204191,
          34.920086,
          25.067119,
          22.830857,
          22.78062,
          24.568401,
          24.31287,
          24.226897,
          22.563095,
          13.275832,
          13.052398,
          13.054668,
          12.677582,
          12.674898,
          12.706642,
          12.819544,
          12.793786,
          13.647672,
          10.601568,
          10.551445,
          10.577042,
          10.560316,
          10.576597,
          10.601423,
          11.113343,
          11.054204,
          18.036333,
          21.01536,
          22.306931,
          15.37768,
          21.557484,
          19.326924,
          -34.152554,
          -33.37365,
          -32.9912336,
          -33.249936,
          -3.585917,
          -20.34291,
          -20.253447,
          -4.874373,
          -20.153931,
          -19.491277,
          -20.582683,
          -19.832129,
          -21.626963,
          -20.543507,
          -19.531272,
          -25.564041,
          -22.525806,
          -22.493597,
          -22.912549,
          -22.90242,
          -22.512631,
          -23.43864,
          -22.921912,
          -22.89918,
          -22.698154,
          -36.746421,
          -33.294729,
          14.232007,
          -9.059693,
          -13.788622,
          8.259073,
          40.43136,
          41.531645,
          50.045849,
          52.334465,
          51.142738,
          54.99484,
          55.27073,
          53.427593,
          55.197524,
          55.233675,
          53.88618,
          50.563131,
          44.881938,
          52.557372,
          55.382815,
          51.214781,
          55.726872,
          47.241557,
          51.936009,
          44.688323,
          57.922851,
          56.90205,
          56.478428,
          56.849666,
          59.593854,
          54.156726,
          57.109316,
          48.754025,
          48.804332,
          59.143998,
          40.233432,
          41.094611,
          47.380455,
          48.274023,
          52.849321,
          51.169929,
          50.410335,
          50.414998,
          44.224446,
          42.595629,
          45.445978,
          49.792139,
          49.689053,
          61.149466,
          65.767115,
          64.651111,
          48.611482,
          51.041274,
          49.033678,
          48.983515,
          48.387211,
          43.529693,
          43.43283,
          48.595058,
          48.512051,
          52.402617,
          52.168649,
          52.650903,
          53.133305,
          53.522601,
          52.467622,
          52.313935,
          52.161794,
          51.491649,
          51.371279,
          51.462987,
          50.922844,
          49.353884,
          49.247635,
          51.3128,
          50.654574,
          40.704458,
          39.169632,
          38.564265,
          48.096936,
          48.242994,
          46.945694,
          45.641516,
          45.508698,
          45.460582,
          45.566054,
          45.371651,
          45.642905,
          45.645688,
          45.478363,
          45.145949,
          44.388023,
          42.93652,
          45.419168,
          40.639356,
          37.438448,
          40.508993,
          42.564752,
          46.049182,
          46.232199,
          46.008483,
          45.80649,
          45.598187,
          45.42882,
          45.522097,
          49.527966,
          49.504175,
          47.783771,
          52.484118,
          42.016228,
          66.311519,
          50.083849,
          52.291337,
          50.782614,
          50.342417,
          50.487463,
          50.357438,
          50.947305,
          41.255085,
          38.616023,
          45.512949,
          45.293492,
          45.434119,
          45.735183,
          44.606332,
          44.977213,
          48.612001,
          46.423994,
          43.554741,
          43.525092,
          38.326405,
          41.454855,
          43.313144,
          36.181686,
          43.445344,
          43.03829,
          43.51421,
          40.310803,
          43.30806,
          37.362968,
          41.56988,
          60.148821,
          60.13552,
          60.548682,
          65.559719,
          58.670789,
          47.171958,
          38.74074,
          40.42752,
          40.441491,
          36.690115,
          36.685932,
          36.735672,
          36.768975,
          36.747413,
          38.728005,
          38.751462,
          38.739596,
          38.737005,
          41.180307,
          40.801101,
          40.768409,
          40.783161,
          40.800833,
          37.01488,
          37.016956,
          37.016498,
          41.241199,
          41.015222,
          41.261469,
          48.48079,
          48.492146,
          48.528019,
          47.874411,
          47.982276,
          47.100396,
          47.142529,
          48.220502,
          48.478111,
          47.86838,
          53.580827,
          53.399598,
          51.472502,
          51.577368,
          26.198152,
          37.417437,
          37.424355,
          29.191019,
          27.164518,
          27.188071,
          32.418304,
          32.238827,
          33.428593,
          29.928062,
          30.602249,
          29.091397,
          30.7552,
          30.429452,
          36.343459,
          32.389571,
          32.39309,
          31.940106,
          36.119288,
          35.660125,
          28.989306,
          24.502551,
          24.952688,
          27.018411,
          26.244786,
          26.277917,
          17.298475,
          21.290402,
          23.929542,
          33.626258,
          34.364258,
          24.322033,
          43.269255,
          45.613941,
          42.805448,
          46.518984,
          43.856461,
          45.835148,
          46.044367,
          50.51499,
          26.876889,
          25.511162,
          20.518556,
          19.753326,
          17.930688,
          25.742085,
          25.720327,
          19.169532,
          22.087328,
          22.103324,
          19.630355,
          19.395628,
          18.869272,
          19.182499,
          30.941783,
          33.534372,
          31.148179,
          34.63963,
          33.234761,
          33.285828,
          35.901162,
          35.941421,
          35.307055,
          35.644264,
          38.22577,
          30.282907,
          34.241226,
          38.884465,
          41.180734,
          41.724915,
          38.695049,
          41.513249,
          41.657321,
          41.785971,
          41.631221,
          41.37064,
          41.121613,
          39.976379,
          41.669553,
          41.620799,
          39.875508,
          41.625912,
          41.482009,
          38.725418,
          38.759878,
          42.308171,
          42.263181,
          41.894229,
          44.895442,
          33.44758,
          42.078908,
          40.478824,
          36.353006,
          40.804114,
          40.778466,
          40.755388,
          41.464041,
          41.443147,
          41.568783,
          40.790123,
          39.488589,
          40.314891,
          41.125495,
          45.228035,
          40.39514,
          39.977819,
          40.845524,
          40.23072,
          33.962272,
          34.375628,
          33.367258,
          33.004319,
          35.978104,
          35.048395,
          30.08201,
          31.351853,
          32.457544,
          29.577459,
          41.882789,
          37.181168,
          37.272927,
          47.569597,
          43.400533
         ],
         "legendgroup": "",
         "lon": [
          7.707633,
          6.24442,
          -0.263031,
          13.405271,
          29.80987,
          31.247401,
          31.312013,
          30.571894,
          30.58773,
          30.563029,
          32.322117,
          32.466587,
          32.469342,
          -0.023595,
          15.215053,
          -8.603555,
          -7.475613,
          5.769839,
          27.82231,
          30.014063,
          29.497972,
          18.023228,
          33.457629,
          150.886191,
          150.849819,
          137.587836,
          144.788169,
          91.76862,
          91.700729,
          91.734827,
          91.715778,
          91.546568,
          117.251147,
          117.25166,
          116.905869,
          115.954963,
          118.468194,
          118.465162,
          117.772866,
          117.956015,
          118.150867,
          118.067833,
          119.120443,
          118.436638,
          107.040368,
          103.542532,
          105.741929,
          106.988138,
          119.63624,
          119.67105,
          119.452018,
          119.654461,
          119.592239,
          119.765203,
          119.738519,
          119.654272,
          118.029905,
          117.614709,
          117.603677,
          117.94885,
          98.295555,
          104.035535,
          103.922,
          113.505817,
          114.743048,
          114.93888,
          113.635898,
          111.848841,
          111.642187,
          113.728198,
          110.48657,
          113.198718,
          109.506427,
          108.412344,
          109.634638,
          109.63938,
          110.78959,
          111.735523,
          111.735529,
          111.914197,
          111.739775,
          111.745037,
          109.37963,
          109.33725,
          111.2402,
          111.229981,
          111.235509,
          109.741866,
          106.73215,
          104.877413,
          107.570458,
          105.041722,
          106.814024,
          106.949926,
          106.815453,
          106.949752,
          117.457779,
          117.719747,
          117.596071,
          118.633334,
          118.490845,
          114.128189,
          114.439889,
          113.925994,
          114.098377,
          114.124258,
          113.910271,
          114.115263,
          114.376132,
          114.111677,
          114.169024,
          114.207855,
          114.108273,
          113.981172,
          114.208992,
          114.111602,
          113.968635,
          117.814367,
          118.871477,
          118.819472,
          118.894804,
          114.560358,
          114.139998,
          115.184798,
          118.552001,
          118.212487,
          118.50339,
          118.558788,
          118.256774,
          118.272056,
          118.559444,
          118.672756,
          118.576678,
          118.220547,
          118.073913,
          118.474722,
          118.899533,
          117.964004,
          118.467608,
          119.024819,
          118.358726,
          118.03667,
          118.456775,
          118.579364,
          118.247191,
          118.411488,
          118.558755,
          118.624794,
          118.427914,
          118.432261,
          118.205663,
          118.213188,
          118.715766,
          118.094201,
          117.857659,
          118.181279,
          114.452352,
          114.384832,
          115.090889,
          126.968128,
          123.616512,
          131.071877,
          129.287919,
          114.283145,
          113.474328,
          114.149964,
          114.296223,
          114.334825,
          114.15839,
          113.853979,
          112.955911,
          112.553774,
          113.872158,
          112.580505,
          111.534635,
          114.038243,
          116.422599,
          112.937985,
          114.861313,
          114.747597,
          114.857744,
          115.125838,
          114.934091,
          114.926251,
          112.353782,
          110.654794,
          110.793269,
          114.008142,
          114.444975,
          114.257701,
          112.235621,
          112.715688,
          113.822921,
          113.754995,
          111.398846,
          112.576853,
          111.437288,
          111.967343,
          112.897377,
          109.740898,
          109.696243,
          110.988771,
          109.698333,
          110.214707,
          119.015289,
          106.890377,
          106.886647,
          122.063282,
          120.079591,
          119.485941,
          119.724256,
          119.57706,
          119.792126,
          118.988442,
          120.328449,
          120.189749,
          120.198394,
          120.644565,
          119.279989,
          119.786878,
          119.778311,
          118.746315,
          118.61667,
          120.730505,
          120.835685,
          120.475103,
          120.251785,
          120.424347,
          117.339638,
          117.322633,
          117.271876,
          118.31556,
          116.908897,
          120.774892,
          119.816574,
          119.425236,
          119.620438,
          120.638992,
          120.571455,
          119.554693,
          114.844503,
          116.27527,
          115.99204,
          113.902126,
          118.163615,
          114.921595,
          122.895588,
          125.914941,
          125.505627,
          126.537086,
          125.246892,
          126.00063,
          124.335697,
          126.022349,
          122.983054,
          122.948643,
          122.945501,
          123.722099,
          123.608374,
          120.369983,
          119.41374,
          122.057788,
          123.753895,
          123.806586,
          122.970488,
          122.13079,
          122.395441,
          122.415057,
          106.688294,
          105.078348,
          101.671414,
          110.575788,
          106.671859,
          106.167206,
          106.657646,
          109.986042,
          117.616918,
          117.694654,
          117.888366,
          116.757697,
          117.627728,
          117.540425,
          117.426582,
          117.820108,
          118.305389,
          119.722335,
          119.366671,
          119.383723,
          116.533981,
          119.238427,
          118.785598,
          118.955444,
          121.277488,
          118.111833,
          118.187041,
          118.145416,
          121.440087,
          121.484652,
          113.15509,
          113.344155,
          113.117181,
          113.060809,
          113.209523,
          113.305462,
          110.786826,
          110.652056,
          112.882395,
          111.985148,
          111.42671,
          111.387956,
          111.330122,
          111.49707,
          111.37916,
          111.161118,
          112.539321,
          112.229791,
          111.258436,
          111.303919,
          111.025976,
          103.672956,
          102.20517,
          104.761441,
          104.504339,
          101.673737,
          105.367695,
          107.453099,
          102.625907,
          118.719554,
          117.499246,
          117.486798,
          113.745792,
          117.102765,
          117.08849,
          117.495794,
          117.800231,
          86.280156,
          86.302481,
          88.417209,
          86.595826,
          93.542466,
          84.966753,
          83.294323,
          87.304639,
          102.077727,
          103.272784,
          102.48347,
          104.063455,
          103.547242,
          104.168311,
          102.521747,
          102.543682,
          102.186364,
          120.898518,
          120.971803,
          120.380401,
          119.519509,
          120.248592,
          121.876423,
          121.052503,
          118.867125,
          78.048425,
          83.191918,
          81.394207,
          82.671666,
          83.347178,
          83.238133,
          83.554495,
          81.676444,
          81.681888,
          81.771252,
          70.0866885,
          72.647304,
          75.773075,
          86.334999,
          86.293671,
          86.10687,
          86.1996,
          86.084022,
          85.325308,
          76.37971,
          76.251696,
          76.663134,
          73.035902,
          73.396916,
          79.005585,
          79.632398,
          84.991539,
          86.019102,
          86.051986,
          86.015211,
          86.044419,
          85.325375,
          85.56751,
          85.260382,
          84.86895,
          84.86184,
          84.022529,
          77.918465,
          86.926179,
          87.245247,
          87.275935,
          87.369565,
          87.282253,
          87.287179,
          87.295932,
          106.001766,
          105.99866,
          106.932331,
          115.927125,
          107.117683,
          136.867567,
          137.249114,
          136.900772,
          136.864744,
          136.870552,
          136.815384,
          137.322259,
          133.431205,
          133.710136,
          133.722123,
          133.745525,
          132.540104,
          131.173031,
          140.997803,
          134.658493,
          134.625301,
          134.672046,
          134.604616,
          134.669411,
          134.826275,
          135.247207,
          135.428537,
          135.45439,
          135.430119,
          135.459688,
          135.677444,
          135.135443,
          140.104196,
          140.731707,
          140.681019,
          139.729684,
          139.881953,
          139.883129,
          139.993079,
          130.838014,
          130.882435,
          130.755978,
          131.645527,
          141.012963,
          103.917306,
          103.344458,
          100.377598,
          101.4995916,
          101.6055808,
          101.456474,
          101.46448,
          101.537011,
          103.432551,
          103.461728,
          174.728098,
          129.792399,
          129.752681,
          125.616814,
          125.414672,
          73.198542,
          67.310159,
          120.823796,
          103.700300278,
          129.375791,
          129.397609,
          129.384829,
          129.394508,
          126.609524,
          126.670175,
          126.638607,
          126.637942,
          126.616956,
          126.744755,
          126.69735,
          128.989034,
          128.640158,
          128.604277,
          127.74865,
          121.141176,
          120.300604,
          120.357461,
          120.74062,
          120.712774,
          120.493911,
          120.362654,
          100.969791,
          101.086795,
          101.078842,
          101.149401,
          101.147002,
          101.111703,
          101.152954,
          101.244592,
          100.553882,
          107.045491,
          107.04368,
          107.040324,
          107.02684,
          107.028995,
          107.040679,
          106.831064,
          106.615962,
          106.428271,
          106.536023,
          104.12992,
          108.793321,
          105.8728,
          105.777449,
          -58.977388,
          -60.138697,
          -60.7588733,
          -60.300415,
          -38.858932,
          -40.360864,
          -40.242298,
          -47.4073517,
          -44.878995,
          -42.544253,
          -43.971555,
          -43.130164,
          -43.462361,
          -43.75295,
          -42.639979,
          -49.421729,
          -44.191067,
          -44.512628,
          -43.741614,
          -43.749319,
          -44.11287,
          -47.08825,
          -45.413234,
          -45.347726,
          -47.657146,
          -73.129171,
          -70.727881,
          -90.815444,
          -78.601178,
          -76.168172,
          -62.841126,
          49.886867,
          45.02663,
          73.040384,
          76.956302,
          37.940532,
          57.277548,
          61.436492,
          59.054122,
          59.650247,
          36.679192,
          87.257618,
          136.976362,
          38.12751,
          39.629574,
          42.188954,
          58.353913,
          52.535854,
          38.928584,
          47.81591,
          41.927331,
          60.033543,
          59.992198,
          60.249411,
          59.908414,
          60.591196,
          37.725551,
          65.668641,
          44.561004,
          44.79408,
          37.86295,
          69.290873,
          20.026117,
          15.065182,
          14.33434,
          29.988985,
          3.804462,
          4.429693,
          4.532443,
          17.899815,
          23.093095,
          16.391655,
          18.309875,
          18.654557,
          28.798774,
          24.176472,
          24.418544,
          6.111864,
          2.292948,
          1.561022,
          1.76245,
          2.981091,
          -1.500971,
          4.887166,
          7.821633,
          10.855292,
          12.496135,
          14.623473,
          13.212683,
          8.688193,
          9.900749,
          7.317169,
          10.258482,
          10.409371,
          6.733051,
          6.72331,
          6.744612,
          8.024006,
          6.746603,
          6.848662,
          13.280386,
          11.43745,
          22.816542,
          22.840216,
          23.293695,
          20.737722,
          20.334486,
          18.93863,
          9.600242,
          10.248464,
          10.456748,
          10.2147,
          10.331967,
          10.380199,
          10.374305,
          10.209234,
          9.950821,
          7.944998,
          10.537794,
          11.906625,
          15.827842,
          15.03287,
          17.207589,
          12.66936,
          11.440394,
          13.079104,
          13.255117,
          13.215433,
          9.035447,
          11.000861,
          11.499295,
          5.900398,
          5.993759,
          29.02835,
          4.615584,
          21.46605,
          14.167557,
          20.096306,
          20.917302,
          19.165566,
          19.285037,
          19.456759,
          18.610739,
          21.448763,
          -8.555285,
          -9.068527,
          22.339896,
          21.90241,
          27.976244,
          22.91627,
          20.970066,
          19.64601,
          21.191401,
          14.094645,
          -5.87259,
          -5.731926,
          -6.767326,
          1.980107,
          -2.998964,
          -5.426626,
          -3.839228,
          -2.219625,
          -8.163839,
          -3.703568,
          -3.026309,
          -5.886865,
          -0.856566,
          16.172808,
          15.414372,
          16.302815,
          22.219699,
          17.127786,
          7.562287,
          26.951743,
          29.270141,
          27.137563,
          36.205739,
          36.206275,
          36.204581,
          36.213842,
          36.21733,
          26.940095,
          26.950172,
          26.929091,
          26.950824,
          32.634343,
          29.374115,
          29.529979,
          29.533568,
          29.512008,
          36.104416,
          36.10911,
          36.095126,
          36.442055,
          27.959978,
          31.420106,
          34.978097,
          35.092673,
          34.640915,
          33.392993,
          37.810634,
          37.595944,
          37.586423,
          38.228626,
          38.770787,
          35.161773,
          -0.616509,
          -1.395818,
          -3.157583,
          -3.783013,
          50.679893,
          46.035778,
          47.722764,
          52.845405,
          56.094358,
          56.246848,
          51.331314,
          51.424746,
          51.982273,
          56.736539,
          56.911473,
          55.333468,
          56.664215,
          49.093818,
          58.673691,
          53.750272,
          53.7566,
          54.037614,
          49.306341,
          45.039062,
          48.128118,
          56.600739,
          51.584777,
          49.576356,
          49.969064,
          49.949177,
          42.352338,
          39.183444,
          38.336103,
          36.574968,
          36.803848,
          54.467987,
          -79.804858,
          -74.704608,
          -80.095313,
          -84.374068,
          -78.908997,
          -73.254957,
          -73.138474,
          -104.630589,
          -101.416612,
          -100.961848,
          -100.925556,
          -98.596483,
          -102.201498,
          -100.236478,
          -100.301175,
          -98.318659,
          -100.901902,
          -100.919202,
          -99.180315,
          -98.088777,
          -97.047263,
          -96.237284,
          -88.012437,
          -86.75773,
          -87.98866,
          -87.085738,
          -87.508498,
          -111.586561,
          -89.77619,
          -89.713819,
          -94.372912,
          -89.941659,
          -104.607895,
          -81.978735,
          -84.799539,
          -90.14579,
          -87.856196,
          -87.589968,
          -90.136073,
          -87.621438,
          -87.625702,
          -89.710947,
          -87.143846,
          -84.917454,
          -85.348602,
          -86.830727,
          -87.438429,
          -87.348266,
          -86.484214,
          -87.159989,
          -90.820921,
          -85.076015,
          -84.996204,
          -83.161353,
          -83.121553,
          -83.358697,
          -93.010716,
          -88.572683,
          -97.360854,
          -74.321187,
          -76.811471,
          -81.334002,
          -81.396889,
          -81.439369,
          -81.676499,
          -81.659911,
          -84.048129,
          -82.526239,
          -84.386197,
          -80.605553,
          -80.683382,
          -123.163599,
          -79.859645,
          -75.824512,
          -79.921452,
          -76.838506,
          -81.052011,
          -79.895165,
          -79.292515,
          -79.880955,
          -83.956572,
          -90.163033,
          -94.074694,
          -96.165436,
          -97.034246,
          -98.032017,
          -112.196743,
          -77.449517,
          -79.998828,
          -122.367395,
          -87.9482
         ],
         "marker": {
          "color": "fuchsia"
         },
         "mode": "markers",
         "name": "",
         "showlegend": false,
         "subplot": "mapbox",
         "type": "scattermapbox"
        }
       ],
       "layout": {
        "height": 560,
        "legend": {
         "tracegroupgap": 0
        },
        "mapbox": {
         "center": {
          "lat": 32.22177358850406,
          "lon": 61.29563650021039
         },
         "domain": {
          "x": [
           0,
           1
          ],
          "y": [
           0,
           1
          ]
         },
         "style": "open-street-map",
         "zoom": 1
        },
        "margin": {
         "b": 0,
         "l": 0,
         "r": 0,
         "t": 0
        },
        "template": {
         "data": {
          "bar": [
           {
            "error_x": {
             "color": "#2a3f5f"
            },
            "error_y": {
             "color": "#2a3f5f"
            },
            "marker": {
             "line": {
              "color": "#E5ECF6",
              "width": 0.5
             },
             "pattern": {
              "fillmode": "overlay",
              "size": 10,
              "solidity": 0.2
             }
            },
            "type": "bar"
           }
          ],
          "barpolar": [
           {
            "marker": {
             "line": {
              "color": "#E5ECF6",
              "width": 0.5
             },
             "pattern": {
              "fillmode": "overlay",
              "size": 10,
              "solidity": 0.2
             }
            },
            "type": "barpolar"
           }
          ],
          "carpet": [
           {
            "aaxis": {
             "endlinecolor": "#2a3f5f",
             "gridcolor": "white",
             "linecolor": "white",
             "minorgridcolor": "white",
             "startlinecolor": "#2a3f5f"
            },
            "baxis": {
             "endlinecolor": "#2a3f5f",
             "gridcolor": "white",
             "linecolor": "white",
             "minorgridcolor": "white",
             "startlinecolor": "#2a3f5f"
            },
            "type": "carpet"
           }
          ],
          "choropleth": [
           {
            "colorbar": {
             "outlinewidth": 0,
             "ticks": ""
            },
            "type": "choropleth"
           }
          ],
          "contour": [
           {
            "colorbar": {
             "outlinewidth": 0,
             "ticks": ""
            },
            "colorscale": [
             [
              0,
              "#0d0887"
             ],
             [
              0.1111111111111111,
              "#46039f"
             ],
             [
              0.2222222222222222,
              "#7201a8"
             ],
             [
              0.3333333333333333,
              "#9c179e"
             ],
             [
              0.4444444444444444,
              "#bd3786"
             ],
             [
              0.5555555555555556,
              "#d8576b"
             ],
             [
              0.6666666666666666,
              "#ed7953"
             ],
             [
              0.7777777777777778,
              "#fb9f3a"
             ],
             [
              0.8888888888888888,
              "#fdca26"
             ],
             [
              1,
              "#f0f921"
             ]
            ],
            "type": "contour"
           }
          ],
          "contourcarpet": [
           {
            "colorbar": {
             "outlinewidth": 0,
             "ticks": ""
            },
            "type": "contourcarpet"
           }
          ],
          "heatmap": [
           {
            "colorbar": {
             "outlinewidth": 0,
             "ticks": ""
            },
            "colorscale": [
             [
              0,
              "#0d0887"
             ],
             [
              0.1111111111111111,
              "#46039f"
             ],
             [
              0.2222222222222222,
              "#7201a8"
             ],
             [
              0.3333333333333333,
              "#9c179e"
             ],
             [
              0.4444444444444444,
              "#bd3786"
             ],
             [
              0.5555555555555556,
              "#d8576b"
             ],
             [
              0.6666666666666666,
              "#ed7953"
             ],
             [
              0.7777777777777778,
              "#fb9f3a"
             ],
             [
              0.8888888888888888,
              "#fdca26"
             ],
             [
              1,
              "#f0f921"
             ]
            ],
            "type": "heatmap"
           }
          ],
          "heatmapgl": [
           {
            "colorbar": {
             "outlinewidth": 0,
             "ticks": ""
            },
            "colorscale": [
             [
              0,
              "#0d0887"
             ],
             [
              0.1111111111111111,
              "#46039f"
             ],
             [
              0.2222222222222222,
              "#7201a8"
             ],
             [
              0.3333333333333333,
              "#9c179e"
             ],
             [
              0.4444444444444444,
              "#bd3786"
             ],
             [
              0.5555555555555556,
              "#d8576b"
             ],
             [
              0.6666666666666666,
              "#ed7953"
             ],
             [
              0.7777777777777778,
              "#fb9f3a"
             ],
             [
              0.8888888888888888,
              "#fdca26"
             ],
             [
              1,
              "#f0f921"
             ]
            ],
            "type": "heatmapgl"
           }
          ],
          "histogram": [
           {
            "marker": {
             "pattern": {
              "fillmode": "overlay",
              "size": 10,
              "solidity": 0.2
             }
            },
            "type": "histogram"
           }
          ],
          "histogram2d": [
           {
            "colorbar": {
             "outlinewidth": 0,
             "ticks": ""
            },
            "colorscale": [
             [
              0,
              "#0d0887"
             ],
             [
              0.1111111111111111,
              "#46039f"
             ],
             [
              0.2222222222222222,
              "#7201a8"
             ],
             [
              0.3333333333333333,
              "#9c179e"
             ],
             [
              0.4444444444444444,
              "#bd3786"
             ],
             [
              0.5555555555555556,
              "#d8576b"
             ],
             [
              0.6666666666666666,
              "#ed7953"
             ],
             [
              0.7777777777777778,
              "#fb9f3a"
             ],
             [
              0.8888888888888888,
              "#fdca26"
             ],
             [
              1,
              "#f0f921"
             ]
            ],
            "type": "histogram2d"
           }
          ],
          "histogram2dcontour": [
           {
            "colorbar": {
             "outlinewidth": 0,
             "ticks": ""
            },
            "colorscale": [
             [
              0,
              "#0d0887"
             ],
             [
              0.1111111111111111,
              "#46039f"
             ],
             [
              0.2222222222222222,
              "#7201a8"
             ],
             [
              0.3333333333333333,
              "#9c179e"
             ],
             [
              0.4444444444444444,
              "#bd3786"
             ],
             [
              0.5555555555555556,
              "#d8576b"
             ],
             [
              0.6666666666666666,
              "#ed7953"
             ],
             [
              0.7777777777777778,
              "#fb9f3a"
             ],
             [
              0.8888888888888888,
              "#fdca26"
             ],
             [
              1,
              "#f0f921"
             ]
            ],
            "type": "histogram2dcontour"
           }
          ],
          "mesh3d": [
           {
            "colorbar": {
             "outlinewidth": 0,
             "ticks": ""
            },
            "type": "mesh3d"
           }
          ],
          "parcoords": [
           {
            "line": {
             "colorbar": {
              "outlinewidth": 0,
              "ticks": ""
             }
            },
            "type": "parcoords"
           }
          ],
          "pie": [
           {
            "automargin": true,
            "type": "pie"
           }
          ],
          "scatter": [
           {
            "fillpattern": {
             "fillmode": "overlay",
             "size": 10,
             "solidity": 0.2
            },
            "type": "scatter"
           }
          ],
          "scatter3d": [
           {
            "line": {
             "colorbar": {
              "outlinewidth": 0,
              "ticks": ""
             }
            },
            "marker": {
             "colorbar": {
              "outlinewidth": 0,
              "ticks": ""
             }
            },
            "type": "scatter3d"
           }
          ],
          "scattercarpet": [
           {
            "marker": {
             "colorbar": {
              "outlinewidth": 0,
              "ticks": ""
             }
            },
            "type": "scattercarpet"
           }
          ],
          "scattergeo": [
           {
            "marker": {
             "colorbar": {
              "outlinewidth": 0,
              "ticks": ""
             }
            },
            "type": "scattergeo"
           }
          ],
          "scattergl": [
           {
            "marker": {
             "colorbar": {
              "outlinewidth": 0,
              "ticks": ""
             }
            },
            "type": "scattergl"
           }
          ],
          "scattermapbox": [
           {
            "marker": {
             "colorbar": {
              "outlinewidth": 0,
              "ticks": ""
             }
            },
            "type": "scattermapbox"
           }
          ],
          "scatterpolar": [
           {
            "marker": {
             "colorbar": {
              "outlinewidth": 0,
              "ticks": ""
             }
            },
            "type": "scatterpolar"
           }
          ],
          "scatterpolargl": [
           {
            "marker": {
             "colorbar": {
              "outlinewidth": 0,
              "ticks": ""
             }
            },
            "type": "scatterpolargl"
           }
          ],
          "scatterternary": [
           {
            "marker": {
             "colorbar": {
              "outlinewidth": 0,
              "ticks": ""
             }
            },
            "type": "scatterternary"
           }
          ],
          "surface": [
           {
            "colorbar": {
             "outlinewidth": 0,
             "ticks": ""
            },
            "colorscale": [
             [
              0,
              "#0d0887"
             ],
             [
              0.1111111111111111,
              "#46039f"
             ],
             [
              0.2222222222222222,
              "#7201a8"
             ],
             [
              0.3333333333333333,
              "#9c179e"
             ],
             [
              0.4444444444444444,
              "#bd3786"
             ],
             [
              0.5555555555555556,
              "#d8576b"
             ],
             [
              0.6666666666666666,
              "#ed7953"
             ],
             [
              0.7777777777777778,
              "#fb9f3a"
             ],
             [
              0.8888888888888888,
              "#fdca26"
             ],
             [
              1,
              "#f0f921"
             ]
            ],
            "type": "surface"
           }
          ],
          "table": [
           {
            "cells": {
             "fill": {
              "color": "#EBF0F8"
             },
             "line": {
              "color": "white"
             }
            },
            "header": {
             "fill": {
              "color": "#C8D4E3"
             },
             "line": {
              "color": "white"
             }
            },
            "type": "table"
           }
          ]
         },
         "layout": {
          "annotationdefaults": {
           "arrowcolor": "#2a3f5f",
           "arrowhead": 0,
           "arrowwidth": 1
          },
          "autotypenumbers": "strict",
          "coloraxis": {
           "colorbar": {
            "outlinewidth": 0,
            "ticks": ""
           }
          },
          "colorscale": {
           "diverging": [
            [
             0,
             "#8e0152"
            ],
            [
             0.1,
             "#c51b7d"
            ],
            [
             0.2,
             "#de77ae"
            ],
            [
             0.3,
             "#f1b6da"
            ],
            [
             0.4,
             "#fde0ef"
            ],
            [
             0.5,
             "#f7f7f7"
            ],
            [
             0.6,
             "#e6f5d0"
            ],
            [
             0.7,
             "#b8e186"
            ],
            [
             0.8,
             "#7fbc41"
            ],
            [
             0.9,
             "#4d9221"
            ],
            [
             1,
             "#276419"
            ]
           ],
           "sequential": [
            [
             0,
             "#0d0887"
            ],
            [
             0.1111111111111111,
             "#46039f"
            ],
            [
             0.2222222222222222,
             "#7201a8"
            ],
            [
             0.3333333333333333,
             "#9c179e"
            ],
            [
             0.4444444444444444,
             "#bd3786"
            ],
            [
             0.5555555555555556,
             "#d8576b"
            ],
            [
             0.6666666666666666,
             "#ed7953"
            ],
            [
             0.7777777777777778,
             "#fb9f3a"
            ],
            [
             0.8888888888888888,
             "#fdca26"
            ],
            [
             1,
             "#f0f921"
            ]
           ],
           "sequentialminus": [
            [
             0,
             "#0d0887"
            ],
            [
             0.1111111111111111,
             "#46039f"
            ],
            [
             0.2222222222222222,
             "#7201a8"
            ],
            [
             0.3333333333333333,
             "#9c179e"
            ],
            [
             0.4444444444444444,
             "#bd3786"
            ],
            [
             0.5555555555555556,
             "#d8576b"
            ],
            [
             0.6666666666666666,
             "#ed7953"
            ],
            [
             0.7777777777777778,
             "#fb9f3a"
            ],
            [
             0.8888888888888888,
             "#fdca26"
            ],
            [
             1,
             "#f0f921"
            ]
           ]
          },
          "colorway": [
           "#636efa",
           "#EF553B",
           "#00cc96",
           "#ab63fa",
           "#FFA15A",
           "#19d3f3",
           "#FF6692",
           "#B6E880",
           "#FF97FF",
           "#FECB52"
          ],
          "font": {
           "color": "#2a3f5f"
          },
          "geo": {
           "bgcolor": "white",
           "lakecolor": "white",
           "landcolor": "#E5ECF6",
           "showlakes": true,
           "showland": true,
           "subunitcolor": "white"
          },
          "hoverlabel": {
           "align": "left"
          },
          "hovermode": "closest",
          "mapbox": {
           "style": "light"
          },
          "paper_bgcolor": "white",
          "plot_bgcolor": "#E5ECF6",
          "polar": {
           "angularaxis": {
            "gridcolor": "white",
            "linecolor": "white",
            "ticks": ""
           },
           "bgcolor": "#E5ECF6",
           "radialaxis": {
            "gridcolor": "white",
            "linecolor": "white",
            "ticks": ""
           }
          },
          "scene": {
           "xaxis": {
            "backgroundcolor": "#E5ECF6",
            "gridcolor": "white",
            "gridwidth": 2,
            "linecolor": "white",
            "showbackground": true,
            "ticks": "",
            "zerolinecolor": "white"
           },
           "yaxis": {
            "backgroundcolor": "#E5ECF6",
            "gridcolor": "white",
            "gridwidth": 2,
            "linecolor": "white",
            "showbackground": true,
            "ticks": "",
            "zerolinecolor": "white"
           },
           "zaxis": {
            "backgroundcolor": "#E5ECF6",
            "gridcolor": "white",
            "gridwidth": 2,
            "linecolor": "white",
            "showbackground": true,
            "ticks": "",
            "zerolinecolor": "white"
           }
          },
          "shapedefaults": {
           "line": {
            "color": "#2a3f5f"
           }
          },
          "ternary": {
           "aaxis": {
            "gridcolor": "white",
            "linecolor": "white",
            "ticks": ""
           },
           "baxis": {
            "gridcolor": "white",
            "linecolor": "white",
            "ticks": ""
           },
           "bgcolor": "#E5ECF6",
           "caxis": {
            "gridcolor": "white",
            "linecolor": "white",
            "ticks": ""
           }
          },
          "title": {
           "x": 0.05
          },
          "xaxis": {
           "automargin": true,
           "gridcolor": "white",
           "linecolor": "white",
           "ticks": "",
           "title": {
            "standoff": 15
           },
           "zerolinecolor": "white",
           "zerolinewidth": 2
          },
          "yaxis": {
           "automargin": true,
           "gridcolor": "white",
           "linecolor": "white",
           "ticks": "",
           "title": {
            "standoff": 15
           },
           "zerolinecolor": "white",
           "zerolinewidth": 2
          }
         }
        },
        "width": 1000
       }
      }
     },
     "metadata": {},
     "output_type": "display_data"
    }
   ],
   "source": [
    "import plotly.express as px\n",
    "\n",
    "fig = px.scatter_mapbox(df_gspt, lat=\"lat\", lon=\"lon\", hover_name=\"Plant name (English)\", hover_data=[\"Region\", \"Country\"],\n",
    "                        color_discrete_sequence=[\"fuchsia\"], \n",
    "                        zoom=1, \n",
    "                        height=560,width=1000)\n",
    "fig.update_layout(mapbox_style=\"open-street-map\")\n",
    "fig.update_layout(margin={\"r\":0,\"t\":0,\"l\":0,\"b\":0})\n",
    "fig.show()"
   ]
  },
  {
   "cell_type": "markdown",
   "metadata": {},
   "source": [
    "Steel Plants with available production"
   ]
  },
  {
   "cell_type": "code",
   "execution_count": 87,
   "metadata": {},
   "outputs": [],
   "source": [
    "df=gspt.get_merged_capacity_prod(2019)\n",
    "df=df.drop_duplicates([\"Coordinates\"])\n",
    "df[[\"lat\", \"lon\"]] = df[\"Coordinates\"].str.split(\",\",expand=True).astype(float)\n",
    "df=df[df['Crude steel production (ttpa)']>0]\n",
    "df=df[[\"Plant name (English)_x\",\"Region\", \"Country\",'lat','lon','Crude steel production (ttpa)']]\n",
    "df=df.rename(columns={'Crude steel production (ttpa)':'Production 2019'})"
   ]
  },
  {
   "cell_type": "code",
   "execution_count": 88,
   "metadata": {},
   "outputs": [],
   "source": [
    "for year in [2020,2021]:\n",
    "    df1=gspt.get_merged_capacity_prod(year)\n",
    "    df1=df1.drop_duplicates([\"Coordinates\"])\n",
    "    df1[[\"lat\", \"lon\"]] = df1[\"Coordinates\"].str.split(\",\",expand=True).astype(float)\n",
    "    df1=df1[df1['Crude steel production (ttpa)']>0]\n",
    "    df1=df1[[\"Plant name (English)_x\",\"Region\", \"Country\",'lat','lon','Crude steel production (ttpa)']]\n",
    "    df1=df1.rename(columns={'Crude steel production (ttpa)':f'Production {year}'})\n",
    "    \n",
    "    df = pd.merge(df, df1, on=['Plant name (English)_x','Country','Region','lat','lon'], how='outer')"
   ]
  },
  {
   "cell_type": "code",
   "execution_count": 93,
   "metadata": {},
   "outputs": [
    {
     "data": {
      "text/html": [
       "<div>\n",
       "<style scoped>\n",
       "    .dataframe tbody tr th:only-of-type {\n",
       "        vertical-align: middle;\n",
       "    }\n",
       "\n",
       "    .dataframe tbody tr th {\n",
       "        vertical-align: top;\n",
       "    }\n",
       "\n",
       "    .dataframe thead th {\n",
       "        text-align: right;\n",
       "    }\n",
       "</style>\n",
       "<table border=\"1\" class=\"dataframe\">\n",
       "  <thead>\n",
       "    <tr style=\"text-align: right;\">\n",
       "      <th></th>\n",
       "      <th>Plant name (English)_x</th>\n",
       "      <th>Region</th>\n",
       "      <th>Country</th>\n",
       "      <th>lat</th>\n",
       "      <th>lon</th>\n",
       "      <th>Production 2019</th>\n",
       "      <th>Production 2020</th>\n",
       "      <th>Production 2021</th>\n",
       "    </tr>\n",
       "  </thead>\n",
       "  <tbody>\n",
       "    <tr>\n",
       "      <th>0</th>\n",
       "      <td>ArcelorMittal Sonasid Casablanca steel plant</td>\n",
       "      <td>Africa</td>\n",
       "      <td>Morocco</td>\n",
       "      <td>33.136529</td>\n",
       "      <td>-8.603555</td>\n",
       "      <td>500.0</td>\n",
       "      <td>500.0</td>\n",
       "      <td>600.000000</td>\n",
       "    </tr>\n",
       "    <tr>\n",
       "      <th>1</th>\n",
       "      <td>ArcelorMittal Vanderbijlpark Steel Works</td>\n",
       "      <td>Africa</td>\n",
       "      <td>South Africa</td>\n",
       "      <td>-26.657367</td>\n",
       "      <td>27.822310</td>\n",
       "      <td>1900.0</td>\n",
       "      <td>1400.0</td>\n",
       "      <td>2000.000000</td>\n",
       "    </tr>\n",
       "    <tr>\n",
       "      <th>2</th>\n",
       "      <td>ArcelorMittal Newcastle Steel Works</td>\n",
       "      <td>Africa</td>\n",
       "      <td>South Africa</td>\n",
       "      <td>-27.705376</td>\n",
       "      <td>30.014063</td>\n",
       "      <td>1500.0</td>\n",
       "      <td>700.0</td>\n",
       "      <td>1000.000000</td>\n",
       "    </tr>\n",
       "    <tr>\n",
       "      <th>3</th>\n",
       "      <td>ArcelorMittal Saldanha Steel Works</td>\n",
       "      <td>Africa</td>\n",
       "      <td>South Africa</td>\n",
       "      <td>-32.979520</td>\n",
       "      <td>18.023228</td>\n",
       "      <td>900.0</td>\n",
       "      <td>NaN</td>\n",
       "      <td>NaN</td>\n",
       "    </tr>\n",
       "    <tr>\n",
       "      <th>4</th>\n",
       "      <td>BSRM Steels Chattogram plant</td>\n",
       "      <td>Asia Pacific</td>\n",
       "      <td>Bangladesh</td>\n",
       "      <td>22.381060</td>\n",
       "      <td>91.768620</td>\n",
       "      <td>175.0</td>\n",
       "      <td>103.0</td>\n",
       "      <td>515.000000</td>\n",
       "    </tr>\n",
       "    <tr>\n",
       "      <th>...</th>\n",
       "      <td>...</td>\n",
       "      <td>...</td>\n",
       "      <td>...</td>\n",
       "      <td>...</td>\n",
       "      <td>...</td>\n",
       "      <td>...</td>\n",
       "      <td>...</td>\n",
       "      <td>...</td>\n",
       "    </tr>\n",
       "    <tr>\n",
       "      <th>292</th>\n",
       "      <td>Cleveland-Cliffs Dearborn steel plant</td>\n",
       "      <td>North America</td>\n",
       "      <td>United States</td>\n",
       "      <td>42.308171</td>\n",
       "      <td>-83.161353</td>\n",
       "      <td>NaN</td>\n",
       "      <td>NaN</td>\n",
       "      <td>2018.389773</td>\n",
       "    </tr>\n",
       "    <tr>\n",
       "      <th>293</th>\n",
       "      <td>Steel Dynamics Columbus plant</td>\n",
       "      <td>North America</td>\n",
       "      <td>United States</td>\n",
       "      <td>33.447580</td>\n",
       "      <td>-88.572683</td>\n",
       "      <td>NaN</td>\n",
       "      <td>NaN</td>\n",
       "      <td>3094.000000</td>\n",
       "    </tr>\n",
       "    <tr>\n",
       "      <th>294</th>\n",
       "      <td>Cleveland-Cliffs Mansfield Works</td>\n",
       "      <td>North America</td>\n",
       "      <td>United States</td>\n",
       "      <td>40.790123</td>\n",
       "      <td>-82.526239</td>\n",
       "      <td>NaN</td>\n",
       "      <td>NaN</td>\n",
       "      <td>403.677955</td>\n",
       "    </tr>\n",
       "    <tr>\n",
       "      <th>295</th>\n",
       "      <td>U.S. Steel Edgar Thomson Plant</td>\n",
       "      <td>North America</td>\n",
       "      <td>United States</td>\n",
       "      <td>40.395140</td>\n",
       "      <td>-79.859645</td>\n",
       "      <td>NaN</td>\n",
       "      <td>NaN</td>\n",
       "      <td>1682.000000</td>\n",
       "    </tr>\n",
       "    <tr>\n",
       "      <th>296</th>\n",
       "      <td>Steel Dynamics Roanoke steel plant</td>\n",
       "      <td>North America</td>\n",
       "      <td>United States</td>\n",
       "      <td>37.272927</td>\n",
       "      <td>-79.998828</td>\n",
       "      <td>NaN</td>\n",
       "      <td>NaN</td>\n",
       "      <td>536.900000</td>\n",
       "    </tr>\n",
       "  </tbody>\n",
       "</table>\n",
       "<p>297 rows × 8 columns</p>\n",
       "</div>"
      ],
      "text/plain": [
       "                           Plant name (English)_x         Region  \\\n",
       "0    ArcelorMittal Sonasid Casablanca steel plant         Africa   \n",
       "1        ArcelorMittal Vanderbijlpark Steel Works         Africa   \n",
       "2             ArcelorMittal Newcastle Steel Works         Africa   \n",
       "3              ArcelorMittal Saldanha Steel Works         Africa   \n",
       "4                    BSRM Steels Chattogram plant   Asia Pacific   \n",
       "..                                            ...            ...   \n",
       "292         Cleveland-Cliffs Dearborn steel plant  North America   \n",
       "293                 Steel Dynamics Columbus plant  North America   \n",
       "294              Cleveland-Cliffs Mansfield Works  North America   \n",
       "295                U.S. Steel Edgar Thomson Plant  North America   \n",
       "296            Steel Dynamics Roanoke steel plant  North America   \n",
       "\n",
       "           Country        lat        lon  Production 2019  Production 2020  \\\n",
       "0          Morocco  33.136529  -8.603555            500.0            500.0   \n",
       "1     South Africa -26.657367  27.822310           1900.0           1400.0   \n",
       "2     South Africa -27.705376  30.014063           1500.0            700.0   \n",
       "3     South Africa -32.979520  18.023228            900.0              NaN   \n",
       "4       Bangladesh  22.381060  91.768620            175.0            103.0   \n",
       "..             ...        ...        ...              ...              ...   \n",
       "292  United States  42.308171 -83.161353              NaN              NaN   \n",
       "293  United States  33.447580 -88.572683              NaN              NaN   \n",
       "294  United States  40.790123 -82.526239              NaN              NaN   \n",
       "295  United States  40.395140 -79.859645              NaN              NaN   \n",
       "296  United States  37.272927 -79.998828              NaN              NaN   \n",
       "\n",
       "     Production 2021  \n",
       "0         600.000000  \n",
       "1        2000.000000  \n",
       "2        1000.000000  \n",
       "3                NaN  \n",
       "4         515.000000  \n",
       "..               ...  \n",
       "292      2018.389773  \n",
       "293      3094.000000  \n",
       "294       403.677955  \n",
       "295      1682.000000  \n",
       "296       536.900000  \n",
       "\n",
       "[297 rows x 8 columns]"
      ]
     },
     "execution_count": 93,
     "metadata": {},
     "output_type": "execute_result"
    }
   ],
   "source": [
    "df"
   ]
  },
  {
   "cell_type": "code",
   "execution_count": 89,
   "metadata": {},
   "outputs": [],
   "source": [
    "two_year_prod= df[df['Production 2019'].notna() & df['Production 2020'].notna()]"
   ]
  },
  {
   "cell_type": "code",
   "execution_count": 96,
   "metadata": {},
   "outputs": [
    {
     "data": {
      "text/plain": [
       "array(['Morocco', 'South Africa', 'Bangladesh', 'China', 'India',\n",
       "       'Indonesia', 'Japan', 'Malaysia', 'Pakistan', 'South Korea',\n",
       "       'Thailand', 'Argentina', 'Brazil', 'Chile', 'Guatemala', 'Peru',\n",
       "       'Kazakhstan', 'Russia', 'Belarus', 'Belgium',\n",
       "       'Bosnia and Herzegovina', 'Bulgaria', 'Czech Republic', 'France',\n",
       "       'Germany', 'Italy', 'Luxembourg', 'Netherlands', 'North Macedonia',\n",
       "       'Romania', 'Spain', 'Ukraine', 'Qatar', 'Canada', 'Mexico',\n",
       "       'United States'], dtype=object)"
      ]
     },
     "execution_count": 96,
     "metadata": {},
     "output_type": "execute_result"
    }
   ],
   "source": [
    "two_year_prod.Country.unique()"
   ]
  },
  {
   "cell_type": "code",
   "execution_count": 105,
   "metadata": {},
   "outputs": [
    {
     "data": {
      "text/html": [
       "<div>\n",
       "<style scoped>\n",
       "    .dataframe tbody tr th:only-of-type {\n",
       "        vertical-align: middle;\n",
       "    }\n",
       "\n",
       "    .dataframe tbody tr th {\n",
       "        vertical-align: top;\n",
       "    }\n",
       "\n",
       "    .dataframe thead th {\n",
       "        text-align: right;\n",
       "    }\n",
       "</style>\n",
       "<table border=\"1\" class=\"dataframe\">\n",
       "  <thead>\n",
       "    <tr style=\"text-align: right;\">\n",
       "      <th></th>\n",
       "      <th>Plant name (English)_x</th>\n",
       "      <th>Region</th>\n",
       "      <th>Country</th>\n",
       "      <th>lat</th>\n",
       "      <th>lon</th>\n",
       "      <th>Production 2019</th>\n",
       "      <th>Production 2020</th>\n",
       "      <th>Production 2021</th>\n",
       "      <th>variance</th>\n",
       "    </tr>\n",
       "  </thead>\n",
       "  <tbody>\n",
       "    <tr>\n",
       "      <th>84</th>\n",
       "      <td>Aichi Steel Chita Plant (Tokai)</td>\n",
       "      <td>Asia Pacific</td>\n",
       "      <td>Japan</td>\n",
       "      <td>35.044558</td>\n",
       "      <td>136.900772</td>\n",
       "      <td>659.000000</td>\n",
       "      <td>847.000000</td>\n",
       "      <td>1045.000000</td>\n",
       "      <td>1</td>\n",
       "    </tr>\n",
       "    <tr>\n",
       "      <th>85</th>\n",
       "      <td>Daido Steel Chita plant (Tokai)</td>\n",
       "      <td>Asia Pacific</td>\n",
       "      <td>Japan</td>\n",
       "      <td>35.016404</td>\n",
       "      <td>136.864744</td>\n",
       "      <td>978.000000</td>\n",
       "      <td>1255.000000</td>\n",
       "      <td>1410.000000</td>\n",
       "      <td>1</td>\n",
       "    </tr>\n",
       "    <tr>\n",
       "      <th>86</th>\n",
       "      <td>Nippon East Japan Works (Nagoya) steel plant</td>\n",
       "      <td>Asia Pacific</td>\n",
       "      <td>Japan</td>\n",
       "      <td>35.027575</td>\n",
       "      <td>136.870552</td>\n",
       "      <td>5848.000000</td>\n",
       "      <td>5569.000000</td>\n",
       "      <td>5657.000000</td>\n",
       "      <td>0</td>\n",
       "    </tr>\n",
       "    <tr>\n",
       "      <th>87</th>\n",
       "      <td>JFE West Japan Works (Fukuyama) steel plant</td>\n",
       "      <td>Asia Pacific</td>\n",
       "      <td>Japan</td>\n",
       "      <td>34.465222</td>\n",
       "      <td>133.431205</td>\n",
       "      <td>10563.913043</td>\n",
       "      <td>8817.391304</td>\n",
       "      <td>10173.913043</td>\n",
       "      <td>0</td>\n",
       "    </tr>\n",
       "    <tr>\n",
       "      <th>88</th>\n",
       "      <td>JFE West Japan Works (Kurashiki) steel plant</td>\n",
       "      <td>Asia Pacific</td>\n",
       "      <td>Japan</td>\n",
       "      <td>34.501198</td>\n",
       "      <td>133.722123</td>\n",
       "      <td>8126.086957</td>\n",
       "      <td>6782.608696</td>\n",
       "      <td>7826.086957</td>\n",
       "      <td>0</td>\n",
       "    </tr>\n",
       "    <tr>\n",
       "      <th>89</th>\n",
       "      <td>North Nippon Muroran Works steel plant</td>\n",
       "      <td>Asia Pacific</td>\n",
       "      <td>Japan</td>\n",
       "      <td>42.341873</td>\n",
       "      <td>140.997803</td>\n",
       "      <td>1433.000000</td>\n",
       "      <td>791.000000</td>\n",
       "      <td>1448.000000</td>\n",
       "      <td>0</td>\n",
       "    </tr>\n",
       "    <tr>\n",
       "      <th>92</th>\n",
       "      <td>Nippon Steel Wakayama Area (Sakai) plant</td>\n",
       "      <td>Asia Pacific</td>\n",
       "      <td>Japan</td>\n",
       "      <td>34.598220</td>\n",
       "      <td>135.454390</td>\n",
       "      <td>1200.000000</td>\n",
       "      <td>1090.000000</td>\n",
       "      <td>NaN</td>\n",
       "      <td>0</td>\n",
       "    </tr>\n",
       "    <tr>\n",
       "      <th>93</th>\n",
       "      <td>Nakayama Steel Works Osaka</td>\n",
       "      <td>Asia Pacific</td>\n",
       "      <td>Japan</td>\n",
       "      <td>34.628162</td>\n",
       "      <td>135.459688</td>\n",
       "      <td>542.000000</td>\n",
       "      <td>497.000000</td>\n",
       "      <td>NaN</td>\n",
       "      <td>0</td>\n",
       "    </tr>\n",
       "    <tr>\n",
       "      <th>94</th>\n",
       "      <td>Nippon Kansai Works (Wakayama Area, Wakayama) ...</td>\n",
       "      <td>Asia Pacific</td>\n",
       "      <td>Japan</td>\n",
       "      <td>34.233519</td>\n",
       "      <td>135.135443</td>\n",
       "      <td>4324.000000</td>\n",
       "      <td>2694.000000</td>\n",
       "      <td>2732.000000</td>\n",
       "      <td>0</td>\n",
       "    </tr>\n",
       "    <tr>\n",
       "      <th>95</th>\n",
       "      <td>JFE East Japan Works (Chiba) steel plant</td>\n",
       "      <td>Asia Pacific</td>\n",
       "      <td>Japan</td>\n",
       "      <td>35.580917</td>\n",
       "      <td>140.104196</td>\n",
       "      <td>3883.381924</td>\n",
       "      <td>3516.034985</td>\n",
       "      <td>3830.903790</td>\n",
       "      <td>0</td>\n",
       "    </tr>\n",
       "    <tr>\n",
       "      <th>96</th>\n",
       "      <td>Nippon East Japan Works (Kashima) steel plant</td>\n",
       "      <td>Asia Pacific</td>\n",
       "      <td>Japan</td>\n",
       "      <td>35.934370</td>\n",
       "      <td>140.681019</td>\n",
       "      <td>7162.000000</td>\n",
       "      <td>4447.000000</td>\n",
       "      <td>6985.000000</td>\n",
       "      <td>0</td>\n",
       "    </tr>\n",
       "    <tr>\n",
       "      <th>97</th>\n",
       "      <td>JFE East Japan Works (Keihin) steel plant</td>\n",
       "      <td>Asia Pacific</td>\n",
       "      <td>Japan</td>\n",
       "      <td>35.480690</td>\n",
       "      <td>139.729684</td>\n",
       "      <td>3516.618076</td>\n",
       "      <td>3183.965015</td>\n",
       "      <td>3469.096210</td>\n",
       "      <td>0</td>\n",
       "    </tr>\n",
       "    <tr>\n",
       "      <th>98</th>\n",
       "      <td>Nippon East Japan Works (Kimitsu) steel plant</td>\n",
       "      <td>Asia Pacific</td>\n",
       "      <td>Japan</td>\n",
       "      <td>35.360912</td>\n",
       "      <td>139.881953</td>\n",
       "      <td>8019.000000</td>\n",
       "      <td>5703.000000</td>\n",
       "      <td>7801.000000</td>\n",
       "      <td>0</td>\n",
       "    </tr>\n",
       "    <tr>\n",
       "      <th>99</th>\n",
       "      <td>Nippon Kyushu Works (Yawata Area, Tobata) stee...</td>\n",
       "      <td>Asia Pacific</td>\n",
       "      <td>Japan</td>\n",
       "      <td>33.911803</td>\n",
       "      <td>130.838014</td>\n",
       "      <td>3599.000000</td>\n",
       "      <td>3254.000000</td>\n",
       "      <td>3727.000000</td>\n",
       "      <td>0</td>\n",
       "    </tr>\n",
       "    <tr>\n",
       "      <th>101</th>\n",
       "      <td>Nippon Kyushu Works (Oita Area, Oita) steel plant</td>\n",
       "      <td>Asia Pacific</td>\n",
       "      <td>Japan</td>\n",
       "      <td>33.260829</td>\n",
       "      <td>131.645527</td>\n",
       "      <td>8753.000000</td>\n",
       "      <td>8391.000000</td>\n",
       "      <td>8969.000000</td>\n",
       "      <td>0</td>\n",
       "    </tr>\n",
       "    <tr>\n",
       "      <th>102</th>\n",
       "      <td>JFE Sendai Works steel plant</td>\n",
       "      <td>Asia Pacific</td>\n",
       "      <td>Japan</td>\n",
       "      <td>38.265706</td>\n",
       "      <td>141.012963</td>\n",
       "      <td>640.000000</td>\n",
       "      <td>500.000000</td>\n",
       "      <td>600.000000</td>\n",
       "      <td>0</td>\n",
       "    </tr>\n",
       "    <tr>\n",
       "      <th>106</th>\n",
       "      <td>Hyundai Steel Pohang steel plant</td>\n",
       "      <td>Asia Pacific</td>\n",
       "      <td>South Korea</td>\n",
       "      <td>36.004981</td>\n",
       "      <td>129.384829</td>\n",
       "      <td>3031.284553</td>\n",
       "      <td>2481.170732</td>\n",
       "      <td>2397.398374</td>\n",
       "      <td>0</td>\n",
       "    </tr>\n",
       "    <tr>\n",
       "      <th>108</th>\n",
       "      <td>SeAH Besteel Gunsan steel plant</td>\n",
       "      <td>Asia Pacific</td>\n",
       "      <td>South Korea</td>\n",
       "      <td>35.968596</td>\n",
       "      <td>126.609524</td>\n",
       "      <td>2000.000000</td>\n",
       "      <td>2000.000000</td>\n",
       "      <td>2000.000000</td>\n",
       "      <td>0</td>\n",
       "    </tr>\n",
       "    <tr>\n",
       "      <th>109</th>\n",
       "      <td>Hyundai Steel Incheon steel plant</td>\n",
       "      <td>Asia Pacific</td>\n",
       "      <td>South Korea</td>\n",
       "      <td>37.489678</td>\n",
       "      <td>126.637942</td>\n",
       "      <td>4546.926829</td>\n",
       "      <td>3721.756098</td>\n",
       "      <td>3596.097561</td>\n",
       "      <td>0</td>\n",
       "    </tr>\n",
       "    <tr>\n",
       "      <th>111</th>\n",
       "      <td>Hyundai Steel Dangjin steel plant</td>\n",
       "      <td>Asia Pacific</td>\n",
       "      <td>South Korea</td>\n",
       "      <td>36.986282</td>\n",
       "      <td>126.697350</td>\n",
       "      <td>15724.788618</td>\n",
       "      <td>12871.073171</td>\n",
       "      <td>12436.504065</td>\n",
       "      <td>0</td>\n",
       "    </tr>\n",
       "  </tbody>\n",
       "</table>\n",
       "</div>"
      ],
      "text/plain": [
       "                                Plant name (English)_x        Region  \\\n",
       "84                     Aichi Steel Chita Plant (Tokai)  Asia Pacific   \n",
       "85                     Daido Steel Chita plant (Tokai)  Asia Pacific   \n",
       "86        Nippon East Japan Works (Nagoya) steel plant  Asia Pacific   \n",
       "87         JFE West Japan Works (Fukuyama) steel plant  Asia Pacific   \n",
       "88        JFE West Japan Works (Kurashiki) steel plant  Asia Pacific   \n",
       "89              North Nippon Muroran Works steel plant  Asia Pacific   \n",
       "92            Nippon Steel Wakayama Area (Sakai) plant  Asia Pacific   \n",
       "93                          Nakayama Steel Works Osaka  Asia Pacific   \n",
       "94   Nippon Kansai Works (Wakayama Area, Wakayama) ...  Asia Pacific   \n",
       "95            JFE East Japan Works (Chiba) steel plant  Asia Pacific   \n",
       "96       Nippon East Japan Works (Kashima) steel plant  Asia Pacific   \n",
       "97           JFE East Japan Works (Keihin) steel plant  Asia Pacific   \n",
       "98       Nippon East Japan Works (Kimitsu) steel plant  Asia Pacific   \n",
       "99   Nippon Kyushu Works (Yawata Area, Tobata) stee...  Asia Pacific   \n",
       "101  Nippon Kyushu Works (Oita Area, Oita) steel plant  Asia Pacific   \n",
       "102                       JFE Sendai Works steel plant  Asia Pacific   \n",
       "106                   Hyundai Steel Pohang steel plant  Asia Pacific   \n",
       "108                    SeAH Besteel Gunsan steel plant  Asia Pacific   \n",
       "109                  Hyundai Steel Incheon steel plant  Asia Pacific   \n",
       "111                  Hyundai Steel Dangjin steel plant  Asia Pacific   \n",
       "\n",
       "         Country        lat         lon  Production 2019  Production 2020  \\\n",
       "84         Japan  35.044558  136.900772       659.000000       847.000000   \n",
       "85         Japan  35.016404  136.864744       978.000000      1255.000000   \n",
       "86         Japan  35.027575  136.870552      5848.000000      5569.000000   \n",
       "87         Japan  34.465222  133.431205     10563.913043      8817.391304   \n",
       "88         Japan  34.501198  133.722123      8126.086957      6782.608696   \n",
       "89         Japan  42.341873  140.997803      1433.000000       791.000000   \n",
       "92         Japan  34.598220  135.454390      1200.000000      1090.000000   \n",
       "93         Japan  34.628162  135.459688       542.000000       497.000000   \n",
       "94         Japan  34.233519  135.135443      4324.000000      2694.000000   \n",
       "95         Japan  35.580917  140.104196      3883.381924      3516.034985   \n",
       "96         Japan  35.934370  140.681019      7162.000000      4447.000000   \n",
       "97         Japan  35.480690  139.729684      3516.618076      3183.965015   \n",
       "98         Japan  35.360912  139.881953      8019.000000      5703.000000   \n",
       "99         Japan  33.911803  130.838014      3599.000000      3254.000000   \n",
       "101        Japan  33.260829  131.645527      8753.000000      8391.000000   \n",
       "102        Japan  38.265706  141.012963       640.000000       500.000000   \n",
       "106  South Korea  36.004981  129.384829      3031.284553      2481.170732   \n",
       "108  South Korea  35.968596  126.609524      2000.000000      2000.000000   \n",
       "109  South Korea  37.489678  126.637942      4546.926829      3721.756098   \n",
       "111  South Korea  36.986282  126.697350     15724.788618     12871.073171   \n",
       "\n",
       "     Production 2021  variance  \n",
       "84       1045.000000         1  \n",
       "85       1410.000000         1  \n",
       "86       5657.000000         0  \n",
       "87      10173.913043         0  \n",
       "88       7826.086957         0  \n",
       "89       1448.000000         0  \n",
       "92               NaN         0  \n",
       "93               NaN         0  \n",
       "94       2732.000000         0  \n",
       "95       3830.903790         0  \n",
       "96       6985.000000         0  \n",
       "97       3469.096210         0  \n",
       "98       7801.000000         0  \n",
       "99       3727.000000         0  \n",
       "101      8969.000000         0  \n",
       "102       600.000000         0  \n",
       "106      2397.398374         0  \n",
       "108      2000.000000         0  \n",
       "109      3596.097561         0  \n",
       "111     12436.504065         0  "
      ]
     },
     "execution_count": 105,
     "metadata": {},
     "output_type": "execute_result"
    }
   ],
   "source": [
    "japon_production=two_year_prod.loc[(two_year_prod[\"Country\"]==\"Japan\" )|( two_year_prod[\"Country\"]==\"South Korea\")]\n",
    "japon_production['variance'] = japon_production.apply(lambda row: 1 if row['Production 2020'] > row['Production 2019'] else 0, axis=1)\n",
    "japon_production"
   ]
  },
  {
   "cell_type": "code",
   "execution_count": 102,
   "metadata": {},
   "outputs": [],
   "source": [
    "japon_production.to_csv(\"japon_producton.csv\",index=False)"
   ]
  },
  {
   "cell_type": "code",
   "execution_count": 92,
   "metadata": {},
   "outputs": [
    {
     "data": {
      "text/html": [
       "<div>\n",
       "<style scoped>\n",
       "    .dataframe tbody tr th:only-of-type {\n",
       "        vertical-align: middle;\n",
       "    }\n",
       "\n",
       "    .dataframe tbody tr th {\n",
       "        vertical-align: top;\n",
       "    }\n",
       "\n",
       "    .dataframe thead th {\n",
       "        text-align: right;\n",
       "    }\n",
       "</style>\n",
       "<table border=\"1\" class=\"dataframe\">\n",
       "  <thead>\n",
       "    <tr style=\"text-align: right;\">\n",
       "      <th></th>\n",
       "      <th>Plant name (English)_x</th>\n",
       "      <th>Region</th>\n",
       "      <th>Country</th>\n",
       "      <th>lat</th>\n",
       "      <th>lon</th>\n",
       "      <th>Production 2019</th>\n",
       "      <th>Production 2020</th>\n",
       "      <th>Production 2021</th>\n",
       "    </tr>\n",
       "  </thead>\n",
       "  <tbody>\n",
       "    <tr>\n",
       "      <th>205</th>\n",
       "      <td>Altos Hornos De Mexico S.A. (AHMSA) steel plant</td>\n",
       "      <td>North America</td>\n",
       "      <td>Mexico</td>\n",
       "      <td>26.876889</td>\n",
       "      <td>-101.416612</td>\n",
       "      <td>3550.0</td>\n",
       "      <td>1890.0</td>\n",
       "      <td>2000.0</td>\n",
       "    </tr>\n",
       "    <tr>\n",
       "      <th>206</th>\n",
       "      <td>Gerdau Corsa Ciudad Sahagún steel plant</td>\n",
       "      <td>North America</td>\n",
       "      <td>Mexico</td>\n",
       "      <td>19.753326</td>\n",
       "      <td>-98.596483</td>\n",
       "      <td>490.0</td>\n",
       "      <td>590.0</td>\n",
       "      <td>670.0</td>\n",
       "    </tr>\n",
       "    <tr>\n",
       "      <th>207</th>\n",
       "      <td>ArcelorMittal Lázaro Cárdenas steel plant</td>\n",
       "      <td>North America</td>\n",
       "      <td>Mexico</td>\n",
       "      <td>17.930688</td>\n",
       "      <td>-102.201498</td>\n",
       "      <td>3700.0</td>\n",
       "      <td>3600.0</td>\n",
       "      <td>3700.0</td>\n",
       "    </tr>\n",
       "  </tbody>\n",
       "</table>\n",
       "</div>"
      ],
      "text/plain": [
       "                              Plant name (English)_x         Region Country  \\\n",
       "205  Altos Hornos De Mexico S.A. (AHMSA) steel plant  North America  Mexico   \n",
       "206          Gerdau Corsa Ciudad Sahagún steel plant  North America  Mexico   \n",
       "207        ArcelorMittal Lázaro Cárdenas steel plant  North America  Mexico   \n",
       "\n",
       "           lat         lon  Production 2019  Production 2020  Production 2021  \n",
       "205  26.876889 -101.416612           3550.0           1890.0           2000.0  \n",
       "206  19.753326  -98.596483            490.0            590.0            670.0  \n",
       "207  17.930688 -102.201498           3700.0           3600.0           3700.0  "
      ]
     },
     "execution_count": 92,
     "metadata": {},
     "output_type": "execute_result"
    }
   ],
   "source": [
    "two_year_prod.loc[two_year_prod[\"Country\"]==\"Mexico\"]"
   ]
  },
  {
   "cell_type": "code",
   "execution_count": 80,
   "metadata": {},
   "outputs": [
    {
     "data": {
      "application/vnd.plotly.v1+json": {
       "config": {
        "plotlyServerURL": "https://plot.ly"
       },
       "data": [
        {
         "customdata": [
          [
           "Africa",
           "Morocco"
          ],
          [
           "Africa",
           "South Africa"
          ],
          [
           "Africa",
           "South Africa"
          ],
          [
           "Asia Pacific",
           "Bangladesh"
          ],
          [
           "Asia Pacific",
           "Bangladesh"
          ],
          [
           "Asia Pacific",
           "China"
          ],
          [
           "Asia Pacific",
           "China"
          ],
          [
           "Asia Pacific",
           "China"
          ],
          [
           "Asia Pacific",
           "China"
          ],
          [
           "Asia Pacific",
           "China"
          ],
          [
           "Asia Pacific",
           "China"
          ],
          [
           "Asia Pacific",
           "China"
          ],
          [
           "Asia Pacific",
           "China"
          ],
          [
           "Asia Pacific",
           "China"
          ],
          [
           "Asia Pacific",
           "China"
          ],
          [
           "Asia Pacific",
           "China"
          ],
          [
           "Asia Pacific",
           "China"
          ],
          [
           "Asia Pacific",
           "China"
          ],
          [
           "Asia Pacific",
           "China"
          ],
          [
           "Asia Pacific",
           "China"
          ],
          [
           "Asia Pacific",
           "China"
          ],
          [
           "Asia Pacific",
           "China"
          ],
          [
           "Asia Pacific",
           "China"
          ],
          [
           "Asia Pacific",
           "China"
          ],
          [
           "Asia Pacific",
           "China"
          ],
          [
           "Asia Pacific",
           "China"
          ],
          [
           "Asia Pacific",
           "China"
          ],
          [
           "Asia Pacific",
           "India"
          ],
          [
           "Asia Pacific",
           "India"
          ],
          [
           "Asia Pacific",
           "India"
          ],
          [
           "Asia Pacific",
           "India"
          ],
          [
           "Asia Pacific",
           "India"
          ],
          [
           "Asia Pacific",
           "India"
          ],
          [
           "Asia Pacific",
           "India"
          ],
          [
           "Asia Pacific",
           "India"
          ],
          [
           "Asia Pacific",
           "India"
          ],
          [
           "Asia Pacific",
           "India"
          ],
          [
           "Asia Pacific",
           "India"
          ],
          [
           "Asia Pacific",
           "India"
          ],
          [
           "Asia Pacific",
           "India"
          ],
          [
           "Asia Pacific",
           "India"
          ],
          [
           "Asia Pacific",
           "India"
          ],
          [
           "Asia Pacific",
           "India"
          ],
          [
           "Asia Pacific",
           "India"
          ],
          [
           "Asia Pacific",
           "India"
          ],
          [
           "Asia Pacific",
           "Indonesia"
          ],
          [
           "Asia Pacific",
           "Indonesia"
          ],
          [
           "Asia Pacific",
           "Japan"
          ],
          [
           "Asia Pacific",
           "Japan"
          ],
          [
           "Asia Pacific",
           "Japan"
          ],
          [
           "Asia Pacific",
           "Japan"
          ],
          [
           "Asia Pacific",
           "Japan"
          ],
          [
           "Asia Pacific",
           "Japan"
          ],
          [
           "Asia Pacific",
           "Japan"
          ],
          [
           "Asia Pacific",
           "Japan"
          ],
          [
           "Asia Pacific",
           "Japan"
          ],
          [
           "Asia Pacific",
           "Japan"
          ],
          [
           "Asia Pacific",
           "Japan"
          ],
          [
           "Asia Pacific",
           "Japan"
          ],
          [
           "Asia Pacific",
           "Japan"
          ],
          [
           "Asia Pacific",
           "Japan"
          ],
          [
           "Asia Pacific",
           "Japan"
          ],
          [
           "Asia Pacific",
           "Japan"
          ],
          [
           "Asia Pacific",
           "Malaysia"
          ],
          [
           "Asia Pacific",
           "Pakistan"
          ],
          [
           "Asia Pacific",
           "South Korea"
          ],
          [
           "Asia Pacific",
           "South Korea"
          ],
          [
           "Asia Pacific",
           "South Korea"
          ],
          [
           "Asia Pacific",
           "South Korea"
          ],
          [
           "Asia Pacific",
           "Thailand"
          ],
          [
           "Central & South America",
           "Argentina"
          ],
          [
           "Central & South America",
           "Argentina"
          ],
          [
           "Central & South America",
           "Argentina"
          ],
          [
           "Central & South America",
           "Argentina"
          ],
          [
           "Central & South America",
           "Brazil"
          ],
          [
           "Central & South America",
           "Brazil"
          ],
          [
           "Central & South America",
           "Brazil"
          ],
          [
           "Central & South America",
           "Brazil"
          ],
          [
           "Central & South America",
           "Brazil"
          ],
          [
           "Central & South America",
           "Brazil"
          ],
          [
           "Central & South America",
           "Brazil"
          ],
          [
           "Central & South America",
           "Brazil"
          ],
          [
           "Central & South America",
           "Brazil"
          ],
          [
           "Central & South America",
           "Brazil"
          ],
          [
           "Central & South America",
           "Brazil"
          ],
          [
           "Central & South America",
           "Brazil"
          ],
          [
           "Central & South America",
           "Brazil"
          ],
          [
           "Central & South America",
           "Brazil"
          ],
          [
           "Central & South America",
           "Brazil"
          ],
          [
           "Central & South America",
           "Brazil"
          ],
          [
           "Central & South America",
           "Brazil"
          ],
          [
           "Central & South America",
           "Brazil"
          ],
          [
           "Central & South America",
           "Brazil"
          ],
          [
           "Central & South America",
           "Chile"
          ],
          [
           "Central & South America",
           "Chile"
          ],
          [
           "Central & South America",
           "Guatemala"
          ],
          [
           "Central & South America",
           "Peru"
          ],
          [
           "Central & South America",
           "Peru"
          ],
          [
           "Eurasia",
           "Kazakhstan"
          ],
          [
           "Eurasia",
           "Russia"
          ],
          [
           "Eurasia",
           "Russia"
          ],
          [
           "Eurasia",
           "Russia"
          ],
          [
           "Eurasia",
           "Russia"
          ],
          [
           "Eurasia",
           "Russia"
          ],
          [
           "Eurasia",
           "Russia"
          ],
          [
           "Eurasia",
           "Russia"
          ],
          [
           "Eurasia",
           "Russia"
          ],
          [
           "Eurasia",
           "Russia"
          ],
          [
           "Eurasia",
           "Russia"
          ],
          [
           "Eurasia",
           "Russia"
          ],
          [
           "Eurasia",
           "Russia"
          ],
          [
           "Eurasia",
           "Russia"
          ],
          [
           "Eurasia",
           "Russia"
          ],
          [
           "Eurasia",
           "Russia"
          ],
          [
           "Europe",
           "Belarus"
          ],
          [
           "Europe",
           "Belgium"
          ],
          [
           "Europe",
           "Bosnia and Herzegovina"
          ],
          [
           "Europe",
           "Bulgaria"
          ],
          [
           "Europe",
           "Czech Republic"
          ],
          [
           "Europe",
           "France"
          ],
          [
           "Europe",
           "France"
          ],
          [
           "Europe",
           "Germany"
          ],
          [
           "Europe",
           "Germany"
          ],
          [
           "Europe",
           "Germany"
          ],
          [
           "Europe",
           "Germany"
          ],
          [
           "Europe",
           "Germany"
          ],
          [
           "Europe",
           "Italy"
          ],
          [
           "Europe",
           "Italy"
          ],
          [
           "Europe",
           "Italy"
          ],
          [
           "Europe",
           "Luxembourg"
          ],
          [
           "Europe",
           "Luxembourg"
          ],
          [
           "Europe",
           "Netherlands"
          ],
          [
           "Europe",
           "North Macedonia"
          ],
          [
           "Europe",
           "Romania"
          ],
          [
           "Europe",
           "Spain"
          ],
          [
           "Europe",
           "Spain"
          ],
          [
           "Europe",
           "Spain"
          ],
          [
           "Europe",
           "Spain"
          ],
          [
           "Europe",
           "Spain"
          ],
          [
           "Europe",
           "Spain"
          ],
          [
           "Europe",
           "Spain"
          ],
          [
           "Europe",
           "Spain"
          ],
          [
           "Europe",
           "Spain"
          ],
          [
           "Europe",
           "Spain"
          ],
          [
           "Europe",
           "Ukraine"
          ],
          [
           "Europe",
           "Ukraine"
          ],
          [
           "Europe",
           "Ukraine"
          ],
          [
           "Europe",
           "Ukraine"
          ],
          [
           "Europe",
           "Ukraine"
          ],
          [
           "Europe",
           "Ukraine"
          ],
          [
           "Europe",
           "Ukraine"
          ],
          [
           "Middle East",
           "Qatar"
          ],
          [
           "North America",
           "Canada"
          ],
          [
           "North America",
           "Canada"
          ],
          [
           "North America",
           "Mexico"
          ],
          [
           "North America",
           "Mexico"
          ],
          [
           "North America",
           "Mexico"
          ],
          [
           "North America",
           "United States"
          ],
          [
           "North America",
           "United States"
          ],
          [
           "North America",
           "United States"
          ],
          [
           "North America",
           "United States"
          ],
          [
           "North America",
           "United States"
          ],
          [
           "North America",
           "United States"
          ],
          [
           "North America",
           "United States"
          ],
          [
           "North America",
           "United States"
          ],
          [
           "North America",
           "United States"
          ]
         ],
         "hovertemplate": "<b>%{hovertext}</b><br><br>lat=%{lat}<br>lon=%{lon}<br>Region=%{customdata[0]}<br>Country=%{customdata[1]}<extra></extra>",
         "hovertext": [
          "ArcelorMittal Sonasid Casablanca steel plant",
          "ArcelorMittal Vanderbijlpark Steel Works",
          "ArcelorMittal Newcastle Steel Works",
          "BSRM Steels Chattogram plant",
          "BSRM Steels Mirsarai plant",
          "Anhui Guihang Special Steel Co., Ltd.",
          "Anhui Changjiang Steel Co., Ltd.",
          "Tongling Fuxin Iron and Steel Co., Ltd.",
          "Chongqing Iron & Steel Co., Ltd.",
          "Sansteel Minguang Co., Ltd. Fujian",
          "Yangchun New Steel Co., Ltd.",
          "Guangxi Guigang Iron and Steel Group Co., Ltd.",
          "Liuzhou Iron & Steel Co., Ltd.(Liuzhou Base）",
          "Shougang Shuicheng Iron and Steel (Group) Co., Ltd.",
          "Chengde Iron and Steel Group Co., Ltd.",
          "Handan Iron and Steel Group Co., Ltd.",
          "Tangshan Ruifeng Iron and Steel (Group) Co., Ltd.",
          "Xingtai Iron & Steel Co., Ltd.",
          "Xuanhua Iron and Steel Group Co., Ltd.",
          "Wuyang Iron and Steel Co., Ltd.",
          "Inner Mongolia BaoTou Steel Union Co., Ltd.",
          "Nanjing Iron & Steel Co., Ltd.",
          "Zhangjiagang Hongchang Steel Co., Ltd.",
          "Fangda Special Steel Technology Co., Ltd.",
          "Lingyuan Iron & Steel Co.,Ltd.",
          "Xining Special Steel Co., Ltd.",
          "Shanxi Taigang Stainless Steel Co., Ltd.",
          "Vizag Steel plant",
          "JSPL Chhattisgarh steel plant",
          "ArcelorMittal Nippon Steel India",
          "Jindal Stainless Hisar steel plant",
          "SAIL Bokaro steel plant",
          "Tata Steel Jamshedpur steel plant",
          "JSPL Jharkhand steel plant",
          "JSW Steel Vijayanagar steel plant",
          "JSW Steel Dolvi steel plant",
          "Lloyds Steel Industries steel plant",
          "JSPL Odisha steel plant",
          "Jindal Stainless Odisha steel plant",
          "Tata Steel BSL Dhenkanal plant",
          "SAIL Rourkela steel plant",
          "JSW Steel Salem steel plant",
          "SAIL IISCO steel plant",
          "SAIL Durgapur steel plant",
          "SAIL Alloy Steel Plant",
          "Krakatau Steel Cilegon plant",
          "Gunung Raja Paksi West Java steel plant",
          "Aichi Steel Chita Plant (Tokai)",
          "Daido Steel Chita plant (Tokai)",
          "Nippon East Japan Works (Nagoya) steel plant",
          "JFE West Japan Works (Fukuyama) steel plant",
          "JFE West Japan Works (Kurashiki) steel plant",
          "North Nippon Muroran Works steel plant",
          "Nippon Steel Wakayama Area (Sakai) plant",
          "Nakayama Steel Works Osaka",
          "Nippon Kansai Works (Wakayama Area, Wakayama) steel plant",
          "JFE East Japan Works (Chiba) steel plant",
          "Nippon East Japan Works (Kashima) steel plant",
          "JFE East Japan Works (Keihin) steel plant",
          "Nippon East Japan Works (Kimitsu) steel plant",
          "Nippon Kyushu Works (Yawata Area, Tobata) steel plant",
          "Nippon Kyushu Works (Oita Area, Oita) steel plant",
          "JFE Sendai Works steel plant",
          "Malaysia Steel Works Klang",
          "Agha Steel Industries Karachi plant",
          "Hyundai Steel Pohang steel plant",
          "SeAH Besteel Gunsan steel plant",
          "Hyundai Steel Incheon steel plant",
          "Hyundai Steel Dangjin steel plant",
          "Nippon G Steel plant",
          "TenarisSiderca Campana steel plant",
          "Ternium Siderar San Nicolás steel plant",
          "Gerdau Sipar Pérez steel plant",
          "ArcelorMittal Acindar Villa Constitución steel plant",
          "ArcelorMittal Pecém steel plant",
          "Simec Cariacica steel plant",
          "ArcelorMittal Tubarão steel plant",
          "AVB Açailândia steel plant",
          "Gerdau Divinópolis steel plant",
          "Usiminas Ipatinga steel plant",
          "Vallourec Jeceaba steel plant",
          "ArcelorMittal Monlevade steel plant",
          "ArcelorMittal Juiz de Fora steel plant",
          "Gerdau Açominas Ouro Branco steel plant",
          "Aperam Timóteo steel plant",
          "ArcelorMittal Resende steel plant",
          "Ternium Brasil Santa Cruz steel plant",
          "Gerdau Cosigua Santa Cruz steel plant",
          "CSN Volta Redonda steel plant",
          "Gerdau São Paulo Araçariguama steel plant",
          "Simec Pindamonhangaba steel plant",
          "Gerdau Pindamonhangaba steel plant",
          "ArcelorMittal Piracicaba steel plant",
          "CAP Acero Huachipato steel plant",
          "AZA Colina steel plant",
          "AG Sidegua Masagua steel plant",
          "Gerdau Siderperu Chimbote steel plant",
          "Aceros Arequipa Pisco steel plant",
          "ArcelorMittal Temirtau steel plant",
          "Metalloinvest OEMK steel plant",
          "Ashinskiy Metallurgical Works",
          "Magnitogorsk Iron & Steel Works",
          "NLMK Kaluga steel plant",
          "Evraz ZSMK steel plant",
          "Amurstal steel plant",
          "Abinsk Electric Steel Works",
          "NLMK Lipetsk steel plant",
          "OMK Vyksa Casting and Rolling Complex",
          "Ural Steel Metallurgical Plant",
          "TMK Taganrog Metallurgical Plant",
          "Evraz NTMK steel plant",
          "TMK Seversky Pipe Plant",
          "VMK Red October steel plant",
          "Severstal Cherepovets steel plant",
          "Byelorussian Steel Works",
          "ArcelorMittal Gent steel plant",
          "ArcelorMittal Zenica steel plant",
          "Stomana Industry Pernik steel plant",
          "TZMS Třinecké železárny Trinec steel plant",
          "ArcelorMittal Dunkerque steel plant",
          "ArcelorMittal Méditerranée Fos sur Mer steel plant",
          "ArcelorMittal Eisenhüttenstadt steel plant",
          "ArcelorMittal Bremen steel plant",
          "ArcelorMittal Hamburg steel plant",
          "ArcelorMittal Duisburg steel plant",
          "AG der Dillinger Hüttenwerke Dillingen steel plant",
          "Acciaierie Venete Padua steel plant",
          "ArcelorMittal Acciaierie d'Italia Taranto steel plant",
          "Acciaierie Venete Borgo Valsugana steel plant",
          "ArcelorMittal Differdange steel plant",
          "ArcelorMittal Esch-Belval steel plant",
          "Tata Steel IJmuiden steel plant",
          "Makstil Skopje Steel plant",
          "ArcelorMittal Hunedoara steel plant",
          "ArcelorMittal Olaberria-Bergara (Olaberria) steel plant",
          "ArcelorMittal Olaberria-Bergara (Olaberria) steel plant",
          "ArcelorMittal Olaberria-Bergara (Olaberria) steel plant",
          "ArcelorMittal Olaberria-Bergara (Olaberria) steel plant",
          "ArcelorMittal Olaberria-Bergara (Olaberria) steel plant",
          "ArcelorMittal Olaberria-Bergara (Olaberria) steel plant",
          "ArcelorMittal Olaberria-Bergara (Olaberria) steel plant",
          "ArcelorMittal Olaberria-Bergara (Olaberria) steel plant",
          "ArcelorMittal Asturias (Gijón) steel plant",
          "ArcelorMittal Sestao steel plant",
          "Interpipe Steel Plant",
          "Metallurgical Plant Kametstal",
          "ArcelorMittal Kryvyi Rih steel plant",
          "Azovstal Iron & Steel Works",
          "Metinvest Ilyich Iron & Steel Works",
          "Yenakiieve Iron & Steel Works",
          "Metinvest Zaporizhstal steel plant",
          "Industries Qatar Steel Mesaieed plant",
          "ArcelorMittal Dofasco steel plant",
          "ArcelorMittal Montreal steel plant",
          "Altos Hornos De Mexico S.A. (AHMSA) steel plant",
          "Gerdau Corsa Ciudad Sahagún steel plant",
          "ArcelorMittal Lázaro Cárdenas steel plant",
          "Cleveland-Cliffs Riverdale steel plant",
          "Cleveland-Cliffs Burns Harbor steel plant",
          "Cleveland-Cliffs Indiana Harbor steel plant",
          "NLMK Indiana steel plant",
          "Timken Harrison steel plant",
          "Timken Faircrest steel plant",
          "Cleveland-Cliffs Cleveland steel plant",
          "Cleveland-Cliffs Coatesville steel plant",
          "Cleveland-Cliffs Steelton steel plant"
         ],
         "lat": [
          33.136529,
          -26.657367,
          -27.705376,
          22.38106,
          22.87176,
          null,
          null,
          null,
          29.790253,
          null,
          null,
          null,
          null,
          null,
          null,
          null,
          null,
          null,
          null,
          null,
          null,
          null,
          null,
          null,
          null,
          null,
          null,
          17.612846,
          21.922703,
          21.112377,
          29.127253,
          23.671677,
          22.788598,
          23.632991,
          15.180423,
          18.690312,
          19.262606,
          20.884896,
          20.954939,
          20.796053,
          22.210804,
          11.814912,
          23.673236,
          23.54843,
          23.522882,
          -6.007021,
          -6.282658,
          35.044558,
          35.016404,
          35.027575,
          34.465222,
          34.501198,
          42.341873,
          null,
          null,
          34.233519,
          35.580917,
          35.93437,
          35.48069,
          35.360912,
          33.911803,
          33.260829,
          38.265706,
          3.077835,
          24.841851,
          36.004981,
          35.968596,
          37.489678,
          36.986282,
          12.793786,
          -34.152554,
          -33.37365,
          -32.9912336,
          -33.249936,
          -3.585917,
          -20.34291,
          -20.253447,
          -4.874373,
          -20.153931,
          -19.491277,
          -20.582683,
          -19.832129,
          -21.626963,
          -20.543507,
          -19.531272,
          -22.493597,
          -22.912549,
          -22.90242,
          -22.512631,
          -23.43864,
          -22.921912,
          -22.89918,
          -22.698154,
          -36.746421,
          -33.294729,
          14.232007,
          -9.059693,
          -13.788622,
          50.045849,
          51.142738,
          54.99484,
          53.427593,
          55.233675,
          53.88618,
          null,
          44.881938,
          52.557372,
          null,
          51.214781,
          null,
          57.922851,
          null,
          null,
          59.143998,
          52.849321,
          51.169929,
          44.224446,
          42.595629,
          49.689053,
          51.041274,
          43.43283,
          52.168649,
          53.133305,
          53.522601,
          51.462987,
          49.353884,
          45.419168,
          40.508993,
          46.049182,
          49.527966,
          49.504175,
          52.484118,
          42.016228,
          45.735183,
          43.554741,
          43.03829,
          43.554741,
          43.03829,
          43.554741,
          43.03829,
          43.554741,
          43.03829,
          43.525092,
          43.313144,
          48.492146,
          48.528019,
          47.874411,
          47.100396,
          47.142529,
          null,
          47.86838,
          null,
          43.269255,
          45.835148,
          26.876889,
          19.753326,
          17.930688,
          41.657321,
          41.631221,
          41.669553,
          41.625912,
          null,
          40.755388,
          41.464041,
          39.977819,
          40.23072
         ],
         "legendgroup": "",
         "lon": [
          -8.603555,
          27.82231,
          30.014063,
          91.76862,
          91.546568,
          null,
          null,
          null,
          107.040368,
          null,
          null,
          null,
          null,
          null,
          null,
          null,
          null,
          null,
          null,
          null,
          null,
          null,
          null,
          null,
          null,
          null,
          null,
          83.191918,
          83.347178,
          72.647304,
          75.773075,
          86.10687,
          86.1996,
          85.325308,
          76.663134,
          73.035902,
          73.396916,
          84.991539,
          86.051986,
          85.260382,
          84.86895,
          77.918465,
          86.926179,
          87.245247,
          87.275935,
          106.001766,
          107.117683,
          136.900772,
          136.864744,
          136.870552,
          133.431205,
          133.722123,
          140.997803,
          null,
          null,
          135.135443,
          140.104196,
          140.681019,
          139.729684,
          139.881953,
          130.838014,
          131.645527,
          141.012963,
          101.46448,
          67.310159,
          129.384829,
          126.609524,
          126.637942,
          126.69735,
          101.244592,
          -58.977388,
          -60.138697,
          -60.7588733,
          -60.300415,
          -38.858932,
          -40.360864,
          -40.242298,
          -47.4073517,
          -44.878995,
          -42.544253,
          -43.971555,
          -43.130164,
          -43.462361,
          -43.75295,
          -42.639979,
          -44.512628,
          -43.741614,
          -43.749319,
          -44.11287,
          -47.08825,
          -45.413234,
          -45.347726,
          -47.657146,
          -73.129171,
          -70.727881,
          -90.815444,
          -78.601178,
          -76.168172,
          73.040384,
          37.940532,
          57.277548,
          59.054122,
          36.679192,
          87.257618,
          null,
          38.12751,
          39.629574,
          null,
          58.353913,
          null,
          60.033543,
          null,
          null,
          37.86295,
          29.988985,
          3.804462,
          17.899815,
          23.093095,
          18.654557,
          2.292948,
          4.887166,
          14.623473,
          8.688193,
          9.900749,
          6.744612,
          6.746603,
          11.906625,
          17.207589,
          11.440394,
          5.900398,
          5.993759,
          4.615584,
          21.46605,
          22.91627,
          -5.87259,
          -2.219625,
          -5.87259,
          -2.219625,
          -5.87259,
          -2.219625,
          -5.87259,
          -2.219625,
          -5.731926,
          -2.998964,
          35.092673,
          34.640915,
          33.392993,
          37.595944,
          37.586423,
          null,
          35.161773,
          null,
          -79.804858,
          -73.254957,
          -101.416612,
          -98.596483,
          -102.201498,
          -87.625702,
          -87.143846,
          -87.438429,
          -87.159989,
          null,
          -81.439369,
          -81.676499,
          -75.824512,
          -76.838506
         ],
         "marker": {
          "color": "fuchsia"
         },
         "mode": "markers",
         "name": "",
         "showlegend": false,
         "subplot": "mapbox",
         "type": "scattermapbox"
        }
       ],
       "layout": {
        "height": 560,
        "legend": {
         "tracegroupgap": 0
        },
        "mapbox": {
         "center": {
          "lat": 24.257301017777777,
          "lon": 23.330272592592593
         },
         "domain": {
          "x": [
           0,
           1
          ],
          "y": [
           0,
           1
          ]
         },
         "style": "open-street-map",
         "zoom": 1
        },
        "margin": {
         "b": 0,
         "l": 0,
         "r": 0,
         "t": 0
        },
        "template": {
         "data": {
          "bar": [
           {
            "error_x": {
             "color": "#2a3f5f"
            },
            "error_y": {
             "color": "#2a3f5f"
            },
            "marker": {
             "line": {
              "color": "#E5ECF6",
              "width": 0.5
             },
             "pattern": {
              "fillmode": "overlay",
              "size": 10,
              "solidity": 0.2
             }
            },
            "type": "bar"
           }
          ],
          "barpolar": [
           {
            "marker": {
             "line": {
              "color": "#E5ECF6",
              "width": 0.5
             },
             "pattern": {
              "fillmode": "overlay",
              "size": 10,
              "solidity": 0.2
             }
            },
            "type": "barpolar"
           }
          ],
          "carpet": [
           {
            "aaxis": {
             "endlinecolor": "#2a3f5f",
             "gridcolor": "white",
             "linecolor": "white",
             "minorgridcolor": "white",
             "startlinecolor": "#2a3f5f"
            },
            "baxis": {
             "endlinecolor": "#2a3f5f",
             "gridcolor": "white",
             "linecolor": "white",
             "minorgridcolor": "white",
             "startlinecolor": "#2a3f5f"
            },
            "type": "carpet"
           }
          ],
          "choropleth": [
           {
            "colorbar": {
             "outlinewidth": 0,
             "ticks": ""
            },
            "type": "choropleth"
           }
          ],
          "contour": [
           {
            "colorbar": {
             "outlinewidth": 0,
             "ticks": ""
            },
            "colorscale": [
             [
              0,
              "#0d0887"
             ],
             [
              0.1111111111111111,
              "#46039f"
             ],
             [
              0.2222222222222222,
              "#7201a8"
             ],
             [
              0.3333333333333333,
              "#9c179e"
             ],
             [
              0.4444444444444444,
              "#bd3786"
             ],
             [
              0.5555555555555556,
              "#d8576b"
             ],
             [
              0.6666666666666666,
              "#ed7953"
             ],
             [
              0.7777777777777778,
              "#fb9f3a"
             ],
             [
              0.8888888888888888,
              "#fdca26"
             ],
             [
              1,
              "#f0f921"
             ]
            ],
            "type": "contour"
           }
          ],
          "contourcarpet": [
           {
            "colorbar": {
             "outlinewidth": 0,
             "ticks": ""
            },
            "type": "contourcarpet"
           }
          ],
          "heatmap": [
           {
            "colorbar": {
             "outlinewidth": 0,
             "ticks": ""
            },
            "colorscale": [
             [
              0,
              "#0d0887"
             ],
             [
              0.1111111111111111,
              "#46039f"
             ],
             [
              0.2222222222222222,
              "#7201a8"
             ],
             [
              0.3333333333333333,
              "#9c179e"
             ],
             [
              0.4444444444444444,
              "#bd3786"
             ],
             [
              0.5555555555555556,
              "#d8576b"
             ],
             [
              0.6666666666666666,
              "#ed7953"
             ],
             [
              0.7777777777777778,
              "#fb9f3a"
             ],
             [
              0.8888888888888888,
              "#fdca26"
             ],
             [
              1,
              "#f0f921"
             ]
            ],
            "type": "heatmap"
           }
          ],
          "heatmapgl": [
           {
            "colorbar": {
             "outlinewidth": 0,
             "ticks": ""
            },
            "colorscale": [
             [
              0,
              "#0d0887"
             ],
             [
              0.1111111111111111,
              "#46039f"
             ],
             [
              0.2222222222222222,
              "#7201a8"
             ],
             [
              0.3333333333333333,
              "#9c179e"
             ],
             [
              0.4444444444444444,
              "#bd3786"
             ],
             [
              0.5555555555555556,
              "#d8576b"
             ],
             [
              0.6666666666666666,
              "#ed7953"
             ],
             [
              0.7777777777777778,
              "#fb9f3a"
             ],
             [
              0.8888888888888888,
              "#fdca26"
             ],
             [
              1,
              "#f0f921"
             ]
            ],
            "type": "heatmapgl"
           }
          ],
          "histogram": [
           {
            "marker": {
             "pattern": {
              "fillmode": "overlay",
              "size": 10,
              "solidity": 0.2
             }
            },
            "type": "histogram"
           }
          ],
          "histogram2d": [
           {
            "colorbar": {
             "outlinewidth": 0,
             "ticks": ""
            },
            "colorscale": [
             [
              0,
              "#0d0887"
             ],
             [
              0.1111111111111111,
              "#46039f"
             ],
             [
              0.2222222222222222,
              "#7201a8"
             ],
             [
              0.3333333333333333,
              "#9c179e"
             ],
             [
              0.4444444444444444,
              "#bd3786"
             ],
             [
              0.5555555555555556,
              "#d8576b"
             ],
             [
              0.6666666666666666,
              "#ed7953"
             ],
             [
              0.7777777777777778,
              "#fb9f3a"
             ],
             [
              0.8888888888888888,
              "#fdca26"
             ],
             [
              1,
              "#f0f921"
             ]
            ],
            "type": "histogram2d"
           }
          ],
          "histogram2dcontour": [
           {
            "colorbar": {
             "outlinewidth": 0,
             "ticks": ""
            },
            "colorscale": [
             [
              0,
              "#0d0887"
             ],
             [
              0.1111111111111111,
              "#46039f"
             ],
             [
              0.2222222222222222,
              "#7201a8"
             ],
             [
              0.3333333333333333,
              "#9c179e"
             ],
             [
              0.4444444444444444,
              "#bd3786"
             ],
             [
              0.5555555555555556,
              "#d8576b"
             ],
             [
              0.6666666666666666,
              "#ed7953"
             ],
             [
              0.7777777777777778,
              "#fb9f3a"
             ],
             [
              0.8888888888888888,
              "#fdca26"
             ],
             [
              1,
              "#f0f921"
             ]
            ],
            "type": "histogram2dcontour"
           }
          ],
          "mesh3d": [
           {
            "colorbar": {
             "outlinewidth": 0,
             "ticks": ""
            },
            "type": "mesh3d"
           }
          ],
          "parcoords": [
           {
            "line": {
             "colorbar": {
              "outlinewidth": 0,
              "ticks": ""
             }
            },
            "type": "parcoords"
           }
          ],
          "pie": [
           {
            "automargin": true,
            "type": "pie"
           }
          ],
          "scatter": [
           {
            "fillpattern": {
             "fillmode": "overlay",
             "size": 10,
             "solidity": 0.2
            },
            "type": "scatter"
           }
          ],
          "scatter3d": [
           {
            "line": {
             "colorbar": {
              "outlinewidth": 0,
              "ticks": ""
             }
            },
            "marker": {
             "colorbar": {
              "outlinewidth": 0,
              "ticks": ""
             }
            },
            "type": "scatter3d"
           }
          ],
          "scattercarpet": [
           {
            "marker": {
             "colorbar": {
              "outlinewidth": 0,
              "ticks": ""
             }
            },
            "type": "scattercarpet"
           }
          ],
          "scattergeo": [
           {
            "marker": {
             "colorbar": {
              "outlinewidth": 0,
              "ticks": ""
             }
            },
            "type": "scattergeo"
           }
          ],
          "scattergl": [
           {
            "marker": {
             "colorbar": {
              "outlinewidth": 0,
              "ticks": ""
             }
            },
            "type": "scattergl"
           }
          ],
          "scattermapbox": [
           {
            "marker": {
             "colorbar": {
              "outlinewidth": 0,
              "ticks": ""
             }
            },
            "type": "scattermapbox"
           }
          ],
          "scatterpolar": [
           {
            "marker": {
             "colorbar": {
              "outlinewidth": 0,
              "ticks": ""
             }
            },
            "type": "scatterpolar"
           }
          ],
          "scatterpolargl": [
           {
            "marker": {
             "colorbar": {
              "outlinewidth": 0,
              "ticks": ""
             }
            },
            "type": "scatterpolargl"
           }
          ],
          "scatterternary": [
           {
            "marker": {
             "colorbar": {
              "outlinewidth": 0,
              "ticks": ""
             }
            },
            "type": "scatterternary"
           }
          ],
          "surface": [
           {
            "colorbar": {
             "outlinewidth": 0,
             "ticks": ""
            },
            "colorscale": [
             [
              0,
              "#0d0887"
             ],
             [
              0.1111111111111111,
              "#46039f"
             ],
             [
              0.2222222222222222,
              "#7201a8"
             ],
             [
              0.3333333333333333,
              "#9c179e"
             ],
             [
              0.4444444444444444,
              "#bd3786"
             ],
             [
              0.5555555555555556,
              "#d8576b"
             ],
             [
              0.6666666666666666,
              "#ed7953"
             ],
             [
              0.7777777777777778,
              "#fb9f3a"
             ],
             [
              0.8888888888888888,
              "#fdca26"
             ],
             [
              1,
              "#f0f921"
             ]
            ],
            "type": "surface"
           }
          ],
          "table": [
           {
            "cells": {
             "fill": {
              "color": "#EBF0F8"
             },
             "line": {
              "color": "white"
             }
            },
            "header": {
             "fill": {
              "color": "#C8D4E3"
             },
             "line": {
              "color": "white"
             }
            },
            "type": "table"
           }
          ]
         },
         "layout": {
          "annotationdefaults": {
           "arrowcolor": "#2a3f5f",
           "arrowhead": 0,
           "arrowwidth": 1
          },
          "autotypenumbers": "strict",
          "coloraxis": {
           "colorbar": {
            "outlinewidth": 0,
            "ticks": ""
           }
          },
          "colorscale": {
           "diverging": [
            [
             0,
             "#8e0152"
            ],
            [
             0.1,
             "#c51b7d"
            ],
            [
             0.2,
             "#de77ae"
            ],
            [
             0.3,
             "#f1b6da"
            ],
            [
             0.4,
             "#fde0ef"
            ],
            [
             0.5,
             "#f7f7f7"
            ],
            [
             0.6,
             "#e6f5d0"
            ],
            [
             0.7,
             "#b8e186"
            ],
            [
             0.8,
             "#7fbc41"
            ],
            [
             0.9,
             "#4d9221"
            ],
            [
             1,
             "#276419"
            ]
           ],
           "sequential": [
            [
             0,
             "#0d0887"
            ],
            [
             0.1111111111111111,
             "#46039f"
            ],
            [
             0.2222222222222222,
             "#7201a8"
            ],
            [
             0.3333333333333333,
             "#9c179e"
            ],
            [
             0.4444444444444444,
             "#bd3786"
            ],
            [
             0.5555555555555556,
             "#d8576b"
            ],
            [
             0.6666666666666666,
             "#ed7953"
            ],
            [
             0.7777777777777778,
             "#fb9f3a"
            ],
            [
             0.8888888888888888,
             "#fdca26"
            ],
            [
             1,
             "#f0f921"
            ]
           ],
           "sequentialminus": [
            [
             0,
             "#0d0887"
            ],
            [
             0.1111111111111111,
             "#46039f"
            ],
            [
             0.2222222222222222,
             "#7201a8"
            ],
            [
             0.3333333333333333,
             "#9c179e"
            ],
            [
             0.4444444444444444,
             "#bd3786"
            ],
            [
             0.5555555555555556,
             "#d8576b"
            ],
            [
             0.6666666666666666,
             "#ed7953"
            ],
            [
             0.7777777777777778,
             "#fb9f3a"
            ],
            [
             0.8888888888888888,
             "#fdca26"
            ],
            [
             1,
             "#f0f921"
            ]
           ]
          },
          "colorway": [
           "#636efa",
           "#EF553B",
           "#00cc96",
           "#ab63fa",
           "#FFA15A",
           "#19d3f3",
           "#FF6692",
           "#B6E880",
           "#FF97FF",
           "#FECB52"
          ],
          "font": {
           "color": "#2a3f5f"
          },
          "geo": {
           "bgcolor": "white",
           "lakecolor": "white",
           "landcolor": "#E5ECF6",
           "showlakes": true,
           "showland": true,
           "subunitcolor": "white"
          },
          "hoverlabel": {
           "align": "left"
          },
          "hovermode": "closest",
          "mapbox": {
           "style": "light"
          },
          "paper_bgcolor": "white",
          "plot_bgcolor": "#E5ECF6",
          "polar": {
           "angularaxis": {
            "gridcolor": "white",
            "linecolor": "white",
            "ticks": ""
           },
           "bgcolor": "#E5ECF6",
           "radialaxis": {
            "gridcolor": "white",
            "linecolor": "white",
            "ticks": ""
           }
          },
          "scene": {
           "xaxis": {
            "backgroundcolor": "#E5ECF6",
            "gridcolor": "white",
            "gridwidth": 2,
            "linecolor": "white",
            "showbackground": true,
            "ticks": "",
            "zerolinecolor": "white"
           },
           "yaxis": {
            "backgroundcolor": "#E5ECF6",
            "gridcolor": "white",
            "gridwidth": 2,
            "linecolor": "white",
            "showbackground": true,
            "ticks": "",
            "zerolinecolor": "white"
           },
           "zaxis": {
            "backgroundcolor": "#E5ECF6",
            "gridcolor": "white",
            "gridwidth": 2,
            "linecolor": "white",
            "showbackground": true,
            "ticks": "",
            "zerolinecolor": "white"
           }
          },
          "shapedefaults": {
           "line": {
            "color": "#2a3f5f"
           }
          },
          "ternary": {
           "aaxis": {
            "gridcolor": "white",
            "linecolor": "white",
            "ticks": ""
           },
           "baxis": {
            "gridcolor": "white",
            "linecolor": "white",
            "ticks": ""
           },
           "bgcolor": "#E5ECF6",
           "caxis": {
            "gridcolor": "white",
            "linecolor": "white",
            "ticks": ""
           }
          },
          "title": {
           "x": 0.05
          },
          "xaxis": {
           "automargin": true,
           "gridcolor": "white",
           "linecolor": "white",
           "ticks": "",
           "title": {
            "standoff": 15
           },
           "zerolinecolor": "white",
           "zerolinewidth": 2
          },
          "yaxis": {
           "automargin": true,
           "gridcolor": "white",
           "linecolor": "white",
           "ticks": "",
           "title": {
            "standoff": 15
           },
           "zerolinecolor": "white",
           "zerolinewidth": 2
          }
         }
        },
        "width": 1000
       }
      }
     },
     "metadata": {},
     "output_type": "display_data"
    }
   ],
   "source": [
    "import plotly.express as px\n",
    "\n",
    "fig = px.scatter_mapbox(two_year_prod, lat=\"lat\", lon=\"lon\", hover_name=\"Plant name (English)_x\", hover_data=[\"Region\", \"Country\"],\n",
    "                        color_discrete_sequence=[\"fuchsia\"], \n",
    "                        zoom=1, \n",
    "                        height=560,width=1000)\n",
    "fig.update_layout(mapbox_style=\"open-street-map\")\n",
    "fig.update_layout(margin={\"r\":0,\"t\":0,\"l\":0,\"b\":0})\n",
    "fig.show()"
   ]
  },
  {
   "attachments": {},
   "cell_type": "markdown",
   "metadata": {},
   "source": [
    "## Oxford Steel Plants"
   ]
  },
  {
   "cell_type": "code",
   "execution_count": null,
   "metadata": {},
   "outputs": [],
   "source": [
    "STEEL_PATH = \"C:/Users/hamada.saleh/Documents/Python Scripts/bottom_up_alignment/data/raw/SFI-Global-Steel-Database-July-2021.xlsx\""
   ]
  },
  {
   "cell_type": "code",
   "execution_count": null,
   "metadata": {},
   "outputs": [
    {
     "ename": "FileNotFoundError",
     "evalue": "[Errno 2] No such file or directory: 'C:/Users/hamada.saleh/Documents/Python Scripts/bottom_up_alignment/data/raw/SFI-Global-Steel-Database-July-2021.xlsx'",
     "output_type": "error",
     "traceback": [
      "\u001b[1;31m---------------------------------------------------------------------------\u001b[0m",
      "\u001b[1;31mFileNotFoundError\u001b[0m                         Traceback (most recent call last)",
      "\u001b[1;32mc:\\Users\\Denisa.draghia\\Desktop\\Acier\\map_steel.ipynb Cell 13\u001b[0m line \u001b[0;36m1\n\u001b[1;32m----> <a href='vscode-notebook-cell:/c%3A/Users/Denisa.draghia/Desktop/Acier/map_steel.ipynb#X15sZmlsZQ%3D%3D?line=0'>1</a>\u001b[0m steel \u001b[39m=\u001b[39m pd\u001b[39m.\u001b[39;49mread_excel(STEEL_PATH, sheet_name\u001b[39m=\u001b[39;49m\u001b[39m\"\u001b[39;49m\u001b[39mSFI_ALD_Steel_Database\u001b[39;49m\u001b[39m\"\u001b[39;49m)\n",
      "File \u001b[1;32mc:\\Users\\Denisa.draghia\\.virtualenvs\\Denisa.draghia-IwxA2Vx_\\lib\\site-packages\\pandas\\io\\excel\\_base.py:504\u001b[0m, in \u001b[0;36mread_excel\u001b[1;34m(io, sheet_name, header, names, index_col, usecols, dtype, engine, converters, true_values, false_values, skiprows, nrows, na_values, keep_default_na, na_filter, verbose, parse_dates, date_parser, date_format, thousands, decimal, comment, skipfooter, storage_options, dtype_backend, engine_kwargs)\u001b[0m\n\u001b[0;32m    502\u001b[0m \u001b[39mif\u001b[39;00m \u001b[39mnot\u001b[39;00m \u001b[39misinstance\u001b[39m(io, ExcelFile):\n\u001b[0;32m    503\u001b[0m     should_close \u001b[39m=\u001b[39m \u001b[39mTrue\u001b[39;00m\n\u001b[1;32m--> 504\u001b[0m     io \u001b[39m=\u001b[39m ExcelFile(\n\u001b[0;32m    505\u001b[0m         io,\n\u001b[0;32m    506\u001b[0m         storage_options\u001b[39m=\u001b[39;49mstorage_options,\n\u001b[0;32m    507\u001b[0m         engine\u001b[39m=\u001b[39;49mengine,\n\u001b[0;32m    508\u001b[0m         engine_kwargs\u001b[39m=\u001b[39;49mengine_kwargs,\n\u001b[0;32m    509\u001b[0m     )\n\u001b[0;32m    510\u001b[0m \u001b[39melif\u001b[39;00m engine \u001b[39mand\u001b[39;00m engine \u001b[39m!=\u001b[39m io\u001b[39m.\u001b[39mengine:\n\u001b[0;32m    511\u001b[0m     \u001b[39mraise\u001b[39;00m \u001b[39mValueError\u001b[39;00m(\n\u001b[0;32m    512\u001b[0m         \u001b[39m\"\u001b[39m\u001b[39mEngine should not be specified when passing \u001b[39m\u001b[39m\"\u001b[39m\n\u001b[0;32m    513\u001b[0m         \u001b[39m\"\u001b[39m\u001b[39man ExcelFile - ExcelFile already has the engine set\u001b[39m\u001b[39m\"\u001b[39m\n\u001b[0;32m    514\u001b[0m     )\n",
      "File \u001b[1;32mc:\\Users\\Denisa.draghia\\.virtualenvs\\Denisa.draghia-IwxA2Vx_\\lib\\site-packages\\pandas\\io\\excel\\_base.py:1563\u001b[0m, in \u001b[0;36mExcelFile.__init__\u001b[1;34m(self, path_or_buffer, engine, storage_options, engine_kwargs)\u001b[0m\n\u001b[0;32m   1561\u001b[0m     ext \u001b[39m=\u001b[39m \u001b[39m\"\u001b[39m\u001b[39mxls\u001b[39m\u001b[39m\"\u001b[39m\n\u001b[0;32m   1562\u001b[0m \u001b[39melse\u001b[39;00m:\n\u001b[1;32m-> 1563\u001b[0m     ext \u001b[39m=\u001b[39m inspect_excel_format(\n\u001b[0;32m   1564\u001b[0m         content_or_path\u001b[39m=\u001b[39;49mpath_or_buffer, storage_options\u001b[39m=\u001b[39;49mstorage_options\n\u001b[0;32m   1565\u001b[0m     )\n\u001b[0;32m   1566\u001b[0m     \u001b[39mif\u001b[39;00m ext \u001b[39mis\u001b[39;00m \u001b[39mNone\u001b[39;00m:\n\u001b[0;32m   1567\u001b[0m         \u001b[39mraise\u001b[39;00m \u001b[39mValueError\u001b[39;00m(\n\u001b[0;32m   1568\u001b[0m             \u001b[39m\"\u001b[39m\u001b[39mExcel file format cannot be determined, you must specify \u001b[39m\u001b[39m\"\u001b[39m\n\u001b[0;32m   1569\u001b[0m             \u001b[39m\"\u001b[39m\u001b[39man engine manually.\u001b[39m\u001b[39m\"\u001b[39m\n\u001b[0;32m   1570\u001b[0m         )\n",
      "File \u001b[1;32mc:\\Users\\Denisa.draghia\\.virtualenvs\\Denisa.draghia-IwxA2Vx_\\lib\\site-packages\\pandas\\io\\excel\\_base.py:1419\u001b[0m, in \u001b[0;36minspect_excel_format\u001b[1;34m(content_or_path, storage_options)\u001b[0m\n\u001b[0;32m   1416\u001b[0m \u001b[39mif\u001b[39;00m \u001b[39misinstance\u001b[39m(content_or_path, \u001b[39mbytes\u001b[39m):\n\u001b[0;32m   1417\u001b[0m     content_or_path \u001b[39m=\u001b[39m BytesIO(content_or_path)\n\u001b[1;32m-> 1419\u001b[0m \u001b[39mwith\u001b[39;00m get_handle(\n\u001b[0;32m   1420\u001b[0m     content_or_path, \u001b[39m\"\u001b[39;49m\u001b[39mrb\u001b[39;49m\u001b[39m\"\u001b[39;49m, storage_options\u001b[39m=\u001b[39;49mstorage_options, is_text\u001b[39m=\u001b[39;49m\u001b[39mFalse\u001b[39;49;00m\n\u001b[0;32m   1421\u001b[0m ) \u001b[39mas\u001b[39;00m handle:\n\u001b[0;32m   1422\u001b[0m     stream \u001b[39m=\u001b[39m handle\u001b[39m.\u001b[39mhandle\n\u001b[0;32m   1423\u001b[0m     stream\u001b[39m.\u001b[39mseek(\u001b[39m0\u001b[39m)\n",
      "File \u001b[1;32mc:\\Users\\Denisa.draghia\\.virtualenvs\\Denisa.draghia-IwxA2Vx_\\lib\\site-packages\\pandas\\io\\common.py:872\u001b[0m, in \u001b[0;36mget_handle\u001b[1;34m(path_or_buf, mode, encoding, compression, memory_map, is_text, errors, storage_options)\u001b[0m\n\u001b[0;32m    863\u001b[0m         handle \u001b[39m=\u001b[39m \u001b[39mopen\u001b[39m(\n\u001b[0;32m    864\u001b[0m             handle,\n\u001b[0;32m    865\u001b[0m             ioargs\u001b[39m.\u001b[39mmode,\n\u001b[1;32m   (...)\u001b[0m\n\u001b[0;32m    868\u001b[0m             newline\u001b[39m=\u001b[39m\u001b[39m\"\u001b[39m\u001b[39m\"\u001b[39m,\n\u001b[0;32m    869\u001b[0m         )\n\u001b[0;32m    870\u001b[0m     \u001b[39melse\u001b[39;00m:\n\u001b[0;32m    871\u001b[0m         \u001b[39m# Binary mode\u001b[39;00m\n\u001b[1;32m--> 872\u001b[0m         handle \u001b[39m=\u001b[39m \u001b[39mopen\u001b[39;49m(handle, ioargs\u001b[39m.\u001b[39;49mmode)\n\u001b[0;32m    873\u001b[0m     handles\u001b[39m.\u001b[39mappend(handle)\n\u001b[0;32m    875\u001b[0m \u001b[39m# Convert BytesIO or file objects passed with an encoding\u001b[39;00m\n",
      "\u001b[1;31mFileNotFoundError\u001b[0m: [Errno 2] No such file or directory: 'C:/Users/hamada.saleh/Documents/Python Scripts/bottom_up_alignment/data/raw/SFI-Global-Steel-Database-July-2021.xlsx'"
     ]
    }
   ],
   "source": [
    "steel = pd.read_excel(STEEL_PATH, sheet_name=\"SFI_ALD_Steel_Database\")"
   ]
  },
  {
   "cell_type": "code",
   "execution_count": null,
   "metadata": {},
   "outputs": [
    {
     "data": {
      "text/html": [
       "<div>\n",
       "<style scoped>\n",
       "    .dataframe tbody tr th:only-of-type {\n",
       "        vertical-align: middle;\n",
       "    }\n",
       "\n",
       "    .dataframe tbody tr th {\n",
       "        vertical-align: top;\n",
       "    }\n",
       "\n",
       "    .dataframe thead th {\n",
       "        text-align: right;\n",
       "    }\n",
       "</style>\n",
       "<table border=\"1\" class=\"dataframe\">\n",
       "  <thead>\n",
       "    <tr style=\"text-align: right;\">\n",
       "      <th></th>\n",
       "      <th>uid</th>\n",
       "      <th>city</th>\n",
       "      <th>state</th>\n",
       "      <th>country</th>\n",
       "      <th>iso3</th>\n",
       "      <th>country_code</th>\n",
       "      <th>region</th>\n",
       "      <th>sub_region</th>\n",
       "      <th>latitude</th>\n",
       "      <th>longitude</th>\n",
       "      <th>...</th>\n",
       "      <th>parent_holding_status</th>\n",
       "      <th>parent_ticker</th>\n",
       "      <th>parent_exchange</th>\n",
       "      <th>parent_permid_2</th>\n",
       "      <th>parent_name_2</th>\n",
       "      <th>ownership_stake_2</th>\n",
       "      <th>parent_lei_2</th>\n",
       "      <th>parent_holding_status_2</th>\n",
       "      <th>parent_ticker_2</th>\n",
       "      <th>parent_exchange_2</th>\n",
       "    </tr>\n",
       "  </thead>\n",
       "  <tbody>\n",
       "    <tr>\n",
       "      <th>0</th>\n",
       "      <td>GASTAGO0001</td>\n",
       "      <td>Dande</td>\n",
       "      <td>Bengo Province</td>\n",
       "      <td>Angola</td>\n",
       "      <td>AGO</td>\n",
       "      <td>24</td>\n",
       "      <td>Africa</td>\n",
       "      <td>Sub-Saharan Africa</td>\n",
       "      <td>-8.582400</td>\n",
       "      <td>13.405271</td>\n",
       "      <td>...</td>\n",
       "      <td>NaN</td>\n",
       "      <td>NaN</td>\n",
       "      <td>NaN</td>\n",
       "      <td>NaN</td>\n",
       "      <td>NaN</td>\n",
       "      <td>NaN</td>\n",
       "      <td>NaN</td>\n",
       "      <td>NaN</td>\n",
       "      <td>NaN</td>\n",
       "      <td>NaN</td>\n",
       "    </tr>\n",
       "    <tr>\n",
       "      <th>1</th>\n",
       "      <td>GASTALB0001</td>\n",
       "      <td>Rrethi i Elbasanit</td>\n",
       "      <td>Qarku i Elbasanit</td>\n",
       "      <td>Albania</td>\n",
       "      <td>ALB</td>\n",
       "      <td>8</td>\n",
       "      <td>Europe</td>\n",
       "      <td>Southern Europe</td>\n",
       "      <td>41.094611</td>\n",
       "      <td>20.026117</td>\n",
       "      <td>...</td>\n",
       "      <td>Private</td>\n",
       "      <td>NaN</td>\n",
       "      <td>NaN</td>\n",
       "      <td>NaN</td>\n",
       "      <td>NaN</td>\n",
       "      <td>NaN</td>\n",
       "      <td>NaN</td>\n",
       "      <td>NaN</td>\n",
       "      <td>NaN</td>\n",
       "      <td>NaN</td>\n",
       "    </tr>\n",
       "    <tr>\n",
       "      <th>2</th>\n",
       "      <td>GASTARE0001</td>\n",
       "      <td>Abu Dhabi</td>\n",
       "      <td>NaN</td>\n",
       "      <td>United Arab Emirates</td>\n",
       "      <td>ARE</td>\n",
       "      <td>784</td>\n",
       "      <td>Asia</td>\n",
       "      <td>Western Asia</td>\n",
       "      <td>24.320682</td>\n",
       "      <td>54.480176</td>\n",
       "      <td>...</td>\n",
       "      <td>Private</td>\n",
       "      <td>NaN</td>\n",
       "      <td>NaN</td>\n",
       "      <td>NaN</td>\n",
       "      <td>NaN</td>\n",
       "      <td>NaN</td>\n",
       "      <td>NaN</td>\n",
       "      <td>NaN</td>\n",
       "      <td>NaN</td>\n",
       "      <td>NaN</td>\n",
       "    </tr>\n",
       "    <tr>\n",
       "      <th>3</th>\n",
       "      <td>GASTARE0002</td>\n",
       "      <td>Abu Dhabi</td>\n",
       "      <td>Abu Dhabi</td>\n",
       "      <td>United Arab Emirates</td>\n",
       "      <td>ARE</td>\n",
       "      <td>784</td>\n",
       "      <td>Asia</td>\n",
       "      <td>Western Asia</td>\n",
       "      <td>24.322916</td>\n",
       "      <td>54.470987</td>\n",
       "      <td>...</td>\n",
       "      <td>Private</td>\n",
       "      <td>NaN</td>\n",
       "      <td>NaN</td>\n",
       "      <td>NaN</td>\n",
       "      <td>NaN</td>\n",
       "      <td>NaN</td>\n",
       "      <td>NaN</td>\n",
       "      <td>NaN</td>\n",
       "      <td>NaN</td>\n",
       "      <td>NaN</td>\n",
       "    </tr>\n",
       "    <tr>\n",
       "      <th>4</th>\n",
       "      <td>GASTARE0003</td>\n",
       "      <td>Abu Dhabi</td>\n",
       "      <td>Abu Dhabi</td>\n",
       "      <td>United Arab Emirates</td>\n",
       "      <td>ARE</td>\n",
       "      <td>784</td>\n",
       "      <td>Asia</td>\n",
       "      <td>Western Asia</td>\n",
       "      <td>24.378720</td>\n",
       "      <td>54.475153</td>\n",
       "      <td>...</td>\n",
       "      <td>NaN</td>\n",
       "      <td>NaN</td>\n",
       "      <td>NaN</td>\n",
       "      <td>NaN</td>\n",
       "      <td>NaN</td>\n",
       "      <td>NaN</td>\n",
       "      <td>NaN</td>\n",
       "      <td>NaN</td>\n",
       "      <td>NaN</td>\n",
       "      <td>NaN</td>\n",
       "    </tr>\n",
       "  </tbody>\n",
       "</table>\n",
       "<p>5 rows × 35 columns</p>\n",
       "</div>"
      ],
      "text/plain": [
       "           uid                city              state               country  \\\n",
       "0  GASTAGO0001               Dande     Bengo Province                Angola   \n",
       "1  GASTALB0001  Rrethi i Elbasanit  Qarku i Elbasanit               Albania   \n",
       "2  GASTARE0001           Abu Dhabi                NaN  United Arab Emirates   \n",
       "3  GASTARE0002           Abu Dhabi          Abu Dhabi  United Arab Emirates   \n",
       "4  GASTARE0003           Abu Dhabi          Abu Dhabi  United Arab Emirates   \n",
       "\n",
       "  iso3  country_code  region          sub_region   latitude  longitude  ...  \\\n",
       "0  AGO            24  Africa  Sub-Saharan Africa  -8.582400  13.405271  ...   \n",
       "1  ALB             8  Europe     Southern Europe  41.094611  20.026117  ...   \n",
       "2  ARE           784    Asia        Western Asia  24.320682  54.480176  ...   \n",
       "3  ARE           784    Asia        Western Asia  24.322916  54.470987  ...   \n",
       "4  ARE           784    Asia        Western Asia  24.378720  54.475153  ...   \n",
       "\n",
       "  parent_holding_status parent_ticker parent_exchange parent_permid_2  \\\n",
       "0                   NaN           NaN             NaN             NaN   \n",
       "1               Private           NaN             NaN             NaN   \n",
       "2               Private           NaN             NaN             NaN   \n",
       "3               Private           NaN             NaN             NaN   \n",
       "4                   NaN           NaN             NaN             NaN   \n",
       "\n",
       "  parent_name_2  ownership_stake_2 parent_lei_2  parent_holding_status_2  \\\n",
       "0           NaN                NaN          NaN                      NaN   \n",
       "1           NaN                NaN          NaN                      NaN   \n",
       "2           NaN                NaN          NaN                      NaN   \n",
       "3           NaN                NaN          NaN                      NaN   \n",
       "4           NaN                NaN          NaN                      NaN   \n",
       "\n",
       "   parent_ticker_2 parent_exchange_2  \n",
       "0              NaN               NaN  \n",
       "1              NaN               NaN  \n",
       "2              NaN               NaN  \n",
       "3              NaN               NaN  \n",
       "4              NaN               NaN  \n",
       "\n",
       "[5 rows x 35 columns]"
      ]
     },
     "execution_count": 51,
     "metadata": {},
     "output_type": "execute_result"
    }
   ],
   "source": [
    "steel.head()"
   ]
  },
  {
   "cell_type": "code",
   "execution_count": null,
   "metadata": {},
   "outputs": [
    {
     "data": {
      "text/plain": [
       "Index(['uid', 'city', 'state', 'country', 'iso3', 'country_code', 'region',\n",
       "       'sub_region', 'latitude', 'longitude', 'accuracy', 'status',\n",
       "       'plant_type', 'primary_production_type', 'primary_product', 'capacity',\n",
       "       'capacity_source', 'year', 'owner_permid', 'owner_name', 'owner_source',\n",
       "       'parent_permid', 'parent_name', 'ownership_stake', 'parent_lei',\n",
       "       'parent_holding_status', 'parent_ticker', 'parent_exchange',\n",
       "       'parent_permid_2', 'parent_name_2', 'ownership_stake_2', 'parent_lei_2',\n",
       "       'parent_holding_status_2', 'parent_ticker_2', 'parent_exchange_2'],\n",
       "      dtype='object')"
      ]
     },
     "execution_count": 52,
     "metadata": {},
     "output_type": "execute_result"
    }
   ],
   "source": [
    "steel.columns"
   ]
  },
  {
   "cell_type": "code",
   "execution_count": null,
   "metadata": {},
   "outputs": [
    {
     "data": {
      "application/vnd.plotly.v1+json": {
       "config": {
        "plotlyServerURL": "https://plot.ly"
       },
       "data": [
        {
         "customdata": [
          [
           "Dande",
           "Angola"
          ],
          [
           "Rrethi i Elbasanit",
           "Albania"
          ],
          [
           "Abu Dhabi",
           "United Arab Emirates"
          ],
          [
           "Abu Dhabi",
           "United Arab Emirates"
          ],
          [
           "Abu Dhabi",
           "United Arab Emirates"
          ],
          [
           "Dubai",
           "United Arab Emirates"
          ],
          [
           "Dubai",
           "United Arab Emirates"
          ],
          [
           "Dubai",
           "United Arab Emirates"
          ],
          [
           null,
           "United Arab Emirates"
          ],
          [
           "Al Hamriya",
           "United Arab Emirates"
          ],
          [
           "Palpalá",
           "Argentina"
          ],
          [
           "Constitución",
           "Argentina"
          ],
          [
           "San Nicolás de Los Arroyos",
           "Argentina"
          ],
          [
           "La Tablada",
           "Argentina"
          ],
          [
           "Rosario",
           "Argentina"
          ],
          [
           "Pérez",
           "Argentina"
          ],
          [
           "Campana",
           "Argentina"
          ],
          [
           "Ramallo Partido",
           "Argentina"
          ],
          [
           "Haedo",
           "Argentina"
          ],
          [
           "Bosques",
           "Argentina"
          ],
          [
           "Ensenada",
           "Argentina"
          ],
          [
           "Canning",
           "Argentina"
          ],
          [
           "Bragado",
           "Argentina"
          ],
          [
           "Constitución",
           "Argentina"
          ],
          [
           "Comuna 4",
           "Argentina"
          ],
          [
           "Charentsavan",
           "Armenia"
          ],
          [
           "Port Kembla",
           "Australia"
          ],
          [
           "Hastings",
           "Australia"
          ],
          [
           "Acacia Ridge",
           "Australia"
          ],
          [
           "Rooty Hill",
           "Australia"
          ],
          [
           "Laverton North",
           "Australia"
          ],
          [
           "Whyalla Barson",
           "Australia"
          ],
          [
           "Mayfield North",
           "Australia"
          ],
          [
           "Sankt Barbara im Mürztal",
           "Austria"
          ],
          [
           "Judenburg",
           "Austria"
          ],
          [
           "Krieglach",
           "Austria"
          ],
          [
           "Graz",
           "Austria"
          ],
          [
           "Judenburg",
           "Austria"
          ],
          [
           "Kapfenberg",
           "Austria"
          ],
          [
           "Linz",
           "Austria"
          ],
          [
           "Donawitz",
           "Austria"
          ],
          [
           "Kematen an der Ybbs",
           "Austria"
          ],
          [
           "Biberbach",
           "Austria"
          ],
          [
           "Mürzzuschlag",
           "Austria"
          ],
          [
           "Bakı",
           "Azerbaijan"
          ],
          [
           "Genk",
           "Belgium"
          ],
          [
           "Châtelet",
           "Belgium"
          ],
          [
           "Charleroi",
           "Belgium"
          ],
          [
           "Genk",
           "Belgium"
          ],
          [
           "Gent",
           "Belgium"
          ],
          [
           "Marchin",
           "Belgium"
          ],
          [
           "Geel",
           "Belgium"
          ],
          [
           "Seraing",
           "Belgium"
          ],
          [
           "Flémalle",
           "Belgium"
          ],
          [
           "Seraing",
           "Belgium"
          ],
          [
           "Evergem",
           "Belgium"
          ],
          [
           "La Louvière",
           "Belgium"
          ],
          [
           "Ittre",
           "Belgium"
          ],
          [
           "Strasbourg",
           "Belgium"
          ],
          [
           "Charleroi",
           "Belgium"
          ],
          [
           "Fontaine-l'Évêque",
           "Belgium"
          ],
          [
           "Flémalle",
           "Belgium"
          ],
          [
           "Bhatiari",
           "Bangladesh"
          ],
          [
           "Sonaichhari",
           "Bangladesh"
          ],
          [
           "Chattogram",
           "Bangladesh"
          ],
          [
           "Chittagong",
           "Bangladesh"
          ],
          [
           "Zorargonj",
           "Bangladesh"
          ],
          [
           "Sonaichhari",
           "Bangladesh"
          ],
          [
           "Radomir",
           "Bulgaria"
          ],
          [
           "Debelt",
           "Bulgaria"
          ],
          [
           "Pernik",
           "Bulgaria"
          ],
          [
           "Al Hidd",
           "Bahrain"
          ],
          [
           "Al Hidd",
           "Bahrain"
          ],
          [
           "Al Hidd",
           "Bahrain"
          ],
          [
           "Al Hidd",
           "Bahrain"
          ],
          [
           "Zenica",
           "Bosnia and Herzegovina"
          ],
          [
           "Tuzlanski kanton",
           "Bosnia and Herzegovina"
          ],
          [
           "Mahilioŭ",
           "Belarus"
          ],
          [
           "Zhlobin District",
           "Belarus"
          ],
          [
           "Timóteo",
           "Brazil"
          ],
          [
           "Barra Mansa",
           "Brazil"
          ],
          [
           "Resende",
           "Brazil"
          ],
          [
           "João Monlevade",
           "Brazil"
          ],
          [
           "Vitória",
           "Brazil"
          ],
          [
           "Juiz de Fora",
           "Brazil"
          ],
          [
           "São Francisco do Sul",
           "Brazil"
          ],
          [
           "Piracicaba",
           "Brazil"
          ],
          [
           "Marabá",
           "Brazil"
          ],
          [
           "Volta Redonda",
           "Brazil"
          ],
          [
           "Rio de Janeiro",
           "Brazil"
          ],
          [
           "Barão de Cocais",
           "Brazil"
          ],
          [
           "Divinópolis",
           "Brazil"
          ],
          [
           "Congonhas",
           "Brazil"
          ],
          [
           "Contagem",
           "Brazil"
          ],
          [
           "Salvador",
           "Brazil"
          ],
          [
           "Recife",
           "Brazil"
          ],
          [
           "Maracanaú",
           "Brazil"
          ],
          [
           "Araucária",
           "Brazil"
          ],
          [
           "Pindamonhangaba",
           "Brazil"
          ],
          [
           "Sapucaia do Sul",
           "Brazil"
          ],
          [
           "Charqueadas",
           "Brazil"
          ],
          [
           "Araçariguama",
           "Brazil"
          ],
          [
           "Mogi das Cruzes",
           "Brazil"
          ],
          [
           "São José dos Campos",
           "Brazil"
          ],
          [
           "Cotia",
           "Brazil"
          ],
          [
           "Pindamonhangaba",
           "Brazil"
          ],
          [
           "Cariacica",
           "Brazil"
          ],
          [
           "Itaúna",
           "Brazil"
          ],
          [
           "Ipatinga",
           "Brazil"
          ],
          [
           "Ipatinga",
           "Brazil"
          ],
          [
           "Rio de Janeiro",
           "Brazil"
          ],
          [
           "Cubatão",
           "Brazil"
          ],
          [
           "São Luís",
           "Brazil"
          ],
          [
           "Nova Lima",
           "Brazil"
          ],
          [
           "Anchieta",
           "Brazil"
          ],
          [
           "Ouro Preto",
           "Brazil"
          ],
          [
           "Vitória",
           "Brazil"
          ],
          [
           "São Gonçalo do Amarante",
           "Brazil"
          ],
          [
           "Belo Horizonte",
           "Brazil"
          ],
          [
           "Jeceaba",
           "Brazil"
          ],
          [
           "Sumaré",
           "Brazil"
          ],
          [
           "Marabá",
           "Brazil"
          ],
          [
           "Cabo de Santo Agostinho",
           "Brazil"
          ],
          [
           "Açailândia",
           "Brazil"
          ],
          [
           "Açailândia",
           "Brazil"
          ],
          [
           "Caucaia",
           "Brazil"
          ],
          [
           "Guaratinguetá",
           "Brazil"
          ],
          [
           "Caçapava",
           "Brazil"
          ],
          [
           "Araucária",
           "Brazil"
          ],
          [
           "Ribas do Rio Pardo",
           "Brazil"
          ],
          [
           "Porto Real",
           "Brazil"
          ],
          [
           "Welland",
           "Canada"
          ],
          [
           "Sault Ste. Marie",
           "Canada"
          ],
          [
           "Contrecoeur",
           "Canada"
          ],
          [
           "Hamilton",
           "Canada"
          ],
          [
           "Longueuil",
           "Canada"
          ],
          [
           "Coteau-du-Lac",
           "Canada"
          ],
          [
           "Contrecoeur",
           "Canada"
          ],
          [
           "Montréal",
           "Canada"
          ],
          [
           "Hamilton",
           "Canada"
          ],
          [
           "Zehner",
           "Canada"
          ],
          [
           "Selkirk",
           "Canada"
          ],
          [
           "Whitby",
           "Canada"
          ],
          [
           "Cambridge",
           "Canada"
          ],
          [
           "Hamilton",
           "Canada"
          ],
          [
           "L'Orignal",
           "Canada"
          ],
          [
           "Edmonton",
           "Canada"
          ],
          [
           "Hamilton",
           "Canada"
          ],
          [
           "Sept-Îles",
           "Canada"
          ],
          [
           "Division No. 10",
           "Canada"
          ],
          [
           "Saint-Joseph-de-Sorel",
           "Canada"
          ],
          [
           "Champlain",
           "Canada"
          ],
          [
           "Hamilton",
           "Canada"
          ],
          [
           "Nanticoke",
           "Canada"
          ],
          [
           "Hamilton",
           "Canada"
          ],
          [
           "Gerlafingen",
           "Switzerland"
          ],
          [
           "Rothrist",
           "Switzerland"
          ],
          [
           "Emmen",
           "Switzerland"
          ],
          [
           "Talcahuano",
           "Chile"
          ],
          [
           "Huasco",
           "Chile"
          ],
          [
           "Anshan Shi",
           "China"
          ],
          [
           "Dongli Qu",
           "China"
          ],
          [
           "Mianyang Shi",
           "China"
          ],
          [
           "Anshan Shi",
           "China"
          ],
          [
           "Chaoyang Shi",
           "China"
          ],
          [
           "Yingkou Shi",
           "China"
          ],
          [
           "Chengdu Shi",
           "China"
          ],
          [
           "Liangshan Yizuzizhizhou",
           "China"
          ],
          [
           "Panzhihua Shi",
           "China"
          ],
          [
           "Chengdu Shi",
           "China"
          ],
          [
           "Guangzhou Shi",
           "China"
          ],
          [
           "Putian Shi",
           "China"
          ],
          [
           "Anyang Shi",
           "China"
          ],
          [
           "Baotou Shi",
           "China"
          ],
          [
           "Jilin Shi",
           "China"
          ],
          [
           "Fushun Shi",
           "China"
          ],
          [
           "Shuangyashan Shi",
           "China"
          ],
          [
           "Yichun Shi",
           "China"
          ],
          [
           "Tangshan Shi",
           "China"
          ],
          [
           "Yuncheng Shi",
           "China"
          ],
          [
           "Wuhai Shi",
           "China"
          ],
          [
           "Tangshan Shi",
           "China"
          ],
          [
           "Qiqihaer Shi",
           "China"
          ],
          [
           "Jilin Shi",
           "China"
          ],
          [
           "Chengde Shi",
           "China"
          ],
          [
           "Haerbin Shi",
           "China"
          ],
          [
           "Handan Shi",
           "China"
          ],
          [
           "Shijiazhuang Shi",
           "China"
          ],
          [
           "Baoshan Qu",
           "China"
          ],
          [
           "Wulumuqi Shi",
           "China"
          ],
          [
           "Baoshan Qu",
           "China"
          ],
          [
           "Maanshan Shi",
           "China"
          ],
          [
           "Ningbo Shi",
           "China"
          ],
          [
           "Ezhou Shi",
           "China"
          ],
          [
           "Wuhan Shi",
           "China"
          ],
          [
           "Shaoguan Shi",
           "China"
          ],
          [
           "Baoshan Qu",
           "China"
          ],
          [
           "Nanjing Shi",
           "China"
          ],
          [
           "Zhanjiang Shi",
           "China"
          ],
          [
           "Fuzhou Shi",
           "China"
          ],
          [
           "Fangchenggang Shi",
           "China"
          ],
          [
           "Ezhou Shi",
           "China"
          ],
          [
           "Ningbo Shi",
           "China"
          ],
          [
           "Nantong Shi",
           "China"
          ],
          [
           "Huangshi Shi",
           "China"
          ],
          [
           "Yantai Shi",
           "China"
          ],
          [
           "Tangshan Shi",
           "China"
          ],
          [
           "Changshou Qu",
           "China"
          ],
          [
           "Wuxi Shi",
           "China"
          ],
          [
           "Nanchang Shi",
           "China"
          ],
          [
           "Liuzhou Shi",
           "China"
          ],
          [
           "Zhangjiakou Shi",
           "China"
          ],
          [
           "Hengshui Shi",
           "China"
          ],
          [
           "Pingdingshan Shi",
           "China"
          ],
          [
           "Chengde Shi",
           "China"
          ],
          [
           "Shijiazhuang Shi",
           "China"
          ],
          [
           "Tangshan Shi",
           "China"
          ],
          [
           "Tangshan Shi",
           "China"
          ],
          [
           "Handan Shi",
           "China"
          ],
          [
           "Tangshan Shi",
           "China"
          ],
          [
           "Tangshan Shi",
           "China"
          ],
          [
           "Tangshan Shi",
           "China"
          ],
          [
           "Tangshan Shi",
           "China"
          ],
          [
           "Tangshan Shi",
           "China"
          ],
          [
           "Jiyuan Shi",
           "China"
          ],
          [
           "Kunming Shi",
           "China"
          ],
          [
           "Xiangtan Shi",
           "China"
          ],
          [
           "Loudi Shi",
           "China"
          ],
          [
           "Guangzhou Shi",
           "China"
          ],
          [
           "Fushun Shi",
           "China"
          ],
          [
           "Dalian Shi",
           "China"
          ],
          [
           "Huaian Shi",
           "China"
          ],
          [
           "Suzhou Shi",
           "China"
          ],
          [
           "Anyang Shi",
           "China"
          ],
          [
           "Suzhou Shi",
           "China"
          ],
          [
           "Jiayuguan Shi",
           "China"
          ],
          [
           "Chaoyang Shi",
           "China"
          ],
          [
           "Yingkou Shi",
           "China"
          ],
          [
           "Nanjing Shi",
           "China"
          ],
          [
           "Suzhou Shi",
           "China"
          ],
          [
           "Foshan Shi",
           "China"
          ],
          [
           "Qingdao Shi",
           "China"
          ],
          [
           "Pingxiang Shi",
           "China"
          ],
          [
           "Rizhao Shi",
           "China"
          ],
          [
           "Rizhao Shi",
           "China"
          ],
          [
           "Laiwu Shi",
           "China"
          ],
          [
           "Zibo Shi",
           "China"
          ],
          [
           "Laiwu Shi",
           "China"
          ],
          [
           "Jinzhong Shi",
           "China"
          ],
          [
           "Guiyang Shi",
           "China"
          ],
          [
           "Tonghua Shi",
           "China"
          ],
          [
           "Tangshan Shi",
           "China"
          ],
          [
           "Liupanshui Shi",
           "China"
          ],
          [
           "Changzhi Shi",
           "China"
          ],
          [
           "Tangshan Shi",
           "China"
          ],
          [
           "Shunyi Qu",
           "China"
          ],
          [
           "Yili Hasakezizhizhou",
           "China"
          ],
          [
           "Benxi Shi",
           "China"
          ],
          [
           "Benxi Shi",
           "China"
          ],
          [
           "Taiyuan Shi",
           "China"
          ],
          [
           "Dongli Qu",
           "China"
          ],
          [
           "Tangshan Shi",
           "China"
          ],
          [
           "Xingtai Shi",
           "China"
          ],
          [
           "Tangshan Shi",
           "China"
          ],
          [
           "Xinyu Shi",
           "China"
          ],
          [
           "Jining Shi",
           "China"
          ],
          [
           "Changzhou Shi",
           "China"
          ],
          [
           "Cangzhou Shi",
           "China"
          ],
          [
           "Jinnan Qu",
           "China"
          ],
          [
           "Lvliang Shi",
           "China"
          ],
          [
           "Leshan Shi",
           "China"
          ],
          [
           "Jiujiang Shi",
           "China"
          ],
          [
           "Jiaxing Shi",
           "China"
          ],
          [
           "Huzhou Shi",
           "China"
          ],
          [
           "Zhangzhou Shi",
           "China"
          ],
          [
           "Kunming Shi",
           "China"
          ],
          [
           "Fuzhou Shi",
           "China"
          ],
          [
           "Sanming Shi",
           "China"
          ],
          [
           "Hengyang Shi",
           "China"
          ],
          [
           "Dazhou Shi",
           "China"
          ],
          [
           "Taian Shi",
           "China"
          ],
          [
           "Linfen Shi",
           "China"
          ],
          [
           "Qingdao Shi",
           "China"
          ],
          [
           "Laiwu Shi",
           "China"
          ],
          [
           "Weifang Shi",
           "China"
          ],
          [
           "Handan Shi",
           "China"
          ],
          [
           "Hanzhong Shi",
           "China"
          ],
          [
           "Nanyang Shi",
           "China"
          ],
          [
           "Tangshan Shi",
           "China"
          ],
          [
           "Neijiang Shi",
           "China"
          ],
          [
           "Tangshan Shi",
           "China"
          ],
          [
           "Zhuhai Shi",
           "China"
          ],
          [
           "Kunming Shi",
           "China"
          ],
          [
           "Beihai Shi",
           "China"
          ],
          [
           "Tangshan Shi",
           "China"
          ],
          [
           "Tangshan Shi",
           "China"
          ],
          [
           "Laiwu Shi",
           "China"
          ],
          [
           "Hanzhong Shi",
           "China"
          ],
          [
           "Yuncheng Shi",
           "China"
          ],
          [
           "Tangshan Shi",
           "China"
          ],
          [
           "Xining Shi",
           "China"
          ],
          [
           "Guiyang Shi",
           "China"
          ],
          [
           "Yangjiang Shi",
           "China"
          ],
          [
           "Guigang Shi",
           "China"
          ],
          [
           "Honghe Hanizuyizuzizhizhou",
           "China"
          ],
          [
           "Yuxi Shi",
           "China"
          ],
          [
           "Zhangzhou Shi",
           "China"
          ],
          [
           "Fuzhou Shi",
           "China"
          ],
          [
           "Fuzhou Shi",
           "China"
          ],
          [
           "Taizhou Shi",
           "China"
          ],
          [
           "Yangzhou Shi",
           "China"
          ],
          [
           "Pingdingshan Shi",
           "China"
          ],
          [
           "Lianyungang Shi",
           "China"
          ],
          [
           "Yancheng Shi",
           "China"
          ],
          [
           "Lianyungang Shi",
           "China"
          ],
          [
           "Linfen Shi",
           "China"
          ],
          [
           "Linfen Shi",
           "China"
          ],
          [
           "Anyang Shi",
           "China"
          ],
          [
           "Handan Shi",
           "China"
          ],
          [
           "Handan Shi",
           "China"
          ],
          [
           "Handan Shi",
           "China"
          ],
          [
           "Handan Shi",
           "China"
          ],
          [
           "Handan Shi",
           "China"
          ],
          [
           "Handan Shi",
           "China"
          ],
          [
           "Handan Shi",
           "China"
          ],
          [
           "Weifang Shi",
           "China"
          ],
          [
           "Lvliang Shi",
           "China"
          ],
          [
           "Lvliang Shi",
           "China"
          ],
          [
           "Shijiazhuang Shi",
           "China"
          ],
          [
           "Jinghai Qu",
           "China"
          ],
          [
           "Jinghai Qu",
           "China"
          ],
          [
           "Beichen Qu",
           "China"
          ],
          [
           "Tangshan Shi",
           "China"
          ],
          [
           "Tangshan Shi",
           "China"
          ],
          [
           "Tangshan Shi",
           "China"
          ],
          [
           "Tangshan Shi",
           "China"
          ],
          [
           "Qinhuangdao Shi",
           "China"
          ],
          [
           "Tangshan Shi",
           "China"
          ],
          [
           "Tangshan Shi",
           "China"
          ],
          [
           "Tangshan Shi",
           "China"
          ],
          [
           "Chengde Shi",
           "China"
          ],
          [
           "Baotou Shi",
           "China"
          ],
          [
           "Anshan Shi",
           "China"
          ],
          [
           "Liaoyang Shi",
           "China"
          ],
          [
           "Wulumuqi Shi",
           "China"
          ],
          [
           "Tacheng Diqu",
           "China"
          ],
          [
           "Changji Huizuzizhizhou",
           "China"
          ],
          [
           "Tongliao Shi",
           "China"
          ],
          [
           "Malambo",
           "Colombia"
          ],
          [
           "Sabaneta",
           "Colombia"
          ],
          [
           "Sibaté",
           "Colombia"
          ],
          [
           "Bosiga Sur",
           "Colombia"
          ],
          [
           "Yumbo",
           "Colombia"
          ],
          [
           "Medellín",
           "Colombia"
          ],
          [
           "Malambo",
           "Colombia"
          ],
          [
           "Manizales",
           "Colombia"
          ],
          [
           "Puerto Tejada",
           "Colombia"
          ],
          [
           "Belencito",
           "Colombia"
          ],
          [
           "San José",
           "Costa Rica"
          ],
          [
           "Las Tunas",
           "Cuba"
          ],
          [
           "La Habana",
           "Cuba"
          ],
          [
           "Ostrava-město",
           "Czechia"
          ],
          [
           "Ostrava",
           "Czechia"
          ],
          [
           "Ostrava-město",
           "Czechia"
          ],
          [
           "Plzeň-město",
           "Czechia"
          ],
          [
           "Třinec",
           "Czechia"
          ],
          [
           "Bohumín",
           "Czechia"
          ],
          [
           "Buštěhrad",
           "Czechia"
          ],
          [
           "Ostrava",
           "Czechia"
          ],
          [
           "Staré Město",
           "Czechia"
          ],
          [
           "Kladno",
           "Czechia"
          ],
          [
           "Frýdek-Místek",
           "Czechia"
          ],
          [
           "Ostrava",
           "Czechia"
          ],
          [
           "Hrádek",
           "Czechia"
          ],
          [
           "Králův Dvůr",
           "Czechia"
          ],
          [
           "Velvary",
           "Czechia"
          ],
          [
           "Hamburg",
           "Germany"
          ],
          [
           "Bremen",
           "Germany"
          ],
          [
           "Eisenhüttenstadt",
           "Germany"
          ],
          [
           "Duisburg",
           "Germany"
          ],
          [
           "Bottrop",
           "Germany"
          ],
          [
           "Neukieritzsch",
           "Germany"
          ],
          [
           "Freital",
           "Germany"
          ],
          [
           "Siegen",
           "Germany"
          ],
          [
           "Hagen",
           "Germany"
          ],
          [
           "Hagen",
           "Germany"
          ],
          [
           "Kehl",
           "Germany"
          ],
          [
           "Lingen (Ems)",
           "Germany"
          ],
          [
           "Paderborn",
           "Germany"
          ],
          [
           "Bottrop",
           "Germany"
          ],
          [
           "Dinslaken",
           "Germany"
          ],
          [
           "Paderborn",
           "Germany"
          ],
          [
           "Hagen",
           "Germany"
          ],
          [
           "Plettenberg",
           "Germany"
          ],
          [
           "Schwerte",
           "Germany"
          ],
          [
           "Unterwellenborn",
           "Germany"
          ],
          [
           "Saarlouis",
           "Germany"
          ],
          [
           "Riesa",
           "Germany"
          ],
          [
           "Gröditz",
           "Germany"
          ],
          [
           "Mülheim an der Ruhr",
           "Germany"
          ],
          [
           "Georgsmarienhütte",
           "Germany"
          ],
          [
           "Essen",
           "Germany"
          ],
          [
           "Bous",
           "Germany"
          ],
          [
           "Troisdorf",
           "Germany"
          ],
          [
           "Witten",
           "Germany"
          ],
          [
           "Engelskirchen",
           "Germany"
          ],
          [
           "Siegen",
           "Germany"
          ],
          [
           "Siegen",
           "Germany"
          ],
          [
           "Duisburg",
           "Germany"
          ],
          [
           "Wuppertal",
           "Germany"
          ],
          [
           "Bad Salzungen",
           "Germany"
          ],
          [
           "Wiehl",
           "Germany"
          ],
          [
           "Iserlohn",
           "Germany"
          ],
          [
           "Meitingen",
           "Germany"
          ],
          [
           "Ainring",
           "Germany"
          ],
          [
           "Saarbrücken",
           "Germany"
          ],
          [
           "Neunkirchen",
           "Germany"
          ],
          [
           "Völklingen",
           "Germany"
          ],
          [
           "Völklingen",
           "Germany"
          ],
          [
           "Krefeld",
           "Germany"
          ],
          [
           "Schalksmühle",
           "Germany"
          ],
          [
           "Dillenburg",
           "Germany"
          ],
          [
           "Bielefeld",
           "Germany"
          ],
          [
           "Iserlohn",
           "Germany"
          ],
          [
           "Hennigsdorf",
           "Germany"
          ],
          [
           "Brandenburg an der Havel",
           "Germany"
          ],
          [
           "Lampertheim",
           "Germany"
          ],
          [
           "Morbach",
           "Germany"
          ],
          [
           "Trier",
           "Germany"
          ],
          [
           "Peine",
           "Germany"
          ],
          [
           "Salzgitter",
           "Germany"
          ],
          [
           "Mülheim an der Ruhr",
           "Germany"
          ],
          [
           "Ilsenburg (Harz)",
           "Germany"
          ],
          [
           "Sande",
           "Germany"
          ],
          [
           "Hagen",
           "Germany"
          ],
          [
           "Witten",
           "Germany"
          ],
          [
           "Siegen",
           "Germany"
          ],
          [
           "Krefeld",
           "Germany"
          ],
          [
           "Düsseldorf",
           "Germany"
          ],
          [
           "Duisburg",
           "Germany"
          ],
          [
           "Duisburg",
           "Germany"
          ],
          [
           "Hagen",
           "Germany"
          ],
          [
           "Kreuztal",
           "Germany"
          ],
          [
           "Dortmund",
           "Germany"
          ],
          [
           "Gelsenkirchen",
           "Germany"
          ],
          [
           "Bochum",
           "Germany"
          ],
          [
           "Bochum",
           "Germany"
          ],
          [
           "Andernach",
           "Germany"
          ],
          [
           "Kreuztal",
           "Germany"
          ],
          [
           "Finnentrop",
           "Germany"
          ],
          [
           "Altena",
           "Germany"
          ],
          [
           "Werdohl",
           "Germany"
          ],
          [
           "Unna",
           "Germany"
          ],
          [
           "Siegen",
           "Germany"
          ],
          [
           "Hanau",
           "Germany"
          ],
          [
           "Königswinter",
           "Germany"
          ],
          [
           "Nachrodt-Wiblingwerde",
           "Germany"
          ],
          [
           "Wickede (Ruhr)",
           "Germany"
          ],
          [
           "Schwerte",
           "Germany"
          ],
          [
           "Unna",
           "Germany"
          ],
          [
           "Wetzlar",
           "Germany"
          ],
          [
           "Hattingen",
           "Germany"
          ],
          [
           "Hagen",
           "Germany"
          ],
          [
           "Herzberg am Harz",
           "Germany"
          ],
          [
           "Trier",
           "Germany"
          ],
          [
           "Neuwied",
           "Germany"
          ],
          [
           "Frederiksværk",
           "Denmark"
          ],
          [
           "Nykøbing Falster",
           "Denmark"
          ],
          [
           "Frederiksværk",
           "Denmark"
          ],
          [
           "Santo Domingo",
           "Dominican Republic"
          ],
          [
           "Sidi Amar",
           "Algeria"
          ],
          [
           "El-Milia",
           "Algeria"
          ],
          [
           "Bethioua",
           "Algeria"
          ],
          [
           "Guayaquil",
           "Ecuador"
          ],
          [
           "El Sadat City Desert",
           "Egypt"
          ],
          [
           "El Sadat City",
           "Egypt"
          ],
          [
           "El Sadat City Desert",
           "Egypt"
          ],
          [
           "El Sadat City",
           "Egypt"
          ],
          [
           "El Matareya",
           "Egypt"
          ],
          [
           "Second 6th of October",
           "Egypt"
          ],
          [
           "10th of Rammadan First",
           "Egypt"
          ],
          [
           "Ain Sokhna",
           "Egypt"
          ],
          [
           "Attaka",
           "Egypt"
          ],
          [
           "El Sadat City Desert",
           "Egypt"
          ],
          [
           "Dekhela",
           "Egypt"
          ],
          [
           "Al Tbin",
           "Egypt"
          ],
          [
           "Suez",
           "Egypt"
          ],
          [
           "Al Obour",
           "Egypt"
          ],
          [
           "Los Barrios",
           "Spain"
          ],
          [
           "Ponferrada",
           "Spain"
          ],
          [
           "Igualada",
           "Spain"
          ],
          [
           "Etxebarri",
           "Spain"
          ],
          [
           "Lesaka",
           "Spain"
          ],
          [
           "Olaberria",
           "Spain"
          ],
          [
           "Bilbao",
           "Spain"
          ],
          [
           "Gijón",
           "Spain"
          ],
          [
           "Gozón",
           "Spain"
          ],
          [
           "Sagunto",
           "Spain"
          ],
          [
           "Bergara",
           "Spain"
          ],
          [
           "Zumarraga",
           "Spain"
          ],
          [
           "Castellbisbal",
           "Spain"
          ],
          [
           "Vizcaya",
           "Spain"
          ],
          [
           "Santander",
           "Spain"
          ],
          [
           "Jerez de los Caballeros",
           "Spain"
          ],
          [
           "Narón",
           "Spain"
          ],
          [
           "Zaragoza",
           "Spain"
          ],
          [
           "Alcalá de Guadaíra",
           "Spain"
          ],
          [
           "Loiu",
           "Spain"
          ],
          [
           "Basauri",
           "Spain"
          ],
          [
           "Azcoitia",
           "Spain"
          ],
          [
           "Gasteiz",
           "Spain"
          ],
          [
           "Reinosa",
           "Spain"
          ],
          [
           "Imatra",
           "Finland"
          ],
          [
           "Tornio",
           "Finland"
          ],
          [
           "Raahe",
           "Finland"
          ],
          [
           "Hämeenlinna",
           "Finland"
          ],
          [
           "Kankaanpää",
           "Finland"
          ],
          [
           "Trith-Saint-Léger",
           "France"
          ],
          [
           "Apprieu",
           "France"
          ],
          [
           "Rives",
           "France"
          ],
          [
           "Isbergues",
           "France"
          ],
          [
           "Gueugnon",
           "France"
          ],
          [
           "Imphy",
           "France"
          ],
          [
           "Pont-de-Roide",
           "France"
          ],
          [
           "Épône",
           "France"
          ],
          [
           "Montargis",
           "France"
          ],
          [
           "Fos-sur-Mer",
           "France"
          ],
          [
           "Dunkerque",
           "France"
          ],
          [
           "Desvres",
           "France"
          ],
          [
           "Montataire",
           "France"
          ],
          [
           "Rombas",
           "France"
          ],
          [
           "Mouzon",
           "France"
          ],
          [
           "Serémange-Erzange",
           "France"
          ],
          [
           "Grande-Synthe",
           "France"
          ],
          [
           "Saint-Chély-d'Apcher",
           "France"
          ],
          [
           "Chateauneuf",
           "France"
          ],
          [
           "Le Creusot",
           "France"
          ],
          [
           "Indre",
           "France"
          ],
          [
           "Hagondange",
           "France"
          ],
          [
           "Leffrinckoucke",
           "France"
          ],
          [
           "Fos-sur-Mer",
           "France"
          ],
          [
           "Custines",
           "France"
          ],
          [
           "Boucau",
           "France"
          ],
          [
           "Firminy",
           "France"
          ],
          [
           "Pamiers",
           "France"
          ],
          [
           "Les Ancizes-Comps",
           "France"
          ],
          [
           "Imphy",
           "France"
          ],
          [
           "Commentry",
           "France"
          ],
          [
           "Champagnole",
           "France"
          ],
          [
           "Saint-Saulve",
           "France"
          ],
          [
           "Nilvange",
           "France"
          ],
          [
           "Saint-Laurent-du-Pont",
           "France"
          ],
          [
           "Strasbourg",
           "France"
          ],
          [
           "Montereau-Fault-Yonne",
           "France"
          ],
          [
           "Neuves-Maisons",
           "France"
          ],
          [
           "Jeufosse",
           "France"
          ],
          [
           "Porcheville",
           "France"
          ],
          [
           "Creil",
           "France"
          ],
          [
           "Vauvert",
           "France"
          ],
          [
           "Saint-Just-Saint-Rambert",
           "France"
          ],
          [
           "Pont-à-Mousson",
           "France"
          ],
          [
           "Belleville",
           "France"
          ],
          [
           "Ugine",
           "France"
          ],
          [
           "Louvroil",
           "France"
          ],
          [
           "Isbergues",
           "France"
          ],
          [
           "Saint-Juéry",
           "France"
          ],
          [
           "West Midlands",
           "United Kingdom"
          ],
          [
           "South Yorkshire",
           "United Kingdom"
          ],
          [
           "Cardiff",
           "United Kingdom"
          ],
          [
           "Cardiff",
           "United Kingdom"
          ],
          [
           "Staveley",
           "United Kingdom"
          ],
          [
           "Rawmarsh",
           "United Kingdom"
          ],
          [
           "Newport",
           "United Kingdom"
          ],
          [
           "South Yorkshire",
           "United Kingdom"
          ],
          [
           "Stocksbridge",
           "United Kingdom"
          ],
          [
           "North Lincolnshire",
           "United Kingdom"
          ],
          [
           "North Lanarkshire",
           "United Kingdom"
          ],
          [
           "North Lincolnshire",
           "United Kingdom"
          ],
          [
           "Redcar and Cleveland",
           "United Kingdom"
          ],
          [
           "South Yorkshire",
           "United Kingdom"
          ],
          [
           "South Yorkshire",
           "United Kingdom"
          ],
          [
           "Tyne and Wear",
           "United Kingdom"
          ],
          [
           "South Yorkshire",
           "United Kingdom"
          ],
          [
           "Neath Port Talbot Principle Area",
           "United Kingdom"
          ],
          [
           "Flintshire",
           "United Kingdom"
          ],
          [
           "Carmarthenshire",
           "United Kingdom"
          ],
          [
           "Newport",
           "United Kingdom"
          ],
          [
           "Northamptonshire",
           "United Kingdom"
          ],
          [
           "Nottinghamshire",
           "United Kingdom"
          ],
          [
           "Rustavi",
           "Georgia"
          ],
          [
           "Rustavi",
           "Georgia"
          ],
          [
           "Tema",
           "Ghana"
          ],
          [
           "Metallia",
           "Greece"
          ],
          [
           "Almyros",
           "Greece"
          ],
          [
           "Echedoro",
           "Greece"
          ],
          [
           "Gallikos",
           "Greece"
          ],
          [
           "Masagua",
           "Guatemala"
          ],
          [
           "Villa Nueva",
           "Guatemala"
          ],
          [
           "Amatitlán",
           "Guatemala"
          ],
          [
           "Sisak",
           "Croatia"
          ],
          [
           "Miskolc",
           "Hungary"
          ],
          [
           "Dunaújváros",
           "Hungary"
          ],
          [
           "Ózd",
           "Hungary"
          ],
          [
           "Gönyű",
           "Hungary"
          ],
          [
           "Ózd",
           "Hungary"
          ],
          [
           "Miskolc",
           "Hungary"
          ],
          [
           "Bekasi",
           "Indonesia"
          ],
          [
           "Kota Cilegon",
           "Indonesia"
          ],
          [
           "Kabupaten Morowali",
           "Indonesia"
          ],
          [
           "Bekasi",
           "Indonesia"
          ],
          [
           "Kota Medan",
           "Indonesia"
          ],
          [
           "Bekasi",
           "Indonesia"
          ],
          [
           "Kabupaten Gresik",
           "Indonesia"
          ],
          [
           "Kabupaten Gresik",
           "Indonesia"
          ],
          [
           "Kabupaten Sidoarjo",
           "Indonesia"
          ],
          [
           "Kota Cilegon",
           "Indonesia"
          ],
          [
           "Kota Cilegon",
           "Indonesia"
          ],
          [
           "Kota Cilegon",
           "Indonesia"
          ],
          [
           "Kota Surabaya",
           "Indonesia"
          ],
          [
           "Bekasi",
           "Indonesia"
          ],
          [
           "Kota Cilegon",
           "Indonesia"
          ],
          [
           "Kota Medan",
           "Indonesia"
          ],
          [
           "Kota Surabaya",
           "Indonesia"
          ],
          [
           "Kabupaten Sidoarjo",
           "Indonesia"
          ],
          [
           "Kota Jakarta Utara",
           "Indonesia"
          ],
          [
           "Kota Tangerang",
           "Indonesia"
          ],
          [
           "Kabupaten Sidoarjo",
           "Indonesia"
          ],
          [
           "Kota Jakarta Timur",
           "Indonesia"
          ],
          [
           "Kota Jakarta Timur",
           "Indonesia"
          ],
          [
           "Kota Cilegon",
           "Indonesia"
          ],
          [
           "Kabupaten Tanah Bumbu",
           "Indonesia"
          ],
          [
           "Kota Cilegon",
           "Indonesia"
          ],
          [
           "Kota Jakarta Timur",
           "Indonesia"
          ],
          [
           "Gresik Regency",
           "Indonesia"
          ],
          [
           "Kota Semarang",
           "Indonesia"
          ],
          [
           "Bekasi",
           "Indonesia"
          ],
          [
           "Kota Bekasi",
           "Indonesia"
          ],
          [
           "Hazira",
           "India"
          ],
          [
           "Pimpri-Chinchwad",
           "India"
          ],
          [
           "Visakhapatnam",
           "India"
          ],
          [
           "Musadia",
           "India"
          ],
          [
           "Danapuram",
           "India"
          ],
          [
           "Raigad",
           "India"
          ],
          [
           "Salem",
           "India"
          ],
          [
           "Toranagallu",
           "India"
          ],
          [
           "Derba",
           "India"
          ],
          [
           "Kurru Bhantha",
           "India"
          ],
          [
           "Kalameshwar",
           "India"
          ],
          [
           "Vasind",
           "India"
          ],
          [
           "Boisar",
           "India"
          ],
          [
           "Raipur",
           "India"
          ],
          [
           "Jajpur",
           "India"
          ],
          [
           "Hisar",
           "India"
          ],
          [
           "Dathi",
           "India"
          ],
          [
           "Patratu",
           "India"
          ],
          [
           "Sanakerjang jungle",
           "India"
          ],
          [
           "Muralipali",
           "India"
          ],
          [
           "Kendujhar",
           "India"
          ],
          [
           "Kalyani",
           "India"
          ],
          [
           "Mangalore",
           "India"
          ],
          [
           "Kanakapur",
           "India"
          ],
          [
           "Thane",
           "India"
          ],
          [
           "Upanpal",
           "India"
          ],
          [
           "Jajpur",
           "India"
          ],
          [
           "Mathurakismat",
           "India"
          ],
          [
           "Bhagad",
           "India"
          ],
          [
           "Gajuwaka part",
           "India"
          ],
          [
           "Bokaro Steel City",
           "India"
          ],
          [
           "Asansol",
           "India"
          ],
          [
           "Durgapur",
           "India"
          ],
          [
           "Bhilai",
           "India"
          ],
          [
           "Raurkela Industrial Township",
           "India"
          ],
          [
           "Maramangalathupatti",
           "India"
          ],
          [
           "Durgapur",
           "India"
          ],
          [
           "Chandrapur",
           "India"
          ],
          [
           "Bhadravathi",
           "India"
          ],
          [
           "Relligavirammapeta",
           "India"
          ],
          [
           "Warthi",
           "India"
          ],
          [
           "Gobara Ghati",
           "India"
          ],
          [
           "Jamshedpur",
           "India"
          ],
          [
           "Latibpur",
           "India"
          ],
          [
           "Sarapa",
           "India"
          ],
          [
           "Jamshedpur",
           "India"
          ],
          [
           "Belaipada",
           "India"
          ],
          [
           "Boisar",
           "India"
          ],
          [
           "Raigad",
           "India"
          ],
          [
           "Ghaziabad",
           "India"
          ],
          [
           "Nuashasan",
           "India"
          ],
          [
           "Zuzuvadi",
           "India"
          ],
          [
           "Nashik",
           "India"
          ],
          [
           "Haratu",
           "India"
          ],
          [
           "Hoshiarpur",
           "India"
          ],
          [
           "Jajpur",
           "India"
          ],
          [
           "Pune",
           "India"
          ],
          [
           "Salav",
           "India"
          ],
          [
           "Murtazanagar",
           "India"
          ],
          [
           "Donvat",
           "India"
          ],
          [
           "Unnao",
           "India"
          ],
          [
           "Salanpur",
           "India"
          ],
          [
           "Lunva",
           "India"
          ],
          [
           "Kutch",
           "India"
          ],
          [
           "Kutch",
           "India"
          ],
          [
           "Koppal",
           "India"
          ],
          [
           "Mithi Rohar",
           "India"
          ],
          [
           "Tiruvallur",
           "India"
          ],
          [
           "Pappankuppam",
           "India"
          ],
          [
           "Sri Potti Sriramulu Nellore District",
           "India"
          ],
          [
           "Husenapuram",
           "India"
          ],
          [
           "Narayanadevarake",
           "India"
          ],
          [
           "Curtorim",
           "India"
          ],
          [
           "Koppal",
           "India"
          ],
          [
           "Bevinhalli",
           "India"
          ],
          [
           "Shiroda",
           "India"
          ],
          [
           "Navelim",
           "India"
          ],
          [
           "Akkinepallivari Lingotam",
           "India"
          ],
          [
           "Haldia",
           "India"
          ],
          [
           "Jamshedpur",
           "India"
          ],
          [
           "Navsari",
           "India"
          ],
          [
           "Khurunti",
           "India"
          ],
          [
           "Nagpur",
           "India"
          ],
          [
           "Nagpur",
           "India"
          ],
          [
           "Raipur",
           "India"
          ],
          [
           "Raipur",
           "India"
          ],
          [
           "Jaladihi",
           "India"
          ],
          [
           "Aharaposi",
           "India"
          ],
          [
           "Godhi",
           "India"
          ],
          [
           "Palej",
           "India"
          ],
          [
           "Wardha",
           "India"
          ],
          [
           "Deoli",
           "India"
          ],
          [
           "Jamshedpur",
           "India"
          ],
          [
           "Jamshedpur",
           "India"
          ],
          [
           "Jamshedpur",
           "India"
          ],
          [
           "Kolkata",
           "India"
          ],
          [
           "Dhar",
           "India"
          ],
          [
           "Howrah",
           "India"
          ],
          [
           "Khopoli",
           "India"
          ],
          [
           "Bhusugaon",
           "India"
          ],
          [
           "Janjgir-Champa",
           "India"
          ],
          [
           "Boisar",
           "India"
          ],
          [
           "Jalna",
           "India"
          ],
          [
           "Ghugus",
           "India"
          ],
          [
           "Bawal",
           "India"
          ],
          [
           "Khopoli",
           "India"
          ],
          [
           "Asoda Todran",
           "India"
          ],
          [
           "Fatehgarh Sahib",
           "India"
          ],
          [
           "Ludhiana",
           "India"
          ],
          [
           "Ludhiana",
           "India"
          ],
          [
           "Ludhiana",
           "India"
          ],
          [
           null,
           "Iran (Islamic Republic of)"
          ],
          [
           null,
           "Iran (Islamic Republic of)"
          ],
          [
           "Lenjan",
           "Iran (Islamic Republic of)"
          ],
          [
           "Bandar Abbas",
           "Iran (Islamic Republic of)"
          ],
          [
           "Ahvaz",
           "Iran (Islamic Republic of)"
          ],
          [
           "Ghayenat",
           "Iran (Islamic Republic of)"
          ],
          [
           null,
           "Iran (Islamic Republic of)"
          ],
          [
           "Zarand",
           "Iran (Islamic Republic of)"
          ],
          [
           "Kerman",
           "Iran (Islamic Republic of)"
          ],
          [
           "Kerman",
           "Iran (Islamic Republic of)"
          ],
          [
           "Natanz",
           "Iran (Islamic Republic of)"
          ],
          [
           "Ahvaz",
           "Iran (Islamic Republic of)"
          ],
          [
           "Talkhooncheh",
           "Iran (Islamic Republic of)"
          ],
          [
           "Abghoy",
           "Iran (Islamic Republic of)"
          ],
          [
           "Qasira",
           "Iran (Islamic Republic of)"
          ],
          [
           "Bandar Abbas",
           "Iran (Islamic Republic of)"
          ],
          [
           "Rasht Industrial Town",
           "Iran (Islamic Republic of)"
          ],
          [
           "Vicenza",
           "Italy"
          ],
          [
           "San Giovanni Valdarno",
           "Italy"
          ],
          [
           "Z.ind. Siderurgica",
           "Italy"
          ],
          [
           "Ospitaletto",
           "Italy"
          ],
          [
           "Verginello",
           "Italy"
          ],
          [
           "Acciaieria",
           "Italy"
          ],
          [
           "Bolzano",
           "Italy"
          ],
          [
           "Borgo Valsugana",
           "Italy"
          ],
          [
           "Sarezzo",
           "Italy"
          ],
          [
           "Mura",
           "Italy"
          ],
          [
           "Odolo",
           "Italy"
          ],
          [
           "Padova",
           "Italy"
          ],
          [
           "Andreuzza",
           "Italy"
          ],
          [
           "Volargne",
           "Italy"
          ],
          [
           "Brescia",
           "Italy"
          ],
          [
           "Catania",
           "Italy"
          ],
          [
           "Genova",
           "Italy"
          ],
          [
           "Agip Petroli-ilva",
           "Italy"
          ],
          [
           "Area Industriale San Mango",
           "Italy"
          ],
          [
           "Ilva Spa",
           "Italy"
          ],
          [
           "Aosta",
           "Italy"
          ],
          [
           "Zona Ziu",
           "Italy"
          ],
          [
           "San Giorgio di Nogaro",
           "Italy"
          ],
          [
           "Lonato",
           "Italy"
          ],
          [
           "Lecco",
           "Italy"
          ],
          [
           "Viadana Bresciana",
           "Italy"
          ],
          [
           "Odolo",
           "Italy"
          ],
          [
           "Sestri Levante",
           "Italy"
          ],
          [
           "Canale Nord",
           "Italy"
          ],
          [
           "Trieste",
           "Italy"
          ],
          [
           "Provincia di Varese",
           "Italy"
          ],
          [
           "Zona Industriale Aussa Corno",
           "Italy"
          ],
          [
           "Rho",
           "Italy"
          ],
          [
           "Bagnolo Mella",
           "Italy"
          ],
          [
           "Visano",
           "Italy"
          ],
          [
           "Zona Industriale-artigianale",
           "Italy"
          ],
          [
           "Provincia di Mantova",
           "Italy"
          ],
          [
           "Piombino",
           "Italy"
          ],
          [
           "Zona Industriale di Rivoli di Osoppo",
           "Italy"
          ],
          [
           "Potenza",
           "Italy"
          ],
          [
           "Verona",
           "Italy"
          ],
          [
           "Odolo",
           "Italy"
          ],
          [
           "Cairo Montenotte",
           "Italy"
          ],
          [
           "Piombino",
           "Italy"
          ],
          [
           "Lovere",
           "Italy"
          ],
          [
           "Zona Industriale Aussa Corno",
           "Italy"
          ],
          [
           "Gazoldo degli Ippoliti",
           "Italy"
          ],
          [
           "Area Industriale",
           "Italy"
          ],
          [
           "Cazumenta",
           "Italy"
          ],
          [
           "Provincia di Bergamo",
           "Italy"
          ],
          [
           "Graffignana",
           "Italy"
          ],
          [
           "Lomagna",
           "Italy"
          ],
          [
           "Forlì",
           "Italy"
          ],
          [
           "Contino",
           "Italy"
          ],
          [
           "Breno",
           "Italy"
          ],
          [
           "Vallese",
           "Italy"
          ],
          [
           "Giammoro",
           "Italy"
          ],
          [
           "Provincia del Verbano-Cusio-Ossola",
           "Italy"
          ],
          [
           "San Zeno Due",
           "Italy"
          ],
          [
           "Nogaré Zona Industriale",
           "Italy"
          ],
          [
           "Provincia di Udine",
           "Italy"
          ],
          [
           "Ospitaletto",
           "Italy"
          ],
          [
           "Brescia",
           "Italy"
          ],
          [
           "Provincia di Frosinone",
           "Italy"
          ],
          [
           "Cologne",
           "Italy"
          ],
          [
           "Caronno Pertusella",
           "Italy"
          ],
          [
           "Sellero",
           "Italy"
          ],
          [
           "Acciaieria",
           "Italy"
          ],
          [
           "Ferriera",
           "Italy"
          ],
          [
           "Malegno",
           "Italy"
          ],
          [
           "Bosisio Parini",
           "Italy"
          ],
          [
           "Via Industria II",
           "Italy"
          ],
          [
           "Acciaierie di Rubiera",
           "Italy"
          ],
          [
           "Zona Industriale Aussa Corno",
           "Italy"
          ],
          [
           "Vallese-due Ponti",
           "Italy"
          ],
          [
           "Altavilla Vicentina",
           "Italy"
          ],
          [
           "Dalmine",
           "Italy"
          ],
          [
           "Terni",
           "Italy"
          ],
          [
           "Brescia",
           "Italy"
          ],
          [
           "Hashemiyah District",
           "Jordan"
          ],
          [
           "Az-Zarqa",
           "Jordan"
          ],
          [
           "Tokai",
           "Japan"
          ],
          [
           "Tokai",
           "Japan"
          ],
          [
           "Shibukawa",
           "Japan"
          ],
          [
           "Nagoya",
           "Japan"
          ],
          [
           "Kimitsu",
           "Japan"
          ],
          [
           "Kawasaki",
           "Japan"
          ],
          [
           "Kita City",
           "Japan"
          ],
          [
           "Osaka",
           "Japan"
          ],
          [
           "Himeji",
           "Japan"
          ],
          [
           "Funabashi",
           "Japan"
          ],
          [
           "Himeji",
           "Japan"
          ],
          [
           "Kamisu",
           "Japan"
          ],
          [
           "Misato",
           "Japan"
          ],
          [
           "Kurashiki",
           "Japan"
          ],
          [
           "Fukuyama",
           "Japan"
          ],
          [
           "Chiba",
           "Japan"
          ],
          [
           "Handa",
           "Japan"
          ],
          [
           "Sendai",
           "Japan"
          ],
          [
           "Kawasaki",
           "Japan"
          ],
          [
           "Kawasaki",
           "Japan"
          ],
          [
           "Kurashiki",
           "Japan"
          ],
          [
           "Chiba",
           "Japan"
          ],
          [
           "Nishinomiya",
           "Japan"
          ],
          [
           "Sapporo",
           "Japan"
          ],
          [
           "Kobe",
           "Japan"
          ],
          [
           "Kakogawa",
           "Japan"
          ],
          [
           "Takasago",
           "Japan"
          ],
          [
           "Hirakata",
           "Japan"
          ],
          [
           "Sanyoonoda",
           "Japan"
          ],
          [
           "Tobishima",
           "Japan"
          ],
          [
           "Osaka",
           "Japan"
          ],
          [
           "Osaka",
           "Japan"
          ],
          [
           "Osaka",
           "Japan"
          ],
          [
           "Kishiwada",
           "Japan"
          ],
          [
           "Sakai",
           "Japan"
          ],
          [
           "Ota",
           "Japan"
          ],
          [
           "Uto",
           "Japan"
          ],
          [
           "Oyama",
           "Japan"
          ],
          [
           "Wakayama",
           "Japan"
          ],
          [
           "Muroran",
           "Japan"
          ],
          [
           "Kashima",
           "Japan"
          ],
          [
           "Oita",
           "Japan"
          ],
          [
           "Kitakyushu",
           "Japan"
          ],
          [
           "Kure",
           "Japan"
          ],
          [
           "Tokai",
           "Japan"
          ],
          [
           "Kimitsu",
           "Japan"
          ],
          [
           "Amagasaki",
           "Japan"
          ],
          [
           "Osaka",
           "Japan"
          ],
          [
           "Sakai",
           "Japan"
          ],
          [
           "Sakai",
           "Japan"
          ],
          [
           "Amagasaki",
           "Japan"
          ],
          [
           "Himeji",
           "Japan"
          ],
          [
           "Kamaishi",
           "Japan"
          ],
          [
           "Joetsu",
           "Japan"
          ],
          [
           "Saijo",
           "Japan"
          ],
          [
           "Hikari",
           "Japan"
          ],
          [
           "Kainan",
           "Japan"
          ],
          [
           "Itabashi City",
           "Japan"
          ],
          [
           "Kitakyushu",
           "Japan"
          ],
          [
           "Himeji",
           "Japan"
          ],
          [
           "Himeji",
           "Japan"
          ],
          [
           "Kurashiki",
           "Japan"
          ],
          [
           "Tahara",
           "Japan"
          ],
          [
           "Utsunomiya",
           "Japan"
          ],
          [
           "Kitakyushu",
           "Japan"
          ],
          [
           "Hachinohe",
           "Japan"
          ],
          [
           "Oyama",
           "Japan"
          ],
          [
           "Toyohashi",
           "Japan"
          ],
          [
           "Himeji",
           "Japan"
          ],
          [
           "Kure",
           "Japan"
          ],
          [
           "Ichikawa",
           "Japan"
          ],
          [
           "Izumiotsu",
           "Japan"
          ],
          [
           "Osaka",
           "Japan"
          ],
          [
           "Itami",
           "Japan"
          ],
          [
           "Kudamatsu",
           "Japan"
          ],
          [
           "Shunan",
           "Japan"
          ],
          [
           "Inabe",
           "Japan"
          ],
          [
           "Nagoya",
           "Japan"
          ],
          [
           "Yasugi",
           "Japan"
          ],
          [
           "Kawasaki",
           "Japan"
          ],
          [
           "Ichikawa",
           "Japan"
          ],
          [
           "Temirtau",
           "Kazakhstan"
          ],
          [
           "Rudny",
           "Kazakhstan"
          ],
          [
           "Nairobi",
           "Kenya"
          ],
          [
           "Phnom Penh",
           "Cambodia"
          ],
          [
           "Gangseo-gu",
           "Korea, Republic of"
          ],
          [
           "Saha-gu",
           "Korea, Republic of"
          ],
          [
           "Pyeongtaek",
           "Korea, Republic of"
          ],
          [
           "Pohang",
           "Korea, Republic of"
          ],
          [
           "Pohang",
           "Korea, Republic of"
          ],
          [
           "Dong-gu",
           "Korea, Republic of"
          ],
          [
           "Nam-gu",
           "Korea, Republic of"
          ],
          [
           "Dangjin",
           "Korea, Republic of"
          ],
          [
           "Dangjin",
           "Korea, Republic of"
          ],
          [
           "Suncheon-si",
           "Korea, Republic of"
          ],
          [
           "Pohang",
           "Korea, Republic of"
          ],
          [
           "Seongsan-gu",
           "Korea, Republic of"
          ],
          [
           "Dong-gu",
           "Korea, Republic of"
          ],
          [
           "Buk-gu",
           "Korea, Republic of"
          ],
          [
           "Yesan-gun",
           "Korea, Republic of"
          ],
          [
           "Seo-gu",
           "Korea, Republic of"
          ],
          [
           "Dangjin-si",
           "Korea, Republic of"
          ],
          [
           "Seongsan-gu",
           "Korea, Republic of"
          ],
          [
           "Dangjin",
           "Korea, Republic of"
          ],
          [
           "Pohang",
           "Korea, Republic of"
          ],
          [
           "Haman",
           "Korea, Republic of"
          ],
          [
           "Sasang-gu",
           "Korea, Republic of"
          ],
          [
           "Gangseo-gu",
           "Korea, Republic of"
          ],
          [
           "Pohang",
           "Korea, Republic of"
          ],
          [
           "Gwangyang-si",
           "Korea, Republic of"
          ],
          [
           "Pohang",
           "Korea, Republic of"
          ],
          [
           "Gunsan",
           "Korea, Republic of"
          ],
          [
           "Gunsan",
           "Korea, Republic of"
          ],
          [
           "Seongsan-gu",
           "Korea, Republic of"
          ],
          [
           "Seongsan-gu",
           "Korea, Republic of"
          ],
          [
           "Changyeong",
           "Korea, Republic of"
          ],
          [
           "Cheongju",
           "Korea, Republic of"
          ],
          [
           "Yeosu-si",
           "Korea, Republic of"
          ],
          [
           "Pohang",
           "Korea, Republic of"
          ],
          [
           "Busan",
           "Korea, Republic of"
          ],
          [
           "Saha-gu",
           "Korea, Republic of"
          ],
          [
           "Gumi",
           "Korea, Republic of"
          ],
          [
           "West Industrial Shuaiba",
           "Kuwait"
          ],
          [
           "West Industrial Shuaiba",
           "Kuwait"
          ],
          [
           "Misurata",
           "Libya"
          ],
          [
           "Colombo",
           "Sri Lanka"
          ],
          [
           "Madampe",
           "Sri Lanka"
          ],
          [
           "Pétange",
           "Luxembourg"
          ],
          [
           "Bissen",
           "Luxembourg"
          ],
          [
           "Differdange",
           "Luxembourg"
          ],
          [
           "Esch-sur-Alzette",
           "Luxembourg"
          ],
          [
           "Esch-sur-Alzette",
           "Luxembourg"
          ],
          [
           "Luxembourg",
           "Luxembourg"
          ],
          [
           "Bettembourg",
           "Luxembourg"
          ],
          [
           "Liepāja",
           "Latvia"
          ],
          [
           "El Jadida",
           "Morocco"
          ],
          [
           "Al-Aroui",
           "Morocco"
          ],
          [
           null,
           "Morocco"
          ],
          [
           "Âïn-Harrouda",
           "Morocco"
          ],
          [
           "Sidi Bernoussi-Zenata",
           "Morocco"
          ],
          [
           "Rîbnița",
           "Moldova, Republic of"
          ],
          [
           "Lázaro Cárdenas",
           "Mexico"
          ],
          [
           "Villagrán",
           "Mexico"
          ],
          [
           "Villagrán",
           "Mexico"
          ],
          [
           "Ramos Arizpe",
           "Mexico"
          ],
          [
           "Ramos Arizpe Municipality",
           "Mexico"
          ],
          [
           "Ciudad Apodaca",
           "Mexico"
          ],
          [
           "Ciudad Sahagún",
           "Mexico"
          ],
          [
           "Buenavista",
           "Mexico"
          ],
          [
           "Tlalnepantla de Baz",
           "Mexico"
          ],
          [
           "Monclova",
           "Mexico"
          ],
          [
           "Monclova",
           "Mexico"
          ],
          [
           "Tzompantepec",
           "Mexico"
          ],
          [
           "Cholula",
           "Mexico"
          ],
          [
           "Guadalajara",
           "Mexico"
          ],
          [
           "Mexicali",
           "Mexico"
          ],
          [
           "San Luis Potosí",
           "Mexico"
          ],
          [
           "San Luis Potosí",
           "Mexico"
          ],
          [
           "Altamira",
           "Mexico"
          ],
          [
           "Ciudad General Escobedo",
           "Mexico"
          ],
          [
           "Ixtaczoquitlán",
           "Mexico"
          ],
          [
           "San Miguel Xoxtla",
           "Mexico"
          ],
          [
           "Guadalajara",
           "Mexico"
          ],
          [
           "Ciudad Apodaca",
           "Mexico"
          ],
          [
           "Monterrey",
           "Mexico"
          ],
          [
           "Monterrey",
           "Mexico"
          ],
          [
           "Pesquería",
           "Mexico"
          ],
          [
           "Monclova",
           "Mexico"
          ],
          [
           "General Zuazua",
           "Mexico"
          ],
          [
           "Valente Díaz",
           "Mexico"
          ],
          [
           "Skopie",
           "North Macedonia"
          ],
          [
           "Skopie",
           "North Macedonia"
          ],
          [
           "Mingalardon (Yangon)",
           "Myanmar"
          ],
          [
           "Niksic",
           "Montenegro"
          ],
          [
           "Darhan",
           "Mongolia"
          ],
          [
           "Pasir Gudang",
           "Malaysia"
          ],
          [
           "Perai",
           "Malaysia"
          ],
          [
           "Shah Alam",
           "Malaysia"
          ],
          [
           "Kemaman",
           "Malaysia"
          ],
          [
           "Kapar",
           "Malaysia"
          ],
          [
           "Melaka",
           "Malaysia"
          ],
          [
           "Shah Alam",
           "Malaysia"
          ],
          [
           "Klang",
           "Malaysia"
          ],
          [
           "Pasir Gudang",
           "Malaysia"
          ],
          [
           "Tanjung Dua Belas",
           "Malaysia"
          ],
          [
           "Petaling Jaya",
           "Malaysia"
          ],
          [
           "Klang",
           "Malaysia"
          ],
          [
           "Shah Alam",
           "Malaysia"
          ],
          [
           "Perai",
           "Malaysia"
          ],
          [
           "Pelabuhan Klang",
           "Malaysia"
          ],
          [
           "Pasir Gudang",
           "Malaysia"
          ],
          [
           "Perai",
           "Malaysia"
          ],
          [
           "Butterworth",
           "Malaysia"
          ],
          [
           "Ayer Keroh",
           "Malaysia"
          ],
          [
           "Kuala Lumpur",
           "Malaysia"
          ],
          [
           "Shah Alam",
           "Malaysia"
          ],
          [
           "Labuan",
           "Malaysia"
          ],
          [
           "Chukai",
           "Malaysia"
          ],
          [
           "Gurun",
           "Malaysia"
          ],
          [
           "Kuching",
           "Malaysia"
          ],
          [
           "Kemaman",
           "Malaysia"
          ],
          [
           "Klang",
           "Malaysia"
          ],
          [
           "Kano",
           "Nigeria"
          ],
          [
           "Aladja",
           "Nigeria"
          ],
          [
           "Ajaokuta",
           "Nigeria"
          ],
          [
           "Enugu",
           "Nigeria"
          ],
          [
           "Lagos",
           "Nigeria"
          ],
          [
           "Shagamu",
           "Nigeria"
          ],
          [
           "Alblasserdam",
           "Netherlands"
          ],
          [
           "Roermond",
           "Netherlands"
          ],
          [
           "Westdorpe",
           "Netherlands"
          ],
          [
           "Wijk aan Zee",
           "Netherlands"
          ],
          [
           "Moerdijk",
           "Netherlands"
          ],
          [
           "Rana",
           "Norway"
          ],
          [
           "Glenbrook",
           "New Zealand"
          ],
          [
           "Auckland",
           "New Zealand"
          ],
          [
           "Sohar Port",
           "Oman"
          ],
          [
           "Al Batinah North Governorate",
           "Oman"
          ],
          [
           "Sohar",
           "Oman"
          ],
          [
           "Sohar Port",
           "Oman"
          ],
          [
           "Liwa",
           "Oman"
          ],
          [
           "Sohar",
           "Oman"
          ],
          [
           "Sib",
           "Oman"
          ],
          [
           "Sib",
           "Oman"
          ],
          [
           "Karachi",
           "Pakistan"
          ],
          [
           "Dhabeji",
           "Pakistan"
          ],
          [
           "Karachi",
           "Pakistan"
          ],
          [
           "Karachi",
           "Pakistan"
          ],
          [
           "Lahore",
           "Pakistan"
          ],
          [
           "Kasur",
           "Pakistan"
          ],
          [
           "Karachi",
           "Pakistan"
          ],
          [
           "Karachi",
           "Pakistan"
          ],
          [
           "Winder",
           "Pakistan"
          ],
          [
           "Buena Vista",
           "Peru"
          ],
          [
           "Chimbote",
           "Peru"
          ],
          [
           "San Nicolás",
           "Peru"
          ],
          [
           "Calaca",
           "Philippines"
          ],
          [
           "Meycauayan",
           "Philippines"
          ],
          [
           "Carcar City",
           "Philippines"
          ],
          [
           "Davao City",
           "Philippines"
          ],
          [
           "Rosario",
           "Philippines"
          ],
          [
           "Cainta",
           "Philippines"
          ],
          [
           "Balayan",
           "Philippines"
          ],
          [
           "Quezon City",
           "Philippines"
          ],
          [
           "Mandaluyong",
           "Philippines"
          ],
          [
           "Calamba",
           "Philippines"
          ],
          [
           "Quezon City",
           "Philippines"
          ],
          [
           "Villanueva",
           "Philippines"
          ],
          [
           "Iligan City",
           "Philippines"
          ],
          [
           "Chorzów",
           "Poland"
          ],
          [
           "Dąbrowa Górnicza",
           "Poland"
          ],
          [
           "Kraków",
           "Poland"
          ],
          [
           "Dąbrowa Górnicza",
           "Poland"
          ],
          [
           "Warszawa",
           "Poland"
          ],
          [
           "Chorzów",
           "Poland"
          ],
          [
           "Świętochłowice",
           "Poland"
          ],
          [
           "Sosnowiec",
           "Poland"
          ],
          [
           "Zdzieszowice",
           "Poland"
          ],
          [
           "Katowice",
           "Poland"
          ],
          [
           "Ostrowiec Świętokrzyski",
           "Poland"
          ],
          [
           "Stalowa Wola",
           "Poland"
          ],
          [
           "Zawiercie",
           "Poland"
          ],
          [
           "Częstochowa",
           "Poland"
          ],
          [
           "Zabrze",
           "Poland"
          ],
          [
           "Dąbrowa Górnicza",
           "Poland"
          ],
          [
           "Radlin",
           "Poland"
          ],
          [
           "Gliwice",
           "Poland"
          ],
          [
           "Bochnia",
           "Poland"
          ],
          [
           "Częstochowa",
           "Poland"
          ],
          [
           "Katowice",
           "Poland"
          ],
          [
           "Wałbrzych",
           "Poland"
          ],
          [
           "Chongjin",
           "Korea, Democratic People's Republic of"
          ],
          [
           "Songnim",
           "Korea, Democratic People's Republic of"
          ],
          [
           "Chollima",
           "Korea, Democratic People's Republic of"
          ],
          [
           "Sinpyong",
           "Korea, Democratic People's Republic of"
          ],
          [
           "Chongjin",
           "Korea, Democratic People's Republic of"
          ],
          [
           "Vieira de Leiria",
           "Portugal"
          ],
          [
           "Aldeia de Paio Pires",
           "Portugal"
          ],
          [
           "Seixal",
           "Portugal"
          ],
          [
           "São Pedro Fins",
           "Portugal"
          ],
          [
           "Villa Hayes",
           "Paraguay"
          ],
          [
           "Umm Said",
           "Qatar"
          ],
          [
           "Ar Rayyan",
           "Qatar"
          ],
          [
           "Călărași",
           "Romania"
          ],
          [
           "Hunedoara",
           "Romania"
          ],
          [
           "Târgoviște",
           "Romania"
          ],
          [
           "Galați",
           "Romania"
          ],
          [
           "Câmpia Turzii",
           "Romania"
          ],
          [
           "Buzău",
           "Romania"
          ],
          [
           "Oțelu Roșu",
           "Romania"
          ],
          [
           "Târgoviște",
           "Romania"
          ],
          [
           "Târgoviște",
           "Romania"
          ],
          [
           "Călărași",
           "Romania"
          ],
          [
           "Slatina",
           "Romania"
          ],
          [
           "Reșița",
           "Romania"
          ],
          [
           "Drobeta-Turnu Severin",
           "Romania"
          ],
          [
           "București",
           "Romania"
          ],
          [
           "Alapayevsk",
           "Russian Federation"
          ],
          [
           "Komsomolsk-on-Amur",
           "Russian Federation"
          ],
          [
           "Novokuznetsk",
           "Russian Federation"
          ],
          [
           "Nizhny Tagil",
           "Russian Federation"
          ],
          [
           "Kachkanar",
           "Russian Federation"
          ],
          [
           "Guryevsk",
           "Russian Federation"
          ],
          [
           "Stary Oskol",
           "Russian Federation"
          ],
          [
           "Novotroitsk",
           "Russian Federation"
          ],
          [
           "Zheleznogorsky District",
           "Russian Federation"
          ],
          [
           "Gubkinskiy Rayon",
           "Russian Federation"
          ],
          [
           "Tula",
           "Russian Federation"
          ],
          [
           "Gorod Izhevsk",
           "Russian Federation"
          ],
          [
           "Chelyabinsk",
           "Russian Federation"
          ],
          [
           "Beloretsk",
           "Russian Federation"
          ],
          [
           "Beryozovsky",
           "Russian Federation"
          ],
          [
           "Nizhniye Sergi",
           "Russian Federation"
          ],
          [
           "Revda",
           "Russian Federation"
          ],
          [
           "Borovsky District",
           "Russian Federation"
          ],
          [
           "Lipeck",
           "Russian Federation"
          ],
          [
           "Yekaterinburg",
           "Russian Federation"
          ],
          [
           "Yugo-Zapadnyy Promrayon",
           "Russian Federation"
          ],
          [
           "Magnitogorsk",
           "Russian Federation"
          ],
          [
           "Satka",
           "Russian Federation"
          ],
          [
           "Cherepovets",
           "Russian Federation"
          ],
          [
           "Kolpino",
           "Russian Federation"
          ],
          [
           "Staroutkinsk",
           "Russian Federation"
          ],
          [
           "Polevskoy",
           "Russian Federation"
          ],
          [
           "Taganrog",
           "Russian Federation"
          ],
          [
           "Volzhskiy",
           "Russian Federation"
          ],
          [
           "Kamensk-Uralsky",
           "Russian Federation"
          ],
          [
           "Tula",
           "Russian Federation"
          ],
          [
           "Chusovskoye Urban Settlement",
           "Russian Federation"
          ],
          [
           "Tyumen",
           "Russian Federation"
          ],
          [
           "Serov",
           "Russian Federation"
          ],
          [
           "Lipeck",
           "Russian Federation"
          ],
          [
           "Balakovsky District",
           "Russian Federation"
          ],
          [
           "Pervouralsk",
           "Russian Federation"
          ],
          [
           "Ivanovsky District",
           "Russian Federation"
          ],
          [
           "Omutninsk",
           "Russian Federation"
          ],
          [
           "Gorod Gubakha",
           "Russian Federation"
          ],
          [
           "Krasnoyarsk",
           "Russian Federation"
          ],
          [
           "Elektrostal",
           "Russian Federation"
          ],
          [
           "Naberezhnye Chelny",
           "Russian Federation"
          ],
          [
           "Vidnoye",
           "Russian Federation"
          ],
          [
           "Vyksa",
           "Russian Federation"
          ],
          [
           "Zlatoust",
           "Russian Federation"
          ],
          [
           "Chelyabinsk",
           "Russian Federation"
          ],
          [
           "Yartsevo",
           "Russian Federation"
          ],
          [
           "Asha",
           "Russian Federation"
          ],
          [
           "Novosibirsk",
           "Russian Federation"
          ],
          [
           "Verkhnyaya Pyshma",
           "Russian Federation"
          ],
          [
           "Kolpino",
           "Russian Federation"
          ],
          [
           "Abinsk",
           "Russian Federation"
          ],
          [
           "Krasny Sulin",
           "Russian Federation"
          ],
          [
           "Volgograd",
           "Russian Federation"
          ],
          [
           "Frolovo",
           "Russian Federation"
          ],
          [
           "Gorod Kostomuksha",
           "Russian Federation"
          ],
          [
           "Lyudinovo",
           "Russian Federation"
          ],
          [
           "Al Jubayl",
           "Saudi Arabia"
          ],
          [
           "Al Jubayl",
           "Saudi Arabia"
          ],
          [
           "Dammam",
           "Saudi Arabia"
          ],
          [
           "Jeddah",
           "Saudi Arabia"
          ],
          [
           "Dammam",
           "Saudi Arabia"
          ],
          [
           "Dammam",
           "Saudi Arabia"
          ],
          [
           "Dammam",
           "Saudi Arabia"
          ],
          [
           "Hadda",
           "Saudi Arabia"
          ],
          [
           "Al-Kharj",
           "Saudi Arabia"
          ],
          [
           "Rabigh",
           "Saudi Arabia"
          ],
          [
           "Jazan Economic City",
           "Saudi Arabia"
          ],
          [
           "Al Jubayl",
           "Saudi Arabia"
          ],
          [
           "Dammam",
           "Saudi Arabia"
          ],
          [
           "Singapore",
           "Singapore"
          ],
          [
           "Quezaltepeque",
           "El Salvador"
          ],
          [
           "Radinac",
           "Serbia"
          ],
          [
           "Sremska Mitrovica",
           "Serbia"
          ],
          [
           "Stacioni i Trenit",
           "Serbia"
          ],
          [
           "Leskovac",
           "Serbia"
          ],
          [
           "Michalovce",
           "Slovakia"
          ],
          [
           "Košice II",
           "Slovakia"
          ],
          [
           "Valaská",
           "Slovakia"
          ],
          [
           "Acroni",
           "Slovenia"
          ],
          [
           "Ravne na Koroškem",
           "Slovenia"
          ],
          [
           "Teharje",
           "Slovenia"
          ],
          [
           "Björneborg",
           "Sweden"
          ],
          [
           "Söderfors",
           "Sweden"
          ],
          [
           "Långshyttan",
           "Sweden"
          ],
          [
           "Fagersta",
           "Sweden"
          ],
          [
           "Koskullskulle",
           "Sweden"
          ],
          [
           "Svappavaara",
           "Sweden"
          ],
          [
           "Kiruna",
           "Sweden"
          ],
          [
           "Ronneby",
           "Sweden"
          ],
          [
           "Boxholm",
           "Sweden"
          ],
          [
           "Smedjebacken",
           "Sweden"
          ],
          [
           "Hofors",
           "Sweden"
          ],
          [
           "Hällefors",
           "Sweden"
          ],
          [
           "Hallstahammar",
           "Sweden"
          ],
          [
           "Degerfors",
           "Sweden"
          ],
          [
           "Torshälla",
           "Sweden"
          ],
          [
           "Avesta",
           "Sweden"
          ],
          [
           "Oxelösund Centrum",
           "Sweden"
          ],
          [
           "Luleå",
           "Sweden"
          ],
          [
           "Östermalm-Hårstorp-Grosvad",
           "Sweden"
          ],
          [
           "Borlänge",
           "Sweden"
          ],
          [
           "Sandviken",
           "Sweden"
          ],
          [
           "Hagfors",
           "Sweden"
          ],
          [
           "Surahammar",
           "Sweden"
          ],
          [
           "District de Homs",
           "Syrian Arab Republic"
          ],
          [
           "Pluak Daeng",
           "Thailand"
          ],
          [
           "Tambon Bo Win",
           "Thailand"
          ],
          [
           "Tambon Ta Sit",
           "Thailand"
          ],
          [
           "Amphoe Mueang Rayong",
           "Thailand"
          ],
          [
           "Tambon Map Kha",
           "Thailand"
          ],
          [
           "Amphoe Mueang Rayong",
           "Thailand"
          ],
          [
           "Tambon Bo Win",
           "Thailand"
          ],
          [
           "Tambon Bang Khamot",
           "Thailand"
          ],
          [
           "Tambon Khlong Nung",
           "Thailand"
          ],
          [
           "Tambon Bang Ya Phraek",
           "Thailand"
          ],
          [
           "Tambon Samrong Klang",
           "Thailand"
          ],
          [
           "Tambon Bang Ya Phraek",
           "Thailand"
          ],
          [
           "Tambon Samrong Tai",
           "Thailand"
          ],
          [
           "Tambon Nikhom Phatthana",
           "Thailand"
          ],
          [
           "Tambon Muang",
           "Thailand"
          ],
          [
           "Tambon Pak Khlong Bang Pla Kot",
           "Thailand"
          ],
          [
           "Tambon Mae Ram Phueng",
           "Thailand"
          ],
          [
           "Map Ta Phut",
           "Thailand"
          ],
          [
           "Tambon Mae Ram Phueng",
           "Thailand"
          ],
          [
           "Tambon Huai Pong",
           "Thailand"
          ],
          [
           "Tambon Nikhom Phatthana",
           "Thailand"
          ],
          [
           "Tambon Ta Sit",
           "Thailand"
          ],
          [
           "Nong Lalok",
           "Thailand"
          ],
          [
           "Couva",
           "Trinidad and Tobago"
          ],
          [
           "Menzel Bourguiba",
           "Tunisia"
          ],
          [
           "Radès",
           "Tunisia"
          ],
          [
           "Orhangazi",
           "Turkey"
          ],
          [
           "Toprakkale",
           "Turkey"
          ],
          [
           "Bornova",
           "Turkey"
          ],
          [
           "Dilovası",
           "Turkey"
          ],
          [
           "Dilovası",
           "Turkey"
          ],
          [
           "İskenderun",
           "Turkey"
          ],
          [
           "Biga",
           "Turkey"
          ],
          [
           "Aliağa",
           "Turkey"
          ],
          [
           "İskenderun",
           "Turkey"
          ],
          [
           "Ereğli",
           "Turkey"
          ],
          [
           "Payas",
           "Turkey"
          ],
          [
           "Aliağa",
           "Turkey"
          ],
          [
           "Aliağa",
           "Turkey"
          ],
          [
           "Marmaraereğlisi",
           "Turkey"
          ],
          [
           "Karabük Merkez",
           "Turkey"
          ],
          [
           "Darıca",
           "Turkey"
          ],
          [
           "Dilovası",
           "Turkey"
          ],
          [
           "Karabük Merkez",
           "Turkey"
          ],
          [
           "Bartın Merkez",
           "Turkey"
          ],
          [
           "Aliağa",
           "Turkey"
          ],
          [
           "İzmit",
           "Turkey"
          ],
          [
           "Dilovası",
           "Turkey"
          ],
          [
           "İskenderun",
           "Turkey"
          ],
          [
           "Toprakkale",
           "Turkey"
          ],
          [
           "Tekkeköy",
           "Turkey"
          ],
          [
           "Tekkeköy",
           "Turkey"
          ],
          [
           "Dörtyol",
           "Turkey"
          ],
          [
           "Aliağa",
           "Turkey"
          ],
          [
           "Nilüfer",
           "Turkey"
          ],
          [
           "Karabük Merkez",
           "Turkey"
          ],
          [
           "Çorlu",
           "Turkey"
          ],
          [
           "Ereğli",
           "Turkey"
          ],
          [
           "Gebze",
           "Turkey"
          ],
          [
           "Gemlik",
           "Turkey"
          ],
          [
           "Kartepe",
           "Turkey"
          ],
          [
           "Arifiye",
           "Turkey"
          ],
          [
           "Karasu",
           "Turkey"
          ],
          [
           "Taichung City",
           "Taiwan, Province of China"
          ],
          [
           "Kaohsiung City",
           "Taiwan, Province of China"
          ],
          [
           "Kaohsiung City",
           "Taiwan, Province of China"
          ],
          [
           "Kaohsiung City",
           "Taiwan, Province of China"
          ],
          [
           "Taoyuan City",
           "Taiwan, Province of China"
          ],
          [
           "Miaoli County",
           "Taiwan, Province of China"
          ],
          [
           "Kaohsiung City",
           "Taiwan, Province of China"
          ],
          [
           "Pingtung County",
           "Taiwan, Province of China"
          ],
          [
           "Kaohsiung City",
           "Taiwan, Province of China"
          ],
          [
           "Kaohsiung City",
           "Taiwan, Province of China"
          ],
          [
           "Kaohsiung City",
           "Taiwan, Province of China"
          ],
          [
           "Kaohsiung City",
           "Taiwan, Province of China"
          ],
          [
           "Tainan City",
           "Taiwan, Province of China"
          ],
          [
           "Tainan City",
           "Taiwan, Province of China"
          ],
          [
           "Taichung City",
           "Taiwan, Province of China"
          ],
          [
           "Mukono",
           "Uganda"
          ],
          [
           "Alchevs'k",
           "Ukraine"
          ],
          [
           "Kryvyi Rih",
           "Ukraine"
          ],
          [
           "Dnipropetrovs'k",
           "Ukraine"
          ],
          [
           "Kamianske",
           "Ukraine"
          ],
          [
           "Donetsk",
           "Ukraine"
          ],
          [
           "Kramators'k",
           "Ukraine"
          ],
          [
           "Avdiivka",
           "Ukraine"
          ],
          [
           "Zaporizhzhia",
           "Ukraine"
          ],
          [
           "Mariupol'",
           "Ukraine"
          ],
          [
           "Mariupol'",
           "Ukraine"
          ],
          [
           "Zaporizhzhia",
           "Ukraine"
          ],
          [
           "Makiivka",
           "Ukraine"
          ],
          [
           "Kryvyi Rih",
           "Ukraine"
          ],
          [
           "Dnipropetrovs'k",
           "Ukraine"
          ],
          [
           "Kamianets'-podil's'kyi",
           "Ukraine"
          ],
          [
           "Horishni Plavni",
           "Ukraine"
          ],
          [
           "Montevideo",
           "Uruguay"
          ],
          [
           "Ghent",
           "United States of America"
          ],
          [
           "New Bedford",
           "United States of America"
          ],
          [
           "Vandergrift",
           "United States of America"
          ],
          [
           "Brackenridge",
           "United States of America"
          ],
          [
           "Louisville",
           "United States of America"
          ],
          [
           "Lockport",
           "United States of America"
          ],
          [
           "Monroe",
           "United States of America"
          ],
          [
           "Washington",
           "United States of America"
          ],
          [
           "Latrobe",
           "United States of America"
          ],
          [
           "Huntsville",
           "United States of America"
          ],
          [
           "Albany",
           "United States of America"
          ],
          [
           "Lando",
           "United States of America"
          ],
          [
           "Alton",
           "United States of America"
          ],
          [
           "Newport",
           "United States of America"
          ],
          [
           "Shreveport",
           "United States of America"
          ],
          [
           "Elkhart",
           "United States of America"
          ],
          [
           "New Hartford",
           "United States of America"
          ],
          [
           "Catlettsburg",
           "United States of America"
          ],
          [
           "Huntington",
           "United States of America"
          ],
          [
           "Delta",
           "United States of America"
          ],
          [
           "Fontana",
           "United States of America"
          ],
          [
           "Portage",
           "United States of America"
          ],
          [
           "Weirton",
           "United States of America"
          ],
          [
           "Greenfield",
           "United States of America"
          ],
          [
           "Hawesville",
           "United States of America"
          ],
          [
           "St. Louis",
           "United States of America"
          ],
          [
           "Granite City",
           "United States of America"
          ],
          [
           "Granite City",
           "United States of America"
          ],
          [
           "La Porte",
           "United States of America"
          ],
          [
           "Houston",
           "United States of America"
          ],
          [
           "Columbia",
           "United States of America"
          ],
          [
           "Hueytown",
           "United States of America"
          ],
          [
           "Elkridge",
           "United States of America"
          ],
          [
           "Blytheville",
           "United States of America"
          ],
          [
           "McBee",
           "United States of America"
          ],
          [
           "Latrobe",
           "United States of America"
          ],
          [
           "Reading",
           "United States of America"
          ],
          [
           "Tanner",
           "United States of America"
          ],
          [
           "Newburgh Heights",
           "United States of America"
          ],
          [
           "Saukville",
           "United States of America"
          ],
          [
           "New Carlisle",
           "United States of America"
          ],
          [
           "Rockport",
           "United States of America"
          ],
          [
           "Conshohocken",
           "United States of America"
          ],
          [
           "New Carlisle",
           "United States of America"
          ],
          [
           "Zanesville",
           "United States of America"
          ],
          [
           "Coshocton",
           "United States of America"
          ],
          [
           "Mansfield",
           "United States of America"
          ],
          [
           "Lyndora",
           "United States of America"
          ],
          [
           "Coatesville",
           "United States of America"
          ],
          [
           "Steelton",
           "United States of America"
          ],
          [
           "Toledo",
           "United States of America"
          ],
          [
           "Warren",
           "United States of America"
          ],
          [
           "Monessen",
           "United States of America"
          ],
          [
           "Follansbee",
           "United States of America"
          ],
          [
           "Columbus",
           "United States of America"
          ],
          [
           "Riverdale",
           "United States of America"
          ],
          [
           "Cleveland",
           "United States of America"
          ],
          [
           "East Chicago",
           "United States of America"
          ],
          [
           "Dearborn",
           "United States of America"
          ],
          [
           "Burns Harbor",
           "United States of America"
          ],
          [
           "Middletown",
           "United States of America"
          ],
          [
           "Seguin",
           "United States of America"
          ],
          [
           "Sayreville",
           "United States of America"
          ],
          [
           "Cayce",
           "United States of America"
          ],
          [
           "Durant",
           "United States of America"
          ],
          [
           "Rancho Cucamonga",
           "United States of America"
          ],
          [
           "Birmingham",
           "United States of America"
          ],
          [
           "Jacksonville",
           "United States of America"
          ],
          [
           "Mesa",
           "United States of America"
          ],
          [
           "Knoxville",
           "United States of America"
          ],
          [
           "Magnolia",
           "United States of America"
          ],
          [
           "Syracuse",
           "United States of America"
          ],
          [
           "New Castle",
           "United States of America"
          ],
          [
           "Irvine",
           "United States of America"
          ],
          [
           "Pueblo",
           "United States of America"
          ],
          [
           "Portland",
           "United States of America"
          ],
          [
           "Oil City",
           "United States of America"
          ],
          [
           "Franklin",
           "United States of America"
          ],
          [
           "Midlothian",
           "United States of America"
          ],
          [
           "Petersburg",
           "United States of America"
          ],
          [
           "Wilton",
           "United States of America"
          ],
          [
           "Monroe",
           "United States of America"
          ],
          [
           "Jackson",
           "United States of America"
          ],
          [
           "Saint Paul",
           "United States of America"
          ],
          [
           "Cartersville",
           "United States of America"
          ],
          [
           "Fort Smith",
           "United States of America"
          ],
          [
           "Charlotte",
           "United States of America"
          ],
          [
           "Oakfield",
           "United States of America"
          ],
          [
           "Bartonville",
           "United States of America"
          ],
          [
           "Georgetown",
           "United States of America"
          ],
          [
           "Chicago Heights",
           "United States of America"
          ],
          [
           "Dover",
           "United States of America"
          ],
          [
           "Solon",
           "United States of America"
          ],
          [
           "Canton",
           "United States of America"
          ],
          [
           "Blasdell",
           "United States of America"
          ],
          [
           "Lorain",
           "United States of America"
          ],
          [
           "Kokomo",
           "United States of America"
          ],
          [
           "Granite City",
           "United States of America"
          ],
          [
           "Mingo Junction",
           "United States of America"
          ],
          [
           "Mont Belvieu",
           "United States of America"
          ],
          [
           "Rush",
           "United States of America"
          ],
          [
           "Anthony",
           "United States of America"
          ],
          [
           "Sterling",
           "United States of America"
          ],
          [
           "Houston",
           "United States of America"
          ],
          [
           "Monroe",
           "United States of America"
          ],
          [
           "New Castle",
           "United States of America"
          ],
          [
           "Mount Vernon",
           "United States of America"
          ],
          [
           "Burnham",
           "United States of America"
          ],
          [
           "Follansbee",
           "United States of America"
          ],
          [
           "Farrell",
           "United States of America"
          ],
          [
           "Portage",
           "United States of America"
          ],
          [
           "Bourbonnais",
           "United States of America"
          ],
          [
           "Seattle",
           "United States of America"
          ],
          [
           "Garland",
           "United States of America"
          ],
          [
           "Norfolk",
           "United States of America"
          ],
          [
           "Darlington",
           "United States of America"
          ],
          [
           "Decatur",
           "United States of America"
          ],
          [
           "Memphis",
           "United States of America"
          ],
          [
           "Mississippi County",
           "United States of America"
          ],
          [
           "Blytheville",
           "United States of America"
          ],
          [
           "Jewett",
           "United States of America"
          ],
          [
           "Tuscaloosa",
           "United States of America"
          ],
          [
           "Cofield",
           "United States of America"
          ],
          [
           "Huger",
           "United States of America"
          ],
          [
           "Crawfordsville",
           "United States of America"
          ],
          [
           "Ghent",
           "United States of America"
          ],
          [
           "Wallingford",
           "United States of America"
          ],
          [
           "Marion",
           "United States of America"
          ],
          [
           "Auburn",
           "United States of America"
          ],
          [
           "Kingman",
           "United States of America"
          ],
          [
           "Birmingham",
           "United States of America"
          ],
          [
           "Convent",
           "United States of America"
          ],
          [
           "Flowood",
           "United States of America"
          ],
          [
           "Longview",
           "United States of America"
          ],
          [
           "Beaumont",
           "United States of America"
          ],
          [
           "Mount Vernon",
           "United States of America"
          ],
          [
           "Richburg",
           "United States of America"
          ],
          [
           "Leipsic",
           "United States of America"
          ],
          [
           "Muscatine",
           "United States of America"
          ],
          [
           "Axis",
           "United States of America"
          ],
          [
           "Roseville",
           "United States of America"
          ],
          [
           "Chicago",
           "United States of America"
          ],
          [
           "McMinnville",
           "United States of America"
          ],
          [
           "Terre Haute",
           "United States of America"
          ],
          [
           "Pittsburgh",
           "United States of America"
          ],
          [
           "Turtle Creek",
           "United States of America"
          ],
          [
           "Pittsburgh",
           "United States of America"
          ],
          [
           "Auburn",
           "United States of America"
          ],
          [
           "Columbia City",
           "United States of America"
          ],
          [
           "Columbus",
           "United States of America"
          ],
          [
           "Pittsboro",
           "United States of America"
          ],
          [
           "Roanoke",
           "United States of America"
          ],
          [
           "Jeffersonville",
           "United States of America"
          ],
          [
           "Huntington",
           "United States of America"
          ],
          [
           "Kalama",
           "United States of America"
          ],
          [
           "Warren",
           "United States of America"
          ],
          [
           "Wampum",
           "United States of America"
          ],
          [
           "Shreveport",
           "United States of America"
          ],
          [
           "Bristol",
           "United States of America"
          ],
          [
           "Canton",
           "United States of America"
          ],
          [
           "Canton",
           "United States of America"
          ],
          [
           "Pittsburg",
           "United States of America"
          ],
          [
           "Hibbing",
           "United States of America"
          ],
          [
           "Mountain Iron",
           "United States of America"
          ],
          [
           "Osceola",
           "United States of America"
          ],
          [
           "Fairfield",
           "United States of America"
          ],
          [
           "Gary",
           "United States of America"
          ],
          [
           "Ecorse",
           "United States of America"
          ],
          [
           "Braddock",
           "United States of America"
          ],
          [
           "Granite City",
           "United States of America"
          ],
          [
           "Portage",
           "United States of America"
          ],
          [
           "East Chicago",
           "United States of America"
          ],
          [
           "Fairless Hills",
           "United States of America"
          ],
          [
           "Clairton",
           "United States of America"
          ],
          [
           "West Mifflin",
           "United States of America"
          ],
          [
           "Lone Star",
           "United States of America"
          ],
          [
           "Lorain",
           "United States of America"
          ],
          [
           "Bridgeville",
           "United States of America"
          ],
          [
           "Youngstown",
           "United States of America"
          ],
          [
           "Delta",
           "United States of America"
          ],
          [
           "Porter",
           "United States of America"
          ],
          [
           "Monroe",
           "United States of America"
          ],
          [
           "Monroe",
           "United States of America"
          ],
          [
           "Portland",
           "United States of America"
          ],
          [
           "Walbridge",
           "United States of America"
          ],
          [
           "Fort Wayne",
           "United States of America"
          ],
          [
           "Bekobod",
           "Uzbekistan"
          ],
          [
           "La Victoria",
           "Venezuela"
          ],
          [
           "Ciudad Guayana",
           "Venezuela"
          ],
          [
           "Ciudad Guayana",
           "Venezuela"
          ],
          [
           "Puerto Ordaz",
           "Venezuela"
          ],
          [
           "Caracas",
           "Venezuela"
          ],
          [
           "Guarenas",
           "Venezuela"
          ],
          [
           "Barquisimeto",
           "Venezuela"
          ],
          [
           "Ciudad Guayana",
           "Venezuela"
          ],
          [
           "Puerto Ordaz",
           "Venezuela"
          ],
          [
           "Ciudad Guayana",
           "Venezuela"
          ],
          [
           "Valencia",
           "Venezuela"
          ],
          [
           "Ciudad Ojeda",
           "Venezuela"
          ],
          [
           "Las Tejerias",
           "Venezuela"
          ],
          [
           "Tân Thành",
           "Vietnam"
          ],
          [
           "Kỳ Anh",
           "Vietnam"
          ],
          [
           "Yên Mỹ",
           "Vietnam"
          ],
          [
           "Bình Sơn",
           "Vietnam"
          ],
          [
           "Kinh Môn",
           "Vietnam"
          ],
          [
           "Thị xã Dĩ An",
           "Vietnam"
          ],
          [
           "Tân Thành",
           "Vietnam"
          ],
          [
           "Thành phố Tam Điệp",
           "Vietnam"
          ],
          [
           "Tân Thành",
           "Vietnam"
          ],
          [
           "Thị xã Dĩ An",
           "Vietnam"
          ],
          [
           "Thị xã Thuận An",
           "Vietnam"
          ],
          [
           "Tĩnh Gia",
           "Vietnam"
          ],
          [
           "Tân Thành",
           "Vietnam"
          ],
          [
           "Nhơn Trạch",
           "Vietnam"
          ],
          [
           "Tân Thành",
           "Vietnam"
          ],
          [
           "An Dương",
           "Vietnam"
          ],
          [
           "Tân Thành",
           "Vietnam"
          ],
          [
           "Thị xã Thuận An",
           "Vietnam"
          ],
          [
           "Thị xã Dĩ An",
           "Vietnam"
          ],
          [
           "Tân Thành",
           "Vietnam"
          ],
          [
           "Tân Thành",
           "Vietnam"
          ],
          [
           "Thành phố Thủ Dầu Một",
           "Vietnam"
          ],
          [
           "Thị xã Dĩ An",
           "Vietnam"
          ],
          [
           "Tân Thành",
           "Vietnam"
          ],
          [
           "Liên Chiểu",
           "Vietnam"
          ],
          [
           "Thị xã Bến Cát",
           "Vietnam"
          ],
          [
           "Hồng Bàng",
           "Vietnam"
          ],
          [
           "Thành phố Thái Nguyên",
           "Vietnam"
          ],
          [
           "Thành phố Thái Nguyên",
           "Vietnam"
          ],
          [
           "Thành phố Thái Nguyên",
           "Vietnam"
          ],
          [
           "Tân Thành",
           "Vietnam"
          ],
          [
           "Thủ Đức",
           "Vietnam"
          ],
          [
           "thành phố Biên Hòa",
           "Vietnam"
          ],
          [
           "Tân Thành",
           "Vietnam"
          ],
          [
           "Thành phố Thái Nguyên",
           "Vietnam"
          ],
          [
           "Nhơn Trạch",
           "Vietnam"
          ],
          [
           "Bảo Thắng",
           "Vietnam"
          ],
          [
           "Vanderbijlpark",
           "South Africa"
          ],
          [
           "Newcastle",
           "South Africa"
          ],
          [
           "Saldanha",
           "South Africa"
          ],
          [
           "Vereeniging",
           "South Africa"
          ],
          [
           "Vanderbijlpark",
           "South Africa"
          ],
          [
           "Cape Town",
           "South Africa"
          ],
          [
           "Middelburg, MP",
           "South Africa"
          ],
          [
           "Saldanha",
           "South Africa"
          ],
          [
           "Nkangala",
           "South Africa"
          ],
          [
           "Cato Ridge",
           "South Africa"
          ],
          [
           "Germiston",
           "South Africa"
          ],
          [
           "Santoy",
           "South Africa"
          ],
          [
           "Rustenburg",
           "South Africa"
          ],
          [
           "Prospecton",
           "South Africa"
          ],
          [
           "Kwekwe",
           "Zimbabwe"
          ]
         ],
         "hovertemplate": "<b>%{hovertext}</b><br><br>latitude=%{lat}<br>longitude=%{lon}<br>city=%{customdata[0]}<br>country=%{customdata[1]}<extra></extra>",
         "hovertext": [
          "GASTAGO0001",
          "GASTALB0001",
          "GASTARE0001",
          "GASTARE0002",
          "GASTARE0003",
          "GASTARE0004",
          "GASTARE0005",
          "GASTARE0006",
          "GASTARE0007",
          "GASTARE0008",
          "GASTARG0001",
          "GASTARG0002",
          "GASTARG0003",
          "GASTARG0004",
          "GASTARG0005",
          "GASTARG0006",
          "GASTARG0007",
          "GASTARG0008",
          "GASTARG0010",
          "GASTARG0011",
          "GASTARG0012",
          "GASTARG0013",
          "GASTARG0014",
          "GASTARG0015",
          "GASTARG0016",
          "GASTARM0001",
          "GASTAUS0001",
          "GASTAUS0002",
          "GASTAUS0003",
          "GASTAUS0004",
          "GASTAUS0005",
          "GASTAUS0006",
          "GASTAUS0007",
          "GASTAUT0001",
          "GASTAUT0002",
          "GASTAUT0003",
          "GASTAUT0004",
          "GASTAUT0005",
          "GASTAUT0006",
          "GASTAUT0007",
          "GASTAUT0008",
          "GASTAUT0009",
          "GASTAUT0010",
          "GASTAUT0011",
          "GASTAZE0001",
          "GASTBEL0001",
          "GASTBEL0002",
          "GASTBEL0003",
          "GASTBEL0004",
          "GASTBEL0005",
          "GASTBEL0006",
          "GASTBEL0007",
          "GASTBEL0008",
          "GASTBEL0009",
          "GASTBEL0010",
          "GASTBEL0011",
          "GASTBEL0012",
          "GASTBEL0013",
          "GASTBEL0014",
          "GASTBEL0015",
          "GASTBEL0016",
          "GASTBEL0017",
          "GASTBGD0001",
          "GASTBGD0002",
          "GASTBGD0003",
          "GASTBGD0004",
          "GASTBGD0005",
          "GASTBGD0006",
          "GASTBGR0001",
          "GASTBGR0002",
          "GASTBGR0003",
          "GASTBHR0001",
          "GASTBHR0002",
          "GASTBHR0003",
          "GASTBHR0004",
          "GASTBIH0001",
          "GASTBIH0002",
          "GASTBLR0001",
          "GASTBLR0002",
          "GASTBRA0001",
          "GASTBRA0002",
          "GASTBRA0003",
          "GASTBRA0004",
          "GASTBRA0005",
          "GASTBRA0006",
          "GASTBRA0007",
          "GASTBRA0008",
          "GASTBRA0009",
          "GASTBRA0010",
          "GASTBRA0011",
          "GASTBRA0012",
          "GASTBRA0013",
          "GASTBRA0014",
          "GASTBRA0015",
          "GASTBRA0016",
          "GASTBRA0017",
          "GASTBRA0018",
          "GASTBRA0019",
          "GASTBRA0020",
          "GASTBRA0021",
          "GASTBRA0022",
          "GASTBRA0023",
          "GASTBRA0024",
          "GASTBRA0025",
          "GASTBRA0026",
          "GASTBRA0027",
          "GASTBRA0028",
          "GASTBRA0029",
          "GASTBRA0030",
          "GASTBRA0031",
          "GASTBRA0032",
          "GASTBRA0033",
          "GASTBRA0034",
          "GASTBRA0035",
          "GASTBRA0036",
          "GASTBRA0037",
          "GASTBRA0038",
          "GASTBRA0039",
          "GASTBRA0040",
          "GASTBRA0041",
          "GASTBRA0042",
          "GASTBRA0043",
          "GASTBRA0044",
          "GASTBRA0045",
          "GASTBRA0046",
          "GASTBRA0047",
          "GASTBRA0048",
          "GASTBRA0049",
          "GASTBRA0050",
          "GASTBRA0051",
          "GASTBRA0052",
          "GASTCAN0001",
          "GASTCAN0002",
          "GASTCAN0003",
          "GASTCAN0004",
          "GASTCAN0005",
          "GASTCAN0006",
          "GASTCAN0007",
          "GASTCAN0008",
          "GASTCAN0009",
          "GASTCAN0010",
          "GASTCAN0011",
          "GASTCAN0012",
          "GASTCAN0013",
          "GASTCAN0014",
          "GASTCAN0015",
          "GASTCAN0016",
          "GASTCAN0017",
          "GASTCAN0018",
          "GASTCAN0019",
          "GASTCAN0020",
          "GASTCAN0021",
          "GASTCAN0022",
          "GASTCAN0023",
          "GASTCAN0024",
          "GASTCHE0001",
          "GASTCHE0002",
          "GASTCHE0003",
          "GASTCHL0001",
          "GASTCHL0002",
          "GASTCHN0001",
          "GASTCHN0002",
          "GASTCHN0003",
          "GASTCHN0004",
          "GASTCHN0005",
          "GASTCHN0006",
          "GASTCHN0007",
          "GASTCHN0008",
          "GASTCHN0009",
          "GASTCHN0010",
          "GASTCHN0011",
          "GASTCHN0012",
          "GASTCHN0013",
          "GASTCHN0014",
          "GASTCHN0015",
          "GASTCHN0016",
          "GASTCHN0017",
          "GASTCHN0018",
          "GASTCHN0019",
          "GASTCHN0020",
          "GASTCHN0021",
          "GASTCHN0022",
          "GASTCHN0023",
          "GASTCHN0024",
          "GASTCHN0025",
          "GASTCHN0026",
          "GASTCHN0027",
          "GASTCHN0028",
          "GASTCHN0029",
          "GASTCHN0030",
          "GASTCHN0031",
          "GASTCHN0032",
          "GASTCHN0033",
          "GASTCHN0034",
          "GASTCHN0035",
          "GASTCHN0036",
          "GASTCHN0037",
          "GASTCHN0038",
          "GASTCHN0039",
          "GASTCHN0040",
          "GASTCHN0041",
          "GASTCHN0042",
          "GASTCHN0043",
          "GASTCHN0044",
          "GASTCHN0045",
          "GASTCHN0046",
          "GASTCHN0047",
          "GASTCHN0048",
          "GASTCHN0049",
          "GASTCHN0050",
          "GASTCHN0051",
          "GASTCHN0052",
          "GASTCHN0053",
          "GASTCHN0054",
          "GASTCHN0055",
          "GASTCHN0056",
          "GASTCHN0057",
          "GASTCHN0058",
          "GASTCHN0059",
          "GASTCHN0061",
          "GASTCHN0062",
          "GASTCHN0063",
          "GASTCHN0064",
          "GASTCHN0065",
          "GASTCHN0066",
          "GASTCHN0067",
          "GASTCHN0068",
          "GASTCHN0069",
          "GASTCHN0070",
          "GASTCHN0071",
          "GASTCHN0072",
          "GASTCHN0073",
          "GASTCHN0074",
          "GASTCHN0075",
          "GASTCHN0076",
          "GASTCHN0077",
          "GASTCHN0078",
          "GASTCHN0079",
          "GASTCHN0080",
          "GASTCHN0081",
          "GASTCHN0082",
          "GASTCHN0083",
          "GASTCHN0084",
          "GASTCHN0085",
          "GASTCHN0086",
          "GASTCHN0087",
          "GASTCHN0088",
          "GASTCHN0089",
          "GASTCHN0090",
          "GASTCHN0091",
          "GASTCHN0092",
          "GASTCHN0093",
          "GASTCHN0094",
          "GASTCHN0095",
          "GASTCHN0096",
          "GASTCHN0097",
          "GASTCHN0098",
          "GASTCHN0099",
          "GASTCHN0100",
          "GASTCHN0101",
          "GASTCHN0102",
          "GASTCHN0103",
          "GASTCHN0104",
          "GASTCHN0105",
          "GASTCHN0106",
          "GASTCHN0107",
          "GASTCHN0108",
          "GASTCHN0109",
          "GASTCHN0110",
          "GASTCHN0111",
          "GASTCHN0112",
          "GASTCHN0113",
          "GASTCHN0114",
          "GASTCHN0115",
          "GASTCHN0116",
          "GASTCHN0117",
          "GASTCHN0118",
          "GASTCHN0119",
          "GASTCHN0120",
          "GASTCHN0121",
          "GASTCHN0122",
          "GASTCHN0123",
          "GASTCHN0124",
          "GASTCHN0125",
          "GASTCHN0126",
          "GASTCHN0127",
          "GASTCHN0128",
          "GASTCHN0129",
          "GASTCHN0130",
          "GASTCHN0131",
          "GASTCHN0132",
          "GASTCHN0133",
          "GASTCHN0134",
          "GASTCHN0135",
          "GASTCHN0136",
          "GASTCHN0137",
          "GASTCHN0138",
          "GASTCHN0139",
          "GASTCHN0140",
          "GASTCHN0141",
          "GASTCHN0142",
          "GASTCHN0143",
          "GASTCHN0144",
          "GASTCHN0145",
          "GASTCHN0146",
          "GASTCHN0147",
          "GASTCHN0148",
          "GASTCHN0149",
          "GASTCHN0150",
          "GASTCHN0151",
          "GASTCHN0152",
          "GASTCHN0153",
          "GASTCHN0154",
          "GASTCHN0155",
          "GASTCHN0156",
          "GASTCHN0157",
          "GASTCHN0158",
          "GASTCHN0159",
          "GASTCHN0160",
          "GASTCHN0161",
          "GASTCHN0162",
          "GASTCHN0163",
          "GASTCHN0164",
          "GASTCHN0165",
          "GASTCHN0166",
          "GASTCHN0167",
          "GASTCHN0168",
          "GASTCHN0169",
          "GASTCHN0170",
          "GASTCHN0171",
          "GASTCHN0172",
          "GASTCHN0173",
          "GASTCHN0174",
          "GASTCHN0175",
          "GASTCHN0176",
          "GASTCHN0177",
          "GASTCHN0178",
          "GASTCHN0179",
          "GASTCHN0180",
          "GASTCHN0181",
          "GASTCHN0182",
          "GASTCHN0183",
          "GASTCHN0184",
          "GASTCHN0185",
          "GASTCHN0186",
          "GASTCHN0187",
          "GASTCHN0188",
          "GASTCHN0189",
          "GASTCOL0001",
          "GASTCOL0002",
          "GASTCOL0003",
          "GASTCOL0004",
          "GASTCOL0005",
          "GASTCOL0006",
          "GASTCOL0007",
          "GASTCOL0008",
          "GASTCOL0009",
          "GASTCOL0010",
          "GASTCRI0001",
          "GASTCUB0001",
          "GASTCUB0002",
          "GASTCZE0001",
          "GASTCZE0002",
          "GASTCZE0003",
          "GASTCZE0004",
          "GASTCZE0005",
          "GASTCZE0006",
          "GASTCZE0007",
          "GASTCZE0008",
          "GASTCZE0009",
          "GASTCZE0010",
          "GASTCZE0011",
          "GASTCZE0012",
          "GASTCZE0013",
          "GASTCZE0014",
          "GASTCZE0015",
          "GASTDEU0001",
          "GASTDEU0002",
          "GASTDEU0003",
          "GASTDEU0004",
          "GASTDEU0005",
          "GASTDEU0006",
          "GASTDEU0007",
          "GASTDEU0008",
          "GASTDEU0009",
          "GASTDEU0010",
          "GASTDEU0011",
          "GASTDEU0012",
          "GASTDEU0013",
          "GASTDEU0014",
          "GASTDEU0015",
          "GASTDEU0016",
          "GASTDEU0017",
          "GASTDEU0018",
          "GASTDEU0019",
          "GASTDEU0020",
          "GASTDEU0021",
          "GASTDEU0022",
          "GASTDEU0023",
          "GASTDEU0024",
          "GASTDEU0025",
          "GASTDEU0026",
          "GASTDEU0027",
          "GASTDEU0028",
          "GASTDEU0029",
          "GASTDEU0030",
          "GASTDEU0031",
          "GASTDEU0032",
          "GASTDEU0033",
          "GASTDEU0034",
          "GASTDEU0035",
          "GASTDEU0036",
          "GASTDEU0037",
          "GASTDEU0038",
          "GASTDEU0039",
          "GASTDEU0040",
          "GASTDEU0041",
          "GASTDEU0042",
          "GASTDEU0043",
          "GASTDEU0044",
          "GASTDEU0045",
          "GASTDEU0046",
          "GASTDEU0047",
          "GASTDEU0048",
          "GASTDEU0049",
          "GASTDEU0050",
          "GASTDEU0051",
          "GASTDEU0052",
          "GASTDEU0053",
          "GASTDEU0054",
          "GASTDEU0055",
          "GASTDEU0056",
          "GASTDEU0057",
          "GASTDEU0058",
          "GASTDEU0059",
          "GASTDEU0060",
          "GASTDEU0061",
          "GASTDEU0062",
          "GASTDEU0063",
          "GASTDEU0064",
          "GASTDEU0065",
          "GASTDEU0066",
          "GASTDEU0067",
          "GASTDEU0068",
          "GASTDEU0069",
          "GASTDEU0070",
          "GASTDEU0071",
          "GASTDEU0072",
          "GASTDEU0073",
          "GASTDEU0074",
          "GASTDEU0075",
          "GASTDEU0076",
          "GASTDEU0077",
          "GASTDEU0078",
          "GASTDEU0079",
          "GASTDEU0080",
          "GASTDEU0081",
          "GASTDEU0082",
          "GASTDEU0083",
          "GASTDEU0084",
          "GASTDEU0085",
          "GASTDEU0086",
          "GASTDEU0087",
          "GASTDEU0088",
          "GASTDEU0089",
          "GASTDEU0090",
          "GASTDNK0001",
          "GASTDNK0002",
          "GASTDNK0003",
          "GASTDOM0001",
          "GASTDZA0001",
          "GASTDZA0002",
          "GASTDZA0003",
          "GASTECU0001",
          "GASTEGY0001",
          "GASTEGY0002",
          "GASTEGY0003",
          "GASTEGY0004",
          "GASTEGY0005",
          "GASTEGY0006",
          "GASTEGY0007",
          "GASTEGY0008",
          "GASTEGY0009",
          "GASTEGY0010",
          "GASTEGY0011",
          "GASTEGY0012",
          "GASTEGY0013",
          "GASTEGY0014",
          "GASTESP0001",
          "GASTESP0002",
          "GASTESP0003",
          "GASTESP0004",
          "GASTESP0005",
          "GASTESP0006",
          "GASTESP0007",
          "GASTESP0008",
          "GASTESP0009",
          "GASTESP0010",
          "GASTESP0011",
          "GASTESP0012",
          "GASTESP0013",
          "GASTESP0014",
          "GASTESP0015",
          "GASTESP0016",
          "GASTESP0017",
          "GASTESP0018",
          "GASTESP0019",
          "GASTESP0020",
          "GASTESP0021",
          "GASTESP0022",
          "GASTESP0023",
          "GASTESP0024",
          "GASTFIN0001",
          "GASTFIN0002",
          "GASTFIN0003",
          "GASTFIN0004",
          "GASTFIN0005",
          "GASTFRA0001",
          "GASTFRA0002",
          "GASTFRA0003",
          "GASTFRA0004",
          "GASTFRA0005",
          "GASTFRA0006",
          "GASTFRA0007",
          "GASTFRA0008",
          "GASTFRA0009",
          "GASTFRA0010",
          "GASTFRA0011",
          "GASTFRA0012",
          "GASTFRA0013",
          "GASTFRA0014",
          "GASTFRA0015",
          "GASTFRA0016",
          "GASTFRA0017",
          "GASTFRA0018",
          "GASTFRA0019",
          "GASTFRA0020",
          "GASTFRA0021",
          "GASTFRA0022",
          "GASTFRA0023",
          "GASTFRA0024",
          "GASTFRA0025",
          "GASTFRA0026",
          "GASTFRA0027",
          "GASTFRA0028",
          "GASTFRA0029",
          "GASTFRA0030",
          "GASTFRA0031",
          "GASTFRA0032",
          "GASTFRA0033",
          "GASTFRA0034",
          "GASTFRA0035",
          "GASTFRA0036",
          "GASTFRA0037",
          "GASTFRA0038",
          "GASTFRA0039",
          "GASTFRA0040",
          "GASTFRA0041",
          "GASTFRA0042",
          "GASTFRA0043",
          "GASTFRA0044",
          "GASTFRA0045",
          "GASTFRA0046",
          "GASTFRA0047",
          "GASTFRA0048",
          "GASTFRA0049",
          "GASTGBR0001",
          "GASTGBR0002",
          "GASTGBR0003",
          "GASTGBR0004",
          "GASTGBR0005",
          "GASTGBR0006",
          "GASTGBR0007",
          "GASTGBR0008",
          "GASTGBR0009",
          "GASTGBR0010",
          "GASTGBR0011",
          "GASTGBR0012",
          "GASTGBR0013",
          "GASTGBR0014",
          "GASTGBR0015",
          "GASTGBR0016",
          "GASTGBR0017",
          "GASTGBR0018",
          "GASTGBR0019",
          "GASTGBR0020",
          "GASTGBR0021",
          "GASTGBR0022",
          "GASTGBR0023",
          "GASTGEO0001",
          "GASTGEO0002",
          "GASTGHA0001",
          "GASTGRC0001",
          "GASTGRC0002",
          "GASTGRC0003",
          "GASTGRC0004",
          "GASTGTM0001",
          "GASTGTM0002",
          "GASTGTM0003",
          "GASTHRV0001",
          "GASTHUN0001",
          "GASTHUN0002",
          "GASTHUN0003",
          "GASTHUN0004",
          "GASTHUN0005",
          "GASTHUN0006",
          "GASTIDN0001",
          "GASTIDN0002",
          "GASTIDN0003",
          "GASTIDN0004",
          "GASTIDN0005",
          "GASTIDN0006",
          "GASTIDN0007",
          "GASTIDN0008",
          "GASTIDN0009",
          "GASTIDN0010",
          "GASTIDN0011",
          "GASTIDN0012",
          "GASTIDN0013",
          "GASTIDN0014",
          "GASTIDN0015",
          "GASTIDN0016",
          "GASTIDN0017",
          "GASTIDN0018",
          "GASTIDN0019",
          "GASTIDN0020",
          "GASTIDN0021",
          "GASTIDN0022",
          "GASTIDN0023",
          "GASTIDN0024",
          "GASTIDN0025",
          "GASTIDN0026",
          "GASTIDN0027",
          "GASTIDN0028",
          "GASTIDN0029",
          "GASTIDN0030",
          "GASTIDN0031",
          "GASTIND0001",
          "GASTIND0002",
          "GASTIND0003",
          "GASTIND0004",
          "GASTIND0005",
          "GASTIND0006",
          "GASTIND0007",
          "GASTIND0008",
          "GASTIND0009",
          "GASTIND0010",
          "GASTIND0011",
          "GASTIND0012",
          "GASTIND0013",
          "GASTIND0014",
          "GASTIND0015",
          "GASTIND0016",
          "GASTIND0017",
          "GASTIND0018",
          "GASTIND0019",
          "GASTIND0020",
          "GASTIND0021",
          "GASTIND0022",
          "GASTIND0023",
          "GASTIND0024",
          "GASTIND0025",
          "GASTIND0026",
          "GASTIND0027",
          "GASTIND0028",
          "GASTIND0029",
          "GASTIND0030",
          "GASTIND0031",
          "GASTIND0032",
          "GASTIND0033",
          "GASTIND0034",
          "GASTIND0035",
          "GASTIND0036",
          "GASTIND0037",
          "GASTIND0038",
          "GASTIND0039",
          "GASTIND0040",
          "GASTIND0041",
          "GASTIND0042",
          "GASTIND0043",
          "GASTIND0044",
          "GASTIND0045",
          "GASTIND0046",
          "GASTIND0047",
          "GASTIND0048",
          "GASTIND0049",
          "GASTIND0050",
          "GASTIND0051",
          "GASTIND0052",
          "GASTIND0053",
          "GASTIND0054",
          "GASTIND0055",
          "GASTIND0056",
          "GASTIND0057",
          "GASTIND0058",
          "GASTIND0059",
          "GASTIND0060",
          "GASTIND0061",
          "GASTIND0062",
          "GASTIND0063",
          "GASTIND0064",
          "GASTIND0065",
          "GASTIND0066",
          "GASTIND0067",
          "GASTIND0068",
          "GASTIND0069",
          "GASTIND0070",
          "GASTIND0071",
          "GASTIND0072",
          "GASTIND0073",
          "GASTIND0074",
          "GASTIND0075",
          "GASTIND0076",
          "GASTIND0077",
          "GASTIND0078",
          "GASTIND0079",
          "GASTIND0080",
          "GASTIND0081",
          "GASTIND0082",
          "GASTIND0083",
          "GASTIND0084",
          "GASTIND0085",
          "GASTIND0086",
          "GASTIND0087",
          "GASTIND0088",
          "GASTIND0089",
          "GASTIND0090",
          "GASTIND0091",
          "GASTIND0092",
          "GASTIND0093",
          "GASTIND0094",
          "GASTIND0095",
          "GASTIND0096",
          "GASTIND0097",
          "GASTIND0098",
          "GASTIND0099",
          "GASTIND0100",
          "GASTIND0101",
          "GASTIND0102",
          "GASTIND0103",
          "GASTIND0104",
          "GASTIND0105",
          "GASTIND0106",
          "GASTIND0107",
          "GASTIND0108",
          "GASTIND0109",
          "GASTIND0110",
          "GASTIND0111",
          "GASTIRN0001",
          "GASTIRN0002",
          "GASTIRN0003",
          "GASTIRN0004",
          "GASTIRN0005",
          "GASTIRN0006",
          "GASTIRN0007",
          "GASTIRN0008",
          "GASTIRN0009",
          "GASTIRN0010",
          "GASTIRN0011",
          "GASTIRN0012",
          "GASTIRN0013",
          "GASTIRN0014",
          "GASTIRN0015",
          "GASTIRN0016",
          "GASTIRN0017",
          "GASTITA0001",
          "GASTITA0002",
          "GASTITA0003",
          "GASTITA0004",
          "GASTITA0005",
          "GASTITA0006",
          "GASTITA0007",
          "GASTITA0008",
          "GASTITA0009",
          "GASTITA0010",
          "GASTITA0011",
          "GASTITA0012",
          "GASTITA0013",
          "GASTITA0014",
          "GASTITA0015",
          "GASTITA0016",
          "GASTITA0017",
          "GASTITA0018",
          "GASTITA0019",
          "GASTITA0020",
          "GASTITA0021",
          "GASTITA0022",
          "GASTITA0023",
          "GASTITA0024",
          "GASTITA0025",
          "GASTITA0026",
          "GASTITA0027",
          "GASTITA0028",
          "GASTITA0029",
          "GASTITA0030",
          "GASTITA0031",
          "GASTITA0032",
          "GASTITA0033",
          "GASTITA0034",
          "GASTITA0035",
          "GASTITA0036",
          "GASTITA0037",
          "GASTITA0038",
          "GASTITA0039",
          "GASTITA0040",
          "GASTITA0041",
          "GASTITA0042",
          "GASTITA0043",
          "GASTITA0044",
          "GASTITA0045",
          "GASTITA0046",
          "GASTITA0047",
          "GASTITA0048",
          "GASTITA0049",
          "GASTITA0050",
          "GASTITA0051",
          "GASTITA0052",
          "GASTITA0053",
          "GASTITA0054",
          "GASTITA0055",
          "GASTITA0056",
          "GASTITA0057",
          "GASTITA0058",
          "GASTITA0059",
          "GASTITA0060",
          "GASTITA0061",
          "GASTITA0062",
          "GASTITA0063",
          "GASTITA0064",
          "GASTITA0065",
          "GASTITA0066",
          "GASTITA0067",
          "GASTITA0068",
          "GASTITA0069",
          "GASTITA0070",
          "GASTITA0071",
          "GASTITA0072",
          "GASTITA0073",
          "GASTITA0074",
          "GASTITA0075",
          "GASTITA0076",
          "GASTITA0077",
          "GASTITA0078",
          "GASTITA0079",
          "GASTJOR0001",
          "GASTJOR0002",
          "GASTJPN0001",
          "GASTJPN0002",
          "GASTJPN0003",
          "GASTJPN0004",
          "GASTJPN0005",
          "GASTJPN0006",
          "GASTJPN0007",
          "GASTJPN0008",
          "GASTJPN0009",
          "GASTJPN0010",
          "GASTJPN0011",
          "GASTJPN0012",
          "GASTJPN0013",
          "GASTJPN0014",
          "GASTJPN0015",
          "GASTJPN0016",
          "GASTJPN0017",
          "GASTJPN0018",
          "GASTJPN0019",
          "GASTJPN0020",
          "GASTJPN0021",
          "GASTJPN0022",
          "GASTJPN0023",
          "GASTJPN0024",
          "GASTJPN0025",
          "GASTJPN0026",
          "GASTJPN0027",
          "GASTJPN0028",
          "GASTJPN0029",
          "GASTJPN0030",
          "GASTJPN0031",
          "GASTJPN0032",
          "GASTJPN0033",
          "GASTJPN0034",
          "GASTJPN0035",
          "GASTJPN0036",
          "GASTJPN0037",
          "GASTJPN0038",
          "GASTJPN0039",
          "GASTJPN0040",
          "GASTJPN0041",
          "GASTJPN0042",
          "GASTJPN0043",
          "GASTJPN0044",
          "GASTJPN0045",
          "GASTJPN0046",
          "GASTJPN0047",
          "GASTJPN0048",
          "GASTJPN0049",
          "GASTJPN0050",
          "GASTJPN0051",
          "GASTJPN0052",
          "GASTJPN0053",
          "GASTJPN0054",
          "GASTJPN0055",
          "GASTJPN0056",
          "GASTJPN0057",
          "GASTJPN0058",
          "GASTJPN0059",
          "GASTJPN0060",
          "GASTJPN0061",
          "GASTJPN0062",
          "GASTJPN0063",
          "GASTJPN0064",
          "GASTJPN0065",
          "GASTJPN0066",
          "GASTJPN0067",
          "GASTJPN0068",
          "GASTJPN0069",
          "GASTJPN0070",
          "GASTJPN0071",
          "GASTJPN0072",
          "GASTJPN0073",
          "GASTJPN0074",
          "GASTJPN0075",
          "GASTJPN0076",
          "GASTJPN0077",
          "GASTJPN0078",
          "GASTJPN0079",
          "GASTJPN0080",
          "GASTJPN0081",
          "GASTKAZ0001",
          "GASTKAZ0002",
          "GASTKEN0001",
          "GASTKHM0001",
          "GASTKOR0001",
          "GASTKOR0002",
          "GASTKOR0003",
          "GASTKOR0004",
          "GASTKOR0005",
          "GASTKOR0006",
          "GASTKOR0007",
          "GASTKOR0008",
          "GASTKOR0009",
          "GASTKOR0010",
          "GASTKOR0011",
          "GASTKOR0012",
          "GASTKOR0013",
          "GASTKOR0014",
          "GASTKOR0015",
          "GASTKOR0016",
          "GASTKOR0017",
          "GASTKOR0018",
          "GASTKOR0019",
          "GASTKOR0020",
          "GASTKOR0021",
          "GASTKOR0022",
          "GASTKOR0023",
          "GASTKOR0024",
          "GASTKOR0025",
          "GASTKOR0026",
          "GASTKOR0027",
          "GASTKOR0028",
          "GASTKOR0029",
          "GASTKOR0030",
          "GASTKOR0031",
          "GASTKOR0032",
          "GASTKOR0033",
          "GASTKOR0034",
          "GASTKOR0035",
          "GASTKOR0036",
          "GASTKOR0037",
          "GASTKWT0001",
          "GASTKWT0002",
          "GASTLBY0001",
          "GASTLKA0001",
          "GASTLKA0002",
          "GASTLUX0001",
          "GASTLUX0002",
          "GASTLUX0003",
          "GASTLUX0004",
          "GASTLUX0005",
          "GASTLUX0006",
          "GASTLUX0007",
          "GASTLVA0001",
          "GASTMAR0001",
          "GASTMAR0002",
          "GASTMAR0003",
          "GASTMAR0004",
          "GASTMAR0005",
          "GASTMDA0001",
          "GASTMEX0001",
          "GASTMEX0002",
          "GASTMEX0003",
          "GASTMEX0004",
          "GASTMEX0005",
          "GASTMEX0006",
          "GASTMEX0007",
          "GASTMEX0008",
          "GASTMEX0009",
          "GASTMEX0010",
          "GASTMEX0011",
          "GASTMEX0012",
          "GASTMEX0013",
          "GASTMEX0014",
          "GASTMEX0015",
          "GASTMEX0016",
          "GASTMEX0017",
          "GASTMEX0018",
          "GASTMEX0019",
          "GASTMEX0020",
          "GASTMEX0021",
          "GASTMEX0022",
          "GASTMEX0023",
          "GASTMEX0024",
          "GASTMEX0025",
          "GASTMEX0026",
          "GASTMEX0027",
          "GASTMEX0028",
          "GASTMEX0029",
          "GASTMKD0001",
          "GASTMKD0002",
          "GASTMMR0001",
          "GASTMNE0001",
          "GASTMNG0001",
          "GASTMYS0001",
          "GASTMYS0002",
          "GASTMYS0003",
          "GASTMYS0004",
          "GASTMYS0005",
          "GASTMYS0006",
          "GASTMYS0007",
          "GASTMYS0008",
          "GASTMYS0009",
          "GASTMYS0010",
          "GASTMYS0011",
          "GASTMYS0012",
          "GASTMYS0013",
          "GASTMYS0014",
          "GASTMYS0015",
          "GASTMYS0016",
          "GASTMYS0017",
          "GASTMYS0018",
          "GASTMYS0019",
          "GASTMYS0020",
          "GASTMYS0021",
          "GASTMYS0022",
          "GASTMYS0023",
          "GASTMYS0024",
          "GASTMYS0025",
          "GASTMYS0026",
          "GASTMYS0027",
          "GASTNGA0001",
          "GASTNGA0002",
          "GASTNGA0003",
          "GASTNGA0004",
          "GASTNGA0005",
          "GASTNGA0006",
          "GASTNLD0001",
          "GASTNLD0002",
          "GASTNLD0003",
          "GASTNLD0004",
          "GASTNLD0005",
          "GASTNOR0001",
          "GASTNZL0001",
          "GASTNZL0002",
          "GASTOMN0001",
          "GASTOMN0002",
          "GASTOMN0003",
          "GASTOMN0004",
          "GASTOMN0005",
          "GASTOMN0006",
          "GASTOMN0007",
          "GASTOMN0008",
          "GASTPAK0001",
          "GASTPAK0002",
          "GASTPAK0003",
          "GASTPAK0004",
          "GASTPAK0005",
          "GASTPAK0006",
          "GASTPAK0007",
          "GASTPAK0008",
          "GASTPAK0009",
          "GASTPER0001",
          "GASTPER0002",
          "GASTPER0003",
          "GASTPHL0001",
          "GASTPHL0002",
          "GASTPHL0003",
          "GASTPHL0004",
          "GASTPHL0005",
          "GASTPHL0006",
          "GASTPHL0007",
          "GASTPHL0008",
          "GASTPHL0009",
          "GASTPHL0010",
          "GASTPHL0011",
          "GASTPHL0012",
          "GASTPHL0013",
          "GASTPOL0001",
          "GASTPOL0002",
          "GASTPOL0003",
          "GASTPOL0004",
          "GASTPOL0005",
          "GASTPOL0006",
          "GASTPOL0007",
          "GASTPOL0008",
          "GASTPOL0009",
          "GASTPOL0010",
          "GASTPOL0011",
          "GASTPOL0012",
          "GASTPOL0013",
          "GASTPOL0014",
          "GASTPOL0015",
          "GASTPOL0016",
          "GASTPOL0017",
          "GASTPOL0018",
          "GASTPOL0019",
          "GASTPOL0020",
          "GASTPOL0021",
          "GASTPOL0022",
          "GASTPRK0001",
          "GASTPRK0002",
          "GASTPRK0003",
          "GASTPRK0004",
          "GASTPRK0005",
          "GASTPRT0001",
          "GASTPRT0002",
          "GASTPRT0003",
          "GASTPRT0004",
          "GASTPRY0001",
          "GASTQAT0001",
          "GASTQAT0002",
          "GASTROU0001",
          "GASTROU0002",
          "GASTROU0003",
          "GASTROU0004",
          "GASTROU0005",
          "GASTROU0006",
          "GASTROU0007",
          "GASTROU0008",
          "GASTROU0009",
          "GASTROU0010",
          "GASTROU0011",
          "GASTROU0012",
          "GASTROU0013",
          "GASTROU0014",
          "GASTRUS0001",
          "GASTRUS0002",
          "GASTRUS0003",
          "GASTRUS0004",
          "GASTRUS0005",
          "GASTRUS0006",
          "GASTRUS0007",
          "GASTRUS0008",
          "GASTRUS0009",
          "GASTRUS0010",
          "GASTRUS0011",
          "GASTRUS0012",
          "GASTRUS0013",
          "GASTRUS0014",
          "GASTRUS0015",
          "GASTRUS0016",
          "GASTRUS0017",
          "GASTRUS0018",
          "GASTRUS0019",
          "GASTRUS0020",
          "GASTRUS0021",
          "GASTRUS0022",
          "GASTRUS0023",
          "GASTRUS0024",
          "GASTRUS0025",
          "GASTRUS0026",
          "GASTRUS0027",
          "GASTRUS0028",
          "GASTRUS0029",
          "GASTRUS0030",
          "GASTRUS0031",
          "GASTRUS0032",
          "GASTRUS0033",
          "GASTRUS0034",
          "GASTRUS0035",
          "GASTRUS0036",
          "GASTRUS0037",
          "GASTRUS0038",
          "GASTRUS0039",
          "GASTRUS0040",
          "GASTRUS0041",
          "GASTRUS0042",
          "GASTRUS0043",
          "GASTRUS0044",
          "GASTRUS0045",
          "GASTRUS0046",
          "GASTRUS0047",
          "GASTRUS0048",
          "GASTRUS0049",
          "GASTRUS0050",
          "GASTRUS0051",
          "GASTRUS0052",
          "GASTRUS0053",
          "GASTRUS0054",
          "GASTRUS0055",
          "GASTRUS0056",
          "GASTRUS0057",
          "GASTRUS0058",
          "GASTSAU0001",
          "GASTSAU0002",
          "GASTSAU0003",
          "GASTSAU0004",
          "GASTSAU0005",
          "GASTSAU0006",
          "GASTSAU0007",
          "GASTSAU0008",
          "GASTSAU0009",
          "GASTSAU0010",
          "GASTSAU0011",
          "GASTSAU0012",
          "GASTSAU0013",
          "GASTSGP0001",
          "GASTSLV0001",
          "GASTSRB0001",
          "GASTSRB0002",
          "GASTSRB0003",
          "GASTSRB0004",
          "GASTSVK0001",
          "GASTSVK0002",
          "GASTSVK0003",
          "GASTSVN0001",
          "GASTSVN0002",
          "GASTSVN0003",
          "GASTSWE0001",
          "GASTSWE0002",
          "GASTSWE0003",
          "GASTSWE0004",
          "GASTSWE0005",
          "GASTSWE0006",
          "GASTSWE0007",
          "GASTSWE0008",
          "GASTSWE0009",
          "GASTSWE0010",
          "GASTSWE0011",
          "GASTSWE0012",
          "GASTSWE0013",
          "GASTSWE0014",
          "GASTSWE0015",
          "GASTSWE0016",
          "GASTSWE0017",
          "GASTSWE0018",
          "GASTSWE0019",
          "GASTSWE0020",
          "GASTSWE0021",
          "GASTSWE0022",
          "GASTSWE0023",
          "GASTSYR0001",
          "GASTTHA0001",
          "GASTTHA0002",
          "GASTTHA0003",
          "GASTTHA0004",
          "GASTTHA0005",
          "GASTTHA0006",
          "GASTTHA0007",
          "GASTTHA0008",
          "GASTTHA0009",
          "GASTTHA0010",
          "GASTTHA0011",
          "GASTTHA0012",
          "GASTTHA0013",
          "GASTTHA0014",
          "GASTTHA0015",
          "GASTTHA0016",
          "GASTTHA0017",
          "GASTTHA0018",
          "GASTTHA0019",
          "GASTTHA0020",
          "GASTTHA0021",
          "GASTTHA0022",
          "GASTTHA0023",
          "GASTTTO0001",
          "GASTTUN0001",
          "GASTTUN0002",
          "GASTTUR0001",
          "GASTTUR0002",
          "GASTTUR0003",
          "GASTTUR0004",
          "GASTTUR0005",
          "GASTTUR0006",
          "GASTTUR0007",
          "GASTTUR0008",
          "GASTTUR0009",
          "GASTTUR0010",
          "GASTTUR0011",
          "GASTTUR0012",
          "GASTTUR0013",
          "GASTTUR0014",
          "GASTTUR0015",
          "GASTTUR0016",
          "GASTTUR0017",
          "GASTTUR0018",
          "GASTTUR0019",
          "GASTTUR0020",
          "GASTTUR0021",
          "GASTTUR0022",
          "GASTTUR0023",
          "GASTTUR0024",
          "GASTTUR0025",
          "GASTTUR0026",
          "GASTTUR0027",
          "GASTTUR0028",
          "GASTTUR0029",
          "GASTTUR0030",
          "GASTTUR0031",
          "GASTTUR0032",
          "GASTTUR0033",
          "GASTTUR0034",
          "GASTTUR0035",
          "GASTTUR0036",
          "GASTTUR0037",
          "GASTTWN0001",
          "GASTTWN0002",
          "GASTTWN0003",
          "GASTTWN0004",
          "GASTTWN0005",
          "GASTTWN0006",
          "GASTTWN0007",
          "GASTTWN0008",
          "GASTTWN0009",
          "GASTTWN0010",
          "GASTTWN0011",
          "GASTTWN0012",
          "GASTTWN0013",
          "GASTTWN0014",
          "GASTTWN0015",
          "GASTUGA0001",
          "GASTUKR0001",
          "GASTUKR0002",
          "GASTUKR0003",
          "GASTUKR0004",
          "GASTUKR0005",
          "GASTUKR0006",
          "GASTUKR0007",
          "GASTUKR0008",
          "GASTUKR0009",
          "GASTUKR0010",
          "GASTUKR0011",
          "GASTUKR0012",
          "GASTUKR0013",
          "GASTUKR0014",
          "GASTUKR0015",
          "GASTUKR0016",
          "GASTURY0001",
          "GASTUSA0001",
          "GASTUSA0002",
          "GASTUSA0003",
          "GASTUSA0004",
          "GASTUSA0005",
          "GASTUSA0006",
          "GASTUSA0007",
          "GASTUSA0008",
          "GASTUSA0009",
          "GASTUSA0010",
          "GASTUSA0011",
          "GASTUSA0012",
          "GASTUSA0013",
          "GASTUSA0014",
          "GASTUSA0015",
          "GASTUSA0016",
          "GASTUSA0017",
          "GASTUSA0018",
          "GASTUSA0019",
          "GASTUSA0020",
          "GASTUSA0021",
          "GASTUSA0022",
          "GASTUSA0023",
          "GASTUSA0024",
          "GASTUSA0025",
          "GASTUSA0026",
          "GASTUSA0027",
          "GASTUSA0028",
          "GASTUSA0029",
          "GASTUSA0030",
          "GASTUSA0031",
          "GASTUSA0032",
          "GASTUSA0033",
          "GASTUSA0034",
          "GASTUSA0035",
          "GASTUSA0036",
          "GASTUSA0037",
          "GASTUSA0038",
          "GASTUSA0039",
          "GASTUSA0040",
          "GASTUSA0041",
          "GASTUSA0042",
          "GASTUSA0043",
          "GASTUSA0044",
          "GASTUSA0045",
          "GASTUSA0046",
          "GASTUSA0047",
          "GASTUSA0048",
          "GASTUSA0049",
          "GASTUSA0050",
          "GASTUSA0051",
          "GASTUSA0052",
          "GASTUSA0053",
          "GASTUSA0054",
          "GASTUSA0055",
          "GASTUSA0056",
          "GASTUSA0057",
          "GASTUSA0058",
          "GASTUSA0060",
          "GASTUSA0061",
          "GASTUSA0062",
          "GASTUSA0063",
          "GASTUSA0064",
          "GASTUSA0065",
          "GASTUSA0066",
          "GASTUSA0067",
          "GASTUSA0068",
          "GASTUSA0069",
          "GASTUSA0070",
          "GASTUSA0071",
          "GASTUSA0072",
          "GASTUSA0073",
          "GASTUSA0074",
          "GASTUSA0075",
          "GASTUSA0076",
          "GASTUSA0077",
          "GASTUSA0078",
          "GASTUSA0079",
          "GASTUSA0080",
          "GASTUSA0081",
          "GASTUSA0082",
          "GASTUSA0083",
          "GASTUSA0084",
          "GASTUSA0085",
          "GASTUSA0086",
          "GASTUSA0087",
          "GASTUSA0088",
          "GASTUSA0089",
          "GASTUSA0090",
          "GASTUSA0091",
          "GASTUSA0092",
          "GASTUSA0093",
          "GASTUSA0094",
          "GASTUSA0095",
          "GASTUSA0096",
          "GASTUSA0097",
          "GASTUSA0098",
          "GASTUSA0099",
          "GASTUSA0100",
          "GASTUSA0101",
          "GASTUSA0102",
          "GASTUSA0103",
          "GASTUSA0104",
          "GASTUSA0105",
          "GASTUSA0106",
          "GASTUSA0107",
          "GASTUSA0108",
          "GASTUSA0109",
          "GASTUSA0110",
          "GASTUSA0111",
          "GASTUSA0112",
          "GASTUSA0113",
          "GASTUSA0114",
          "GASTUSA0115",
          "GASTUSA0116",
          "GASTUSA0117",
          "GASTUSA0118",
          "GASTUSA0119",
          "GASTUSA0120",
          "GASTUSA0121",
          "GASTUSA0122",
          "GASTUSA0123",
          "GASTUSA0124",
          "GASTUSA0125",
          "GASTUSA0126",
          "GASTUSA0127",
          "GASTUSA0128",
          "GASTUSA0129",
          "GASTUSA0130",
          "GASTUSA0131",
          "GASTUSA0132",
          "GASTUSA0133",
          "GASTUSA0134",
          "GASTUSA0135",
          "GASTUSA0136",
          "GASTUSA0137",
          "GASTUSA0138",
          "GASTUSA0139",
          "GASTUSA0140",
          "GASTUSA0141",
          "GASTUSA0142",
          "GASTUSA0143",
          "GASTUSA0144",
          "GASTUSA0145",
          "GASTUSA0146",
          "GASTUSA0147",
          "GASTUSA0148",
          "GASTUSA0149",
          "GASTUSA0150",
          "GASTUSA0151",
          "GASTUSA0152",
          "GASTUSA0153",
          "GASTUSA0154",
          "GASTUSA0155",
          "GASTUSA0156",
          "GASTUSA0157",
          "GASTUSA0158",
          "GASTUSA0159",
          "GASTUSA0160",
          "GASTUSA0161",
          "GASTUSA0162",
          "GASTUSA0163",
          "GASTUSA0164",
          "GASTUSA0165",
          "GASTUSA0166",
          "GASTUSA0167",
          "GASTUSA0168",
          "GASTUSA0169",
          "GASTUSA0170",
          "GASTUSA0171",
          "GASTUSA0172",
          "GASTUSA0173",
          "GASTUSA0174",
          "GASTUSA0175",
          "GASTUSA0176",
          "GASTUSA0177",
          "GASTUSA0178",
          "GASTUSA0179",
          "GASTUSA0180",
          "GASTUSA0181",
          "GASTUSA0182",
          "GASTUSA0183",
          "GASTUSA0184",
          "GASTUSA0185",
          "GASTUSA0186",
          "GASTUSA0187",
          "GASTUZB0001",
          "GASTVEN0001",
          "GASTVEN0002",
          "GASTVEN0003",
          "GASTVEN0004",
          "GASTVEN0005",
          "GASTVEN0006",
          "GASTVEN0007",
          "GASTVEN0008",
          "GASTVEN0009",
          "GASTVEN0010",
          "GASTVEN0011",
          "GASTVEN0012",
          "GASTVEN0013",
          "GASTVNM0001",
          "GASTVNM0002",
          "GASTVNM0003",
          "GASTVNM0004",
          "GASTVNM0005",
          "GASTVNM0006",
          "GASTVNM0007",
          "GASTVNM0008",
          "GASTVNM0009",
          "GASTVNM0010",
          "GASTVNM0011",
          "GASTVNM0012",
          "GASTVNM0013",
          "GASTVNM0014",
          "GASTVNM0015",
          "GASTVNM0016",
          "GASTVNM0017",
          "GASTVNM0018",
          "GASTVNM0019",
          "GASTVNM0020",
          "GASTVNM0021",
          "GASTVNM0022",
          "GASTVNM0023",
          "GASTVNM0024",
          "GASTVNM0025",
          "GASTVNM0026",
          "GASTVNM0027",
          "GASTVNM0028",
          "GASTVNM0029",
          "GASTVNM0030",
          "GASTVNM0031",
          "GASTVNM0032",
          "GASTVNM0033",
          "GASTVNM0034",
          "GASTVNM0035",
          "GASTVNM0036",
          "GASTVNM0037",
          "GASTZAF0001",
          "GASTZAF0002",
          "GASTZAF0003",
          "GASTZAF0004",
          "GASTZAF0005",
          "GASTZAF0006",
          "GASTZAF0007",
          "GASTZAF0008",
          "GASTZAF0009",
          "GASTZAF0010",
          "GASTZAF0011",
          "GASTZAF0012",
          "GASTZAF0013",
          "GASTZAF0014",
          "GASTZWE0001"
         ],
         "lat": [
          -8.5824,
          41.094611,
          24.320682,
          24.322916,
          24.37872,
          24.830458,
          24.966572,
          24.940021,
          25.202608,
          25.465611,
          -24.24424,
          -33.25696,
          -33.346459,
          -34.687596,
          -32.974327,
          -32.991766,
          -34.155515,
          -33.36772,
          -34.638826,
          -34.819972,
          -34.854633,
          -34.877925,
          -35.140247,
          -33.26958,
          -34.653668,
          40.413734,
          -34.462607,
          -38.283196,
          -27.582695,
          -33.76601,
          -37.831379,
          -33.009381,
          -32.887895,
          47.534505,
          47.174085,
          47.547881,
          47.063927,
          47.173627,
          47.444064,
          48.280419,
          47.381778,
          48.064267,
          47.989746,
          47.601473,
          40.430742,
          50.935668,
          50.414695,
          50.409769,
          50.940834,
          51.170703,
          50.493935,
          51.143648,
          50.613573,
          50.594707,
          50.609919,
          51.097947,
          50.488137,
          50.6757,
          48.577504,
          50.410335,
          50.412708,
          50.585014,
          22.444118,
          22.472008,
          22.38106,
          22.383964,
          22.87176,
          22.499834,
          42.522862,
          42.381594,
          42.598509,
          26.200414,
          26.195868,
          26.20225,
          26.209857,
          44.227639,
          44.549915,
          53.916374,
          52.851543,
          -19.530304,
          -22.525002,
          -22.493036,
          -19.832517,
          -20.252175,
          -21.626262,
          -26.293549,
          -22.697006,
          -5.413785,
          -22.51241,
          -22.901965,
          -19.937757,
          -20.154319,
          -20.545246,
          -19.961966,
          -12.84938,
          -8.071809,
          -3.856478,
          -25.564046,
          -22.899036,
          -29.814758,
          -29.955797,
          -23.438837,
          -23.526901,
          -23.257903,
          -23.598177,
          -22.920129,
          -20.348094,
          -20.067539,
          -19.492494,
          -19.48595,
          -22.909515,
          -23.864354,
          -2.565241,
          -20.177001,
          -20.779552,
          -20.418922,
          -20.27353,
          -3.581128,
          -19.967326,
          -20.584536,
          -22.80243,
          -5.413941,
          -8.342767,
          -4.893147,
          -4.889582,
          -3.716437,
          -22.781061,
          -23.099299,
          -25.571562,
          -20.443546,
          -22.432299,
          42.999368,
          46.522246,
          45.834665,
          43.270861,
          45.567953,
          45.300868,
          45.820803,
          45.458752,
          43.2625,
          50.516767,
          50.129954,
          43.859169,
          43.371349,
          43.25631,
          45.613941,
          53.530394,
          43.266553,
          50.194727,
          52.958007,
          46.045904,
          46.359215,
          43.241624,
          42.810542,
          43.26922,
          47.171958,
          47.308055,
          47.07189,
          -36.750028,
          -28.481533,
          41.172838,
          39.110352,
          31.763469,
          41.139644,
          41.527567,
          40.311737,
          30.879154,
          27.746401,
          26.565119,
          30.870881,
          23.12658,
          25.22401,
          36.124096,
          40.652771,
          44.018496,
          41.841329,
          46.604985,
          47.494755,
          40.167705,
          35.413622,
          39.857583,
          39.862029,
          47.192609,
          43.196606,
          40.513991,
          45.56194,
          36.600331,
          38.398748,
          31.388753,
          43.851167,
          31.435431,
          31.740729,
          29.918396,
          30.396278,
          30.624575,
          24.705898,
          31.354429,
          31.904391,
          21.057708,
          26.485812,
          21.68594,
          30.328403,
          29.897548,
          32.092772,
          30.197951,
          37.51666,
          40.213289,
          29.795085,
          31.948763,
          28.645564,
          24.385393,
          40.590272,
          37.765991,
          33.288112,
          40.946739,
          38.058342,
          39.271834,
          39.730745,
          36.602783,
          39.701033,
          39.78227,
          39.717145,
          39.643806,
          39.656243,
          35.087539,
          24.953728,
          27.816832,
          27.74785,
          22.63951,
          41.838158,
          39.191582,
          33.565103,
          31.981374,
          36.141676,
          31.850953,
          39.816922,
          41.27388,
          40.669466,
          32.193755,
          31.980098,
          22.766849,
          36.00775,
          27.630957,
          35.158767,
          35.196844,
          36.082117,
          36.908142,
          36.219385,
          37.077397,
          26.873405,
          41.779388,
          38.95545,
          26.595884,
          36.353429,
          39.97685,
          40.02653,
          43.530837,
          41.220324,
          41.280013,
          37.928721,
          39.030407,
          40.184409,
          37.043277,
          39.538655,
          27.78356,
          35.503037,
          31.705757,
          38.288955,
          38.970363,
          37.380181,
          29.398216,
          29.782531,
          30.750311,
          30.897042,
          24.472396,
          25.023955,
          25.959119,
          26.260714,
          26.86569,
          31.189673,
          35.750602,
          36.066695,
          36.221915,
          36.307437,
          36.645482,
          36.71948,
          33.133199,
          33.269856,
          39.22016,
          29.732311,
          39.609499,
          21.959665,
          24.907594,
          21.51936,
          39.803605,
          39.939468,
          36.109001,
          33.324467,
          35.586658,
          39.648572,
          36.668745,
          26.750556,
          22.085469,
          23.088236,
          23.471515,
          24.247909,
          24.635597,
          26.491353,
          26.483249,
          31.952685,
          32.323247,
          33.294166,
          34.385173,
          34.402393000000004,
          35.095573,
          35.700893,
          35.689775,
          36.158489,
          36.616836,
          36.633547,
          36.636785,
          36.679242,
          36.719697,
          36.731966,
          36.733694,
          36.939075,
          37.43207,
          38.24041,
          38.382105,
          38.823494,
          38.834159,
          39.275766,
          39.498314,
          39.606444,
          39.675204,
          39.658765,
          39.700286,
          39.902026,
          39.881197,
          40.111867,
          40.62272,
          40.66433,
          41.067223,
          41.197938,
          43.856338,
          44.204582,
          44.288608,
          45.441957,
          10.835236,
          6.150601,
          4.537073,
          5.723429,
          3.496354,
          6.220484,
          10.838475,
          5.027288,
          3.209787,
          5.773999,
          10.251669,
          20.977555,
          23.037642,
          49.792789,
          49.808767,
          49.860039,
          49.744016,
          49.689538,
          49.894616,
          50.151991,
          49.818993,
          49.08234,
          50.152992,
          49.696651,
          49.819813,
          49.718386,
          49.941524,
          50.282694,
          53.523602,
          53.135904,
          52.166664,
          51.462865,
          51.519988,
          51.17221,
          50.995915,
          50.864979,
          51.367546,
          51.35432,
          48.597641,
          52.467622,
          51.744388,
          51.513894,
          51.572074,
          51.712311,
          51.392388,
          51.231909,
          51.437869,
          50.654693,
          49.352634,
          51.3128,
          51.407427,
          51.433648,
          52.208677,
          51.45661,
          49.276824,
          50.801982,
          51.463434,
          50.99806,
          50.872857,
          50.872145,
          51.424335,
          51.294423,
          50.813361,
          50.964975,
          51.365116,
          48.512051,
          47.794182,
          49.237026,
          49.358864,
          49.253257,
          49.244097,
          51.305402,
          51.261314,
          50.757705,
          51.942966,
          51.357585,
          52.655544,
          52.402708,
          49.61446,
          49.805275,
          49.796745,
          52.316666,
          52.157553,
          51.443573,
          51.873111,
          53.496384,
          51.359729,
          51.434095,
          50.922844,
          51.304291,
          51.166915,
          51.369878,
          51.492177,
          51.345,
          50.957217,
          51.538199,
          51.524198,
          51.489378,
          51.476422,
          50.436236,
          50.970285,
          51.168792,
          51.308137,
          51.254638,
          51.564025,
          50.918192,
          50.130571,
          50.687185,
          51.32315,
          51.492427,
          51.425959,
          51.540406,
          50.57377,
          51.399472,
          51.38563,
          51.641062,
          49.791529,
          50.432267,
          55.959404,
          54.758832,
          55.962153,
          18.437103,
          36.792072,
          36.747137,
          35.770233,
          -2.26024,
          30.386261,
          30.369872,
          30.391202,
          30.39371,
          30.11843,
          29.905173,
          30.247939,
          29.688676,
          29.691445,
          30.381627,
          31.119601,
          29.77052,
          29.923196,
          30.187145,
          36.181388,
          42.559028,
          41.592857,
          43.242515,
          43.248719,
          43.038085,
          43.313659,
          43.521929,
          43.554741,
          39.64988,
          43.102428,
          43.083906,
          41.453633,
          43.30806,
          43.445344,
          38.326554,
          43.51421,
          41.56988,
          37.363138,
          43.295143,
          43.227282,
          43.170485,
          42.863382,
          42.992883,
          61.149466,
          65.768904,
          64.651242,
          60.971339,
          61.816538,
          50.3292,
          45.39674,
          45.360574,
          50.620868,
          46.603638,
          46.934495,
          47.379476,
          48.959727,
          47.974038,
          43.434652,
          51.041738,
          50.66105,
          49.249365,
          49.264868,
          49.608383,
          49.325295,
          50.989406,
          44.795238,
          45.535425,
          46.80291,
          47.203904,
          49.240941,
          51.054575,
          43.445263,
          48.786544,
          43.529548,
          45.393547,
          43.116724,
          45.926105,
          46.933587,
          46.287734,
          46.744921,
          50.398171,
          49.336388,
          45.395307,
          48.58102,
          48.387211,
          48.611482,
          49.033678,
          48.983515,
          49.263372,
          43.705725,
          45.511561,
          48.892609,
          48.828373,
          45.744715,
          50.268383,
          50.624067,
          43.952438,
          52.509783,
          53.392059,
          51.47213,
          51.480565,
          53.263895,
          53.451287,
          51.557915,
          53.415652,
          53.484404,
          53.582781,
          55.788937,
          53.581789,
          54.591537,
          53.395583,
          53.399598,
          54.953566,
          53.405883,
          51.57829,
          53.227541,
          51.673296,
          51.576037,
          52.497534,
          53.311331,
          41.542068,
          41.531734,
          5.691421,
          38.564265,
          39.169632,
          40.704458,
          40.825869,
          14.233133,
          14.508952,
          14.467118,
          45.445978,
          48.096936,
          46.946237,
          48.242994,
          47.734589,
          48.219488,
          48.091327,
          -6.309638,
          -5.998211,
          -2.830356,
          -6.281959,
          3.673463,
          -6.347759,
          -7.126428,
          -7.174632,
          -7.351805,
          -6.006933,
          -6.00828,
          -6.004733,
          -7.255433,
          -6.307685,
          -6.029989,
          3.668655,
          -7.246903,
          -7.346083,
          -6.117702,
          -6.21214,
          -7.35526,
          -6.179059,
          -6.182463,
          -6.006075,
          -3.35255,
          -5.998205,
          -6.18801,
          -7.121881,
          -7.067863,
          -6.261061,
          -6.19534,
          21.111323,
          18.655587,
          17.719148,
          20.321457,
          15.171144,
          18.690094,
          11.81618,
          15.18054,
          21.760298,
          21.983709,
          21.231231,
          19.405092,
          19.794505,
          21.354495,
          20.954939,
          29.127253,
          17.93735,
          23.633141,
          20.881239,
          21.924401,
          22.088175,
          22.976512,
          12.926373,
          15.339055,
          19.187676,
          19.093972,
          20.998641,
          22.378355,
          18.388225,
          17.614426,
          23.673348,
          23.665198,
          23.546442,
          21.189193,
          22.212811,
          11.660148,
          23.522882,
          19.963893,
          13.831617,
          17.963265,
          21.232929,
          20.969288,
          22.789036,
          22.385611,
          20.793691,
          22.814904,
          22.054641,
          19.794754,
          18.80083,
          28.648921,
          20.473334,
          12.761076,
          19.823169,
          23.370283,
          31.583478,
          20.944024,
          18.524061,
          18.530853,
          26.581306,
          18.780093,
          26.561084,
          23.776213,
          23.262679,
          23.177972,
          23.11319,
          15.328377,
          23.100377,
          13.386722,
          13.425077,
          14.137429,
          14.875643,
          15.186362,
          15.269352,
          15.289696,
          15.334303,
          15.339612,
          15.525561,
          17.189623,
          22.054668,
          22.822114,
          20.939078,
          20.974826,
          21.127546,
          21.184157,
          21.30424,
          21.367097,
          21.683445,
          21.801655,
          21.887551,
          21.926573,
          20.696143,
          20.661603,
          22.811794,
          22.795251,
          22.795364,
          22.715728,
          22.640847,
          22.635024,
          18.792528,
          22.048657,
          22.004136,
          19.788493,
          19.850236,
          19.930469,
          28.097508,
          18.803309,
          28.734516,
          30.651464,
          30.845731,
          30.885416,
          30.887595,
          32.39309,
          32.387328,
          32.422712,
          27.161706,
          31.278602,
          33.926625,
          32.39197,
          30.756966,
          30.491445,
          29.928062,
          33.428932,
          31.271634,
          32.239306,
          36.34499,
          29.192172,
          27.169108,
          37.152881,
          45.52213,
          43.56798,
          45.130956,
          45.547826,
          45.551429,
          45.529346,
          46.481071,
          46.049182,
          45.648691,
          45.700497,
          45.648928,
          45.419168,
          46.204759,
          45.528828,
          45.509244,
          37.438448,
          44.413061,
          40.510191,
          40.976298,
          44.777852,
          45.734276,
          46.007574,
          45.80649,
          45.460499,
          45.849035,
          45.371651,
          45.642905,
          44.263562,
          45.147013,
          45.620316,
          45.647332,
          45.790199,
          45.537418,
          45.425406,
          45.314322,
          46.084267,
          45.183694,
          42.928824,
          46.229127,
          40.640845,
          45.428913,
          45.645688,
          44.378672,
          42.93171,
          45.805216,
          45.788288,
          45.205988,
          44.464126,
          44.985708,
          45.597014,
          45.202705,
          45.663359,
          44.2089,
          45.287212,
          45.960487,
          45.344296,
          38.20319,
          46.034477,
          45.478363,
          45.819705,
          45.768928,
          45.553728,
          45.566054,
          41.524351,
          45.583066,
          45.598187,
          46.047191,
          46.001783,
          44.388023,
          45.951792,
          45.798778,
          45.783389,
          44.626798,
          45.791956,
          45.345747,
          45.507025,
          45.642768,
          42.564881,
          45.516308,
          32.10687,
          32.015202,
          35.044438,
          35.015705,
          36.485528,
          35.079653,
          35.354022,
          35.52207,
          35.773866,
          34.693045,
          34.783057,
          35.697541,
          34.784833,
          35.881542,
          35.813798,
          34.488345,
          34.465319,
          35.580211,
          34.870141,
          38.265706,
          35.476397,
          35.510684,
          34.521604,
          35.561708,
          34.722855,
          43.102005,
          34.703572,
          34.720301,
          34.754447,
          34.816321,
          33.976513,
          35.065055,
          34.699762,
          34.628162,
          34.636006,
          34.472706,
          34.59822,
          36.293073,
          32.679627,
          36.321221,
          34.236927,
          42.343466,
          35.93517,
          33.260876,
          33.921445,
          34.222412,
          35.027704,
          35.361852,
          34.709667,
          34.669798,
          34.564094,
          34.598635,
          34.739123,
          34.786879,
          39.271487,
          37.183978,
          33.940299,
          33.958678,
          34.151776,
          35.79265,
          33.89771,
          34.788526,
          34.788064,
          34.514946,
          34.702984,
          36.540621,
          33.881233,
          40.55923,
          36.285037,
          34.718793,
          34.783588,
          34.225975,
          35.680911,
          34.506495,
          34.693454,
          34.783227,
          34.002427,
          34.057465,
          35.068889,
          35.119655,
          35.441098,
          35.534016,
          35.674655,
          50.047643,
          52.999565,
          -1.37056,
          11.494664,
          35.099065,
          35.086677,
          36.985277,
          35.986562,
          35.966685,
          37.487225,
          35.112036,
          36.975331,
          36.987579,
          34.915947,
          36.004168,
          35.210071,
          37.489367,
          35.530353,
          36.672083,
          37.482625,
          36.979297,
          35.21566,
          36.956486,
          35.983939,
          35.367327,
          35.14384,
          35.095462,
          36.009245,
          34.918942,
          35.984792,
          35.971569,
          35.959448,
          35.207034,
          35.212674,
          35.618097,
          37.013446,
          34.897058,
          35.991176,
          35.101814,
          35.083564,
          36.133478,
          28.9893358,
          28.998537,
          32.334982,
          6.883791,
          7.500572,
          49.551668,
          49.785368,
          49.527035,
          49.505718,
          49.500328,
          49.639001,
          49.502367,
          56.526706,
          33.135544,
          35.031832,
          33.593069,
          33.633945,
          33.501325,
          47.782529,
          17.930884,
          20.5205019305974,
          20.521946,
          25.510249,
          25.599224,
          25.763266,
          19.751077,
          19.630355,
          19.520648,
          26.880009,
          26.889512,
          19.395628,
          19.072136,
          20.636801,
          32.513024,
          22.10319,
          22.0923,
          22.483619,
          25.81187,
          18.868853,
          19.170082,
          20.640579,
          25.76943,
          25.697598,
          25.7207,
          25.743837,
          26.881771,
          25.870209,
          19.180451,
          42.009235,
          42.016228,
          17.003514,
          42.779021,
          49.41855,
          1.470859,
          5.380391,
          3.042585,
          4.285062,
          3.157802,
          2.245185,
          3.068437,
          3.071664,
          1.451512,
          2.809262,
          3.085282,
          3.077835,
          3.059922,
          5.338462,
          2.960564,
          1.446862,
          5.346983,
          5.399453,
          2.264151,
          3.058624,
          3.063284,
          5.253839,
          4.26547,
          5.778871,
          1.565129,
          4.403512,
          3.106211,
          11.95501,
          5.481711,
          7.511336,
          6.474019,
          6.629595,
          6.794399,
          51.853548,
          51.170539,
          51.26976,
          52.482617,
          51.693542,
          66.311519,
          -37.206878,
          -36.946814,
          24.505084,
          24.413671,
          24.441761,
          24.499464,
          24.507215,
          24.438945,
          23.558574,
          23.552898,
          24.794878,
          24.800326,
          24.840713,
          24.837855,
          31.610191,
          31.258774,
          24.805135,
          24.96585,
          25.382244,
          -13.788479,
          -9.058035,
          -15.259685,
          13.922346,
          14.764957,
          10.109184,
          7.236328,
          13.834181,
          14.590258,
          13.968791,
          14.663005,
          14.569414,
          14.194428,
          14.675057,
          8.575428,
          8.20796,
          50.271685,
          50.326195,
          50.086545,
          50.342966,
          52.290573,
          50.301392,
          50.289123,
          50.262488,
          50.418903,
          50.267334,
          50.948887,
          50.554279,
          50.488655,
          50.782614,
          50.332845,
          50.340805,
          50.037717,
          50.357438,
          49.985193,
          50.798569,
          50.265419,
          50.755098,
          41.760591,
          38.740919,
          38.922865,
          40.711118,
          41.777984,
          39.871991,
          38.616023,
          38.628635,
          41.255085,
          -25.090263,
          24.951931,
          25.158405,
          44.233804,
          45.791187,
          44.904569,
          45.432181,
          46.554965,
          45.135563,
          45.512949,
          44.908949,
          44.906889,
          44.218137,
          44.4117,
          45.293492,
          44.619717,
          44.425681,
          57.84687,
          50.561942,
          53.884139,
          57.922155,
          58.71128,
          54.28041,
          51.153803,
          51.216404,
          52.356426,
          51.259297,
          54.122418,
          56.838077,
          55.27267,
          53.972626,
          56.889095,
          56.665113,
          56.797666,
          55.234911,
          52.555309,
          56.850695,
          51.242727,
          53.425716,
          55.042316,
          59.143067,
          59.767862,
          57.23226,
          56.484626,
          47.242968,
          48.80273,
          56.438839,
          54.157434,
          58.290445,
          57.147054,
          59.592376,
          52.6263,
          51.951598,
          56.902328,
          56.964075,
          58.664061,
          58.868075,
          56.088701,
          55.758689,
          55.685771,
          55.554503,
          55.323836,
          55.199924,
          55.142751,
          55.058394,
          54.998995,
          55.001774,
          56.961113,
          59.75833,
          44.881938,
          47.888083,
          48.757409,
          49.776307,
          64.647396,
          53.826383,
          27.014059,
          27.018824,
          26.239826,
          21.290402,
          26.282255,
          26.271441,
          26.244786,
          21.446313,
          24.383789,
          22.757295,
          17.297665,
          27.016523,
          26.278502,
          1.308536,
          13.825315,
          44.605263,
          44.977213,
          42.825162,
          42.987415,
          48.886028,
          48.617725,
          48.813345,
          46.423994,
          46.546667,
          46.224967,
          59.242994,
          60.383673,
          60.451159,
          60.004998,
          67.200321,
          67.638451,
          67.839319,
          56.213651,
          58.19552,
          60.136521,
          60.548682,
          59.782938,
          59.618371,
          59.223832,
          59.430744,
          60.148821,
          58.679595,
          65.561664,
          58.713772,
          60.488685,
          60.615778,
          60.02888,
          59.704264,
          34.364258,
          12.996083,
          13.058836,
          13.068201,
          12.680096,
          12.797103,
          12.677582,
          13.052398,
          14.571003,
          14.126499,
          13.657789,
          13.656995,
          13.647672,
          13.641734,
          12.819544,
          13.275832,
          13.601656,
          11.22282,
          12.695703,
          11.233029,
          12.701589,
          12.85668,
          13.022177,
          12.79453,
          10.399449,
          37.137347,
          36.80171,
          40.42752,
          37.018125,
          38.428631,
          40.768341,
          40.783601,
          36.686807,
          40.441636,
          38.727434,
          36.691086,
          41.262439,
          36.736048,
          38.751883,
          38.739587,
          41.015143,
          41.181792,
          40.801164,
          40.833327,
          41.210237,
          41.56608,
          38.738244,
          40.776638,
          40.800914,
          36.687267,
          37.019622,
          41.226747,
          41.239283,
          36.786467,
          38.74074,
          40.237417,
          41.235654,
          41.226578,
          41.212071,
          40.85445,
          40.41017,
          40.717209,
          40.720219,
          41.103907,
          24.224622,
          22.827293,
          22.763298,
          22.545593,
          25.067119,
          24.568401,
          22.563095,
          22.656322,
          22.836548,
          22.831057,
          22.535431,
          22.54641,
          23.05162,
          23.335653,
          24.312379,
          0.342055,
          48.474262,
          47.874203,
          48.480452,
          48.527172,
          47.981389,
          48.749313,
          48.170342,
          47.863607,
          47.099331,
          47.153283,
          47.867543,
          48.071226,
          48.166079,
          48.493411,
          48.717296,
          48.997397,
          -34.81024,
          38.725556,
          41.607756,
          40.605556,
          40.607853,
          40.8325,
          43.159323,
          34.983711,
          40.176299,
          40.329906,
          34.699406,
          44.657379,
          34.694094,
          38.884465,
          35.649119,
          32.34052,
          41.727671,
          43.078809,
          38.266581,
          38.415061,
          41.568783,
          34.079454,
          41.622571,
          40.386536,
          39.787708,
          37.93055,
          38.582231,
          38.727288,
          38.746214,
          41.516353,
          29.75429,
          33.969062,
          33.442108,
          39.185934,
          35.930549,
          34.43108,
          40.303923,
          40.357885,
          34.660468,
          41.443147,
          43.400533,
          41.698687,
          37.985248,
          40.087326,
          41.698911,
          39.960867,
          40.20731,
          40.790123,
          40.845346,
          39.967587,
          40.231153,
          41.673029,
          41.20853,
          40.163198,
          40.340884,
          39.907213,
          41.65559,
          41.4687,
          41.669953,
          42.301041,
          41.633378,
          39.485534,
          29.577437,
          40.47896,
          33.962272,
          33.980918,
          34.093848,
          33.534372,
          30.283318,
          33.285828,
          35.978104,
          33.207635,
          43.069946,
          40.991716,
          41.841423,
          38.229996,
          45.628624,
          41.431109,
          41.402108,
          32.458259,
          37.179169,
          41.585619,
          41.894229,
          42.202286,
          44.895442,
          34.241226,
          35.307055,
          35.340564,
          35.727641,
          40.642416,
          33.367258,
          41.513249,
          40.520258,
          41.385513,
          40.804895,
          42.802058,
          41.448775,
          40.471862,
          38.744579,
          40.315279,
          29.696179,
          38.368449,
          31.965247,
          41.785665,
          29.927194,
          41.915474,
          39.930014,
          31.148446,
          40.638571,
          40.327933,
          41.21489,
          41.625912,
          41.181216,
          47.569783,
          41.882869,
          42.0781,
          34.375928,
          34.638184,
          35.049233,
          35.90139,
          35.942921,
          31.350599,
          33.234767,
          36.352445,
          33.00473,
          39.976455,
          38.760032,
          41.428926,
          40.570778,
          42.952507,
          35.143192,
          33.545535,
          30.076448,
          32.313686,
          32.45972,
          30.08201,
          31.154533,
          34.74933,
          41.113417,
          41.482265,
          30.941497,
          45.004543,
          41.724915,
          45.228035,
          39.343727,
          40.435142,
          40.40259,
          40.390865,
          41.369893,
          41.121148,
          33.448525,
          39.875508,
          37.272927,
          38.321821,
          38.427048,
          46.043172,
          41.239715,
          40.834354,
          32.375003,
          41.672466,
          40.754073,
          40.780274,
          38.024319,
          47.414295,
          47.565252,
          35.645174,
          33.480287,
          41.620543,
          42.256745,
          40.394255,
          38.69571,
          41.627355,
          41.657356,
          40.162347,
          40.296161,
          40.33351,
          32.916857,
          41.451411,
          40.365244,
          41.125495,
          41.56438,
          41.613173,
          41.955341,
          39.449066,
          27.889718,
          41.595402,
          41.070361,
          40.239773,
          10.20368,
          8.278327,
          8.297551,
          8.33724,
          10.474792,
          10.474149,
          10.077697,
          8.28947,
          8.263598,
          8.303096,
          10.165201,
          10.20384,
          10.252388,
          10.62367,
          18.038878,
          20.947528,
          15.385665,
          21.01536,
          10.895469,
          10.595295,
          20.143528,
          10.601423,
          10.910471,
          10.957737,
          19.332983,
          10.584719,
          10.746421,
          10.560316,
          20.892136,
          10.569097,
          10.936936,
          10.921704,
          10.601828,
          10.574876,
          11.105579,
          10.887671,
          10.550622,
          16.081133,
          11.054204,
          20.889751,
          21.555756,
          21.554635,
          21.557484,
          10.591978,
          10.826112,
          10.9215,
          10.576597,
          21.560534,
          10.717285,
          22.306931,
          -26.660494,
          -27.694741,
          -32.979129,
          -26.663144,
          -26.660863,
          -33.947231,
          -25.793651,
          -32.976156,
          -25.884286,
          -29.728377,
          -26.273316,
          -27.203824,
          -25.619787,
          -29.987069,
          -18.915274
         ],
         "legendgroup": "",
         "lon": [
          13.405271,
          20.026117,
          54.480176,
          54.470987,
          54.475153,
          55.072559,
          55.058414,
          55.093726,
          56.34925,
          55.514398,
          -65.198096,
          -60.286649,
          -60.257842,
          -58.539625,
          -60.728177,
          -60.755798,
          -58.975955,
          -60.149568,
          -58.611764,
          -58.199373,
          -57.941098,
          -58.511103,
          -60.44965,
          -60.28283,
          -58.372773,
          44.639174,
          150.885281,
          145.20503,
          153.032028,
          150.849819,
          144.788169,
          137.587836,
          151.744629,
          15.500644,
          14.667944,
          15.546945,
          15.418404,
          14.656863,
          15.283079,
          14.332767,
          15.061917,
          14.792859,
          14.73982,
          15.666271,
          49.886409,
          5.509796,
          4.531989,
          4.416233,
          5.47968,
          3.807688,
          5.235437,
          4.925188,
          5.494676,
          5.466776,
          5.520855,
          3.692931,
          4.189103,
          4.227263,
          7.795943,
          4.429693,
          4.333466,
          5.437697,
          91.740169,
          91.734827,
          91.76862,
          91.81024,
          91.546568,
          91.715778,
          22.989212,
          27.295882,
          23.099229,
          50.679983,
          50.678224,
          50.678547,
          50.669087,
          17.898785,
          18.505602,
          30.35941,
          29.992252,
          -42.643162,
          -44.192582,
          -44.511737,
          -43.1306,
          -40.235543,
          -43.465857,
          -48.632341,
          -47.657576,
          -49.079903,
          -44.111205,
          -43.749415,
          -43.479802,
          -44.879285,
          -43.751023,
          -44.024426,
          -38.433312,
          -34.977168,
          -38.607259,
          -49.421697,
          -45.351304,
          -51.174543,
          -51.615722,
          -47.088448,
          -46.155852,
          -45.920223,
          -46.882013,
          -45.413562,
          -40.360882,
          -44.590902,
          -42.552629,
          -42.543737,
          -43.735625,
          -46.375453,
          -44.346453,
          -43.877478,
          -40.582788,
          -43.877319,
          -40.244719,
          -38.858662,
          -44.010111,
          -43.962919,
          -47.205493,
          -49.089814,
          -35.006253,
          -47.387118,
          -47.392827,
          -38.839305,
          -45.161643,
          -45.690689,
          -49.379677,
          -53.774033,
          -44.346012,
          -79.235554,
          -84.368822,
          -73.252253,
          -79.804217,
          -73.456647,
          -74.202862,
          -73.26465,
          -73.606281,
          -79.78609,
          -104.630721,
          -96.899991,
          -78.910219,
          -80.279304,
          -79.896656,
          -74.704608,
          -113.386731,
          -79.823015,
          -66.357231,
          -66.891681,
          -73.123999,
          -72.412211,
          -79.749057,
          -80.096124,
          -79.824398,
          7.562287,
          7.873594,
          8.268607,
          -73.129171,
          -71.247411,
          122.94421,
          117.450223,
          104.76384,
          122.986939,
          120.368355,
          122.133357,
          104.210243,
          102.205709,
          101.675036,
          104.237025,
          113.505658,
          118.998794,
          114.286617,
          109.747754,
          126.533673,
          123.754745,
          131.083002,
          129.288261,
          117.965916,
          111.303682,
          106.888178,
          118.037261,
          123.618355,
          126.001849,
          117.595172,
          126.968552,
          113.749918,
          114.144566,
          121.475617,
          87.307955,
          121.436098,
          118.484919,
          121.876347,
          114.860936,
          114.445602,
          113.636333,
          121.475482,
          118.611093,
          110.503846,
          119.651134,
          108.409138,
          114.904271,
          121.873368,
          120.764654,
          115.004087,
          121.19173,
          118.222862,
          107.049395,
          120.328071,
          115.991285,
          109.380271,
          115.090999,
          115.683417,
          113.476461,
          117.721016,
          114.565382,
          119.030843,
          118.467412,
          114.42905,
          118.214421,
          118.155195,
          118.208523,
          118.268214,
          118.679228,
          112.554357,
          102.378688,
          112.896788,
          111.962529,
          113.634577,
          123.794543,
          122.060879,
          118.982517,
          120.635041,
          114.146453,
          120.729196,
          98.293447,
          119.412404,
          122.396226,
          118.747317,
          120.572964,
          113.124075,
          120.126466,
          113.725787,
          119.35392,
          119.383046,
          117.827381,
          118.111127,
          117.62111,
          111.981381,
          106.733283,
          126.021293,
          118.506133,
          104.87792,
          113.056914,
          118.562572,
          116.676714,
          83.267181,
          123.615418,
          123.732009,
          112.541341,
          117.499299,
          118.068677,
          114.452746,
          118.106334,
          114.912549,
          116.746788,
          120.076674,
          117.81489,
          117.498606,
          111.155391,
          103.541757,
          116.281161,
          120.98041,
          120.013387,
          117.948692,
          102.311894,
          119.449457,
          117.612294,
          112.576081,
          107.454137,
          116.758475,
          111.551081,
          120.384591,
          117.537203,
          119.238373,
          113.912838,
          106.665209,
          111.532465,
          118.088107,
          104.505252,
          118.361322,
          113.198834,
          102.481921,
          109.505182,
          118.204985,
          118.574286,
          117.81734,
          106.169073,
          111.257621,
          118.215169,
          101.672272,
          106.681327,
          111.643608,
          109.635249,
          103.276757,
          102.52267,
          117.60349,
          119.636838,
          119.66952,
          120.189751,
          119.713019,
          113.445602,
          119.785397,
          119.840886,
          119.280603,
          111.428099,
          111.434452,
          114.130246,
          113.764984,
          113.753501,
          113.742926,
          114.169027,
          114.111708,
          114.095637,
          113.926067,
          118.788052,
          112.130496,
          111.541109,
          114.13668,
          117.087805,
          117.104139,
          117.287068,
          118.273822,
          118.471609,
          118.428512,
          118.410531,
          118.870553,
          118.583685,
          118.543209,
          118.733243,
          118.492762,
          109.699283,
          122.967426,
          122.929085,
          87.325105,
          85.762809,
          86.594959,
          119.439914,
          -74.769184,
          -75.628639,
          -74.250344,
          -73.222665,
          -76.514536,
          -75.572777,
          -74.76085,
          -75.447959,
          -76.419882,
          -72.88247,
          -83.74659,
          -76.96675,
          -82.273217,
          18.322798,
          18.256807,
          18.27706,
          13.357936,
          18.652057,
          18.355851,
          14.160298,
          18.273236,
          17.431134,
          14.119961,
          18.331635,
          18.251584,
          13.646606,
          14.039656,
          14.246911,
          9.898978,
          8.68769,
          14.616156,
          6.74378,
          6.971899,
          12.378116,
          13.640463,
          8.008638,
          7.552846,
          7.560716,
          7.822093,
          7.317169,
          8.717124,
          6.948457,
          6.740368,
          8.741073,
          7.500756,
          7.863574,
          7.558155,
          11.437339,
          6.745642,
          13.280386,
          13.44316,
          6.87511,
          8.050165,
          6.991986,
          6.786291,
          7.169253,
          7.348896,
          7.471082,
          8.050359,
          8.033583,
          6.739744,
          7.25354,
          10.223381,
          7.494152,
          7.590322,
          10.855292,
          12.951631,
          6.952299,
          7.172019,
          6.846589,
          6.854184,
          6.550318,
          7.517507,
          8.280888,
          8.558564,
          7.637405,
          13.214005,
          12.501079,
          8.430014,
          7.134293,
          6.692886,
          10.244138,
          10.405855,
          6.875271,
          10.696349,
          8.038164,
          7.457468,
          7.325057,
          8.024006,
          6.542608,
          6.842962,
          6.716637,
          6.726979,
          7.591919,
          8.019377,
          7.501302,
          7.084921,
          7.249118,
          7.168043,
          7.429371,
          7.978086,
          7.967782,
          7.665967,
          7.769417,
          7.696653,
          8.01631,
          8.929149,
          7.187815,
          7.645134,
          7.871432,
          7.576828,
          7.669391,
          8.484671,
          7.168685,
          7.509172,
          10.334003,
          6.69231,
          7.475391,
          12.014319,
          11.826348,
          12.009066,
          -69.945926,
          7.701535,
          6.250612,
          -0.264666,
          -79.869022,
          30.568788,
          30.550269,
          30.574573,
          30.588284,
          31.281264,
          30.882545,
          31.740241,
          32.327448,
          32.318274,
          30.563931,
          29.806663,
          31.307134,
          32.466045,
          31.452111,
          -5.426822,
          -6.578686,
          1.633424,
          -2.897722,
          -1.706625,
          -2.218654,
          -2.999093,
          -5.733342,
          -5.87259,
          -0.236179,
          -2.428008,
          -2.320988,
          1.980387,
          -3.026309,
          -3.839228,
          -6.767687,
          -8.163839,
          -0.856566,
          -5.887122,
          -2.909369,
          -2.884676,
          -2.322213,
          -2.663211,
          -4.136612,
          28.798774,
          24.182166,
          24.426179,
          24.533236,
          22.387871,
          3.490913,
          5.529043,
          5.490697,
          2.477094,
          4.064208,
          3.263747,
          6.767912,
          1.824278,
          2.778396,
          4.884571,
          2.296543,
          1.840007,
          2.447265,
          6.126414,
          5.071475,
          6.085273,
          2.286849,
          3.274179,
          4.636961,
          4.43255,
          -1.679987,
          6.153573,
          2.466351,
          4.845525,
          6.132465,
          -1.500397,
          4.282999,
          1.60467,
          2.842048,
          3.257696,
          2.747261,
          5.914719,
          3.561712,
          6.050613,
          5.736848,
          7.796473,
          2.981091,
          6.111864,
          1.561022,
          1.76245,
          2.464952,
          4.281274,
          4.265466,
          6.054115,
          6.077375,
          6.427143,
          3.958079,
          2.46952,
          2.215672,
          -2.007306,
          -1.453446,
          -3.159871,
          -3.136678,
          -1.352046,
          -1.324076,
          -2.962911,
          -1.38706,
          -1.594662,
          -0.62434,
          -3.980194,
          -0.613032,
          -1.135309,
          -1.436234,
          -1.395818,
          -1.631695,
          -1.423934,
          -3.779846,
          -3.054234,
          -4.128725,
          -2.884413,
          -0.660889,
          -1.13816,
          45.031238,
          45.026242,
          -0.001024,
          23.293695,
          22.840216,
          22.816542,
          22.891268,
          -90.816564,
          -90.58387,
          -90.645677,
          16.391655,
          20.737722,
          18.938078,
          20.334486,
          17.780426,
          20.293272,
          20.717429,
          107.08653,
          106.010925,
          122.160715,
          107.116622,
          98.665206,
          107.082513,
          112.613225,
          112.623652,
          112.702769,
          106.013036,
          106.021473,
          105.975976,
          112.682827,
          107.089341,
          105.9543,
          98.665696,
          112.680526,
          112.74339,
          106.930807,
          106.59067,
          112.705978,
          106.926251,
          106.925082,
          106.034851,
          115.949935,
          105.999861,
          106.909232,
          112.619574,
          110.409674,
          107.039307,
          106.982636,
          72.643813,
          73.796152,
          83.274564,
          86.647655,
          76.377767,
          73.037536,
          77.914704,
          76.65684,
          84.022268,
          83.238133,
          78.900765,
          73.256858,
          72.741812,
          81.676444,
          86.051986,
          75.773075,
          83.187434,
          85.324431,
          84.991034,
          83.346694,
          85.473877,
          88.46118,
          74.822771,
          76.251696,
          73.000812,
          82.167762,
          86.019102,
          87.281773,
          73.345484,
          83.193191,
          86.101459,
          86.917455,
          87.249552,
          81.390632,
          84.866972,
          78.026745,
          87.275935,
          79.333217,
          75.702087,
          83.161135,
          79.632398,
          86.010815,
          86.201882,
          87.287179,
          85.260538,
          86.236177,
          85.465842,
          72.733898,
          73.289829,
          77.331907,
          85.750131,
          77.801268,
          73.667178,
          85.427581,
          75.95079,
          86.060744,
          73.913357,
          72.947091,
          80.560423,
          73.260735,
          80.532491,
          86.866906,
          70.251109,
          70.167556,
          70.085398,
          76.205088,
          70.181142,
          80.108701,
          80.08762,
          79.989552,
          78.043236,
          76.31651,
          74.027732,
          76.227753,
          76.287323,
          74.01016,
          73.994192,
          79.220082,
          88.126162,
          86.076298,
          72.967997,
          86.045427,
          79.00269,
          79.119255,
          81.637587,
          81.679982,
          85.435234,
          85.567219,
          82.053273,
          73.077461,
          78.638879,
          78.492358,
          86.085473,
          86.234198,
          86.134012,
          88.372253,
          75.598237,
          88.337702,
          73.35036,
          85.365033,
          82.671233,
          72.744648,
          75.855731,
          79.120067,
          76.58241,
          73.33989,
          76.842644,
          76.317017,
          75.960442,
          75.897013,
          75.907098,
          53.7566,
          53.747706,
          51.331572,
          56.102302,
          48.569093,
          59.007349,
          53.751817,
          56.661402,
          56.821283,
          56.736539,
          51.982208,
          48.733467,
          51.420695,
          58.674283,
          52.843385,
          56.098861,
          49.610983,
          11.498998,
          11.526487,
          7.206616,
          10.087098,
          10.135682,
          9.839718,
          11.337023,
          11.440394,
          10.209114,
          10.365387,
          10.38556,
          11.906625,
          13.089066,
          10.820144,
          10.248234,
          15.03287,
          8.861734,
          17.204776,
          14.974159,
          8.762981,
          7.329759,
          13.254957,
          13.215433,
          10.457274,
          9.401349,
          10.331967,
          10.380199,
          9.428217,
          9.945776,
          13.779254,
          8.932894,
          13.226359,
          9.075547,
          10.178554,
          10.371507,
          13.393409,
          10.368162,
          10.536928,
          13.076014,
          15.829833,
          11.001441,
          10.374305,
          8.292109,
          10.535195,
          10.071382,
          13.232177,
          10.574761,
          12.244736,
          10.430081,
          9.581571,
          9.458359,
          9.376107,
          12.113475,
          10.630185,
          10.313571,
          11.071172,
          15.30063,
          8.268643,
          10.209234,
          12.014532,
          13.232582,
          10.065434,
          10.2147,
          13.513228,
          9.929161,
          9.035447,
          10.344968,
          10.339467,
          7.944998,
          10.276148,
          9.302716,
          9.313509,
          10.780119,
          13.223414,
          11.069116,
          11.448063,
          9.597408,
          12.669834,
          10.291039,
          36.143328,
          36.095164,
          136.90094,
          136.867455,
          139.008302,
          136.914823,
          139.886842,
          139.746106,
          139.734389,
          135.428537,
          134.669411,
          139.964104,
          134.658473,
          140.731968,
          139.883131,
          133.724582,
          133.430255,
          140.099325,
          136.929913,
          141.012963,
          139.723434,
          139.736673,
          133.682425,
          140.126977,
          135.342564,
          141.277996,
          135.248427,
          134.824766,
          134.775345,
          135.677444,
          131.173031,
          136.815384,
          135.430119,
          135.459688,
          135.473681,
          135.36948,
          135.45439,
          139.30719,
          130.667792,
          139.823295,
          135.133418,
          141.002903,
          140.678769,
          131.645286,
          130.841399,
          132.540239,
          136.870373,
          139.864516,
          135.412969,
          135.429563,
          135.448163,
          135.454451,
          135.439072,
          134.625301,
          141.870241,
          138.258042,
          133.105543,
          131.933436,
          135.193409,
          139.675708,
          130.882435,
          134.671394,
          134.639835,
          133.745418,
          137.248287,
          139.992946,
          130.760708,
          141.483048,
          139.830965,
          137.321822,
          134.604537,
          132.543778,
          139.953995,
          135.395723,
          135.434216,
          135.392562,
          131.868008,
          131.776647,
          136.560001,
          136.866197,
          133.249284,
          139.757729,
          139.952761,
          73.025564,
          63.137254,
          36.91674,
          104.891861,
          128.860672,
          128.959021,
          126.841516,
          129.36693,
          129.370088,
          126.638143,
          129.073164,
          126.768771,
          126.697262,
          127.584633,
          129.376941,
          128.610278,
          126.639474,
          129.389985,
          126.756799,
          126.670175,
          126.751199,
          128.638177,
          126.616956,
          129.381206,
          128.487829,
          128.978854,
          128.862714,
          129.389721,
          127.751958,
          129.374069,
          126.609805,
          126.575005,
          128.606893,
          128.651827,
          128.439137,
          127.944619,
          127.590746,
          129.375791,
          128.828837,
          128.988825,
          128.451551,
          48.1285137,
          48.133985,
          15.217708,
          79.996177,
          79.850663,
          5.835525,
          6.051096,
          5.89782,
          5.994302,
          5.957086,
          6.134253,
          6.082857,
          21.028033,
          -8.604141,
          -2.969656,
          -7.4757865,
          -7.433887,
          -7.467363,
          29.026045,
          -102.203479,
          -100.915200511102,
          -100.924697,
          -100.96337,
          -100.923877,
          -100.200082,
          -98.597461,
          -99.180315,
          -99.122893,
          -101.416574,
          -101.458171,
          -98.088777,
          -98.29058,
          -103.340059,
          -115.350557,
          -100.91885,
          -100.888794,
          -97.898109,
          -100.399922,
          -97.046133,
          -98.317066,
          -103.354578,
          -100.193052,
          -100.272827,
          -100.301008,
          -99.965278,
          -101.426601,
          -100.226424,
          -96.238678,
          21.470445,
          21.46605,
          96.140141,
          18.983656,
          105.958784,
          103.985634,
          100.377598,
          101.537011,
          103.432551,
          101.399322,
          102.293522,
          101.474877,
          101.459081,
          103.917306,
          101.594008,
          101.630503,
          101.46448,
          101.485413,
          100.417582,
          101.327517,
          103.917026,
          100.406627,
          100.382177,
          102.28682,
          101.673644,
          101.531871,
          115.242717,
          103.461346,
          100.49907,
          110.388895,
          103.248504,
          101.397046,
          8.501672,
          5.769321,
          6.689364,
          7.574896,
          3.347138,
          3.619435,
          4.661858,
          6.039018,
          3.843638,
          4.612255,
          4.594414,
          14.167557,
          174.728098,
          174.823647,
          56.603724,
          56.522222,
          56.60152,
          56.597867,
          56.592435,
          56.59483,
          58.215763,
          58.199907,
          67.353327,
          67.504851,
          67.34738,
          67.231431,
          74.362308,
          74.132858,
          67.346694,
          67.022604,
          66.676192,
          -76.170498,
          -78.602083,
          -75.239735,
          120.823796,
          121.008036,
          123.670948,
          125.630996,
          121.185566,
          121.111062,
          120.728447,
          121.008697,
          121.048075,
          121.155947,
          121.01612,
          124.762771,
          124.210567,
          18.94343,
          19.176923,
          20.096564,
          19.290336,
          20.914861,
          18.957656,
          18.910047,
          19.164361,
          18.142889,
          19.002732,
          21.449604,
          22.051602,
          19.45788,
          19.165566,
          18.830994,
          19.337774,
          18.486666,
          18.610739,
          20.443308,
          19.186544,
          18.962908,
          16.243754,
          129.754269,
          125.616793,
          125.582098,
          129.235031,
          129.791476,
          -8.940271,
          -9.068527,
          -9.077787,
          -8.555285,
          -57.512192,
          51.585023,
          51.403472,
          27.307159,
          22.921772,
          25.458124,
          27.979136,
          23.869248,
          26.81841,
          22.339896,
          25.443525,
          25.442725,
          27.301122,
          24.401386,
          21.90241,
          22.640982,
          26.100967,
          61.711034,
          136.974213,
          87.261993,
          60.020442,
          59.510656,
          85.936625,
          37.939643,
          58.360079,
          35.392289,
          37.655835,
          37.557189,
          53.182708,
          61.430781,
          58.391778,
          60.768327,
          59.311241,
          59.943317,
          36.678477,
          39.632428,
          60.542914,
          37.791454,
          59.047581,
          59.02294,
          37.865279,
          30.548469,
          59.321557,
          60.242025,
          38.927369,
          44.801082,
          61.911905,
          37.72472,
          57.806468,
          65.606532,
          60.589388,
          39.652499,
          47.772946,
          59.991192,
          40.776081,
          52.185431,
          57.55895,
          93.000222,
          38.467576,
          52.269927,
          37.76367,
          42.150825,
          59.640853,
          61.493141,
          32.762886,
          57.266694,
          82.858311,
          60.576771,
          30.57615,
          38.12751,
          40.067677,
          44.562194,
          43.680496,
          30.747099,
          34.407584,
          49.532571,
          49.579944,
          49.989045,
          39.183444,
          49.955705,
          49.95602,
          49.969064,
          39.591944,
          47.244601,
          39.070958,
          42.352008,
          49.530993,
          49.9491,
          103.701188,
          -89.265449,
          20.971057,
          19.64601,
          20.939255,
          21.969139,
          21.82705,
          21.19705,
          19.561899,
          14.094645,
          14.953826,
          15.30207,
          14.241651,
          17.241051,
          16.034368,
          15.78298,
          20.69917,
          21.010976,
          20.17632,
          15.277373,
          15.038822,
          15.413803,
          16.302815,
          14.499452,
          16.213846,
          14.429805,
          16.463072,
          16.172808,
          17.125589,
          22.214243,
          15.765718,
          15.447937,
          16.794299,
          13.686042,
          16.209941,
          36.803848,
          101.19757,
          101.077447,
          101.196923,
          101.136996,
          101.195342,
          101.149401,
          101.086795,
          100.754662,
          100.601202,
          100.541662,
          100.573422,
          100.553882,
          100.583449,
          101.152954,
          100.969791,
          100.563551,
          99.542887,
          101.110807,
          99.54137,
          101.112404,
          101.214285,
          101.193123,
          101.245691,
          -61.486197,
          9.816961,
          10.288372,
          29.270141,
          36.095154,
          27.224124,
          29.530167,
          29.533655,
          36.20698,
          27.138928,
          26.939593,
          36.205016,
          31.426351,
          36.206399,
          26.950018,
          26.928562,
          27.960024,
          32.634638,
          29.374083,
          29.55666,
          32.647968,
          32.428199,
          26.947524,
          30.045298,
          29.511521,
          36.214305,
          36.110136,
          36.44724,
          36.442536,
          36.215474,
          26.951743,
          28.966338,
          32.644644,
          27.882617,
          31.465548,
          29.425431,
          29.094722,
          30.040044,
          30.404426,
          30.675052,
          120.492216,
          120.30027,
          120.275835,
          120.354641,
          121.141176,
          120.74062,
          120.362654,
          120.498657,
          120.285878,
          120.300298,
          120.36771,
          120.371975,
          120.266025,
          120.285384,
          120.712619,
          32.700784,
          38.766488,
          33.392972,
          34.979087,
          34.635357,
          37.809297,
          37.569408,
          37.700787,
          35.141373,
          37.593031,
          37.564217,
          35.162965,
          37.942683,
          33.551059,
          35.091048,
          26.599849,
          33.668228,
          -56.100269,
          -85.074204,
          -70.904835,
          -79.568077,
          -79.730184,
          -81.270896,
          -78.711628,
          -80.513377,
          -80.274581,
          -79.370766,
          -86.699544,
          -123.064342,
          -80.983444,
          -90.14579,
          -91.244653,
          -93.609639,
          -85.959739,
          -75.342435,
          -82.577218,
          -82.384394,
          -84.04757,
          -117.499835,
          -87.1789,
          -80.605335,
          -85.737811,
          -86.775768,
          -90.251986,
          -90.143817,
          -90.129679,
          -86.669046,
          -95.109565,
          -81.0305,
          -86.973072,
          -76.74413,
          -89.776338,
          -80.167466,
          -79.37083,
          -75.942046,
          -86.955643,
          -81.659911,
          -87.9482,
          -86.462271,
          -87.026273,
          -75.318022,
          -86.467656,
          -81.998604,
          -81.882036,
          -82.526239,
          -79.921433,
          -75.813764,
          -76.840391,
          -83.478339,
          -80.816898,
          -79.886052,
          -80.604312,
          -82.946315,
          -87.626612,
          -81.673561,
          -87.430406,
          -83.161179,
          -87.129285,
          -84.381425,
          -98.032265,
          -74.321031,
          -81.052011,
          -96.344297,
          -117.532215,
          -86.75773,
          -81.978607,
          -111.586561,
          -83.956572,
          -93.226808,
          -76.212652,
          -80.351843,
          -79.269799,
          -104.605958,
          -122.782527,
          -79.716236,
          -79.846302,
          -97.036626,
          -77.447765,
          -91.042801,
          -83.358697,
          -84.361417,
          -93.010716,
          -84.799539,
          -94.372912,
          -80.827072,
          -88.80805,
          -89.649601,
          -79.292515,
          -87.621438,
          -81.460042,
          -81.462276,
          -81.336243,
          -78.840817,
          -82.136518,
          -86.159888,
          -90.131776,
          -80.605906,
          -94.898126,
          -82.765111,
          -106.584732,
          -89.709442,
          -95.65376,
          -83.368668,
          -85.394939,
          -87.990521,
          -77.571765,
          -80.597645,
          -80.510309,
          -87.159989,
          -87.856769,
          -122.367893,
          -112.196776,
          -97.361599,
          -79.896917,
          -87.087798,
          -90.162456,
          -89.775786,
          -89.714789,
          -96.165748,
          -87.508365,
          -76.812605,
          -79.882403,
          -86.830921,
          -84.996675,
          -72.845755,
          -83.139019,
          -76.572801,
          -114.089568,
          -86.805393,
          -90.860257,
          -90.135737,
          -94.739374,
          -94.074694,
          -87.983607,
          -81.039363,
          -83.966828,
          -90.821741,
          -88.012168,
          -93.205852,
          -87.589968,
          -123.163599,
          -87.421039,
          -79.969447,
          -79.830308,
          -79.932085,
          -84.917951,
          -85.345376,
          -88.572617,
          -86.484214,
          -79.998828,
          -85.671718,
          -82.42618,
          -122.869758,
          -80.846297,
          -80.318317,
          -93.645977,
          -72.908221,
          -81.438866,
          -81.397189,
          -121.862962,
          -93.063987,
          -92.636058,
          -89.941984,
          -86.936541,
          -87.351363,
          -83.126719,
          -79.857597,
          -90.138961,
          -87.172864,
          -87.472123,
          -74.744352,
          -79.871269,
          -79.902221,
          -94.718592,
          -82.121393,
          -80.101322,
          -80.683382,
          -84.062649,
          -87.103807,
          -83.349836,
          -84.343364,
          -97.280283,
          -83.506854,
          -85.170766,
          69.290878,
          -67.336028,
          -62.827573,
          -62.780109,
          -62.723646,
          -66.96255,
          -66.601165,
          -69.3816,
          -62.806021,
          -62.84426,
          -62.781008,
          -67.951991,
          -71.279072,
          -67.178066,
          107.045967,
          106.432112,
          106.027502,
          108.793537,
          106.536023,
          106.750105,
          107.044846,
          105.898177,
          107.040679,
          106.776692,
          106.695639,
          105.772222,
          107.045162,
          106.927563,
          107.02684,
          106.613705,
          107.029858,
          106.720886,
          106.746508,
          107.044933,
          107.038919,
          106.675094,
          106.748257,
          107.043015,
          108.141238,
          106.615962,
          106.611681,
          105.874378,
          105.874486,
          105.8728,
          107.044978,
          106.759059,
          106.85391,
          107.028995,
          105.867483,
          106.906725,
          104.12992,
          27.817579,
          30.016507,
          18.023302,
          27.941089,
          27.854992,
          18.690743,
          29.498983,
          17.9939,
          29.095358,
          30.603592,
          28.163761,
          22.900966,
          27.219094,
          30.93088,
          29.82408
         ],
         "marker": {
          "color": "fuchsia"
         },
         "mode": "markers",
         "name": "",
         "showlegend": false,
         "subplot": "mapbox",
         "type": "scattermapbox"
        }
       ],
       "layout": {
        "height": 560,
        "legend": {
         "tracegroupgap": 0
        },
        "mapbox": {
         "center": {
          "lat": 31.952939742009136,
          "lon": 32.58274775762759
         },
         "domain": {
          "x": [
           0,
           1
          ],
          "y": [
           0,
           1
          ]
         },
         "style": "open-street-map",
         "zoom": 1
        },
        "margin": {
         "b": 0,
         "l": 0,
         "r": 0,
         "t": 0
        },
        "template": {
         "data": {
          "bar": [
           {
            "error_x": {
             "color": "#2a3f5f"
            },
            "error_y": {
             "color": "#2a3f5f"
            },
            "marker": {
             "line": {
              "color": "#E5ECF6",
              "width": 0.5
             },
             "pattern": {
              "fillmode": "overlay",
              "size": 10,
              "solidity": 0.2
             }
            },
            "type": "bar"
           }
          ],
          "barpolar": [
           {
            "marker": {
             "line": {
              "color": "#E5ECF6",
              "width": 0.5
             },
             "pattern": {
              "fillmode": "overlay",
              "size": 10,
              "solidity": 0.2
             }
            },
            "type": "barpolar"
           }
          ],
          "carpet": [
           {
            "aaxis": {
             "endlinecolor": "#2a3f5f",
             "gridcolor": "white",
             "linecolor": "white",
             "minorgridcolor": "white",
             "startlinecolor": "#2a3f5f"
            },
            "baxis": {
             "endlinecolor": "#2a3f5f",
             "gridcolor": "white",
             "linecolor": "white",
             "minorgridcolor": "white",
             "startlinecolor": "#2a3f5f"
            },
            "type": "carpet"
           }
          ],
          "choropleth": [
           {
            "colorbar": {
             "outlinewidth": 0,
             "ticks": ""
            },
            "type": "choropleth"
           }
          ],
          "contour": [
           {
            "colorbar": {
             "outlinewidth": 0,
             "ticks": ""
            },
            "colorscale": [
             [
              0,
              "#0d0887"
             ],
             [
              0.1111111111111111,
              "#46039f"
             ],
             [
              0.2222222222222222,
              "#7201a8"
             ],
             [
              0.3333333333333333,
              "#9c179e"
             ],
             [
              0.4444444444444444,
              "#bd3786"
             ],
             [
              0.5555555555555556,
              "#d8576b"
             ],
             [
              0.6666666666666666,
              "#ed7953"
             ],
             [
              0.7777777777777778,
              "#fb9f3a"
             ],
             [
              0.8888888888888888,
              "#fdca26"
             ],
             [
              1,
              "#f0f921"
             ]
            ],
            "type": "contour"
           }
          ],
          "contourcarpet": [
           {
            "colorbar": {
             "outlinewidth": 0,
             "ticks": ""
            },
            "type": "contourcarpet"
           }
          ],
          "heatmap": [
           {
            "colorbar": {
             "outlinewidth": 0,
             "ticks": ""
            },
            "colorscale": [
             [
              0,
              "#0d0887"
             ],
             [
              0.1111111111111111,
              "#46039f"
             ],
             [
              0.2222222222222222,
              "#7201a8"
             ],
             [
              0.3333333333333333,
              "#9c179e"
             ],
             [
              0.4444444444444444,
              "#bd3786"
             ],
             [
              0.5555555555555556,
              "#d8576b"
             ],
             [
              0.6666666666666666,
              "#ed7953"
             ],
             [
              0.7777777777777778,
              "#fb9f3a"
             ],
             [
              0.8888888888888888,
              "#fdca26"
             ],
             [
              1,
              "#f0f921"
             ]
            ],
            "type": "heatmap"
           }
          ],
          "heatmapgl": [
           {
            "colorbar": {
             "outlinewidth": 0,
             "ticks": ""
            },
            "colorscale": [
             [
              0,
              "#0d0887"
             ],
             [
              0.1111111111111111,
              "#46039f"
             ],
             [
              0.2222222222222222,
              "#7201a8"
             ],
             [
              0.3333333333333333,
              "#9c179e"
             ],
             [
              0.4444444444444444,
              "#bd3786"
             ],
             [
              0.5555555555555556,
              "#d8576b"
             ],
             [
              0.6666666666666666,
              "#ed7953"
             ],
             [
              0.7777777777777778,
              "#fb9f3a"
             ],
             [
              0.8888888888888888,
              "#fdca26"
             ],
             [
              1,
              "#f0f921"
             ]
            ],
            "type": "heatmapgl"
           }
          ],
          "histogram": [
           {
            "marker": {
             "pattern": {
              "fillmode": "overlay",
              "size": 10,
              "solidity": 0.2
             }
            },
            "type": "histogram"
           }
          ],
          "histogram2d": [
           {
            "colorbar": {
             "outlinewidth": 0,
             "ticks": ""
            },
            "colorscale": [
             [
              0,
              "#0d0887"
             ],
             [
              0.1111111111111111,
              "#46039f"
             ],
             [
              0.2222222222222222,
              "#7201a8"
             ],
             [
              0.3333333333333333,
              "#9c179e"
             ],
             [
              0.4444444444444444,
              "#bd3786"
             ],
             [
              0.5555555555555556,
              "#d8576b"
             ],
             [
              0.6666666666666666,
              "#ed7953"
             ],
             [
              0.7777777777777778,
              "#fb9f3a"
             ],
             [
              0.8888888888888888,
              "#fdca26"
             ],
             [
              1,
              "#f0f921"
             ]
            ],
            "type": "histogram2d"
           }
          ],
          "histogram2dcontour": [
           {
            "colorbar": {
             "outlinewidth": 0,
             "ticks": ""
            },
            "colorscale": [
             [
              0,
              "#0d0887"
             ],
             [
              0.1111111111111111,
              "#46039f"
             ],
             [
              0.2222222222222222,
              "#7201a8"
             ],
             [
              0.3333333333333333,
              "#9c179e"
             ],
             [
              0.4444444444444444,
              "#bd3786"
             ],
             [
              0.5555555555555556,
              "#d8576b"
             ],
             [
              0.6666666666666666,
              "#ed7953"
             ],
             [
              0.7777777777777778,
              "#fb9f3a"
             ],
             [
              0.8888888888888888,
              "#fdca26"
             ],
             [
              1,
              "#f0f921"
             ]
            ],
            "type": "histogram2dcontour"
           }
          ],
          "mesh3d": [
           {
            "colorbar": {
             "outlinewidth": 0,
             "ticks": ""
            },
            "type": "mesh3d"
           }
          ],
          "parcoords": [
           {
            "line": {
             "colorbar": {
              "outlinewidth": 0,
              "ticks": ""
             }
            },
            "type": "parcoords"
           }
          ],
          "pie": [
           {
            "automargin": true,
            "type": "pie"
           }
          ],
          "scatter": [
           {
            "fillpattern": {
             "fillmode": "overlay",
             "size": 10,
             "solidity": 0.2
            },
            "type": "scatter"
           }
          ],
          "scatter3d": [
           {
            "line": {
             "colorbar": {
              "outlinewidth": 0,
              "ticks": ""
             }
            },
            "marker": {
             "colorbar": {
              "outlinewidth": 0,
              "ticks": ""
             }
            },
            "type": "scatter3d"
           }
          ],
          "scattercarpet": [
           {
            "marker": {
             "colorbar": {
              "outlinewidth": 0,
              "ticks": ""
             }
            },
            "type": "scattercarpet"
           }
          ],
          "scattergeo": [
           {
            "marker": {
             "colorbar": {
              "outlinewidth": 0,
              "ticks": ""
             }
            },
            "type": "scattergeo"
           }
          ],
          "scattergl": [
           {
            "marker": {
             "colorbar": {
              "outlinewidth": 0,
              "ticks": ""
             }
            },
            "type": "scattergl"
           }
          ],
          "scattermapbox": [
           {
            "marker": {
             "colorbar": {
              "outlinewidth": 0,
              "ticks": ""
             }
            },
            "type": "scattermapbox"
           }
          ],
          "scatterpolar": [
           {
            "marker": {
             "colorbar": {
              "outlinewidth": 0,
              "ticks": ""
             }
            },
            "type": "scatterpolar"
           }
          ],
          "scatterpolargl": [
           {
            "marker": {
             "colorbar": {
              "outlinewidth": 0,
              "ticks": ""
             }
            },
            "type": "scatterpolargl"
           }
          ],
          "scatterternary": [
           {
            "marker": {
             "colorbar": {
              "outlinewidth": 0,
              "ticks": ""
             }
            },
            "type": "scatterternary"
           }
          ],
          "surface": [
           {
            "colorbar": {
             "outlinewidth": 0,
             "ticks": ""
            },
            "colorscale": [
             [
              0,
              "#0d0887"
             ],
             [
              0.1111111111111111,
              "#46039f"
             ],
             [
              0.2222222222222222,
              "#7201a8"
             ],
             [
              0.3333333333333333,
              "#9c179e"
             ],
             [
              0.4444444444444444,
              "#bd3786"
             ],
             [
              0.5555555555555556,
              "#d8576b"
             ],
             [
              0.6666666666666666,
              "#ed7953"
             ],
             [
              0.7777777777777778,
              "#fb9f3a"
             ],
             [
              0.8888888888888888,
              "#fdca26"
             ],
             [
              1,
              "#f0f921"
             ]
            ],
            "type": "surface"
           }
          ],
          "table": [
           {
            "cells": {
             "fill": {
              "color": "#EBF0F8"
             },
             "line": {
              "color": "white"
             }
            },
            "header": {
             "fill": {
              "color": "#C8D4E3"
             },
             "line": {
              "color": "white"
             }
            },
            "type": "table"
           }
          ]
         },
         "layout": {
          "annotationdefaults": {
           "arrowcolor": "#2a3f5f",
           "arrowhead": 0,
           "arrowwidth": 1
          },
          "autotypenumbers": "strict",
          "coloraxis": {
           "colorbar": {
            "outlinewidth": 0,
            "ticks": ""
           }
          },
          "colorscale": {
           "diverging": [
            [
             0,
             "#8e0152"
            ],
            [
             0.1,
             "#c51b7d"
            ],
            [
             0.2,
             "#de77ae"
            ],
            [
             0.3,
             "#f1b6da"
            ],
            [
             0.4,
             "#fde0ef"
            ],
            [
             0.5,
             "#f7f7f7"
            ],
            [
             0.6,
             "#e6f5d0"
            ],
            [
             0.7,
             "#b8e186"
            ],
            [
             0.8,
             "#7fbc41"
            ],
            [
             0.9,
             "#4d9221"
            ],
            [
             1,
             "#276419"
            ]
           ],
           "sequential": [
            [
             0,
             "#0d0887"
            ],
            [
             0.1111111111111111,
             "#46039f"
            ],
            [
             0.2222222222222222,
             "#7201a8"
            ],
            [
             0.3333333333333333,
             "#9c179e"
            ],
            [
             0.4444444444444444,
             "#bd3786"
            ],
            [
             0.5555555555555556,
             "#d8576b"
            ],
            [
             0.6666666666666666,
             "#ed7953"
            ],
            [
             0.7777777777777778,
             "#fb9f3a"
            ],
            [
             0.8888888888888888,
             "#fdca26"
            ],
            [
             1,
             "#f0f921"
            ]
           ],
           "sequentialminus": [
            [
             0,
             "#0d0887"
            ],
            [
             0.1111111111111111,
             "#46039f"
            ],
            [
             0.2222222222222222,
             "#7201a8"
            ],
            [
             0.3333333333333333,
             "#9c179e"
            ],
            [
             0.4444444444444444,
             "#bd3786"
            ],
            [
             0.5555555555555556,
             "#d8576b"
            ],
            [
             0.6666666666666666,
             "#ed7953"
            ],
            [
             0.7777777777777778,
             "#fb9f3a"
            ],
            [
             0.8888888888888888,
             "#fdca26"
            ],
            [
             1,
             "#f0f921"
            ]
           ]
          },
          "colorway": [
           "#636efa",
           "#EF553B",
           "#00cc96",
           "#ab63fa",
           "#FFA15A",
           "#19d3f3",
           "#FF6692",
           "#B6E880",
           "#FF97FF",
           "#FECB52"
          ],
          "font": {
           "color": "#2a3f5f"
          },
          "geo": {
           "bgcolor": "white",
           "lakecolor": "white",
           "landcolor": "#E5ECF6",
           "showlakes": true,
           "showland": true,
           "subunitcolor": "white"
          },
          "hoverlabel": {
           "align": "left"
          },
          "hovermode": "closest",
          "mapbox": {
           "style": "light"
          },
          "paper_bgcolor": "white",
          "plot_bgcolor": "#E5ECF6",
          "polar": {
           "angularaxis": {
            "gridcolor": "white",
            "linecolor": "white",
            "ticks": ""
           },
           "bgcolor": "#E5ECF6",
           "radialaxis": {
            "gridcolor": "white",
            "linecolor": "white",
            "ticks": ""
           }
          },
          "scene": {
           "xaxis": {
            "backgroundcolor": "#E5ECF6",
            "gridcolor": "white",
            "gridwidth": 2,
            "linecolor": "white",
            "showbackground": true,
            "ticks": "",
            "zerolinecolor": "white"
           },
           "yaxis": {
            "backgroundcolor": "#E5ECF6",
            "gridcolor": "white",
            "gridwidth": 2,
            "linecolor": "white",
            "showbackground": true,
            "ticks": "",
            "zerolinecolor": "white"
           },
           "zaxis": {
            "backgroundcolor": "#E5ECF6",
            "gridcolor": "white",
            "gridwidth": 2,
            "linecolor": "white",
            "showbackground": true,
            "ticks": "",
            "zerolinecolor": "white"
           }
          },
          "shapedefaults": {
           "line": {
            "color": "#2a3f5f"
           }
          },
          "ternary": {
           "aaxis": {
            "gridcolor": "white",
            "linecolor": "white",
            "ticks": ""
           },
           "baxis": {
            "gridcolor": "white",
            "linecolor": "white",
            "ticks": ""
           },
           "bgcolor": "#E5ECF6",
           "caxis": {
            "gridcolor": "white",
            "linecolor": "white",
            "ticks": ""
           }
          },
          "title": {
           "x": 0.05
          },
          "xaxis": {
           "automargin": true,
           "gridcolor": "white",
           "linecolor": "white",
           "ticks": "",
           "title": {
            "standoff": 15
           },
           "zerolinecolor": "white",
           "zerolinewidth": 2
          },
          "yaxis": {
           "automargin": true,
           "gridcolor": "white",
           "linecolor": "white",
           "ticks": "",
           "title": {
            "standoff": 15
           },
           "zerolinecolor": "white",
           "zerolinewidth": 2
          }
         }
        },
        "width": 1000
       }
      }
     },
     "metadata": {},
     "output_type": "display_data"
    }
   ],
   "source": [
    "import plotly.express as px\n",
    "\n",
    "fig = px.scatter_mapbox(steel, lat=\"latitude\", lon=\"longitude\", hover_name=\"uid\", hover_data=[\"city\", \"country\"],\n",
    "                        color_discrete_sequence=[\"fuchsia\"], \n",
    "                        zoom=1, \n",
    "                        height=560,width=1000,\n",
    "                        labels={\"title\" :\"Oxford steel plants\"})\n",
    "fig.update_layout(mapbox_style=\"open-street-map\")\n",
    "fig.update_layout(margin={\"r\":0,\"t\":0,\"l\":0,\"b\":0})\n",
    "fig.show()"
   ]
  },
  {
   "attachments": {},
   "cell_type": "markdown",
   "metadata": {},
   "source": [
    "## Cement plants"
   ]
  },
  {
   "cell_type": "code",
   "execution_count": null,
   "metadata": {},
   "outputs": [],
   "source": [
    "CEMENT_PATH = \"C:/Users/hamada.saleh/Documents/Python Scripts/bottom_up_alignment/data/raw/SFI-Global-Cement-Database-July-2021.xlsx\""
   ]
  },
  {
   "cell_type": "code",
   "execution_count": null,
   "metadata": {},
   "outputs": [],
   "source": [
    "cement = pd.read_excel(CEMENT_PATH, sheet_name=\"SFI_ALD_Cement_Database\")"
   ]
  },
  {
   "cell_type": "code",
   "execution_count": null,
   "metadata": {},
   "outputs": [
    {
     "data": {
      "text/html": [
       "<div>\n",
       "<style scoped>\n",
       "    .dataframe tbody tr th:only-of-type {\n",
       "        vertical-align: middle;\n",
       "    }\n",
       "\n",
       "    .dataframe tbody tr th {\n",
       "        vertical-align: top;\n",
       "    }\n",
       "\n",
       "    .dataframe thead th {\n",
       "        text-align: right;\n",
       "    }\n",
       "</style>\n",
       "<table border=\"1\" class=\"dataframe\">\n",
       "  <thead>\n",
       "    <tr style=\"text-align: right;\">\n",
       "      <th></th>\n",
       "      <th>uid</th>\n",
       "      <th>city</th>\n",
       "      <th>state</th>\n",
       "      <th>country</th>\n",
       "      <th>iso3</th>\n",
       "      <th>country_code</th>\n",
       "      <th>region</th>\n",
       "      <th>sub_region</th>\n",
       "      <th>latitude</th>\n",
       "      <th>longitude</th>\n",
       "      <th>...</th>\n",
       "      <th>parent_holding_status</th>\n",
       "      <th>parent_ticker</th>\n",
       "      <th>parent_exchange</th>\n",
       "      <th>parent_permid_2</th>\n",
       "      <th>parent_name_2</th>\n",
       "      <th>ownership_stake_2</th>\n",
       "      <th>parent_lei_2</th>\n",
       "      <th>parent_holding_status_2</th>\n",
       "      <th>parent_ticker_2</th>\n",
       "      <th>parent_exchange_2</th>\n",
       "    </tr>\n",
       "  </thead>\n",
       "  <tbody>\n",
       "    <tr>\n",
       "      <th>0</th>\n",
       "      <td>GACTAFG0001</td>\n",
       "      <td>Pol-e Khomri</td>\n",
       "      <td>Baghlan</td>\n",
       "      <td>Afghanistan</td>\n",
       "      <td>AFG</td>\n",
       "      <td>4.0</td>\n",
       "      <td>Asia</td>\n",
       "      <td>Southern Asia</td>\n",
       "      <td>35.965800</td>\n",
       "      <td>68.686338</td>\n",
       "      <td>...</td>\n",
       "      <td>NaN</td>\n",
       "      <td>NaN</td>\n",
       "      <td>NaN</td>\n",
       "      <td>NaN</td>\n",
       "      <td>NaN</td>\n",
       "      <td>NaN</td>\n",
       "      <td>NaN</td>\n",
       "      <td>NaN</td>\n",
       "      <td>NaN</td>\n",
       "      <td>NaN</td>\n",
       "    </tr>\n",
       "    <tr>\n",
       "      <th>1</th>\n",
       "      <td>GACTAFG0002</td>\n",
       "      <td>Injil</td>\n",
       "      <td>Herat</td>\n",
       "      <td>Afghanistan</td>\n",
       "      <td>AFG</td>\n",
       "      <td>4.0</td>\n",
       "      <td>Asia</td>\n",
       "      <td>Southern Asia</td>\n",
       "      <td>34.322144</td>\n",
       "      <td>61.953503</td>\n",
       "      <td>...</td>\n",
       "      <td>NaN</td>\n",
       "      <td>NaN</td>\n",
       "      <td>NaN</td>\n",
       "      <td>NaN</td>\n",
       "      <td>NaN</td>\n",
       "      <td>NaN</td>\n",
       "      <td>NaN</td>\n",
       "      <td>NaN</td>\n",
       "      <td>NaN</td>\n",
       "      <td>NaN</td>\n",
       "    </tr>\n",
       "    <tr>\n",
       "      <th>2</th>\n",
       "      <td>GACTAGO0001</td>\n",
       "      <td>Luanda</td>\n",
       "      <td>Luanda</td>\n",
       "      <td>Angola</td>\n",
       "      <td>AGO</td>\n",
       "      <td>24.0</td>\n",
       "      <td>Africa</td>\n",
       "      <td>Sub-Saharan Africa</td>\n",
       "      <td>-8.766173</td>\n",
       "      <td>13.316051</td>\n",
       "      <td>...</td>\n",
       "      <td>Private</td>\n",
       "      <td>NaN</td>\n",
       "      <td>NaN</td>\n",
       "      <td>NaN</td>\n",
       "      <td>NaN</td>\n",
       "      <td>NaN</td>\n",
       "      <td>NaN</td>\n",
       "      <td>NaN</td>\n",
       "      <td>NaN</td>\n",
       "      <td>NaN</td>\n",
       "    </tr>\n",
       "    <tr>\n",
       "      <th>3</th>\n",
       "      <td>GACTAGO0002</td>\n",
       "      <td>Cacuaco</td>\n",
       "      <td>Luanda</td>\n",
       "      <td>Angola</td>\n",
       "      <td>AGO</td>\n",
       "      <td>24.0</td>\n",
       "      <td>Africa</td>\n",
       "      <td>Sub-Saharan Africa</td>\n",
       "      <td>-8.796392</td>\n",
       "      <td>13.426780</td>\n",
       "      <td>...</td>\n",
       "      <td>Private</td>\n",
       "      <td>NaN</td>\n",
       "      <td>NaN</td>\n",
       "      <td>NaN</td>\n",
       "      <td>NaN</td>\n",
       "      <td>NaN</td>\n",
       "      <td>NaN</td>\n",
       "      <td>NaN</td>\n",
       "      <td>NaN</td>\n",
       "      <td>NaN</td>\n",
       "    </tr>\n",
       "    <tr>\n",
       "      <th>4</th>\n",
       "      <td>GACTAGO0003</td>\n",
       "      <td>Lobito</td>\n",
       "      <td>Benguela</td>\n",
       "      <td>Angola</td>\n",
       "      <td>AGO</td>\n",
       "      <td>24.0</td>\n",
       "      <td>Africa</td>\n",
       "      <td>Sub-Saharan Africa</td>\n",
       "      <td>-12.342644</td>\n",
       "      <td>13.581766</td>\n",
       "      <td>...</td>\n",
       "      <td>Private</td>\n",
       "      <td>NaN</td>\n",
       "      <td>NaN</td>\n",
       "      <td>NaN</td>\n",
       "      <td>NaN</td>\n",
       "      <td>NaN</td>\n",
       "      <td>NaN</td>\n",
       "      <td>NaN</td>\n",
       "      <td>NaN</td>\n",
       "      <td>NaN</td>\n",
       "    </tr>\n",
       "  </tbody>\n",
       "</table>\n",
       "<p>5 rows × 34 columns</p>\n",
       "</div>"
      ],
      "text/plain": [
       "           uid          city     state      country iso3  country_code  \\\n",
       "0  GACTAFG0001  Pol-e Khomri   Baghlan  Afghanistan  AFG           4.0   \n",
       "1  GACTAFG0002         Injil     Herat  Afghanistan  AFG           4.0   \n",
       "2  GACTAGO0001        Luanda    Luanda       Angola  AGO          24.0   \n",
       "3  GACTAGO0002       Cacuaco    Luanda       Angola  AGO          24.0   \n",
       "4  GACTAGO0003        Lobito  Benguela       Angola  AGO          24.0   \n",
       "\n",
       "   region          sub_region   latitude  longitude  ...  \\\n",
       "0    Asia       Southern Asia  35.965800  68.686338  ...   \n",
       "1    Asia       Southern Asia  34.322144  61.953503  ...   \n",
       "2  Africa  Sub-Saharan Africa  -8.766173  13.316051  ...   \n",
       "3  Africa  Sub-Saharan Africa  -8.796392  13.426780  ...   \n",
       "4  Africa  Sub-Saharan Africa -12.342644  13.581766  ...   \n",
       "\n",
       "  parent_holding_status parent_ticker parent_exchange parent_permid_2  \\\n",
       "0                   NaN           NaN             NaN             NaN   \n",
       "1                   NaN           NaN             NaN             NaN   \n",
       "2               Private           NaN             NaN             NaN   \n",
       "3               Private           NaN             NaN             NaN   \n",
       "4               Private           NaN             NaN             NaN   \n",
       "\n",
       "   parent_name_2 ownership_stake_2  parent_lei_2  parent_holding_status_2  \\\n",
       "0            NaN               NaN           NaN                      NaN   \n",
       "1            NaN               NaN           NaN                      NaN   \n",
       "2            NaN               NaN           NaN                      NaN   \n",
       "3            NaN               NaN           NaN                      NaN   \n",
       "4            NaN               NaN           NaN                      NaN   \n",
       "\n",
       "  parent_ticker_2 parent_exchange_2  \n",
       "0             NaN               NaN  \n",
       "1             NaN               NaN  \n",
       "2             NaN               NaN  \n",
       "3             NaN               NaN  \n",
       "4             NaN               NaN  \n",
       "\n",
       "[5 rows x 34 columns]"
      ]
     },
     "execution_count": 65,
     "metadata": {},
     "output_type": "execute_result"
    }
   ],
   "source": [
    "cement.head()"
   ]
  },
  {
   "cell_type": "code",
   "execution_count": null,
   "metadata": {},
   "outputs": [
    {
     "data": {
      "text/plain": [
       "Index(['uid', 'city', 'state', 'country', 'iso3', 'country_code', 'region',\n",
       "       'sub_region', 'latitude', 'longitude', 'accuracy', 'status',\n",
       "       'plant_type', 'production_type', 'capacity', 'capacity_source', 'year',\n",
       "       'owner_permid', 'owner_name', 'owner_source', 'parent_permid',\n",
       "       'parent_name', 'ownership_stake', 'parent_lei', 'parent_holding_status',\n",
       "       'parent_ticker', 'parent_exchange', 'parent_permid_2', 'parent_name_2',\n",
       "       'ownership_stake_2', 'parent_lei_2', 'parent_holding_status_2',\n",
       "       'parent_ticker_2', 'parent_exchange_2'],\n",
       "      dtype='object')"
      ]
     },
     "execution_count": 66,
     "metadata": {},
     "output_type": "execute_result"
    }
   ],
   "source": [
    "cement.columns"
   ]
  },
  {
   "cell_type": "code",
   "execution_count": null,
   "metadata": {},
   "outputs": [
    {
     "data": {
      "application/vnd.plotly.v1+json": {
       "config": {
        "plotlyServerURL": "https://plot.ly"
       },
       "data": [
        {
         "customdata": [
          [
           "Pol-e Khomri",
           "Afghanistan"
          ],
          [
           "Injil",
           "Afghanistan"
          ],
          [
           "Luanda",
           "Angola"
          ],
          [
           "Cacuaco",
           "Angola"
          ],
          [
           "Lobito",
           "Angola"
          ],
          [
           "Sumbe",
           "Angola"
          ],
          [
           "Ícolo e Bengo",
           "Angola"
          ],
          [
           "Benguela",
           "Angola"
          ],
          [
           "Rrethi i Lezhës",
           "Albania"
          ],
          [
           "Rrethi i Krujës",
           "Albania"
          ],
          [
           "Rrethi i Krujës",
           "Albania"
          ],
          [
           "Rrethi i Elbasanit",
           "Albania"
          ],
          [
           "Eastern Region",
           "United Arab Emirates"
          ],
          [
           "Al Ain",
           "United Arab Emirates"
          ],
          [
           "Dubai",
           "United Arab Emirates"
          ],
          [
           "Ghalilah",
           "United Arab Emirates"
          ],
          [
           "Dubai",
           "United Arab Emirates"
          ],
          [
           "Ras Al-Khaimah",
           "United Arab Emirates"
          ],
          [
           "Dibba Al Fujairah",
           "United Arab Emirates"
          ],
          [
           "Ras Al-Khaimah",
           "United Arab Emirates"
          ],
          [
           "Abu Dhabi",
           "United Arab Emirates"
          ],
          [
           "Eastern Region",
           "United Arab Emirates"
          ],
          [
           "Dubai",
           "United Arab Emirates"
          ],
          [
           "Adhen Village",
           "United Arab Emirates"
          ],
          [
           "Ghalilah",
           "United Arab Emirates"
          ],
          [
           "Ghalilah",
           "United Arab Emirates"
          ],
          [
           "Al Sajaa Industrial Area",
           "United Arab Emirates"
          ],
          [
           "Ghalilah",
           "United Arab Emirates"
          ],
          [
           "Abu Dhabi",
           "United Arab Emirates"
          ],
          [
           "Ras Al-Khaimah",
           "United Arab Emirates"
          ],
          [
           "Dubai",
           "United Arab Emirates"
          ],
          [
           "Ajman",
           "United Arab Emirates"
          ],
          [
           "Abu Dhabi",
           "United Arab Emirates"
          ],
          [
           "Olavarría",
           "Argentina"
          ],
          [
           "Belgrano",
           "Argentina"
          ],
          [
           "Villa Cacique",
           "Argentina"
          ],
          [
           "El Alto Department",
           "Argentina"
          ],
          [
           "Olavarría Partido",
           "Argentina"
          ],
          [
           "Villa Fortabat",
           "Argentina"
          ],
          [
           "Rivadavia",
           "Argentina"
          ],
          [
           "Sierras Bayas",
           "Argentina"
          ],
          [
           "Zapala",
           "Argentina"
          ],
          [
           "Ramallo",
           "Argentina"
          ],
          [
           "Las Heras",
           "Argentina"
          ],
          [
           "Santa María",
           "Argentina"
          ],
          [
           "El Carmen",
           "Argentina"
          ],
          [
           "Deseado",
           "Argentina"
          ],
          [
           "Yoccina",
           "Argentina"
          ],
          [
           "Campana Partido",
           "Argentina"
          ],
          [
           "Comodoro Rivadavia",
           "Argentina"
          ],
          [
           "Minas",
           "Argentina"
          ],
          [
           "Hrazdan",
           "Armenia"
          ],
          [
           "Ararat",
           "Armenia"
          ],
          [
           "Angaston",
           "Australia"
          ],
          [
           "Peterhead",
           "Australia"
          ],
          [
           "Munster",
           "Australia"
          ],
          [
           "Port Denison",
           "Australia"
          ],
          [
           "Kwinana Beach",
           "Australia"
          ],
          [
           "Port Kembla",
           "Australia"
          ],
          [
           "East Arm",
           "Australia"
          ],
          [
           "Parkeston",
           "Australia"
          ],
          [
           "Mataranka",
           "Australia"
          ],
          [
           "Spring Hill",
           "Australia"
          ],
          [
           "New Berrima",
           "Australia"
          ],
          [
           "Maldon",
           "Australia"
          ],
          [
           "Waurn Ponds",
           "Australia"
          ],
          [
           "Yarwun",
           "Australia"
          ],
          [
           "Railton",
           "Australia"
          ],
          [
           "Naval Base",
           "Australia"
          ],
          [
           "Pinkenba",
           "Australia"
          ],
          [
           "Port Kembla",
           "Australia"
          ],
          [
           "Canning Vale",
           "Australia"
          ],
          [
           "Port Melbourne",
           "Australia"
          ],
          [
           "Port of Brisbane",
           "Australia"
          ],
          [
           "Pinkenba",
           "Australia"
          ],
          [
           "Wopfing",
           "Austria"
          ],
          [
           "Kirchdorf an der Krems",
           "Austria"
          ],
          [
           "Mannersdorf am Leithagebirge",
           "Austria"
          ],
          [
           "Retznei",
           "Austria"
          ],
          [
           "Hallein",
           "Austria"
          ],
          [
           "Altmünster am Traunsee",
           "Austria"
          ],
          [
           "Söll",
           "Austria"
          ],
          [
           "Vils",
           "Austria"
          ],
          [
           "Wietersdorf",
           "Austria"
          ],
          [
           "Peggau",
           "Austria"
          ],
          [
           "Bakı",
           "Azerbaijan"
          ],
          [
           "Qazax",
           "Azerbaijan"
          ],
          [
           "Bakı",
           "Azerbaijan"
          ],
          [
           "Cibitoke",
           "Burundi"
          ],
          [
           "Antwerpen",
           "Belgium"
          ],
          [
           "Gent",
           "Belgium"
          ],
          [
           "Tournai",
           "Belgium"
          ],
          [
           "Gent",
           "Belgium"
          ],
          [
           "Antoing",
           "Belgium"
          ],
          [
           "Visé",
           "Belgium"
          ],
          [
           "Gent",
           "Belgium"
          ],
          [
           "Mons",
           "Belgium"
          ],
          [
           "Agblangandan",
           "Benin"
          ],
          [
           "Onigbolo",
           "Benin"
          ],
          [
           "Ouinhi",
           "Benin"
          ],
          [
           "Cotonou",
           "Benin"
          ],
          [
           "Ouagadougou",
           "Burkina Faso"
          ],
          [
           "Ouagadougou",
           "Burkina Faso"
          ],
          [
           "Ouagadougou",
           "Burkina Faso"
          ],
          [
           "Ouagadougou",
           "Burkina Faso"
          ],
          [
           "Chhatak",
           "Bangladesh"
          ],
          [
           "Narayanganj District",
           "Bangladesh"
          ],
          [
           "Chittagong",
           "Bangladesh"
          ],
          [
           "Sunamganj District",
           "Bangladesh"
          ],
          [
           "Munshiganj District",
           "Bangladesh"
          ],
          [
           "Mongla",
           "Bangladesh"
          ],
          [
           "Kaliganj",
           "Bangladesh"
          ],
          [
           "Khulna",
           "Bangladesh"
          ],
          [
           "Kadamrasul",
           "Bangladesh"
          ],
          [
           "Kadamrasul",
           "Bangladesh"
          ],
          [
           "Mongla",
           "Bangladesh"
          ],
          [
           "Kadamrasul",
           "Bangladesh"
          ],
          [
           "Munshiganj District",
           "Bangladesh"
          ],
          [
           "Mongla",
           "Bangladesh"
          ],
          [
           "Munshiganj District",
           "Bangladesh"
          ],
          [
           "Chittagong",
           "Bangladesh"
          ],
          [
           "Ichanagar",
           "Bangladesh"
          ],
          [
           "Ichanagar",
           "Bangladesh"
          ],
          [
           "Chittagong District",
           "Bangladesh"
          ],
          [
           "Chittagong",
           "Bangladesh"
          ],
          [
           "Chattogram",
           "Bangladesh"
          ],
          [
           "Kumira",
           "Bangladesh"
          ],
          [
           "Mongla",
           "Bangladesh"
          ],
          [
           "Mongla",
           "Bangladesh"
          ],
          [
           "Sultana Mondir",
           "Bangladesh"
          ],
          [
           "Barisal",
           "Bangladesh"
          ],
          [
           "Munshiganj District",
           "Bangladesh"
          ],
          [
           "Munshiganj District",
           "Bangladesh"
          ],
          [
           "Munshiganj District",
           "Bangladesh"
          ],
          [
           "Gazaria",
           "Bangladesh"
          ],
          [
           "Narayanganj District",
           "Bangladesh"
          ],
          [
           "Narayanganj District",
           "Bangladesh"
          ],
          [
           "Narayanganj District",
           "Bangladesh"
          ],
          [
           "Baradi",
           "Bangladesh"
          ],
          [
           "Narayanganj District",
           "Bangladesh"
          ],
          [
           "Narsingdi District",
           "Bangladesh"
          ],
          [
           "Sirajganj District",
           "Bangladesh"
          ],
          [
           "Sirajganj District",
           "Bangladesh"
          ],
          [
           "Devnya",
           "Bulgaria"
          ],
          [
           "Dimitrovgrad",
           "Bulgaria"
          ],
          [
           "Vratsa",
           "Bulgaria"
          ],
          [
           "Brestnitsa",
           "Bulgaria"
          ],
          [
           "Al Hidd",
           "Bahrain"
          ],
          [
           "Askar",
           "Bahrain"
          ],
          [
           "Kakanj",
           "Bosnia and Herzegovina"
          ],
          [
           "Lukavac",
           "Bosnia and Herzegovina"
          ],
          [
           "Kastsyukovichy District",
           "Belarus"
          ],
          [
           "Vaŭkavyski rajon",
           "Belarus"
          ],
          [
           "Krychaw",
           "Belarus"
          ],
          [
           "Puerto Quijarro",
           "Bolivia"
          ],
          [
           "El Alto",
           "Bolivia"
          ],
          [
           "Eustaquio Méndez",
           "Bolivia"
          ],
          [
           "Oruro",
           "Bolivia"
          ],
          [
           "Provincia de Ignacio Warnes",
           "Bolivia"
          ],
          [
           "Provincia de Germán Busch",
           "Bolivia"
          ],
          [
           "Irpa Irpa",
           "Bolivia"
          ],
          [
           "Cercado",
           "Bolivia"
          ],
          [
           "Sucre",
           "Bolivia"
          ],
          [
           "Sete Lagoas",
           "Brazil"
          ],
          [
           "Pitimbu",
           "Brazil"
          ],
          [
           "Macuco",
           "Brazil"
          ],
          [
           "Matozinhos",
           "Brazil"
          ],
          [
           "Santa Luzia",
           "Brazil"
          ],
          [
           "Arcos",
           "Brazil"
          ],
          [
           "Balsa Nova",
           "Brazil"
          ],
          [
           "São Luís",
           "Brazil"
          ],
          [
           "Cachoeiro de Itapemirim",
           "Brazil"
          ],
          [
           "Ituaçu",
           "Brazil"
          ],
          [
           "Nossa Senhora do Socorro",
           "Brazil"
          ],
          [
           "Itaituba",
           "Brazil"
          ],
          [
           "Goiana",
           "Brazil"
          ],
          [
           "Mossoró",
           "Brazil"
          ],
          [
           "Codó",
           "Brazil"
          ],
          [
           "Fronteiras",
           "Brazil"
          ],
          [
           "Manaus",
           "Brazil"
          ],
          [
           "Barbalha",
           "Brazil"
          ],
          [
           "Capanema",
           "Brazil"
          ],
          [
           "Carandaí",
           "Brazil"
          ],
          [
           "Mogi das Cruzes",
           "Brazil"
          ],
          [
           "Volta Redonda",
           "Brazil"
          ],
          [
           "Quixeré",
           "Brazil"
          ],
          [
           "Caucaia",
           "Brazil"
          ],
          [
           "Arcos",
           "Brazil"
          ],
          [
           "Volta Redonda",
           "Brazil"
          ],
          [
           "Lagoa Santa",
           "Brazil"
          ],
          [
           "Apiaí",
           "Brazil"
          ],
          [
           "Bodoquena",
           "Brazil"
          ],
          [
           "Cajati",
           "Brazil"
          ],
          [
           "Campo Formoso",
           "Brazil"
          ],
          [
           "Cezarina",
           "Brazil"
          ],
          [
           "Ijaci",
           "Brazil"
          ],
          [
           "João Pessoa",
           "Brazil"
          ],
          [
           "Pedro Leopoldo",
           "Brazil"
          ],
          [
           "São Miguel dos Campos",
           "Brazil"
          ],
          [
           "Candiota",
           "Brazil"
          ],
          [
           "Brumado",
           "Brazil"
          ],
          [
           "Cubatão",
           "Brazil"
          ],
          [
           "Jacareí",
           "Brazil"
          ],
          [
           "Nova Santa Rita",
           "Brazil"
          ],
          [
           "Santana do Paraíso",
           "Brazil"
          ],
          [
           "Salvador",
           "Brazil"
          ],
          [
           "Barroso",
           "Brazil"
          ],
          [
           "Pedro Leopoldo",
           "Brazil"
          ],
          [
           "Cantagalo",
           "Brazil"
          ],
          [
           "Cocalzinho de Goiás",
           "Brazil"
          ],
          [
           "Itapeva",
           "Brazil"
          ],
          [
           "Montes Claros",
           "Brazil"
          ],
          [
           "Caaporã",
           "Brazil"
          ],
          [
           "Serra",
           "Brazil"
          ],
          [
           "Barueri",
           "Brazil"
          ],
          [
           "Rio de Janeiro",
           "Brazil"
          ],
          [
           "Candeias",
           "Brazil"
          ],
          [
           "Cachoeiro de Itapemirim",
           "Brazil"
          ],
          [
           "Adrianópolis",
           "Brazil"
          ],
          [
           "Pomerode",
           "Brazil"
          ],
          [
           "Brasília",
           "Brazil"
          ],
          [
           "Baraúna",
           "Brazil"
          ],
          [
           "Mogi das Cruzes",
           "Brazil"
          ],
          [
           "Pacatuba",
           "Brazil"
          ],
          [
           "Serra",
           "Brazil"
          ],
          [
           "Cuiabá",
           "Brazil"
          ],
          [
           "Cantagalo",
           "Brazil"
          ],
          [
           "Corumbá",
           "Brazil"
          ],
          [
           "Edealina",
           "Brazil"
          ],
          [
           "Itaú de Minas",
           "Brazil"
          ],
          [
           "Laranjeiras",
           "Brazil"
          ],
          [
           "Nobres",
           "Brazil"
          ],
          [
           "Pinheiro Machado",
           "Brazil"
          ],
          [
           "Primavera",
           "Brazil"
          ],
          [
           "Rio Branco do Sul",
           "Brazil"
          ],
          [
           "Salto de Pirapora",
           "Brazil"
          ],
          [
           "Brasília",
           "Brazil"
          ],
          [
           "Sobral",
           "Brazil"
          ],
          [
           "Votorantim",
           "Brazil"
          ],
          [
           "Vidal Ramos",
           "Brazil"
          ],
          [
           "Xambioá",
           "Brazil"
          ],
          [
           "Rio de Janeiro",
           "Brazil"
          ],
          [
           "Cubatão",
           "Brazil"
          ],
          [
           "Imbituba",
           "Brazil"
          ],
          [
           "Itajaí",
           "Brazil"
          ],
          [
           "Caucaia",
           "Brazil"
          ],
          [
           "Porto Velho",
           "Brazil"
          ],
          [
           "Paulista",
           "Brazil"
          ],
          [
           "São Luís",
           "Brazil"
          ],
          [
           "Rio de Janeiro",
           "Brazil"
          ],
          [
           "Volta Redonda",
           "Brazil"
          ],
          [
           "Matozinhos",
           "Brazil"
          ],
          [
           "Manaus",
           "Brazil"
          ],
          [
           "Checker Hall",
           "Barbados"
          ],
          [
           "Mukim Serasa",
           "Brunei Darussalam"
          ],
          [
           "Menchu",
           "Bhutan"
          ],
          [
           "Gomtu",
           "Bhutan"
          ],
          [
           "Gomtu",
           "Bhutan"
          ],
          [
           "Gaborone",
           "Botswana"
          ],
          [
           "Joliette",
           "Canada"
          ],
          [
           "Mississauga",
           "Canada"
          ],
          [
           "Saint-Basile",
           "Canada"
          ],
          [
           "Embro",
           "Canada"
          ],
          [
           "Argenteuil",
           "Canada"
          ],
          [
           "Prince Edward",
           "Canada"
          ],
          [
           "Edmonton",
           "Canada"
          ],
          [
           "Delta",
           "Canada"
          ],
          [
           "Bath",
           "Canada"
          ],
          [
           "Brookfield",
           "Canada"
          ],
          [
           "Division No. 15",
           "Canada"
          ],
          [
           "Richmond",
           "Canada"
          ],
          [
           "Saint-Constant",
           "Canada"
          ],
          [
           "Hamilton",
           "Canada"
          ],
          [
           "Port-Daniel",
           "Canada"
          ],
          [
           "Bowmanville",
           "Canada"
          ],
          [
           "Lakeside",
           "Canada"
          ],
          [
           "Wildegg",
           "Switzerland"
          ],
          [
           "Cornaux",
           "Switzerland"
          ],
          [
           "Untervaz",
           "Switzerland"
          ],
          [
           "Würenlingen",
           "Switzerland"
          ],
          [
           "Eclépens",
           "Switzerland"
          ],
          [
           "Péry-La Heutte",
           "Switzerland"
          ],
          [
           "Chacabuco",
           "Chile"
          ],
          [
           "Coronel",
           "Chile"
          ],
          [
           "Antofagasta",
           "Chile"
          ],
          [
           "Conchalí",
           "Chile"
          ],
          [
           "Antofagasta",
           "Chile"
          ],
          [
           "Talcahuano",
           "Chile"
          ],
          [
           "Teno",
           "Chile"
          ],
          [
           "Barrancas",
           "Chile"
          ],
          [
           "La Calera",
           "Chile"
          ],
          [
           "Valparaiso",
           "Chile"
          ],
          [
           "Llanquihue",
           "Chile"
          ],
          [
           "San Juan de Llolleo",
           "Chile"
          ],
          [
           "Puente Alto",
           "Chile"
          ],
          [
           "Wuhu Shi",
           "China"
          ],
          [
           "Yongzhou Shi",
           "China"
          ],
          [
           "Wuhu Shi",
           "China"
          ],
          [
           "Qiannan Buyizumiaozuzizhizhou",
           "China"
          ],
          [
           "Xuancheng Shi",
           "China"
          ],
          [
           "Guiyang Shi",
           "China"
          ],
          [
           "Anqing Shi",
           "China"
          ],
          [
           "Tongling Shi",
           "China"
          ],
          [
           "Tongling Shi",
           "China"
          ],
          [
           "Chuzhou Shi",
           "China"
          ],
          [
           "Yueyang Shi",
           "China"
          ],
          [
           "Xinyu Shi",
           "China"
          ],
          [
           "Yulin Shi",
           "China"
          ],
          [
           "Hangzhou Shi",
           "China"
          ],
          [
           "Jining Shi",
           "China"
          ],
          [
           "Chizhou Shi",
           "China"
          ],
          [
           "Loudi Shi",
           "China"
          ],
          [
           "Dazhou Shi",
           "China"
          ],
          [
           "Xuancheng Shi",
           "China"
          ],
          [
           "Qingyuan",
           "China"
          ],
          [
           "Yangjiang Shi",
           "China"
          ],
          [
           "Pingliang Shi",
           "China"
          ],
          [
           "Loudi Shi",
           "China"
          ],
          [
           "Changde Shi",
           "China"
          ],
          [
           "Guilin Shi",
           "China"
          ],
          [
           "Chongzuo Shi",
           "China"
          ],
          [
           "Baoji Shi",
           "China"
          ],
          [
           "Wuhu Shi",
           "China"
          ],
          [
           "Shangrao Shi",
           "China"
          ],
          [
           "Qingyuan Shi",
           "China"
          ],
          [
           "Baoji Shi",
           "China"
          ],
          [
           "Qianxinan Buyizumiaozuzizhizhou",
           "China"
          ],
          [
           "Baoji Shi",
           "China"
          ],
          [
           "Baoshan Shi",
           "China"
          ],
          [
           "Bazhong Shi",
           "China"
          ],
          [
           "Hefei Shi",
           "China"
          ],
          [
           "Nanjing Shi",
           "China"
          ],
          [
           "Zhongxian",
           "China"
          ],
          [
           "Ganzhou Shi",
           "China"
          ],
          [
           "Baise Shi",
           "China"
          ],
          [
           "Guangyuan Shi",
           "China"
          ],
          [
           "Liupanshui Shi",
           "China"
          ],
          [
           "Hami Shi",
           "China"
          ],
          [
           "Yiyang Shi",
           "China"
          ],
          [
           "Shaoyang Shi",
           "China"
          ],
          [
           "Yongzhou Shi",
           "China"
          ],
          [
           "Kunming Shi",
           "China"
          ],
          [
           "Liangping Qu",
           "China"
          ],
          [
           "Loudi Shi",
           "China"
          ],
          [
           "Linxia Huizuzizhizhou",
           "China"
          ],
          [
           "Xianyang Shi",
           "China"
          ],
          [
           "Nanning Shi",
           "China"
          ],
          [
           "Baoshan Shi",
           "China"
          ],
          [
           "Xianyang Shi",
           "China"
          ],
          [
           "Tongchuan Shi",
           "China"
          ],
          [
           "Shaoyang Shi",
           "China"
          ],
          [
           "Liupanshui Shi",
           "China"
          ],
          [
           "Bazhong Shi",
           "China"
          ],
          [
           "Suzhou Shi",
           "China"
          ],
          [
           "Tongren Shi",
           "China"
          ],
          [
           "Wenshan Zhuangzumiaozuzizhizhou",
           "China"
          ],
          [
           "Dehong Daizujingpozuzizhizhou",
           "China"
          ],
          [
           "Wenshan Zhuangzumiaozuzizhizhou",
           "China"
          ],
          [
           "Zunyi Shi",
           "China"
          ],
          [
           "Nanchang Shi",
           "China"
          ],
          [
           "Pudong Xinqu",
           "China"
          ],
          [
           "Bengbu Shi",
           "China"
          ],
          [
           "Minhang Qu",
           "China"
          ],
          [
           "Suzhou Shi",
           "China"
          ],
          [
           "Shaoxing Shi",
           "China"
          ],
          [
           "Huaian Shi",
           "China"
          ],
          [
           "Huainan Shi",
           "China"
          ],
          [
           "Luan Shi",
           "China"
          ],
          [
           "Foshan Shi",
           "China"
          ],
          [
           "Huangshan Shi",
           "China"
          ],
          [
           "Taizhou Shi",
           "China"
          ],
          [
           "Nantong Shi",
           "China"
          ],
          [
           "Suzhou Shi",
           "China"
          ],
          [
           "Nanping Shi",
           "China"
          ],
          [
           "Maanshan Shi",
           "China"
          ],
          [
           "Ningbo Shi",
           "China"
          ],
          [
           "Ningbo Shi",
           "China"
          ],
          [
           "Hefei Shi",
           "China"
          ],
          [
           "Zhanjiang Shi",
           "China"
          ],
          [
           "Taizhou Shi",
           "China"
          ],
          [
           "Jiangmen Shi",
           "China"
          ],
          [
           "Nanchang Shi",
           "China"
          ],
          [
           "Yancheng Shi",
           "China"
          ],
          [
           "Huaian Shi",
           "China"
          ],
          [
           "Ningbo Shi",
           "China"
          ],
          [
           "Jiujiang Shi",
           "China"
          ],
          [
           "Nanchang Shi",
           "China"
          ],
          [
           "Maoming Shi",
           "China"
          ],
          [
           "Yangzhou Shi",
           "China"
          ],
          [
           "Wenzhou Shi",
           "China"
          ],
          [
           "Zhenjiang Shi",
           "China"
          ],
          [
           "Bozhou Shi",
           "China"
          ],
          [
           "Ganzhou Shi",
           "China"
          ],
          [
           "Huanggang Shi",
           "China"
          ],
          [
           "Chengdu Shi",
           "China"
          ],
          [
           "Jiujiang Shi",
           "China"
          ],
          [
           "Wuhan Shi",
           "China"
          ],
          [
           "Wuhan Shi",
           "China"
          ],
          [
           "Nanchang Shi",
           "China"
          ],
          [
           "Wuhan Shi",
           "China"
          ],
          [
           "Yangzhou Shi",
           "China"
          ],
          [
           "Baoding Shi",
           "China"
          ],
          [
           "Changping Qu",
           "China"
          ],
          [
           "Jiaozuo Shi",
           "China"
          ],
          [
           "Huairou Qu",
           "China"
          ],
          [
           "Handan Shi",
           "China"
          ],
          [
           "Shunyi Qu",
           "China"
          ],
          [
           "Fangshan Qu",
           "China"
          ],
          [
           "Shunyi Qu",
           "China"
          ],
          [
           "Zhangjiakou Shi",
           "China"
          ],
          [
           "Fangshan Qu",
           "China"
          ],
          [
           "Siping Shi",
           "China"
          ],
          [
           "Shijiazhuang Shi",
           "China"
          ],
          [
           "Baoding Shi",
           "China"
          ],
          [
           "Beichen Qu",
           "China"
          ],
          [
           "Zhangjiakou Shi",
           "China"
          ],
          [
           "Jiangjin Qu",
           "China"
          ],
          [
           "Tangshan Shi",
           "China"
          ],
          [
           "Baoji Shi",
           "China"
          ],
          [
           "Anshan Shi",
           "China"
          ],
          [
           "Liaoyang Shi",
           "China"
          ],
          [
           "Xianyang Shi",
           "China"
          ],
          [
           "Baoji Shi",
           "China"
          ],
          [
           "Baotou Shi",
           "China"
          ],
          [
           "Jiaozuo Shi",
           "China"
          ],
          [
           "Qinhuangdao Shi",
           "China"
          ],
          [
           "Chengde Shi",
           "China"
          ],
          [
           "Chengde Shi",
           "China"
          ],
          [
           "Datong Shi",
           "China"
          ],
          [
           "Datong Shi",
           "China"
          ],
          [
           "Handan Shi",
           "China"
          ],
          [
           "Shijiazhuang Shi",
           "China"
          ],
          [
           "Wulanchabu Shi",
           "China"
          ],
          [
           "Eerduosi Shi",
           "China"
          ],
          [
           "Xilinguole Meng",
           "China"
          ],
          [
           "Bishan Qu",
           "China"
          ],
          [
           "Hechuan Qu",
           "China"
          ],
          [
           "Haerbin Shi",
           "China"
          ],
          [
           "Tangshan Shi",
           "China"
          ],
          [
           "Jilin Shi",
           "China"
          ],
          [
           "Tongchuan Shi",
           "China"
          ],
          [
           "Jilin Shi",
           "China"
          ],
          [
           "Yuncheng Shi",
           "China"
          ],
          [
           "Xingtai Shi",
           "China"
          ],
          [
           "Baoding Shi",
           "China"
          ],
          [
           "Lvliang Shi",
           "China"
          ],
          [
           "Jincheng Shi",
           "China"
          ],
          [
           "Shijiazhuang Shi",
           "China"
          ],
          [
           "Changde Shi",
           "China"
          ],
          [
           "Chengde Shi",
           "China"
          ],
          [
           "Taiyuan Shi",
           "China"
          ],
          [
           "Baoding Shi",
           "China"
          ],
          [
           "Tangshan Shi",
           "China"
          ],
          [
           "Tangshan Shi",
           "China"
          ],
          [
           "Tangshan Shi",
           "China"
          ],
          [
           "Yulin Shi",
           "China"
          ],
          [
           "Xingtai Shi",
           "China"
          ],
          [
           "Zhangjiakou Shi",
           "China"
          ],
          [
           "Yangquan Shi",
           "China"
          ],
          [
           "Jinzhong Shi",
           "China"
          ],
          [
           "Huhehaote Shi",
           "China"
          ],
          [
           "Songyuan Shi",
           "China"
          ],
          [
           "Jilin Shi",
           "China"
          ],
          [
           "Xingtai Shi",
           "China"
          ],
          [
           "Langfang Shi",
           "China"
          ],
          [
           "Shenyang Shi",
           "China"
          ],
          [
           "Hengshui Shi",
           "China"
          ],
          [
           "Tangshan Shi",
           "China"
          ],
          [
           "Ninghe Qu",
           "China"
          ],
          [
           "Zhangjiakou Shi",
           "China"
          ],
          [
           "Xiangyang Shi",
           "China"
          ],
          [
           "Jingmen Shi",
           "China"
          ],
          [
           "Xianning Shi",
           "China"
          ],
          [
           "Yichang Shi",
           "China"
          ],
          [
           "Xiangyang",
           "China"
          ],
          [
           "Changde Shi",
           "China"
          ],
          [
           "Jingzhou Shi",
           "China"
          ],
          [
           "Yichang Shi",
           "China"
          ],
          [
           "Jingmen Shi",
           "China"
          ],
          [
           "Xiaogan Shi",
           "China"
          ],
          [
           "Qianjiang Shi",
           "China"
          ],
          [
           "Anyang Shi",
           "China"
          ],
          [
           "Jining Shi",
           "China"
          ],
          [
           "Jinhua Shi",
           "China"
          ],
          [
           "Linyi Shi",
           "China"
          ],
          [
           "Dezhou Shi",
           "China"
          ],
          [
           "Rizhao Shi",
           "China"
          ],
          [
           "Chuzhou Shi",
           "China"
          ],
          [
           "Changde Shi",
           "China"
          ],
          [
           "Changsha Shi",
           "China"
          ],
          [
           "Zaozhuang Shi",
           "China"
          ],
          [
           "Jiaxing Shi",
           "China"
          ],
          [
           "Linyi Shi",
           "China"
          ],
          [
           "Xuancheng Shi",
           "China"
          ],
          [
           "Pingdingshan Shi",
           "China"
          ],
          [
           "Quzhou Shi",
           "China"
          ],
          [
           "Guilin Shi",
           "China"
          ],
          [
           "Hengyang Shi",
           "China"
          ],
          [
           "Zaozhuang Shi",
           "China"
          ],
          [
           "Chenzhou Shi",
           "China"
          ],
          [
           "Pingxiang Shi",
           "China"
          ],
          [
           "Shangrao Shi",
           "China"
          ],
          [
           "Wuxi Shi",
           "China"
          ],
          [
           "Xuzhou Shi",
           "China"
          ],
          [
           "Chenzhou Shi",
           "China"
          ],
          [
           "Xingtai Shi",
           "China"
          ],
          [
           "Wulanchabu Shi",
           "China"
          ],
          [
           "Zhengzhou Shi",
           "China"
          ],
          [
           "Nanyang Shi",
           "China"
          ],
          [
           "Nanyang Shi",
           "China"
          ],
          [
           "Wuxi Shi",
           "China"
          ],
          [
           "Hengyang Shi",
           "China"
          ],
          [
           "Huzhou Shi",
           "China"
          ],
          [
           "Huzhou Shi",
           "China"
          ],
          [
           "Taian Shi",
           "China"
          ],
          [
           "Hangzhou Shi",
           "China"
          ],
          [
           "Weifang Shi",
           "China"
          ],
          [
           "Xuancheng Shi",
           "China"
          ],
          [
           "Huzhou Shi",
           "China"
          ],
          [
           "Rizhao Shi",
           "China"
          ],
          [
           "Changzhou Shi",
           "China"
          ],
          [
           "Jian Shi",
           "China"
          ],
          [
           "Deyang Shi",
           "China"
          ],
          [
           "Yunfu Shi",
           "China"
          ],
          [
           "Pingxiang Shi",
           "China"
          ],
          [
           "Yunfu Shi",
           "China"
          ],
          [
           "Hefei Shi",
           "China"
          ],
          [
           "Zhuzhou Shi",
           "China"
          ],
          [
           "Hanzhong Shi",
           "China"
          ],
          [
           "Changde Shi",
           "China"
          ],
          [
           "Xiangtan Shi",
           "China"
          ],
          [
           "Huzhou Shi",
           "China"
          ],
          [
           "Anyang Shi",
           "China"
          ],
          [
           "Bengbu Shi",
           "China"
          ],
          [
           "Huzhou Shi",
           "China"
          ],
          [
           "Huzhou Shi",
           "China"
          ],
          [
           "Huzhou Shi",
           "China"
          ],
          [
           "Hangzhou Shi",
           "China"
          ],
          [
           "Hangzhou Shi",
           "China"
          ],
          [
           "Xuancheng Shi",
           "China"
          ],
          [
           "Nanning Shi",
           "China"
          ],
          [
           "Xuzhou Shi",
           "China"
          ],
          [
           "Ganzhou Shi",
           "China"
          ],
          [
           "Chenzhou Shi",
           "China"
          ],
          [
           "Xiangxi Tujiazumiaozuzizhizhou",
           "China"
          ],
          [
           "Hengyang Shi",
           "China"
          ],
          [
           "Changsha Shi",
           "China"
          ],
          [
           "Changsha Shi",
           "China"
          ],
          [
           "Xiangtan Shi",
           "China"
          ],
          [
           "Yiyang Shi",
           "China"
          ],
          [
           "Huzhou Shi",
           "China"
          ],
          [
           "Huzhou Shi",
           "China"
          ],
          [
           "Huzhou Shi",
           "China"
          ],
          [
           "Wuxi Shi",
           "China"
          ],
          [
           "Wuxi Shi",
           "China"
          ],
          [
           "Jian Shi",
           "China"
          ],
          [
           "Yichun Shi",
           "China"
          ],
          [
           "Jian Shi",
           "China"
          ],
          [
           "Shangrao Shi",
           "China"
          ],
          [
           "Jiujiang Shi",
           "China"
          ],
          [
           "Fuzhou Shi",
           "China"
          ],
          [
           "Pingxiang Shi",
           "China"
          ],
          [
           "Yichun Shi",
           "China"
          ],
          [
           "Jian Shi",
           "China"
          ],
          [
           "Jining Shi",
           "China"
          ],
          [
           "Jiyuan Shi",
           "China"
          ],
          [
           "Jinhua Shi",
           "China"
          ],
          [
           "Xingtai Shi",
           "China"
          ],
          [
           "Xingtai Shi",
           "China"
          ],
          [
           "Luoyang Shi",
           "China"
          ],
          [
           "Nanjing Shi",
           "China"
          ],
          [
           "Nanyang Shi",
           "China"
          ],
          [
           "Changjiang Lizuzizhixian",
           "China"
          ],
          [
           "Shaoyang Shi",
           "China"
          ],
          [
           "Shuozhou Shi",
           "China"
          ],
          [
           "Yunfu Shi",
           "China"
          ],
          [
           "Yunfu Shi",
           "China"
          ],
          [
           "Taian Shi",
           "China"
          ],
          [
           "Zaozhuang Shi",
           "China"
          ],
          [
           "Tongliao Shi",
           "China"
          ],
          [
           "Wuhai Shi",
           "China"
          ],
          [
           "Wuhai Shi",
           "China"
          ],
          [
           "Luoyang Shi",
           "China"
          ],
          [
           "Taian Shi",
           "China"
          ],
          [
           "Yantai Shi",
           "China"
          ],
          [
           "Linyi Shi",
           "China"
          ],
          [
           "Shaoxing Shi",
           "China"
          ],
          [
           "Quzhou Shi",
           "China"
          ],
          [
           "Jinhua Shi",
           "China"
          ],
          [
           "Hangzhou Shi",
           "China"
          ],
          [
           "Bayannaoer Shi",
           "China"
          ],
          [
           "Heze Shi",
           "China"
          ],
          [
           "Ningbo Shi",
           "China"
          ],
          [
           "Nanyang Shi",
           "China"
          ],
          [
           "Huzhou Shi",
           "China"
          ],
          [
           "Jiaxing Shi",
           "China"
          ],
          [
           "Huaibei Shi",
           "China"
          ],
          [
           "Huaibei Shi",
           "China"
          ],
          [
           "Huangshan Shi",
           "China"
          ],
          [
           "Chenzhou Shi",
           "China"
          ],
          [
           "Yueyang Shi",
           "China"
          ],
          [
           "Hangzhou Shi",
           "China"
          ],
          [
           "Hangzhou Shi",
           "China"
          ],
          [
           "Wuxi Shi",
           "China"
          ],
          [
           "Fuzhou Shi",
           "China"
          ],
          [
           "Yingtan Shi",
           "China"
          ],
          [
           "Jian Shi",
           "China"
          ],
          [
           "Jian Shi",
           "China"
          ],
          [
           "Nanchang Shi",
           "China"
          ],
          [
           "Xinyu Shi",
           "China"
          ],
          [
           "Jiujiang Shi",
           "China"
          ],
          [
           "Jiaxing Shi",
           "China"
          ],
          [
           "Jiaxing Shi",
           "China"
          ],
          [
           "Jiaxing Shi",
           "China"
          ],
          [
           "Jiaxing Shi",
           "China"
          ],
          [
           "Jiaxing Shi",
           "China"
          ],
          [
           "Lianyungang Shi",
           "China"
          ],
          [
           "Quzhou Shi",
           "China"
          ],
          [
           "Luoyang Shi",
           "China"
          ],
          [
           "Jiaxing Shi",
           "China"
          ],
          [
           "Qingdao Shi",
           "China"
          ],
          [
           "Rizhao Shi",
           "China"
          ],
          [
           "Rizhao Shi",
           "China"
          ],
          [
           "Jinshan Qu",
           "China"
          ],
          [
           "Suzhou Shi",
           "China"
          ],
          [
           "Suzhou Shi",
           "China"
          ],
          [
           "Zaozhuang Shi",
           "China"
          ],
          [
           "Jiaxing Shi",
           "China"
          ],
          [
           "Bengbu Shi",
           "China"
          ],
          [
           "Suzhou Shi",
           "China"
          ],
          [
           "Lianyungang Shi",
           "China"
          ],
          [
           "Nanyang Shi",
           "China"
          ],
          [
           "Pingdingshan Shi",
           "China"
          ],
          [
           "Xuzhou Shi",
           "China"
          ],
          [
           "Jiaxing Shi",
           "China"
          ],
          [
           "Lishui Shi",
           "China"
          ],
          [
           "Shaoxing Shi",
           "China"
          ],
          [
           "Jian Shi",
           "China"
          ],
          [
           "Longyan Shi",
           "China"
          ],
          [
           "Guigang Shi",
           "China"
          ],
          [
           "Hezhou Shi",
           "China"
          ],
          [
           "Zhaoqing Shi",
           "China"
          ],
          [
           "Baise Shi",
           "China"
          ],
          [
           "Nanning Shi",
           "China"
          ],
          [
           "Longyan Shi",
           "China"
          ],
          [
           "Guigang Shi",
           "China"
          ],
          [
           "Fangchenggang Shi",
           "China"
          ],
          [
           "Laibin Shi",
           "China"
          ],
          [
           "Beihai Shi",
           "China"
          ],
          [
           "Anshun Shi",
           "China"
          ],
          [
           "Changzhi Shi",
           "China"
          ],
          [
           "Lvliang Shi",
           "China"
          ],
          [
           "Nanning Shi",
           "China"
          ],
          [
           "Huizhou Shi",
           "China"
          ],
          [
           "Zhanjiang Shi",
           "China"
          ],
          [
           "Longyan Shi",
           "China"
          ],
          [
           "Yulin Shi",
           "China"
          ],
          [
           "Yunfu Shi",
           "China"
          ],
          [
           "Dali Baizuzizhizhou",
           "China"
          ],
          [
           "Longyan Shi",
           "China"
          ],
          [
           "Dali Baizuzizhizhou",
           "China"
          ],
          [
           "Zunyi Shi",
           "China"
          ],
          [
           "Zhanjiang Shi",
           "China"
          ],
          [
           "Shantou Shi",
           "China"
          ],
          [
           "Dongguan Shi",
           "China"
          ],
          [
           "Fuzhou Shi",
           "China"
          ],
          [
           "Quanzhou Shi",
           "China"
          ],
          [
           "Wuzhishan Shi",
           "China"
          ],
          [
           "Fangchenggang Shi",
           "China"
          ],
          [
           "Nanyang Shi",
           "China"
          ],
          [
           "Xinyang Shi",
           "China"
          ],
          [
           "Liaoyang Shi",
           "China"
          ],
          [
           "Xuchang Shi",
           "China"
          ],
          [
           "Pingdingshan Shi",
           "China"
          ],
          [
           "Dalian Shi",
           "China"
          ],
          [
           "Zhengzhou Shi",
           "China"
          ],
          [
           "Pingdingshan Shi",
           "China"
          ],
          [
           "Xinxiang Shi",
           "China"
          ],
          [
           "Suzhou Shi",
           "China"
          ],
          [
           "Anshan Shi",
           "China"
          ],
          [
           "Zhengzhou Shi",
           "China"
          ],
          [
           "Liaoyang Shi",
           "China"
          ],
          [
           "Pingdingshan Shi",
           "China"
          ],
          [
           "Xuchang Shi",
           "China"
          ],
          [
           "Zhengzhou Shi",
           "China"
          ],
          [
           "Liaoyang Shi",
           "China"
          ],
          [
           "Panjin Shi",
           "China"
          ],
          [
           "Pingdingshan Shi",
           "China"
          ],
          [
           "Shenyang Shi",
           "China"
          ],
          [
           "Binhai Xinqu",
           "China"
          ],
          [
           "Nanyang Shi",
           "China"
          ],
          [
           "Xuchang Shi",
           "China"
          ],
          [
           "Xinyang Shi",
           "China"
          ],
          [
           "Xuchang Shi",
           "China"
          ],
          [
           "Yingkou Shi",
           "China"
          ],
          [
           "Zhengzhou Shi",
           "China"
          ],
          [
           "Pingdingshan Shi",
           "China"
          ],
          [
           "Shangqiu Shi",
           "China"
          ],
          [
           "Zhoukou Shi",
           "China"
          ],
          [
           "Hangzhou Shi",
           "China"
          ],
          [
           "Tongling Shi",
           "China"
          ],
          [
           "Boertala Mengguzizhizhou",
           "China"
          ],
          [
           "Anqing Shi",
           "China"
          ],
          [
           "Tacheng Diqu",
           "China"
          ],
          [
           "Taizhou Shi",
           "China"
          ],
          [
           "Jiujiang Shi",
           "China"
          ],
          [
           "Taizhou Shi",
           "China"
          ],
          [
           "Fuyang Shi",
           "China"
          ],
          [
           "Huizhou Shi",
           "China"
          ],
          [
           "Longyan Shi",
           "China"
          ],
          [
           "Meizhou Shi",
           "China"
          ],
          [
           "Meizhou Shi",
           "China"
          ],
          [
           "Meizhou Shi",
           "China"
          ],
          [
           "Meizhou Shi",
           "China"
          ],
          [
           "Xingtai Shi",
           "China"
          ],
          [
           "Hangzhou Shi",
           "China"
          ],
          [
           "Hangzhou Shi",
           "China"
          ],
          [
           "Yichun Shi",
           "China"
          ],
          [
           "Guangan Shi",
           "China"
          ],
          [
           "Mianyang Shi",
           "China"
          ],
          [
           "Longyan Shi",
           "China"
          ],
          [
           "Kunming Shi",
           "China"
          ],
          [
           "Sanming Shi",
           "China"
          ],
          [
           "Quzhou Shi",
           "China"
          ],
          [
           "Qiannan Buyizumiaozuzizhizhou",
           "China"
          ],
          [
           "Yibin Shi",
           "China"
          ],
          [
           "Chongzuo Shi",
           "China"
          ],
          [
           "Yulin Shi",
           "China"
          ],
          [
           "Qiandongnan Miaozudongzuzizhizhou",
           "China"
          ],
          [
           "Hengyang Shi",
           "China"
          ],
          [
           "Jian Shi",
           "China"
          ],
          [
           "Akesu Diqu",
           "China"
          ],
          [
           "Lanzhou Shi",
           "China"
          ],
          [
           "Nanning Shi",
           "China"
          ],
          [
           "Yichun Shi",
           "China"
          ],
          [
           "Dali Baizuzizhizhou",
           "China"
          ],
          [
           "Yongzhou Shi",
           "China"
          ],
          [
           "Yongzhou Shi",
           "China"
          ],
          [
           "Jinhua Shi",
           "China"
          ],
          [
           "Fuzhou Shi",
           "China"
          ],
          [
           "Jian Shi",
           "China"
          ],
          [
           "Lishui Shi",
           "China"
          ],
          [
           "Jinhua Shi",
           "China"
          ],
          [
           "Quanzhou Shi",
           "China"
          ],
          [
           "Nanchong Shi",
           "China"
          ],
          [
           "Zhangzhou Shi",
           "China"
          ],
          [
           "Shannan Shi",
           "China"
          ],
          [
           "Shiyan Shi",
           "China"
          ],
          [
           "Xinyang Shi",
           "China"
          ],
          [
           "Huanggang Shi",
           "China"
          ],
          [
           "Huangshi Shi",
           "China"
          ],
          [
           "Fuling Qu",
           "China"
          ],
          [
           "Huangshi Shi",
           "China"
          ],
          [
           "Xianning Shi",
           "China"
          ],
          [
           "Dali Baizuzizhizhou",
           "China"
          ],
          [
           "Lincang Shi",
           "China"
          ],
          [
           "Honghe Hanizuyizuzizhizhou",
           "China"
          ],
          [
           "Liupanshui Shi",
           "China"
          ],
          [
           "Lijiang Shi",
           "China"
          ],
          [
           "Jiangjin Qu",
           "China"
          ],
          [
           "Hechuan Qu",
           "China"
          ],
          [
           "Yichang Shi",
           "China"
          ],
          [
           "Diqing Zangzuzizhizhou",
           "China"
          ],
          [
           "Xishuangbanna Daizuzizhizhou",
           "China"
          ],
          [
           "Kunming Shi",
           "China"
          ],
          [
           "Loudi Shi",
           "China"
          ],
          [
           "Chenzhou Shi",
           "China"
          ],
          [
           "Dazhou Shi",
           "China"
          ],
          [
           "Xiangyang Shi",
           "China"
          ],
          [
           "Yichang Shi",
           "China"
          ],
          [
           "Zhaotong Shi",
           "China"
          ],
          [
           "Zhuzhou Shi",
           "China"
          ],
          [
           "Yichang Shi",
           "China"
          ],
          [
           "Yongzhou Shi",
           "China"
          ],
          [
           "Huangshi Shi",
           "China"
          ],
          [
           "Jiangmen Shi",
           "China"
          ],
          [
           "Enshi Tujiazumiaozuzizhizhou",
           "China"
          ],
          [
           "Kunming Shi",
           "China"
          ],
          [
           "Enshi Tujiazumiaozuzizhizhou",
           "China"
          ],
          [
           "Dali Baizuzizhizhou",
           "China"
          ],
          [
           "Zhangjiajie Shi",
           "China"
          ],
          [
           "Dazhou Shi",
           "China"
          ],
          [
           "Qianxinan Buyizumiaozuzizhizhou",
           "China"
          ],
          [
           "Shiyan Shi",
           "China"
          ],
          [
           "Kunming Shi",
           "China"
          ],
          [
           "Chuxiong Yizuzizhizhou",
           "China"
          ],
          [
           "Jingzhou Shi",
           "China"
          ],
          [
           "Huanggang Shi",
           "China"
          ],
          [
           "Nantong Shi",
           "China"
          ],
          [
           "Xiantao Shi",
           "China"
          ],
          [
           "Ezhou Shi",
           "China"
          ],
          [
           "Honghe Hanizuyizuzizhizhou",
           "China"
          ],
          [
           "Kunming Shi",
           "China"
          ],
          [
           "Suizhou Shi",
           "China"
          ],
          [
           "Xiangyang Shi",
           "China"
          ],
          [
           "Yueyang Shi",
           "China"
          ],
          [
           "Xiangtan Shi",
           "China"
          ],
          [
           "Panzhihua Shi",
           "China"
          ],
          [
           "Wuhan Shi",
           "China"
          ],
          [
           "Hulunbeier Shi",
           "China"
          ],
          [
           "Jilin Shi",
           "China"
          ],
          [
           "Haerbin Shi",
           "China"
          ],
          [
           "Changchun Shi",
           "China"
          ],
          [
           "Tonghua Shi",
           "China"
          ],
          [
           "Siping Shi",
           "China"
          ],
          [
           "Suihua Shi",
           "China"
          ],
          [
           "Jilin Shi",
           "China"
          ],
          [
           "Yanbian Chaoxianzuzizhizhou",
           "China"
          ],
          [
           "Suihua Shi",
           "China"
          ],
          [
           "Tieling Shi",
           "China"
          ],
          [
           "Dandong Shi",
           "China"
          ],
          [
           "Liaoyang Shi",
           "China"
          ],
          [
           "Chengdu Shi",
           "China"
          ],
          [
           "Mianyang Shi",
           "China"
          ],
          [
           "Wuzhong Shi",
           "China"
          ],
          [
           "Zhongwei Shi",
           "China"
          ],
          [
           "Yinchuan Shi",
           "China"
          ],
          [
           "Baiyin Shi",
           "China"
          ],
          [
           "Chifeng Shi",
           "China"
          ],
          [
           "Tianshui Shi",
           "China"
          ],
          [
           "Shizuishan Shi",
           "China"
          ],
          [
           "Chaoyang Shi",
           "China"
          ],
          [
           "Chifeng Shi",
           "China"
          ],
          [
           "Jinan Shi",
           "China"
          ],
          [
           "Weifang Shi",
           "China"
          ],
          [
           "Jinan Shi",
           "China"
          ],
          [
           "Jining Shi",
           "China"
          ],
          [
           "Yantai Shi",
           "China"
          ],
          [
           "Jinan Shi",
           "China"
          ],
          [
           "Yantai Shi",
           "China"
          ],
          [
           "Dalian Shi",
           "China"
          ],
          [
           "Liaoyang Shi",
           "China"
          ],
          [
           "Zaozhuang Shi",
           "China"
          ],
          [
           "Weifang Shi",
           "China"
          ],
          [
           "Zibo Shi",
           "China"
          ],
          [
           "Chifeng Shi",
           "China"
          ],
          [
           "Baishan Shi",
           "China"
          ],
          [
           "Liaocheng Shi",
           "China"
          ],
          [
           "Xinxiang Shi",
           "China"
          ],
          [
           "Jincheng Shi",
           "China"
          ],
          [
           "Jincheng Shi",
           "China"
          ],
          [
           "Weifang Shi",
           "China"
          ],
          [
           "Lvliang Shi",
           "China"
          ],
          [
           "Yantai Shi",
           "China"
          ],
          [
           "Taiyuan Shi",
           "China"
          ],
          [
           "Jining Shi",
           "China"
          ],
          [
           "Changzhi Shi",
           "China"
          ],
          [
           "Xingan Meng",
           "China"
          ],
          [
           "Chifeng Shi",
           "China"
          ],
          [
           "Binzhou Shi",
           "China"
          ],
          [
           "Heze Shi",
           "China"
          ],
          [
           "Dandong Shi",
           "China"
          ],
          [
           "Dongying Shi",
           "China"
          ],
          [
           "Tongliao Shi",
           "China"
          ],
          [
           "Heze Shi",
           "China"
          ],
          [
           "Dongying Shi",
           "China"
          ],
          [
           "Xingan Meng",
           "China"
          ],
          [
           "Dezhou Shi",
           "China"
          ],
          [
           "Panjin Shi",
           "China"
          ],
          [
           "Qingdao Shi",
           "China"
          ],
          [
           "Qingdao Shi",
           "China"
          ],
          [
           "Weihai Shi",
           "China"
          ],
          [
           "Qingdao Shi",
           "China"
          ],
          [
           "Jinan Shi",
           "China"
          ],
          [
           "Liaocheng Shi",
           "China"
          ],
          [
           "Shenyang Shi",
           "China"
          ],
          [
           "Binhai Xinqu",
           "China"
          ],
          [
           "Tongliao Shi",
           "China"
          ],
          [
           "Weifang Shi",
           "China"
          ],
          [
           "Weihai Shi",
           "China"
          ],
          [
           "Xingan Meng",
           "China"
          ],
          [
           "Yingkou Shi",
           "China"
          ],
          [
           "Linyi Shi",
           "China"
          ],
          [
           "Yulin Shi",
           "China"
          ],
          [
           "Zibo Shi",
           "China"
          ],
          [
           "Jinzhou Shi",
           "China"
          ],
          [
           "Weifang Shi",
           "China"
          ],
          [
           "Hengshui Shi",
           "China"
          ],
          [
           "Liaocheng Shi",
           "China"
          ],
          [
           "Qingdao Shi",
           "China"
          ],
          [
           "Leshan Shi",
           "China"
          ],
          [
           "Leshan Shi",
           "China"
          ],
          [
           "Wulumuqi Shi",
           "China"
          ],
          [
           "Nanjing Shi",
           "China"
          ],
          [
           "Dalian Shi",
           "China"
          ],
          [
           "Qinhuangdao Shi",
           "China"
          ],
          [
           "Huaihua Shi",
           "China"
          ],
          [
           "Qingyuan Shi",
           "China"
          ],
          [
           "Guigang Shi",
           "China"
          ],
          [
           "Zhenjiang Shi",
           "China"
          ],
          [
           "Anshun Shi",
           "China"
          ],
          [
           "Luzhou Shi",
           "China"
          ],
          [
           "Anshun Shi",
           "China"
          ],
          [
           "Guangan Shi",
           "China"
          ],
          [
           "Guangan Shi",
           "China"
          ],
          [
           "Huaihua Shi",
           "China"
          ],
          [
           "Liaoyang Shi",
           "China"
          ],
          [
           "Fuzhou Shi",
           "China"
          ],
          [
           "Luzhou Shi",
           "China"
          ],
          [
           "Rizhao Shi",
           "China"
          ],
          [
           "Ankang Shi",
           "China"
          ],
          [
           "Xian Shi",
           "China"
          ],
          [
           "Hanzhong Shi",
           "China"
          ],
          [
           "Hanzhong Shi",
           "China"
          ],
          [
           "Ankang Shi",
           "China"
          ],
          [
           "Weinan Shi",
           "China"
          ],
          [
           "Hanzhong Shi",
           "China"
          ],
          [
           "Hetian Diqu",
           "China"
          ],
          [
           "Guiyang Shi",
           "China"
          ],
          [
           "Weinan Shi",
           "China"
          ],
          [
           "Weinan Shi",
           "China"
          ],
          [
           "Tongchuan Shi",
           "China"
          ],
          [
           "Shangluo Shi",
           "China"
          ],
          [
           "Shangluo Shi",
           "China"
          ],
          [
           "Yili Hasakezizhizhou",
           "China"
          ],
          [
           "Hetian Diqu",
           "China"
          ],
          [
           "Weinan Shi",
           "China"
          ],
          [
           "Quzhou Shi",
           "China"
          ],
          [
           "Quzhou Shi",
           "China"
          ],
          [
           "Shangrao Shi",
           "China"
          ],
          [
           "Xuancheng",
           "China"
          ],
          [
           "Hefei Shi",
           "China"
          ],
          [
           "Shijiazhuang Shi",
           "China"
          ],
          [
           "Changsha Shi",
           "China"
          ],
          [
           "Maanshan Shi",
           "China"
          ],
          [
           "Mianyang Shi",
           "China"
          ],
          [
           "Chengdu Shi",
           "China"
          ],
          [
           "Taian Shi",
           "China"
          ],
          [
           "Hangzhou Shi",
           "China"
          ],
          [
           "Ganzhou Shi",
           "China"
          ],
          [
           "Mianyang Shi",
           "China"
          ],
          [
           "Yichun Shi",
           "China"
          ],
          [
           "Liaoyuan Shi",
           "China"
          ],
          [
           "Jingdezhen Shi",
           "China"
          ],
          [
           "Guangzhou Shi",
           "China"
          ],
          [
           "Hechuan Qu",
           "China"
          ],
          [
           "Beibei Qu",
           "China"
          ],
          [
           "Hechuan Qu",
           "China"
          ],
          [
           "Qijiang Qu",
           "China"
          ],
          [
           "Wanzhou Qu",
           "China"
          ],
          [
           "Qianjiang Qu",
           "China"
          ],
          [
           "Changshou Qu",
           "China"
          ],
          [
           "Jiangjin Qu",
           "China"
          ],
          [
           "Xiushan Tujiazumiaozuzizhixian",
           "China"
          ],
          [
           "Jiulongpo Qu",
           "China"
          ],
          [
           "Nanchuan Qu",
           "China"
          ],
          [
           "Chuzhou Shi",
           "China"
          ],
          [
           "Yantai Shi",
           "China"
          ],
          [
           "Dalian Shi",
           "China"
          ],
          [
           "Dalian Shi",
           "China"
          ],
          [
           "Dazhou Shi",
           "China"
          ],
          [
           "Zhengzhou Shi",
           "China"
          ],
          [
           "Suzhou Shi",
           "China"
          ],
          [
           "Sanming Shi",
           "China"
          ],
          [
           "Sanming Shi",
           "China"
          ],
          [
           "Nanping Shi",
           "China"
          ],
          [
           "Sanming Shi",
           "China"
          ],
          [
           "Longyan Shi",
           "China"
          ],
          [
           "Longyan Shi",
           "China"
          ],
          [
           "Fushun Shi",
           "China"
          ],
          [
           "Baise Shi",
           "China"
          ],
          [
           "Liuzhou Shi",
           "China"
          ],
          [
           "Yunfu Shi",
           "China"
          ],
          [
           "Zunyi Shi",
           "China"
          ],
          [
           "Guiyang Shi",
           "China"
          ],
          [
           "Tongren Shi",
           "China"
          ],
          [
           "Shijiazhuang Shi",
           "China"
          ],
          [
           "Shijiazhuang Shi",
           "China"
          ],
          [
           "Yichun Shi",
           "China"
          ],
          [
           "Xinxiang Shi",
           "China"
          ],
          [
           "Luoyang Shi",
           "China"
          ],
          [
           "Hebi Shi",
           "China"
          ],
          [
           "Xinxiang Shi",
           "China"
          ],
          [
           "Zhumadian Shi",
           "China"
          ],
          [
           "Jiaozuo Shi",
           "China"
          ],
          [
           "Huaibei Shi",
           "China"
          ],
          [
           "Huaibei Shi",
           "China"
          ],
          [
           "Huainan Shi",
           "China"
          ],
          [
           "Huangshi Shi",
           "China"
          ],
          [
           "Xiaogan Shi",
           "China"
          ],
          [
           "Lanzhou Shi",
           "China"
          ],
          [
           "Jingmen Shi",
           "China"
          ],
          [
           "Huaihua Shi",
           "China"
          ],
          [
           "Yiyang Shi",
           "China"
          ],
          [
           "Yongzhou Shi",
           "China"
          ],
          [
           "Eerduosi Shi",
           "China"
          ],
          [
           "Huhehaote Shi",
           "China"
          ],
          [
           "Eerduosi Shi",
           "China"
          ],
          [
           "Sanming Shi",
           "China"
          ],
          [
           "Changzhou Shi",
           "China"
          ],
          [
           "Yancheng Shi",
           "China"
          ],
          [
           "Nanjing Shi",
           "China"
          ],
          [
           "Ganzhou Shi",
           "China"
          ],
          [
           "Shangrao Shi",
           "China"
          ],
          [
           "Ganzhou Shi",
           "China"
          ],
          [
           "Jiaozuo Shi",
           "China"
          ],
          [
           "Yanbian Chaoxianzuzizhizhou",
           "China"
          ],
          [
           "Taiyuan Shi",
           "China"
          ],
          [
           "Shuozhou Shi",
           "China"
          ],
          [
           "Jinhua Shi",
           "China"
          ],
          [
           "Jiujiang Shi",
           "China"
          ],
          [
           "Jiyuan Shi",
           "China"
          ],
          [
           "Jinhua Shi",
           "China"
          ],
          [
           "Jiamusi Shi",
           "China"
          ],
          [
           "Baoshan Shi",
           "China"
          ],
          [
           "Kunming Shi",
           "China"
          ],
          [
           "Kunming Shi",
           "China"
          ],
          [
           "Zunyi Shi",
           "China"
          ],
          [
           "Yibin Shi",
           "China"
          ],
          [
           "Nanan Qu",
           "China"
          ],
          [
           "Fushun Shi",
           "China"
          ],
          [
           "Benxi Shi",
           "China"
          ],
          [
           "Tieling Shi",
           "China"
          ],
          [
           "Changzhou Shi",
           "China"
          ],
          [
           "Longnan Shi",
           "China"
          ],
          [
           "Maoming Shi",
           "China"
          ],
          [
           "Meizhou Shi",
           "China"
          ],
          [
           "Honghe Hanizuyizuzizhizhou",
           "China"
          ],
          [
           "Haidong Shi",
           "China"
          ],
          [
           "Mudanjiang Shi",
           "China"
          ],
          [
           "Huhehaote Shi",
           "China"
          ],
          [
           "Ningbo Shi",
           "China"
          ],
          [
           "Yinchuan Shi",
           "China"
          ],
          [
           "Tianshui Shi",
           "China"
          ],
          [
           "Zhongwei Shi",
           "China"
          ],
          [
           "Changzhou Shi",
           "China"
          ],
          [
           "Shijiazhuang Shi",
           "China"
          ],
          [
           "Liaoyang Shi",
           "China"
          ],
          [
           "Xining Shi",
           "China"
          ],
          [
           "Zigong Shi",
           "China"
          ],
          [
           "Zunyi Shi",
           "China"
          ],
          [
           "Zunyi Shi",
           "China"
          ],
          [
           "Foshan Shi",
           "China"
          ],
          [
           "Baoji Shi",
           "China"
          ],
          [
           "Tongchuan Shi",
           "China"
          ],
          [
           "Zibo Shi",
           "China"
          ],
          [
           "Zaozhuang Shi",
           "China"
          ],
          [
           "Zibo Shi",
           "China"
          ],
          [
           "Zaozhuang Shi",
           "China"
          ],
          [
           "Weinan Shi",
           "China"
          ],
          [
           "Weinan Shi",
           "China"
          ],
          [
           "Shangluo Shi",
           "China"
          ],
          [
           "Neijiang Shi",
           "China"
          ],
          [
           "Guangan Shi",
           "China"
          ],
          [
           "Guangan Shi",
           "China"
          ],
          [
           "Meishan Shi",
           "China"
          ],
          [
           "Guangan Shi",
           "China"
          ],
          [
           "Leshan Shi",
           "China"
          ],
          [
           "Leshan Shi",
           "China"
          ],
          [
           "Guangan Shi",
           "China"
          ],
          [
           "Qiannan Buyizumiaozuzizhizhou",
           "China"
          ],
          [
           "Deyang Shi",
           "China"
          ],
          [
           "Liangshan Yizuzizhizhou",
           "China"
          ],
          [
           "Ganzi Zangzuzizhizhou",
           "China"
          ],
          [
           "Yaan Shi",
           "China"
          ],
          [
           "Zhaoqing Shi",
           "China"
          ],
          [
           "Puer Shi",
           "China"
          ],
          [
           "Hami Shi",
           "China"
          ],
          [
           "Bayinguoleng Mengguzizhizhou",
           "China"
          ],
          [
           "Pingliang Shi",
           "China"
          ],
          [
           "Wulumuqi Shi",
           "China"
          ],
          [
           "Changzhou Shi",
           "China"
          ],
          [
           "Xining Shi",
           "China"
          ],
          [
           "Wuxi Shi",
           "China"
          ],
          [
           "Jingzhou Shi",
           "China"
          ],
          [
           "Changjiang Lizuzizhixian",
           "China"
          ],
          [
           "Zhaotong Shi",
           "China"
          ],
          [
           "Linyi Shi",
           "China"
          ],
          [
           "Taiyuan Shi",
           "China"
          ],
          [
           "Jinzhong Shi",
           "China"
          ],
          [
           "Sanmenxia Shi",
           "China"
          ],
          [
           "Xinxiang Shi",
           "China"
          ],
          [
           "Wuhai Shi",
           "China"
          ],
          [
           "Wuhu Shi",
           "China"
          ],
          [
           "Wuhu Shi",
           "China"
          ],
          [
           "Jingmen Shi",
           "China"
          ],
          [
           "Qujing Shi",
           "China"
          ],
          [
           "Lijiang Shi",
           "China"
          ],
          [
           "Wenshan Zhuangzumiaozuzizhizhou",
           "China"
          ],
          [
           "Zaozhuang Shi",
           "China"
          ],
          [
           "Shaoxing Shi",
           "China"
          ],
          [
           "Ganzhou Shi",
           "China"
          ],
          [
           "Quzhou Shi",
           "China"
          ],
          [
           "Sanming Shi",
           "China"
          ],
          [
           "Jinhua Shi",
           "China"
          ],
          [
           "Hangzhou Shi",
           "China"
          ],
          [
           "Jiaxing Shi",
           "China"
          ],
          [
           "Zhengzhou Shi",
           "China"
          ],
          [
           "Zibo Shi",
           "China"
          ],
          [
           "Meizhou Shi",
           "China"
          ],
          [
           "Dali Baizuzizhizhou",
           "China"
          ],
          [
           "Sanming Shi",
           "China"
          ],
          [
           "Yibin Shi",
           "China"
          ],
          [
           "Wuhu Shi",
           "China"
          ],
          [
           "Tongchuan Shi",
           "China"
          ],
          [
           "Wuzhong Shi",
           "China"
          ],
          [
           "Tangshan Shi",
           "China"
          ],
          [
           "Guangan Shi",
           "China"
          ],
          [
           "Danzhou Shi",
           "China"
          ],
          [
           "Yangjiang Shi",
           "China"
          ],
          [
           "Puer Shi",
           "China"
          ],
          [
           "Nanning Shi",
           "China"
          ],
          [
           "Yulin Shi",
           "China"
          ],
          [
           "Yulin Shi",
           "China"
          ],
          [
           "Yunfu Shi",
           "China"
          ],
          [
           "Guigang Shi",
           "China"
          ],
          [
           "Wenshan Zhuangzumiaozuzizhizhou",
           "China"
          ],
          [
           "Baise Shi",
           "China"
          ],
          [
           "Huizhou Shi",
           "China"
          ],
          [
           "Honghe Hanizuyizuzizhizhou",
           "China"
          ],
          [
           "Huizhou Shi",
           "China"
          ],
          [
           "Laibin Shi",
           "China"
          ],
          [
           "Hechi Shi",
           "China"
          ],
          [
           "Heyuan Shi",
           "China"
          ],
          [
           "Yuxi Shi",
           "China"
          ],
          [
           "Yuxi Shi",
           "China"
          ],
          [
           "Liuzhou Shi",
           "China"
          ],
          [
           "Meizhou Shi",
           "China"
          ],
          [
           "Shaoguan Shi",
           "China"
          ],
          [
           "Yuxi Shi",
           "China"
          ],
          [
           "Longyan Shi",
           "China"
          ],
          [
           "Baoshan Shi",
           "China"
          ],
          [
           "Longyan Shi",
           "China"
          ],
          [
           "Longyan Shi",
           "China"
          ],
          [
           "Qianxinan Buyizumiaozuzizhizhou",
           "China"
          ],
          [
           "Kunming Shi",
           "China"
          ],
          [
           "Liuzhou Shi",
           "China"
          ],
          [
           "Qianxinan Buyizumiaozuzizhizhou",
           "China"
          ],
          [
           "Qianxinan Buyizumiaozuzizhizhou",
           "China"
          ],
          [
           "Qianxinan Buyizumiaozuzizhizhou",
           "China"
          ],
          [
           "Quanzhou Shi",
           "China"
          ],
          [
           "Qianxinan Buyizumiaozuzizhizhou",
           "China"
          ],
          [
           "Shaoguan Shi",
           "China"
          ],
          [
           "Baoshan Shi",
           "China"
          ],
          [
           "Quanzhou Shi",
           "China"
          ],
          [
           "Dali Baizuzizhizhou",
           "China"
          ],
          [
           "Chenzhou Shi",
           "China"
          ],
          [
           "Quanzhou Shi",
           "China"
          ],
          [
           "Chenzhou Shi",
           "China"
          ],
          [
           "Longyan Shi",
           "China"
          ],
          [
           "Liupanshui Shi",
           "China"
          ],
          [
           "Sanming Shi",
           "China"
          ],
          [
           "Liupanshui Shi",
           "China"
          ],
          [
           "Sanming Shi",
           "China"
          ],
          [
           "Sanming Shi",
           "China"
          ],
          [
           "Anshun Shi",
           "China"
          ],
          [
           "Qiandongnan Miaozudongzuzizhizhou",
           "China"
          ],
          [
           "Liupanshui Shi",
           "China"
          ],
          [
           "Guiyang Shi",
           "China"
          ],
          [
           "Qiandongnan Miaozudongzuzizhizhou",
           "China"
          ],
          [
           "Panzhihua Shi",
           "China"
          ],
          [
           "Liupanshui Shi",
           "China"
          ],
          [
           "Bijie Shi",
           "China"
          ],
          [
           "Bijie Shi",
           "China"
          ],
          [
           "Jian Shi",
           "China"
          ],
          [
           "Guiyang Shi",
           "China"
          ],
          [
           "Bijie Shi",
           "China"
          ],
          [
           "Shaoyang Shi",
           "China"
          ],
          [
           "Panzhihua Shi",
           "China"
          ],
          [
           "Pingxiang Shi",
           "China"
          ],
          [
           "Bijie Shi",
           "China"
          ],
          [
           "Zhaotong Shi",
           "China"
          ],
          [
           "Bijie Shi",
           "China"
          ],
          [
           "Zhuzhou Shi",
           "China"
          ],
          [
           "Bijie Shi",
           "China"
          ],
          [
           "Zunyi Shi",
           "China"
          ],
          [
           "Zhaotong Shi",
           "China"
          ],
          [
           "Zunyi Shi",
           "China"
          ],
          [
           "Zhaotong Shi",
           "China"
          ],
          [
           "Zunyi Shi",
           "China"
          ],
          [
           "Tongren Shi",
           "China"
          ],
          [
           "Liangshan Yizuzizhizhou",
           "China"
          ],
          [
           "Huaihua Shi",
           "China"
          ],
          [
           "Diqing Zangzuzizhizhou",
           "China"
          ],
          [
           "Zunyi Shi",
           "China"
          ],
          [
           "Zhaotong Shi",
           "China"
          ],
          [
           "Luzhou Shi",
           "China"
          ],
          [
           "Liangshan Yizuzizhizhou",
           "China"
          ],
          [
           "Zunyi Shi",
           "China"
          ],
          [
           "Xiangxi Tujiazumiaozuzizhizhou",
           "China"
          ],
          [
           "Liangshan Yizuzizhizhou",
           "China"
          ],
          [
           "Yibin Shi",
           "China"
          ],
          [
           "Quzhou Shi",
           "China"
          ],
          [
           "Shangrao Shi",
           "China"
          ],
          [
           "Liangshan Yizuzizhizhou",
           "China"
          ],
          [
           "Luzhou Shi",
           "China"
          ],
          [
           "Qijiang Qu",
           "China"
          ],
          [
           "Quzhou Shi",
           "China"
          ],
          [
           "Jinhua Shi",
           "China"
          ],
          [
           "Quzhou Shi",
           "China"
          ],
          [
           "Leshan Shi",
           "China"
          ],
          [
           "Quzhou Shi",
           "China"
          ],
          [
           "Yongchuan Qu",
           "China"
          ],
          [
           "Yaan Shi",
           "China"
          ],
          [
           "Qianjiang Qu",
           "China"
          ],
          [
           "Enshi Tujiazumiaozuzizhizhou",
           "China"
          ],
          [
           "Xianning Shi",
           "China"
          ],
          [
           "Lasa Shi",
           "China"
          ],
          [
           "Shaoxing Shi",
           "China"
          ],
          [
           "Neijiang Shi",
           "China"
          ],
          [
           "Neijiang Shi",
           "China"
          ],
          [
           "Jiujiang Shi",
           "China"
          ],
          [
           "Fengdu Xian",
           "China"
          ],
          [
           "Tongliang Qu",
           "China"
          ],
          [
           "Shaoxing Shi",
           "China"
          ],
          [
           "Neijiang Shi",
           "China"
          ],
          [
           "Huangshi Shi",
           "China"
          ],
          [
           "Yaan Shi",
           "China"
          ],
          [
           "Yaan Shi",
           "China"
          ],
          [
           "Shizhu Tujiazuzizhixian",
           "China"
          ],
          [
           "Ganzi Zangzuzizhizhou",
           "China"
          ],
          [
           "Huangshi Shi",
           "China"
          ],
          [
           "Huangshi Shi",
           "China"
          ],
          [
           "Hangzhou Shi",
           "China"
          ],
          [
           "Enshi Tujiazumiaozuzizhizhou",
           "China"
          ],
          [
           "Guangan Shi",
           "China"
          ],
          [
           "Ezhou Shi",
           "China"
          ],
          [
           "Chizhou Shi",
           "China"
          ],
          [
           "Chengdu Shi",
           "China"
          ],
          [
           "Xuancheng Shi",
           "China"
          ],
          [
           "Xuancheng Shi",
           "China"
          ],
          [
           "Tongling Shi",
           "China"
          ],
          [
           "Dazhou Shi",
           "China"
          ],
          [
           "Aba Zangzuqiangzuzizhizhou",
           "China"
          ],
          [
           "Deyang Shi",
           "China"
          ],
          [
           "Wuhu Shi",
           "China"
          ],
          [
           "Changzhou Shi",
           "China"
          ],
          [
           "Deyang Shi",
           "China"
          ],
          [
           "Hefei Shi",
           "China"
          ],
          [
           "Hefei Shi",
           "China"
          ],
          [
           "Mianyang Shi",
           "China"
          ],
          [
           "Xiangyang Shi",
           "China"
          ],
          [
           "Mianyang Shi",
           "China"
          ],
          [
           "Maanshan Shi",
           "China"
          ],
          [
           "Nanjing Shi",
           "China"
          ],
          [
           "Zhenjiang",
           "China"
          ],
          [
           "Guangyuan Shi",
           "China"
          ],
          [
           "Guangyuan Shi",
           "China"
          ],
          [
           "Guangyuan Shi",
           "China"
          ],
          [
           "Ankang Shi",
           "China"
          ],
          [
           "Guangyuan Shi",
           "China"
          ],
          [
           "Nanyang Shi",
           "China"
          ],
          [
           "Longnan Shi",
           "China"
          ],
          [
           "Longnan Shi",
           "China"
          ],
          [
           "Pingdingshan Shi",
           "China"
          ],
          [
           "Baoji Shi",
           "China"
          ],
          [
           "Baoji Shi",
           "China"
          ],
          [
           "Baoji Shi",
           "China"
          ],
          [
           "Zhengzhou Shi",
           "China"
          ],
          [
           "Zhengzhou Shi",
           "China"
          ],
          [
           "Xuzhou Shi",
           "China"
          ],
          [
           "Tianshui Shi",
           "China"
          ],
          [
           "Tianshui Shi",
           "China"
          ],
          [
           "Zaozhuang Shi",
           "China"
          ],
          [
           "Zaozhuang Shi",
           "China"
          ],
          [
           "Sanmenxia Shi",
           "China"
          ],
          [
           "Zaozhuang Shi",
           "China"
          ],
          [
           "Zaozhuang Shi",
           "China"
          ],
          [
           "Dingxi Shi",
           "China"
          ],
          [
           "Linyi Shi",
           "China"
          ],
          [
           "Tongchuan Shi",
           "China"
          ],
          [
           "Linyi Shi",
           "China"
          ],
          [
           "Xinxiang Shi",
           "China"
          ],
          [
           "Xinxiang Shi",
           "China"
          ],
          [
           "Rizhao Shi",
           "China"
          ],
          [
           "Lanzhou Shi",
           "China"
          ],
          [
           "Dingxi Shi",
           "China"
          ],
          [
           "Linfen Shi",
           "China"
          ],
          [
           "Taian Shi",
           "China"
          ],
          [
           "Haixi Mengguzuzangzuzizhizhou",
           "China"
          ],
          [
           "Changzhi Shi",
           "China"
          ],
          [
           "Laiwu Shi",
           "China"
          ],
          [
           "Anyang Shi",
           "China"
          ],
          [
           "Taian Shi",
           "China"
          ],
          [
           "Guyuan Shi",
           "China"
          ],
          [
           "Hainan Zangzuzizhizhou",
           "China"
          ],
          [
           "Linfen Shi",
           "China"
          ],
          [
           "Changzhi Shi",
           "China"
          ],
          [
           "Weifang Shi",
           "China"
          ],
          [
           "Haidong Shi",
           "China"
          ],
          [
           "Haidong Shi",
           "China"
          ],
          [
           "Weifang Shi",
           "China"
          ],
          [
           "Xining Shi",
           "China"
          ],
          [
           "Baiyin Shi",
           "China"
          ],
          [
           "Zibo Shi",
           "China"
          ],
          [
           "Handan Shi",
           "China"
          ],
          [
           "Handan Shi",
           "China"
          ],
          [
           "Zibo Shi",
           "China"
          ],
          [
           "Baiyin Shi",
           "China"
          ],
          [
           "Lanzhou Shi",
           "China"
          ],
          [
           "Xingtai Shi",
           "China"
          ],
          [
           "Xingtai Shi",
           "China"
          ],
          [
           "Hetian Diqu",
           "China"
          ],
          [
           "Wuzhong Shi",
           "China"
          ],
          [
           "Zhongwei Shi",
           "China"
          ],
          [
           "Lüliang",
           "China"
          ],
          [
           "Lvliang Shi",
           "China"
          ],
          [
           "Lvliang Shi",
           "China"
          ],
          [
           "Wuwei Shi",
           "China"
          ],
          [
           "Yantai Shi",
           "China"
          ],
          [
           "Yantai Shi",
           "China"
          ],
          [
           "Kashi Diqu",
           "China"
          ],
          [
           "Taiyuan Shi",
           "China"
          ],
          [
           "Taiyuan Shi",
           "China"
          ],
          [
           "Yinchuan Shi",
           "China"
          ],
          [
           "Yinchuan Shi",
           "China"
          ],
          [
           "Alxa League",
           "China"
          ],
          [
           "Jinchang Shi",
           "China"
          ],
          [
           "Jinchang Shi",
           "China"
          ],
          [
           "Jinchang Shi",
           "China"
          ],
          [
           "Kashi Diqu",
           "China"
          ],
          [
           "Zhangye Shi",
           "China"
          ],
          [
           "Xinzhou Shi",
           "China"
          ],
          [
           "Xinzhou Shi",
           "China"
          ],
          [
           "Dalian Shi",
           "China"
          ],
          [
           "Baoding Shi",
           "China"
          ],
          [
           "Kashi Diqu",
           "China"
          ],
          [
           "Shuozhou Shi",
           "China"
          ],
          [
           "Eerduosi Shi",
           "China"
          ],
          [
           "Kashi Diqu",
           "China"
          ],
          [
           "Tangshan Shi",
           "China"
          ],
          [
           "Jiuquan Shi",
           "China"
          ],
          [
           "Shuozhou Shi",
           "China"
          ],
          [
           "Kezilesukeerkezi Zizhizhou",
           "China"
          ],
          [
           "Fangshan Qu",
           "China"
          ],
          [
           "Jiuquan Shi",
           "China"
          ],
          [
           "Tangshan Shi",
           "China"
          ],
          [
           "Eerduosi Shi",
           "China"
          ],
          [
           "Shuozhou Shi",
           "China"
          ],
          [
           "Zhangjiakou Shi",
           "China"
          ],
          [
           "Tangshan Shi",
           "China"
          ],
          [
           "Tangshan Shi",
           "China"
          ],
          [
           "Tangshan Shi",
           "China"
          ],
          [
           "Tangshan Shi",
           "China"
          ],
          [
           "Tangshan Shi",
           "China"
          ],
          [
           "Datong Shi",
           "China"
          ],
          [
           "Langfang Shi",
           "China"
          ],
          [
           "Qinhuangdao Shi",
           "China"
          ],
          [
           "Jiuquan Shi",
           "China"
          ],
          [
           "Chengde Shi",
           "China"
          ],
          [
           "Chengde Shi",
           "China"
          ],
          [
           "Chengde Shi",
           "China"
          ],
          [
           "Chengde Shi",
           "China"
          ],
          [
           "Dandong Shi",
           "China"
          ],
          [
           "Huludao Shi",
           "China"
          ],
          [
           "Bayannaoer Shi",
           "China"
          ],
          [
           "Huhehaote Shi",
           "China"
          ],
          [
           "Huhehaote Shi",
           "China"
          ],
          [
           "Akesu Diqu",
           "China"
          ],
          [
           "Akesu Diqu",
           "China"
          ],
          [
           "Chengde Shi",
           "China"
          ],
          [
           "Jinzhou Shi",
           "China"
          ],
          [
           "Liaoyang Shi",
           "China"
          ],
          [
           "Benxi Shi",
           "China"
          ],
          [
           "Liaoyang Shi",
           "China"
          ],
          [
           "Chaoyang Shi",
           "China"
          ],
          [
           "Chaoyang Shi",
           "China"
          ],
          [
           "Akesu Diqu",
           "China"
          ],
          [
           "Tonghua Shi",
           "China"
          ],
          [
           "Baishan Shi",
           "China"
          ],
          [
           "Bayinguoleng Mengguzizhizhou",
           "China"
          ],
          [
           "Fuxin Shi",
           "China"
          ],
          [
           "Tieling Shi",
           "China"
          ],
          [
           "Tongliao Shi",
           "China"
          ],
          [
           "Hami Shi",
           "China"
          ],
          [
           "Hami Shi",
           "China"
          ],
          [
           "Tulufan Shi",
           "China"
          ],
          [
           "Tulufan Shi",
           "China"
          ],
          [
           "Tongliao Shi",
           "China"
          ],
          [
           "Tongliao Shi",
           "China"
          ],
          [
           "Tulufan Shi",
           "China"
          ],
          [
           "Siping Shi",
           "China"
          ],
          [
           "Yili Hasakezizhizhou",
           "China"
          ],
          [
           "Changchun Shi",
           "China"
          ],
          [
           "Yanbian Chaoxianzuzizhizhou",
           "China"
          ],
          [
           "Wulumuqi Shi",
           "China"
          ],
          [
           "Yili Hasakezizhizhou",
           "China"
          ],
          [
           "Wulumuqi Shi",
           "China"
          ],
          [
           "Wulumuqi Shi",
           "China"
          ],
          [
           "Changji Huizuzizhizhou",
           "China"
          ],
          [
           "Changji Huizuzizhizhou",
           "China"
          ],
          [
           "Yili Hasakezizhizhou",
           "China"
          ],
          [
           "Yili Hasakezizhizhou",
           "China"
          ],
          [
           "Boertala Mengguzizhizhou",
           "China"
          ],
          [
           "Haerbin Shi",
           "China"
          ],
          [
           "Haerbin Shi",
           "China"
          ],
          [
           "Haerbin Shi",
           "China"
          ],
          [
           "Jiamusi Shi",
           "China"
          ],
          [
           "Jiamusi Shi",
           "China"
          ],
          [
           "Aletai Diqu",
           "China"
          ],
          [
           "Hegang Shi",
           "China"
          ],
          [
           "Aletai Diqu",
           "China"
          ],
          [
           "Hulunbeier Shi",
           "China"
          ],
          [
           "Hulunbeier Shi",
           "China"
          ],
          [
           "Heihe Shi",
           "China"
          ],
          [
           "Hulunbeier Shi",
           "China"
          ],
          [
           "Laiwu Shi",
           "China"
          ],
          [
           "Chengdu Shi",
           "China"
          ],
          [
           "Nanning Shi",
           "China"
          ],
          [
           "Hechi Shi",
           "China"
          ],
          [
           "Anyang Shi",
           "China"
          ],
          [
           "Xingan Meng",
           "China"
          ],
          [
           "Jiaozuo Shi",
           "China"
          ],
          [
           "Sanya Shi",
           "China"
          ],
          [
           "Jiaxing Shi",
           "China"
          ],
          [
           "Zibo Shi",
           "China"
          ],
          [
           "Chifeng Shi",
           "China"
          ],
          [
           "Chengmai Xian",
           "China"
          ],
          [
           "Liuzhou Shi",
           "China"
          ],
          [
           "Fuzhou Shi",
           "China"
          ],
          [
           "Shangrao Shi",
           "China"
          ],
          [
           "Jinhua Shi",
           "China"
          ],
          [
           "Shaoxing Shi",
           "China"
          ],
          [
           "Xiaogan Shi",
           "China"
          ],
          [
           "Fengjie Xian",
           "China"
          ],
          [
           "Wuxi Shi",
           "China"
          ],
          [
           "Nanjing Shi",
           "China"
          ],
          [
           "Yangzhou Shi",
           "China"
          ],
          [
           "Chuzhou Shi",
           "China"
          ],
          [
           "Zhumadian Shi",
           "China"
          ],
          [
           "Zhumadian Shi",
           "China"
          ],
          [
           "Yancheng Shi",
           "China"
          ],
          [
           "Fuyang Shi",
           "China"
          ],
          [
           "Yangzhou Shi",
           "China"
          ],
          [
           "Suqian Shi",
           "China"
          ],
          [
           "Suqian Shi",
           "China"
          ],
          [
           "Baoji Shi",
           "China"
          ],
          [
           "Xuchang Shi",
           "China"
          ],
          [
           "Xuchang Shi",
           "China"
          ],
          [
           "Zaozhuang Shi",
           "China"
          ],
          [
           "Kaifeng Shi",
           "China"
          ],
          [
           "Tongchuan Shi",
           "China"
          ],
          [
           "Xinxiang Shi",
           "China"
          ],
          [
           "Xinxiang Shi",
           "China"
          ],
          [
           "Hebi Shi",
           "China"
          ],
          [
           "Anyang Shi",
           "China"
          ],
          [
           "Changzhi Shi",
           "China"
          ],
          [
           "Jinan Shi",
           "China"
          ],
          [
           "Zibo Shi",
           "China"
          ],
          [
           "Weihai Shi",
           "China"
          ],
          [
           "Yantai Shi",
           "China"
          ],
          [
           "Yulin Shi",
           "China"
          ],
          [
           "Eerduosi Shi",
           "China"
          ],
          [
           "Tangshan Shi",
           "China"
          ],
          [
           "Tangshan Shi",
           "China"
          ],
          [
           "Yingkou Shi",
           "China"
          ],
          [
           "Baotou Shi",
           "China"
          ],
          [
           "Jinzhou Shi",
           "China"
          ],
          [
           "Tieling Shi",
           "China"
          ],
          [
           "Changchun Shi",
           "China"
          ],
          [
           "Jixi Shi",
           "China"
          ],
          [
           "Jiamusi Shi",
           "China"
          ],
          [
           "Qiqihaer Shi",
           "China"
          ],
          [
           "Yulin Shi",
           "China"
          ],
          [
           "Abidjan",
           "Côte d'Ivoire"
          ],
          [
           "San-Pédro",
           "Côte d'Ivoire"
          ],
          [
           "Abidjan",
           "Côte d'Ivoire"
          ],
          [
           "San-Pédro",
           "Côte d'Ivoire"
          ],
          [
           "Abidjan",
           "Côte d'Ivoire"
          ],
          [
           "Bonabéri",
           "Cameroon"
          ],
          [
           "Douala",
           "Cameroon"
          ],
          [
           "Figuil",
           "Cameroon"
          ],
          [
           "Bonabéri",
           "Cameroon"
          ],
          [
           "Mfoundi",
           "Cameroon"
          ],
          [
           "Douala",
           "Cameroon"
          ],
          [
           "Douala",
           "Cameroon"
          ],
          [
           "Lukala",
           "Congo, Democratic Republic of the"
          ],
          [
           "Luhihi",
           "Congo, Democratic Republic of the"
          ],
          [
           "Tanganyika",
           "Congo, Democratic Republic of the"
          ],
          [
           "Cataractes",
           "Congo, Democratic Republic of the"
          ],
          [
           "Kimpese",
           "Congo, Democratic Republic of the"
          ],
          [
           "Lubudi",
           "Congo, Democratic Republic of the"
          ],
          [
           "Pointe Noire",
           "Congo"
          ],
          [
           "Mindouli",
           "Congo"
          ],
          [
           "Madingou",
           "Congo"
          ],
          [
           "Louvakou",
           "Congo"
          ],
          [
           "Barranquilla",
           "Colombia"
          ],
          [
           "La Paz",
           "Colombia"
          ],
          [
           "Yumbo",
           "Colombia"
          ],
          [
           "Suesca",
           "Colombia"
          ],
          [
           "Sogamoso",
           "Colombia"
          ],
          [
           "Ibagué",
           "Colombia"
          ],
          [
           "Los Patios",
           "Colombia"
          ],
          [
           "Maceo",
           "Colombia"
          ],
          [
           "Bucaramanga",
           "Colombia"
          ],
          [
           "Clemencia",
           "Colombia"
          ],
          [
           "Sogamoso",
           "Colombia"
          ],
          [
           "Sonsón",
           "Colombia"
          ],
          [
           "El Cairo",
           "Colombia"
          ],
          [
           "Yumbo",
           "Colombia"
          ],
          [
           "Provincia de Cartagena",
           "Colombia"
          ],
          [
           "Tolú Viejo",
           "Colombia"
          ],
          [
           "Puerto Nare",
           "Colombia"
          ],
          [
           "Barranquilla",
           "Colombia"
          ],
          [
           "Nobsa",
           "Colombia"
          ],
          [
           "Sogamoso",
           "Colombia"
          ],
          [
           "Sabanagrande",
           "Colombia"
          ],
          [
           "San Gil",
           "Colombia"
          ],
          [
           "Quebrada Honda",
           "Costa Rica"
          ],
          [
           "Guatuso de Patarrá",
           "Costa Rica"
          ],
          [
           "Cartago",
           "Costa Rica"
          ],
          [
           "Santiago de Cuba",
           "Cuba"
          ],
          [
           "Siguaney",
           "Cuba"
          ],
          [
           "Cienfuegos",
           "Cuba"
          ],
          [
           "Mariel",
           "Cuba"
          ],
          [
           "Artemisa",
           "Cuba"
          ],
          [
           "Kalecik",
           "Cyprus"
          ],
          [
           "Tatlısu",
           "Cyprus"
          ],
          [
           "Hranice",
           "Czechia"
          ],
          [
           "Prachovice",
           "Czechia"
          ],
          [
           "Dětmarovice",
           "Czechia"
          ],
          [
           "Sivice",
           "Czechia"
          ],
          [
           "Hlavní město Praha",
           "Czechia"
          ],
          [
           "Sulejovice",
           "Czechia"
          ],
          [
           "Deuna",
           "Germany"
          ],
          [
           "Geseke",
           "Germany"
          ],
          [
           "Göllheim",
           "Germany"
          ],
          [
           "Lengerich",
           "Germany"
          ],
          [
           "Wiesbaden",
           "Germany"
          ],
          [
           "Neuss",
           "Germany"
          ],
          [
           "Neuwied",
           "Germany"
          ],
          [
           "Erwitte",
           "Germany"
          ],
          [
           "Erwitte",
           "Germany"
          ],
          [
           "Karsdorf",
           "Germany"
          ],
          [
           "Walzbachtal",
           "Germany"
          ],
          [
           "Kall",
           "Germany"
          ],
          [
           "Rüdersdorf bei Berlin",
           "Germany"
          ],
          [
           "Eisenhüttenstadt",
           "Germany"
          ],
          [
           "Bötzingen",
           "Germany"
          ],
          [
           "Burglengenfeld",
           "Germany"
          ],
          [
           "Ennigerloh",
           "Germany"
          ],
          [
           "Hannover",
           "Germany"
          ],
          [
           "Leimen",
           "Germany"
          ],
          [
           "Paderborn",
           "Germany"
          ],
          [
           "Schelklingen",
           "Germany"
          ],
          [
           "Triefenstein",
           "Germany"
          ],
          [
           "Geseke",
           "Germany"
          ],
          [
           "Königs Wusterhausen",
           "Germany"
          ],
          [
           "Mainz",
           "Germany"
          ],
          [
           "Erwitte",
           "Germany"
          ],
          [
           "Dotternhausen",
           "Germany"
          ],
          [
           "Rethwisch",
           "Germany"
          ],
          [
           "Sehnde",
           "Germany"
          ],
          [
           "Beckum",
           "Germany"
          ],
          [
           "Bremen",
           "Germany"
          ],
          [
           "Dortmund",
           "Germany"
          ],
          [
           "Duisburg",
           "Germany"
          ],
          [
           "Rostock",
           "Germany"
          ],
          [
           "Harburg (Schwaben)",
           "Germany"
          ],
          [
           "Lauffen am Neckar",
           "Germany"
          ],
          [
           "Beckum",
           "Germany"
          ],
          [
           "Üxheim",
           "Germany"
          ],
          [
           "Rohrdorf",
           "Germany"
          ],
          [
           "Nienburg (Saale)",
           "Germany"
          ],
          [
           "Allmendingen",
           "Germany"
          ],
          [
           "Heidenheim an der Brenz",
           "Germany"
          ],
          [
           "Karlstadt",
           "Germany"
          ],
          [
           "Pommelsbrunn",
           "Germany"
          ],
          [
           "Solnhofen",
           "Germany"
          ],
          [
           "Erwitte",
           "Germany"
          ],
          [
           "Duisburg",
           "Germany"
          ],
          [
           "Berlin",
           "Germany"
          ],
          [
           "Großenlüder",
           "Germany"
          ],
          [
           "Lübeck",
           "Germany"
          ],
          [
           "Wichmar",
           "Germany"
          ],
          [
           "Mannheim",
           "Germany"
          ],
          [
           "Ali Sabieh ",
           "Djibouti"
          ],
          [
           "Aalborg",
           "Denmark"
          ],
          [
           "Quisqueya",
           "Dominican Republic"
          ],
          [
           "Sabana Grande de Palenque",
           "Dominican Republic"
          ],
          [
           "San Gregorio de Nigua",
           "Dominican Republic"
          ],
          [
           "Santiago De Los Caballeros",
           "Dominican Republic"
          ],
          [
           "Cabo Rojo",
           "Dominican Republic"
          ],
          [
           "Los Llanos",
           "Dominican Republic"
          ],
          [
           "Las Charcas",
           "Dominican Republic"
          ],
          [
           "Sour El-Ghozlane",
           "Algeria"
          ],
          [
           "Hadjar El-Soud",
           "Algeria"
          ],
          [
           "Meftah",
           "Algeria"
          ],
          [
           "Raïs Hamidou",
           "Algeria"
          ],
          [
           "Oued Sly",
           "Algeria"
          ],
          [
           "Tilatou",
           "Algeria"
          ],
          [
           "Didouche Mourad",
           "Algeria"
          ],
          [
           "El Hassasna",
           "Algeria"
          ],
          [
           "El Ma Labiodh",
           "Algeria"
          ],
          [
           "Ouled Adouane",
           "Algeria"
          ],
          [
           "Beni Saf",
           "Algeria"
          ],
          [
           "Zahana",
           "Algeria"
          ],
          [
           "Sigus",
           "Algeria"
          ],
          [
           "Béchar",
           "Algeria"
          ],
          [
           "Djemorah",
           "Algeria"
          ],
          [
           "Hammam Dalaa",
           "Algeria"
          ],
          [
           "OGGAZ",
           "Algeria"
          ],
          [
           "Aïn Rahma",
           "Algeria"
          ],
          [
           "Guayaquil",
           "Ecuador"
          ],
          [
           "Latacunga",
           "Ecuador"
          ],
          [
           "Azogues",
           "Ecuador"
          ],
          [
           "Riobamba",
           "Ecuador"
          ],
          [
           "Otavalo",
           "Ecuador"
          ],
          [
           "Suez Desert",
           "Egypt"
          ],
          [
           "Asyut Desert",
           "Egypt"
          ],
          [
           "El Hassana",
           "Egypt"
          ],
          [
           "Asyut Desert",
           "Egypt"
          ],
          [
           "Qena El Gadida City",
           "Egypt"
          ],
          [
           "Helwan",
           "Egypt"
          ],
          [
           "Cairo Governorate Desert",
           "Egypt"
          ],
          [
           "Suez Desert",
           "Egypt"
          ],
          [
           "Tura",
           "Egypt"
          ],
          [
           "Qesm Borg Al Arab",
           "Egypt"
          ],
          [
           "Suez Desert",
           "Egypt"
          ],
          [
           "New Bani Suef",
           "Egypt"
          ],
          [
           "Al Minya Desert",
           "Egypt"
          ],
          [
           "Qena Desert",
           "Egypt"
          ],
          [
           "Abo Simbel Desert",
           "Egypt"
          ],
          [
           "Al Minya Desert",
           "Egypt"
          ],
          [
           "El Hassana",
           "Egypt"
          ],
          [
           "Bani Suef Desert",
           "Egypt"
          ],
          [
           "Dekhela",
           "Egypt"
          ],
          [
           "New Bani Suef",
           "Egypt"
          ],
          [
           "Bani Suef Desert",
           "Egypt"
          ],
          [
           "Suez Desert",
           "Egypt"
          ],
          [
           "Samalout",
           "Egypt"
          ],
          [
           "El Hassana",
           "Egypt"
          ],
          [
           "Foro",
           "Eritrea"
          ],
          [
           "Massawa",
           "Eritrea"
          ],
          [
           "Badajoz",
           "Spain"
          ],
          [
           "Lemoa",
           "Spain"
          ],
          [
           "Dos Hermanas",
           "Spain"
          ],
          [
           "Santa Eulalia",
           "Spain"
          ],
          [
           "San Bartolomé de Tirajana",
           "Spain"
          ],
          [
           "Abanilla",
           "Spain"
          ],
          [
           "Riba-roja de Túria",
           "Spain"
          ],
          [
           "Sant Vicenç dels Horts",
           "Spain"
          ],
          [
           "Cantabria",
           "Spain"
          ],
          [
           "Morata de Tajuña",
           "Spain"
          ],
          [
           "Olazagutía",
           "Spain"
          ],
          [
           "Venta de Baños",
           "Spain"
          ],
          [
           "Sevilla",
           "Spain"
          ],
          [
           "Barcelona",
           "Spain"
          ],
          [
           "Buñol",
           "Spain"
          ],
          [
           "Morata de Jalón",
           "Spain"
          ],
          [
           "Alicante",
           "Spain"
          ],
          [
           "Alcanar",
           "Spain"
          ],
          [
           "Yepes",
           "Spain"
          ],
          [
           "Alacant",
           "Spain"
          ],
          [
           "Buñol",
           "Spain"
          ],
          [
           "Cartagena",
           "Spain"
          ],
          [
           "Valencia",
           "Spain"
          ],
          [
           "Asturias",
           "Spain"
          ],
          [
           "La Robla",
           "Spain"
          ],
          [
           "Asturias",
           "Spain"
          ],
          [
           "Narón",
           "Spain"
          ],
          [
           "Puerto de Castellón",
           "Spain"
          ],
          [
           "Arrigorriaga",
           "Spain"
          ],
          [
           "Málaga",
           "Spain"
          ],
          [
           "Donostia",
           "Spain"
          ],
          [
           "Jerez de la Frontera",
           "Spain"
          ],
          [
           "Carboneras",
           "Spain"
          ],
          [
           "Cádiz",
           "Spain"
          ],
          [
           "Villaluenga de la Sagra",
           "Spain"
          ],
          [
           "Montcada i Reixac",
           "Spain"
          ],
          [
           "Sagunto",
           "Spain"
          ],
          [
           "Lleida",
           "Spain"
          ],
          [
           "Córdoba",
           "Spain"
          ],
          [
           "Niebla",
           "Spain"
          ],
          [
           "Oural",
           "Spain"
          ],
          [
           "Toral de los Vados",
           "Spain"
          ],
          [
           "Málaga",
           "Spain"
          ],
          [
           "Santa Cruz de Tenerife",
           "Spain"
          ],
          [
           "Sant Feliu de Llobregat",
           "Spain"
          ],
          [
           "La Parrilla",
           "Spain"
          ],
          [
           "Granadilla",
           "Spain"
          ],
          [
           "Santa Cruz de Tenerife",
           "Spain"
          ],
          [
           "Kunda",
           "Estonia"
          ],
          [
           "West Shewa",
           "Ethiopia"
          ],
          [
           "North Shewa",
           "Ethiopia"
          ],
          [
           "South Tigray",
           "Ethiopia"
          ],
          [
           "East Hararghe",
           "Ethiopia"
          ],
          [
           "West Shewa",
           "Ethiopia"
          ],
          [
           "Chancho ",
           "Ethiopia"
          ],
          [
           "West Shewa",
           "Ethiopia"
          ],
          [
           "Lappeenranta",
           "Finland"
          ],
          [
           "Ålön",
           "Finland"
          ],
          [
           "Lapaluoto",
           "Finland"
          ],
          [
           "Rewa",
           "Fiji"
          ],
          [
           "Dannes",
           "France"
          ],
          [
           "Héming",
           "France"
          ],
          [
           "Lumbres",
           "France"
          ],
          [
           "Rochefort-sur-Nenon",
           "France"
          ],
          [
           "Nord",
           "France"
          ],
          [
           "Nord",
           "France"
          ],
          [
           "Grand-Couronne",
           "France"
          ],
          [
           "Montoir-de-Bretagne",
           "France"
          ],
          [
           "La Rochelle",
           "France"
          ],
          [
           "Saint-Étienne-du-Vauvray",
           "France"
          ],
          [
           "Oudalle",
           "France"
          ],
          [
           "Fos-sur-Mer",
           "France"
          ],
          [
           "Airvault",
           "France"
          ],
          [
           "Beaucaire",
           "France"
          ],
          [
           "Bussac-Forêt",
           "France"
          ],
          [
           "Cruas",
           "France"
          ],
          [
           "Juziers",
           "France"
          ],
          [
           "Villiers-au-Bouin",
           "France"
          ],
          [
           "Couvrot",
           "France"
          ],
          [
           "Beffes",
           "France"
          ],
          [
           "Amnéville",
           "France"
          ],
          [
           "Ranville",
           "France"
          ],
          [
           "Altkirch",
           "France"
          ],
          [
           "Contes",
           "France"
          ],
          [
           "La Couronne",
           "France"
          ],
          [
           "Saint-Vigor-d'Ymonville",
           "France"
          ],
          [
           "Le Teil",
           "France"
          ],
          [
           "Chatillon",
           "France"
          ],
          [
           "Martres-Tolosane",
           "France"
          ],
          [
           "Port-la-Nouvelle",
           "France"
          ],
          [
           "Saint-Pierre-la-Cour",
           "France"
          ],
          [
           "Bouc-Bel-Air",
           "France"
          ],
          [
           "Brest",
           "France"
          ],
          [
           "Sète",
           "France"
          ],
          [
           "Dunkerque",
           "France"
          ],
          [
           "Bassens",
           "France"
          ],
          [
           "Fos-sur-Mer",
           "France"
          ],
          [
           "Créchy",
           "France"
          ],
          [
           "Peille",
           "France"
          ],
          [
           "Montalieu-Vercieu",
           "France"
          ],
          [
           "Saint-Egrève",
           "France"
          ],
          [
           "Xeuilley",
           "France"
          ],
          [
           "Voreppe",
           "France"
          ],
          [
           "Saint-Laurent-du-Pont",
           "France"
          ],
          [
           "Chambéry",
           "France"
          ],
          [
           "Fos-sur-Mer",
           "France"
          ],
          [
           "Tonneins",
           "France"
          ],
          [
           "Libreville",
           "Gabon"
          ],
          [
           "Nkan",
           "Gabon"
          ],
          [
           "Souanke",
           "Gabon"
          ],
          [
           "Derbyshire",
           "United Kingdom"
          ],
          [
           "Rhoose",
           "United Kingdom"
          ],
          [
           "Derbyshire",
           "United Kingdom"
          ],
          [
           "East Lothian Council",
           "United Kingdom"
          ],
          [
           "Nottinghamshire",
           "United Kingdom"
          ],
          [
           "Winteringham",
           "United Kingdom"
          ],
          [
           "Warwickshire",
           "United Kingdom"
          ],
          [
           "Thurrock",
           "United Kingdom"
          ],
          [
           "Lancashire",
           "United Kingdom"
          ],
          [
           "Flintshire",
           "United Kingdom"
          ],
          [
           "Ketton",
           "United Kingdom"
          ],
          [
           "Redcar and Cleveland",
           "United Kingdom"
          ],
          [
           "Purfleet",
           "United Kingdom"
          ],
          [
           "Neath Port Talbot Principle Area",
           "United Kingdom"
          ],
          [
           "Mid Ulster",
           "United Kingdom"
          ],
          [
           "Waterhouses",
           "United Kingdom"
          ],
          [
           "North Lincolnshire",
           "United Kingdom"
          ],
          [
           "Fermanagh and Omagh",
           "United Kingdom"
          ],
          [
           "Kaspi",
           "Georgia"
          ],
          [
           "Rustavi",
           "Georgia"
          ],
          [
           "Poti",
           "Georgia"
          ],
          [
           "T'bilisi",
           "Georgia"
          ],
          [
           "Tema",
           "Ghana"
          ],
          [
           "Tema",
           "Ghana"
          ],
          [
           "Takoradi",
           "Ghana"
          ],
          [
           "Tema",
           "Ghana"
          ],
          [
           "Central Gonja",
           "Ghana"
          ],
          [
           "Ketu",
           "Ghana"
          ],
          [
           "Ahanta West",
           "Ghana"
          ],
          [
           "Conakry",
           "Guinea"
          ],
          [
           "Conakry",
           "Guinea"
          ],
          [
           "Conakry",
           "Guinea"
          ],
          [
           "Baie-Mahault",
           "Guadeloupe"
          ],
          [
           "Aspropirgos",
           "Greece"
          ],
          [
           "Taminei",
           "Greece"
          ],
          [
           "Volos",
           "Greece"
          ],
          [
           "Ρίο",
           "Greece"
          ],
          [
           "Efkarpia",
           "Greece"
          ],
          [
           "Magoula",
           "Greece"
          ],
          [
           "Elefsina",
           "Greece"
          ],
          [
           "Ciudad de Guatemala",
           "Guatemala"
          ],
          [
           "San Juan Sacatepéquez",
           "Guatemala"
          ],
          [
           "Sanarate",
           "Guatemala"
          ],
          [
           "San José",
           "Guatemala"
          ],
          [
           "San José",
           "Guatemala"
          ],
          [
           "Remire-Montjoly",
           "French Guiana"
          ],
          [
           "Río Blanquito",
           "Honduras"
          ],
          [
           "Comayagua",
           "Honduras"
          ],
          [
           "San Lorenzo",
           "Honduras"
          ],
          [
           "Pula",
           "Croatia"
          ],
          [
           "Kaštel Sućurac",
           "Croatia"
          ],
          [
           "Solin",
           "Croatia"
          ],
          [
           "Koromačno",
           "Croatia"
          ],
          [
           "Zoljan",
           "Croatia"
          ],
          [
           "Aubry",
           "Haiti"
          ],
          [
           "Miskolc",
           "Hungary"
          ],
          [
           "Lábatlan",
           "Hungary"
          ],
          [
           "Beremend",
           "Hungary"
          ],
          [
           "Vác",
           "Hungary"
          ],
          [
           "Királyegyháza",
           "Hungary"
          ],
          [
           "Manokwari",
           "Indonesia"
          ],
          [
           "Tabalong Regency",
           "Indonesia"
          ],
          [
           "Bolaang Mongondow Regency",
           "Indonesia"
          ],
          [
           "Serang",
           "Indonesia"
          ],
          [
           "Pontianak",
           "Indonesia"
          ],
          [
           "Kota Cilegon",
           "Indonesia"
          ],
          [
           "Kabupaten Maros",
           "Indonesia"
          ],
          [
           "Kota Batam",
           "Indonesia"
          ],
          [
           "Kabupaten Banyuwangi",
           "Indonesia"
          ],
          [
           "Lebak Regency",
           "Indonesia"
          ],
          [
           "Kota Cilegon",
           "Indonesia"
          ],
          [
           "Kota Cilegon",
           "Indonesia"
          ],
          [
           "Kabupaten Gresik",
           "Indonesia"
          ],
          [
           "Kota Medan",
           "Indonesia"
          ],
          [
           "Kabupatén Grobogan",
           "Indonesia"
          ],
          [
           "Bogor",
           "Indonesia"
          ],
          [
           "Cirebon",
           "Indonesia"
          ],
          [
           "Kotabaru Regency",
           "Indonesia"
          ],
          [
           "Kabupaten Jember",
           "Indonesia"
          ],
          [
           "Bekasi",
           "Indonesia"
          ],
          [
           "Serang",
           "Indonesia"
          ],
          [
           "Kabupaten Ogan Komering Ulu",
           "Indonesia"
          ],
          [
           "Kota Palembang",
           "Indonesia"
          ],
          [
           "Kota Bandar Lampung",
           "Indonesia"
          ],
          [
           "Kabupaten Cilacap",
           "Indonesia"
          ],
          [
           "Bogor",
           "Indonesia"
          ],
          [
           "Tuban Regency",
           "Indonesia"
          ],
          [
           "Kabupaten Aceh Besar",
           "Indonesia"
          ],
          [
           "Kota Padang",
           "Indonesia"
          ],
          [
           "Kabupaten Rembang",
           "Indonesia"
          ],
          [
           "Kabupaten Pangkajene Dan Kepulauan",
           "Indonesia"
          ],
          [
           "Kabupaten Tuban",
           "Indonesia"
          ],
          [
           "Kota Cilegon",
           "Indonesia"
          ],
          [
           "Kota Kupang",
           "Indonesia"
          ],
          [
           "Sukabumi Regency",
           "Indonesia"
          ],
          [
           "Kabupatén Banyumas",
           "Indonesia"
          ],
          [
           "Satna",
           "India"
          ],
          [
           "Chittorgarh",
           "India"
          ],
          [
           "Girgita",
           "India"
          ],
          [
           "Raebareli",
           "India"
          ],
          [
           "Durgapur",
           "India"
          ],
          [
           "Gangapur",
           "India"
          ],
          [
           "Khairhani",
           "India"
          ],
          [
           "Nalgonda",
           "India"
          ],
          [
           "Bayyavaram",
           "India"
          ],
          [
           "Mela Maruthur",
           "India"
          ],
          [
           "Bokajan",
           "India"
          ],
          [
           "Karankote",
           "India"
          ],
          [
           "Rajban",
           "India"
          ],
          [
           "Neemuch",
           "India"
          ],
          [
           "Janjgir-Champa",
           "India"
          ],
          [
           "Kurgunta",
           "India"
          ],
          [
           "Baikunth",
           "India"
          ],
          [
           "Gadchandur",
           "India"
          ],
          [
           "Sagmaniha",
           "India"
          ],
          [
           "Dhalo",
           "India"
          ],
          [
           "Sangam K",
           "India"
          ],
          [
           "Karikkali",
           "India"
          ],
          [
           "Keezhapalur",
           "India"
          ],
          [
           "Puliyur",
           "India"
          ],
          [
           "Solapur",
           "India"
          ],
          [
           "East Jaintia Hills",
           "India"
          ],
          [
           "16 Kilo",
           "India"
          ],
          [
           "YSR District",
           "India"
          ],
          [
           "Tiruchirappalli",
           "India"
          ],
          [
           "Govindapuram",
           "India"
          ],
          [
           "Belagavi",
           "India"
          ],
          [
           "Lebura",
           "India"
          ],
          [
           "Rajgangpur",
           "India"
          ],
          [
           "Panjabi Basti",
           "India"
          ],
          [
           "Bokaro Steel City",
           "India"
          ],
          [
           "Amiyajhari",
           "India"
          ],
          [
           "Rana",
           "India"
          ],
          [
           "Baghjap",
           "India"
          ],
          [
           "Tumkur",
           "India"
          ],
          [
           "Narsinghgarh",
           "India"
          ],
          [
           "Donda Padu",
           "India"
          ],
          [
           "YSR District",
           "India"
          ],
          [
           "Bachaoli Khurd",
           "India"
          ],
          [
           "Puzhuthivakkam",
           "India"
          ],
          [
           "Auj Aherwadi",
           "India"
          ],
          [
           "Alathiyur",
           "India"
          ],
          [
           "Chilamakuru",
           "India"
          ],
          [
           "Karankote",
           "India"
          ],
          [
           "Sankari West",
           "India"
          ],
          [
           "Sankarnagar",
           "India"
          ],
          [
           "Wadapally",
           "India"
          ],
          [
           "YSR District",
           "India"
          ],
          [
           "Nokla",
           "India"
          ],
          [
           "Athipatttu",
           "India"
          ],
          [
           "Vaijwadi",
           "India"
          ],
          [
           "Nagaur",
           "India"
          ],
          [
           "Karthana",
           "India"
          ],
          [
           "Chittaurgarh",
           "India"
          ],
          [
           "Bagalkot",
           "India"
          ],
          [
           "Mohanbari",
           "India"
          ],
          [
           "Malpuri Khurd",
           "India"
          ],
          [
           "Basantgarh",
           "India"
          ],
          [
           "Jhajjar",
           "India"
          ],
          [
           "Gandhinagar",
           "India"
          ],
          [
           "Surat",
           "India"
          ],
          [
           "Surat",
           "India"
          ],
          [
           "Changodar",
           "India"
          ],
          [
           "Kurnool",
           "India"
          ],
          [
           "Jamdedya",
           "India"
          ],
          [
           "Raigad",
           "India"
          ],
          [
           "Bellary",
           "India"
          ],
          [
           "Rewa",
           "India"
          ],
          [
           "Macherla",
           "India"
          ],
          [
           "Mukteswarapuram",
           "India"
          ],
          [
           "Basanth Nagar",
           "India"
          ],
          [
           "Gulbarga",
           "India"
          ],
          [
           "Bargarh",
           "India"
          ],
          [
           "Khatehr",
           "India"
          ],
          [
           "Ghugus",
           "India"
          ],
          [
           "Bhilai",
           "India"
          ],
          [
           "West Singhbhum",
           "India"
          ],
          [
           "Kymore",
           "India"
          ],
          [
           "Lakheri",
           "India"
          ],
          [
           "Madukkarai",
           "India"
          ],
          [
           "Wadi",
           "India"
          ],
          [
           "Gir Somnath",
           "India"
          ],
          [
           "Darlaghat",
           "India"
          ],
          [
           "Pali",
           "India"
          ],
          [
           "Rawan",
           "India"
          ],
          [
           "Sonapur",
           "India"
          ],
          [
           "Sindri",
           "India"
          ],
          [
           "Bellary",
           "India"
          ],
          [
           "Asaida Pur",
           "India"
          ],
          [
           "Bathinda",
           "India"
          ],
          [
           "Gautam Buddh Nagar",
           "India"
          ],
          [
           "Howrah",
           "India"
          ],
          [
           "Solan",
           "India"
          ],
          [
           "Ratanpura",
           "India"
          ],
          [
           "Surat",
           "India"
          ],
          [
           "Lakesri",
           "India"
          ],
          [
           "Farakka",
           "India"
          ],
          [
           "Jagannathdi",
           "India"
          ],
          [
           "Basavapura",
           "India"
          ],
          [
           "Walayar",
           "India"
          ],
          [
           "Pallipuram",
           "India"
          ],
          [
           "Chandrapur",
           "India"
          ],
          [
           "Nalgonda",
           "India"
          ],
          [
           "Krishna",
           "India"
          ],
          [
           "Baloda Bazar",
           "India"
          ],
          [
           "Janjgir-Champa",
           "India"
          ],
          [
           "Raseda",
           "India"
          ],
          [
           "Pali",
           "India"
          ],
          [
           "Chittaurgarh",
           "India"
          ],
          [
           "Kota Chandipur",
           "India"
          ],
          [
           "Nandanpur",
           "India"
          ],
          [
           "Jamshedpur",
           "India"
          ],
          [
           "Bhiwani",
           "India"
          ],
          [
           "Badsulidihi",
           "India"
          ],
          [
           "Kulharia",
           "India"
          ],
          [
           "Devapur",
           "India"
          ],
          [
           "Itga",
           "India"
          ],
          [
           "Jalgaon Kh.",
           "India"
          ],
          [
           "Talaricheruvu",
           "India"
          ],
          [
           "Chandravancha",
           "India"
          ],
          [
           "Anantapuram",
           "India"
          ],
          [
           "Wadapally",
           "India"
          ],
          [
           "Pune",
           "India"
          ],
          [
           "Thamminapatnam",
           "India"
          ],
          [
           "Kurnool",
           "India"
          ],
          [
           "Ramapuram",
           "India"
          ],
          [
           "Govindapuram",
           "India"
          ],
          [
           "Krishna",
           "India"
          ],
          [
           "Mathodu",
           "India"
          ],
          [
           "Alathiyur",
           "India"
          ],
          [
           "Tulukkapatti",
           "India"
          ],
          [
           "Kolaghat",
           "India"
          ],
          [
           "Salem",
           "India"
          ],
          [
           "Vishakhapatnam",
           "India"
          ],
          [
           "Kanchipuram",
           "India"
          ],
          [
           "Nalgonda",
           "India"
          ],
          [
           "Gudipadu",
           "India"
          ],
          [
           "Bayyavaram",
           "India"
          ],
          [
           "Beawar",
           "India"
          ],
          [
           "Benakanahalli",
           "India"
          ],
          [
           "Pali",
           "India"
          ],
          [
           "Khapradih",
           "India"
          ],
          [
           "Raipur",
           "India"
          ],
          [
           "Jaipur",
           "India"
          ],
          [
           "Dhobaul",
           "India"
          ],
          [
           "Rajarampur",
           "India"
          ],
          [
           "Khukhrana",
           "India"
          ],
          [
           "Khushkhera",
           "India"
          ],
          [
           "Udaipur Udasar",
           "India"
          ],
          [
           "Hansda",
           "India"
          ],
          [
           "Sirohi",
           "India"
          ],
          [
           "Patna",
           "India"
          ],
          [
           "Dalla",
           "India"
          ],
          [
           "Madhepur",
           "India"
          ],
          [
           "Budawada",
           "India"
          ],
          [
           "Nrupathanga",
           "India"
          ],
          [
           "Adityapuram",
           "India"
          ],
          [
           "Chandrapur",
           "India"
          ],
          [
           "Amreli",
           "India"
          ],
          [
           "Anantapuram",
           "India"
          ],
          [
           "Baloda Bazar",
           "India"
          ],
          [
           "Borkhedi",
           "India"
          ],
          [
           "Amreli",
           "India"
          ],
          [
           "Koojota",
           "India"
          ],
          [
           "Dhadhesri",
           "India"
          ],
          [
           "Rawan",
           "India"
          ],
          [
           "Reddipalayam",
           "India"
          ],
          [
           "Kutch",
           "India"
          ],
          [
           "Solan",
           "India"
          ],
          [
           "Tonki",
           "India"
          ],
          [
           "Ambedkar Nagar",
           "India"
          ],
          [
           "Solan",
           "India"
          ],
          [
           "Kheda",
           "India"
          ],
          [
           "Dhutra",
           "India"
          ],
          [
           "Thandalam",
           "India"
          ],
          [
           "Hooghly",
           "India"
          ],
          [
           "Koppal",
           "India"
          ],
          [
           "Hipale",
           "India"
          ],
          [
           "Jhajjar",
           "India"
          ],
          [
           "Panipat",
           "India"
          ],
          [
           "Kasimpur",
           "India"
          ],
          [
           "Patti Karam Chand Mehraj",
           "India"
          ],
          [
           "Surat",
           "India"
          ],
          [
           "Durgapur",
           "India"
          ],
          [
           "Salarpur Khadar",
           "India"
          ],
          [
           "Ratnagiri",
           "India"
          ],
          [
           "Bijauri",
           "India"
          ],
          [
           "Nagpur",
           "India"
          ],
          [
           "Patna",
           "India"
          ],
          [
           "Amarpur Qazi",
           "India"
          ],
          [
           "Greater Noida",
           "India"
          ],
          [
           "Jambapuram",
           "India"
          ],
          [
           "Chatarsal",
           "India"
          ],
          [
           "Sikka",
           "India"
          ],
          [
           "Gamalapadu",
           "India"
          ],
          [
           "Nalgonda",
           "India"
          ],
          [
           "Bagalkot",
           "India"
          ],
          [
           "Badarpur",
           "India"
          ],
          [
           "Guntur",
           "India"
          ],
          [
           "Ramapuram",
           "India"
          ],
          [
           "Patratu",
           "India"
          ],
          [
           "East Jaintia Hills",
           "India"
          ],
          [
           "Kota",
           "India"
          ],
          [
           "Wadapally",
           "India"
          ],
          [
           "East Jaintia Hills",
           "India"
          ],
          [
           "Gir Somnath",
           "India"
          ],
          [
           "East Jaintia Hills",
           "India"
          ],
          [
           "East Jaintia Hills",
           "India"
          ],
          [
           "Khrew",
           "India"
          ],
          [
           "Nalgonda",
           "India"
          ],
          [
           "Khunmoh",
           "India"
          ],
          [
           "Chonsala",
           "India"
          ],
          [
           "Mancherial",
           "India"
          ],
          [
           "Umbadoh",
           "India"
          ],
          [
           "Kurnool",
           "India"
          ],
          [
           "Goli",
           "India"
          ],
          [
           "Mankahari",
           "India"
          ],
          [
           "Hothiay",
           "India"
          ],
          [
           "Porbandar",
           "India"
          ],
          [
           "Kandeimunda",
           "India"
          ],
          [
           "Venkatapuram",
           "India"
          ],
          [
           "Guntur",
           "India"
          ],
          [
           "Nalgonda",
           "India"
          ],
          [
           "East Jaintia Hills",
           "India"
          ],
          [
           "Lakshmipuram",
           "India"
          ],
          [
           "Mithapur",
           "India"
          ],
          [
           "Ampaballi",
           "India"
          ],
          [
           "Udaipur",
           "India"
          ],
          [
           "Phachar Aheeran",
           "India"
          ],
          [
           "Kutch",
           "India"
          ],
          [
           "Vilemar Kundi",
           "India"
          ],
          [
           "Churk",
           "India"
          ],
          [
           "Surla",
           "India"
          ],
          [
           "Visakhapatnam",
           "India"
          ],
          [
           "Sikar",
           "India"
          ],
          [
           "Visakhapatnam",
           "India"
          ],
          [
           "Imli",
           "India"
          ],
          [
           "Bhilai",
           "India"
          ],
          [
           "Mirzapur",
           "India"
          ],
          [
           "Prayagraj",
           "India"
          ],
          [
           "Chenchur Gerya",
           "India"
          ],
          [
           "Lotlapalle",
           "India"
          ],
          [
           "Kottayam",
           "India"
          ],
          [
           "Navi Mumbai",
           "India"
          ],
          [
           "Chherat",
           "India"
          ],
          [
           "Solan",
           "India"
          ],
          [
           "Bardhaman",
           "India"
          ],
          [
           "Shahabad Rural",
           "India"
          ],
          [
           "Rodada",
           "India"
          ],
          [
           "Lakhpat",
           "India"
          ],
          [
           "Deorikalan",
           "India"
          ],
          [
           "Cherrapunji‎",
           "India"
          ],
          [
           "Kinnegad ",
           "Ireland"
          ],
          [
           "Limerick",
           "Ireland"
          ],
          [
           "Drogheda ",
           "Ireland"
          ],
          [
           "Dublin",
           "Ireland"
          ],
          [
           "Ballyconnell ",
           "Ireland"
          ],
          [
           "Waterford ",
           "Ireland"
          ],
          [
           "Abadeh County",
           "Iran (Islamic Republic of)"
          ],
          [
           "Ardestan",
           "Iran (Islamic Republic of)"
          ],
          [
           "Naein County",
           "Iran (Islamic Republic of)"
          ],
          [
           "Hajji Lak",
           "Iran (Islamic Republic of)"
          ],
          [
           "Katalan",
           "Iran (Islamic Republic of)"
          ],
          [
           "Tehran",
           "Iran (Islamic Republic of)"
          ],
          [
           "Tonbak",
           "Iran (Islamic Republic of)"
          ],
          [
           "Kerman",
           "Iran (Islamic Republic of)"
          ],
          [
           "Abelou",
           "Iran (Islamic Republic of)"
          ],
          [
           "Hasan Abad",
           "Iran (Islamic Republic of)"
          ],
          [
           "Saravak",
           "Iran (Islamic Republic of)"
          ],
          [
           null,
           "Iran (Islamic Republic of)"
          ],
          [
           "Katalan",
           "Iran (Islamic Republic of)"
          ],
          [
           "Neyzar",
           "Iran (Islamic Republic of)"
          ],
          [
           "Shahrak Heev",
           "Iran (Islamic Republic of)"
          ],
          [
           "Behbahan",
           "Iran (Islamic Republic of)"
          ],
          [
           "Shirvan",
           "Iran (Islamic Republic of)"
          ],
          [
           "Dorud",
           "Iran (Islamic Republic of)"
          ],
          [
           "Mook",
           "Iran (Islamic Republic of)"
          ],
          [
           "Faraman Industrial Town",
           "Iran (Islamic Republic of)"
          ],
          [
           "Khash",
           "Iran (Islamic Republic of)"
          ],
          [
           "Lowshan",
           "Iran (Islamic Republic of)"
          ],
          [
           "Hasanabad",
           "Iran (Islamic Republic of)"
          ],
          [
           "Ramhormoz",
           "Iran (Islamic Republic of)"
          ],
          [
           "Shiraz",
           "Iran (Islamic Republic of)"
          ],
          [
           "Kashan County",
           "Iran (Islamic Republic of)"
          ],
          [
           "Langar",
           "Iran (Islamic Republic of)"
          ],
          [
           "Ghirokarzin",
           "Iran (Islamic Republic of)"
          ],
          [
           "Gulak",
           "Iran (Islamic Republic of)"
          ],
          [
           "Sohran",
           "Iran (Islamic Republic of)"
          ],
          [
           "Tarajiq",
           "Iran (Islamic Republic of)"
          ],
          [
           "Poli Kan",
           "Iran (Islamic Republic of)"
          ],
          [
           "Chardavol",
           "Iran (Islamic Republic of)"
          ],
          [
           "Tehran",
           "Iran (Islamic Republic of)"
          ],
          [
           "Tangari",
           "Iran (Islamic Republic of)"
          ],
          [
           "Yarim Qayeh",
           "Iran (Islamic Republic of)"
          ],
          [
           null,
           "Iran (Islamic Republic of)"
          ],
          [
           "Lay-e Khorrami",
           "Iran (Islamic Republic of)"
          ],
          [
           "Bandar Khamir",
           "Iran (Islamic Republic of)"
          ],
          [
           "Farmad",
           "Iran (Islamic Republic of)"
          ],
          [
           "Diziche",
           "Iran (Islamic Republic of)"
          ],
          [
           "Borazjan",
           "Iran (Islamic Republic of)"
          ],
          [
           "Bijar",
           "Iran (Islamic Republic of)"
          ],
          [
           "Isfahan",
           "Iran (Islamic Republic of)"
          ],
          [
           "Far-Ashian",
           "Iran (Islamic Republic of)"
          ],
          [
           "Golgir",
           "Iran (Islamic Republic of)"
          ],
          [
           "Koshkoo",
           "Iran (Islamic Republic of)"
          ],
          [
           "Parvand",
           "Iran (Islamic Republic of)"
          ],
          [
           "Kourdeh",
           "Iran (Islamic Republic of)"
          ],
          [
           "Kerman",
           "Iran (Islamic Republic of)"
          ],
          [
           "Naein County",
           "Iran (Islamic Republic of)"
          ],
          [
           "Raveh",
           "Iran (Islamic Republic of)"
          ],
          [
           "Qeshm",
           "Iran (Islamic Republic of)"
          ],
          [
           "Qomishe-ye mirqāsem",
           "Iran (Islamic Republic of)"
          ],
          [
           "Najaf Abad",
           "Iran (Islamic Republic of)"
          ],
          [
           "Chah Gorg",
           "Iran (Islamic Republic of)"
          ],
          [
           "Ghayenat",
           "Iran (Islamic Republic of)"
          ],
          [
           "Shahrud",
           "Iran (Islamic Republic of)"
          ],
          [
           "Urmia",
           "Iran (Islamic Republic of)"
          ],
          [
           "Shabestar",
           "Iran (Islamic Republic of)"
          ],
          [
           "Majid Abad",
           "Iran (Islamic Republic of)"
          ],
          [
           "Lowshan",
           "Iran (Islamic Republic of)"
          ],
          [
           "Urmia",
           "Iran (Islamic Republic of)"
          ],
          [
           "Zahedan",
           "Iran (Islamic Republic of)"
          ],
          [
           "Rafsanjan",
           "Iran (Islamic Republic of)"
          ],
          [
           "Dowlat Abad",
           "Iran (Islamic Republic of)"
          ],
          [
           "Darmiyan",
           "Iran (Islamic Republic of)"
          ],
          [
           "Seyyedabad",
           "Iran (Islamic Republic of)"
          ],
          [
           "Qeshlaq-E Karbala'i Javad",
           "Iran (Islamic Republic of)"
          ],
          [
           "Tabas",
           "Iran (Islamic Republic of)"
          ],
          [
           "Jamshidabad",
           "Iran (Islamic Republic of)"
          ],
          [
           "Qa'im",
           "Iraq"
          ],
          [
           "Heet",
           "Iraq"
          ],
          [
           "Sulaymaniyah",
           "Iraq"
          ],
          [
           "Tullaiha",
           "Iraq"
          ],
          [
           "Musayyib",
           "Iraq"
          ],
          [
           "Maz'al an Nasir",
           "Iraq"
          ],
          [
           "Maz'al an Nasir",
           "Iraq"
          ],
          [
           "Al-Rumaitha",
           "Iraq"
          ],
          [
           "Samawah",
           "Iraq"
          ],
          [
           "Um Qasr",
           "Iraq"
          ],
          [
           "Fallujah",
           "Iraq"
          ],
          [
           "Sinjar",
           "Iraq"
          ],
          [
           "Daquq",
           "Iraq"
          ],
          [
           "Sulaymaniyah",
           "Iraq"
          ],
          [
           "Mosul",
           "Iraq"
          ],
          [
           "Mosul",
           "Iraq"
          ],
          [
           "Akranes",
           "Iceland"
          ],
          [
           "Ramla",
           "Israel"
          ],
          [
           "Nesher",
           "Israel"
          ],
          [
           "Bet Shemesh",
           "Israel"
          ],
          [
           "Provincia di Siracusa",
           "Italy"
          ],
          [
           "Barletta",
           "Italy"
          ],
          [
           "Guidonia Montecelio",
           "Italy"
          ],
          [
           "Provincia di Cuneo",
           "Italy"
          ],
          [
           "Tanca Altara",
           "Italy"
          ],
          [
           "Provincia di Piacenza",
           "Italy"
          ],
          [
           "Zona Industriale Pedris",
           "Italy"
          ],
          [
           "L.p. Solana",
           "Italy"
          ],
          [
           "Passo dei Pecorai",
           "Italy"
          ],
          [
           "Trino",
           "Italy"
          ],
          [
           "Calenzano",
           "Italy"
          ],
          [
           "Arquata Scrivia",
           "Italy"
          ],
          [
           "Italcementi",
           "Italy"
          ],
          [
           "Provincia di Catanzaro",
           "Italy"
          ],
          [
           "Provincia di Parma",
           "Italy"
          ],
          [
           "Provincia di Viterbo",
           "Italy"
          ],
          [
           "Provincia di Pisa",
           "Italy"
          ],
          [
           "Provincia di Taranto",
           "Italy"
          ],
          [
           "Provincia di Potenza",
           "Italy"
          ],
          [
           "Provincia di Lecce",
           "Italy"
          ],
          [
           "Provincia di Lecce",
           "Italy"
          ],
          [
           "Area Industriale",
           "Italy"
          ],
          [
           "Rassina",
           "Italy"
          ],
          [
           "Caravate",
           "Italy"
          ],
          [
           "Carrera del Conte",
           "Italy"
          ],
          [
           "Contrada Tabuna",
           "Italy"
          ],
          [
           "Provincia di Perugia",
           "Italy"
          ],
          [
           "Caserta",
           "Italy"
          ],
          [
           "Città Metropolitana di Roma",
           "Italy"
          ],
          [
           "Colleferro Scalo",
           "Italy"
          ],
          [
           "Isola delle Femmine",
           "Italy"
          ],
          [
           "Provincia di Matera",
           "Italy"
          ],
          [
           "Rezzato",
           "Italy"
          ],
          [
           "Italcementi",
           "Italy"
          ],
          [
           "Calusco d'Adda",
           "Italy"
          ],
          [
           "San Giovanni",
           "Italy"
          ],
          [
           "Tavernola Bergamasca",
           "Italy"
          ],
          [
           "Provincia di Alessandria",
           "Italy"
          ],
          [
           "Provincia di Cosenza",
           "Italy"
          ],
          [
           "Provincia di Salerno",
           "Italy"
          ],
          [
           "Provincia di Campobasso",
           "Italy"
          ],
          [
           "Area Industriale",
           "Italy"
          ],
          [
           "Provincia di Treviso",
           "Italy"
          ],
          [
           "Piacenza",
           "Italy"
          ],
          [
           "Provincia di Varese",
           "Italy"
          ],
          [
           "Provincia di Oristano",
           "Italy"
          ],
          [
           "Provincia di Potenza",
           "Italy"
          ],
          [
           "Este",
           "Italy"
          ],
          [
           "Acquasparta",
           "Italy"
          ],
          [
           "Provincia di Macerata",
           "Italy"
          ],
          [
           "Pescara",
           "Italy"
          ],
          [
           "Provincia di Foggia",
           "Italy"
          ],
          [
           "Fumane",
           "Italy"
          ],
          [
           "Libero consorzio comunale di Ragusa",
           "Italy"
          ],
          [
           "San Francesco",
           "Italy"
          ],
          [
           "Trentino",
           "Italy"
          ],
          [
           "Trieste",
           "Italy"
          ],
          [
           "Livorno",
           "Italy"
          ],
          [
           "Saline Joniche",
           "Italy"
          ],
          [
           "Provincia di Caserta",
           "Italy"
          ],
          [
           "Ponte Della Priula",
           "Italy"
          ],
          [
           "Cementir",
           "Italy"
          ],
          [
           "Agip Petroli-ilva",
           "Italy"
          ],
          [
           "Port Royal",
           "Jamaica"
          ],
          [
           "Hayes",
           "Jamaica"
          ],
          [
           "Bsaira District",
           "Jordan"
          ],
          [
           "Bal'ama Sub-District",
           "Jordan"
          ],
          [
           "Dhlail Sub-District",
           "Jordan"
          ],
          [
           "Um Al-Rasas Sub-District",
           "Jordan"
          ],
          [
           "Qatraneh District",
           "Jordan"
          ],
          [
           "Amman",
           "Jordan"
          ],
          [
           "Chichibu",
           "Japan"
          ],
          [
           "Ichinoseki",
           "Japan"
          ],
          [
           "Kanda",
           "Japan"
          ],
          [
           "Higashidori",
           "Japan"
          ],
          [
           "Yokoze",
           "Japan"
          ],
          [
           "Hachinohe",
           "Japan"
          ],
          [
           "Motosu",
           "Japan"
          ],
          [
           "Susaki",
           "Japan"
          ],
          [
           "Sano",
           "Japan"
          ],
          [
           "Ako",
           "Japan"
          ],
          [
           "Kawasaki",
           "Japan"
          ],
          [
           "Itoigawa",
           "Japan"
          ],
          [
           "Hidaka",
           "Japan"
          ],
          [
           "Hokuto",
           "Japan"
          ],
          [
           "Inabe",
           "Japan"
          ],
          [
           "Kumagaya",
           "Japan"
          ],
          [
           "Ofunato",
           "Japan"
          ],
          [
           "Tsukumi",
           "Japan"
          ],
          [
           "Tsuruga",
           "Japan"
          ],
          [
           "Mine",
           "Japan"
          ],
          [
           "Kanda",
           "Japan"
          ],
          [
           "Ube",
           "Japan"
          ],
          [
           "Kanda",
           "Japan"
          ],
          [
           "Tagawa",
           "Japan"
          ],
          [
           "Itoigawa",
           "Japan"
          ],
          [
           "Hitachi",
           "Japan"
          ],
          [
           "Kitakyushu",
           "Japan"
          ],
          [
           "Muroran",
           "Japan"
          ],
          [
           "Nago",
           "Japan"
          ],
          [
           "Shunan",
           "Japan"
          ],
          [
           "Shunan",
           "Japan"
          ],
          [
           "Kyoto",
           "Japan"
          ],
          [
           "Mangystau District",
           "Kazakhstan"
          ],
          [
           "Zyryan District",
           "Kazakhstan"
          ],
          [
           "Shymkent",
           "Kazakhstan"
          ],
          [
           "Moiynkum District",
           "Kazakhstan"
          ],
          [
           "Aktau",
           "Kazakhstan"
          ],
          [
           "Tulkibas",
           "Kazakhstan"
          ],
          [
           "Semey",
           "Kazakhstan"
          ],
          [
           "Enbekshilder District",
           "Kazakhstan"
          ],
          [
           "Sayram District",
           "Kazakhstan"
          ],
          [
           "Zharma District",
           "Kazakhstan"
          ],
          [
           "Kaloleni",
           "Kenya"
          ],
          [
           "Athi River",
           "Kenya"
          ],
          [
           "Athi River",
           "Kenya"
          ],
          [
           "Athi River",
           "Kenya"
          ],
          [
           "Mombasa",
           "Kenya"
          ],
          [
           "Athi River",
           "Kenya"
          ],
          [
           "Mkomani",
           "Kenya"
          ],
          [
           "Athi River",
           "Kenya"
          ],
          [
           "Athi River",
           "Kenya"
          ],
          [
           "Athi River",
           "Kenya"
          ],
          [
           "Ysyk-Ata",
           "Kyrgyzstan"
          ],
          [
           "Kant",
           "Kyrgyzstan"
          ],
          [
           "Kara-Bulak",
           "Kyrgyzstan"
          ],
          [
           "Rotanak Mondol",
           "Cambodia"
          ],
          [
           "Banteay Meas",
           "Cambodia"
          ],
          [
           "Tuek Chhou",
           "Cambodia"
          ],
          [
           "Dang Tong",
           "Cambodia"
          ],
          [
           "Dang Tong",
           "Cambodia"
          ],
          [
           "Jecheon",
           "Korea, Republic of"
          ],
          [
           "Gangneung",
           "Korea, Republic of"
          ],
          [
           "Chilgok-gun",
           "Korea, Republic of"
          ],
          [
           "Gwangyang-si",
           "Korea, Republic of"
          ],
          [
           "Pohang",
           "Korea, Republic of"
          ],
          [
           "Jung-gu",
           "Korea, Republic of"
          ],
          [
           "Gangneung",
           "Korea, Republic of"
          ],
          [
           "Danyang-gun",
           "Korea, Republic of"
          ],
          [
           "Danyang-gun",
           "Korea, Republic of"
          ],
          [
           "Yeongweol",
           "Korea, Republic of"
          ],
          [
           "Chilgok-gun",
           "Korea, Republic of"
          ],
          [
           "Daedeok-gu",
           "Korea, Republic of"
          ],
          [
           "Jeonju",
           "Korea, Republic of"
          ],
          [
           "Gimhae",
           "Korea, Republic of"
          ],
          [
           "Boryeong-si",
           "Korea, Republic of"
          ],
          [
           "Yeongcheon",
           "Korea, Republic of"
          ],
          [
           "Nowon-gu",
           "Korea, Republic of"
          ],
          [
           "Uiwang-si",
           "Korea, Republic of"
          ],
          [
           "Pyeongtaek-si",
           "Korea, Republic of"
          ],
          [
           "Jangseong-gun",
           "Korea, Republic of"
          ],
          [
           "Samcheog",
           "Korea, Republic of"
          ],
          [
           "Donghae-si",
           "Korea, Republic of"
          ],
          [
           "Gwangyang-si",
           "Korea, Republic of"
          ],
          [
           "Seo-gu",
           "Korea, Republic of"
          ],
          [
           "Donghae-si",
           "Korea, Republic of"
          ],
          [
           "Yeongweol",
           "Korea, Republic of"
          ],
          [
           "Danyang-gun",
           "Korea, Republic of"
          ],
          [
           "Cheongwon-gun",
           "Korea, Republic of"
          ],
          [
           "Chuncheon",
           "Korea, Republic of"
          ],
          [
           "Gimhae",
           "Korea, Republic of"
          ],
          [
           "Hongseong",
           "Korea, Republic of"
          ],
          [
           "Mapu-gu",
           "Korea, Republic of"
          ],
          [
           "Andong",
           "Korea, Republic of"
          ],
          [
           "Nonsan",
           "Korea, Republic of"
          ],
          [
           "Uiwang-si",
           "Korea, Republic of"
          ],
          [
           "Yongin-si",
           "Korea, Republic of"
          ],
          [
           "Paju-si",
           "Korea, Republic of"
          ],
          [
           "Cheongwon-gun",
           "Korea, Republic of"
          ],
          [
           "Pohang",
           "Korea, Republic of"
          ],
          [
           "Pohang",
           "Korea, Republic of"
          ],
          [
           "Ahmadi",
           "Kuwait"
          ],
          [
           "Ali Sabah Al Salem",
           "Kuwait"
          ],
          [
           "Mahaxay",
           "Lao People's Democratic Republic"
          ],
          [
           "Khan Mak",
           "Lao People's Democratic Republic"
          ],
          [
           "Ban Nadou",
           "Lao People's Democratic Republic"
          ],
          [
           "Ban Yon",
           "Lao People's Democratic Republic"
          ],
          [
           "Khan Mak",
           "Lao People's Democratic Republic"
          ],
          [
           "Nam Thouam",
           "Lao People's Democratic Republic"
          ],
          [
           "Batroun",
           "Lebanon"
          ],
          [
           "Chouf",
           "Lebanon"
          ],
          [
           "Batroun",
           "Lebanon"
          ],
          [
           "Greater Monrovia",
           "Liberia"
          ],
          [
           "Al Khums",
           "Libya"
          ],
          [
           "Khoms",
           "Libya"
          ],
          [
           "Zliten",
           "Libya"
          ],
          [
           "Banghazi",
           "Libya"
          ],
          [
           "Matrubah",
           "Libya"
          ],
          [
           "Zliten",
           "Libya"
          ],
          [
           "Puttalam",
           "Sri Lanka"
          ],
          [
           "Galle",
           "Sri Lanka"
          ],
          [
           "Kankesanturai",
           "Sri Lanka"
          ],
          [
           "Trincomalee",
           "Sri Lanka"
          ],
          [
           "Maseru",
           "Lesotho"
          ],
          [
           "Naujoji Akmenė",
           "Lithuania"
          ],
          [
           "Kayl",
           "Luxembourg"
          ],
          [
           "Esch-sur-Alzette",
           "Luxembourg"
          ],
          [
           "Brocēni",
           "Latvia"
          ],
          [
           "Coloane Village",
           "Macao"
          ],
          [
           "Settat Province",
           "Morocco"
          ],
          [
           "Province de Béni-Mellal",
           "Morocco"
          ],
          [
           "Taroudant",
           "Morocco"
          ],
          [
           "Mzoudia",
           "Morocco"
          ],
          [
           "Safi",
           "Morocco"
          ],
          [
           "Marsa",
           "Morocco"
          ],
          [
           "El Jadida",
           "Morocco"
          ],
          [
           "Province de Moulay Yacoub",
           "Morocco"
          ],
          [
           "Taourirt Province",
           "Morocco"
          ],
          [
           "Settat Province",
           "Morocco"
          ],
          [
           "Settat Province",
           "Morocco"
          ],
          [
           "Province de Tétouan",
           "Morocco"
          ],
          [
           "Meknes",
           "Morocco"
          ],
          [
           "Selouane",
           "Morocco"
          ],
          [
           "Préfecture de Tanger-Assilah",
           "Morocco"
          ],
          [
           "Témara",
           "Morocco"
          ],
          [
           "El Marsa",
           "Morocco"
          ],
          [
           "Laayoune",
           "Morocco"
          ],
          [
           "Păpăuți",
           "Moldova, Republic of"
          ],
          [
           "Mahajanga",
           "Madagascar"
          ],
          [
           "Antsirabe II",
           "Madagascar"
          ],
          [
           "Chahuapan",
           "Mexico"
          ],
          [
           "Montaña",
           "Mexico"
          ],
          [
           "Chiconcuac",
           "Mexico"
          ],
          [
           "Vito",
           "Mexico"
          ],
          [
           "Santa Cruz Ajajalpan",
           "Mexico"
          ],
          [
           "Ensenada",
           "Mexico"
          ],
          [
           "Hermosillo",
           "Mexico"
          ],
          [
           "Huichapan",
           "Mexico"
          ],
          [
           "Mérida",
           "Mexico"
          ],
          [
           "Monterrey",
           "Mexico"
          ],
          [
           "Tamuín",
           "Mexico"
          ],
          [
           "Tlalnepantla de Baz",
           "Mexico"
          ],
          [
           "San Pedro Tlaquepaque",
           "Mexico"
          ],
          [
           "Torreón",
           "Mexico"
          ],
          [
           "Ciudad Valles",
           "Mexico"
          ],
          [
           "Hidalgo",
           "Mexico"
          ],
          [
           "Zapotiltic",
           "Mexico"
          ],
          [
           "Palmar de Bravo",
           "Mexico"
          ],
          [
           "Arroyo Hondo",
           "Mexico"
          ],
          [
           "Lagunas",
           "Mexico"
          ],
          [
           "San Miguel Vindho",
           "Mexico"
          ],
          [
           "Santiago de Anaya",
           "Mexico"
          ],
          [
           "Vito",
           "Mexico"
          ],
          [
           "Centro",
           "Mexico"
          ],
          [
           "Chihuahua",
           "Mexico"
          ],
          [
           "Villa Luz",
           "Mexico"
          ],
          [
           "Ciudad Juárez",
           "Mexico"
          ],
          [
           "Acapulco de Juárez",
           "Mexico"
          ],
          [
           "Apaxco de Ocampo",
           "Mexico"
          ],
          [
           "Francisco Javier Mina",
           "Mexico"
          ],
          [
           "Ixtaczoquitlán",
           "Mexico"
          ],
          [
           "Santa María",
           "Mexico"
          ],
          [
           "Hilareno",
           "Mexico"
          ],
          [
           "Caleras",
           "Mexico"
          ],
          [
           "Skopje",
           "North Macedonia"
          ],
          [
           "Kati",
           "Mali"
          ],
          [
           "Kati",
           "Mali"
          ],
          [
           "Kati",
           "Mali"
          ],
          [
           "Mawlamyine",
           "Myanmar"
          ],
          [
           "Mandalay",
           "Myanmar"
          ],
          [
           "Kyaukse District",
           "Myanmar"
          ],
          [
           "Taunggyi",
           "Myanmar"
          ],
          [
           "Myaing Ka Lay",
           "Myanmar"
          ],
          [
           "Hpyauk Seik Pin ",
           "Myanmar"
          ],
          [
           "Nay Pyi Taw (South)",
           "Myanmar"
          ],
          [
           "Thayet",
           "Myanmar"
          ],
          [
           "Kyaukse District",
           "Myanmar"
          ],
          [
           "Hinthada",
           "Myanmar"
          ],
          [
           "Myaing Ka Lay",
           "Myanmar"
          ],
          [
           "Kyaukme",
           "Myanmar"
          ],
          [
           "Khutul",
           "Mongolia"
          ],
          [
           "Dalanjargalan",
           "Mongolia"
          ],
          [
           "Urgun",
           "Mongolia"
          ],
          [
           "Ulaanbaatar",
           "Mongolia"
          ],
          [
           "Darhan",
           "Mongolia"
          ],
          [
           "Dondo",
           "Mozambique"
          ],
          [
           "Matola",
           "Mozambique"
          ],
          [
           "Nacala",
           "Mozambique"
          ],
          [
           "Matola",
           "Mozambique"
          ],
          [
           "Dondo",
           "Mozambique"
          ],
          [
           "Boane",
           "Mozambique"
          ],
          [
           "Beira",
           "Mozambique"
          ],
          [
           "Nacala",
           "Mozambique"
          ],
          [
           null,
           "Mauritania"
          ],
          [
           null,
           "Mauritania"
          ],
          [
           null,
           "Mauritania"
          ],
          [
           "Nouakchott",
           "Mauritania"
          ],
          [
           "Fort-de-France",
           "Martinique"
          ],
          [
           "Blantyre",
           "Malawi"
          ],
          [
           "Kasungu",
           "Malawi"
          ],
          [
           "Tanjung Kidurong",
           "Malaysia"
          ],
          [
           "Kuching",
           "Malaysia"
          ],
          [
           "Siburan",
           "Malaysia"
          ],
          [
           "Kota Kinabalu",
           "Malaysia"
          ],
          [
           "Ipoh",
           "Malaysia"
          ],
          [
           "Malim Nawar",
           "Malaysia"
          ],
          [
           "Ipoh",
           "Malaysia"
          ],
          [
           "Bahau",
           "Malaysia"
          ],
          [
           "Kangar",
           "Malaysia"
          ],
          [
           "Chemor",
           "Malaysia"
          ],
          [
           "Langkawi",
           "Malaysia"
          ],
          [
           "Rawang",
           "Malaysia"
          ],
          [
           "Pasir Gudang",
           "Malaysia"
          ],
          [
           "Pasir Gudang",
           "Malaysia"
          ],
          [
           "Padang Rengas",
           "Malaysia"
          ],
          [
           "Sungai Lembing",
           "Malaysia"
          ],
          [
           "Pasir Gudang",
           "Malaysia"
          ],
          [
           "Pulau Indah",
           "Malaysia"
          ],
          [
           "Tsobis",
           "Namibia"
          ],
          [
           "Otjiwarongo",
           "Namibia"
          ],
          [
           "Nouméa",
           "New Caledonia"
          ],
          [
           "Malbaza",
           "Niger"
          ],
          [
           "Etsako East",
           "Nigeria"
          ],
          [
           "Etsako East",
           "Nigeria"
          ],
          [
           "Sokoto",
           "Nigeria"
          ],
          [
           "Gboko",
           "Nigeria"
          ],
          [
           "Egbado North",
           "Nigeria"
          ],
          [
           "Obajana",
           "Nigeria"
          ],
          [
           "Funakaye",
           "Nigeria"
          ],
          [
           "Ewekoro",
           "Nigeria"
          ],
          [
           "Sagamu",
           "Nigeria"
          ],
          [
           "Ewekoro",
           "Nigeria"
          ],
          [
           "Calabar",
           "Nigeria"
          ],
          [
           "San Rafael del Sur",
           "Nicaragua"
          ],
          [
           "Ciudad Sandino",
           "Nicaragua"
          ],
          [
           "Santa Rita de Plata",
           "Nicaragua"
          ],
          [
           "Moerdijk",
           "Netherlands"
          ],
          [
           "Velsen-Noord",
           "Netherlands"
          ],
          [
           "Botlek Rotterdam",
           "Netherlands"
          ],
          [
           "Narvik",
           "Norway"
          ],
          [
           "Porsgrunn",
           "Norway"
          ],
          [
           "Banke",
           "Nepal"
          ],
          [
           "Birgunj",
           "Nepal"
          ],
          [
           "Rupandehi",
           "Nepal"
          ],
          [
           "Laxmipur",
           "Nepal"
          ],
          [
           "Hetauda",
           "Nepal"
          ],
          [
           "Sardi Bagaicha",
           "Nepal"
          ],
          [
           "Golbazar",
           "Nepal"
          ],
          [
           "Sunwal",
           "Nepal"
          ],
          [
           "Bijauri",
           "Nepal"
          ],
          [
           "Birgunj",
           "Nepal"
          ],
          [
           "Kamahariya",
           "Nepal"
          ],
          [
           "Dumkibas",
           "Nepal"
          ],
          [
           "Bhadrapur",
           "Nepal"
          ],
          [
           "Kamahariya",
           "Nepal"
          ],
          [
           "Rupandehi",
           "Nepal"
          ],
          [
           "Hetauda",
           "Nepal"
          ],
          [
           "Gaighat",
           "Nepal"
          ],
          [
           "Naubise",
           "Nepal"
          ],
          [
           "Portland",
           "New Zealand"
          ],
          [
           "Misfah As Safil",
           "Oman"
          ],
          [
           "Raysut",
           "Oman"
          ],
          [
           "Jamshoro",
           "Pakistan"
          ],
          [
           "Nowshera",
           "Pakistan"
          ],
          [
           "Wah",
           "Pakistan"
          ],
          [
           "Chakwal",
           "Pakistan"
          ],
          [
           "Attock",
           "Pakistan"
          ],
          [
           "Haripur",
           "Pakistan"
          ],
          [
           "Chakwal",
           "Pakistan"
          ],
          [
           "Dera Ghazi Khan",
           "Pakistan"
          ],
          [
           "Chakwal",
           "Pakistan"
          ],
          [
           "Las Bela",
           "Pakistan"
          ],
          [
           "Jhelum",
           "Pakistan"
          ],
          [
           "Haripur",
           "Pakistan"
          ],
          [
           "Karachi",
           "Pakistan"
          ],
          [
           "Attock",
           "Pakistan"
          ],
          [
           "Islamabad",
           "Pakistan"
          ],
          [
           "Khushab",
           "Pakistan"
          ],
          [
           "Gharibwal Cement Factory Housing Colony",
           "Pakistan"
          ],
          [
           "Lakari",
           "Pakistan"
          ],
          [
           "Togh Bala",
           "Pakistan"
          ],
          [
           "Iskandarabad",
           "Pakistan"
          ],
          [
           "Pezu",
           "Pakistan"
          ],
          [
           "Karachi",
           "Pakistan"
          ],
          [
           "Jamshoro",
           "Pakistan"
          ],
          [
           "Hub",
           "Pakistan"
          ],
          [
           "Khushab",
           "Pakistan"
          ],
          [
           "Jamshoro",
           "Pakistan"
          ],
          [
           "RCW Rohri",
           "Pakistan"
          ],
          [
           "Thatta",
           "Pakistan"
          ],
          [
           "Hyderabad",
           "Pakistan"
          ],
          [
           "Caimitillo",
           "Panama"
          ],
          [
           "Colón",
           "Panama"
          ],
          [
           "La Chorrera",
           "Panama"
          ],
          [
           "Lurigancho-Chosica",
           "Peru"
          ],
          [
           "Pacasmayo",
           "Peru"
          ],
          [
           "Piura",
           "Peru"
          ],
          [
           "Rioja",
           "Peru"
          ],
          [
           "San Román",
           "Peru"
          ],
          [
           "Yura",
           "Peru"
          ],
          [
           "Provincia de Tarma",
           "Peru"
          ],
          [
           "Villa María del Triunfo",
           "Peru"
          ],
          [
           "Teresa",
           "Philippines"
          ],
          [
           "Taysan",
           "Philippines"
          ],
          [
           "Norzagaray",
           "Philippines"
          ],
          [
           "Norzagaray",
           "Philippines"
          ],
          [
           "San Fernando",
           "Philippines"
          ],
          [
           "Danao City",
           "Philippines"
          ],
          [
           "City of Naga",
           "Philippines"
          ],
          [
           "Antipolo",
           "Philippines"
          ],
          [
           "San Ildefonso",
           "Philippines"
          ],
          [
           "Camalig",
           "Philippines"
          ],
          [
           "Norzagaray",
           "Philippines"
          ],
          [
           "Davao City",
           "Philippines"
          ],
          [
           "Misamis Oriental",
           "Philippines"
          ],
          [
           "Bacnotan",
           "Philippines"
          ],
          [
           "Mabini",
           "Philippines"
          ],
          [
           "Sison",
           "Philippines"
          ],
          [
           "San Fernando",
           "Philippines"
          ],
          [
           "Iligan City",
           "Philippines"
          ],
          [
           "Danao City",
           "Philippines"
          ],
          [
           "Lae",
           "Papua New Guinea"
          ],
          [
           "Nowiny",
           "Poland"
          ],
          [
           "opatowski",
           "Poland"
          ],
          [
           "Rejowiec Fabryczny",
           "Poland"
          ],
          [
           "Kraków",
           "Poland"
          ],
          [
           "Opole",
           "Poland"
          ],
          [
           "Trębaczew",
           "Poland"
          ],
          [
           "Chełm",
           "Poland"
          ],
          [
           "Rudniki",
           "Poland"
          ],
          [
           "Gdynia",
           "Poland"
          ],
          [
           "Powiat krapkowicki",
           "Poland"
          ],
          [
           "Dąbrowa Górnicza",
           "Poland"
          ],
          [
           "Małogoszcz",
           "Poland"
          ],
          [
           "żniński",
           "Poland"
          ],
          [
           "Ponce",
           "Puerto Rico"
          ],
          [
           "Vega Alta",
           "Puerto Rico"
          ],
          [
           "Chŏnnae",
           "Korea, Democratic People's Republic of"
          ],
          [
           "Ŭnsan",
           "Korea, Democratic People's Republic of"
          ],
          [
           "Alhandra",
           "Portugal"
          ],
          [
           "Loulé",
           "Portugal"
          ],
          [
           "Souselas",
           "Portugal"
          ],
          [
           "Pico da Pedra",
           "Portugal"
          ],
          [
           "Marinha Grande",
           "Portugal"
          ],
          [
           "Pataias",
           "Portugal"
          ],
          [
           "Setúbal",
           "Portugal"
          ],
          [
           "Setúbal",
           "Portugal"
          ],
          [
           "Sines",
           "Portugal"
          ],
          [
           "Villa Hayes",
           "Paraguay"
          ],
          [
           "San Lázaro",
           "Paraguay"
          ],
          [
           "Villeta",
           "Paraguay"
          ],
          [
           "Umm Said",
           "Qatar"
          ],
          [
           "Umm Bab",
           "Qatar"
          ],
          [
           "Bu Ghawlana",
           "Qatar"
          ],
          [
           "Le Port",
           "Réunion"
          ],
          [
           "Fântâna",
           "Romania"
          ],
          [
           "Medgidia",
           "Romania"
          ],
          [
           "Municipiul Târgu - Jiu",
           "Romania"
          ],
          [
           "Chișcădaga",
           "Romania"
          ],
          [
           "Fieni",
           "Romania"
          ],
          [
           "Bicaz",
           "Romania"
          ],
          [
           "Chistag",
           "Romania"
          ],
          [
           "Comuna Valea Mare - Pravăț",
           "Romania"
          ],
          [
           "Turda",
           "Romania"
          ],
          [
           "Bogdanovichskiy Rayon",
           "Russian Federation"
          ],
          [
           "Pervomaiskii",
           "Russian Federation"
          ],
          [
           "Savinsky",
           "Russian Federation"
          ],
          [
           "Yugo-Zapadnyy Promrayon",
           "Russian Federation"
          ],
          [
           "Belgorod",
           "Russian Federation"
          ],
          [
           "Fokino",
           "Russian Federation"
          ],
          [
           "Ust-Dzhegutinsky District",
           "Russian Federation"
          ],
          [
           "Katav-Ivanovsk",
           "Russian Federation"
          ],
          [
           "Lipeck",
           "Russian Federation"
          ],
          [
           "Tsementnyi",
           "Russian Federation"
          ],
          [
           "Novoulyanovsk",
           "Russian Federation"
          ],
          [
           "Pikalyovo",
           "Russian Federation"
          ],
          [
           "Podgorenskii",
           "Russian Federation"
          ],
          [
           "Mikhaylovsky District",
           "Russian Federation"
          ],
          [
           "Tsemzavod",
           "Russian Federation"
          ],
          [
           "Zhigulevsk",
           "Russian Federation"
          ],
          [
           "Chamzinsky District",
           "Russian Federation"
          ],
          [
           "Tukhtovo",
           "Russian Federation"
          ],
          [
           "Sterlitamak",
           "Russian Federation"
          ],
          [
           "Slantsy",
           "Russian Federation"
          ],
          [
           "Aleksinsky District",
           "Russian Federation"
          ],
          [
           "Gayduk",
           "Russian Federation"
          ],
          [
           "Krasnoyarsk",
           "Russian Federation"
          ],
          [
           "Kamensk",
           "Russian Federation"
          ],
          [
           "Topki",
           "Russian Federation"
          ],
          [
           "Volsk",
           "Russian Federation"
          ],
          [
           "Kolomna",
           "Russian Federation"
          ],
          [
           "Ferzikovsky District",
           "Russian Federation"
          ],
          [
           "Novorossiysk",
           "Russian Federation"
          ],
          [
           "Novorossiysk",
           "Russian Federation"
          ],
          [
           "Verkhnebakanskiy",
           "Russian Federation"
          ],
          [
           "Novokuznetsk",
           "Russian Federation"
          ],
          [
           "Novotroitsk",
           "Russian Federation"
          ],
          [
           "Spassk-Dalny",
           "Russian Federation"
          ],
          [
           "Teplozersk",
           "Russian Federation"
          ],
          [
           "Khangalassky District",
           "Russian Federation"
          ],
          [
           "Zhulanikha",
           "Russian Federation"
          ],
          [
           "Mikhaylovsky District",
           "Russian Federation"
          ],
          [
           "Gorod Achinsk",
           "Russian Federation"
          ],
          [
           "Gornozavodsk",
           "Russian Federation"
          ],
          [
           "Iskitim",
           "Russian Federation"
          ],
          [
           "Mikhaylovka",
           "Russian Federation"
          ],
          [
           "Magnitogorsk",
           "Russian Federation"
          ],
          [
           "Chelyabinsk",
           "Russian Federation"
          ],
          [
           "Volkhov",
           "Russian Federation"
          ],
          [
           "Angarsk",
           "Russian Federation"
          ],
          [
           "Novotroitsk",
           "Russian Federation"
          ],
          [
           "Uglegorsky",
           "Russian Federation"
          ],
          [
           "Kleny",
           "Russian Federation"
          ],
          [
           "Verkhnebakanskiy",
           "Russian Federation"
          ],
          [
           "Magadan",
           "Russian Federation"
          ],
          [
           "Chudovo",
           "Russian Federation"
          ],
          [
           "Norilsk",
           "Russian Federation"
          ],
          [
           "Podolsk",
           "Russian Federation"
          ],
          [
           "Gorod Vorkuta",
           "Russian Federation"
          ],
          [
           "Volkhov",
           "Russian Federation"
          ],
          [
           "Shara",
           "Rwanda"
          ],
          [
           "Buraydah",
           "Saudi Arabia"
          ],
          [
           "Bisha",
           "Saudi Arabia"
          ],
          [
           "Al Ardiyat",
           "Saudi Arabia"
          ],
          [
           "Ahad Al Masarihah",
           "Saudi Arabia"
          ],
          [
           "Duba",
           "Saudi Arabia"
          ],
          [
           "Yanbu Al Bahr",
           "Saudi Arabia"
          ],
          [
           "Turaif",
           "Saudi Arabia"
          ],
          [
           "Khulays",
           "Saudi Arabia"
          ],
          [
           "Rabigh",
           "Saudi Arabia"
          ],
          [
           "Marat",
           "Saudi Arabia"
          ],
          [
           "Jubail",
           "Saudi Arabia"
          ],
          [
           "Baqaa",
           "Saudi Arabia"
          ],
          [
           "Al Mundfin",
           "Saudi Arabia"
          ],
          [
           "Turaif",
           "Saudi Arabia"
          ],
          [
           "Al Oyun",
           "Saudi Arabia"
          ],
          [
           "Al-Muzahmiyya",
           "Saudi Arabia"
          ],
          [
           "Al Lith",
           "Saudi Arabia"
          ],
          [
           "Riyadh",
           "Saudi Arabia"
          ],
          [
           "Najran",
           "Saudi Arabia"
          ],
          [
           "Ad Damer",
           "Sudan"
          ],
          [
           "Ad Damer",
           "Sudan"
          ],
          [
           "Ad Damer",
           "Sudan"
          ],
          [
           "Ad Damer",
           "Sudan"
          ],
          [
           "Berber",
           "Sudan"
          ],
          [
           "Rabak",
           "Sudan"
          ],
          [
           "Kirène",
           "Senegal"
          ],
          [
           "Thies",
           "Senegal"
          ],
          [
           "Dakar",
           "Senegal"
          ],
          [
           "Freetown",
           "Sierra Leone"
          ],
          [
           "Metapán",
           "El Salvador"
          ],
          [
           "Metapán",
           "El Salvador"
          ],
          [
           "Popovac",
           "Serbia"
          ],
          [
           "Beočin",
           "Serbia"
          ],
          [
           "Galovići",
           "Serbia"
          ],
          [
           "Houttuin",
           "Suriname"
          ],
          [
           "Rohožník",
           "Slovakia"
          ],
          [
           "Dvorníky - Včeláre",
           "Slovakia"
          ],
          [
           "Trenčín",
           "Slovakia"
          ],
          [
           "Ilava",
           "Slovakia"
          ],
          [
           "Trbovlje",
           "Slovenia"
          ],
          [
           "Anhovo",
           "Slovenia"
          ],
          [
           "Skövde",
           "Sweden"
          ],
          [
           "Slite",
           "Sweden"
          ],
          [
           "Matsapha",
           "Eswatini"
          ],
          [
           "Adra Industrial City",
           "Syrian Arab Republic"
          ],
          [
           "Duma District",
           "Syrian Arab Republic"
          ],
          [
           "Aleppo",
           "Syrian Arab Republic"
          ],
          [
           "District de Hama",
           "Syrian Arab Republic"
          ],
          [
           "Sayfat",
           "Syrian Arab Republic"
          ],
          [
           "Kafr Buhum",
           "Syrian Arab Republic"
          ],
          [
           "Tartus District",
           "Syrian Arab Republic"
          ],
          [
           "District d'Azaz",
           "Syrian Arab Republic"
          ],
          [
           "District d'Ayn al-Arab",
           "Syrian Arab Republic"
          ],
          [
           "N'Djaména",
           "Chad"
          ],
          [
           "Mayo-Dallah",
           "Chad"
          ],
          [
           "Yoto",
           "Togo"
          ],
          [
           "Lomé",
           "Togo"
          ],
          [
           "Kozah",
           "Togo"
          ],
          [
           "Yoto",
           "Togo"
          ],
          [
           "Na Phra Lan",
           "Thailand"
          ],
          [
           "Tambon Phu Khang",
           "Thailand"
          ],
          [
           "Tambon Cha-am",
           "Thailand"
          ],
          [
           "Takhli",
           "Thailand"
          ],
          [
           "Tambon Ban Pa",
           "Thailand"
          ],
          [
           "Tambon Ban Sa",
           "Thailand"
          ],
          [
           "Tambon Thi Wang",
           "Thailand"
          ],
          [
           "Ban Krua",
           "Thailand"
          ],
          [
           "Tambon Mittaphap",
           "Thailand"
          ],
          [
           "Tambon Thap Kwang",
           "Thailand"
          ],
          [
           "Tambon Dok Khamtai",
           "Thailand"
          ],
          [
           "Dushanbe",
           "Tajikistan"
          ],
          [
           "Garlyk",
           "Turkmenistan"
          ],
          [
           "Jebel",
           "Turkmenistan"
          ],
          [
           "Yarajy",
           "Turkmenistan"
          ],
          [
           "Yarajy",
           "Turkmenistan"
          ],
          [
           "Claxton Bay",
           "Trinidad and Tobago"
          ],
          [
           "Tunis",
           "Tunisia"
          ],
          [
           "Gabes West",
           "Tunisia"
          ],
          [
           "BIR MCHERGA GARE",
           "Tunisia"
          ],
          [
           "Mornag",
           "Tunisia"
          ],
          [
           "Bizerte",
           "Tunisia"
          ],
          [
           "Al-Jarissah",
           "Tunisia"
          ],
          [
           "Feriana",
           "Tunisia"
          ],
          [
           "Enfidha",
           "Tunisia"
          ],
          [
           "Gabès Médina",
           "Tunisia"
          ],
          [
           "Korkuteli",
           "Turkey"
          ],
          [
           "Doğubayazıt",
           "Turkey"
          ],
          [
           "Gümüşhane Merkez",
           "Turkey"
          ],
          [
           "Bilecik Merkez",
           "Turkey"
          ],
          [
           "Aşkale",
           "Turkey"
          ],
          [
           "Edremit",
           "Turkey"
          ],
          [
           "Erzincan Merkez",
           "Turkey"
          ],
          [
           "Söke",
           "Turkey"
          ],
          [
           "Bornova",
           "Turkey"
          ],
          [
           "Kestel",
           "Turkey"
          ],
          [
           "Kars Merkez",
           "Turkey"
          ],
          [
           "Baskil",
           "Turkey"
          ],
          [
           "Bornova",
           "Turkey"
          ],
          [
           "Lalapaşa",
           "Turkey"
          ],
          [
           "Melikgazi",
           "Turkey"
          ],
          [
           "Tepebaşı",
           "Turkey"
          ],
          [
           "Akdeniz",
           "Turkey"
          ],
          [
           "Niğde Merkez",
           "Turkey"
          ],
          [
           "Mamak",
           "Turkey"
          ],
          [
           "Gönen",
           "Turkey"
          ],
          [
           "Ladik",
           "Turkey"
          ],
          [
           "Büyükçekmece",
           "Turkey"
          ],
          [
           "Ezine",
           "Turkey"
          ],
          [
           "Karabük Merkez",
           "Turkey"
          ],
          [
           "Kavak",
           "Turkey"
          ],
          [
           "Pazarcık",
           "Turkey"
          ],
          [
           "Altıeylül",
           "Turkey"
          ],
          [
           "Konyaaltı",
           "Turkey"
          ],
          [
           "Konyaaltı",
           "Turkey"
          ],
          [
           "Pınarhisar",
           "Turkey"
          ],
          [
           "Ergani",
           "Turkey"
          ],
          [
           "Şehitkamil",
           "Turkey"
          ],
          [
           "Kurtalan",
           "Turkey"
          ],
          [
           "Karaköprü",
           "Turkey"
          ],
          [
           "Derik",
           "Turkey"
          ],
          [
           "Bitlis Merkez",
           "Turkey"
          ],
          [
           "Kilis Merkez",
           "Turkey"
          ],
          [
           "Silifke",
           "Turkey"
          ],
          [
           "Körfez",
           "Turkey"
          ],
          [
           "Yüreğir",
           "Turkey"
          ],
          [
           "Darıca",
           "Turkey"
          ],
          [
           "Bolu Merkez",
           "Turkey"
          ],
          [
           "Kahramankazan",
           "Turkey"
          ],
          [
           "Honaz",
           "Turkey"
          ],
          [
           "Artuklu",
           "Turkey"
          ],
          [
           "Ünye",
           "Turkey"
          ],
          [
           "İskenderun",
           "Turkey"
          ],
          [
           "Ereğli",
           "Turkey"
          ],
          [
           "Baskil",
           "Turkey"
          ],
          [
           "Bartın Merkez",
           "Turkey"
          ],
          [
           "Adıyaman Merkez",
           "Turkey"
          ],
          [
           "Pazarcık",
           "Turkey"
          ],
          [
           "Ereğli",
           "Turkey"
          ],
          [
           "Soma",
           "Turkey"
          ],
          [
           "Erzin",
           "Turkey"
          ],
          [
           "Artova",
           "Turkey"
          ],
          [
           "Marmaraereğlisi",
           "Turkey"
          ],
          [
           "Vize",
           "Turkey"
          ],
          [
           "Elmadağ",
           "Turkey"
          ],
          [
           "Selçuklu",
           "Turkey"
          ],
          [
           "Elmadağ",
           "Turkey"
          ],
          [
           "Yerköy",
           "Turkey"
          ],
          [
           "Sivas Merkez",
           "Turkey"
          ],
          [
           "Avanos",
           "Turkey"
          ],
          [
           "İlkadım",
           "Turkey"
          ],
          [
           "Muş Merkez",
           "Turkey"
          ],
          [
           "Çavdır",
           "Turkey"
          ],
          [
           "Beylikdüzü",
           "Turkey"
          ],
          [
           "Gebze",
           "Turkey"
          ],
          [
           "Hualien County",
           "Taiwan, Province of China"
          ],
          [
           "Hualien County",
           "Taiwan, Province of China"
          ],
          [
           "Hualien County",
           "Taiwan, Province of China"
          ],
          [
           "Yilan County",
           "Taiwan, Province of China"
          ],
          [
           "Hsinchu County",
           "Taiwan, Province of China"
          ],
          [
           "Yilan County",
           "Taiwan, Province of China"
          ],
          [
           "Tanga",
           "Tanzania, United Republic of"
          ],
          [
           "Mkuranga",
           "Tanzania, United Republic of"
          ],
          [
           "Mtwara Rural",
           "Tanzania, United Republic of"
          ],
          [
           "Songwe",
           "Tanzania, United Republic of"
          ],
          [
           "Dar es Salaam",
           "Tanzania, United Republic of"
          ],
          [
           "Temeke",
           "Tanzania, United Republic of"
          ],
          [
           "Tanga",
           "Tanzania, United Republic of"
          ],
          [
           "Hima",
           "Uganda"
          ],
          [
           "Tororo",
           "Uganda"
          ],
          [
           "Tororo",
           "Uganda"
          ],
          [
           "Namataba",
           "Uganda"
          ],
          [
           "Zdolbunivs'kyi district",
           "Ukraine"
          ],
          [
           "Mykolaivs'kyi district",
           "Ukraine"
          ],
          [
           "Mykolaivs'kyi district",
           "Ukraine"
          ],
          [
           "Humentsi",
           "Ukraine"
          ],
          [
           "Odesa",
           "Ukraine"
          ],
          [
           "Kamianske",
           "Ukraine"
          ],
          [
           "Kryvyi Rih",
           "Ukraine"
          ],
          [
           "Amvrosiivs'kyi district",
           "Ukraine"
          ],
          [
           "Balakliis'kyi district",
           "Ukraine"
          ],
          [
           "Kramators'k",
           "Ukraine"
          ],
          [
           "Bakhchysarai",
           "Ukraine"
          ],
          [
           "Yamnytsya",
           "Ukraine"
          ],
          [
           "Minas",
           "Uruguay"
          ],
          [
           "Paysandú",
           "Uruguay"
          ],
          [
           "Montevideo",
           "Uruguay"
          ],
          [
           "San Antonio",
           "United States of America"
          ],
          [
           "Cape Girardeau",
           "United States of America"
          ],
          [
           "Chattanooga",
           "United States of America"
          ],
          [
           "Festus",
           "United States of America"
          ],
          [
           "Greencastle",
           "United States of America"
          ],
          [
           "Maryneal",
           "United States of America"
          ],
          [
           "Pryor",
           "United States of America"
          ],
          [
           "Stockertown",
           "United States of America"
          ],
          [
           "Sumterville",
           "United States of America"
          ],
          [
           "Chanute",
           "United States of America"
          ],
          [
           "Montana City",
           "United States of America"
          ],
          [
           "Huntington",
           "United States of America"
          ],
          [
           "Foreman",
           "United States of America"
          ],
          [
           "Louisville",
           "United States of America"
          ],
          [
           "Leamington",
           "United States of America"
          ],
          [
           "Seattle",
           "United States of America"
          ],
          [
           "Midlothian",
           "United States of America"
          ],
          [
           "Branford",
           "United States of America"
          ],
          [
           "San Antonio",
           "United States of America"
          ],
          [
           "Woodway",
           "United States of America"
          ],
          [
           "York",
           "United States of America"
          ],
          [
           "Brooksville",
           "United States of America"
          ],
          [
           "Perry",
           "United States of America"
          ],
          [
           "Demopolis",
           "United States of America"
          ],
          [
           "Knoxville",
           "United States of America"
          ],
          [
           "Longmont",
           "United States of America"
          ],
          [
           "Miami",
           "United States of America"
          ],
          [
           "Canyon Lake",
           "United States of America"
          ],
          [
           "Louisville",
           "United States of America"
          ],
          [
           "Victorville",
           "United States of America"
          ],
          [
           "Brooksville",
           "United States of America"
          ],
          [
           "Paulden",
           "United States of America"
          ],
          [
           "Xenia",
           "United States of America"
          ],
          [
           "Sugar Creek",
           "United States of America"
          ],
          [
           "Tulsa",
           "United States of America"
          ],
          [
           "LaSalle",
           "United States of America"
          ],
          [
           "Laramie",
           "United States of America"
          ],
          [
           "Fernley",
           "United States of America"
          ],
          [
           "Thomaston",
           "United States of America"
          ],
          [
           "Harleyville",
           "United States of America"
          ],
          [
           "Bath",
           "United States of America"
          ],
          [
           "Calera",
           "United States of America"
          ],
          [
           "Newberry",
           "United States of America"
          ],
          [
           "Harleyville",
           "United States of America"
          ],
          [
           "Martinsburg",
           "United States of America"
          ],
          [
           "Atlanta",
           "United States of America"
          ],
          [
           "Palmetto",
           "United States of America"
          ],
          [
           "Tampa",
           "United States of America"
          ],
          [
           "Three Forks",
           "United States of America"
          ],
          [
           "Odessa",
           "United States of America"
          ],
          [
           "Rapid City",
           "United States of America"
          ],
          [
           "Pueblo",
           "United States of America"
          ],
          [
           "Tijeras",
           "United States of America"
          ],
          [
           "Logansport",
           "United States of America"
          ],
          [
           "Sellersburg",
           "United States of America"
          ],
          [
           "MONTE VISTA",
           "United States of America"
          ],
          [
           "Fleetwood",
           "United States of America"
          ],
          [
           "Glens Falls",
           "United States of America"
          ],
          [
           "Leeds",
           "United States of America"
          ],
          [
           "Mason City",
           "United States of America"
          ],
          [
           "Mitchell",
           "United States of America"
          ],
          [
           "Redding",
           "United States of America"
          ],
          [
           "Tehachapi",
           "United States of America"
          ],
          [
           "Union Bridge",
           "United States of America"
          ],
          [
           "Mustang Ridge",
           "United States of America"
          ],
          [
           "Camden",
           "United States of America"
          ],
          [
           "Bellingham",
           "United States of America"
          ],
          [
           "Nazareth",
           "United States of America"
          ],
          [
           "Catskill",
           "United States of America"
          ],
          [
           "Bloomsdale",
           "United States of America"
          ],
          [
           "Ada",
           "United States of America"
          ],
          [
           "Florence",
           "United States of America"
          ],
          [
           "Hagerstown",
           "United States of America"
          ],
          [
           "Holly Hill",
           "United States of America"
          ],
          [
           "Midlothian",
           "United States of America"
          ],
          [
           "Morgan",
           "United States of America"
          ],
          [
           "Theodore",
           "United States of America"
          ],
          [
           "Alpena",
           "United States of America"
          ],
          [
           "Massac County",
           "United States of America"
          ],
          [
           "Paulding",
           "United States of America"
          ],
          [
           "Selkirk",
           "United States of America"
          ],
          [
           "Lehigh County",
           "United States of America"
          ],
          [
           "Chicago",
           "United States of America"
          ],
          [
           "Essexville",
           "United States of America"
          ],
          [
           "Sparrows Point",
           "United States of America"
          ],
          [
           "Seattle",
           "United States of America"
          ],
          [
           "Midlothian",
           "United States of America"
          ],
          [
           "Canyon Lake",
           "United States of America"
          ],
          [
           "Lucerne Valley",
           "United States of America"
          ],
          [
           "Humboldt",
           "United States of America"
          ],
          [
           "Clarkdale",
           "United States of America"
          ],
          [
           "Cabot",
           "United States of America"
          ],
          [
           "Hannibal",
           "United States of America"
          ],
          [
           "Buffalo",
           "United States of America"
          ],
          [
           "Oro Grande",
           "United States of America"
          ],
          [
           "Mojave",
           "United States of America"
          ],
          [
           "Rillito",
           "United States of America"
          ],
          [
           "Troutville",
           "United States of America"
          ],
          [
           "Miami",
           "United States of America"
          ],
          [
           "Kern County",
           "United States of America"
          ],
          [
           "Ragland",
           "United States of America"
          ],
          [
           "Charlevoix",
           "United States of America"
          ],
          [
           "Dixon",
           "United States of America"
          ],
          [
           "Detroit",
           "United States of America"
          ],
          [
           "Milwaukee",
           "United States of America"
          ],
          [
           "Ohangaron",
           "Uzbekistan"
          ],
          [
           "Karmana tumani",
           "Uzbekistan"
          ],
          [
           "Bekobod",
           "Uzbekistan"
          ],
          [
           "Quvasoy",
           "Uzbekistan"
          ],
          [
           "Yangiyo'l",
           "Uzbekistan"
          ],
          [
           "O'zbekiston tumani",
           "Uzbekistan"
          ],
          [
           "Uzbekistan District",
           "Uzbekistan"
          ],
          [
           "Broylerny",
           "Uzbekistan"
          ],
          [
           "Taldyk",
           "Uzbekistan"
          ],
          [
           "La Luna",
           "Venezuela"
          ],
          [
           "Piar",
           "Venezuela"
          ],
          [
           "Barquisimeto",
           "Venezuela"
          ],
          [
           "Maracaibo",
           "Venezuela"
          ],
          [
           "Lander",
           "Venezuela"
          ],
          [
           "Guanta",
           "Venezuela"
          ],
          [
           "Táriba",
           "Venezuela"
          ],
          [
           "Candelaria",
           "Venezuela"
          ],
          [
           "Zamora",
           "Venezuela"
          ],
          [
           "San Sebastián",
           "Venezuela"
          ],
          [
           "Ciudad Guayana",
           "Venezuela"
          ],
          [
           "Thôn Giang Nam",
           "Vietnam"
          ],
          [
           "Châu Thành",
           "Vietnam"
          ],
          [
           "Thủy Nguyên",
           "Vietnam"
          ],
          [
           "Nhà Bè",
           "Vietnam"
          ],
          [
           "Phong Điền",
           "Vietnam"
          ],
          [
           "Hoa Lư",
           "Vietnam"
          ],
          [
           "Hoa Lư",
           "Vietnam"
          ],
          [
           "Tân Châu",
           "Vietnam"
          ],
          [
           "Thanh Liêm",
           "Vietnam"
          ],
          [
           "Quốc Oai",
           "Vietnam"
          ],
          [
           "Đô Lương",
           "Vietnam"
          ],
          [
           "Thành phố Lạng Sơn",
           "Vietnam"
          ],
          [
           "Thành phố Lạng Sơn",
           "Vietnam"
          ],
          [
           "Thanh Liêm",
           "Vietnam"
          ],
          [
           "Gia Viễn",
           "Vietnam"
          ],
          [
           "Thị xã Bỉm Sơn",
           "Vietnam"
          ],
          [
           "Kinh Môn",
           "Vietnam"
          ],
          [
           "Hoa Lư",
           "Vietnam"
          ],
          [
           "Thị xã Hương Trà",
           "Vietnam"
          ],
          [
           "Liên Chiểu",
           "Vietnam"
          ],
          [
           "Thanh Ba",
           "Vietnam"
          ],
          [
           "Thành phố Uông Bí",
           "Vietnam"
          ],
          [
           "Hoành Bồ",
           "Vietnam"
          ],
          [
           "Nhà Bè",
           "Vietnam"
          ],
          [
           "Tuyên Hóa",
           "Vietnam"
          ],
          [
           "Tuyên Hóa",
           "Vietnam"
          ],
          [
           "Kiên Lương",
           "Vietnam"
          ],
          [
           "Nhơn Trạch",
           "Vietnam"
          ],
          [
           "Quận 2",
           "Vietnam"
          ],
          [
           "Nhà Bè",
           "Vietnam"
          ],
          [
           "Tân Thành",
           "Vietnam"
          ],
          [
           "Hoài Đức",
           "Vietnam"
          ],
          [
           "Tĩnh Gia",
           "Vietnam"
          ],
          [
           "Thành phố Tuyên Quang",
           "Vietnam"
          ],
          [
           "Thành phố Tuyên Quang",
           "Vietnam"
          ],
          [
           "Quỳnh Lưu",
           "Vietnam"
          ],
          [
           "Thành phố Thái Bình",
           "Vietnam"
          ],
          [
           "Hớn Quản",
           "Vietnam"
          ],
          [
           "Tĩnh Gia",
           "Vietnam"
          ],
          [
           "Kinh Môn",
           "Vietnam"
          ],
          [
           "Thanh Liêm",
           "Vietnam"
          ],
          [
           "Lương Sơn",
           "Vietnam"
          ],
          [
           "Võ Nhai",
           "Vietnam"
          ],
          [
           "Bình Long",
           "Vietnam"
          ],
          [
           "Hoành Bồ",
           "Vietnam"
          ],
          [
           "Thanh Ba",
           "Vietnam"
          ],
          [
           "Thị xã Bỉm Sơn",
           "Vietnam"
          ],
          [
           "Kim Bảng",
           "Vietnam"
          ],
          [
           "Kiên Lương",
           "Vietnam"
          ],
          [
           "Kinh Môn",
           "Vietnam"
          ],
          [
           "Thị xã Hoàng Mai",
           "Vietnam"
          ],
          [
           "Thành phố Tam Điệp",
           "Vietnam"
          ],
          [
           "Quận 9",
           "Vietnam"
          ],
          [
           "Thành phố Cam Ranh",
           "Vietnam"
          ],
          [
           "Cần Đước",
           "Vietnam"
          ],
          [
           "Thủy Nguyên",
           "Vietnam"
          ],
          [
           "Liên Chiểu",
           "Vietnam"
          ],
          [
           "Đồng Hỷ",
           "Vietnam"
          ],
          [
           "Thành phố Long Xuyên",
           "Vietnam"
          ],
          [
           "An Khánh",
           "Vietnam"
          ],
          [
           "Thành phố Cẩm Phả",
           "Vietnam"
          ],
          [
           "Yên Bình",
           "Vietnam"
          ],
          [
           "Yên Bình",
           "Vietnam"
          ],
          [
           "Anh Sơn",
           "Vietnam"
          ],
          [
           "Yên Thuỷ",
           "Vietnam"
          ],
          [
           "Thanh Liêm",
           "Vietnam"
          ],
          [
           "Nam Giang",
           "Vietnam"
          ],
          [
           "Lạng Giang",
           "Vietnam"
          ],
          [
           "Mai Sơn",
           "Vietnam"
          ],
          [
           "Cao Lộc",
           "Vietnam"
          ],
          [
           "Tân Thành",
           "Vietnam"
          ],
          [
           "Cam Lộ",
           "Vietnam"
          ],
          [
           "Thành phố Thái Nguyên",
           "Vietnam"
          ],
          [
           "Hani i Elezit",
           "Kosovo"
          ],
          [
           "Abdullah Gharib",
           "Yemen"
          ],
          [
           "Al Anad",
           "Yemen"
          ],
          [
           "Pattis",
           "Yemen"
          ],
          [
           "Amran",
           "Yemen"
          ],
          [
           null,
           "Yemen"
          ],
          [
           "Asmad Rashid",
           "Yemen"
          ],
          [
           "Ngaka Modiri Molema",
           "South Africa"
          ],
          [
           "Delportshoop",
           "South Africa"
          ],
          [
           "Randburg",
           "South Africa"
          ],
          [
           "Gqeberha",
           "South Africa"
          ],
          [
           "Ngaka Modiri Molema",
           "South Africa"
          ],
          [
           "Delmas",
           "South Africa"
          ],
          [
           "Ugu District Municipality",
           "South Africa"
          ],
          [
           "Durban",
           "South Africa"
          ],
          [
           "Newcastle",
           "South Africa"
          ],
          [
           "Lichtenburg",
           "South Africa"
          ],
          [
           "Randfontein",
           "South Africa"
          ],
          [
           "Richards Bay",
           "South Africa"
          ],
          [
           "Bosveld",
           "South Africa"
          ],
          [
           "Johannesburg South",
           "South Africa"
          ],
          [
           "Lime Acres",
           "South Africa"
          ],
          [
           "Bosveld",
           "South Africa"
          ],
          [
           "Gqeberha",
           "South Africa"
          ],
          [
           "Pretoria",
           "South Africa"
          ],
          [
           "West Coast DC",
           "South Africa"
          ],
          [
           "Ngaka Modiri Molema",
           "South Africa"
          ],
          [
           "Kafue",
           "Zambia"
          ],
          [
           "Masaiti",
           "Zambia"
          ],
          [
           "Ndola",
           "Zambia"
          ],
          [
           "Kafue",
           "Zambia"
          ],
          [
           "Kafue",
           "Zambia"
          ],
          [
           "Ndola",
           "Zambia"
          ],
          [
           "Harare",
           "Zimbabwe"
          ],
          [
           "Bulawayo",
           "Zimbabwe"
          ],
          [
           "Colleen Bawn",
           "Zimbabwe"
          ],
          [
           "Harare",
           "Zimbabwe"
          ],
          [
           "Shurugwi",
           "Zimbabwe"
          ],
          [
           "Redcliff",
           "Zimbabwe"
          ]
         ],
         "hovertemplate": "<b>%{hovertext}</b><br><br>latitude=%{lat}<br>longitude=%{lon}<br>city=%{customdata[0]}<br>country=%{customdata[1]}<extra></extra>",
         "hovertext": [
          "GACTAFG0001",
          "GACTAFG0002",
          "GACTAGO0001",
          "GACTAGO0002",
          "GACTAGO0003",
          "GACTAGO0004",
          "GACTAGO0005",
          "GACTAGO0006",
          "GACTALB0001",
          "GACTALB0002",
          "GACTALB0003",
          "GACTALB0004",
          "GACTARE0001",
          "GACTARE0002",
          "GACTARE0003",
          "GACTARE0004",
          "GACTARE0005",
          "GACTARE0006",
          "GACTARE0007",
          "GACTARE0008",
          "GACTARE0009",
          "GACTARE0010",
          "GACTARE0011",
          "GACTARE0012",
          "GACTARE0013",
          "GACTARE0014",
          "GACTARE0015",
          "GACTARE0016",
          "GACTARE0017",
          "GACTARE0018",
          "GACTARE0019",
          "GACTARE0020",
          "GACTARE0021",
          "GACTARG0001",
          "GACTARG0002",
          "GACTARG0003",
          "GACTARG0004",
          "GACTARG0005",
          "GACTARG0006",
          "GACTARG0007",
          "GACTARG0008",
          "GACTARG0009",
          "GACTARG0010",
          "GACTARG0011",
          "GACTARG0012",
          "GACTARG0013",
          "GACTARG0014",
          "GACTARG0015",
          "GACTARG0016",
          "GACTARG0017",
          "GACTARG0018",
          "GACTARM0001",
          "GACTARM0002",
          "GACTAUS0001",
          "GACTAUS0002",
          "GACTAUS0003",
          "GACTAUS0004",
          "GACTAUS0005",
          "GACTAUS0006",
          "GACTAUS0007",
          "GACTAUS0008",
          "GACTAUS0009",
          "GACTAUS0010",
          "GACTAUS0011",
          "GACTAUS0012",
          "GACTAUS0013",
          "GACTAUS0014",
          "GACTAUS0015",
          "GACTAUS0016",
          "GACTAUS0017",
          "GACTAUS0018",
          "GACTAUS0019",
          "GACTAUS0020",
          "GACTAUS0021",
          "GACTAUS0022",
          "GACTAUT0001",
          "GACTAUT0002",
          "GACTAUT0003",
          "GACTAUT0004",
          "GACTAUT0005",
          "GACTAUT0006",
          "GACTAUT0007",
          "GACTAUT0008",
          "GACTAUT0009",
          "GACTAUT0010",
          "GACTAZE0001",
          "GACTAZE0002",
          "GACTAZE0003",
          "GACTBDI0001",
          "GACTBEL0001",
          "GACTBEL0002",
          "GACTBEL0003",
          "GACTBEL0004",
          "GACTBEL0005",
          "GACTBEL0006",
          "GACTBEL0007",
          "GACTBEL0008",
          "GACTBEN0001",
          "GACTBEN0002",
          "GACTBEN0003",
          "GACTBEN0004",
          "GACTBFA0001",
          "GACTBFA0002",
          "GACTBFA0003",
          "GACTBFA0004",
          "GACTBGD0001",
          "GACTBGD0002",
          "GACTBGD0003",
          "GACTBGD0004",
          "GACTBGD0005",
          "GACTBGD0006",
          "GACTBGD0007",
          "GACTBGD0008",
          "GACTBGD0009",
          "GACTBGD0010",
          "GACTBGD0011",
          "GACTBGD0012",
          "GACTBGD0013",
          "GACTBGD0014",
          "GACTBGD0015",
          "GACTBGD0016",
          "GACTBGD0017",
          "GACTBGD0018",
          "GACTBGD0019",
          "GACTBGD0020",
          "GACTBGD0021",
          "GACTBGD0022",
          "GACTBGD0023",
          "GACTBGD0024",
          "GACTBGD0025",
          "GACTBGD0026",
          "GACTBGD0027",
          "GACTBGD0028",
          "GACTBGD0029",
          "GACTBGD0030",
          "GACTBGD0031",
          "GACTBGD0032",
          "GACTBGD0033",
          "GACTBGD0034",
          "GACTBGD0035",
          "GACTBGD0036",
          "GACTBGD0037",
          "GACTBGD0038",
          "GACTBGR0001",
          "GACTBGR0002",
          "GACTBGR0003",
          "GACTBGR0004",
          "GACTBHR0001",
          "GACTBHR0002",
          "GACTBIH0001",
          "GACTBIH0002",
          "GACTBLR0001",
          "GACTBLR0002",
          "GACTBLR0003",
          "GACTBOL0001",
          "GACTBOL0002",
          "GACTBOL0003",
          "GACTBOL0004",
          "GACTBOL0005",
          "GACTBOL0006",
          "GACTBOL0007",
          "GACTBOL0008",
          "GACTBOL0009",
          "GACTBRA0001",
          "GACTBRA0002",
          "GACTBRA0003",
          "GACTBRA0004",
          "GACTBRA0005",
          "GACTBRA0006",
          "GACTBRA0007",
          "GACTBRA0008",
          "GACTBRA0009",
          "GACTBRA0010",
          "GACTBRA0011",
          "GACTBRA0012",
          "GACTBRA0013",
          "GACTBRA0014",
          "GACTBRA0015",
          "GACTBRA0016",
          "GACTBRA0017",
          "GACTBRA0018",
          "GACTBRA0019",
          "GACTBRA0020",
          "GACTBRA0021",
          "GACTBRA0022",
          "GACTBRA0023",
          "GACTBRA0024",
          "GACTBRA0025",
          "GACTBRA0026",
          "GACTBRA0027",
          "GACTBRA0028",
          "GACTBRA0029",
          "GACTBRA0030",
          "GACTBRA0031",
          "GACTBRA0032",
          "GACTBRA0033",
          "GACTBRA0034",
          "GACTBRA0035",
          "GACTBRA0036",
          "GACTBRA0037",
          "GACTBRA0038",
          "GACTBRA0039",
          "GACTBRA0040",
          "GACTBRA0041",
          "GACTBRA0042",
          "GACTBRA0043",
          "GACTBRA0044",
          "GACTBRA0045",
          "GACTBRA0046",
          "GACTBRA0047",
          "GACTBRA0048",
          "GACTBRA0049",
          "GACTBRA0050",
          "GACTBRA0051",
          "GACTBRA0052",
          "GACTBRA0053",
          "GACTBRA0054",
          "GACTBRA0055",
          "GACTBRA0056",
          "GACTBRA0057",
          "GACTBRA0058",
          "GACTBRA0059",
          "GACTBRA0060",
          "GACTBRA0061",
          "GACTBRA0062",
          "GACTBRA0063",
          "GACTBRA0064",
          "GACTBRA0065",
          "GACTBRA0066",
          "GACTBRA0067",
          "GACTBRA0068",
          "GACTBRA0069",
          "GACTBRA0070",
          "GACTBRA0071",
          "GACTBRA0072",
          "GACTBRA0073",
          "GACTBRA0074",
          "GACTBRA0075",
          "GACTBRA0076",
          "GACTBRA0077",
          "GACTBRA0078",
          "GACTBRA0079",
          "GACTBRA0080",
          "GACTBRA0081",
          "GACTBRA0082",
          "GACTBRA0083",
          "GACTBRA0084",
          "GACTBRA0085",
          "GACTBRA0086",
          "GACTBRA0087",
          "GACTBRA0088",
          "GACTBRA0089",
          "GACTBRA0090",
          "GACTBRB0001",
          "GACTBRN0001",
          "GACTBTN0001",
          "GACTBTN0002",
          "GACTBTN0003",
          "GACTBWA0001",
          "GACTCAN0001",
          "GACTCAN0002",
          "GACTCAN0003",
          "GACTCAN0004",
          "GACTCAN0005",
          "GACTCAN0006",
          "GACTCAN0007",
          "GACTCAN0008",
          "GACTCAN0009",
          "GACTCAN0010",
          "GACTCAN0011",
          "GACTCAN0012",
          "GACTCAN0013",
          "GACTCAN0014",
          "GACTCAN0015",
          "GACTCAN0016",
          "GACTCAN0017",
          "GACTCHE0001",
          "GACTCHE0002",
          "GACTCHE0003",
          "GACTCHE0004",
          "GACTCHE0005",
          "GACTCHE0006",
          "GACTCHL0001",
          "GACTCHL0002",
          "GACTCHL0003",
          "GACTCHL0004",
          "GACTCHL0005",
          "GACTCHL0006",
          "GACTCHL0007",
          "GACTCHL0008",
          "GACTCHL0009",
          "GACTCHL0010",
          "GACTCHL0011",
          "GACTCHL0012",
          "GACTCHL0013",
          "GACTCHN0001",
          "GACTCHN0002",
          "GACTCHN0003",
          "GACTCHN0004",
          "GACTCHN0005",
          "GACTCHN0006",
          "GACTCHN0007",
          "GACTCHN0008",
          "GACTCHN0009",
          "GACTCHN0010",
          "GACTCHN0011",
          "GACTCHN0012",
          "GACTCHN0013",
          "GACTCHN0014",
          "GACTCHN0015",
          "GACTCHN0016",
          "GACTCHN0017",
          "GACTCHN0018",
          "GACTCHN0019",
          "GACTCHN0020",
          "GACTCHN0021",
          "GACTCHN0022",
          "GACTCHN0023",
          "GACTCHN0024",
          "GACTCHN0025",
          "GACTCHN0026",
          "GACTCHN0027",
          "GACTCHN0028",
          "GACTCHN0029",
          "GACTCHN0030",
          "GACTCHN0031",
          "GACTCHN0032",
          "GACTCHN0033",
          "GACTCHN0034",
          "GACTCHN0035",
          "GACTCHN0036",
          "GACTCHN0037",
          "GACTCHN0038",
          "GACTCHN0039",
          "GACTCHN0040",
          "GACTCHN0041",
          "GACTCHN0042",
          "GACTCHN0043",
          "GACTCHN0044",
          "GACTCHN0045",
          "GACTCHN0046",
          "GACTCHN0047",
          "GACTCHN0048",
          "GACTCHN0049",
          "GACTCHN0050",
          "GACTCHN0051",
          "GACTCHN0052",
          "GACTCHN0053",
          "GACTCHN0054",
          "GACTCHN0055",
          "GACTCHN0056",
          "GACTCHN0057",
          "GACTCHN0058",
          "GACTCHN0059",
          "GACTCHN0060",
          "GACTCHN0061",
          "GACTCHN0062",
          "GACTCHN0063",
          "GACTCHN0064",
          "GACTCHN0065",
          "GACTCHN0066",
          "GACTCHN0067",
          "GACTCHN0068",
          "GACTCHN0069",
          "GACTCHN0070",
          "GACTCHN0071",
          "GACTCHN0072",
          "GACTCHN0073",
          "GACTCHN0074",
          "GACTCHN0075",
          "GACTCHN0076",
          "GACTCHN0077",
          "GACTCHN0078",
          "GACTCHN0079",
          "GACTCHN0080",
          "GACTCHN0081",
          "GACTCHN0082",
          "GACTCHN0083",
          "GACTCHN0084",
          "GACTCHN0085",
          "GACTCHN0086",
          "GACTCHN0087",
          "GACTCHN0088",
          "GACTCHN0089",
          "GACTCHN0090",
          "GACTCHN0091",
          "GACTCHN0092",
          "GACTCHN0093",
          "GACTCHN0094",
          "GACTCHN0095",
          "GACTCHN0096",
          "GACTCHN0097",
          "GACTCHN0098",
          "GACTCHN0099",
          "GACTCHN0100",
          "GACTCHN0101",
          "GACTCHN0102",
          "GACTCHN0103",
          "GACTCHN0104",
          "GACTCHN0105",
          "GACTCHN0106",
          "GACTCHN0107",
          "GACTCHN0108",
          "GACTCHN0109",
          "GACTCHN0110",
          "GACTCHN0111",
          "GACTCHN0112",
          "GACTCHN0113",
          "GACTCHN0114",
          "GACTCHN0115",
          "GACTCHN0116",
          "GACTCHN0117",
          "GACTCHN0118",
          "GACTCHN0119",
          "GACTCHN0120",
          "GACTCHN0121",
          "GACTCHN0122",
          "GACTCHN0123",
          "GACTCHN0124",
          "GACTCHN0125",
          "GACTCHN0126",
          "GACTCHN0127",
          "GACTCHN0128",
          "GACTCHN0129",
          "GACTCHN0130",
          "GACTCHN0131",
          "GACTCHN0132",
          "GACTCHN0133",
          "GACTCHN0134",
          "GACTCHN0135",
          "GACTCHN0136",
          "GACTCHN0137",
          "GACTCHN0138",
          "GACTCHN0139",
          "GACTCHN0140",
          "GACTCHN0141",
          "GACTCHN0142",
          "GACTCHN0143",
          "GACTCHN0144",
          "GACTCHN0145",
          "GACTCHN0146",
          "GACTCHN0147",
          "GACTCHN0148",
          "GACTCHN0149",
          "GACTCHN0150",
          "GACTCHN0151",
          "GACTCHN0152",
          "GACTCHN0153",
          "GACTCHN0154",
          "GACTCHN0155",
          "GACTCHN0156",
          "GACTCHN0157",
          "GACTCHN0158",
          "GACTCHN0159",
          "GACTCHN0160",
          "GACTCHN0161",
          "GACTCHN0162",
          "GACTCHN0163",
          "GACTCHN0164",
          "GACTCHN0165",
          "GACTCHN0166",
          "GACTCHN0167",
          "GACTCHN0168",
          "GACTCHN0169",
          "GACTCHN0170",
          "GACTCHN0171",
          "GACTCHN0172",
          "GACTCHN0173",
          "GACTCHN0174",
          "GACTCHN0175",
          "GACTCHN0176",
          "GACTCHN0177",
          "GACTCHN0178",
          "GACTCHN0179",
          "GACTCHN0180",
          "GACTCHN0181",
          "GACTCHN0182",
          "GACTCHN0183",
          "GACTCHN0184",
          "GACTCHN0185",
          "GACTCHN0186",
          "GACTCHN0187",
          "GACTCHN0188",
          "GACTCHN0189",
          "GACTCHN0190",
          "GACTCHN0191",
          "GACTCHN0192",
          "GACTCHN0193",
          "GACTCHN0194",
          "GACTCHN0195",
          "GACTCHN0196",
          "GACTCHN0197",
          "GACTCHN0198",
          "GACTCHN0199",
          "GACTCHN0200",
          "GACTCHN0201",
          "GACTCHN0202",
          "GACTCHN0203",
          "GACTCHN0204",
          "GACTCHN0205",
          "GACTCHN0206",
          "GACTCHN0207",
          "GACTCHN0208",
          "GACTCHN0209",
          "GACTCHN0210",
          "GACTCHN0211",
          "GACTCHN0212",
          "GACTCHN0213",
          "GACTCHN0214",
          "GACTCHN0215",
          "GACTCHN0216",
          "GACTCHN0217",
          "GACTCHN0218",
          "GACTCHN0219",
          "GACTCHN0220",
          "GACTCHN0221",
          "GACTCHN0222",
          "GACTCHN0223",
          "GACTCHN0224",
          "GACTCHN0225",
          "GACTCHN0226",
          "GACTCHN0227",
          "GACTCHN0228",
          "GACTCHN0229",
          "GACTCHN0230",
          "GACTCHN0231",
          "GACTCHN0232",
          "GACTCHN0233",
          "GACTCHN0234",
          "GACTCHN0235",
          "GACTCHN0236",
          "GACTCHN0237",
          "GACTCHN0238",
          "GACTCHN0239",
          "GACTCHN0240",
          "GACTCHN0241",
          "GACTCHN0242",
          "GACTCHN0243",
          "GACTCHN0244",
          "GACTCHN0245",
          "GACTCHN0246",
          "GACTCHN0247",
          "GACTCHN0248",
          "GACTCHN0249",
          "GACTCHN0250",
          "GACTCHN0251",
          "GACTCHN0252",
          "GACTCHN0253",
          "GACTCHN0254",
          "GACTCHN0255",
          "GACTCHN0256",
          "GACTCHN0257",
          "GACTCHN0258",
          "GACTCHN0259",
          "GACTCHN0260",
          "GACTCHN0261",
          "GACTCHN0262",
          "GACTCHN0263",
          "GACTCHN0264",
          "GACTCHN0265",
          "GACTCHN0266",
          "GACTCHN0267",
          "GACTCHN0268",
          "GACTCHN0269",
          "GACTCHN0270",
          "GACTCHN0271",
          "GACTCHN0272",
          "GACTCHN0273",
          "GACTCHN0274",
          "GACTCHN0275",
          "GACTCHN0276",
          "GACTCHN0277",
          "GACTCHN0278",
          "GACTCHN0279",
          "GACTCHN0280",
          "GACTCHN0281",
          "GACTCHN0282",
          "GACTCHN0283",
          "GACTCHN0284",
          "GACTCHN0285",
          "GACTCHN0286",
          "GACTCHN0287",
          "GACTCHN0288",
          "GACTCHN0289",
          "GACTCHN0290",
          "GACTCHN0291",
          "GACTCHN0292",
          "GACTCHN0293",
          "GACTCHN0294",
          "GACTCHN0295",
          "GACTCHN0296",
          "GACTCHN0297",
          "GACTCHN0298",
          "GACTCHN0299",
          "GACTCHN0300",
          "GACTCHN0301",
          "GACTCHN0302",
          "GACTCHN0303",
          "GACTCHN0304",
          "GACTCHN0305",
          "GACTCHN0306",
          "GACTCHN0307",
          "GACTCHN0308",
          "GACTCHN0309",
          "GACTCHN0310",
          "GACTCHN0311",
          "GACTCHN0312",
          "GACTCHN0313",
          "GACTCHN0314",
          "GACTCHN0315",
          "GACTCHN0316",
          "GACTCHN0317",
          "GACTCHN0318",
          "GACTCHN0319",
          "GACTCHN0320",
          "GACTCHN0321",
          "GACTCHN0322",
          "GACTCHN0323",
          "GACTCHN0324",
          "GACTCHN0325",
          "GACTCHN0326",
          "GACTCHN0327",
          "GACTCHN0328",
          "GACTCHN0329",
          "GACTCHN0330",
          "GACTCHN0331",
          "GACTCHN0332",
          "GACTCHN0333",
          "GACTCHN0334",
          "GACTCHN0335",
          "GACTCHN0336",
          "GACTCHN0337",
          "GACTCHN0338",
          "GACTCHN0339",
          "GACTCHN0340",
          "GACTCHN0341",
          "GACTCHN0342",
          "GACTCHN0343",
          "GACTCHN0344",
          "GACTCHN0345",
          "GACTCHN0346",
          "GACTCHN0347",
          "GACTCHN0348",
          "GACTCHN0349",
          "GACTCHN0350",
          "GACTCHN0351",
          "GACTCHN0352",
          "GACTCHN0353",
          "GACTCHN0354",
          "GACTCHN0355",
          "GACTCHN0356",
          "GACTCHN0357",
          "GACTCHN0358",
          "GACTCHN0359",
          "GACTCHN0360",
          "GACTCHN0361",
          "GACTCHN0362",
          "GACTCHN0363",
          "GACTCHN0364",
          "GACTCHN0365",
          "GACTCHN0366",
          "GACTCHN0367",
          "GACTCHN0368",
          "GACTCHN0369",
          "GACTCHN0370",
          "GACTCHN0371",
          "GACTCHN0372",
          "GACTCHN0373",
          "GACTCHN0374",
          "GACTCHN0375",
          "GACTCHN0376",
          "GACTCHN0377",
          "GACTCHN0378",
          "GACTCHN0379",
          "GACTCHN0380",
          "GACTCHN0381",
          "GACTCHN0382",
          "GACTCHN0383",
          "GACTCHN0384",
          "GACTCHN0385",
          "GACTCHN0386",
          "GACTCHN0387",
          "GACTCHN0388",
          "GACTCHN0389",
          "GACTCHN0390",
          "GACTCHN0391",
          "GACTCHN0392",
          "GACTCHN0393",
          "GACTCHN0394",
          "GACTCHN0395",
          "GACTCHN0396",
          "GACTCHN0397",
          "GACTCHN0398",
          "GACTCHN0399",
          "GACTCHN0400",
          "GACTCHN0401",
          "GACTCHN0402",
          "GACTCHN0403",
          "GACTCHN0404",
          "GACTCHN0405",
          "GACTCHN0406",
          "GACTCHN0407",
          "GACTCHN0408",
          "GACTCHN0409",
          "GACTCHN0410",
          "GACTCHN0411",
          "GACTCHN0412",
          "GACTCHN0413",
          "GACTCHN0414",
          "GACTCHN0415",
          "GACTCHN0416",
          "GACTCHN0417",
          "GACTCHN0418",
          "GACTCHN0419",
          "GACTCHN0420",
          "GACTCHN0421",
          "GACTCHN0422",
          "GACTCHN0423",
          "GACTCHN0424",
          "GACTCHN0425",
          "GACTCHN0426",
          "GACTCHN0427",
          "GACTCHN0428",
          "GACTCHN0429",
          "GACTCHN0430",
          "GACTCHN0431",
          "GACTCHN0432",
          "GACTCHN0433",
          "GACTCHN0434",
          "GACTCHN0435",
          "GACTCHN0436",
          "GACTCHN0437",
          "GACTCHN0438",
          "GACTCHN0439",
          "GACTCHN0440",
          "GACTCHN0441",
          "GACTCHN0442",
          "GACTCHN0443",
          "GACTCHN0444",
          "GACTCHN0445",
          "GACTCHN0446",
          "GACTCHN0447",
          "GACTCHN0448",
          "GACTCHN0449",
          "GACTCHN0450",
          "GACTCHN0451",
          "GACTCHN0452",
          "GACTCHN0453",
          "GACTCHN0454",
          "GACTCHN0455",
          "GACTCHN0456",
          "GACTCHN0457",
          "GACTCHN0458",
          "GACTCHN0459",
          "GACTCHN0460",
          "GACTCHN0461",
          "GACTCHN0462",
          "GACTCHN0463",
          "GACTCHN0464",
          "GACTCHN0465",
          "GACTCHN0466",
          "GACTCHN0467",
          "GACTCHN0468",
          "GACTCHN0469",
          "GACTCHN0470",
          "GACTCHN0471",
          "GACTCHN0472",
          "GACTCHN0473",
          "GACTCHN0474",
          "GACTCHN0475",
          "GACTCHN0476",
          "GACTCHN0477",
          "GACTCHN0478",
          "GACTCHN0479",
          "GACTCHN0480",
          "GACTCHN0481",
          "GACTCHN0482",
          "GACTCHN0483",
          "GACTCHN0484",
          "GACTCHN0485",
          "GACTCHN0486",
          "GACTCHN0487",
          "GACTCHN0488",
          "GACTCHN0489",
          "GACTCHN0490",
          "GACTCHN0491",
          "GACTCHN0492",
          "GACTCHN0493",
          "GACTCHN0494",
          "GACTCHN0495",
          "GACTCHN0496",
          "GACTCHN0497",
          "GACTCHN0498",
          "GACTCHN0499",
          "GACTCHN0500",
          "GACTCHN0501",
          "GACTCHN0502",
          "GACTCHN0503",
          "GACTCHN0504",
          "GACTCHN0505",
          "GACTCHN0506",
          "GACTCHN0507",
          "GACTCHN0508",
          "GACTCHN0509",
          "GACTCHN0510",
          "GACTCHN0511",
          "GACTCHN0512",
          "GACTCHN0513",
          "GACTCHN0514",
          "GACTCHN0515",
          "GACTCHN0516",
          "GACTCHN0517",
          "GACTCHN0518",
          "GACTCHN0519",
          "GACTCHN0520",
          "GACTCHN0521",
          "GACTCHN0522",
          "GACTCHN0523",
          "GACTCHN0524",
          "GACTCHN0525",
          "GACTCHN0526",
          "GACTCHN0527",
          "GACTCHN0528",
          "GACTCHN0529",
          "GACTCHN0530",
          "GACTCHN0531",
          "GACTCHN0532",
          "GACTCHN0533",
          "GACTCHN0534",
          "GACTCHN0535",
          "GACTCHN0536",
          "GACTCHN0537",
          "GACTCHN0538",
          "GACTCHN0539",
          "GACTCHN0540",
          "GACTCHN0541",
          "GACTCHN0542",
          "GACTCHN0543",
          "GACTCHN0544",
          "GACTCHN0545",
          "GACTCHN0546",
          "GACTCHN0547",
          "GACTCHN0548",
          "GACTCHN0549",
          "GACTCHN0550",
          "GACTCHN0551",
          "GACTCHN0552",
          "GACTCHN0553",
          "GACTCHN0554",
          "GACTCHN0555",
          "GACTCHN0556",
          "GACTCHN0557",
          "GACTCHN0558",
          "GACTCHN0559",
          "GACTCHN0560",
          "GACTCHN0561",
          "GACTCHN0562",
          "GACTCHN0563",
          "GACTCHN0564",
          "GACTCHN0565",
          "GACTCHN0566",
          "GACTCHN0567",
          "GACTCHN0568",
          "GACTCHN0569",
          "GACTCHN0570",
          "GACTCHN0571",
          "GACTCHN0572",
          "GACTCHN0573",
          "GACTCHN0574",
          "GACTCHN0575",
          "GACTCHN0576",
          "GACTCHN0577",
          "GACTCHN0578",
          "GACTCHN0579",
          "GACTCHN0580",
          "GACTCHN0581",
          "GACTCHN0582",
          "GACTCHN0583",
          "GACTCHN0584",
          "GACTCHN0585",
          "GACTCHN0586",
          "GACTCHN0587",
          "GACTCHN0588",
          "GACTCHN0589",
          "GACTCHN0590",
          "GACTCHN0591",
          "GACTCHN0592",
          "GACTCHN0593",
          "GACTCHN0594",
          "GACTCHN0595",
          "GACTCHN0596",
          "GACTCHN0597",
          "GACTCHN0598",
          "GACTCHN0599",
          "GACTCHN0600",
          "GACTCHN0601",
          "GACTCHN0602",
          "GACTCHN0603",
          "GACTCHN0604",
          "GACTCHN0605",
          "GACTCHN0606",
          "GACTCHN0607",
          "GACTCHN0608",
          "GACTCHN0609",
          "GACTCHN0610",
          "GACTCHN0611",
          "GACTCHN0612",
          "GACTCHN0613",
          "GACTCHN0614",
          "GACTCHN0615",
          "GACTCHN0616",
          "GACTCHN0617",
          "GACTCHN0618",
          "GACTCHN0619",
          "GACTCHN0620",
          "GACTCHN0621",
          "GACTCHN0622",
          "GACTCHN0623",
          "GACTCHN0624",
          "GACTCHN0625",
          "GACTCHN0626",
          "GACTCHN0627",
          "GACTCHN0628",
          "GACTCHN0629",
          "GACTCHN0630",
          "GACTCHN0631",
          "GACTCHN0632",
          "GACTCHN0633",
          "GACTCHN0634",
          "GACTCHN0635",
          "GACTCHN0636",
          "GACTCHN0637",
          "GACTCHN0638",
          "GACTCHN0639",
          "GACTCHN0640",
          "GACTCHN0641",
          "GACTCHN0642",
          "GACTCHN0643",
          "GACTCHN0644",
          "GACTCHN0645",
          "GACTCHN0646",
          "GACTCHN0647",
          "GACTCHN0648",
          "GACTCHN0649",
          "GACTCHN0650",
          "GACTCHN0651",
          "GACTCHN0652",
          "GACTCHN0653",
          "GACTCHN0654",
          "GACTCHN0655",
          "GACTCHN0656",
          "GACTCHN0657",
          "GACTCHN0658",
          "GACTCHN0659",
          "GACTCHN0660",
          "GACTCHN0661",
          "GACTCHN0662",
          "GACTCHN0663",
          "GACTCHN0664",
          "GACTCHN0665",
          "GACTCHN0666",
          "GACTCHN0667",
          "GACTCHN0668",
          "GACTCHN0669",
          "GACTCHN0670",
          "GACTCHN0671",
          "GACTCHN0672",
          "GACTCHN0673",
          "GACTCHN0674",
          "GACTCHN0675",
          "GACTCHN0676",
          "GACTCHN0677",
          "GACTCHN0678",
          "GACTCHN0679",
          "GACTCHN0680",
          "GACTCHN0681",
          "GACTCHN0682",
          "GACTCHN0683",
          "GACTCHN0684",
          "GACTCHN0685",
          "GACTCHN0686",
          "GACTCHN0687",
          "GACTCHN0688",
          "GACTCHN0689",
          "GACTCHN0690",
          "GACTCHN0691",
          "GACTCHN0692",
          "GACTCHN0693",
          "GACTCHN0694",
          "GACTCHN0695",
          "GACTCHN0696",
          "GACTCHN0697",
          "GACTCHN0698",
          "GACTCHN0699",
          "GACTCHN0700",
          "GACTCHN0701",
          "GACTCHN0702",
          "GACTCHN0703",
          "GACTCHN0704",
          "GACTCHN0705",
          "GACTCHN0706",
          "GACTCHN0707",
          "GACTCHN0708",
          "GACTCHN0709",
          "GACTCHN0710",
          "GACTCHN0711",
          "GACTCHN0712",
          "GACTCHN0713",
          "GACTCHN0714",
          "GACTCHN0715",
          "GACTCHN0716",
          "GACTCHN0717",
          "GACTCHN0718",
          "GACTCHN0719",
          "GACTCHN0720",
          "GACTCHN0721",
          "GACTCHN0722",
          "GACTCHN0723",
          "GACTCHN0724",
          "GACTCHN0725",
          "GACTCHN0726",
          "GACTCHN0727",
          "GACTCHN0728",
          "GACTCHN0729",
          "GACTCHN0730",
          "GACTCHN0731",
          "GACTCHN0732",
          "GACTCHN0733",
          "GACTCHN0734",
          "GACTCHN0735",
          "GACTCHN0736",
          "GACTCHN0737",
          "GACTCHN0738",
          "GACTCHN0739",
          "GACTCHN0740",
          "GACTCHN0741",
          "GACTCHN0742",
          "GACTCHN0743",
          "GACTCHN0744",
          "GACTCHN0745",
          "GACTCHN0746",
          "GACTCHN0747",
          "GACTCHN0748",
          "GACTCHN0749",
          "GACTCHN0750",
          "GACTCHN0751",
          "GACTCHN0752",
          "GACTCHN0753",
          "GACTCHN0754",
          "GACTCHN0755",
          "GACTCHN0756",
          "GACTCHN0757",
          "GACTCHN0758",
          "GACTCHN0759",
          "GACTCHN0760",
          "GACTCHN0761",
          "GACTCHN0762",
          "GACTCHN0763",
          "GACTCHN0764",
          "GACTCHN0765",
          "GACTCHN0766",
          "GACTCHN0767",
          "GACTCHN0768",
          "GACTCHN0769",
          "GACTCHN0770",
          "GACTCHN0771",
          "GACTCHN0772",
          "GACTCHN0773",
          "GACTCHN0774",
          "GACTCHN0775",
          "GACTCHN0776",
          "GACTCHN0777",
          "GACTCHN0778",
          "GACTCHN0779",
          "GACTCHN0780",
          "GACTCHN0781",
          "GACTCHN0782",
          "GACTCHN0783",
          "GACTCHN0784",
          "GACTCHN0785",
          "GACTCHN0786",
          "GACTCHN0787",
          "GACTCHN0788",
          "GACTCHN0789",
          "GACTCHN0790",
          "GACTCHN0791",
          "GACTCHN0792",
          "GACTCHN0793",
          "GACTCHN0794",
          "GACTCHN0795",
          "GACTCHN0796",
          "GACTCHN0797",
          "GACTCHN0798",
          "GACTCHN0799",
          "GACTCHN0800",
          "GACTCHN0801",
          "GACTCHN0802",
          "GACTCHN0803",
          "GACTCHN0804",
          "GACTCHN0805",
          "GACTCHN0806",
          "GACTCHN0807",
          "GACTCHN0808",
          "GACTCHN0809",
          "GACTCHN0810",
          "GACTCHN0811",
          "GACTCHN0812",
          "GACTCHN0813",
          "GACTCHN0814",
          "GACTCHN0815",
          "GACTCHN0816",
          "GACTCHN0817",
          "GACTCHN0818",
          "GACTCHN0819",
          "GACTCHN0820",
          "GACTCHN0821",
          "GACTCHN0822",
          "GACTCHN0823",
          "GACTCHN0824",
          "GACTCHN0825",
          "GACTCHN0826",
          "GACTCHN0827",
          "GACTCHN0828",
          "GACTCHN0829",
          "GACTCHN0830",
          "GACTCHN0831",
          "GACTCHN0832",
          "GACTCHN0833",
          "GACTCHN0834",
          "GACTCHN0835",
          "GACTCHN0836",
          "GACTCHN0837",
          "GACTCHN0838",
          "GACTCHN0839",
          "GACTCHN0840",
          "GACTCHN0841",
          "GACTCHN0842",
          "GACTCHN0843",
          "GACTCHN0844",
          "GACTCHN0845",
          "GACTCHN0846",
          "GACTCHN0847",
          "GACTCHN0848",
          "GACTCHN0849",
          "GACTCHN0850",
          "GACTCHN0851",
          "GACTCHN0852",
          "GACTCHN0853",
          "GACTCHN0854",
          "GACTCHN0855",
          "GACTCHN0856",
          "GACTCHN0857",
          "GACTCHN0858",
          "GACTCHN0859",
          "GACTCHN0860",
          "GACTCHN0861",
          "GACTCHN0862",
          "GACTCHN0863",
          "GACTCHN0864",
          "GACTCHN0865",
          "GACTCHN0866",
          "GACTCHN0867",
          "GACTCHN0868",
          "GACTCHN0869",
          "GACTCHN0870",
          "GACTCHN0871",
          "GACTCHN0872",
          "GACTCHN0873",
          "GACTCHN0874",
          "GACTCHN0875",
          "GACTCHN0876",
          "GACTCHN0877",
          "GACTCHN0878",
          "GACTCHN0879",
          "GACTCHN0880",
          "GACTCHN0881",
          "GACTCHN0882",
          "GACTCHN0883",
          "GACTCHN0884",
          "GACTCHN0885",
          "GACTCHN0886",
          "GACTCHN0887",
          "GACTCHN0888",
          "GACTCHN0889",
          "GACTCHN0890",
          "GACTCHN0891",
          "GACTCHN0892",
          "GACTCHN0893",
          "GACTCHN0894",
          "GACTCHN0895",
          "GACTCHN0896",
          "GACTCHN0897",
          "GACTCHN0898",
          "GACTCHN0899",
          "GACTCHN0900",
          "GACTCHN0901",
          "GACTCHN0902",
          "GACTCHN0903",
          "GACTCHN0904",
          "GACTCHN0905",
          "GACTCHN0906",
          "GACTCHN0907",
          "GACTCHN0908",
          "GACTCHN0909",
          "GACTCHN0910",
          "GACTCHN0911",
          "GACTCHN0912",
          "GACTCHN0913",
          "GACTCHN0914",
          "GACTCHN0915",
          "GACTCHN0916",
          "GACTCHN0917",
          "GACTCHN0918",
          "GACTCHN0919",
          "GACTCHN0920",
          "GACTCHN0921",
          "GACTCHN0922",
          "GACTCHN0923",
          "GACTCHN0924",
          "GACTCHN0925",
          "GACTCHN0926",
          "GACTCHN0927",
          "GACTCHN0928",
          "GACTCHN0929",
          "GACTCHN0930",
          "GACTCHN0931",
          "GACTCHN0932",
          "GACTCHN0933",
          "GACTCHN0934",
          "GACTCHN0935",
          "GACTCHN0936",
          "GACTCHN0937",
          "GACTCHN0938",
          "GACTCHN0939",
          "GACTCHN0940",
          "GACTCHN0941",
          "GACTCHN0942",
          "GACTCHN0943",
          "GACTCHN0944",
          "GACTCHN0945",
          "GACTCHN0946",
          "GACTCHN0947",
          "GACTCHN0948",
          "GACTCHN0949",
          "GACTCHN0950",
          "GACTCHN0951",
          "GACTCHN0952",
          "GACTCHN0953",
          "GACTCHN0954",
          "GACTCHN0955",
          "GACTCHN0956",
          "GACTCHN0957",
          "GACTCHN0958",
          "GACTCHN0959",
          "GACTCHN0960",
          "GACTCHN0961",
          "GACTCHN0962",
          "GACTCHN0963",
          "GACTCHN0964",
          "GACTCHN0965",
          "GACTCHN0966",
          "GACTCHN0967",
          "GACTCHN0968",
          "GACTCHN0969",
          "GACTCHN0970",
          "GACTCHN0971",
          "GACTCHN0972",
          "GACTCHN0973",
          "GACTCHN0974",
          "GACTCHN0975",
          "GACTCHN0976",
          "GACTCHN0977",
          "GACTCHN0978",
          "GACTCHN0979",
          "GACTCHN0980",
          "GACTCHN0981",
          "GACTCHN0982",
          "GACTCHN0983",
          "GACTCHN0984",
          "GACTCHN0985",
          "GACTCHN0986",
          "GACTCHN0987",
          "GACTCHN0988",
          "GACTCHN0989",
          "GACTCHN0990",
          "GACTCHN0991",
          "GACTCHN0992",
          "GACTCHN0993",
          "GACTCHN0994",
          "GACTCHN0995",
          "GACTCHN0996",
          "GACTCHN0997",
          "GACTCHN0998",
          "GACTCHN0999",
          "GACTCHN1000",
          "GACTCHN1001",
          "GACTCHN1002",
          "GACTCHN1003",
          "GACTCHN1004",
          "GACTCHN1005",
          "GACTCHN1006",
          "GACTCHN1007",
          "GACTCHN1008",
          "GACTCHN1009",
          "GACTCHN1010",
          "GACTCHN1011",
          "GACTCHN1012",
          "GACTCHN1013",
          "GACTCHN1014",
          "GACTCHN1015",
          "GACTCHN1016",
          "GACTCHN1017",
          "GACTCHN1018",
          "GACTCHN1019",
          "GACTCHN1020",
          "GACTCHN1021",
          "GACTCHN1022",
          "GACTCHN1023",
          "GACTCHN1024",
          "GACTCHN1025",
          "GACTCHN1026",
          "GACTCHN1027",
          "GACTCHN1028",
          "GACTCHN1029",
          "GACTCHN1030",
          "GACTCHN1031",
          "GACTCHN1032",
          "GACTCHN1033",
          "GACTCHN1034",
          "GACTCHN1035",
          "GACTCHN1036",
          "GACTCHN1037",
          "GACTCHN1038",
          "GACTCHN1039",
          "GACTCHN1040",
          "GACTCHN1041",
          "GACTCHN1042",
          "GACTCHN1043",
          "GACTCHN1044",
          "GACTCHN1045",
          "GACTCHN1046",
          "GACTCHN1047",
          "GACTCHN1048",
          "GACTCHN1049",
          "GACTCHN1050",
          "GACTCHN1051",
          "GACTCHN1052",
          "GACTCHN1053",
          "GACTCHN1054",
          "GACTCHN1055",
          "GACTCHN1056",
          "GACTCHN1057",
          "GACTCHN1058",
          "GACTCHN1059",
          "GACTCHN1060",
          "GACTCHN1061",
          "GACTCHN1062",
          "GACTCHN1063",
          "GACTCHN1064",
          "GACTCHN1065",
          "GACTCHN1066",
          "GACTCHN1067",
          "GACTCHN1068",
          "GACTCHN1069",
          "GACTCHN1070",
          "GACTCHN1071",
          "GACTCHN1072",
          "GACTCHN1073",
          "GACTCHN1074",
          "GACTCHN1075",
          "GACTCHN1076",
          "GACTCHN1077",
          "GACTCHN1078",
          "GACTCHN1079",
          "GACTCHN1080",
          "GACTCHN1081",
          "GACTCHN1082",
          "GACTCHN1083",
          "GACTCHN1084",
          "GACTCHN1085",
          "GACTCHN1086",
          "GACTCHN1087",
          "GACTCHN1088",
          "GACTCHN1089",
          "GACTCHN1090",
          "GACTCHN1091",
          "GACTCHN1092",
          "GACTCHN1093",
          "GACTCHN1094",
          "GACTCHN1095",
          "GACTCHN1096",
          "GACTCHN1097",
          "GACTCHN1098",
          "GACTCHN1099",
          "GACTCHN1100",
          "GACTCHN1101",
          "GACTCHN1102",
          "GACTCHN1103",
          "GACTCHN1104",
          "GACTCHN1105",
          "GACTCHN1106",
          "GACTCHN1107",
          "GACTCHN1108",
          "GACTCHN1109",
          "GACTCHN1110",
          "GACTCHN1111",
          "GACTCHN1112",
          "GACTCHN1113",
          "GACTCHN1114",
          "GACTCHN1115",
          "GACTCHN1116",
          "GACTCHN1117",
          "GACTCHN1118",
          "GACTCHN1119",
          "GACTCHN1120",
          "GACTCHN1121",
          "GACTCHN1122",
          "GACTCHN1123",
          "GACTCHN1124",
          "GACTCHN1125",
          "GACTCHN1126",
          "GACTCHN1127",
          "GACTCHN1128",
          "GACTCHN1129",
          "GACTCHN1130",
          "GACTCHN1131",
          "GACTCHN1132",
          "GACTCHN1133",
          "GACTCHN1134",
          "GACTCHN1135",
          "GACTCHN1136",
          "GACTCHN1137",
          "GACTCHN1138",
          "GACTCHN1139",
          "GACTCHN1140",
          "GACTCHN1141",
          "GACTCHN1142",
          "GACTCHN1143",
          "GACTCHN1144",
          "GACTCHN1145",
          "GACTCHN1146",
          "GACTCHN1147",
          "GACTCHN1148",
          "GACTCHN1149",
          "GACTCHN1150",
          "GACTCHN1151",
          "GACTCHN1152",
          "GACTCHN1153",
          "GACTCHN1154",
          "GACTCHN1155",
          "GACTCHN1156",
          "GACTCHN1157",
          "GACTCHN1158",
          "GACTCHN1159",
          "GACTCIV0001",
          "GACTCIV0002",
          "GACTCIV0003",
          "GACTCIV0004",
          "GACTCIV0005",
          "GACTCMR0001",
          "GACTCMR0002",
          "GACTCMR0003",
          "GACTCMR0004",
          "GACTCMR0005",
          "GACTCMR0006",
          "GACTCMR0007",
          "GACTCOD0001",
          "GACTCOD0002",
          "GACTCOD0003",
          "GACTCOD0004",
          "GACTCOD0005",
          "GACTCOD0006",
          "GACTCOG0001",
          "GACTCOG0002",
          "GACTCOG0003",
          "GACTCOG0004",
          "GACTCOL0001",
          "GACTCOL0002",
          "GACTCOL0003",
          "GACTCOL0004",
          "GACTCOL0005",
          "GACTCOL0006",
          "GACTCOL0007",
          "GACTCOL0008",
          "GACTCOL0009",
          "GACTCOL0010",
          "GACTCOL0011",
          "GACTCOL0012",
          "GACTCOL0013",
          "GACTCOL0014",
          "GACTCOL0015",
          "GACTCOL0016",
          "GACTCOL0017",
          "GACTCOL0018",
          "GACTCOL0019",
          "GACTCOL0020",
          "GACTCOL0021",
          "GACTCOL0022",
          "GACTCRI0001",
          "GACTCRI0002",
          "GACTCRI0003",
          "GACTCUB0001",
          "GACTCUB0002",
          "GACTCUB0003",
          "GACTCUB0004",
          "GACTCUB0005",
          "GACTCYP0001",
          "GACTCYP0002",
          "GACTCZE0001",
          "GACTCZE0002",
          "GACTCZE0003",
          "GACTCZE0004",
          "GACTCZE0005",
          "GACTCZE0006",
          "GACTDEU0001",
          "GACTDEU0002",
          "GACTDEU0003",
          "GACTDEU0004",
          "GACTDEU0005",
          "GACTDEU0006",
          "GACTDEU0007",
          "GACTDEU0008",
          "GACTDEU0008",
          "GACTDEU0009",
          "GACTDEU0010",
          "GACTDEU0011",
          "GACTDEU0012",
          "GACTDEU0013",
          "GACTDEU0014",
          "GACTDEU0015",
          "GACTDEU0016",
          "GACTDEU0017",
          "GACTDEU0018",
          "GACTDEU0019",
          "GACTDEU0020",
          "GACTDEU0021",
          "GACTDEU0022",
          "GACTDEU0023",
          "GACTDEU0024",
          "GACTDEU0025",
          "GACTDEU0026",
          "GACTDEU0027",
          "GACTDEU0028",
          "GACTDEU0029",
          "GACTDEU0030",
          "GACTDEU0031",
          "GACTDEU0032",
          "GACTDEU0033",
          "GACTDEU0034",
          "GACTDEU0035",
          "GACTDEU0036",
          "GACTDEU0037",
          "GACTDEU0038",
          "GACTDEU0039",
          "GACTDEU0040",
          "GACTDEU0041",
          "GACTDEU0042",
          "GACTDEU0043",
          "GACTDEU0044",
          "GACTDEU0045",
          "GACTDEU0046",
          "GACTDEU0047",
          "GACTDEU0048",
          "GACTDEU0049",
          "GACTDEU0050",
          "GACTDEU0051",
          "GACTDJI0001",
          "GACTDNK0001",
          "GACTDOM0001",
          "GACTDOM0002",
          "GACTDOM0003",
          "GACTDOM0004",
          "GACTDOM0005",
          "GACTDOM0006",
          "GACTDOM0007",
          "GACTDZA0001",
          "GACTDZA0002",
          "GACTDZA0003",
          "GACTDZA0004",
          "GACTDZA0005",
          "GACTDZA0006",
          "GACTDZA0007",
          "GACTDZA0008",
          "GACTDZA0009",
          "GACTDZA0010",
          "GACTDZA0011",
          "GACTDZA0012",
          "GACTDZA0013",
          "GACTDZA0014",
          "GACTDZA0015",
          "GACTDZA0016",
          "GACTDZA0017",
          "GACTDZA0018",
          "GACTECU0001",
          "GACTECU0002",
          "GACTECU0003",
          "GACTECU0004",
          "GACTECU0005",
          "GACTEGY0001",
          "GACTEGY0002",
          "GACTEGY0003",
          "GACTEGY0004",
          "GACTEGY0005",
          "GACTEGY0006",
          "GACTEGY0007",
          "GACTEGY0008",
          "GACTEGY0009",
          "GACTEGY0010",
          "GACTEGY0011",
          "GACTEGY0012",
          "GACTEGY0013",
          "GACTEGY0014",
          "GACTEGY0015",
          "GACTEGY0016",
          "GACTEGY0017",
          "GACTEGY0018",
          "GACTEGY0019",
          "GACTEGY0020",
          "GACTEGY0021",
          "GACTEGY0022",
          "GACTEGY0023",
          "GACTEGY0024",
          "GACTERI0001",
          "GACTERI0002",
          "GACTESP0001",
          "GACTESP0002",
          "GACTESP0003",
          "GACTESP0004",
          "GACTESP0005",
          "GACTESP0006",
          "GACTESP0007",
          "GACTESP0008",
          "GACTESP0009",
          "GACTESP0010",
          "GACTESP0011",
          "GACTESP0012",
          "GACTESP0013",
          "GACTESP0014",
          "GACTESP0015",
          "GACTESP0016",
          "GACTESP0017",
          "GACTESP0018",
          "GACTESP0019",
          "GACTESP0020",
          "GACTESP0021",
          "GACTESP0022",
          "GACTESP0023",
          "GACTESP0024",
          "GACTESP0025",
          "GACTESP0026",
          "GACTESP0027",
          "GACTESP0028",
          "GACTESP0029",
          "GACTESP0030",
          "GACTESP0031",
          "GACTESP0032",
          "GACTESP0033",
          "GACTESP0034",
          "GACTESP0035",
          "GACTESP0036",
          "GACTESP0037",
          "GACTESP0038",
          "GACTESP0039",
          "GACTESP0040",
          "GACTESP0041",
          "GACTESP0042",
          "GACTESP0043",
          "GACTESP0044",
          "GACTESP0045",
          "GACTESP0046",
          "GACTESP0047",
          "GACTESP0048",
          "GACTEST0001",
          "GACTETH0001",
          "GACTETH0002",
          "GACTETH0003",
          "GACTETH0004",
          "GACTETH0005",
          "GACTETH0006",
          "GACTETH0007",
          "GACTFIN0001",
          "GACTFIN0002",
          "GACTFIN0003",
          "GACTFJI0001",
          "GACTFRA0001",
          "GACTFRA0002",
          "GACTFRA0003",
          "GACTFRA0004",
          "GACTFRA0005",
          "GACTFRA0005",
          "GACTFRA0006",
          "GACTFRA0007",
          "GACTFRA0008",
          "GACTFRA0009",
          "GACTFRA0010",
          "GACTFRA0011",
          "GACTFRA0012",
          "GACTFRA0013",
          "GACTFRA0014",
          "GACTFRA0015",
          "GACTFRA0016",
          "GACTFRA0017",
          "GACTFRA0018",
          "GACTFRA0019",
          "GACTFRA0020",
          "GACTFRA0021",
          "GACTFRA0022",
          "GACTFRA0023",
          "GACTFRA0024",
          "GACTFRA0025",
          "GACTFRA0026",
          "GACTFRA0027",
          "GACTFRA0028",
          "GACTFRA0029",
          "GACTFRA0030",
          "GACTFRA0031",
          "GACTFRA0032",
          "GACTFRA0033",
          "GACTFRA0034",
          "GACTFRA0035",
          "GACTFRA0036",
          "GACTFRA0037",
          "GACTFRA0038",
          "GACTFRA0039",
          "GACTFRA0040",
          "GACTFRA0041",
          "GACTFRA0042",
          "GACTFRA0043",
          "GACTFRA0044",
          "GACTFRA0045",
          "GACTFRA0046",
          "GACTGAB0001",
          "GACTGAB0002",
          "GACTGAB0003",
          "GACTGBR0001",
          "GACTGBR0002",
          "GACTGBR0003",
          "GACTGBR0004",
          "GACTGBR0005",
          "GACTGBR0006",
          "GACTGBR0007",
          "GACTGBR0008",
          "GACTGBR0009",
          "GACTGBR0010",
          "GACTGBR0011",
          "GACTGBR0012",
          "GACTGBR0013",
          "GACTGBR0014",
          "GACTGBR0015",
          "GACTGBR0016",
          "GACTGBR0017",
          "GACTGBR0018",
          "GACTGEO0001",
          "GACTGEO0002",
          "GACTGEO0003",
          "GACTGEO0004",
          "GACTGHA0001",
          "GACTGHA0002",
          "GACTGHA0003",
          "GACTGHA0004",
          "GACTGHA0005",
          "GACTGHA0006",
          "GACTGHA0007",
          "GACTGIN0001",
          "GACTGIN0002",
          "GACTGIN0003",
          "GACTGLP0001",
          "GACTGRC0001",
          "GACTGRC0002",
          "GACTGRC0003",
          "GACTGRC0004",
          "GACTGRC0005",
          "GACTGRC0006",
          "GACTGRC0007",
          "GACTGTM0001",
          "GACTGTM0002",
          "GACTGTM0003",
          "GACTGTM0004",
          "GACTGTM0005",
          "GACTGUF0001",
          "GACTHND0001",
          "GACTHND0002",
          "GACTHND0003",
          "GACTHRV0001",
          "GACTHRV0002",
          "GACTHRV0003",
          "GACTHRV0004",
          "GACTHRV0005",
          "GACTHTI0001",
          "GACTHUN0001",
          "GACTHUN0002",
          "GACTHUN0003",
          "GACTHUN0004",
          "GACTHUN0005",
          "GACTIDN0001",
          "GACTIDN0002",
          "GACTIDN0003",
          "GACTIDN0004",
          "GACTIDN0005",
          "GACTIDN0006",
          "GACTIDN0007",
          "GACTIDN0008",
          "GACTIDN0009",
          "GACTIDN0010",
          "GACTIDN0011",
          "GACTIDN0011",
          "GACTIDN0012",
          "GACTIDN0013",
          "GACTIDN0014",
          "GACTIDN0015",
          "GACTIDN0016",
          "GACTIDN0017",
          "GACTIDN0018",
          "GACTIDN0019",
          "GACTIDN0020",
          "GACTIDN0021",
          "GACTIDN0022",
          "GACTIDN0023",
          "GACTIDN0024",
          "GACTIDN0025",
          "GACTIDN0026",
          "GACTIDN0027",
          "GACTIDN0028",
          "GACTIDN0029",
          "GACTIDN0030",
          "GACTIDN0031",
          "GACTIDN0032",
          "GACTIDN0033",
          "GACTIDN0034",
          "GACTIDN0035",
          "GACTIND0001",
          "GACTIND0002",
          "GACTIND0003",
          "GACTIND0004",
          "GACTIND0005",
          "GACTIND0006",
          "GACTIND0007",
          "GACTIND0008",
          "GACTIND0009",
          "GACTIND0010",
          "GACTIND0011",
          "GACTIND0012",
          "GACTIND0013",
          "GACTIND0014",
          "GACTIND0015",
          "GACTIND0016",
          "GACTIND0017",
          "GACTIND0018",
          "GACTIND0019",
          "GACTIND0020",
          "GACTIND0021",
          "GACTIND0022",
          "GACTIND0023",
          "GACTIND0024",
          "GACTIND0025",
          "GACTIND0026",
          "GACTIND0027",
          "GACTIND0028",
          "GACTIND0029",
          "GACTIND0030",
          "GACTIND0031",
          "GACTIND0032",
          "GACTIND0033",
          "GACTIND0034",
          "GACTIND0035",
          "GACTIND0036",
          "GACTIND0037",
          "GACTIND0038",
          "GACTIND0039",
          "GACTIND0040",
          "GACTIND0041",
          "GACTIND0042",
          "GACTIND0043",
          "GACTIND0044",
          "GACTIND0045",
          "GACTIND0046",
          "GACTIND0047",
          "GACTIND0048",
          "GACTIND0049",
          "GACTIND0050",
          "GACTIND0051",
          "GACTIND0052",
          "GACTIND0053",
          "GACTIND0054",
          "GACTIND0055",
          "GACTIND0056",
          "GACTIND0057",
          "GACTIND0058",
          "GACTIND0059",
          "GACTIND0060",
          "GACTIND0061",
          "GACTIND0062",
          "GACTIND0063",
          "GACTIND0064",
          "GACTIND0065",
          "GACTIND0066",
          "GACTIND0067",
          "GACTIND0068",
          "GACTIND0069",
          "GACTIND0070",
          "GACTIND0071",
          "GACTIND0072",
          "GACTIND0073",
          "GACTIND0074",
          "GACTIND0075",
          "GACTIND0076",
          "GACTIND0077",
          "GACTIND0078",
          "GACTIND0079",
          "GACTIND0080",
          "GACTIND0081",
          "GACTIND0082",
          "GACTIND0083",
          "GACTIND0084",
          "GACTIND0085",
          "GACTIND0086",
          "GACTIND0087",
          "GACTIND0088",
          "GACTIND0089",
          "GACTIND0090",
          "GACTIND0091",
          "GACTIND0092",
          "GACTIND0093",
          "GACTIND0094",
          "GACTIND0095",
          "GACTIND0096",
          "GACTIND0097",
          "GACTIND0098",
          "GACTIND0099",
          "GACTIND0100",
          "GACTIND0101",
          "GACTIND0102",
          "GACTIND0103",
          "GACTIND0104",
          "GACTIND0105",
          "GACTIND0106",
          "GACTIND0107",
          "GACTIND0108",
          "GACTIND0109",
          "GACTIND0110",
          "GACTIND0111",
          "GACTIND0112",
          "GACTIND0113",
          "GACTIND0114",
          "GACTIND0115",
          "GACTIND0116",
          "GACTIND0117",
          "GACTIND0118",
          "GACTIND0119",
          "GACTIND0120",
          "GACTIND0121",
          "GACTIND0122",
          "GACTIND0123",
          "GACTIND0124",
          "GACTIND0125",
          "GACTIND0126",
          "GACTIND0127",
          "GACTIND0128",
          "GACTIND0129",
          "GACTIND0130",
          "GACTIND0131",
          "GACTIND0132",
          "GACTIND0133",
          "GACTIND0134",
          "GACTIND0135",
          "GACTIND0136",
          "GACTIND0137",
          "GACTIND0138",
          "GACTIND0139",
          "GACTIND0140",
          "GACTIND0141",
          "GACTIND0142",
          "GACTIND0143",
          "GACTIND0144",
          "GACTIND0145",
          "GACTIND0146",
          "GACTIND0147",
          "GACTIND0148",
          "GACTIND0149",
          "GACTIND0150",
          "GACTIND0151",
          "GACTIND0152",
          "GACTIND0153",
          "GACTIND0154",
          "GACTIND0155",
          "GACTIND0156",
          "GACTIND0157",
          "GACTIND0158",
          "GACTIND0159",
          "GACTIND0160",
          "GACTIND0161",
          "GACTIND0162",
          "GACTIND0163",
          "GACTIND0164",
          "GACTIND0165",
          "GACTIND0166",
          "GACTIND0167",
          "GACTIND0168",
          "GACTIND0169",
          "GACTIND0170",
          "GACTIND0171",
          "GACTIND0172",
          "GACTIND0173",
          "GACTIND0174",
          "GACTIND0175",
          "GACTIND0176",
          "GACTIND0177",
          "GACTIND0178",
          "GACTIND0179",
          "GACTIND0180",
          "GACTIND0181",
          "GACTIND0182",
          "GACTIND0183",
          "GACTIND0184",
          "GACTIND0185",
          "GACTIND0186",
          "GACTIND0187",
          "GACTIND0188",
          "GACTIND0189",
          "GACTIND0190",
          "GACTIND0191",
          "GACTIND0192",
          "GACTIND0193",
          "GACTIND0194",
          "GACTIND0195",
          "GACTIND0196",
          "GACTIND0197",
          "GACTIND0198",
          "GACTIND0199",
          "GACTIND0200",
          "GACTIND0201",
          "GACTIND0202",
          "GACTIND0203",
          "GACTIND0204",
          "GACTIND0205",
          "GACTIND0206",
          "GACTIND0207",
          "GACTIND0208",
          "GACTIND0209",
          "GACTIND0210",
          "GACTIND0211",
          "GACTIND0212",
          "GACTIND0213",
          "GACTIND0214",
          "GACTIND0215",
          "GACTIND0216",
          "GACTIND0217",
          "GACTIND0218",
          "GACTIND0219",
          "GACTIND0220",
          "GACTIND0221",
          "GACTIND0222",
          "GACTIND0223",
          "GACTIND0224",
          "GACTIND0225",
          "GACTIND0226",
          "GACTIND0227",
          "GACTIND0228",
          "GACTIND0229",
          "GACTIND0230",
          "GACTIND0231",
          "GACTIND0232",
          "GACTIND0233",
          "GACTIND0234",
          "GACTIND0235",
          "GACTIND0236",
          "GACTIND0237",
          "GACTIND0238",
          "GACTIND0239",
          "GACTIND0240",
          "GACTIND0241",
          "GACTIND0242",
          "GACTIND0243",
          "GACTIND0244",
          "GACTIND0245",
          "GACTIND0246",
          "GACTIND0247",
          "GACTIND0248",
          "GACTIND0249",
          "GACTIND0250",
          "GACTIND0251",
          "GACTIND0252",
          "GACTIND0253",
          "GACTIND0254",
          "GACTIND0255",
          "GACTIND0256",
          "GACTIRL0001",
          "GACTIRL0002",
          "GACTIRL0003",
          "GACTIRL0004",
          "GACTIRL0005",
          "GACTIRL0006",
          "GACTIRN0001",
          "GACTIRN0002",
          "GACTIRN0003",
          "GACTIRN0004",
          "GACTIRN0005",
          "GACTIRN0006",
          "GACTIRN0007",
          "GACTIRN0008",
          "GACTIRN0009",
          "GACTIRN0010",
          "GACTIRN0011",
          "GACTIRN0012",
          "GACTIRN0013",
          "GACTIRN0014",
          "GACTIRN0015",
          "GACTIRN0016",
          "GACTIRN0017",
          "GACTIRN0018",
          "GACTIRN0019",
          "GACTIRN0020",
          "GACTIRN0021",
          "GACTIRN0022",
          "GACTIRN0023",
          "GACTIRN0024",
          "GACTIRN0025",
          "GACTIRN0026",
          "GACTIRN0027",
          "GACTIRN0028",
          "GACTIRN0029",
          "GACTIRN0030",
          "GACTIRN0031",
          "GACTIRN0032",
          "GACTIRN0033",
          "GACTIRN0034",
          "GACTIRN0035",
          "GACTIRN0036",
          "GACTIRN0037",
          "GACTIRN0038",
          "GACTIRN0039",
          "GACTIRN0040",
          "GACTIRN0041",
          "GACTIRN0042",
          "GACTIRN0043",
          "GACTIRN0044",
          "GACTIRN0045",
          "GACTIRN0046",
          "GACTIRN0047",
          "GACTIRN0048",
          "GACTIRN0049",
          "GACTIRN0050",
          "GACTIRN0051",
          "GACTIRN0052",
          "GACTIRN0053",
          "GACTIRN0054",
          "GACTIRN0055",
          "GACTIRN0056",
          "GACTIRN0057",
          "GACTIRN0058",
          "GACTIRN0059",
          "GACTIRN0060",
          "GACTIRN0061",
          "GACTIRN0062",
          "GACTIRN0063",
          "GACTIRN0064",
          "GACTIRN0065",
          "GACTIRN0066",
          "GACTIRN0067",
          "GACTIRN0068",
          "GACTIRN0069",
          "GACTIRN0070",
          "GACTIRN0071",
          "GACTIRQ0001",
          "GACTIRQ0002",
          "GACTIRQ0003",
          "GACTIRQ0004",
          "GACTIRQ0005",
          "GACTIRQ0006",
          "GACTIRQ0007",
          "GACTIRQ0008",
          "GACTIRQ0009",
          "GACTIRQ0010",
          "GACTIRQ0011",
          "GACTIRQ0012",
          "GACTIRQ0013",
          "GACTIRQ0014",
          "GACTIRQ0015",
          "GACTIRQ0016",
          "GACTISL0001",
          "GACTISR0001",
          "GACTISR0002",
          "GACTISR0003",
          "GACTITA0001",
          "GACTITA0002",
          "GACTITA0003",
          "GACTITA0004",
          "GACTITA0005",
          "GACTITA0006",
          "GACTITA0007",
          "GACTITA0008",
          "GACTITA0009",
          "GACTITA0010",
          "GACTITA0011",
          "GACTITA0012",
          "GACTITA0013",
          "GACTITA0014",
          "GACTITA0015",
          "GACTITA0016",
          "GACTITA0017",
          "GACTITA0018",
          "GACTITA0019",
          "GACTITA0020",
          "GACTITA0020",
          "GACTITA0021",
          "GACTITA0022",
          "GACTITA0023",
          "GACTITA0024",
          "GACTITA0025",
          "GACTITA0026",
          "GACTITA0027",
          "GACTITA0028",
          "GACTITA0029",
          "GACTITA0030",
          "GACTITA0031",
          "GACTITA0032",
          "GACTITA0033",
          "GACTITA0034",
          "GACTITA0035",
          "GACTITA0036",
          "GACTITA0037",
          "GACTITA0038",
          "GACTITA0039",
          "GACTITA0040",
          "GACTITA0041",
          "GACTITA0042",
          "GACTITA0043",
          "GACTITA0044",
          "GACTITA0045",
          "GACTITA0046",
          "GACTITA0047",
          "GACTITA0048",
          "GACTITA0049",
          "GACTITA0050",
          "GACTITA0051",
          "GACTITA0052",
          "GACTITA0053",
          "GACTITA0054",
          "GACTITA0055",
          "GACTITA0056",
          "GACTITA0057",
          "GACTITA0058",
          "GACTITA0059",
          "GACTITA0060",
          "GACTITA0061",
          "GACTITA0062",
          "GACTJAM0001",
          "GACTJAM0002",
          "GACTJOR0001",
          "GACTJOR0002",
          "GACTJOR0003",
          "GACTJOR0004",
          "GACTJOR0005",
          "GACTJOR0006",
          "GACTJPN0001",
          "GACTJPN0002",
          "GACTJPN0003",
          "GACTJPN0004",
          "GACTJPN0005",
          "GACTJPN0006",
          "GACTJPN0007",
          "GACTJPN0008",
          "GACTJPN0009",
          "GACTJPN0010",
          "GACTJPN0011",
          "GACTJPN0012",
          "GACTJPN0013",
          "GACTJPN0014",
          "GACTJPN0015",
          "GACTJPN0016",
          "GACTJPN0017",
          "GACTJPN0018",
          "GACTJPN0019",
          "GACTJPN0020",
          "GACTJPN0021",
          "GACTJPN0022",
          "GACTJPN0023",
          "GACTJPN0024",
          "GACTJPN0025",
          "GACTJPN0026",
          "GACTJPN0027",
          "GACTJPN0028",
          "GACTJPN0029",
          "GACTJPN0030",
          "GACTJPN0030",
          "GACTJPN0031",
          "GACTKAZ0001",
          "GACTKAZ0002",
          "GACTKAZ0003",
          "GACTKAZ0004",
          "GACTKAZ0005",
          "GACTKAZ0006",
          "GACTKAZ0007",
          "GACTKAZ0008",
          "GACTKAZ0009",
          "GACTKAZ0010",
          "GACTKEN0001",
          "GACTKEN0002",
          "GACTKEN0003",
          "GACTKEN0004",
          "GACTKEN0005",
          "GACTKEN0006",
          "GACTKEN0007",
          "GACTKEN0008",
          "GACTKEN0009",
          "GACTKEN0010",
          "GACTKGZ0001",
          "GACTKGZ0002",
          "GACTKGZ0003",
          "GACTKHM0001",
          "GACTKHM0002",
          "GACTKHM0003",
          "GACTKHM0004",
          "GACTKHM0005",
          "GACTKOR0001",
          "GACTKOR0002",
          "GACTKOR0003",
          "GACTKOR0004",
          "GACTKOR0005",
          "GACTKOR0006",
          "GACTKOR0007",
          "GACTKOR0008",
          "GACTKOR0009",
          "GACTKOR0010",
          "GACTKOR0011",
          "GACTKOR0012",
          "GACTKOR0013",
          "GACTKOR0014",
          "GACTKOR0015",
          "GACTKOR0016",
          "GACTKOR0017",
          "GACTKOR0018",
          "GACTKOR0019",
          "GACTKOR0020",
          "GACTKOR0021",
          "GACTKOR0022",
          "GACTKOR0023",
          "GACTKOR0024",
          "GACTKOR0025",
          "GACTKOR0026",
          "GACTKOR0027",
          "GACTKOR0028",
          "GACTKOR0029",
          "GACTKOR0030",
          "GACTKOR0031",
          "GACTKOR0032",
          "GACTKOR0033",
          "GACTKOR0034",
          "GACTKOR0035",
          "GACTKOR0036",
          "GACTKOR0037",
          "GACTKOR0038",
          "GACTKOR0039",
          "GACTKOR0040",
          "GACTKWT0001",
          "GACTKWT0002",
          "GACTLAO0001",
          "GACTLAO0002",
          "GACTLAO0003",
          "GACTLAO0004",
          "GACTLAO0005",
          "GACTLAO0006",
          "GACTLBN0001",
          "GACTLBN0002",
          "GACTLBN0003",
          "GACTLBR0001",
          "GACTLBY0001",
          "GACTLBY0002",
          "GACTLBY0003",
          "GACTLBY0004",
          "GACTLBY0005",
          "GACTLBY0006",
          "GACTLKA0001",
          "GACTLKA0002",
          "GACTLKA0003",
          "GACTLKA0004",
          "GACTLSO0001",
          "GACTLTU0001",
          "GACTLUX0001",
          "GACTLUX0002",
          "GACTLVA0001",
          "GACTMAC0001",
          "GACTMAR0001",
          "GACTMAR0002",
          "GACTMAR0003",
          "GACTMAR0004",
          "GACTMAR0005",
          "GACTMAR0006",
          "GACTMAR0007",
          "GACTMAR0008",
          "GACTMAR0009",
          "GACTMAR0010",
          "GACTMAR0011",
          "GACTMAR0012",
          "GACTMAR0013",
          "GACTMAR0014",
          "GACTMAR0015",
          "GACTMAR0016",
          "GACTMAR0017",
          "GACTMAR0018",
          "GACTMDA0001",
          "GACTMDG0001",
          "GACTMDG0002",
          "GACTMEX0001",
          "GACTMEX0002",
          "GACTMEX0003",
          "GACTMEX0004",
          "GACTMEX0005",
          "GACTMEX0006",
          "GACTMEX0007",
          "GACTMEX0008",
          "GACTMEX0009",
          "GACTMEX0010",
          "GACTMEX0011",
          "GACTMEX0012",
          "GACTMEX0013",
          "GACTMEX0014",
          "GACTMEX0015",
          "GACTMEX0016",
          "GACTMEX0017",
          "GACTMEX0018",
          "GACTMEX0019",
          "GACTMEX0020",
          "GACTMEX0021",
          "GACTMEX0022",
          "GACTMEX0023",
          "GACTMEX0024",
          "GACTMEX0025",
          "GACTMEX0026",
          "GACTMEX0027",
          "GACTMEX0028",
          "GACTMEX0029",
          "GACTMEX0030",
          "GACTMEX0031",
          "GACTMEX0032",
          "GACTMEX0033",
          "GACTMEX0034",
          "GACTMKD0001",
          "GACTMLI0001",
          "GACTMLI0002",
          "GACTMLI0003",
          "GACTMMR0001",
          "GACTMMR0002",
          "GACTMMR0003",
          "GACTMMR0004",
          "GACTMMR0005",
          "GACTMMR0006",
          "GACTMMR0007",
          "GACTMMR0008",
          "GACTMMR0009",
          "GACTMMR0010",
          "GACTMMR0011",
          "GACTMMR0012",
          "GACTMNG0001",
          "GACTMNG0002",
          "GACTMNG0003",
          "GACTMNG0004",
          "GACTMNG0005",
          "GACTMOZ0001",
          "GACTMOZ0002",
          "GACTMOZ0003",
          "GACTMOZ0004",
          "GACTMOZ0005",
          "GACTMOZ0006",
          "GACTMOZ0007",
          "GACTMOZ0008",
          "GACTMRT0001",
          "GACTMRT0002",
          "GACTMRT0003",
          "GACTMRT0004",
          "GACTMTQ0001",
          "GACTMWI0001",
          "GACTMWI0002",
          "GACTMYS0001",
          "GACTMYS0002",
          "GACTMYS0003",
          "GACTMYS0004",
          "GACTMYS0005",
          "GACTMYS0006",
          "GACTMYS0007",
          "GACTMYS0008",
          "GACTMYS0009",
          "GACTMYS0010",
          "GACTMYS0011",
          "GACTMYS0012",
          "GACTMYS0013",
          "GACTMYS0014",
          "GACTMYS0015",
          "GACTMYS0016",
          "GACTMYS0017",
          "GACTMYS0018",
          "GACTNAM0001",
          "GACTNAM0002",
          "GACTNCL0001",
          "GACTNER0001",
          "GACTNGA0001",
          "GACTNGA0002",
          "GACTNGA0003",
          "GACTNGA0004",
          "GACTNGA0005",
          "GACTNGA0006",
          "GACTNGA0007",
          "GACTNGA0008",
          "GACTNGA0009",
          "GACTNGA0010",
          "GACTNGA0011",
          "GACTNIC0001",
          "GACTNIC0002",
          "GACTNIC0003",
          "GACTNLD0001",
          "GACTNLD0002",
          "GACTNLD0003",
          "GACTNOR0001",
          "GACTNOR0002",
          "GACTNPL0001",
          "GACTNPL0002",
          "GACTNPL0003",
          "GACTNPL0004",
          "GACTNPL0005",
          "GACTNPL0006",
          "GACTNPL0007",
          "GACTNPL0008",
          "GACTNPL0009",
          "GACTNPL0010",
          "GACTNPL0011",
          "GACTNPL0012",
          "GACTNPL0013",
          "GACTNPL0014",
          "GACTNPL0015",
          "GACTNPL0016",
          "GACTNPL0017",
          "GACTNPL0018",
          "GACTNZL0001",
          "GACTOMN0001",
          "GACTOMN0002",
          "GACTPAK0001",
          "GACTPAK0002",
          "GACTPAK0003",
          "GACTPAK0004",
          "GACTPAK0005",
          "GACTPAK0006",
          "GACTPAK0007",
          "GACTPAK0008",
          "GACTPAK0009",
          "GACTPAK0010",
          "GACTPAK0011",
          "GACTPAK0012",
          "GACTPAK0013",
          "GACTPAK0014",
          "GACTPAK0015",
          "GACTPAK0016",
          "GACTPAK0017",
          "GACTPAK0018",
          "GACTPAK0019",
          "GACTPAK0020",
          "GACTPAK0021",
          "GACTPAK0022",
          "GACTPAK0023",
          "GACTPAK0024",
          "GACTPAK0025",
          "GACTPAK0026",
          "GACTPAK0027",
          "GACTPAK0028",
          "GACTPAK0029",
          "GACTPAN0001",
          "GACTPAN0002",
          "GACTPAN0003",
          "GACTPER0001",
          "GACTPER0002",
          "GACTPER0003",
          "GACTPER0004",
          "GACTPER0005",
          "GACTPER0006",
          "GACTPER0007",
          "GACTPER0008",
          "GACTPHL0001",
          "GACTPHL0002",
          "GACTPHL0003",
          "GACTPHL0004",
          "GACTPHL0005",
          "GACTPHL0006",
          "GACTPHL0007",
          "GACTPHL0008",
          "GACTPHL0009",
          "GACTPHL0010",
          "GACTPHL0011",
          "GACTPHL0012",
          "GACTPHL0013",
          "GACTPHL0014",
          "GACTPHL0015",
          "GACTPHL0016",
          "GACTPHL0017",
          "GACTPHL0018",
          "GACTPHL0019",
          "GACTPNG0001",
          "GACTPOL0001",
          "GACTPOL0002",
          "GACTPOL0003",
          "GACTPOL0004",
          "GACTPOL0005",
          "GACTPOL0006",
          "GACTPOL0007",
          "GACTPOL0008",
          "GACTPOL0009",
          "GACTPOL0010",
          "GACTPOL0011",
          "GACTPOL0012",
          "GACTPOL0013",
          "GACTPRI0001",
          "GACTPRI0002",
          "GACTPRK0001",
          "GACTPRK0002",
          "GACTPRT0001",
          "GACTPRT0002",
          "GACTPRT0003",
          "GACTPRT0004",
          "GACTPRT0005",
          "GACTPRT0006",
          "GACTPRT0007",
          "GACTPRT0008",
          "GACTPRT0009",
          "GACTPRY0001",
          "GACTPRY0002",
          "GACTPRY0003",
          "GACTQAT0001",
          "GACTQAT0002",
          "GACTQAT0003",
          "GACTREU0001",
          "GACTROU0001",
          "GACTROU0002",
          "GACTROU0003",
          "GACTROU0004",
          "GACTROU0005",
          "GACTROU0006",
          "GACTROU0007",
          "GACTROU0008",
          "GACTROU0009",
          "GACTRUS0001",
          "GACTRUS0002",
          "GACTRUS0003",
          "GACTRUS0004",
          "GACTRUS0005",
          "GACTRUS0006",
          "GACTRUS0007",
          "GACTRUS0008",
          "GACTRUS0009",
          "GACTRUS0010",
          "GACTRUS0011",
          "GACTRUS0012",
          "GACTRUS0013",
          "GACTRUS0014",
          "GACTRUS0015",
          "GACTRUS0016",
          "GACTRUS0017",
          "GACTRUS0018",
          "GACTRUS0019",
          "GACTRUS0020",
          "GACTRUS0021",
          "GACTRUS0022",
          "GACTRUS0023",
          "GACTRUS0024",
          "GACTRUS0025",
          "GACTRUS0026",
          "GACTRUS0027",
          "GACTRUS0028",
          "GACTRUS0029",
          "GACTRUS0030",
          "GACTRUS0031",
          "GACTRUS0032",
          "GACTRUS0033",
          "GACTRUS0034",
          "GACTRUS0035",
          "GACTRUS0036",
          "GACTRUS0037",
          "GACTRUS0038",
          "GACTRUS0039",
          "GACTRUS0040",
          "GACTRUS0041",
          "GACTRUS0042",
          "GACTRUS0043",
          "GACTRUS0044",
          "GACTRUS0045",
          "GACTRUS0046",
          "GACTRUS0047",
          "GACTRUS0048",
          "GACTRUS0049",
          "GACTRUS0050",
          "GACTRUS0051",
          "GACTRUS0052",
          "GACTRUS0053",
          "GACTRUS0054",
          "GACTRUS0055",
          "GACTRUS0056",
          "GACTRWA0001",
          "GACTSAU0001",
          "GACTSAU0002",
          "GACTSAU0003",
          "GACTSAU0004",
          "GACTSAU0005",
          "GACTSAU0006",
          "GACTSAU0007",
          "GACTSAU0008",
          "GACTSAU0009",
          "GACTSAU0010",
          "GACTSAU0011",
          "GACTSAU0012",
          "GACTSAU0013",
          "GACTSAU0014",
          "GACTSAU0015",
          "GACTSAU0016",
          "GACTSAU0017",
          "GACTSAU0018",
          "GACTSAU0019",
          "GACTSDN0001",
          "GACTSDN0002",
          "GACTSDN0003",
          "GACTSDN0004",
          "GACTSDN0005",
          "GACTSDN0006",
          "GACTSEN0001",
          "GACTSEN0002",
          "GACTSEN0003",
          "GACTSLE0001",
          "GACTSLV0001",
          "GACTSLV0002",
          "GACTSRB0001",
          "GACTSRB0002",
          "GACTSRB0003",
          "GACTSUR0001",
          "GACTSVK0001",
          "GACTSVK0002",
          "GACTSVK0003",
          "GACTSVK0004",
          "GACTSVN0001",
          "GACTSVN0002",
          "GACTSWE0001",
          "GACTSWE0002",
          "GACTSWZ0001",
          "GACTSYR0001",
          "GACTSYR0002",
          "GACTSYR0003",
          "GACTSYR0004",
          "GACTSYR0005",
          "GACTSYR0006",
          "GACTSYR0007",
          "GACTSYR0008",
          "GACTSYR0009",
          "GACTTCD0001",
          "GACTTCD0002",
          "GACTTGO0001",
          "GACTTGO0002",
          "GACTTGO0003",
          "GACTTGO0004",
          "GACTTHA0001",
          "GACTTHA0002",
          "GACTTHA0003",
          "GACTTHA0004",
          "GACTTHA0005",
          "GACTTHA0006",
          "GACTTHA0007",
          "GACTTHA0008",
          "GACTTHA0009",
          "GACTTHA0010",
          "GACTTHA0011",
          "GACTTJK0001",
          "GACTTKM0001",
          "GACTTKM0002",
          "GACTTKM0003",
          "GACTTKM0004",
          "GACTTTO0001",
          "GACTTUN0001",
          "GACTTUN0002",
          "GACTTUN0003",
          "GACTTUN0004",
          "GACTTUN0005",
          "GACTTUN0006",
          "GACTTUN0007",
          "GACTTUN0008",
          "GACTTUN0009",
          "GACTTUR0001",
          "GACTTUR0002",
          "GACTTUR0003",
          "GACTTUR0004",
          "GACTTUR0005",
          "GACTTUR0006",
          "GACTTUR0007",
          "GACTTUR0008",
          "GACTTUR0009",
          "GACTTUR0010",
          "GACTTUR0011",
          "GACTTUR0012",
          "GACTTUR0013",
          "GACTTUR0014",
          "GACTTUR0015",
          "GACTTUR0016",
          "GACTTUR0017",
          "GACTTUR0018",
          "GACTTUR0019",
          "GACTTUR0020",
          "GACTTUR0021",
          "GACTTUR0022",
          "GACTTUR0023",
          "GACTTUR0024",
          "GACTTUR0025",
          "GACTTUR0026",
          "GACTTUR0027",
          "GACTTUR0028",
          "GACTTUR0028",
          "GACTTUR0029",
          "GACTTUR0030",
          "GACTTUR0031",
          "GACTTUR0032",
          "GACTTUR0033",
          "GACTTUR0034",
          "GACTTUR0035",
          "GACTTUR0036",
          "GACTTUR0037",
          "GACTTUR0038",
          "GACTTUR0039",
          "GACTTUR0040",
          "GACTTUR0041",
          "GACTTUR0042",
          "GACTTUR0043",
          "GACTTUR0044",
          "GACTTUR0045",
          "GACTTUR0046",
          "GACTTUR0047",
          "GACTTUR0048",
          "GACTTUR0049",
          "GACTTUR0050",
          "GACTTUR0051",
          "GACTTUR0052",
          "GACTTUR0053",
          "GACTTUR0054",
          "GACTTUR0055",
          "GACTTUR0056",
          "GACTTUR0057",
          "GACTTUR0058",
          "GACTTUR0059",
          "GACTTUR0060",
          "GACTTUR0061",
          "GACTTUR0062",
          "GACTTUR0063",
          "GACTTUR0064",
          "GACTTUR0065",
          "GACTTUR0066",
          "GACTTUR0067",
          "GACTTUR0068",
          "GACTTWN0001",
          "GACTTWN0002",
          "GACTTWN0003",
          "GACTTWN0004",
          "GACTTWN0005",
          "GACTTWN0006",
          "GACTTZA0001",
          "GACTTZA0002",
          "GACTTZA0003",
          "GACTTZA0004",
          "GACTTZA0005",
          "GACTTZA0006",
          "GACTTZA0007",
          "GACTUGA0001",
          "GACTUGA0002",
          "GACTUGA0003",
          "GACTUGA0004",
          "GACTUKR0001",
          "GACTUKR0002",
          "GACTUKR0003",
          "GACTUKR0004",
          "GACTUKR0005",
          "GACTUKR0006",
          "GACTUKR0007",
          "GACTUKR0008",
          "GACTUKR0009",
          "GACTUKR0010",
          "GACTUKR0011",
          "GACTUKR0012",
          "GACTURY0001",
          "GACTURY0002",
          "GACTURY0003",
          "GACTUSA0001",
          "GACTUSA0002",
          "GACTUSA0003",
          "GACTUSA0004",
          "GACTUSA0005",
          "GACTUSA0006",
          "GACTUSA0007",
          "GACTUSA0008",
          "GACTUSA0009",
          "GACTUSA0010",
          "GACTUSA0011",
          "GACTUSA0012",
          "GACTUSA0013",
          "GACTUSA0014",
          "GACTUSA0015",
          "GACTUSA0016",
          "GACTUSA0017",
          "GACTUSA0018",
          "GACTUSA0019",
          "GACTUSA0020",
          "GACTUSA0021",
          "GACTUSA0022",
          "GACTUSA0023",
          "GACTUSA0024",
          "GACTUSA0025",
          "GACTUSA0026",
          "GACTUSA0027",
          "GACTUSA0028",
          "GACTUSA0029",
          "GACTUSA0030",
          "GACTUSA0031",
          "GACTUSA0032",
          "GACTUSA0033",
          "GACTUSA0034",
          "GACTUSA0035",
          "GACTUSA0036",
          "GACTUSA0037",
          "GACTUSA0038",
          "GACTUSA0039",
          "GACTUSA0040",
          "GACTUSA0041",
          "GACTUSA0042",
          "GACTUSA0043",
          "GACTUSA0044",
          "GACTUSA0045",
          "GACTUSA0046",
          "GACTUSA0047",
          "GACTUSA0048",
          "GACTUSA0049",
          "GACTUSA0050",
          "GACTUSA0051",
          "GACTUSA0052",
          "GACTUSA0053",
          "GACTUSA0054",
          "GACTUSA0055",
          "GACTUSA0056",
          "GACTUSA0057",
          "GACTUSA0058",
          "GACTUSA0059",
          "GACTUSA0060",
          "GACTUSA0061",
          "GACTUSA0062",
          "GACTUSA0063",
          "GACTUSA0064",
          "GACTUSA0065",
          "GACTUSA0066",
          "GACTUSA0067",
          "GACTUSA0068",
          "GACTUSA0069",
          "GACTUSA0070",
          "GACTUSA0071",
          "GACTUSA0072",
          "GACTUSA0073",
          "GACTUSA0074",
          "GACTUSA0075",
          "GACTUSA0076",
          "GACTUSA0077",
          "GACTUSA0078",
          "GACTUSA0079",
          "GACTUSA0080",
          "GACTUSA0081",
          "GACTUSA0082",
          "GACTUSA0083",
          "GACTUSA0084",
          "GACTUSA0085",
          "GACTUSA0086",
          "GACTUSA0087",
          "GACTUSA0088",
          "GACTUSA0089",
          "GACTUSA0090",
          "GACTUSA0091",
          "GACTUSA0092",
          "GACTUSA0093",
          "GACTUSA0094",
          "GACTUSA0095",
          "GACTUSA0096",
          "GACTUSA0097",
          "GACTUSA0098",
          "GACTUSA0099",
          "GACTUSA0100",
          "GACTUSA0101",
          "GACTUSA0102",
          "GACTUSA0103",
          "GACTUSA0104",
          "GACTUSA0105",
          "GACTUZB0001",
          "GACTUZB0002",
          "GACTUZB0003",
          "GACTUZB0004",
          "GACTUZB0005",
          "GACTUZB0006",
          "GACTUZB0007",
          "GACTUZB0008",
          "GACTUZB0009",
          "GACTVEN0001",
          "GACTVEN0002",
          "GACTVEN0003",
          "GACTVEN0004",
          "GACTVEN0005",
          "GACTVEN0006",
          "GACTVEN0007",
          "GACTVEN0008",
          "GACTVEN0009",
          "GACTVEN0010",
          "GACTVEN0011",
          "GACTVNM0001",
          "GACTVNM0002",
          "GACTVNM0003",
          "GACTVNM0004",
          "GACTVNM0005",
          "GACTVNM0006",
          "GACTVNM0007",
          "GACTVNM0008",
          "GACTVNM0009",
          "GACTVNM0010",
          "GACTVNM0011",
          "GACTVNM0012",
          "GACTVNM0012",
          "GACTVNM0013",
          "GACTVNM0014",
          "GACTVNM0015",
          "GACTVNM0016",
          "GACTVNM0017",
          "GACTVNM0018",
          "GACTVNM0019",
          "GACTVNM0020",
          "GACTVNM0021",
          "GACTVNM0022",
          "GACTVNM0023",
          "GACTVNM0024",
          "GACTVNM0025",
          "GACTVNM0026",
          "GACTVNM0027",
          "GACTVNM0028",
          "GACTVNM0029",
          "GACTVNM0030",
          "GACTVNM0031",
          "GACTVNM0032",
          "GACTVNM0033",
          "GACTVNM0033",
          "GACTVNM0034",
          "GACTVNM0035",
          "GACTVNM0036",
          "GACTVNM0037",
          "GACTVNM0038",
          "GACTVNM0039",
          "GACTVNM0040",
          "GACTVNM0041",
          "GACTVNM0042",
          "GACTVNM0043",
          "GACTVNM0044",
          "GACTVNM0045",
          "GACTVNM0046",
          "GACTVNM0047",
          "GACTVNM0048",
          "GACTVNM0049",
          "GACTVNM0050",
          "GACTVNM0051",
          "GACTVNM0052",
          "GACTVNM0053",
          "GACTVNM0054",
          "GACTVNM0055",
          "GACTVNM0056",
          "GACTVNM0057",
          "GACTVNM0058",
          "GACTVNM0059",
          "GACTVNM0060",
          "GACTVNM0061",
          "GACTVNM0062",
          "GACTVNM0063",
          "GACTVNM0064",
          "GACTVNM0065",
          "GACTVNM0066",
          "GACTVNM0067",
          "GACTVNM0068",
          "GACTVNM0069",
          "GACTVNM0070",
          "GACTVNM0071",
          "GACTXKX0001",
          "GACTYEM0001",
          "GACTYEM0002",
          "GACTYEM0003",
          "GACTYEM0004",
          "GACTYEM0005",
          "GACTYEM0006",
          "GACTZAF0001",
          "GACTZAF0002",
          "GACTZAF0003",
          "GACTZAF0004",
          "GACTZAF0005",
          "GACTZAF0006",
          "GACTZAF0007",
          "GACTZAF0008",
          "GACTZAF0009",
          "GACTZAF0010",
          "GACTZAF0011",
          "GACTZAF0012",
          "GACTZAF0013",
          "GACTZAF0014",
          "GACTZAF0015",
          "GACTZAF0016",
          "GACTZAF0017",
          "GACTZAF0018",
          "GACTZAF0019",
          "GACTZAF0020",
          "GACTZMB0001",
          "GACTZMB0002",
          "GACTZMB0003",
          "GACTZMB0004",
          "GACTZMB0005",
          "GACTZMB0006",
          "GACTZWE0001",
          "GACTZWE0002",
          "GACTZWE0003",
          "GACTZWE0004",
          "GACTZWE0005",
          "GACTZWE0006"
         ],
         "lat": [
          35.9658,
          34.322144,
          -8.766173,
          -8.796392,
          -12.342644,
          -11.185243,
          -9.101295,
          -12.537825,
          41.83677,
          41.503079,
          41.549091,
          41.120103,
          24.003398,
          24.137441,
          24.998572,
          25.972745,
          25.00427,
          25.548753,
          25.552944,
          25.558872,
          24.315716,
          24.040157,
          25.157152,
          25.386639,
          25.975192,
          25.964045,
          25.296089,
          25.967124,
          24.291296,
          25.556404,
          25.002524,
          25.43386,
          24.327372,
          -36.982432,
          -32.862443,
          -37.683682,
          -28.467957,
          -37.038897,
          -36.99286,
          -31.549228,
          -36.938645,
          -38.896776,
          -33.387911,
          -32.739253,
          -31.482087,
          -24.490598,
          -46.789492,
          -31.444889,
          -34.151782,
          -45.803647,
          -34.378987,
          40.569855,
          39.855755,
          -34.502107,
          -34.831591,
          -32.147573,
          -29.311239,
          -32.211016,
          -34.476949,
          -12.481157,
          -30.724275,
          -14.979541,
          -34.45638,
          -34.509613,
          -34.195649,
          -38.224925,
          -23.792892,
          -41.331127,
          -32.204599,
          -27.41312,
          -34.470535,
          -32.055833,
          -37.821199,
          -27.388321,
          -27.416316,
          47.873176,
          47.908647,
          47.983793,
          46.737096,
          47.723208,
          47.921903,
          47.550979,
          47.552199,
          46.851283,
          47.213805,
          40.224409,
          41.16592,
          40.251212,
          -2.883556,
          51.245592,
          51.168149,
          50.600652,
          51.163852,
          50.576126,
          50.765227,
          51.152206,
          50.472411,
          6.37161,
          7.149135,
          7.143572,
          6.353237,
          12.437855,
          12.445571,
          12.355061,
          12.435023,
          25.046629,
          23.71286,
          22.279538,
          25.035495,
          23.611005,
          22.504972,
          23.934081,
          22.784672,
          23.625073,
          23.587847,
          22.515404,
          23.599461,
          23.576689,
          22.517834,
          23.568501,
          22.26509,
          22.307487,
          22.308584,
          22.312268,
          22.381623,
          22.441231,
          22.502645,
          22.503884,
          22.51778,
          22.53217,
          22.652466,
          23.568618,
          23.571925,
          23.578555,
          23.602161,
          23.609232,
          23.612783,
          23.666471,
          23.695611,
          23.770601,
          23.894575,
          24.127959,
          24.290893,
          43.235208,
          42.073597,
          43.281929,
          43.087727,
          26.220002,
          26.03186,
          44.116891,
          44.526342,
          53.39241,
          53.261694,
          53.731542,
          -19.014555,
          -16.647194,
          -21.247315,
          -17.936151,
          -17.568654,
          -18.951114,
          -17.724835,
          -17.399962,
          -19.00701,
          -19.513164,
          -7.477499,
          -21.978106,
          -19.53878,
          -19.809336,
          -20.294322,
          -25.458029,
          -2.65682,
          -20.780254,
          -13.895437,
          -10.845763,
          -4.321762,
          -7.631111,
          -5.203661,
          -4.525562,
          -6.953261,
          -3.090327,
          -7.333684,
          -1.215453,
          -20.900704,
          -23.431022,
          -22.521633,
          -5.042011,
          -3.667224,
          -20.31263,
          -22.508931,
          -19.682542,
          -24.518867,
          -20.473665,
          -24.708727,
          -10.518039,
          -17.010255,
          -21.194785,
          -7.128394,
          -19.627181,
          -9.762307,
          -31.585375,
          -14.197803,
          -23.826511,
          -23.272361,
          -29.925521,
          -19.475578,
          -12.960167,
          -21.18078,
          -19.607266,
          -21.941689,
          -15.789679,
          -23.988499,
          -16.680168,
          -7.529795,
          -20.189254,
          -23.496389,
          -22.889141,
          -12.720233,
          -20.729127,
          -24.669459,
          -26.81867,
          -15.570003,
          -5.072994,
          -23.442724,
          -10.415826,
          -20.261801,
          -15.333379,
          -21.912475,
          -19.00333,
          -17.258058,
          -20.764215,
          -10.82468,
          -14.644156,
          -31.513208,
          -0.981148,
          -25.192401,
          -23.629579,
          -15.586387,
          -3.686432,
          -23.593912,
          -27.359219,
          -6.433062,
          -22.859648,
          -23.848375,
          -28.211548,
          -26.879224,
          -3.653183,
          -8.796953,
          -7.87415,
          -2.636728,
          -22.915294,
          -22.488653,
          -19.582194,
          -3.148527,
          13.287233,
          5.012333,
          26.872676,
          26.816862,
          26.821865,
          -24.690323,
          46.030177,
          43.493688,
          46.744581,
          43.103861,
          45.768479,
          44.054274,
          53.580487,
          49.143998,
          44.168779,
          45.239364,
          51.060709,
          49.158286,
          45.339711,
          43.223614,
          48.18713,
          43.881616,
          43.243214,
          47.414148,
          47.033567,
          46.91631,
          47.521397,
          46.655283,
          47.185189,
          -33.15077,
          -36.978684,
          -23.096319,
          -33.380072,
          -23.780668,
          -36.744254,
          -34.866335,
          -33.596748,
          -32.790183,
          -32.755472,
          -41.53398,
          -33.644601,
          -33.633667,
          31.229955,
          26.720854,
          31.137582,
          26.615974,
          30.687769,
          26.667159,
          30.627842,
          30.744456,
          30.844943,
          32.189163,
          29.508298,
          27.859691,
          22.709022,
          29.33424,
          35.614648,
          30.449154,
          27.40206,
          30.850812,
          30.788421,
          24.268659,
          22.372601,
          35.469211,
          27.834027,
          29.587404,
          25.636225,
          22.659126,
          34.723693,
          31.097962,
          28.630062,
          24.174723,
          34.536334,
          25.118023,
          34.474894,
          25.07279,
          32.405777,
          31.521269,
          32.16752,
          30.189608,
          25.45623,
          24.206132,
          32.615007,
          26.169977,
          42.541113,
          28.216826,
          26.68809,
          25.171664,
          24.862777,
          30.506997,
          27.673947,
          35.303294,
          34.620156,
          23.126318,
          24.628418,
          34.655986,
          35.010213,
          27.172797,
          26.546973,
          32.308958,
          33.97101,
          27.472125,
          23.765311,
          24.522016,
          23.743694,
          27.759302,
          28.492576,
          31.355912,
          32.923638,
          31.00661,
          31.993157,
          30.010728,
          33.417669,
          32.695577,
          31.748599,
          22.979917,
          29.907604,
          28.696463,
          31.78915,
          31.479261,
          27.361589,
          31.76786,
          29.931804,
          29.48981,
          32.004975,
          21.331892,
          32.31313,
          22.215127,
          28.833796,
          33.415332,
          33.596743,
          29.50057,
          29.605146,
          28.301628,
          21.690076,
          32.317452,
          28.161762,
          32.17243,
          33.544349,
          25.742952,
          29.917936,
          30.976399,
          29.810669,
          30.677735,
          30.273756,
          28.618066,
          30.60216,
          32.268448,
          39.326111,
          40.186742,
          35.193917,
          40.428409,
          36.434888,
          40.104303,
          39.597982,
          40.077829,
          40.586621,
          39.770898,
          43.175134,
          37.598772,
          38.814099,
          39.277372,
          40.141971,
          29.225931,
          39.875323,
          34.538699,
          41.185542,
          41.309641,
          34.610462,
          34.551467,
          41.879263,
          35.206282,
          39.750306,
          40.522194,
          40.783722,
          39.983322,
          39.818388,
          36.514118,
          38.181205,
          41.000726,
          40.36517,
          43.625411,
          29.666575,
          29.964419,
          45.3982,
          39.917975,
          42.872885,
          34.906028,
          43.532882,
          35.402755,
          37.406669,
          39.410181,
          38.245798,
          35.84369,
          38.391778,
          29.701756,
          41.022515,
          37.891743,
          38.861078,
          39.920995,
          39.763807,
          39.757913,
          37.452465,
          36.8812,
          40.765163,
          37.888766,
          37.049849,
          40.738194,
          45.117174,
          43.888187,
          37.366197,
          39.965989,
          41.572957,
          37.999837,
          39.951355,
          39.2829,
          40.580537,
          31.741627,
          31.145625,
          29.86611,
          30.86526,
          32.461163,
          29.626508,
          30.077065,
          31.178855,
          31.274959,
          30.669911,
          30.188967,
          36.087736,
          35.614132,
          29.274489,
          34.968495,
          37.474426,
          35.939397,
          32.213098,
          29.139568,
          28.189018,
          34.926747,
          30.648885,
          35.405277,
          31.063867,
          34.046654,
          28.968326,
          24.93015,
          26.340874,
          35.212561,
          25.574033,
          27.6541,
          28.699945,
          31.357426,
          34.474876,
          25.959229,
          37.304121,
          41.712344,
          34.372875,
          33.10019,
          33.119861,
          31.324863,
          26.750371,
          31.09595,
          30.935667,
          35.997904,
          29.827321,
          36.759877,
          31.041526,
          31.091001,
          35.659014,
          31.361481,
          26.816525,
          31.258403,
          23.053386,
          27.697284,
          23.035191,
          31.518947,
          27.963997,
          33.099215,
          29.311703,
          27.983793,
          30.723,
          36.167804,
          32.782547,
          31.110549,
          30.559768,
          30.593294,
          29.936659,
          29.875153,
          31.077059,
          22.730285,
          34.415816,
          25.844446,
          26.553552,
          28.720093,
          26.828354,
          28.224586,
          28.053748,
          27.733621,
          28.314626,
          31.116327,
          30.943903,
          31.04043,
          31.245944,
          31.241391,
          27.40032,
          28.222593,
          27.369127,
          28.700614,
          29.926156,
          27.408521,
          27.651948,
          28.180561,
          27.069471,
          35.628638,
          35.140431,
          29.200945,
          37.45393,
          37.525584,
          34.159013,
          31.971305,
          33.084004,
          19.235544,
          27.130987,
          39.805178,
          23.130214,
          22.742819,
          36.191336,
          35.021182,
          42.852202,
          39.355998,
          39.438069,
          34.741398,
          35.781709,
          37.486988,
          35.675366,
          30.125698,
          28.941969,
          29.169091,
          30.135733,
          40.654653,
          34.941037,
          30.148734,
          32.658557,
          30.581061,
          30.454715,
          33.515306,
          33.731217,
          29.679576,
          25.751919,
          29.164945,
          29.258095,
          29.360042,
          31.399474,
          27.903675,
          28.264659,
          27.466853,
          27.12226,
          28.559721,
          27.779886,
          29.160128,
          30.971,
          30.901781,
          30.80113,
          30.769852,
          30.716385,
          34.613629,
          29.245983,
          34.845198,
          30.816758,
          36.579702,
          35.369689,
          35.375184,
          30.910031,
          33.447978,
          33.801165,
          34.908525,
          30.524239,
          33.168695,
          31.015002,
          34.228719,
          33.320942,
          33.615414,
          34.260891,
          30.460705,
          28.797003,
          29.814858,
          27.767243,
          24.826029,
          22.934966,
          24.708562,
          23.243143,
          23.737718,
          23.037389,
          25.146517,
          23.489914,
          22.171185,
          23.515795,
          21.73673,
          26.349949,
          36.297887,
          37.462842,
          23.209965,
          23.642102,
          21.643025,
          25.055917,
          22.559853,
          22.618681,
          25.290296,
          25.277299,
          26.669196,
          27.520101,
          21.40626,
          23.326833,
          22.894675,
          26.249001,
          24.999031,
          18.937759,
          21.848321,
          33.410232,
          31.949452,
          41.277623,
          34.299281,
          34.121937,
          39.581583,
          34.656464,
          33.883746,
          35.433052,
          34.13172,
          40.81915,
          34.690729,
          41.314542,
          34.270982,
          34.141317,
          34.392625,
          41.358192,
          41.155895,
          33.731854,
          41.64003,
          38.640147,
          33.301953,
          33.995995,
          32.111387,
          34.118384,
          40.274056,
          34.743994,
          33.808131,
          34.46036,
          33.608367,
          29.878435,
          30.82264,
          44.755208,
          30.589074,
          44.442782,
          33.02174,
          29.749805,
          28.694278,
          32.643189,
          23.665299,
          24.864336,
          24.599296,
          24.755619,
          24.376133,
          24.14941,
          37.387134,
          29.843562,
          29.423656,
          28.152583,
          30.188933,
          31.867406,
          25.354875,
          24.998691,
          25.776757,
          29.187948,
          26.53952,
          28.43444,
          22.366812,
          22.701734,
          27.370378,
          27.123236,
          27.08021,
          41.763196,
          36.828282,
          23.087391,
          27.973142,
          25.383708,
          25.643099,
          26.603678,
          29.15327,
          28.03891,
          27.123991,
          28.728349,
          29.200018,
          25.039753,
          30.76563,
          24.665912,
          29.263564,
          32.037239,
          31.917594,
          29.893953,
          30.192933,
          29.591467,
          30.114916,
          29.742366,
          25.620055,
          23.899932,
          23.696975,
          26.571939,
          26.620871,
          29.338635,
          29.948981,
          30.521327,
          27.541595,
          21.906467,
          26.130707,
          27.621464,
          25.714919,
          30.767029,
          31.794833,
          30.317354,
          27.442529,
          27.553634,
          30.920549,
          25.60795,
          30.208389,
          22.026117,
          30.268679,
          25.229735,
          29.826554,
          26.587838,
          29.405916,
          32.136481,
          25.167761,
          32.752551,
          25.101186,
          25.068883,
          30.247099,
          31.135873,
          31.974124,
          30.390413,
          30.533073,
          23.400412,
          24.930353,
          31.755759,
          31.895544,
          29.497966,
          27.804029,
          26.52425,
          30.638993,
          49.254792,
          43.167148,
          45.832016,
          43.322174,
          41.804666,
          43.346185,
          47.470396,
          43.904444,
          43.021965,
          46.396969,
          42.453949,
          40.255925,
          41.607614,
          31.043354,
          32.048641,
          37.876862,
          37.405686,
          38.514533,
          36.594548,
          42.014954,
          34.621473,
          38.965969,
          41.449538,
          42.201655,
          36.581954,
          36.675572,
          36.55831,
          35.361077,
          37.686461,
          36.276841,
          37.473146,
          39.473451,
          41.224779,
          34.53229,
          36.123423,
          36.637222,
          43.911207,
          41.95505,
          36.311173,
          35.458594,
          35.369146,
          35.556184,
          36.428406,
          37.62541,
          37.441699,
          38.180728,
          35.132117,
          36.79428,
          46.746438,
          43.601215,
          37.479161,
          34.990091,
          40.170211,
          36.975854,
          45.449609,
          35.413928,
          37.48186,
          44.977031,
          37.761608,
          41.089067,
          36.085378,
          36.742069,
          37.011342,
          36.284059,
          37.18099,
          36.042816,
          41.534,
          38.870303,
          43.666657,
          37.123203,
          37.310234,
          46.099097,
          40.4205,
          35.717067,
          38.380705,
          36.682175,
          41.049244,
          36.700608,
          37.435624,
          36.486607,
          36.817228,
          29.500886,
          29.476399,
          43.749069,
          32.160389,
          38.993604,
          40.006837,
          27.596557,
          24.252709,
          23.144596,
          32.191549,
          25.95292,
          28.089658,
          26.395396,
          30.477089,
          30.196568,
          26.543535,
          41.346859,
          26.007226,
          28.762792,
          35.958318,
          32.833914,
          34.051482,
          33.142724,
          33.195209,
          32.723698,
          35.614787,
          32.942648,
          36.999014,
          26.350624,
          34.821067,
          34.93405,
          34.945884,
          33.721699,
          33.39987,
          43.971067,
          36.784484,
          35.071655,
          28.948186,
          28.727886,
          28.706505,
          31.031065,
          31.653674,
          38.16403,
          28.11912,
          31.529802,
          31.608497,
          31.001906,
          35.859504,
          29.432429,
          25.816004,
          31.787767,
          28.214784,
          42.790351,
          29.121747,
          23.338436,
          30.059726,
          29.829142,
          29.95032,
          28.930187,
          30.744038,
          29.437024,
          29.827,
          29.320039,
          28.381475,
          29.367677,
          29.164869,
          32.755862,
          37.67245,
          39.258536,
          39.642017,
          30.764937,
          34.324148,
          31.000114,
          26.026833,
          26.041899,
          26.781996,
          26.778494,
          25.051339,
          25.241489,
          41.851079,
          23.541681,
          24.3705,
          22.980084,
          27.699877,
          26.629925,
          27.996967,
          38.13732,
          38.19829,
          46.717812,
          35.406136,
          34.528787,
          35.869613,
          35.436589,
          32.781218,
          35.310532,
          34.002165,
          34.031397,
          32.612065,
          30.049354,
          31.36194,
          35.756476,
          30.870443,
          27.87578,
          28.271928,
          26.421551,
          39.404189,
          39.901668,
          39.412026,
          26.679686,
          31.385542,
          32.783066,
          31.479388,
          25.955913,
          28.702562,
          25.843353,
          35.314936,
          42.693097,
          38.078495,
          39.408386,
          29.147825,
          29.608914,
          35.085114,
          29.189207,
          46.163121,
          24.927159,
          24.933562,
          24.782393,
          27.51354,
          28.426844,
          29.478591,
          41.919383,
          41.361209,
          42.117366,
          31.541073,
          33.409405,
          21.692207,
          24.530418,
          23.302424,
          36.341062,
          44.42682,
          39.922611,
          30.064887,
          38.535267,
          34.808107,
          37.436024,
          31.720378,
          38.171953,
          41.355049,
          36.903221,
          29.476382,
          27.606108,
          28.316772,
          23.441647,
          34.200773,
          35.052998,
          36.819271,
          34.515155,
          36.735359,
          34.523527,
          35.071625,
          35.107555,
          33.897512,
          29.742323,
          30.394521,
          30.467873,
          29.924718,
          30.344727,
          29.233457,
          29.491246,
          30.065027,
          26.625866,
          31.318555,
          26.639871,
          29.757563,
          30.083042,
          23.231542,
          22.779399,
          42.71127,
          42.394365,
          35.480253,
          43.94182,
          31.482348,
          36.440268,
          31.508528,
          30.066305,
          19.236266,
          28.584661,
          36.035277,
          37.877287,
          37.813566,
          34.783814,
          35.445524,
          39.616455,
          31.133297,
          31.147839,
          30.954477,
          26.188783,
          26.348064,
          23.360661,
          34.977981,
          29.840774,
          26.398324,
          28.688992,
          26.285565,
          29.186592,
          29.993451,
          30.608139,
          34.523003,
          36.564079,
          24.73991,
          25.667275,
          26.016208,
          28.118723,
          31.477346,
          34.914015,
          37.910847,
          39.857458,
          30.464008,
          19.432906,
          22.087614,
          22.630449,
          22.721382,
          22.76761,
          22.776234,
          23.027126,
          23.497317,
          23.522652,
          23.553293,
          23.610516,
          23.613065,
          23.61707,
          23.72384,
          23.846513,
          24.077698,
          24.155044,
          24.385644,
          24.424933,
          24.430445,
          24.509663,
          24.699719,
          24.878887,
          24.917491,
          24.926504,
          24.950321,
          25.002982,
          25.017414,
          25.060344,
          25.142804,
          25.162076,
          25.200369,
          25.226861,
          25.302965,
          25.311374,
          25.381486,
          25.432067,
          25.444317,
          25.46611,
          25.546491,
          25.627998,
          25.651914,
          25.830373,
          25.990375,
          25.991361,
          26.00537,
          26.028649,
          26.225896,
          26.38564,
          26.517426,
          26.559367,
          26.631106,
          26.631495,
          26.667098,
          26.702555,
          26.779253,
          26.815175,
          26.935144,
          26.975562,
          26.995746,
          27.079534,
          27.089094,
          27.177759000000002,
          27.22467,
          27.247103,
          27.247494,
          27.24804,
          27.291538,
          27.441709,
          27.442586,
          27.508686,
          27.615635,
          27.718079,
          27.788235,
          27.867533,
          27.905414,
          27.906562,
          27.916612,
          28.034496,
          28.063851,
          28.115663,
          28.224683,
          28.315968,
          28.31838,
          28.705068,
          28.713724,
          28.751335,
          28.927152,
          28.983774,
          29.022452,
          29.148287,
          29.166019,
          29.27058,
          29.280189,
          29.30981,
          29.42452,
          29.450739,
          29.507256,
          29.571329,
          29.658309,
          29.772269,
          29.785576,
          29.790187,
          29.829184,
          29.832839,
          29.849,
          29.876641,
          29.902614,
          29.907778,
          30.028363,
          30.028649,
          30.101205,
          30.105859,
          30.158912,
          30.161792,
          30.184394,
          30.185307,
          30.2255,
          30.259396,
          30.49904,
          30.541525,
          30.673344,
          30.687685,
          30.854423,
          30.900637,
          30.996013,
          31.032179,
          31.11518,
          31.364147,
          31.434009,
          31.538192,
          31.619476,
          31.672101,
          31.753076,
          31.792222,
          31.966318,
          32.041549,
          32.148608,
          32.249912,
          32.260987,
          32.308293,
          32.336118,
          32.489249,
          32.621127,
          33.043499,
          33.722811,
          33.859079,
          33.935969,
          34.185857,
          34.305155,
          34.328401,
          34.430495,
          34.529458,
          34.550779,
          34.642115,
          34.694321,
          34.718119,
          34.730497,
          34.7807,
          34.839772,
          34.845357,
          34.922076,
          34.933108,
          35.292737,
          35.486572,
          35.553288,
          35.722736,
          35.789176,
          35.7916,
          35.800706,
          35.825138,
          35.990228,
          36.048616,
          36.131958,
          36.15685,
          36.157922,
          36.158967,
          36.269977,
          36.353909,
          36.378539,
          36.425814,
          36.484143,
          36.494599,
          36.538138,
          36.568687,
          36.569144,
          36.627719,
          36.65766,
          36.67268,
          36.699864,
          36.802443,
          36.879873,
          36.919179,
          37.066125,
          37.143449,
          37.147872,
          37.42412,
          37.491635,
          37.501467,
          37.56758,
          37.655569,
          37.699536,
          37.70428,
          37.817388,
          37.847316,
          38.183338,
          38.188661,
          38.205022,
          38.381779,
          38.400345,
          38.437292,
          38.517241,
          38.658046,
          38.852846,
          38.919965,
          39.102306,
          39.264532,
          39.287558,
          39.346143,
          39.3998,
          39.432886,
          39.523493,
          39.58648,
          39.592887,
          39.608139,
          39.649227,
          39.675371,
          39.684186,
          39.758571,
          39.820302,
          39.82467,
          39.847838,
          39.87356,
          39.876991,
          39.878892,
          39.88002,
          39.918537,
          39.943913,
          40.020436,
          40.081743,
          40.205757,
          40.555522,
          40.571564,
          40.656861,
          40.688916,
          40.785608,
          40.803676,
          41.000635,
          41.026048,
          41.036355,
          41.066472,
          41.072423,
          41.180052,
          41.214443,
          41.303089,
          41.349878,
          41.385167,
          41.455573,
          41.607062,
          41.76574,
          41.799296,
          41.846179,
          41.930666,
          42.085069,
          42.213847,
          42.441695,
          42.532029,
          42.712868,
          42.71942,
          42.723537,
          42.782392,
          42.864302,
          43.166789,
          43.278262,
          43.283359,
          43.331235,
          43.50748,
          43.649819,
          43.674282,
          43.688682,
          43.934118,
          44.130857,
          44.144806,
          44.1504,
          44.161184,
          44.69766,
          45.302985,
          45.417488,
          45.730145,
          46.232303,
          46.234846,
          46.923202,
          47.231882,
          47.785671,
          47.993982,
          48.084436,
          50.085187,
          50.563232,
          36.107189,
          30.651193,
          22.997396,
          24.701797,
          36.104038,
          46.751599,
          35.252325,
          18.323027,
          30.523748,
          36.701865,
          42.299593,
          19.976484,
          25.105401,
          25.942033,
          28.454703,
          29.150263,
          29.528028,
          30.659626,
          31.063663,
          31.346265,
          32.03693,
          32.489742,
          32.767547,
          32.781737,
          32.797731,
          32.800166,
          32.965601,
          33.257844,
          33.840928,
          33.843105,
          34.209397,
          34.255236,
          34.273258,
          34.690499,
          34.800653,
          34.934221,
          35.409143,
          35.449879,
          35.69702,
          36.129278,
          36.340191,
          36.5728,
          36.697809,
          37.247432,
          37.721969,
          38.428914,
          39.428415,
          39.864619,
          39.906813,
          40.63515,
          40.650648,
          41.104975,
          42.675743,
          44.133018,
          45.344373,
          47.22878,
          47.33226,
          22.527666,
          5.385615,
          4.74646,
          5.296145,
          4.745844,
          5.29854,
          4.064646,
          4.068957,
          9.764973,
          4.067512,
          3.772446,
          4.022882,
          4.011708,
          -5.50852,
          -2.256797,
          -5.555034,
          -5.538946,
          -5.546977,
          -9.942375,
          -4.593023,
          -4.243281,
          -4.289625,
          -4.164698,
          10.936768,
          10.407833,
          3.672945,
          5.101159,
          5.749404,
          4.308374,
          7.825763,
          6.549877,
          7.160759,
          10.583339,
          5.762585,
          5.856569,
          5.865521,
          3.562197,
          10.335029,
          9.47198,
          6.218763,
          11.032356,
          5.763334,
          5.755334,
          10.823286,
          6.56106,
          10.199791,
          9.864247,
          9.831578,
          19.998642,
          21.98745,
          22.155264,
          23.010941,
          22.799237,
          35.324213,
          34.722838,
          49.558913,
          49.895604,
          49.909865,
          49.215622,
          49.995919,
          50.489936,
          51.364109,
          51.62267,
          49.602402,
          52.17459,
          50.032201,
          51.215198,
          50.417212,
          51.599704,
          51.599521,
          51.270124,
          49.016926,
          50.520752,
          52.489222,
          52.1576,
          48.07753,
          49.213555,
          51.857225,
          52.374756,
          49.357624,
          51.698479,
          48.368982,
          49.808084,
          51.618256,
          52.305,
          49.974307,
          51.595161,
          48.227348,
          53.875099,
          52.353363,
          51.765425,
          53.138469,
          51.547365,
          51.512061,
          54.144146,
          48.774206,
          49.077417,
          51.759234,
          50.334928,
          47.791873,
          51.813271,
          48.333264,
          48.652954,
          49.954669,
          49.500143,
          48.884764,
          51.602063,
          51.35858,
          52.487446,
          50.584533,
          53.899492,
          51.014295,
          49.425386,
          11.12999,
          57.061731,
          18.506193,
          18.273172,
          18.354026,
          19.385411,
          17.915615,
          18.502503,
          18.404724,
          36.180377,
          36.762981,
          36.63025,
          36.815388,
          36.127206,
          35.350288,
          36.430427,
          34.797336,
          35.231931,
          36.334151,
          35.311588,
          35.460084,
          36.087138,
          31.85282,
          35.096288,
          35.877318,
          35.532649,
          35.597018,
          -2.178034,
          -0.948022,
          -2.725123,
          -1.654233,
          0.240886,
          29.797708,
          26.970113,
          30.727486,
          27.171458,
          26.253932,
          29.822687,
          29.919723,
          29.769909,
          29.926087,
          30.881107,
          29.805655,
          28.924156,
          28.411565,
          26.02644,
          23.489928,
          28.296926,
          30.724086,
          29.12715,
          31.142363,
          29.048454,
          29.128441,
          29.749108,
          28.301352,
          30.701351,
          15.512604,
          15.64169,
          38.3792,
          43.206524,
          37.276257,
          40.560984,
          27.750631,
          38.209846,
          39.474924,
          41.406692,
          42.874825,
          40.244961,
          42.882983,
          41.941676,
          37.359736,
          41.316271,
          39.436556,
          41.475476,
          38.378014,
          40.576824,
          39.934332,
          38.32982,
          39.428889,
          37.571876,
          39.645904,
          43.560582,
          42.798654,
          43.33011,
          43.541277,
          39.956135,
          43.204824,
          36.714681,
          43.285684,
          36.720791,
          36.966885,
          36.618249,
          40.009935,
          41.474698,
          39.663613,
          41.510001,
          37.902032,
          37.359766,
          42.717483,
          42.553519,
          37.030903,
          28.49464,
          41.402821,
          41.531856,
          28.081625,
          28.463852,
          59.496786,
          9.42172,
          9.472855,
          13.570278,
          9.569756,
          9.116914,
          9.300697,
          9.482392,
          61.031247,
          60.285141,
          64.663914,
          -18.101198,
          50.586554,
          48.69024,
          50.699073,
          47.135245,
          51.040836,
          51.050596,
          49.36667,
          47.314467,
          46.160078,
          49.237354,
          49.462258,
          43.443738,
          46.809772,
          43.80483,
          45.226037,
          44.642952,
          48.980312,
          47.587909,
          48.768805,
          47.083275,
          49.257388,
          49.22355,
          47.62921,
          43.799009,
          45.614734,
          49.467215,
          44.520718,
          45.865692,
          43.186126,
          43.024394,
          48.108869,
          43.419334,
          48.382974,
          43.401724,
          51.044533,
          44.912965,
          43.421739,
          46.250804,
          43.793674,
          45.804972,
          45.230667,
          48.563372,
          45.288876,
          45.3717,
          45.567599,
          43.424239,
          44.406998,
          0.312079,
          0.373289,
          1.637393,
          53.337916,
          51.397546,
          53.265267,
          55.979125,
          52.907516,
          53.675822,
          52.377293,
          51.457535,
          53.888913,
          53.152678,
          52.640356,
          54.59506,
          51.471516,
          51.584677,
          54.618105,
          53.044003,
          53.571377,
          54.143487,
          41.917342,
          41.513089,
          42.161275,
          41.815251,
          5.704645,
          5.621991,
          4.891983,
          5.637128,
          8.790301,
          6.15335,
          4.885591,
          9.723527,
          9.678982,
          9.726733,
          16.234261,
          38.035179,
          38.375031,
          39.353176,
          38.334436,
          40.699271,
          38.129892,
          38.041955,
          14.667587,
          14.735452,
          14.813632,
          13.969258,
          13.949557,
          4.85719,
          15.706281,
          14.513662,
          13.447914,
          44.865469,
          43.540248,
          43.538189,
          44.96591,
          45.451822,
          18.713032,
          48.065841,
          47.750282,
          45.810911,
          47.809209,
          46.015894,
          -0.997604,
          -2.060086,
          0.895624,
          -5.892955,
          0.036994,
          -6.000861,
          -4.947312,
          1.058782,
          -8.169005,
          -6.9545960000000004,
          -6.020475,
          -6.022556,
          -7.11774,
          3.731655,
          -7.089975,
          -6.479811,
          -6.705337,
          -3.271007,
          -8.347011,
          -6.460507,
          -5.955711,
          -4.11672,
          -3.023469,
          -5.459666,
          -7.687489,
          -6.461181,
          -6.816613,
          5.451139,
          -0.947827,
          -6.866206,
          -4.789565,
          -6.865493,
          -6.037467,
          -10.194909,
          -6.976614,
          -7.437673,
          24.595585,
          24.930921,
          24.254955,
          26.253459,
          23.562013,
          20.928244,
          26.404843,
          16.810365,
          17.503171,
          8.893025,
          26.020467,
          17.333482,
          30.521323,
          24.540356,
          22.00256,
          17.183522,
          21.497474,
          19.724394,
          24.202644,
          24.388462,
          17.370099,
          10.712664,
          11.058644,
          10.937116,
          17.530246,
          25.19169,
          25.512145,
          14.932014,
          10.968101,
          11.182995,
          16.204723,
          24.670568,
          22.201498,
          25.891479,
          23.700238,
          20.628053,
          22.528774,
          26.168341,
          13.27022,
          23.990282,
          16.832064,
          14.60521,
          25.499517,
          13.260661,
          17.540668,
          11.357619,
          14.665693,
          17.308165,
          11.454468,
          8.78885,
          16.696363,
          14.642947,
          23.603059,
          13.241161,
          18.861883,
          26.644668,
          24.642507,
          24.695595,
          16.205971,
          28.490245,
          21.372294,
          24.69062,
          28.495111,
          23.176764,
          21.142607,
          21.165505,
          22.92701,
          15.686282,
          22.576171,
          18.682155,
          15.179579,
          24.565587,
          16.468871,
          16.837636,
          18.712203,
          17.160018,
          21.372104,
          31.413701,
          19.919046,
          21.239354,
          22.424461,
          24.054744,
          25.670752,
          10.906571,
          17.062828,
          20.83622,
          31.258581,
          26.29945,
          21.672501,
          19.703919,
          23.663137,
          15.216119,
          26.190592,
          30.233638,
          28.570512,
          22.569254,
          31.114069,
          31.03634,
          21.139583,
          29.967487,
          24.775292,
          23.637114,
          13.499152,
          10.848197,
          9.748529,
          19.787467,
          16.715611,
          16.661776,
          21.63125,
          21.969431,
          21.73034,
          26.332138,
          24.714457,
          23.439328,
          23.461907,
          22.753765,
          28.455175,
          20.920595,
          25.223534,
          19.033435,
          17.108274,
          21.021005,
          14.951422,
          17.296071,
          15.061606,
          16.718672,
          18.473438,
          14.27251,
          15.221793,
          16.84395,
          11.177107,
          16.875719,
          13.758783,
          11.361772,
          9.455703,
          22.423362,
          11.634286,
          17.617542,
          12.643418,
          16.766967,
          15.075325,
          17.655559,
          26.081874,
          17.042884,
          26.268063,
          21.602223,
          29.758381,
          26.931614,
          24.774342,
          28.480534,
          29.396089,
          28.121957,
          29.156732,
          22.753658,
          24.82232,
          24.327418,
          24.449401,
          24.528559,
          16.871085,
          17.141011,
          24.765642,
          19.785699,
          20.868289,
          15.023021,
          21.545403,
          24.578516,
          20.910015,
          27.668801,
          26.606036,
          21.577059,
          11.105441,
          23.42854,
          31.3282,
          22.266143,
          26.576623,
          31.197965,
          22.86688,
          21.892175,
          13.078557,
          22.726902,
          15.352161,
          17.558229,
          28.505156,
          29.289373,
          27.989507,
          30.272417,
          21.137147,
          23.492432,
          28.578002,
          17.0013,
          23.680882,
          21.249633,
          25.395551,
          29.888977,
          28.469413,
          14.586917,
          17.303447,
          22.429021,
          16.648359,
          16.767007,
          16.17713,
          24.865722,
          16.654684,
          16.844308,
          23.620478,
          25.242787,
          25.134755,
          16.711862,
          25.240013,
          20.867858,
          25.225076,
          25.192405,
          34.032635,
          16.798253,
          34.077497,
          24.71512,
          18.8943,
          25.204735,
          15.50002,
          16.624455,
          24.565681,
          23.49822,
          21.704422,
          22.228822,
          15.364101,
          16.380772,
          16.734616,
          25.177887,
          9.374599,
          22.400932,
          18.407977,
          24.657581,
          24.661883,
          23.383686,
          24.44605,
          24.63924,
          15.49227,
          17.763951,
          27.693977,
          17.709591,
          23.863185,
          21.184966,
          25.087704,
          25.229553,
          22.392435,
          18.017317,
          9.559566,
          18.992068,
          27.960795,
          31.037155,
          23.718837,
          17.136362,
          22.419734,
          23.817428,
          24.549063,
          25.26056,
          53.432118,
          52.641364,
          53.684307,
          53.34185,
          54.130891,
          52.261029,
          30.945723,
          33.106796,
          32.676455,
          36.816106,
          35.828219,
          35.699016,
          27.739943,
          30.233922,
          36.638397,
          28.691918,
          35.222593,
          38.432107,
          35.822461,
          34.326126,
          36.018357,
          30.661475,
          37.452818,
          33.482785,
          29.122595,
          34.355663,
          28.206554,
          36.650468,
          29.253013,
          31.390889,
          29.624192,
          33.946034,
          36.24531,
          28.410447,
          36.85618,
          34.056017,
          37.296253,
          35.306548,
          33.720436,
          35.575709,
          30.519905,
          38.679266,
          31.622338,
          29.210006,
          26.957779,
          36.480617,
          32.408392,
          29.306934,
          35.928279,
          32.576741,
          36.720009,
          31.728772,
          27.324737,
          35.892097,
          27.788613,
          30.234637,
          32.731681,
          34.197436,
          26.904997,
          34.298085,
          33.005706,
          32.218819,
          33.62948,
          36.482013,
          37.323522,
          38.247018,
          36.228881,
          36.626152,
          37.751775,
          30.156313,
          30.341309,
          35.31556,
          32.924046,
          35.375407,
          35.488833,
          33.837071,
          35.067063,
          34.257402,
          33.591386,
          35.605185,
          32.343069,
          32.737861,
          31.967338,
          31.962637,
          31.226161,
          31.300077,
          30.03508,
          33.369687,
          36.350998,
          35.340756,
          35.625588,
          36.441836,
          36.199215,
          64.3164,
          31.916333,
          32.763092,
          31.758156,
          37.193679,
          41.314178,
          42.007213,
          44.302532,
          40.556227,
          44.793451,
          46.17726,
          45.253599,
          43.616881,
          45.190403,
          43.855016,
          44.693144,
          44.32306,
          38.914183,
          44.835363,
          42.37474,
          43.500382,
          40.509634,
          40.952214,
          43.363781,
          40.167204,
          44.458914,
          43.65918,
          45.886429,
          41.445163,
          36.902746,
          43.284983,
          41.055691,
          41.91798,
          41.73642,
          38.190035,
          40.674977,
          45.515453,
          39.470522,
          45.685481,
          42.464,
          45.716549,
          44.77937,
          39.834649,
          40.660936,
          41.456132,
          44.475979,
          45.877086,
          45.048628,
          45.78239,
          39.861038,
          40.722748,
          45.236242,
          42.673175,
          43.219139,
          42.451222,
          41.64444,
          45.552075,
          36.727174,
          43.77433,
          46.040309,
          45.616284,
          43.564932,
          37.930755,
          41.19226,
          45.816427,
          42.745822,
          40.487517,
          17.96372,
          17.904131,
          30.67859,
          32.215093,
          32.099161,
          31.333889,
          31.1861,
          31.753358,
          36.028038,
          38.983894,
          33.799446,
          41.407124,
          35.980882,
          40.515509,
          35.501391,
          33.40298,
          36.404864,
          34.754394,
          35.511879,
          37.032311,
          35.908489,
          41.817253,
          35.152644,
          36.160531,
          39.071193,
          33.08406,
          35.666816,
          34.169853,
          33.782392,
          33.949452,
          33.785254,
          33.631109,
          37.009661,
          36.594544,
          33.902573,
          42.351163,
          26.613031,
          34.056997,
          34.057688,
          34.95745,
          44.089136,
          49.64296,
          42.292318,
          45.389976,
          50.238747,
          42.549695,
          50.399459,
          53.159669,
          42.356075,
          49.657354,
          -3.845269,
          -1.450199,
          -1.494593,
          -1.453613,
          -4.006869,
          -1.434559,
          -3.736371,
          -1.431349,
          -1.427661,
          -1.459422,
          42.913489,
          42.912747,
          40.513996,
          12.87017,
          10.641965,
          10.683438,
          10.688055,
          10.718818,
          37.205706,
          37.595437,
          36.046135,
          34.935518,
          35.992477,
          37.435793,
          37.620071,
          37.026538,
          37.084324,
          37.23037,
          35.955983,
          36.433656,
          35.862612,
          35.323607,
          36.211148,
          36.032848,
          37.620903,
          37.339923,
          36.960934,
          35.290658,
          37.427431,
          37.495174,
          34.937106,
          35.076138,
          37.483696,
          37.186617,
          37.012348,
          36.522607,
          37.888543,
          35.325896,
          36.604103,
          37.588616,
          36.51925,
          36.123612,
          37.339002,
          37.226737,
          37.775819,
          36.522534,
          35.956523,
          35.988954,
          29.03909,
          29.012674,
          17.404228,
          18.881931,
          17.455261,
          15.876415,
          18.873072,
          20.486883,
          34.306375,
          33.628265,
          34.335049,
          6.34016,
          32.633815,
          32.52035,
          32.42371,
          32.00667,
          32.61537,
          32.382952,
          7.988093,
          6.028193,
          9.809819,
          8.575246,
          -29.298702,
          56.314379,
          49.465827,
          49.513898,
          56.690803,
          22.1337,
          32.989777,
          32.567512,
          30.220295,
          31.58524,
          32.552532,
          27.077753,
          33.157611,
          33.944648,
          34.595815,
          33.055221,
          33.366855,
          35.601558,
          33.910502,
          35.044516,
          35.655146,
          33.891542,
          27.154211,
          27.896148,
          47.789298,
          -15.709395,
          -20.057377,
          19.343802,
          22.474087,
          18.798161,
          19.996331,
          18.968308,
          31.844796,
          28.927453,
          20.384508,
          20.943997,
          25.698454,
          22.044582,
          19.578436,
          20.603157,
          25.488268,
          21.985989,
          25.977048,
          19.646378,
          18.870811,
          22.185048,
          16.800889,
          19.987639,
          20.417326,
          20.012084,
          19.990555,
          28.686565,
          31.414784,
          31.657317,
          16.888668,
          19.974368,
          17.650835,
          18.857753,
          25.613532,
          29.048287,
          18.980846,
          41.967972,
          12.792925,
          12.793193,
          12.798116,
          16.365212,
          21.840137,
          21.577615,
          20.747189,
          16.891327,
          21.604788,
          19.516758,
          19.307006,
          21.512238,
          18.306528,
          16.877541,
          22.355843,
          49.095789,
          45.935591,
          44.727017,
          47.913576,
          49.437322,
          -19.65239,
          -25.957551,
          -14.519887,
          -25.958721,
          -19.557887,
          -25.922886,
          -19.796896,
          -14.580324,
          17.99066,
          17.992896000000002,
          17.992911,
          18.035882,
          14.595284,
          -15.791399,
          -12.873871,
          3.262841,
          1.545746,
          1.365147,
          6.083915,
          4.523339,
          4.387662,
          4.633606,
          2.739681,
          6.512584,
          4.77113,
          6.420931,
          3.307813,
          1.436234,
          1.442528,
          4.780195,
          3.994745,
          1.43865,
          2.977567,
          -19.521548,
          -20.419375,
          -22.246259,
          13.952084,
          7.319348,
          7.35638,
          13.061804,
          7.411613,
          7.006077,
          7.927327,
          10.929985,
          6.893522,
          6.813933,
          6.902791,
          4.981631,
          11.860059,
          12.156532,
          12.276255,
          51.685922,
          52.471076,
          51.881235,
          68.094529,
          59.062104,
          28.129337,
          27.061052,
          27.532823,
          27.996193,
          27.409307,
          27.670849,
          26.811566,
          27.61536,
          28.090066,
          27.083416,
          27.504193,
          27.59967,
          26.602561,
          27.51011,
          27.506244,
          27.384689,
          26.790045,
          27.724209,
          -35.807103,
          23.483698,
          16.977182,
          25.315639,
          33.802044,
          33.817001,
          32.721675,
          33.829331,
          33.849229,
          32.717428,
          30.327399,
          32.725581,
          25.158018,
          32.644464,
          33.856388,
          24.909361,
          33.690512,
          33.693119,
          32.574803,
          32.726458,
          33.905264,
          33.548053,
          32.907938,
          32.291163,
          25.053071,
          25.15328,
          25.139196,
          32.387991,
          25.154011,
          27.669985,
          24.648057,
          25.34692,
          9.167751,
          9.256423,
          8.907654,
          -11.991241,
          -7.407134,
          -5.165161,
          -5.996653,
          -15.579408,
          -16.255851,
          -11.37685,
          -12.192606,
          14.543974,
          13.743475,
          14.875138,
          14.852188,
          10.162166,
          10.559209,
          10.19748,
          14.587326,
          15.053512,
          13.147362,
          14.898089,
          7.173235,
          8.332219,
          16.766607,
          13.739098,
          16.164929,
          10.16122,
          8.288739,
          10.557627,
          -6.741782,
          50.806773,
          50.930718,
          51.123163,
          50.076716,
          50.680898,
          51.104286,
          51.138474,
          50.874621,
          54.540361,
          50.534264,
          50.353406,
          50.828439,
          52.83777,
          18.018559,
          18.394548,
          39.36864,
          39.444614,
          38.922169,
          37.135933,
          40.289074,
          37.78345,
          39.685773,
          39.655677,
          38.501466,
          38.504982,
          37.937218,
          -25.108222,
          -22.17468,
          -25.497122,
          24.972634,
          25.194916,
          25.146484,
          -20.927646,
          45.952598,
          44.240604,
          45.050447,
          45.95512,
          45.121772,
          46.904658,
          47.037724,
          45.290498,
          46.560848,
          56.868466,
          54.873651,
          62.945251,
          51.257872,
          50.610789,
          53.445099,
          44.125712,
          54.783097,
          52.664946,
          57.46959,
          54.155892,
          59.529312,
          50.378073,
          54.213699,
          54.003473,
          53.421121,
          54.445485,
          59.061831,
          53.6638,
          59.112037,
          54.482932,
          44.793019,
          55.97676,
          51.992432,
          55.30434,
          52.051961,
          55.061288,
          54.48167,
          44.727849,
          44.735317,
          44.845542,
          53.792664,
          51.218763,
          44.576776,
          49.004895,
          61.401735,
          53.838652,
          54.245925,
          56.227394,
          58.392181,
          54.657804,
          50.094007,
          53.470439,
          55.252357,
          59.912757,
          52.610353,
          51.197441,
          48.246829,
          52.080261,
          44.83938,
          59.549281,
          59.127237,
          69.320995,
          55.458169,
          67.634836,
          59.91005,
          -2.607006,
          26.491848,
          19.52091,
          19.288326,
          16.736325,
          27.532753,
          24.27617,
          31.414894,
          22.552074,
          22.582119,
          24.957424,
          27.191509,
          28.270347,
          18.579151,
          31.436323,
          25.680816,
          24.302589,
          20.713111,
          24.614268,
          17.478649,
          17.618579,
          17.870399,
          17.626603,
          17.703691,
          17.937454,
          13.170247,
          14.664971,
          14.79656,
          14.707185,
          8.489721,
          14.327109,
          14.320433,
          43.909249,
          45.207937,
          44.011147,
          5.769438,
          48.457981,
          48.592391,
          48.997209,
          49.033415,
          46.128494,
          46.069607,
          58.384691,
          57.710068,
          -26.506121,
          33.645861,
          33.718311,
          36.153683,
          34.931754,
          36.305287,
          35.072205,
          34.972539,
          36.337118,
          36.538616,
          12.208307,
          9.26689,
          6.621423,
          6.153305,
          9.459846,
          6.583055,
          14.721883,
          14.673757,
          12.816712,
          15.2206,
          14.647975,
          18.554322,
          8.102127,
          14.570239,
          14.64631,
          14.627492,
          19.155165,
          38.635966,
          37.596499,
          39.684137,
          38.260687,
          38.25189,
          10.351666,
          36.776903,
          33.873998,
          36.502193,
          36.592433,
          37.259215,
          35.850358,
          34.937544,
          36.159702,
          33.930841,
          37.253415,
          39.585165,
          40.41248,
          40.241962,
          39.926231,
          38.41792,
          39.743006,
          37.770579,
          38.456362,
          40.185986,
          40.575669,
          38.663862,
          38.427047,
          41.79704,
          38.8574,
          39.83764,
          36.868839,
          37.947507,
          39.964066,
          37.899013,
          40.935634,
          41.021316,
          39.865142,
          41.170999,
          41.025718,
          37.293693,
          39.607749,
          36.897873,
          39.929475,
          41.634894,
          38.278508,
          37.068936,
          37.962052,
          37.276316,
          37.289736,
          38.500626,
          36.79937,
          36.264312,
          40.781692,
          36.964373,
          40.75892,
          40.756508,
          40.04886,
          37.862301,
          37.338186,
          41.107528,
          36.720265,
          41.203344,
          38.454928,
          41.639958,
          37.694944,
          37.351009,
          41.318865,
          39.182334,
          36.932588,
          40.104577,
          41.015432,
          41.630907,
          39.944254,
          37.938962,
          39.960456,
          39.69594,
          39.722346,
          38.956061,
          41.294214,
          38.892444,
          37.116673,
          40.965789,
          40.848888,
          24.133832,
          24.305891,
          24.009607,
          24.586075,
          24.721512,
          24.516055,
          -5.101412,
          -7.030308,
          -10.258078,
          -8.942343,
          -6.662689,
          -6.994862,
          -5.107863,
          0.291484,
          0.751299,
          0.660021,
          0.386128,
          50.545261,
          47.172149,
          49.518095,
          48.748587,
          46.506998,
          48.524961,
          47.872741,
          47.834325,
          49.495188,
          48.730626,
          44.773711,
          48.97671,
          -34.400505,
          -32.26368,
          -34.841894,
          29.611942,
          37.267699,
          35.101255,
          38.181745,
          39.616962,
          32.246956,
          36.272283,
          40.750707,
          28.760848,
          37.698646,
          46.543461,
          44.542712,
          33.694814,
          41.006191,
          39.563831,
          47.568137,
          32.520953,
          29.962052,
          29.546941,
          31.482109,
          39.94794,
          28.582321,
          32.415567,
          32.51394,
          36.022556,
          40.202578,
          25.785919,
          29.673765,
          38.035693,
          34.55371,
          28.643203,
          34.980343,
          39.77833,
          39.145367,
          36.195044,
          41.329439,
          41.268408,
          39.62013,
          44.084275,
          33.242074,
          40.71599,
          33.103637,
          29.690855,
          33.226276,
          39.434947,
          33.823833,
          27.637094,
          27.9358,
          45.946617,
          31.74675,
          44.089412,
          38.128944,
          35.071447,
          40.734706,
          38.416467,
          37.317574,
          40.472973,
          43.30851,
          33.540963,
          43.178901,
          38.738901,
          40.736884,
          35.122944,
          39.560503,
          30.054328,
          39.916931,
          48.768488,
          40.735308,
          42.140334,
          38.109989,
          34.767732,
          38.386178,
          39.652858,
          33.277966,
          32.512949,
          41.063898,
          30.534921,
          45.073094,
          37.2174,
          41.180945,
          42.498501,
          40.687649,
          41.660071,
          43.618233,
          39.208657,
          47.553959,
          32.462785,
          29.805129,
          34.354387,
          37.797492,
          34.780061,
          40.794893,
          39.677755,
          41.459227,
          34.608111,
          35.029722,
          32.410114,
          37.461112,
          25.877824,
          34.820463,
          33.733579,
          45.317821,
          41.860725,
          42.286723,
          43.007887,
          40.931159,
          40.055815,
          40.217722,
          40.304199,
          41.094656,
          40.284772,
          40.327645,
          37.529767,
          42.024195,
          10.338289,
          9.983709,
          10.121046,
          10.565961,
          10.161419,
          10.234351,
          7.863313,
          9.618822,
          11.500079,
          9.929924,
          8.300387,
          13.815109,
          9.955604,
          20.958752,
          10.648488,
          16.540687,
          20.18496,
          20.185013,
          11.626713,
          20.482583,
          21.021027,
          18.939393,
          21.566872,
          21.84549,
          20.453618,
          20.341771,
          20.075309,
          21.009432,
          20.20227,
          16.50744,
          16.129181,
          21.493793,
          21.017716,
          21.026588,
          10.652705,
          17.761155,
          17.796489,
          10.214842,
          10.647944,
          10.755232,
          10.653801,
          10.6054,
          21.021935,
          19.333214,
          21.840986,
          21.86174,
          19.332494,
          20.467564,
          11.63051,
          19.378829,
          21.006744,
          20.406496,
          20.770956,
          21.698028,
          11.713846,
          21.025041,
          21.485296,
          20.091737,
          20.529883,
          10.272336,
          21.039317,
          19.275347,
          20.147373,
          10.781889,
          11.892375,
          10.602157,
          20.96342,
          16.129673,
          21.70006,
          10.344541,
          21.601376,
          21.000293,
          21.729031,
          21.748282,
          18.935972,
          20.336018,
          20.423681,
          15.766071,
          21.44066,
          21.212366,
          21.914015,
          10.642791,
          16.803306,
          21.563422,
          42.146335,
          14.796499,
          13.340538,
          13.36352,
          15.649707,
          15.032711,
          13.50015,
          -26.183551,
          -28.32236,
          -26.181636,
          -33.78003,
          -26.143888,
          -26.156285,
          -30.674835,
          -29.903735,
          -27.6992,
          -26.133577,
          -26.211881,
          -28.762745,
          -24.9836,
          -26.223458,
          -28.359307,
          -24.81289,
          -33.910341,
          -25.722992,
          -33.317393,
          -25.81443,
          -15.55503,
          -13.026214,
          -12.976176,
          -15.545704,
          -15.523529,
          -13.00312,
          -17.819981,
          -20.114474,
          -21.0072,
          -17.859217,
          -19.417322,
          -18.99883
         ],
         "legendgroup": "",
         "lon": [
          68.686338,
          61.953503,
          13.316051,
          13.42678,
          13.581766,
          14.030804,
          13.567408,
          13.496729,
          19.63345,
          19.743606,
          19.725338,
          20.045136,
          55.438602,
          55.733956,
          55.134171,
          56.070834,
          55.12941,
          55.986541,
          56.226827,
          55.985251,
          54.495748,
          55.593386,
          55.242025,
          55.968218,
          56.068896,
          56.069847,
          55.617005,
          56.064911,
          54.460784,
          55.977484,
          55.133951,
          55.552188,
          54.500322,
          -60.243942,
          -66.850896,
          -59.388818,
          -65.227789,
          -60.294838,
          -60.276544,
          -68.675812,
          -60.165115,
          -70.035152,
          -60.133089,
          -68.845197,
          -64.352965,
          -64.957567,
          -67.927543,
          -64.37047,
          -59.016309,
          -67.422563,
          -55.280467,
          44.748048,
          44.730945,
          139.028952,
          138.502971,
          115.799112,
          114.944342,
          115.773712,
          150.91107,
          130.897256,
          121.497603,
          133.082037,
          150.867508,
          150.33654,
          150.634007,
          144.268569,
          151.15498,
          146.416556,
          115.778059,
          153.141054,
          150.901862,
          115.9159,
          144.926994,
          153.161449,
          153.139204,
          16.085765,
          14.116847,
          16.606415,
          15.573051,
          13.051516,
          13.777083,
          12.168075,
          10.638447,
          14.532924,
          15.344482,
          49.556633,
          45.254606,
          49.447206,
          29.114364,
          4.359027,
          3.787209,
          3.486634,
          3.766917,
          3.442482,
          5.673726,
          3.786993,
          3.992566,
          2.504159,
          2.650478,
          2.545286,
          2.43963,
          -1.47837,
          -1.50022,
          -1.640093,
          -1.481016,
          91.65805,
          90.51543,
          91.795684,
          91.647603,
          90.613007,
          89.589503,
          90.613085,
          89.581336,
          90.514676,
          90.516466,
          89.587142,
          90.510752,
          90.508382,
          89.585596,
          90.520327,
          91.796193,
          91.812937,
          91.8143,
          91.858,
          91.869938,
          91.738037,
          91.71544,
          89.590302,
          89.585416,
          91.700866,
          90.345293,
          90.524404,
          90.521455,
          90.513202,
          90.624685,
          90.61001,
          90.606232,
          90.634656,
          90.641303,
          90.512821,
          90.588746,
          89.586911,
          89.566546,
          27.594851,
          25.548066,
          23.466674,
          24.174899,
          50.656492,
          50.594119,
          18.113319,
          18.526956,
          32.012274,
          24.447365,
          31.72404,
          -57.70235,
          -68.316934,
          -65.20765,
          -67.077067,
          -63.150661,
          -58.278028,
          -66.291682,
          -67.272688,
          -65.238766,
          -44.276622,
          -34.844648,
          -42.287296,
          -44.077607,
          -43.881205,
          -45.552264,
          -49.610131,
          -44.306799,
          -41.118409,
          -41.281472,
          -37.156458,
          -56.219968,
          -34.863279,
          -37.393063,
          -44.040922,
          -40.52013,
          -59.915041,
          -39.305561,
          -47.188471,
          -43.818949,
          -46.258214,
          -44.130826,
          -37.773819,
          -38.854112,
          -45.583988,
          -44.102262,
          -43.925692,
          -48.856014,
          -56.72942,
          -48.117464,
          -40.330504,
          -49.781312,
          -44.938742,
          -34.894188,
          -44.025928,
          -36.151178,
          -53.67145,
          -41.59798,
          -46.364944,
          -46.059585,
          -51.280111,
          -42.481219,
          -38.475391,
          -43.981104,
          -44.058174,
          -42.271287,
          -48.770272,
          -48.917417,
          -43.883034,
          -34.865204,
          -40.249573,
          -46.917941,
          -43.655675,
          -38.481778,
          -41.1287,
          -48.979959,
          -49.156976,
          -47.854243,
          -37.716134,
          -46.242309,
          -36.698658,
          -40.234002,
          -56.137768,
          -42.262257,
          -57.62406,
          -49.786396,
          -46.769658,
          -37.165,
          -56.265285,
          -53.559279,
          -47.116844,
          -49.325757,
          -47.499136,
          -47.874042,
          -40.373895,
          -47.436719,
          -49.342572,
          -48.428327,
          -43.573563,
          -46.391784,
          -48.683798,
          -48.714877,
          -38.854175,
          -63.768628,
          -34.851998,
          -44.310087,
          -43.735999,
          -44.048268,
          -44.054817,
          -59.97014,
          -59.647826,
          115.064836,
          91.232077,
          89.188009,
          89.183282,
          25.889149,
          -73.401677,
          -79.624239,
          -71.813859,
          -80.895863,
          -74.613848,
          -77.121345,
          -113.600661,
          -123.023077,
          -76.805344,
          -63.334263,
          -115.171522,
          -123.005621,
          -73.523533,
          -79.687062,
          -64.920197,
          -78.699895,
          -81.147797,
          8.158997,
          7.028609,
          9.54928,
          8.238877,
          6.545972,
          7.248911,
          -70.831814,
          -73.174564,
          -70.413517,
          -70.695526,
          -70.318803,
          -73.118689,
          -71.139321,
          -71.588465,
          -71.197668,
          -71.477127,
          -73.129557,
          -71.577048,
          -70.602155,
          118.380624,
          111.833275,
          118.169276,
          107.241019,
          118.887302,
          106.358115,
          116.860494,
          117.392989,
          117.777036,
          118.209739,
          113.407059,
          114.747611,
          109.805221,
          119.050244,
          117.442907,
          117.2375,
          111.985983,
          107.326642,
          118.973163,
          113.415031,
          111.961909,
          106.680729,
          111.172324,
          111.279676,
          110.658047,
          107.900941,
          107.026559,
          118.025423,
          117.37987,
          112.763253,
          107.076911,
          105.357339,
          107.771682,
          99.286018,
          106.770057,
          117.899484,
          119.070801,
          107.981388,
          114.889669,
          106.602861,
          105.861036,
          105.664166,
          94.235486,
          111.660772,
          110.672331,
          111.540559,
          103.388419,
          107.454266,
          111.866676,
          103.26961,
          108.558124,
          107.657118,
          98.763266,
          108.217538,
          108.975283,
          111.408151,
          105.013761,
          106.818799,
          117.112737,
          109.122586,
          103.667616,
          97.796247,
          105.403465,
          106.956594,
          115.951121,
          121.517068,
          117.439757,
          121.442527,
          120.576024,
          120.804755,
          119.042408,
          116.748146,
          116.331386,
          112.850388,
          118.473234,
          121.468054,
          121.102005,
          121.213155,
          118.109661,
          118.491851,
          121.855355,
          121.504058,
          117.248183,
          110.303199,
          119.834704,
          113.099766,
          115.958428,
          120.168946,
          118.966544,
          121.652595,
          116.124686,
          116.445885,
          110.837207,
          119.825483,
          121.095623,
          119.283709,
          116.254306,
          114.881873,
          115.420949,
          103.908381,
          115.580052,
          114.543524,
          114.32873,
          115.964109,
          114.138749,
          119.411291,
          115.442273,
          116.167224,
          112.846487,
          116.671456,
          114.181018,
          116.923021,
          116.032085,
          116.977358,
          115.076826,
          116.021386,
          124.396361,
          114.451868,
          114.630734,
          117.128362,
          115.266752,
          106.010656,
          118.054964,
          107.502136,
          123.000903,
          123.336599,
          108.628211,
          107.992271,
          110.106906,
          113.109157,
          118.799837,
          117.606141,
          118.259527,
          113.115851,
          114.367697,
          113.619087,
          114.23499,
          112.153955,
          109.961504,
          115.852039,
          106.166631,
          106.379901,
          127.147103,
          118.36626,
          126.153327,
          108.991002,
          126.268841,
          111.329331,
          114.547772,
          115.630481,
          111.58081,
          113.345858,
          114.337788,
          111.512822,
          118.795963,
          112.666613,
          114.82963,
          118.227984,
          118.376732,
          118.463647,
          110.682016,
          114.315651,
          114.999039,
          113.666389,
          113.370356,
          111.575579,
          126.141284,
          126.540238,
          114.717118,
          116.992307,
          123.360689,
          115.604138,
          118.236892,
          117.383822,
          115.112043,
          112.421607,
          112.188412,
          113.802463,
          111.640576,
          111.658317,
          111.307999,
          111.500255,
          110.74609,
          112.272753,
          113.928119,
          112.604904,
          114.068821,
          117.08003,
          119.297096,
          117.893384,
          116.23988,
          118.919357,
          118.279162,
          111.614278,
          113.306758,
          117.528367,
          120.366445,
          117.627232,
          119.594509,
          113.153132,
          118.456606,
          110.829581,
          112.811689,
          117.02735,
          113.006797,
          114.074635,
          118.314033,
          119.581498,
          117.459992,
          113.238784,
          114.519444,
          113.106074,
          113.065124,
          111.48759,
          112.603502,
          119.647243,
          112.082645,
          119.751184,
          119.946136,
          116.372894,
          119.686369,
          118.40628,
          119.602215,
          119.68622,
          118.831003,
          119.330047,
          114.860425,
          104.04243,
          111.998378,
          113.825503,
          111.98069,
          117.752078,
          113.216266,
          106.992661,
          111.315189,
          112.847056,
          119.701685,
          114.065663,
          117.174059,
          119.723102,
          120.09114,
          120.232341,
          119.819031,
          119.742454,
          119.578067,
          109.407823,
          117.250549,
          115.865441,
          113.304149,
          109.882675,
          112.953578,
          112.682477,
          112.892786,
          112.218816,
          112.236868,
          119.700671,
          119.981004,
          119.823512,
          119.80014,
          119.802962,
          114.690611,
          115.698101,
          114.669097,
          118.339868,
          116.565899,
          116.669502,
          113.735237,
          114.62973,
          115.741168,
          117.316337,
          112.611989,
          119.510059,
          114.45838,
          114.441562,
          112.403142,
          118.970578,
          112.211553,
          108.999663,
          111.49377,
          112.508961,
          111.768823,
          111.732139,
          116.892517,
          117.347123,
          120.687764,
          106.840623,
          106.81908,
          112.048737,
          117.766258,
          121.061614,
          118.281929,
          120.311397,
          118.491982,
          119.571258,
          120.330806,
          108.794004,
          115.853247,
          121.214294,
          112.038596,
          120.189699,
          120.710736,
          116.88043,
          116.794254,
          118.237402,
          112.774096,
          113.004552,
          119.261725,
          119.229893,
          119.839351,
          116.420507,
          117.145255,
          115.267214,
          114.867472,
          115.94949,
          114.885214,
          114.629196,
          120.774617,
          120.819259,
          120.843339,
          120.858293,
          120.622002,
          119.449217,
          119.24581,
          112.547809,
          121.095397,
          120.325447,
          119.554148,
          119.557354,
          121.231759,
          117.877446,
          117.002924,
          117.169955,
          120.416866,
          117.895834,
          120.647526,
          119.608103,
          111.501242,
          113.372382,
          117.714876,
          120.933522,
          120.218656,
          120.347015,
          115.395725,
          117.014467,
          109.564835,
          111.390059,
          111.575119,
          106.778815,
          108.081907,
          117.159313,
          110.496048,
          107.928982,
          109.705269,
          109.573362,
          105.93249,
          113.138464,
          110.95127,
          109.155783,
          114.366638,
          110.152792,
          117.058837,
          110.196576,
          111.723067,
          100.549139,
          117.394263,
          100.19484,
          106.553859,
          110.263039,
          116.747178,
          113.584333,
          119.580219,
          118.791502,
          109.539782,
          108.463072,
          112.321117,
          114.630104,
          123.287185,
          113.416752,
          112.827104,
          121.434166,
          113.371716,
          112.897971,
          114.037664,
          117.018244,
          122.679399,
          112.93392,
          123.367797,
          112.619899,
          113.422937,
          113.237962,
          123.300948,
          122.168897,
          113.238889,
          123.391589,
          117.392155,
          112.638997,
          113.872489,
          114.157942,
          113.694507,
          122.196014,
          113.845622,
          112.935966,
          115.609716,
          114.588345,
          120.144776,
          117.799468,
          82.071995,
          116.961446,
          84.763185,
          119.887872,
          116.145811,
          121.351389,
          116.309796,
          114.319396,
          116.197732,
          116.149067,
          116.190774,
          116.132253,
          116.082415,
          114.686116,
          119.701739,
          119.152434,
          115.505367,
          106.826575,
          104.760639,
          117.373748,
          103.215129,
          117.713928,
          119.162736,
          106.892016,
          104.844946,
          107.297175,
          109.813109,
          108.934791,
          113.111218,
          115.703197,
          83.272359,
          103.215062,
          108.210571,
          114.395136,
          99.308613,
          111.941242,
          111.471374,
          119.537342,
          116.270105,
          115.051997,
          120.088661,
          119.531209,
          118.512942,
          105.990868,
          117.613304,
          91.927128,
          110.561639,
          114.02431,
          115.443373,
          115.058655,
          107.431126,
          115.272579,
          113.985854,
          99.094852,
          99.688232,
          103.242141,
          104.941286,
          101.454145,
          106.401066,
          106.362761,
          111.229041,
          99.556958,
          101.051228,
          103.168809,
          111.419666,
          112.893295,
          107.060274,
          111.89658,
          111.493135,
          103.794044,
          113.126645,
          110.709316,
          111.42199,
          114.858977,
          112.356406,
          109.436413,
          102.549576,
          109.908444,
          99.932958,
          110.2482,
          108.068223,
          105.037116,
          110.841097,
          102.903083,
          101.573088,
          112.321899,
          114.894846,
          120.857121,
          113.42949,
          114.760078,
          103.233822,
          102.840932,
          113.197478,
          112.149581,
          113.199387,
          112.917678,
          101.854559,
          114.425916,
          119.865058,
          126.041253,
          126.713864,
          125.91294,
          126.248334,
          125.332517,
          126.97117,
          126.605421,
          129.670273,
          125.285752,
          123.598077,
          124.204101,
          123.123221,
          103.655499,
          105.092399,
          105.944429,
          105.68266,
          105.979095,
          104.119308,
          118.974762,
          105.398327,
          106.315205,
          120.040669,
          118.890757,
          116.917226,
          118.983956,
          116.855479,
          116.375794,
          120.830683,
          116.574379,
          121.055879,
          121.627325,
          123.340701,
          117.620869,
          119.026673,
          117.750335,
          120.117266,
          126.562648,
          116.339123,
          113.900559,
          112.437858,
          112.982692,
          118.39612,
          111.012098,
          120.982457,
          112.700594,
          116.73837,
          113.141125,
          122.677667,
          118.721365,
          117.997209,
          115.551654,
          124.384907,
          118.350178,
          119.624457,
          116.039421,
          118.414521,
          121.415366,
          117.192788,
          121.974851,
          119.956016,
          119.999091,
          121.479414,
          120.352439,
          117.155932,
          115.477965,
          123.586313,
          117.423572,
          122.199808,
          119.036159,
          122.087505,
          122.135083,
          122.324251,
          118.563622,
          109.95601,
          117.991216,
          120.975971,
          118.896355,
          116.22241,
          115.835416,
          120.518239,
          103.486006,
          103.533149,
          87.583228,
          118.975255,
          121.538527,
          119.519288,
          110.095778,
          113.40456,
          109.355321,
          119.258714,
          105.574632,
          105.53624,
          106.271086,
          106.870174,
          106.684955,
          109.601509,
          123.471943,
          119.491719,
          105.355415,
          118.986172,
          109.29456,
          109.264958,
          106.83695,
          107.455092,
          108.976569,
          110.538786,
          107.757042,
          80.194637,
          106.628521,
          109.041689,
          109.218235,
          109.016777,
          110.228472,
          109.19386,
          81.093612,
          81.851636,
          109.581788,
          118.481525,
          118.598681,
          118.317316,
          119.55845,
          117.871302,
          114.311851,
          113.343447,
          118.001629,
          104.36403,
          103.781474,
          117.153674,
          119.24394,
          115.465874,
          104.447624,
          114.929166,
          125.288359,
          117.335493,
          113.146664,
          106.574215,
          106.512012,
          106.323663,
          106.883641,
          108.43677,
          108.772678,
          106.973088,
          106.39081,
          109.064032,
          106.406097,
          107.154625,
          117.309105,
          120.594091,
          121.721231,
          122.068928,
          107.341741,
          112.899467,
          120.749155,
          117.156908,
          117.330501,
          117.776157,
          117.473633,
          117.078033,
          117.159443,
          123.856041,
          107.119462,
          109.25054,
          112.042043,
          107.370876,
          106.36395,
          108.939454,
          114.31534,
          114.244064,
          129.596909,
          113.863583,
          112.237389,
          114.163746,
          113.932603,
          114.036487,
          113.309657,
          116.819424,
          116.807392,
          116.828634,
          114.926217,
          113.515703,
          104.139021,
          112.981604,
          110.242774,
          112.279005,
          111.556751,
          107.029676,
          111.703148,
          107.040181,
          117.478502,
          119.296377,
          120.379172,
          119.142827,
          115.313243,
          117.082025,
          115.880486,
          113.335577,
          129.091246,
          112.754815,
          112.575635,
          119.564835,
          115.862955,
          112.547011,
          119.551221,
          130.848327,
          99.085014,
          102.422905,
          102.621828,
          106.895981,
          104.719403,
          106.593213,
          124.097255,
          123.715717,
          123.693935,
          119.588267,
          104.893022,
          110.870937,
          115.86299,
          103.376217,
          102.811812,
          129.482342,
          111.706638,
          121.141022,
          106.086429,
          104.764615,
          105.635785,
          119.393717,
          114.218443,
          123.502592,
          101.741715,
          104.395483,
          106.971585,
          106.257557,
          112.873468,
          107.770744,
          109.049502,
          118.084607,
          117.495078,
          118.097083,
          117.649026,
          109.581696,
          109.527744,
          110.25638,
          104.784537,
          106.840045,
          106.901423,
          103.396921,
          106.762879,
          103.900304,
          103.511867,
          106.751738,
          107.568138,
          104.522271,
          102.6106,
          102.237912,
          102.731675,
          112.818221,
          100.881431,
          93.440598,
          86.309503,
          106.840563,
          87.657838,
          119.232616,
          101.602884,
          119.587413,
          111.478324,
          108.943118,
          104.102491,
          118.946918,
          112.406201,
          112.739482,
          111.922144,
          114.025604,
          106.904139,
          118.015041,
          118.007633,
          113.181545,
          104.126264,
          100.634499,
          104.218378,
          117.479172,
          120.157322,
          115.772449,
          118.549415,
          116.935316,
          119.518273,
          119.676741,
          120.818497,
          113.417567,
          117.969002,
          116.182574,
          100.333787,
          117.327571,
          104.556073,
          117.928478,
          109.02806,
          105.971828,
          118.195767,
          106.898896,
          109.343303,
          111.623528,
          100.733924,
          109.339116,
          110.420734,
          110.392181,
          112.010304,
          110.4958,
          104.368038,
          107.113657,
          114.204986,
          102.874699,
          114.389426,
          108.870848,
          108.155668,
          114.943212,
          102.926781,
          102.477604,
          109.679894,
          116.299005,
          113.674929,
          102.182266,
          117.056094,
          99.097065,
          117.111914,
          117.109496,
          105.777197,
          103.21664,
          109.214022,
          105.108954,
          105.057039,
          106.105213,
          118.020371,
          104.875293,
          114.350141,
          98.465758,
          118.019352,
          100.548524,
          113.023913,
          118.02915,
          113.024874,
          117.314685,
          104.620024,
          117.743892,
          104.648067,
          117.320787,
          117.318239,
          105.684155,
          109.220162,
          105.046972,
          106.511396,
          107.996652,
          101.476553,
          104.746455,
          105.826109,
          104.394159,
          114.86703,
          106.674985,
          106.078118,
          110.641316,
          102.167161,
          113.922103,
          105.564364,
          103.610461,
          105.316797,
          113.41804,
          105.387256,
          106.789211,
          103.766598,
          106.799627,
          104.843295,
          107.019657,
          109.136095,
          102.216776,
          110.370349,
          99.739808,
          107.036681,
          103.904809,
          105.839187,
          102.933292,
          106.908022,
          109.649392,
          102.19449,
          105.177705,
          118.58217,
          118.329163,
          102.604794,
          105.199022,
          106.854591,
          118.935104,
          119.578572,
          119.129687,
          103.278956,
          118.918129,
          105.724138,
          102.605525,
          108.725745,
          109.38159,
          114.016888,
          90.900782,
          120.205306,
          104.578877,
          104.631266,
          115.564188,
          107.60871,
          106.141919,
          120.148834,
          104.617354,
          115.3912,
          102.808815,
          102.829236,
          108.145322,
          101.95949,
          114.786069,
          115.06645,
          119.789093,
          109.473096,
          106.730975,
          114.859931,
          117.536842,
          103.548258,
          118.881618,
          118.887122,
          117.748783,
          107.375729,
          103.454578,
          104.231647,
          118.032477,
          119.335175,
          104.22171,
          117.856864,
          117.829069,
          104.410502,
          111.82322,
          104.647526,
          118.341083,
          118.422828,
          119.32714,
          106.464538,
          106.059989,
          105.554132,
          109.445347,
          105.639136,
          111.731093,
          104.452338,
          105.666698,
          113.001175,
          106.735337,
          107.660491,
          107.581465,
          113.181429,
          113.249053,
          117.390877,
          105.803904,
          104.707156,
          117.521615,
          117.523564,
          111.401181,
          117.613649,
          117.72159,
          104.423382,
          118.245152,
          109.067454,
          117.888662,
          113.849626,
          113.780174,
          118.911196,
          104.287528,
          103.720684,
          111.476646,
          116.769417,
          94.829417,
          113.093144,
          117.746608,
          114.099976,
          116.641194,
          106.142065,
          100.576897,
          111.754815,
          113.153312,
          118.494322,
          102.257909,
          102.272535,
          119.148315,
          101.52715,
          104.190668,
          117.752907,
          114.221472,
          114.109795,
          118.094104,
          103.675963,
          103.194504,
          114.315387,
          114.335701,
          79.498422,
          106.737221,
          105.665358,
          111.963591,
          112.041216,
          111.978607,
          103.069526,
          120.600136,
          120.619365,
          77.459275,
          111.97911,
          112.648024,
          106.665566,
          105.967521,
          105.691346,
          102.087189,
          102.046348,
          102.303972,
          76.170478,
          100.814987,
          111.24823,
          112.815142,
          121.678608,
          115.342038,
          76.095939,
          112.597363,
          111.239298,
          76.060034,
          118.517732,
          94.308437,
          112.785565,
          75.90003,
          115.867896,
          98.52136,
          118.501714,
          106.785571,
          112.999946,
          114.784626,
          118.17994,
          117.924471,
          118.357795,
          118.165619,
          117.610407,
          113.079284,
          116.82455,
          119.598397,
          94.562415,
          117.751368,
          117.680124,
          118.525741,
          117.85436,
          123.904853,
          120.728926,
          109.249518,
          111.464242,
          111.463221,
          80.112369,
          80.151221,
          117.969727,
          120.784509,
          123.327221,
          123.741822,
          123.490972,
          119.835506,
          120.549677,
          82.91821,
          126.012052,
          126.271016,
          86.352422,
          121.745147,
          123.89766,
          121.263943,
          94.122567,
          93.565623,
          88.636992,
          88.64409,
          121.915031,
          120.701142,
          88.849928,
          124.619256,
          81.854934,
          125.933272,
          129.664206,
          87.730487,
          81.175076,
          87.774053,
          87.668344,
          88.722623,
          87.788622,
          80.754618,
          80.752291,
          82.060774,
          127.278572,
          127.490719,
          127.168069,
          130.596405,
          130.578657,
          89.535331,
          130.198413,
          86.848935,
          122.759874,
          123.450996,
          125.652375,
          123.211188,
          117.835014,
          104.331808,
          108.12953,
          108.024305,
          114.076643,
          122.678683,
          113.249497,
          109.509357,
          120.413592,
          118.217128,
          119.273511,
          110.150207,
          109.344959,
          119.361624,
          116.864793,
          119.548954,
          120.094409,
          113.925762,
          109.519542,
          119.60322,
          118.41112,
          119.516317,
          117.306254,
          114.027696,
          114.047496,
          120.369334,
          115.848695,
          119.2851,
          118.374743,
          118.379687,
          107.752052,
          113.540615,
          113.540172,
          117.536842,
          114.427849,
          109.049437,
          113.870608,
          114.017064,
          114.635462,
          114.090029,
          113.028807,
          116.967154,
          118.214336,
          122.553789,
          120.590826,
          109.736376,
          110.034145,
          118.203218,
          118.370413,
          122.443897,
          109.667375,
          121.28331,
          124.274152,
          125.177765,
          130.95024,
          131.962993,
          123.128997,
          110.201837,
          -4.078556,
          -6.616524,
          -4.011121,
          -6.614652,
          -4.014434,
          9.676607,
          9.699083,
          13.965796,
          9.68975,
          11.44548,
          9.676917,
          9.674043,
          14.526127,
          28.871808,
          29.341047,
          14.336493,
          14.455124,
          25.960315,
          12.048903,
          14.363071,
          13.857125,
          12.614788,
          -74.854354,
          -73.157651,
          -76.449871,
          -73.804703,
          -72.910142,
          -75.099702,
          -72.500932,
          -74.798042,
          -73.132779,
          -75.320012,
          -72.889119,
          -74.850201,
          -75.533408,
          -76.489076,
          -75.503214,
          -75.466151,
          -74.572736,
          -74.816797,
          -72.933394,
          -72.892305,
          -74.761332,
          -73.14167,
          -85.182032,
          -84.039684,
          -83.904531,
          -75.855138,
          -79.306978,
          -80.317675,
          -82.744378,
          -82.682339,
          34.006432,
          33.316702,
          17.766342,
          15.639497,
          18.461067,
          16.773065,
          14.341059,
          14.043957,
          10.481936,
          8.503183,
          8.036802,
          7.887637,
          8.258075,
          6.702557,
          7.473855,
          8.349549,
          8.335833,
          11.660638,
          8.614774,
          6.560266,
          13.836808,
          14.650765,
          7.704708,
          12.029824,
          8.03084,
          9.876779,
          8.685598,
          8.746013,
          9.735574,
          9.618221,
          8.5105,
          13.63851,
          8.316073,
          8.336089,
          8.7786,
          9.584787,
          9.888384,
          8.055751,
          8.711021,
          7.506201,
          6.728638,
          12.104727,
          10.698973,
          9.162092,
          8.073849,
          6.765204,
          12.181552,
          11.753223,
          9.732415,
          10.162965,
          9.768927,
          11.553871,
          10.998115,
          8.336864,
          6.710362,
          13.495733,
          9.510138,
          10.809747,
          11.684831,
          8.515097,
          42.691774,
          9.977316,
          -69.339805,
          -70.143182,
          -70.079319,
          -70.679931,
          -71.640189,
          -69.551794,
          -70.565427,
          3.750383,
          7.309254,
          3.232432,
          3.015907,
          1.242088,
          5.762104,
          6.622378,
          0.328081,
          8.174786,
          5.480683,
          -1.34234,
          -0.3962,
          6.805605,
          -1.933327,
          5.646743,
          4.445901,
          -0.27516,
          0.372402,
          -80.040555,
          -78.626663,
          -78.849008,
          -78.756758,
          -78.312163,
          32.14832,
          31.154812,
          33.776028,
          31.017238,
          32.971024,
          31.308586,
          31.53258,
          32.211601,
          31.301513,
          29.465165,
          32.08967,
          31.080767,
          30.96557,
          32.93963,
          32.22991,
          30.85609,
          33.772929,
          31.268796,
          29.83813,
          31.169977,
          31.284221,
          32.213233,
          30.746827,
          33.850991,
          39.575015,
          39.473441,
          -6.483272,
          -2.773979,
          -5.992723,
          -1.338218,
          -15.673154,
          -1.008607,
          -0.561616,
          1.998697,
          -4.15978,
          -3.474441,
          -2.190187,
          -4.46587,
          -5.865094,
          1.729998,
          -0.77638,
          -1.486787,
          -0.542867,
          0.54329,
          -3.74396,
          -0.496167,
          -0.79108,
          -0.958117,
          -0.228508,
          -5.722483,
          -5.619632,
          -5.775146,
          -8.187815,
          0.009924,
          -2.899342,
          -4.329333,
          -1.997062,
          -6.085925,
          -1.904785,
          -6.073448,
          -3.901136,
          2.183652,
          -0.246962,
          0.891293,
          -4.764202,
          -6.672312,
          -7.450123,
          -6.768733,
          -4.737286,
          -16.217379,
          2.054826,
          -4.496381,
          -16.499875,
          -16.252346,
          26.5284,
          38.341658,
          38.656177,
          39.475063,
          41.856906,
          38.455043,
          38.739807,
          38.353944,
          28.174569,
          22.288667,
          24.428885,
          178.389222,
          1.619138,
          6.965379,
          2.11344,
          5.552513,
          2.318615,
          2.331325,
          1.005353,
          -2.115363,
          -1.229156,
          1.225029,
          0.260684,
          4.884058,
          -0.138968,
          4.621082,
          -0.365494,
          4.754983,
          1.820137,
          0.328983,
          4.564675,
          3.002822,
          6.125154,
          -0.275165,
          7.235748,
          7.326102,
          0.10411,
          0.317085,
          4.688932,
          4.659723,
          0.99038,
          3.029105,
          -1.035972,
          5.386825,
          -4.467646,
          3.713863,
          2.326449,
          -0.535878,
          4.868754,
          3.424963,
          7.374769,
          5.421124,
          5.668787,
          6.109185,
          5.635106,
          5.749672,
          5.901332,
          4.867023,
          0.300991,
          9.490582,
          9.750836,
          13.545565,
          -1.751755,
          -3.392125,
          -1.851891,
          -2.47192,
          -0.905543,
          -0.529654,
          -1.286254,
          0.351728,
          -2.383373,
          -3.061635,
          -0.547016,
          -1.169809,
          0.261598,
          -3.787058,
          -6.767677,
          -1.875169,
          -0.6155,
          -7.572383,
          44.41763,
          45.047818,
          41.677186,
          44.850631,
          0.017442,
          -0.014344,
          -1.745828,
          0.007768,
          -1.502071,
          1.179772,
          -1.876222,
          -13.495906,
          -13.532937,
          -13.487934,
          -61.55259,
          23.592877,
          24.063021,
          22.985873,
          21.848612,
          22.9527,
          23.527035,
          23.533322,
          -90.496936,
          -90.703316,
          -90.278771,
          -90.794927,
          -90.794503,
          -52.277433,
          -87.93079,
          -87.651796,
          -87.426813,
          13.828314,
          16.44147,
          16.463974,
          14.121623,
          18.035842,
          -72.386871,
          20.797178,
          18.505678,
          18.39875,
          19.101728,
          17.983862,
          134.024306,
          115.570212,
          124.081963,
          106.082135,
          109.229753,
          106.084451,
          119.626973,
          104.136023,
          114.3919,
          106.247008,
          105.958559,
          105.960336,
          112.619226,
          98.699808,
          110.622539,
          106.899118,
          108.401523,
          116.105835,
          113.493513,
          107.212892,
          106.10388,
          104.161595,
          104.745325,
          105.316406,
          109.022305,
          106.93356,
          111.88583,
          95.246351,
          100.469967,
          111.458833,
          119.616409,
          111.91075,
          105.98515,
          123.540076,
          106.86075,
          109.074232,
          80.858324,
          74.634164,
          80.797654,
          81.250948,
          87.23354,
          78.922224,
          81.130322,
          79.917592,
          82.772664,
          78.133482,
          93.766061,
          77.484197,
          77.661101,
          74.773539,
          82.408211,
          77.347377,
          81.78279,
          79.176075,
          80.799867,
          88.083237,
          77.445669,
          78.09319,
          79.063006,
          78.152888,
          76.040366,
          92.359261,
          92.764963,
          78.339902,
          78.947252,
          79.09975,
          75.209295,
          83.9891,
          84.58922,
          92.975349,
          86.063099,
          86.000291,
          87.313274,
          92.214092,
          76.723122,
          79.392584,
          80.036823,
          78.522478,
          78.711436,
          80.306354,
          76.034869,
          79.223045,
          78.457835,
          77.474324,
          77.828686,
          77.730918,
          79.648627,
          78.528902,
          74.256034,
          80.291687,
          76.542925,
          73.727432,
          74.684476,
          74.684612,
          75.298457,
          76.386299,
          81.450134,
          73.002276,
          76.358152,
          72.442047,
          73.021805,
          72.986551,
          72.447126,
          78.458991,
          87.309609,
          73.03803,
          76.700306,
          81.176433,
          79.435689,
          80.063456,
          79.404569,
          77.293503,
          83.61546,
          76.834892,
          79.113259,
          81.383196,
          85.753248,
          80.613003,
          76.188927,
          76.955751,
          76.978304,
          70.69306,
          76.924968,
          74.127123,
          82.083805,
          79.220306,
          86.500554,
          76.781632,
          81.706283,
          74.912213,
          77.546556,
          88.194228,
          76.643271,
          76.56755,
          72.739127,
          77.769868,
          87.88645,
          86.887733,
          77.509404,
          76.835789,
          76.362414,
          79.064451,
          79.817766,
          80.547848,
          82.110036,
          82.351432,
          82.212864,
          73.847671,
          74.670187,
          87.51119,
          87.120726,
          86.245522,
          76.273575,
          86.031122,
          83.461625,
          79.349324,
          77.132457,
          75.683457,
          78.075824,
          77.504923,
          77.950937,
          79.694801,
          74.484301,
          80.11508,
          77.93196,
          79.984596,
          79.08911,
          80.1215,
          76.422107,
          79.232041,
          77.927796,
          87.862852,
          78.403619,
          82.891222,
          79.69946,
          79.862794,
          77.982725,
          82.926289,
          74.380089,
          77.221196,
          74.188744,
          82.041492,
          78.062049,
          75.394888,
          84.354352,
          77.658796,
          76.889313,
          76.777883,
          73.865416,
          85.85646,
          73.093914,
          81.329448,
          83.039567,
          81.169019,
          80.021716,
          77.176197,
          74.609918,
          79.148964,
          71.397709,
          78.01432,
          81.947803,
          74.803992,
          71.46093,
          76.128894,
          73.684448,
          82.021174,
          79.172074,
          68.712812,
          76.894259,
          75.131695,
          82.584652,
          76.629839,
          73.360916,
          84.098455,
          79.613393,
          88.26913,
          76.263198,
          76.003405,
          76.36704,
          76.808284,
          78.136713,
          75.162379,
          72.733044,
          87.362242,
          77.592701,
          73.303187,
          80.650487,
          79.370573,
          85.292394,
          77.812058,
          77.666031,
          78.579757,
          77.43615,
          69.834138,
          79.702465,
          80.014024,
          75.681411,
          92.582104,
          79.81512,
          79.989973,
          85.274431,
          92.345654,
          75.889485,
          79.711104,
          92.390906,
          70.564701,
          92.388161,
          92.400015,
          75.015643,
          79.912905,
          74.975355,
          75.953886,
          79.450065,
          92.383684,
          78.210468,
          79.502704,
          81.000297,
          68.578098,
          69.719992,
          84.416723,
          78.219484,
          79.723973,
          79.881588,
          92.390338,
          77.678857,
          69.020015,
          82.973488,
          73.8752,
          74.632446,
          68.569134,
          83.075826,
          83.101967,
          74.026419,
          83.194711,
          75.728868,
          83.154501,
          79.426251,
          81.361747,
          82.902584,
          81.781506,
          87.015888,
          83.275178,
          76.510421,
          73.030851,
          78.08159,
          76.629773,
          86.954305,
          76.945424,
          75.069656,
          68.794833,
          83.964858,
          91.710717,
          -7.143371,
          -8.688373,
          -6.387712,
          -6.198854,
          -7.578912,
          -7.037645,
          52.893091,
          52.059938,
          53.139147,
          46.150412,
          52.839301,
          51.786417,
          52.171476,
          56.908398,
          53.333561,
          54.188961,
          48.925357,
          48.421896,
          52.805048,
          50.561091,
          50.592338,
          50.306894,
          57.686191,
          49.071954,
          52.64685,
          47.286697,
          61.305658,
          49.518731,
          54.475132,
          49.65399,
          52.44734,
          51.240173,
          53.621179,
          53.230967,
          50.015024,
          48.499557,
          55.482199,
          49.211938,
          46.510696,
          51.510251,
          51.543211,
          45.027679,
          54.743803,
          53.826843,
          55.543845,
          59.746534,
          51.517764,
          51.270521,
          47.554208,
          51.582714,
          56.848223,
          49.520077,
          53.444869,
          57.065361,
          54.484055,
          56.716942,
          53.091217,
          50.394561,
          56.034479,
          46.873216,
          50.980356,
          51.137468,
          59.16986,
          54.901257,
          45.279647,
          46.043338,
          48.627891,
          49.51604,
          45.043715,
          60.736519,
          56.513608,
          59.486633,
          60.232765,
          50.207003,
          50.206166,
          56.792274,
          49.925981,
          41.212474,
          42.504563,
          45.084727,
          43.327069,
          44.271694,
          44.44337,
          44.435264,
          45.002316,
          45.299682,
          47.944941,
          43.852471,
          42.075429,
          44.476875,
          45.210679,
          42.931149,
          43.214854,
          -22.079979,
          34.894905,
          35.057995,
          34.997873,
          15.181599,
          16.291376,
          12.7164,
          7.507571,
          9.672135,
          9.810724,
          12.740098,
          11.751795,
          11.283901,
          8.287547,
          11.180725,
          8.87471,
          7.483814,
          16.44817,
          10.447499,
          11.578018,
          10.480176,
          17.164908,
          15.6704,
          12.547341,
          18.200552,
          12.235399,
          11.83682,
          8.66683,
          14.066117,
          14.726158,
          12.617776,
          14.376548,
          12.643956,
          13.00401,
          13.248898,
          16.657804,
          10.345122,
          9.024111,
          9.467219,
          13.258323,
          10.047122,
          8.769921,
          16.246287,
          14.869269,
          14.551073,
          12.253358,
          11.967091,
          9.717984,
          8.682752,
          8.556913,
          15.776727,
          11.651084,
          12.555826,
          13.084847,
          14.191305,
          15.879862,
          10.890152,
          14.828452,
          11.44767,
          10.963933,
          13.801546,
          10.307017,
          15.728767,
          13.876795,
          12.261537,
          12.677438,
          17.204848,
          -76.730353,
          -77.241585,
          35.631965,
          36.201654,
          36.304134,
          36.129431,
          36.073353,
          36.187462,
          139.095128,
          141.2454,
          130.991078,
          141.437617,
          139.103858,
          141.521831,
          136.660357,
          133.301771,
          139.617052,
          134.363342,
          139.726102,
          137.851451,
          139.343517,
          140.63287,
          136.496313,
          139.313666,
          141.731349,
          131.858976,
          136.080438,
          131.217994,
          131.000718,
          131.231146,
          131.00013,
          130.766147,
          137.78299,
          140.661828,
          130.854987,
          140.998707,
          127.925142,
          131.785153,
          131.760782,
          135.710523,
          52.120629,
          83.575126,
          69.647017,
          73.652932,
          73.044812,
          69.99013,
          80.182759,
          71.217605,
          69.734972,
          81.177586,
          39.633423,
          36.973584,
          37.055151,
          36.962209,
          39.716398,
          36.959825,
          39.845107,
          36.961717,
          36.957124,
          36.963062,
          74.874671,
          74.870767,
          72.59745,
          103.014868,
          104.527495,
          104.267917,
          104.513181,
          104.354834,
          128.302288,
          129.012789,
          128.34706,
          127.764807,
          129.362999,
          126.614855,
          129.056423,
          128.320636,
          128.283321,
          128.323912,
          128.478026,
          127.435748,
          127.102344,
          128.803508,
          126.618974,
          128.792171,
          127.065725,
          126.951333,
          126.825375,
          126.779968,
          129.179791,
          129.13202,
          127.763227,
          129.006504,
          129.053429,
          128.322076,
          128.334214,
          127.372937,
          127.718573,
          128.803974,
          126.678035,
          126.882041,
          128.685322,
          127.088756,
          126.95468,
          127.220261,
          126.82735,
          127.513171,
          129.385173,
          129.36919,
          48.146233,
          48.122343,
          105.217247,
          102.48007,
          104.99299,
          106.374667,
          102.488023,
          102.37123,
          35.723128,
          35.422609,
          35.73103,
          -10.788379,
          14.221548,
          14.325074,
          14.485477,
          20.132177,
          22.727181,
          14.499726,
          79.867313,
          80.24504,
          80.033891,
          81.196866,
          27.467536,
          22.917322,
          6.006684,
          5.999523,
          22.592287,
          113.586285,
          -7.147403,
          -6.136444,
          -9.15274,
          -8.502384,
          -9.104544,
          -13.418374,
          -8.606479,
          -5.117676,
          -2.347201,
          -7.53345,
          -7.748259,
          -5.432029,
          -5.494702,
          -2.944191,
          -5.915499,
          -6.949145,
          -13.337669,
          -12.893478,
          28.954486,
          46.305658,
          46.995926,
          -96.70478,
          -100.378977,
          -99.179188,
          -99.210899,
          -97.962802,
          -116.584585,
          -110.826386,
          -99.690335,
          -89.663822,
          -100.298078,
          -98.869286,
          -99.201001,
          -103.343402,
          -103.397265,
          -98.959692,
          -100.455768,
          -103.42713,
          -97.65888,
          -102.205333,
          -95.068016,
          -99.328073,
          -99.021412,
          -99.17914,
          -99.194761,
          -106.087428,
          -106.449726,
          -106.478933,
          -99.830602,
          -99.18218,
          -92.443604,
          -97.041198,
          -100.865863,
          -110.712698,
          -103.872494,
          21.457449,
          -8.171903,
          -8.179746,
          -8.214476,
          97.832081,
          96.255537,
          96.235897,
          97.139538,
          97.596823,
          96.256347,
          96.397157,
          95.180193,
          96.300802,
          95.185552,
          97.587079,
          96.703721,
          105.578404,
          108.95219,
          110.79477,
          107.021084,
          105.979236,
          34.758298,
          32.487886,
          40.676866,
          32.485549,
          34.729786,
          32.407726,
          34.840566,
          40.665676,
          -16.008808,
          -16.003181,
          -16.010825,
          -16.023314,
          -61.058047,
          35.027291,
          33.720562,
          113.082756,
          110.39107,
          110.342447,
          116.130332,
          101.078734,
          101.09088,
          101.104468,
          102.394371,
          100.257447,
          101.11266,
          99.765314,
          101.573189,
          103.913292,
          103.91018,
          100.823716,
          103.138844,
          103.915153,
          101.329905,
          17.449558,
          16.675476,
          166.415265,
          5.51864,
          6.365774,
          6.401469,
          5.171114,
          8.975232,
          3.047604,
          6.425156,
          11.477114,
          3.205342,
          3.621188,
          3.207143,
          8.325949,
          -86.424014,
          -86.335132,
          -86.500882,
          4.599769,
          4.621188,
          4.245884,
          16.375326,
          9.69024,
          81.642071,
          84.907069,
          83.409355,
          82.508701,
          85.013407,
          83.836998,
          86.279946,
          83.687655,
          82.378918,
          84.917754,
          83.365444,
          83.86537,
          88.078597,
          83.373941,
          83.37289,
          85.105736,
          86.631341,
          85.144213,
          174.332897,
          58.282538,
          53.987728,
          68.215568,
          72.095823,
          72.721614,
          72.924369,
          72.831164,
          72.872128,
          72.775661,
          70.538435,
          72.816963,
          66.784087,
          72.976899,
          72.863033,
          67.474854,
          72.713367,
          72.859164,
          72.565983,
          73.142329,
          71.91052,
          71.549005,
          71.590321,
          70.73464,
          67.494014,
          67.672503,
          66.914996,
          72.14237,
          67.703129,
          68.891452,
          67.843569,
          68.396246,
          -79.536857,
          -79.658859,
          -79.753479,
          -76.90018,
          -79.554205,
          -80.716113,
          -77.273442,
          -70.113283,
          -71.683969,
          -75.778032,
          -76.908435,
          121.205298,
          121.183907,
          121.088456,
          121.091085,
          123.704637,
          124.020879,
          123.746854,
          121.206163,
          121.068316,
          123.611692,
          121.07531,
          125.653605,
          124.254546,
          120.335164,
          120.940792,
          120.568629,
          123.700111,
          124.264068,
          124.021088,
          146.988371,
          20.529912,
          21.676587,
          23.222887,
          20.116675,
          17.913589,
          18.933526,
          23.545301,
          19.256245,
          18.50838,
          17.977889,
          19.269223,
          20.272697,
          17.99014,
          -66.638766,
          -66.297463,
          127.214277,
          126.022626,
          -9.009904,
          -8.100041,
          -8.418212,
          -25.611685,
          -8.905132,
          -8.987387,
          -8.935936,
          -8.839025,
          -8.792887,
          -57.537517,
          -57.956166,
          -57.565086,
          51.567064,
          50.849577,
          50.930064,
          55.289803,
          25.283033,
          28.310338,
          23.227145,
          22.8678,
          25.416704,
          26.073971,
          22.332579,
          25.110988,
          23.781376,
          62.056043,
          61.196847,
          40.194763,
          37.762677,
          36.555284,
          34.407597,
          42.00998,
          58.201148,
          39.632835,
          60.145025,
          48.360166,
          34.14676,
          39.633608,
          38.922525,
          48.738773,
          49.4198,
          45.870756,
          28.133623,
          55.970997,
          28.191385,
          37.341077,
          37.693727,
          92.920567,
          106.590987,
          85.592562,
          47.440041,
          38.83226,
          36.807864,
          37.822901,
          37.807856,
          37.669363,
          87.113177,
          58.384833,
          132.782978,
          131.894633,
          128.965384,
          85.528192,
          38.871206,
          90.409886,
          58.327614,
          83.307465,
          43.237692,
          58.984563,
          61.448978,
          32.358823,
          103.900398,
          58.233304,
          41.245132,
          47.482776,
          37.678515,
          150.787437,
          31.680077,
          88.250922,
          37.567339,
          64.069373,
          32.358116,
          29.017681,
          43.963161,
          42.5382,
          41.744553,
          43.050926,
          35.538492,
          37.56333,
          38.682657,
          39.435698,
          39.083516,
          45.544208,
          49.145316,
          43.195165,
          45.356573,
          39.130651,
          49.517435,
          46.300176,
          39.827264,
          46.776293,
          43.773963,
          33.993368,
          33.839672,
          33.994291,
          33.802454,
          34.046298,
          32.728836,
          -17.010887,
          -17.041497,
          -17.248087,
          -13.204029,
          -89.500665,
          -89.532735,
          21.510545,
          19.707231,
          19.889039,
          -55.150653,
          17.190668,
          20.84275,
          18.10217,
          18.292718,
          15.034872,
          13.628007,
          13.826921,
          18.804074,
          31.303701,
          36.563859,
          37.013152,
          37.144375,
          36.750999,
          37.176797,
          36.700006,
          35.892467,
          37.20891,
          38.681253,
          15.047131,
          14.602926,
          1.573569,
          1.2881,
          1.221515,
          1.516339,
          100.906317,
          100.803369,
          99.95126,
          100.364093,
          101.039987,
          99.572077,
          99.677655,
          100.763862,
          101.126496,
          101.087613,
          99.952379,
          68.774501,
          66.327294,
          54.302807,
          57.658348,
          57.664999,
          -61.461251,
          10.202186,
          9.993386,
          10.026738,
          10.316942,
          9.850271,
          8.592552,
          8.530006,
          10.287052,
          10.07932,
          30.441765,
          43.901166,
          39.658071,
          29.925373,
          40.669025,
          43.237709,
          39.40425,
          27.437337,
          27.263922,
          29.22479,
          43.007643,
          39.235352,
          27.217029,
          26.702448,
          35.765596,
          30.299628,
          34.761953,
          34.684355,
          33.134488,
          30.492029,
          35.884591,
          28.556386,
          26.244503,
          32.634665,
          36.099433,
          37.157274,
          27.878935,
          30.610509,
          32.756024,
          27.5048,
          39.743449,
          37.430184,
          41.702529,
          38.731672,
          40.269673,
          42.174212,
          37.020293,
          33.729843,
          29.601777,
          35.451695,
          29.361452,
          31.783672,
          32.650947,
          29.37244,
          40.802231,
          37.324142,
          36.228301,
          31.449878000000002,
          38.727638,
          32.307311,
          38.086389,
          37.162784,
          31.428304,
          27.498992,
          36.00214,
          36.29338,
          27.969977,
          27.686888,
          33.191786,
          32.533761,
          33.144332,
          34.674394,
          36.938372,
          35.036251,
          36.257755,
          41.568589,
          29.718902,
          28.669124,
          29.457474,
          121.636743,
          121.753512,
          121.637525,
          121.851615,
          121.138184,
          121.825228,
          39.021158,
          39.269515,
          40.038862,
          33.241146,
          39.166959,
          39.522639,
          38.996714,
          30.181853,
          34.179319,
          34.156213,
          32.854014,
          26.260335,
          31.758953,
          23.948406,
          26.604646,
          30.675359,
          34.583111,
          33.440124,
          38.479859,
          36.74199,
          37.544124,
          33.862199,
          24.710875,
          -55.284705,
          -58.077014,
          -56.218247,
          -98.374994,
          -89.537885,
          -85.34367,
          -90.337427,
          -86.867685,
          -100.457576,
          -95.223425,
          -75.271596,
          -82.025558,
          -95.460495,
          -111.922081,
          -117.42168,
          -94.420652,
          -96.15416,
          -112.197506,
          -122.342701,
          -97.006754,
          -82.850364,
          -98.420966,
          -97.240875,
          -76.76876,
          -82.430867,
          -83.633103,
          -87.814993,
          -83.834219,
          -105.23641,
          -80.420227,
          -98.184297,
          -85.906374,
          -117.303068,
          -82.47259,
          -112.374353,
          -83.965789,
          -94.39796,
          -95.811902,
          -89.081771,
          -105.603709,
          -119.263039,
          -69.157138,
          -80.442063,
          -75.398862,
          -86.79896,
          -82.581724,
          -80.452378,
          -77.978002,
          -84.469475,
          -82.560302,
          -82.442202,
          -111.474759,
          -102.546613,
          -103.271001,
          -104.606057,
          -106.391982,
          -86.43344,
          -85.749812,
          -122.091704,
          -75.894313,
          -73.619036,
          -86.543829,
          -93.212511,
          -86.456875,
          -122.32239,
          -118.369208,
          -77.171631,
          -97.857287,
          -75.124692,
          -122.524762,
          -75.320463,
          -73.913151,
          -90.25769,
          -96.697286,
          -105.017592,
          -77.680576,
          -80.430594,
          -96.972477,
          -111.531617,
          -88.112289,
          -83.405173,
          -88.87899,
          -84.605239,
          -73.813608,
          -75.506226,
          -87.570676,
          -83.84041,
          -76.464804,
          -122.344803,
          -97.02502,
          -98.040099,
          -116.854593,
          -95.432306,
          -112.083155,
          -79.699466,
          -91.314585,
          -90.695638,
          -117.336373,
          -118.314341,
          -111.151751,
          -79.995105,
          -80.377344,
          -118.7499,
          -86.154991,
          -85.299328,
          -89.455077,
          -83.135752,
          -87.896528,
          69.65255,
          65.291636,
          69.219896,
          71.975405,
          69.048156,
          70.791587,
          70.755297,
          67.373329,
          60.461474,
          -72.489518,
          -63.310672,
          -69.311738,
          -71.61625,
          -66.800027,
          -64.559127,
          -72.257487,
          -70.420148,
          -69.324507,
          -67.240061,
          -62.824383,
          109.145511,
          105.847626,
          106.755797,
          106.740599,
          107.370252,
          105.941269,
          105.941275,
          106.394197,
          105.881301,
          105.65369,
          105.350969,
          106.492178,
          106.77551,
          105.886442,
          105.91308,
          105.910951,
          106.557164,
          105.93705,
          107.4662,
          108.117788,
          105.139037,
          106.705675,
          107.043731,
          106.737668,
          106.279702,
          106.265715,
          104.601467,
          106.815725,
          106.777635,
          106.736921,
          107.022841,
          105.720216,
          105.789349,
          105.206246,
          105.221656,
          105.625768,
          106.334861,
          106.49309,
          105.65744,
          106.543848,
          105.901139,
          105.637605,
          105.901182,
          106.549508,
          107.092336,
          105.155393,
          105.884771,
          105.867149,
          104.618284,
          106.58935,
          105.705509,
          105.874093,
          106.812486,
          109.12489,
          106.48492,
          106.756953,
          108.122981,
          105.88085,
          105.470274,
          105.772523,
          107.255375,
          104.974329,
          104.959888,
          105.066733,
          105.721416,
          105.902052,
          107.860024,
          106.296905,
          104.132001,
          106.665821,
          107.024544,
          107.047118,
          105.850976,
          21.300077,
          49.164908,
          44.753011,
          45.314548,
          43.921802,
          43.25929,
          43.726776,
          25.993887,
          24.21603,
          27.884593,
          25.642633,
          25.851686,
          28.692849,
          30.345507,
          30.950533,
          30.021241,
          26.183382,
          27.662877,
          32.019933,
          27.546179,
          28.121422,
          23.508606,
          26.832972,
          25.603337,
          28.169487,
          18.84611,
          25.843734,
          28.492053,
          28.778742,
          28.687307,
          28.270728,
          28.166468,
          28.70316,
          31.198167,
          28.685907,
          29.212761,
          31.156976,
          30.050341,
          29.767309
         ],
         "marker": {
          "color": "fuchsia"
         },
         "mode": "markers",
         "name": "",
         "showlegend": false,
         "subplot": "mapbox",
         "type": "scattermapbox"
        }
       ],
       "layout": {
        "height": 560,
        "legend": {
         "tracegroupgap": 0
        },
        "mapbox": {
         "center": {
          "lat": 27.139950808790502,
          "lon": 60.23199941803016
         },
         "domain": {
          "x": [
           0,
           1
          ],
          "y": [
           0,
           1
          ]
         },
         "style": "open-street-map",
         "zoom": 1
        },
        "margin": {
         "b": 0,
         "l": 0,
         "r": 0,
         "t": 0
        },
        "template": {
         "data": {
          "bar": [
           {
            "error_x": {
             "color": "#2a3f5f"
            },
            "error_y": {
             "color": "#2a3f5f"
            },
            "marker": {
             "line": {
              "color": "#E5ECF6",
              "width": 0.5
             },
             "pattern": {
              "fillmode": "overlay",
              "size": 10,
              "solidity": 0.2
             }
            },
            "type": "bar"
           }
          ],
          "barpolar": [
           {
            "marker": {
             "line": {
              "color": "#E5ECF6",
              "width": 0.5
             },
             "pattern": {
              "fillmode": "overlay",
              "size": 10,
              "solidity": 0.2
             }
            },
            "type": "barpolar"
           }
          ],
          "carpet": [
           {
            "aaxis": {
             "endlinecolor": "#2a3f5f",
             "gridcolor": "white",
             "linecolor": "white",
             "minorgridcolor": "white",
             "startlinecolor": "#2a3f5f"
            },
            "baxis": {
             "endlinecolor": "#2a3f5f",
             "gridcolor": "white",
             "linecolor": "white",
             "minorgridcolor": "white",
             "startlinecolor": "#2a3f5f"
            },
            "type": "carpet"
           }
          ],
          "choropleth": [
           {
            "colorbar": {
             "outlinewidth": 0,
             "ticks": ""
            },
            "type": "choropleth"
           }
          ],
          "contour": [
           {
            "colorbar": {
             "outlinewidth": 0,
             "ticks": ""
            },
            "colorscale": [
             [
              0,
              "#0d0887"
             ],
             [
              0.1111111111111111,
              "#46039f"
             ],
             [
              0.2222222222222222,
              "#7201a8"
             ],
             [
              0.3333333333333333,
              "#9c179e"
             ],
             [
              0.4444444444444444,
              "#bd3786"
             ],
             [
              0.5555555555555556,
              "#d8576b"
             ],
             [
              0.6666666666666666,
              "#ed7953"
             ],
             [
              0.7777777777777778,
              "#fb9f3a"
             ],
             [
              0.8888888888888888,
              "#fdca26"
             ],
             [
              1,
              "#f0f921"
             ]
            ],
            "type": "contour"
           }
          ],
          "contourcarpet": [
           {
            "colorbar": {
             "outlinewidth": 0,
             "ticks": ""
            },
            "type": "contourcarpet"
           }
          ],
          "heatmap": [
           {
            "colorbar": {
             "outlinewidth": 0,
             "ticks": ""
            },
            "colorscale": [
             [
              0,
              "#0d0887"
             ],
             [
              0.1111111111111111,
              "#46039f"
             ],
             [
              0.2222222222222222,
              "#7201a8"
             ],
             [
              0.3333333333333333,
              "#9c179e"
             ],
             [
              0.4444444444444444,
              "#bd3786"
             ],
             [
              0.5555555555555556,
              "#d8576b"
             ],
             [
              0.6666666666666666,
              "#ed7953"
             ],
             [
              0.7777777777777778,
              "#fb9f3a"
             ],
             [
              0.8888888888888888,
              "#fdca26"
             ],
             [
              1,
              "#f0f921"
             ]
            ],
            "type": "heatmap"
           }
          ],
          "heatmapgl": [
           {
            "colorbar": {
             "outlinewidth": 0,
             "ticks": ""
            },
            "colorscale": [
             [
              0,
              "#0d0887"
             ],
             [
              0.1111111111111111,
              "#46039f"
             ],
             [
              0.2222222222222222,
              "#7201a8"
             ],
             [
              0.3333333333333333,
              "#9c179e"
             ],
             [
              0.4444444444444444,
              "#bd3786"
             ],
             [
              0.5555555555555556,
              "#d8576b"
             ],
             [
              0.6666666666666666,
              "#ed7953"
             ],
             [
              0.7777777777777778,
              "#fb9f3a"
             ],
             [
              0.8888888888888888,
              "#fdca26"
             ],
             [
              1,
              "#f0f921"
             ]
            ],
            "type": "heatmapgl"
           }
          ],
          "histogram": [
           {
            "marker": {
             "pattern": {
              "fillmode": "overlay",
              "size": 10,
              "solidity": 0.2
             }
            },
            "type": "histogram"
           }
          ],
          "histogram2d": [
           {
            "colorbar": {
             "outlinewidth": 0,
             "ticks": ""
            },
            "colorscale": [
             [
              0,
              "#0d0887"
             ],
             [
              0.1111111111111111,
              "#46039f"
             ],
             [
              0.2222222222222222,
              "#7201a8"
             ],
             [
              0.3333333333333333,
              "#9c179e"
             ],
             [
              0.4444444444444444,
              "#bd3786"
             ],
             [
              0.5555555555555556,
              "#d8576b"
             ],
             [
              0.6666666666666666,
              "#ed7953"
             ],
             [
              0.7777777777777778,
              "#fb9f3a"
             ],
             [
              0.8888888888888888,
              "#fdca26"
             ],
             [
              1,
              "#f0f921"
             ]
            ],
            "type": "histogram2d"
           }
          ],
          "histogram2dcontour": [
           {
            "colorbar": {
             "outlinewidth": 0,
             "ticks": ""
            },
            "colorscale": [
             [
              0,
              "#0d0887"
             ],
             [
              0.1111111111111111,
              "#46039f"
             ],
             [
              0.2222222222222222,
              "#7201a8"
             ],
             [
              0.3333333333333333,
              "#9c179e"
             ],
             [
              0.4444444444444444,
              "#bd3786"
             ],
             [
              0.5555555555555556,
              "#d8576b"
             ],
             [
              0.6666666666666666,
              "#ed7953"
             ],
             [
              0.7777777777777778,
              "#fb9f3a"
             ],
             [
              0.8888888888888888,
              "#fdca26"
             ],
             [
              1,
              "#f0f921"
             ]
            ],
            "type": "histogram2dcontour"
           }
          ],
          "mesh3d": [
           {
            "colorbar": {
             "outlinewidth": 0,
             "ticks": ""
            },
            "type": "mesh3d"
           }
          ],
          "parcoords": [
           {
            "line": {
             "colorbar": {
              "outlinewidth": 0,
              "ticks": ""
             }
            },
            "type": "parcoords"
           }
          ],
          "pie": [
           {
            "automargin": true,
            "type": "pie"
           }
          ],
          "scatter": [
           {
            "fillpattern": {
             "fillmode": "overlay",
             "size": 10,
             "solidity": 0.2
            },
            "type": "scatter"
           }
          ],
          "scatter3d": [
           {
            "line": {
             "colorbar": {
              "outlinewidth": 0,
              "ticks": ""
             }
            },
            "marker": {
             "colorbar": {
              "outlinewidth": 0,
              "ticks": ""
             }
            },
            "type": "scatter3d"
           }
          ],
          "scattercarpet": [
           {
            "marker": {
             "colorbar": {
              "outlinewidth": 0,
              "ticks": ""
             }
            },
            "type": "scattercarpet"
           }
          ],
          "scattergeo": [
           {
            "marker": {
             "colorbar": {
              "outlinewidth": 0,
              "ticks": ""
             }
            },
            "type": "scattergeo"
           }
          ],
          "scattergl": [
           {
            "marker": {
             "colorbar": {
              "outlinewidth": 0,
              "ticks": ""
             }
            },
            "type": "scattergl"
           }
          ],
          "scattermapbox": [
           {
            "marker": {
             "colorbar": {
              "outlinewidth": 0,
              "ticks": ""
             }
            },
            "type": "scattermapbox"
           }
          ],
          "scatterpolar": [
           {
            "marker": {
             "colorbar": {
              "outlinewidth": 0,
              "ticks": ""
             }
            },
            "type": "scatterpolar"
           }
          ],
          "scatterpolargl": [
           {
            "marker": {
             "colorbar": {
              "outlinewidth": 0,
              "ticks": ""
             }
            },
            "type": "scatterpolargl"
           }
          ],
          "scatterternary": [
           {
            "marker": {
             "colorbar": {
              "outlinewidth": 0,
              "ticks": ""
             }
            },
            "type": "scatterternary"
           }
          ],
          "surface": [
           {
            "colorbar": {
             "outlinewidth": 0,
             "ticks": ""
            },
            "colorscale": [
             [
              0,
              "#0d0887"
             ],
             [
              0.1111111111111111,
              "#46039f"
             ],
             [
              0.2222222222222222,
              "#7201a8"
             ],
             [
              0.3333333333333333,
              "#9c179e"
             ],
             [
              0.4444444444444444,
              "#bd3786"
             ],
             [
              0.5555555555555556,
              "#d8576b"
             ],
             [
              0.6666666666666666,
              "#ed7953"
             ],
             [
              0.7777777777777778,
              "#fb9f3a"
             ],
             [
              0.8888888888888888,
              "#fdca26"
             ],
             [
              1,
              "#f0f921"
             ]
            ],
            "type": "surface"
           }
          ],
          "table": [
           {
            "cells": {
             "fill": {
              "color": "#EBF0F8"
             },
             "line": {
              "color": "white"
             }
            },
            "header": {
             "fill": {
              "color": "#C8D4E3"
             },
             "line": {
              "color": "white"
             }
            },
            "type": "table"
           }
          ]
         },
         "layout": {
          "annotationdefaults": {
           "arrowcolor": "#2a3f5f",
           "arrowhead": 0,
           "arrowwidth": 1
          },
          "autotypenumbers": "strict",
          "coloraxis": {
           "colorbar": {
            "outlinewidth": 0,
            "ticks": ""
           }
          },
          "colorscale": {
           "diverging": [
            [
             0,
             "#8e0152"
            ],
            [
             0.1,
             "#c51b7d"
            ],
            [
             0.2,
             "#de77ae"
            ],
            [
             0.3,
             "#f1b6da"
            ],
            [
             0.4,
             "#fde0ef"
            ],
            [
             0.5,
             "#f7f7f7"
            ],
            [
             0.6,
             "#e6f5d0"
            ],
            [
             0.7,
             "#b8e186"
            ],
            [
             0.8,
             "#7fbc41"
            ],
            [
             0.9,
             "#4d9221"
            ],
            [
             1,
             "#276419"
            ]
           ],
           "sequential": [
            [
             0,
             "#0d0887"
            ],
            [
             0.1111111111111111,
             "#46039f"
            ],
            [
             0.2222222222222222,
             "#7201a8"
            ],
            [
             0.3333333333333333,
             "#9c179e"
            ],
            [
             0.4444444444444444,
             "#bd3786"
            ],
            [
             0.5555555555555556,
             "#d8576b"
            ],
            [
             0.6666666666666666,
             "#ed7953"
            ],
            [
             0.7777777777777778,
             "#fb9f3a"
            ],
            [
             0.8888888888888888,
             "#fdca26"
            ],
            [
             1,
             "#f0f921"
            ]
           ],
           "sequentialminus": [
            [
             0,
             "#0d0887"
            ],
            [
             0.1111111111111111,
             "#46039f"
            ],
            [
             0.2222222222222222,
             "#7201a8"
            ],
            [
             0.3333333333333333,
             "#9c179e"
            ],
            [
             0.4444444444444444,
             "#bd3786"
            ],
            [
             0.5555555555555556,
             "#d8576b"
            ],
            [
             0.6666666666666666,
             "#ed7953"
            ],
            [
             0.7777777777777778,
             "#fb9f3a"
            ],
            [
             0.8888888888888888,
             "#fdca26"
            ],
            [
             1,
             "#f0f921"
            ]
           ]
          },
          "colorway": [
           "#636efa",
           "#EF553B",
           "#00cc96",
           "#ab63fa",
           "#FFA15A",
           "#19d3f3",
           "#FF6692",
           "#B6E880",
           "#FF97FF",
           "#FECB52"
          ],
          "font": {
           "color": "#2a3f5f"
          },
          "geo": {
           "bgcolor": "white",
           "lakecolor": "white",
           "landcolor": "#E5ECF6",
           "showlakes": true,
           "showland": true,
           "subunitcolor": "white"
          },
          "hoverlabel": {
           "align": "left"
          },
          "hovermode": "closest",
          "mapbox": {
           "style": "light"
          },
          "paper_bgcolor": "white",
          "plot_bgcolor": "#E5ECF6",
          "polar": {
           "angularaxis": {
            "gridcolor": "white",
            "linecolor": "white",
            "ticks": ""
           },
           "bgcolor": "#E5ECF6",
           "radialaxis": {
            "gridcolor": "white",
            "linecolor": "white",
            "ticks": ""
           }
          },
          "scene": {
           "xaxis": {
            "backgroundcolor": "#E5ECF6",
            "gridcolor": "white",
            "gridwidth": 2,
            "linecolor": "white",
            "showbackground": true,
            "ticks": "",
            "zerolinecolor": "white"
           },
           "yaxis": {
            "backgroundcolor": "#E5ECF6",
            "gridcolor": "white",
            "gridwidth": 2,
            "linecolor": "white",
            "showbackground": true,
            "ticks": "",
            "zerolinecolor": "white"
           },
           "zaxis": {
            "backgroundcolor": "#E5ECF6",
            "gridcolor": "white",
            "gridwidth": 2,
            "linecolor": "white",
            "showbackground": true,
            "ticks": "",
            "zerolinecolor": "white"
           }
          },
          "shapedefaults": {
           "line": {
            "color": "#2a3f5f"
           }
          },
          "ternary": {
           "aaxis": {
            "gridcolor": "white",
            "linecolor": "white",
            "ticks": ""
           },
           "baxis": {
            "gridcolor": "white",
            "linecolor": "white",
            "ticks": ""
           },
           "bgcolor": "#E5ECF6",
           "caxis": {
            "gridcolor": "white",
            "linecolor": "white",
            "ticks": ""
           }
          },
          "title": {
           "x": 0.05
          },
          "xaxis": {
           "automargin": true,
           "gridcolor": "white",
           "linecolor": "white",
           "ticks": "",
           "title": {
            "standoff": 15
           },
           "zerolinecolor": "white",
           "zerolinewidth": 2
          },
          "yaxis": {
           "automargin": true,
           "gridcolor": "white",
           "linecolor": "white",
           "ticks": "",
           "title": {
            "standoff": 15
           },
           "zerolinecolor": "white",
           "zerolinewidth": 2
          }
         }
        },
        "width": 1000
       }
      }
     },
     "metadata": {},
     "output_type": "display_data"
    }
   ],
   "source": [
    "import plotly.express as px\n",
    "\n",
    "fig = px.scatter_mapbox(cement, lat=\"latitude\", lon=\"longitude\", hover_name=\"uid\", hover_data=[\"city\", \"country\"],\n",
    "                        color_discrete_sequence=[\"fuchsia\"], \n",
    "                        zoom=1, \n",
    "                        height=560,width=1000)\n",
    "fig.update_layout(mapbox_style=\"open-street-map\")\n",
    "fig.update_layout(margin={\"r\":0,\"t\":0,\"l\":0,\"b\":0})\n",
    "fig.show()"
   ]
  },
  {
   "cell_type": "code",
   "execution_count": null,
   "metadata": {},
   "outputs": [],
   "source": []
  }
 ],
 "metadata": {
  "kernelspec": {
   "display_name": "align_env",
   "language": "python",
   "name": "python3"
  },
  "language_info": {
   "codemirror_mode": {
    "name": "ipython",
    "version": 3
   },
   "file_extension": ".py",
   "mimetype": "text/x-python",
   "name": "python",
   "nbconvert_exporter": "python",
   "pygments_lexer": "ipython3",
   "version": "3.9.13"
  },
  "orig_nbformat": 4
 },
 "nbformat": 4,
 "nbformat_minor": 2
}
