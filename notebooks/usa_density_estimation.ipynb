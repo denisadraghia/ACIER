{
 "cells": [
  {
   "cell_type": "markdown",
   "metadata": {},
   "source": [
    "This notebook computes an a posteriori distribution for the steel sector in the US. Please, start with the second part where the normalizing constant is computed."
   ]
  },
  {
   "cell_type": "code",
   "execution_count": 1,
   "metadata": {},
   "outputs": [],
   "source": [
    "\n",
    "import pandas as pd\n",
    "import numpy as np\n",
    "import src.utils"
   ]
  },
  {
   "cell_type": "code",
   "execution_count": 3,
   "metadata": {},
   "outputs": [],
   "source": [
    "from GSPTDataset import GSPTDataset\n",
    "gspt = GSPTDataset(data_path=\"Global-Steel-Plant-Tracker-2023-03-2.xlsx\",\n",
    "                        missing_years_path=\"filled_missing_start_years.xlsx\",\n",
    "                        version_year=2023,\n",
    "                       gspt2gspt_path=\"GSPT2GSPT.json\")\n",
    "\n",
    "from functions import get_cartesian, coordinates_change, f, transform_coordinates_to_lat_long\n"
   ]
  },
  {
   "cell_type": "code",
   "execution_count": null,
   "metadata": {},
   "outputs": [],
   "source": [
    "df_gspt= gspt.get_operating_plants(start_year=2019,melt=True)\n",
    "df_gspt=df_gspt.drop_duplicates([\"Coordinates\"])\n"
   ]
  },
  {
   "cell_type": "code",
   "execution_count": 5,
   "metadata": {},
   "outputs": [],
   "source": [
    "steel_coordinates=coordinates_change(df_gspt)\n",
    "tuple_steel=[tuple(c) for c in steel_coordinates]"
   ]
  },
  {
   "cell_type": "code",
   "execution_count": 6,
   "metadata": {},
   "outputs": [],
   "source": [
    "import tqdm\n",
    "from joblib import Parallel,delayed\n",
    "from tqdm import tqdm\n",
    "from functions import geo\n",
    "from geopy.distance import geodesic,great_circle\n",
    "from functions import geo_great_circle,geo, list_coordinates, geo_great_circle, geo_great_circle_gaussian_kernel"
   ]
  },
  {
   "cell_type": "code",
   "execution_count": 7,
   "metadata": {},
   "outputs": [],
   "source": [
    "\"\"\"We start with the USA LitPop database with 5 minutes resolution\"\"\"\n",
    "usa_litpop=pd.read_hdf(\"C:\\\\Users\\\\Denisa.draghia\\\\Downloads\\\\climada_python-1.2.0\\\\climada_python-1.2.0\\\\data\\\\results\\\\5 minutes\\\\LitPop_pc_300_arcsec_USA_v1.hdf5\")\n",
    "usa_litpop=usa_litpop.drop(columns=['geometry','region_id','impf_'])\n",
    "usa_litpop_coordinates=usa_litpop[['latitude','longitude']]"
   ]
  },
  {
   "cell_type": "code",
   "execution_count": 8,
   "metadata": {},
   "outputs": [],
   "source": [
    "list_usa=[tuple(row) for row in usa_litpop_coordinates.to_records(index=False)]"
   ]
  },
  {
   "cell_type": "code",
   "execution_count": 9,
   "metadata": {},
   "outputs": [
    {
     "name": "stderr",
     "output_type": "stream",
     "text": [
      "100%|██████████| 160785/160785 [05:15<00:00, 510.26it/s]\n"
     ]
    }
   ],
   "source": [
    "funk= lambda x: geo_great_circle(lat_lon=x,h=100, tuple_steel=tuple_steel)\n",
    "a=Parallel(n_jobs=-1)(delayed(funk)(c) for c in tqdm(list_usa))"
   ]
  },
  {
   "cell_type": "code",
   "execution_count": 12,
   "metadata": {},
   "outputs": [
    {
     "name": "stderr",
     "output_type": "stream",
     "text": [
      "c:\\Users\\Denisa.draghia\\.virtualenvs\\Denisa.draghia-IwxA2Vx_\\lib\\site-packages\\pandas\\core\\arraylike.py:396: RuntimeWarning: divide by zero encountered in log\n",
      "  result = getattr(ufunc, method)(*inputs, **kwargs)\n"
     ]
    }
   ],
   "source": [
    "usa_litpop['bayesian_update']=pd.DataFrame(a)\n",
    "usa_litpop['numerator']=np.where(usa_litpop['value'] == 0, 0, np.exp(np.log(usa_litpop['value']) + usa_litpop['bayesian_update'] ))\n",
    "usa_litpop['a_posteriori_distribution']=usa_litpop['numerator']/98873995047.30652"
   ]
  },
  {
   "cell_type": "code",
   "execution_count": 14,
   "metadata": {},
   "outputs": [
    {
     "data": {
      "text/html": [
       "<div>\n",
       "<style scoped>\n",
       "    .dataframe tbody tr th:only-of-type {\n",
       "        vertical-align: middle;\n",
       "    }\n",
       "\n",
       "    .dataframe tbody tr th {\n",
       "        vertical-align: top;\n",
       "    }\n",
       "\n",
       "    .dataframe thead th {\n",
       "        text-align: right;\n",
       "    }\n",
       "</style>\n",
       "<table border=\"1\" class=\"dataframe\">\n",
       "  <thead>\n",
       "    <tr style=\"text-align: right;\">\n",
       "      <th></th>\n",
       "      <th>value</th>\n",
       "      <th>latitude</th>\n",
       "      <th>longitude</th>\n",
       "      <th>bayesian_update</th>\n",
       "      <th>numerator</th>\n",
       "      <th>a_posteriori_distribution</th>\n",
       "    </tr>\n",
       "  </thead>\n",
       "  <tbody>\n",
       "    <tr>\n",
       "      <th>0</th>\n",
       "      <td>0.000000</td>\n",
       "      <td>51.375000</td>\n",
       "      <td>-178.958333</td>\n",
       "      <td>-9.659901</td>\n",
       "      <td>0.000000</td>\n",
       "      <td>0.000000e+00</td>\n",
       "    </tr>\n",
       "    <tr>\n",
       "      <th>1</th>\n",
       "      <td>0.000000</td>\n",
       "      <td>51.875000</td>\n",
       "      <td>-178.208333</td>\n",
       "      <td>-9.668922</td>\n",
       "      <td>0.000000</td>\n",
       "      <td>0.000000e+00</td>\n",
       "    </tr>\n",
       "    <tr>\n",
       "      <th>2</th>\n",
       "      <td>0.000000</td>\n",
       "      <td>51.875000</td>\n",
       "      <td>-178.125000</td>\n",
       "      <td>-9.672842</td>\n",
       "      <td>0.000000</td>\n",
       "      <td>0.000000e+00</td>\n",
       "    </tr>\n",
       "    <tr>\n",
       "      <th>3</th>\n",
       "      <td>0.000000</td>\n",
       "      <td>51.875000</td>\n",
       "      <td>-178.041667</td>\n",
       "      <td>-9.676758</td>\n",
       "      <td>0.000000</td>\n",
       "      <td>0.000000e+00</td>\n",
       "    </tr>\n",
       "    <tr>\n",
       "      <th>4</th>\n",
       "      <td>0.000000</td>\n",
       "      <td>51.875000</td>\n",
       "      <td>-177.958333</td>\n",
       "      <td>-9.680673</td>\n",
       "      <td>0.000000</td>\n",
       "      <td>0.000000e+00</td>\n",
       "    </tr>\n",
       "    <tr>\n",
       "      <th>...</th>\n",
       "      <td>...</td>\n",
       "      <td>...</td>\n",
       "      <td>...</td>\n",
       "      <td>...</td>\n",
       "      <td>...</td>\n",
       "      <td>...</td>\n",
       "    </tr>\n",
       "    <tr>\n",
       "      <th>160780</th>\n",
       "      <td>0.000000</td>\n",
       "      <td>52.875000</td>\n",
       "      <td>173.041667</td>\n",
       "      <td>-9.199766</td>\n",
       "      <td>0.000000</td>\n",
       "      <td>0.000000e+00</td>\n",
       "    </tr>\n",
       "    <tr>\n",
       "      <th>160781</th>\n",
       "      <td>4348.029150</td>\n",
       "      <td>52.875000</td>\n",
       "      <td>173.125000</td>\n",
       "      <td>-9.203852</td>\n",
       "      <td>0.437633</td>\n",
       "      <td>4.426171e-12</td>\n",
       "    </tr>\n",
       "    <tr>\n",
       "      <th>160782</th>\n",
       "      <td>29688.926871</td>\n",
       "      <td>52.875000</td>\n",
       "      <td>173.208333</td>\n",
       "      <td>-9.207936</td>\n",
       "      <td>2.976040</td>\n",
       "      <td>3.009932e-11</td>\n",
       "    </tr>\n",
       "    <tr>\n",
       "      <th>160783</th>\n",
       "      <td>0.000000</td>\n",
       "      <td>52.791667</td>\n",
       "      <td>172.791667</td>\n",
       "      <td>-9.191016</td>\n",
       "      <td>0.000000</td>\n",
       "      <td>0.000000e+00</td>\n",
       "    </tr>\n",
       "    <tr>\n",
       "      <th>160784</th>\n",
       "      <td>0.000000</td>\n",
       "      <td>52.791667</td>\n",
       "      <td>172.958333</td>\n",
       "      <td>-9.199214</td>\n",
       "      <td>0.000000</td>\n",
       "      <td>0.000000e+00</td>\n",
       "    </tr>\n",
       "  </tbody>\n",
       "</table>\n",
       "<p>160785 rows × 6 columns</p>\n",
       "</div>"
      ],
      "text/plain": [
       "               value   latitude   longitude  bayesian_update  numerator  \\\n",
       "0           0.000000  51.375000 -178.958333        -9.659901   0.000000   \n",
       "1           0.000000  51.875000 -178.208333        -9.668922   0.000000   \n",
       "2           0.000000  51.875000 -178.125000        -9.672842   0.000000   \n",
       "3           0.000000  51.875000 -178.041667        -9.676758   0.000000   \n",
       "4           0.000000  51.875000 -177.958333        -9.680673   0.000000   \n",
       "...              ...        ...         ...              ...        ...   \n",
       "160780      0.000000  52.875000  173.041667        -9.199766   0.000000   \n",
       "160781   4348.029150  52.875000  173.125000        -9.203852   0.437633   \n",
       "160782  29688.926871  52.875000  173.208333        -9.207936   2.976040   \n",
       "160783      0.000000  52.791667  172.791667        -9.191016   0.000000   \n",
       "160784      0.000000  52.791667  172.958333        -9.199214   0.000000   \n",
       "\n",
       "        a_posteriori_distribution  \n",
       "0                    0.000000e+00  \n",
       "1                    0.000000e+00  \n",
       "2                    0.000000e+00  \n",
       "3                    0.000000e+00  \n",
       "4                    0.000000e+00  \n",
       "...                           ...  \n",
       "160780               0.000000e+00  \n",
       "160781               4.426171e-12  \n",
       "160782               3.009932e-11  \n",
       "160783               0.000000e+00  \n",
       "160784               0.000000e+00  \n",
       "\n",
       "[160785 rows x 6 columns]"
      ]
     },
     "execution_count": 14,
     "metadata": {},
     "output_type": "execute_result"
    }
   ],
   "source": [
    "usa_litpop"
   ]
  },
  {
   "cell_type": "code",
   "execution_count": null,
   "metadata": {},
   "outputs": [],
   "source": []
  },
  {
   "cell_type": "code",
   "execution_count": null,
   "metadata": {},
   "outputs": [],
   "source": [
    "'''It plots the a posteriori distribution obtained using an exponential kernel with parameter h=100'''\n",
    "import plotly.express as px\n",
    "fig = px.density_mapbox(usa_litpop, lat='latitude', lon='longitude', z='a_posteriori_distribution', radius=10,\n",
    "                        center=dict(lat=0, lon=180), zoom=0,\n",
    "                        mapbox_style=\"stamen-terrain\")\n",
    "fig.show()"
   ]
  },
  {
   "cell_type": "code",
   "execution_count": null,
   "metadata": {},
   "outputs": [],
   "source": [
    "import plotly.express as px\n",
    "fig = px.density_mapbox(usa_litpop, lat='latitude', lon='longitude', z='value', radius=10,\n",
    "                        center=dict(lat=0, lon=180), zoom=0,\n",
    "                        mapbox_style=\"stamen-terrain\")\n",
    "fig.show()"
   ]
  },
  {
   "cell_type": "markdown",
   "metadata": {},
   "source": [
    "Compute normalizing constant"
   ]
  },
  {
   "cell_type": "code",
   "execution_count": 16,
   "metadata": {},
   "outputs": [],
   "source": [
    "world=pd.read_csv(\"C:\\\\Users\\\\Denisa.draghia\\\\Downloads\\\\climada_python-1.2.0\\\\climada_python-1.2.0\\\\data\\\\results\\\\world_5 minutes.csv\")"
   ]
  },
  {
   "cell_type": "code",
   "execution_count": 11,
   "metadata": {},
   "outputs": [],
   "source": [
    "list_world=list_coordinates(world)"
   ]
  },
  {
   "cell_type": "code",
   "execution_count": null,
   "metadata": {},
   "outputs": [],
   "source": [
    "funk= lambda x: geo_great_circle(lat_lon=x,h=100, tuple_steel=tuple_steel)\n",
    "a=Parallel(n_jobs=-1)(delayed(funk)(c) for c in tqdm(list_world))"
   ]
  },
  {
   "cell_type": "code",
   "execution_count": 43,
   "metadata": {},
   "outputs": [],
   "source": [
    "world['bayesian_update']=pd.DataFrame(a)\n",
    "world['numerator']=np.where(world['value'] == 0, 0, np.exp(np.log(world['value']) + world['bayesian_update'] ))"
   ]
  },
  {
   "cell_type": "code",
   "execution_count": null,
   "metadata": {},
   "outputs": [
    {
     "data": {
      "text/plain": [
       "98873995047.30652"
      ]
     },
     "metadata": {},
     "output_type": "display_data"
    }
   ],
   "source": [
    "integral=world['numerator'].sum()\n",
    "world['a_posteriori_distribution']=world['numerator']/integral\n",
    "integral"
   ]
  },
  {
   "cell_type": "code",
   "execution_count": 53,
   "metadata": {},
   "outputs": [],
   "source": [
    "world.to_csv('wolrd_pn.csv')"
   ]
  }
 ],
 "metadata": {
  "kernelspec": {
   "display_name": "Denisa.draghia-IwxA2Vx_",
   "language": "python",
   "name": "python3"
  },
  "language_info": {
   "codemirror_mode": {
    "name": "ipython",
    "version": 3
   },
   "file_extension": ".py",
   "mimetype": "text/x-python",
   "name": "python",
   "nbconvert_exporter": "python",
   "pygments_lexer": "ipython3",
   "version": "3.9.13"
  },
  "orig_nbformat": 4
 },
 "nbformat": 4,
 "nbformat_minor": 2
}
