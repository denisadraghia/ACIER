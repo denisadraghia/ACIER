{
 "cells": [
  {
   "cell_type": "markdown",
   "metadata": {},
   "source": [
    "This notebook simulates coordinates using von Mises coordinates, centered in a vector obtained by fitting a von Mises distribution on the steel plants coordinates.\n",
    "After that in creates a corresponding list that tells us whether a coordinate is inland or not.\n",
    "This would have been used to compute the normalization factor by Importance Sampling, but finaly has not been used."
   ]
  },
  {
   "cell_type": "code",
   "execution_count": 14,
   "metadata": {},
   "outputs": [],
   "source": [
    "from functions import get_cartesian, coordinates_change, f, transform_coordinates_to_lat_long,globus\n",
    "from scipy.stats import vonmises_fisher\n",
    "import numpy as np\n",
    "import pandas as pd\n",
    "import global_land_mask"
   ]
  },
  {
   "cell_type": "code",
   "execution_count": 15,
   "metadata": {},
   "outputs": [],
   "source": [
    "world=pd.read_csv(\"C:\\\\Users\\\\Denisa.draghia\\\\Downloads\\\\climada_python-1.2.0\\\\climada_python-1.2.0\\\\data\\\\results\\\\world_5 minutes.csv\")"
   ]
  },
  {
   "cell_type": "code",
   "execution_count": 2,
   "metadata": {},
   "outputs": [],
   "source": [
    "from geopy.geocoders import Nominatim\n",
    "from global_land_mask import globe\n",
    "geolocator = Nominatim(user_agent=\"denisadraghia10@gmail.com\",timeout=10)\n",
    "from geopy.distance import geodesic\n",
    "from joblib import Parallel,delayed\n",
    "from geopy.extra.rate_limiter import RateLimiter\n",
    "geocode = RateLimiter(geolocator.geocode, min_delay_seconds=1)"
   ]
  },
  {
   "cell_type": "code",
   "execution_count": 3,
   "metadata": {},
   "outputs": [],
   "source": [
    "mu=np.array([0.00885352, 0.62104601, 0.7837241 ]) # obtained after fitting the von Mises distribution on steel\n",
    "rng = np.random.default_rng()"
   ]
  },
  {
   "cell_type": "code",
   "execution_count": 4,
   "metadata": {},
   "outputs": [],
   "source": [
    "def transf(p):\n",
    "    return transform_coordinates_to_lat_long(np.array([p]))"
   ]
  },
  {
   "cell_type": "code",
   "execution_count": null,
   "metadata": {},
   "outputs": [],
   "source": [
    "multiple_samples_cartesian = vonmises_fisher(mu, .5).rvs(100000, random_state=rng)\n",
    "simulated_lat_lon=list(map(transf,multiple_samples_cartesian))\n",
    "simulated_lat_lon"
   ]
  },
  {
   "cell_type": "code",
   "execution_count": 11,
   "metadata": {},
   "outputs": [
    {
     "name": "stderr",
     "output_type": "stream",
     "text": [
      "100%|██████████| 100000/100000 [00:07<00:00, 13181.41it/s]\n"
     ]
    }
   ],
   "source": [
    "from tqdm import tqdm\n",
    "a=list(map(globus,tqdm(simulated_lat_lon))) # a corresponding list that tells whether a coordinate\n",
    "#is inland or not."
   ]
  },
  {
   "cell_type": "code",
   "execution_count": 12,
   "metadata": {},
   "outputs": [
    {
     "data": {
      "text/plain": [
       "0.32958"
      ]
     },
     "execution_count": 12,
     "metadata": {},
     "output_type": "execute_result"
    }
   ],
   "source": [
    "sum(a)/len(a) # proportion of coordinates in land, ok."
   ]
  }
 ],
 "metadata": {
  "kernelspec": {
   "display_name": "Denisa.draghia-IwxA2Vx_",
   "language": "python",
   "name": "python3"
  },
  "language_info": {
   "codemirror_mode": {
    "name": "ipython",
    "version": 3
   },
   "file_extension": ".py",
   "mimetype": "text/x-python",
   "name": "python",
   "nbconvert_exporter": "python",
   "pygments_lexer": "ipython3",
   "version": "3.9.13"
  },
  "orig_nbformat": 4
 },
 "nbformat": 4,
 "nbformat_minor": 2
}
