{
 "cells": [
  {
   "cell_type": "code",
   "execution_count": 1,
   "metadata": {},
   "outputs": [],
   "source": [
    "import pandas as pd\n",
    "import numpy as np\n",
    "import matplotlib.pyplot as plt\n",
    "from sklearn.neighbors import KernelDensity\n",
    "from src.functions.exposures_dataset import database_exposure_country,plot_circle_proportion_in_land, correction_coast_factor,database_exposure_country_coast_corrected,haversine_distance\n",
    "from src.functions.basic_functions import coordinates_change\n",
    "from src.functions.weights import weigths_continent,weigths_continent2"
   ]
  },
  {
   "cell_type": "code",
   "execution_count": 8,
   "metadata": {},
   "outputs": [],
   "source": [
    "import warnings\n",
    "warnings.filterwarnings(\"ignore\")"
   ]
  },
  {
   "cell_type": "code",
   "execution_count": 7,
   "metadata": {},
   "outputs": [],
   "source": [
    "df_gspt=pd.read_csv(\"data\\\\clean_data\\\\steel_plants_continent_dataset.csv\")\n",
    "steel_plants=pd.read_csv(\"data\\\\clean_data\\\\steel_plants_continent_dataset.csv\")\n"
   ]
  },
  {
   "cell_type": "code",
   "execution_count": 13,
   "metadata": {},
   "outputs": [
    {
     "data": {
      "text/plain": [
       "0.375886524822695"
      ]
     },
     "execution_count": 13,
     "metadata": {},
     "output_type": "execute_result"
    }
   ],
   "source": [
    "len(df_gspt[df_gspt['more_than_50km']==False])/len(df_gspt) # 0.375886524822695"
   ]
  },
  {
   "cell_type": "code",
   "execution_count": null,
   "metadata": {},
   "outputs": [],
   "source": [
    "database_exposure_country_coast_corrected('india', 50, 'exponential')"
   ]
  },
  {
   "cell_type": "code",
   "execution_count": 5,
   "metadata": {},
   "outputs": [
    {
     "data": {
      "text/html": [
       "<div>\n",
       "<style scoped>\n",
       "    .dataframe tbody tr th:only-of-type {\n",
       "        vertical-align: middle;\n",
       "    }\n",
       "\n",
       "    .dataframe tbody tr th {\n",
       "        vertical-align: top;\n",
       "    }\n",
       "\n",
       "    .dataframe thead th {\n",
       "        text-align: right;\n",
       "    }\n",
       "</style>\n",
       "<table border=\"1\" class=\"dataframe\">\n",
       "  <thead>\n",
       "    <tr style=\"text-align: right;\">\n",
       "      <th></th>\n",
       "      <th>value</th>\n",
       "      <th>latitude</th>\n",
       "      <th>longitude</th>\n",
       "      <th>impf_TC</th>\n",
       "    </tr>\n",
       "  </thead>\n",
       "  <tbody>\n",
       "    <tr>\n",
       "      <th>0</th>\n",
       "      <td>1.859649e-31</td>\n",
       "      <td>25.208333</td>\n",
       "      <td>-112.125000</td>\n",
       "      <td>1</td>\n",
       "    </tr>\n",
       "    <tr>\n",
       "      <th>1</th>\n",
       "      <td>1.164101e-32</td>\n",
       "      <td>24.958333</td>\n",
       "      <td>-112.208333</td>\n",
       "      <td>1</td>\n",
       "    </tr>\n",
       "    <tr>\n",
       "      <th>2</th>\n",
       "      <td>4.698622e-33</td>\n",
       "      <td>24.875000</td>\n",
       "      <td>-112.208333</td>\n",
       "      <td>1</td>\n",
       "    </tr>\n",
       "    <tr>\n",
       "      <th>3</th>\n",
       "      <td>1.796815e-33</td>\n",
       "      <td>24.791667</td>\n",
       "      <td>-112.291667</td>\n",
       "      <td>1</td>\n",
       "    </tr>\n",
       "    <tr>\n",
       "      <th>4</th>\n",
       "      <td>1.896426e-33</td>\n",
       "      <td>24.791667</td>\n",
       "      <td>-112.208333</td>\n",
       "      <td>1</td>\n",
       "    </tr>\n",
       "    <tr>\n",
       "      <th>...</th>\n",
       "      <td>...</td>\n",
       "      <td>...</td>\n",
       "      <td>...</td>\n",
       "      <td>...</td>\n",
       "    </tr>\n",
       "    <tr>\n",
       "      <th>25084</th>\n",
       "      <td>1.315579e-20</td>\n",
       "      <td>14.625000</td>\n",
       "      <td>-92.291667</td>\n",
       "      <td>1</td>\n",
       "    </tr>\n",
       "    <tr>\n",
       "      <th>25085</th>\n",
       "      <td>7.503188e-21</td>\n",
       "      <td>14.625000</td>\n",
       "      <td>-92.208333</td>\n",
       "      <td>1</td>\n",
       "    </tr>\n",
       "    <tr>\n",
       "      <th>25086</th>\n",
       "      <td>3.450746e-30</td>\n",
       "      <td>24.208333</td>\n",
       "      <td>-109.875000</td>\n",
       "      <td>1</td>\n",
       "    </tr>\n",
       "    <tr>\n",
       "      <th>25087</th>\n",
       "      <td>1.030182e-31</td>\n",
       "      <td>24.541667</td>\n",
       "      <td>-110.375000</td>\n",
       "      <td>1</td>\n",
       "    </tr>\n",
       "    <tr>\n",
       "      <th>25088</th>\n",
       "      <td>1.897498e-23</td>\n",
       "      <td>27.041667</td>\n",
       "      <td>-109.958333</td>\n",
       "      <td>1</td>\n",
       "    </tr>\n",
       "  </tbody>\n",
       "</table>\n",
       "<p>25089 rows × 4 columns</p>\n",
       "</div>"
      ],
      "text/plain": [
       "              value   latitude   longitude  impf_TC\n",
       "0      1.859649e-31  25.208333 -112.125000        1\n",
       "1      1.164101e-32  24.958333 -112.208333        1\n",
       "2      4.698622e-33  24.875000 -112.208333        1\n",
       "3      1.796815e-33  24.791667 -112.291667        1\n",
       "4      1.896426e-33  24.791667 -112.208333        1\n",
       "...             ...        ...         ...      ...\n",
       "25084  1.315579e-20  14.625000  -92.291667        1\n",
       "25085  7.503188e-21  14.625000  -92.208333        1\n",
       "25086  3.450746e-30  24.208333 -109.875000        1\n",
       "25087  1.030182e-31  24.541667 -110.375000        1\n",
       "25088  1.897498e-23  27.041667 -109.958333        1\n",
       "\n",
       "[25089 rows x 4 columns]"
      ]
     },
     "execution_count": 5,
     "metadata": {},
     "output_type": "execute_result"
    }
   ],
   "source": [
    "database_exposure_country_coast_corrected('mexico', 10, 'exponential',5)"
   ]
  },
  {
   "cell_type": "code",
   "execution_count": 4,
   "metadata": {},
   "outputs": [
    {
     "data": {
      "image/png": "[encoded data removed]",
      "text/plain": [
       "<Figure size 640x480 with 1 Axes>"
      ]
     },
     "metadata": {},
     "output_type": "display_data"
    },
    {
     "name": "stdout",
     "output_type": "stream",
     "text": [
      "Proportion of the circle on land: 100.000%\n"
     ]
    }
   ],
   "source": [
    "plot_circle_proportion_in_land((-107.198511,43.802952),h=50)"
   ]
  },
  {
   "cell_type": "code",
   "execution_count": 5,
   "metadata": {},
   "outputs": [
    {
     "data": {
      "text/plain": [
       "1.7213546200210628"
      ]
     },
     "execution_count": 5,
     "metadata": {},
     "output_type": "execute_result"
    }
   ],
   "source": [
    "correction_coast_factor((-96.23728,19.1825),h=50)"
   ]
  },
  {
   "cell_type": "code",
   "execution_count": 125,
   "metadata": {},
   "outputs": [
    {
     "data": {
      "application/vnd.plotly.v1+json": {
       "config": {
        "plotlyServerURL": "https://plot.ly"
       },
       "data": [
        {
         "customdata": [
          [
           "Africa",
           "algeria"
          ],
          [
           "Africa",
           "algeria"
          ],
          [
           "Africa",
           "algeria"
          ],
          [
           "Africa",
           "angola"
          ],
          [
           "Africa",
           "egypt"
          ],
          [
           "Africa",
           "egypt"
          ],
          [
           "Africa",
           "egypt"
          ],
          [
           "Africa",
           "egypt"
          ],
          [
           "Africa",
           "ghana"
          ],
          [
           "Africa",
           "libya"
          ],
          [
           "Africa",
           "morocco"
          ],
          [
           "Africa",
           "morocco"
          ],
          [
           "Africa",
           "nigeria"
          ],
          [
           "Africa",
           "south africa"
          ],
          [
           "Australia",
           "australia"
          ],
          [
           "Australia",
           "australia"
          ],
          [
           "Australia",
           "australia"
          ],
          [
           "Australia",
           "australia"
          ],
          [
           "Asia Pacific",
           "bangladesh"
          ],
          [
           "Asia Pacific",
           "bangladesh"
          ],
          [
           "Asia Pacific",
           "bangladesh"
          ],
          [
           "Asia Pacific",
           "bangladesh"
          ],
          [
           "Asia Pacific",
           "bangladesh"
          ],
          [
           "Asia Pacific",
           "china"
          ],
          [
           "Asia Pacific",
           "china"
          ],
          [
           "Asia Pacific",
           "china"
          ],
          [
           "Asia Pacific",
           "china"
          ],
          [
           "Asia Pacific",
           "china"
          ],
          [
           "Asia Pacific",
           "china"
          ],
          [
           "Asia Pacific",
           "china"
          ],
          [
           "Asia Pacific",
           "china"
          ],
          [
           "Asia Pacific",
           "china"
          ],
          [
           "Asia Pacific",
           "china"
          ],
          [
           "Asia Pacific",
           "china"
          ],
          [
           "Asia Pacific",
           "china"
          ],
          [
           "Asia Pacific",
           "china"
          ],
          [
           "Asia Pacific",
           "china"
          ],
          [
           "Asia Pacific",
           "china"
          ],
          [
           "Asia Pacific",
           "china"
          ],
          [
           "Asia Pacific",
           "china"
          ],
          [
           "Asia Pacific",
           "china"
          ],
          [
           "Asia Pacific",
           "china"
          ],
          [
           "Asia Pacific",
           "china"
          ],
          [
           "Asia Pacific",
           "china"
          ],
          [
           "Asia Pacific",
           "china"
          ],
          [
           "Asia Pacific",
           "china"
          ],
          [
           "Asia Pacific",
           "china"
          ],
          [
           "Asia Pacific",
           "china"
          ],
          [
           "Asia Pacific",
           "china"
          ],
          [
           "Asia Pacific",
           "china"
          ],
          [
           "Asia Pacific",
           "china"
          ],
          [
           "Asia Pacific",
           "china"
          ],
          [
           "Asia Pacific",
           "china"
          ],
          [
           "Asia Pacific",
           "china"
          ],
          [
           "Asia Pacific",
           "china"
          ],
          [
           "Asia Pacific",
           "china"
          ],
          [
           "Asia Pacific",
           "china"
          ],
          [
           "Asia Pacific",
           "china"
          ],
          [
           "Asia Pacific",
           "china"
          ],
          [
           "Asia Pacific",
           "china"
          ],
          [
           "Asia Pacific",
           "china"
          ],
          [
           "Asia Pacific",
           "china"
          ],
          [
           "Asia Pacific",
           "china"
          ],
          [
           "Asia Pacific",
           "china"
          ],
          [
           "Asia Pacific",
           "china"
          ],
          [
           "Asia Pacific",
           "china"
          ],
          [
           "Asia Pacific",
           "china"
          ],
          [
           "Asia Pacific",
           "china"
          ],
          [
           "Asia Pacific",
           "china"
          ],
          [
           "Asia Pacific",
           "china"
          ],
          [
           "Asia Pacific",
           "china"
          ],
          [
           "Asia Pacific",
           "china"
          ],
          [
           "Asia Pacific",
           "china"
          ],
          [
           "Asia Pacific",
           "china"
          ],
          [
           "Asia Pacific",
           "china"
          ],
          [
           "Asia Pacific",
           "china"
          ],
          [
           "Asia Pacific",
           "china"
          ],
          [
           "Asia Pacific",
           "china"
          ],
          [
           "Asia Pacific",
           "china"
          ],
          [
           "Asia Pacific",
           "china"
          ],
          [
           "Asia Pacific",
           "china"
          ],
          [
           "Asia Pacific",
           "china"
          ],
          [
           "Asia Pacific",
           "china"
          ],
          [
           "Asia Pacific",
           "china"
          ],
          [
           "Asia Pacific",
           "china"
          ],
          [
           "Asia Pacific",
           "china"
          ],
          [
           "Asia Pacific",
           "china"
          ],
          [
           "Asia Pacific",
           "china"
          ],
          [
           "Asia Pacific",
           "china"
          ],
          [
           "Asia Pacific",
           "china"
          ],
          [
           "Asia Pacific",
           "china"
          ],
          [
           "Asia Pacific",
           "china"
          ],
          [
           "Asia Pacific",
           "china"
          ],
          [
           "Asia Pacific",
           "china"
          ],
          [
           "Asia Pacific",
           "china"
          ],
          [
           "Asia Pacific",
           "china"
          ],
          [
           "Asia Pacific",
           "china"
          ],
          [
           "Asia Pacific",
           "china"
          ],
          [
           "Asia Pacific",
           "china"
          ],
          [
           "Asia Pacific",
           "china"
          ],
          [
           "Asia Pacific",
           "china"
          ],
          [
           "Asia Pacific",
           "china"
          ],
          [
           "Asia Pacific",
           "india"
          ],
          [
           "Asia Pacific",
           "india"
          ],
          [
           "Asia Pacific",
           "india"
          ],
          [
           "Asia Pacific",
           "india"
          ],
          [
           "Asia Pacific",
           "india"
          ],
          [
           "Asia Pacific",
           "indonesia"
          ],
          [
           "Asia Pacific",
           "indonesia"
          ],
          [
           "Asia Pacific",
           "indonesia"
          ],
          [
           "Asia Pacific",
           "indonesia"
          ],
          [
           "Asia Pacific",
           "indonesia"
          ],
          [
           "Asia Pacific",
           "japan"
          ],
          [
           "Asia Pacific",
           "japan"
          ],
          [
           "Asia Pacific",
           "japan"
          ],
          [
           "Asia Pacific",
           "japan"
          ],
          [
           "Asia Pacific",
           "japan"
          ],
          [
           "Asia Pacific",
           "japan"
          ],
          [
           "Asia Pacific",
           "japan"
          ],
          [
           "Asia Pacific",
           "japan"
          ],
          [
           "Asia Pacific",
           "japan"
          ],
          [
           "Asia Pacific",
           "japan"
          ],
          [
           "Asia Pacific",
           "japan"
          ],
          [
           "Asia Pacific",
           "japan"
          ],
          [
           "Asia Pacific",
           "japan"
          ],
          [
           "Asia Pacific",
           "japan"
          ],
          [
           "Asia Pacific",
           "japan"
          ],
          [
           "Asia Pacific",
           "japan"
          ],
          [
           "Asia Pacific",
           "japan"
          ],
          [
           "Asia Pacific",
           "japan"
          ],
          [
           "Asia Pacific",
           "japan"
          ],
          [
           "Asia Pacific",
           "japan"
          ],
          [
           "Asia Pacific",
           "japan"
          ],
          [
           "Asia Pacific",
           "japan"
          ],
          [
           "Asia Pacific",
           "japan"
          ],
          [
           "Asia Pacific",
           "japan"
          ],
          [
           "Asia Pacific",
           "japan"
          ],
          [
           "Asia Pacific",
           "japan"
          ],
          [
           "Asia Pacific",
           "japan"
          ],
          [
           "Asia Pacific",
           "japan"
          ],
          [
           "Asia Pacific",
           "japan"
          ],
          [
           "Asia Pacific",
           "japan"
          ],
          [
           "Asia Pacific",
           "japan"
          ],
          [
           "Asia Pacific",
           "japan"
          ],
          [
           "Asia Pacific",
           "japan"
          ],
          [
           "Asia Pacific",
           "japan"
          ],
          [
           "Asia Pacific",
           "japan"
          ],
          [
           "Asia Pacific",
           "japan"
          ],
          [
           "Asia Pacific",
           "japan"
          ],
          [
           "Asia Pacific",
           "japan"
          ],
          [
           "Asia Pacific",
           "malaysia"
          ],
          [
           "Asia Pacific",
           "malaysia"
          ],
          [
           "Asia Pacific",
           "malaysia"
          ],
          [
           "Asia Pacific",
           "malaysia"
          ],
          [
           "Asia Pacific",
           "malaysia"
          ],
          [
           "Asia Pacific",
           "malaysia"
          ],
          [
           "Asia Pacific",
           "malaysia"
          ],
          [
           "Asia Pacific",
           "malaysia"
          ],
          [
           "Asia Pacific",
           "malaysia"
          ],
          [
           "Asia Pacific",
           "malaysia"
          ],
          [
           "Australia",
           "new zealand"
          ],
          [
           "Asia Pacific",
           "north korea"
          ],
          [
           "Asia Pacific",
           "north korea"
          ],
          [
           "Asia Pacific",
           "north korea"
          ],
          [
           "Asia Pacific",
           "north korea"
          ],
          [
           "Asia Pacific",
           "pakistan"
          ],
          [
           "Asia Pacific",
           "philippines"
          ],
          [
           "Asia Pacific",
           "singapore"
          ],
          [
           "Asia Pacific",
           "south korea"
          ],
          [
           "Asia Pacific",
           "south korea"
          ],
          [
           "Asia Pacific",
           "south korea"
          ],
          [
           "Asia Pacific",
           "south korea"
          ],
          [
           "Asia Pacific",
           "south korea"
          ],
          [
           "Asia Pacific",
           "south korea"
          ],
          [
           "Asia Pacific",
           "south korea"
          ],
          [
           "Asia Pacific",
           "south korea"
          ],
          [
           "Asia Pacific",
           "south korea"
          ],
          [
           "Asia Pacific",
           "south korea"
          ],
          [
           "Asia Pacific",
           "south korea"
          ],
          [
           "Asia Pacific",
           "south korea"
          ],
          [
           "Asia Pacific",
           "south korea"
          ],
          [
           "Asia Pacific",
           "south korea"
          ],
          [
           "Asia Pacific",
           "south korea"
          ],
          [
           "Asia Pacific",
           "taiwan"
          ],
          [
           "Asia Pacific",
           "taiwan"
          ],
          [
           "Asia Pacific",
           "taiwan"
          ],
          [
           "Asia Pacific",
           "taiwan"
          ],
          [
           "Asia Pacific",
           "taiwan"
          ],
          [
           "Asia Pacific",
           "taiwan"
          ],
          [
           "Asia Pacific",
           "taiwan"
          ],
          [
           "Asia Pacific",
           "thailand"
          ],
          [
           "Asia Pacific",
           "thailand"
          ],
          [
           "Asia Pacific",
           "thailand"
          ],
          [
           "Asia Pacific",
           "thailand"
          ],
          [
           "Asia Pacific",
           "thailand"
          ],
          [
           "Asia Pacific",
           "thailand"
          ],
          [
           "Asia Pacific",
           "thailand"
          ],
          [
           "Asia Pacific",
           "thailand"
          ],
          [
           "Asia Pacific",
           "thailand"
          ],
          [
           "Asia Pacific",
           "vietnam"
          ],
          [
           "Asia Pacific",
           "vietnam"
          ],
          [
           "Asia Pacific",
           "vietnam"
          ],
          [
           "Asia Pacific",
           "vietnam"
          ],
          [
           "Asia Pacific",
           "vietnam"
          ],
          [
           "Asia Pacific",
           "vietnam"
          ],
          [
           "Asia Pacific",
           "vietnam"
          ],
          [
           "Asia Pacific",
           "vietnam"
          ],
          [
           "Asia Pacific",
           "vietnam"
          ],
          [
           "Asia Pacific",
           "vietnam"
          ],
          [
           "Asia Pacific",
           "vietnam"
          ],
          [
           "Asia Pacific",
           "vietnam"
          ],
          [
           "Central & South America",
           "argentina"
          ],
          [
           "Central & South America",
           "brazil"
          ],
          [
           "Central & South America",
           "brazil"
          ],
          [
           "Central & South America",
           "brazil"
          ],
          [
           "Central & South America",
           "brazil"
          ],
          [
           "Central & South America",
           "brazil"
          ],
          [
           "Central & South America",
           "brazil"
          ],
          [
           "Central & South America",
           "brazil"
          ],
          [
           "Central & South America",
           "brazil"
          ],
          [
           "Central & South America",
           "chile"
          ],
          [
           "Central & South America",
           "guatemala"
          ],
          [
           "Central & South America",
           "peru"
          ],
          [
           "Central & South America",
           "peru"
          ],
          [
           "Eurasia",
           "azerbaijan"
          ],
          [
           "Eurasia",
           "russia"
          ],
          [
           "Eurasia",
           "russia"
          ],
          [
           "Europe",
           "albania"
          ],
          [
           "Europe",
           "belgium"
          ],
          [
           "Europe",
           "finland"
          ],
          [
           "Europe",
           "finland"
          ],
          [
           "Europe",
           "finland"
          ],
          [
           "Europe",
           "france"
          ],
          [
           "Europe",
           "france"
          ],
          [
           "Europe",
           "france"
          ],
          [
           "Europe",
           "germany"
          ],
          [
           "Europe",
           "germany"
          ],
          [
           "Europe",
           "greece"
          ],
          [
           "Europe",
           "greece"
          ],
          [
           "Europe",
           "greece"
          ],
          [
           "Europe",
           "italy"
          ],
          [
           "Europe",
           "italy"
          ],
          [
           "Europe",
           "italy"
          ],
          [
           "Europe",
           "italy"
          ],
          [
           "Europe",
           "italy"
          ],
          [
           "Europe",
           "italy"
          ],
          [
           "Europe",
           "italy"
          ],
          [
           "Europe",
           "netherlands"
          ],
          [
           "Europe",
           "norway"
          ],
          [
           "Europe",
           "portugal"
          ],
          [
           "Europe",
           "portugal"
          ],
          [
           "Europe",
           "spain"
          ],
          [
           "Europe",
           "spain"
          ],
          [
           "Europe",
           "spain"
          ],
          [
           "Europe",
           "spain"
          ],
          [
           "Europe",
           "spain"
          ],
          [
           "Europe",
           "spain"
          ],
          [
           "Europe",
           "spain"
          ],
          [
           "Europe",
           "spain"
          ],
          [
           "Europe",
           "spain"
          ],
          [
           "Europe",
           "sweden"
          ],
          [
           "Europe",
           "sweden"
          ],
          [
           "Europe",
           "türkiye"
          ],
          [
           "Europe",
           "türkiye"
          ],
          [
           "Europe",
           "türkiye"
          ],
          [
           "Europe",
           "türkiye"
          ],
          [
           "Europe",
           "türkiye"
          ],
          [
           "Europe",
           "türkiye"
          ],
          [
           "Europe",
           "türkiye"
          ],
          [
           "Europe",
           "türkiye"
          ],
          [
           "Europe",
           "türkiye"
          ],
          [
           "Europe",
           "türkiye"
          ],
          [
           "Europe",
           "türkiye"
          ],
          [
           "Europe",
           "türkiye"
          ],
          [
           "Europe",
           "türkiye"
          ],
          [
           "Europe",
           "türkiye"
          ],
          [
           "Europe",
           "türkiye"
          ],
          [
           "Europe",
           "türkiye"
          ],
          [
           "Europe",
           "türkiye"
          ],
          [
           "Europe",
           "türkiye"
          ],
          [
           "Europe",
           "türkiye"
          ],
          [
           "Europe",
           "türkiye"
          ],
          [
           "Europe",
           "türkiye"
          ],
          [
           "Europe",
           "türkiye"
          ],
          [
           "Europe",
           "ukraine"
          ],
          [
           "Europe",
           "ukraine"
          ],
          [
           "Europe",
           "united kingdom"
          ],
          [
           "Europe",
           "united kingdom"
          ],
          [
           "Europe",
           "united kingdom"
          ],
          [
           "Middle East",
           "bahrain"
          ],
          [
           "Middle East",
           "iran"
          ],
          [
           "Middle East",
           "iran"
          ],
          [
           "Middle East",
           "iran"
          ],
          [
           "Middle East",
           "kuwait"
          ],
          [
           "Middle East",
           "oman"
          ],
          [
           "Middle East",
           "qatar"
          ],
          [
           "Middle East",
           "saudi arabia"
          ],
          [
           "Middle East",
           "saudi arabia"
          ],
          [
           "Middle East",
           "saudi arabia"
          ],
          [
           "Middle East",
           "saudi arabia"
          ],
          [
           "Middle East",
           "saudi arabia"
          ],
          [
           "Middle East",
           "saudi arabia"
          ],
          [
           "Middle East",
           "united arab emirates"
          ],
          [
           "North America",
           "canada"
          ],
          [
           "North America",
           "canada"
          ],
          [
           "North America",
           "canada"
          ],
          [
           "North America",
           "mexico"
          ],
          [
           "North America",
           "mexico"
          ],
          [
           "North America",
           "united states"
          ],
          [
           "North America",
           "united states"
          ],
          [
           "North America",
           "united states"
          ],
          [
           "North America",
           "united states"
          ],
          [
           "North America",
           "united states"
          ],
          [
           "North America",
           "united states"
          ],
          [
           "North America",
           "united states"
          ],
          [
           "North America",
           "united states"
          ],
          [
           "North America",
           "united states"
          ],
          [
           "North America",
           "united states"
          ]
         ],
         "hovertemplate": "<b>%{hovertext}</b><br><br>more_than_50km=False<br>lat=%{lat}<br>lon=%{lon}<br>Region=%{customdata[0]}<br>Country=%{customdata[1]}<extra></extra>",
         "hovertext": [
          "Sider El Hadjar Annaba steel plant",
          "Algerian Qatari Steel Jijel plant",
          "Tosyali Algerie Oran steel plant",
          "Aceria Angola Bengo steel plant",
          "Al-Ezz Dekheila Steel Alexandria plant",
          "Ezz Flat Steel Ain Sokhna plant",
          "Suez Steel Solb Misr Attaka plant",
          "Egyptian Steel Ain Sokhna plant",
          "Sentuo Steel Tema plant",
          "Libyan Iron and Steel Misrata plant",
          "ArcelorMittal Sonasid Casablanca steel plant",
          "Mahgreb Steel Casablanca plant",
          "Delta Steel Company Warri plant",
          "ArcelorMittal Saldanha Steel Works",
          "BlueScope Port Kembla steel plant",
          "GFG Liberty Sydney Steel Mill",
          "GFG Liberty Steel Australia Whyalla steel plant",
          "GFG Liberty Laverton Steel Mill",
          "BSRM Steels Chattogram plant",
          "GPH Steel Sitakunda plant",
          "Abul Khair Steel Sitakunda plant",
          "KSRM Sitakunda steel plant",
          "BSRM Steels Mirsarai plant",
          "Fujian Yixin Steel Co., Ltd.",
          "Fujian Luoyuan Minguang Iron and Steel Co., Ltd.",
          "Fujian Wuhang Stainless Steel Products Co., Ltd.",
          "Baosteel Desheng Stainless Steel Co., Ltd.",
          "Fujian Dadonghai Industrial Group Co., Ltd.",
          "Fujian Tsingtuo Nickel Industry Co., Ltd.",
          "Fujian Dingxin Industrial Co., Ltd.",
          "Fujian Fuhua New Materials Group Co., Ltd.",
          "Fujian Sanbao Steel Co., Ltd.",
          "Fujian Fuxin Special Steel Co., Ltd.",
          "Angang Lianzhong Stainless Steel Co., Ltd.",
          "Guangdong Guangqing Metal Technology Co., Ltd.",
          "Yangchun New Steel Co., Ltd.",
          "Baosteel Zhanjiang Iron & Steel Co., Ltd.",
          "Zhuhai Yueyufeng Iron & Steel Co., Ltd.",
          "Guangxi Beigang New Material Co., Ltd.",
          "Guangxi Shenglong Metallurgical Co., Ltd.",
          "Guangxi Liugang Zhongjin Stainless Steel Co., Ltd.",
          "Cangzhou Lingang Sanling Metal Co., Ltd.",
          "Cangzhou China Railway Equipment Manufacture Material Co., Ltd.",
          "Qinhuangdao Hongxing Iron and Steel Co., Ltd.",
          "Qinhuangdao Baigong Steel Co., Ltd.",
          "Hebei Anfeng Iron & Steel Co., Ltd.",
          "Tangshan Iron and Steel Group Co., Ltd.",
          "Shougang Jingtang United Iron & Steel Co Ltd",
          "Tangshan Donghua Iron & Steel Enterprise Group Co., Ltd.",
          "Tangshan Ruifeng Iron and Steel (Group) Co., Ltd.",
          "Tangshan Delong Iron & Steel Co., Ltd.",
          "Tangshan Medium Thick Plate Co., Ltd.",
          "Tangshan Fengnan District Jing'an Iron and Steel Co., Ltd.",
          "Tangshan Fengnan Kaiheng Iron and Steel Co., Ltd.",
          "Tangshan Wenfeng Special Steel Co., Ltd.",
          "Hebei Huaxi Iron and Steel Co., Ltd.",
          "Hebei Zongheng Group Fengnan Iron & Steel Co., Ltd.",
          "Zenith Steel Group Co., Ltd.",
          "Changzhou Eastern Special Steel Co., Ltd.",
          "Danyang Longjiang Steel Co., Ltd.",
          "Zhongye Dongfang Jiangsu Heavy Industry Co., Ltd.",
          "Jiangyin Xingcheng Special Steel Works Co., Ltd.",
          "Jiangsu Changqiang Iron & Steel Co., Ltd.",
          "Jiangyin Xicheng Steel Co., Ltd.",
          "Zhangjiagang Rongsheng Special Steel Co., Ltd.",
          "Jiangsu Binxin Steel Group Co., Ltd.",
          "Lianyungang Xingxin Iron and Steel Co., Ltd.",
          "Lianyungang Yaxin Iron and Steel Co., Ltd.",
          "Lianfeng Steel (Zhangjiagang) Co., Ltd.",
          "Changshu Longteng Special Steel Co., Ltd.",
          "Wuxi Xinsanzhou Steel Co., Ltd.",
          "Jiangyin Huaxi Iron and Steel Co., Ltd.",
          "Yancheng Lianxin Iron and Steel Co., Ltd.",
          "Jiangsu Delong Nickel Industry Co., Ltd.",
          "Yangzhou Hengrun Ocean Heavy Industry Co., Ltd.",
          "Zhangjiagang Hongchang Steel Co., Ltd.",
          "Posco (Zhangjiagang) Stainless Steel Co., Ltd.",
          "Jiangsu Hongtai Iron and Steel Co., Ltd.",
          "Dongbei Special Steel Group Dalian Special Steel Co., Ltd.",
          "Angang Steel Co., Ltd. Bayuquan branch",
          "Rizhao Steel Yingkou Medium Plate Co Ltd",
          "Yingkou Iron & Steel Co., Ltd.",
          "Qingdao Special Iron and Steel Co., Ltd.",
          "Rizhao Steel Holding Group Co., Ltd.",
          "Shandong IRON&STEEL Group Rizhao Co., Ltd.（Phase 1）",
          "Shandong Shouguang Juneng Special Steel Co., Ltd.",
          "Shandong Luli Steel Co., Ltd.",
          "Yantai Walsin Stainless Steel Co., Ltd.",
          "Baoshan Iron and Steel Co., Ltd. (Baoshan Base)",
          "Baosteel Special Steel Co., Ltd.",
          "Tianjin Tianzhong Giant Heavy Industry Co., Ltd.",
          "Tianjin Iron & Steel Group Co., Ltd.",
          "Tianjin Pipe Corporation",
          "Tianjin Tianfeng Steel Co., Ltd.",
          "Tianjin Metallurgy Group Zhasan Steel Co., Ltd.",
          "Tianjin Rockcheck Steel Group Co., Ltd.",
          "Tianjin New Tiangang United Special Steel Co., Ltd.",
          "Zhenshi Group Eastern Special Steel Co., Ltd.",
          "Zhejiang Wantai Special Steel Co., Ltd.",
          "Zhejiang Tsingshan Iron & Steel Co., Ltd.",
          "Ningbo Iron & Steel Co., Ltd.",
          "Ningbo Haoyang New Materials Techonology Co., Ltd.",
          "Vizag Steel plant",
          "Welspun Steel plant",
          "ArcelorMittal Nippon Steel India",
          "JSW Steel Dolvi steel plant",
          "Lloyds Steel Industries steel plant",
          "Krakatau Steel Cilegon plant",
          "KS Posco Cilegon steel plant",
          "Jakarta Prima Steel Industries plant",
          "CNR Mandan Steel South Kalimantan plant",
          "Gunung Raja Paksi West Java steel plant",
          "Chubu Steel Plate Nagoya plant",
          "Tokyo Steel Tahara plant",
          "Aichi Steel Chita Plant (Tokai)",
          "Daido Steel Chita plant (Tokai)",
          "Nippon East Japan Works (Nagoya) steel plant",
          "Kyoei Steel Nagoya Division (Tokai)",
          "Topy Industries Toyohashi steel plant",
          "JFE West Japan Works (Fukuyama) steel plant",
          "JFE Bars & Shapes Mizushima Works steel plant",
          "JFE West Japan Works (Kurashiki) steel plant",
          "Tokyo Steel Okayama plant",
          "Nippon Setouchi Works (Kure Area) steel plant",
          "Kyoei Steel Yamaguchi Division (Yamaguchi)",
          "North Nippon Muroran Works steel plant",
          "JFE Bars & Shapes Himeji Works steel plant",
          "Nippon Setouchi Works (Hirohata Area) steel plant",
          "Nippon Sanyo Special Steel",
          "Yamato Steel Himeji Plant",
          "Godo Steel Himeji Works",
          "Kobe Kakogawa Works steel plant",
          "Kobe Wire Rod & Bar steel plant",
          "Godo Steel Osaka Works",
          "Nippon Steel Wakayama Area (Sakai) plant",
          "Nakayama Steel Products Osaka plant",
          "Nakayama Steel Works Osaka",
          "Kyoei Steel Hirakata Division (Osaka)",
          "Nippon Kansai Works (Wakayama Area, Wakayama) steel plant",
          "JFE East Japan Works (Chiba) steel plant",
          "JFE Bars & Shapes Kashima Works steel plant",
          "Nippon East Japan Works (Kashima) steel plant",
          "JFE East Japan Works (Keihin) steel plant",
          "Nippon East Japan Works (Kimitsu) steel plant",
          "JFE Bars & Shapes Toubu Works steel plant",
          "Nippon Kyushu Works (Yawata Area, Tobata) steel plant",
          "Nippon Kyushu Works (Yawata Area, Kokura) steel plant",
          "Tokyo Steel Kyushu plant",
          "Nippon Kyushu Works (Oita Area, Oita) steel plant",
          "JFE Sendai Works steel plant",
          "Lion Industries Antara Johor steel plant",
          "Alliance Steel Kuantan plant",
          "Ann Joo Integrated Steel Penang plant",
          "Lion Industries Amsteel Banting steel plant",
          "Lion Industries Megasteel plant",
          "Lion Industries Amsteel Klang steel plant",
          "Malaysia Steel Works Klang",
          "Ann Joo Steel Selangor plant",
          "Eastern Steel Kemaman plant",
          "Maju Perwaja Steel plant",
          "BlueScope New Zealand Steel Glenbrook",
          "Ch'ŏngjin Ironworks steel plant",
          "Kim Chaek Iron and Steel Complex steel plant",
          "Hwanghae Iron and Steel Complex steel plant",
          "Ch'ollima Steel Complex steel plant",
          "Agha Steel Industries Karachi plant",
          "SteelAsia Calaca plant",
          "Natsteel Singapore plant",
          "SeAH Steel Pohang plant",
          "Dongkuk Steel Pohang steel plant",
          "Hyundai Steel Pohang steel plant",
          "POSCO Pohang steel plant",
          "SeAH Besteel Gunsan steel plant",
          "KG Dongbu Steel Incheon steel plant",
          "Dongkuk Steel Incheon steel plant",
          "Hyundai Steel Incheon steel plant",
          "Hansco Hwangyoung Steel Dangjin plant",
          "KG Dongbu Steel Dangjin steel plant",
          "Hyundai Steel Dangjin steel plant",
          "YK Steel Busan plant",
          "KISCO steel Changwon plant",
          "SeAH Changwon Integrated Special Steel plant",
          "POSCO Gwangyang steel plant",
          "Tung Ho Steel Taoyuan Plant",
          "Yieh United Steel Kaohsiung plant",
          "China Steel Structure Kaohsiung plant",
          "Tung Ho Steel Miaoli Factory",
          "Feng Hsin Steel Taichung plant",
          "China Steel Dragon Steel Taichung plant",
          "Tung Ho Steel Kaohsiung Plant",
          "UMC Metals Chon Buri plant",
          "Tata Steel Manufacturing (Thailand) NTS Plant",
          "Nippon GJS steel plant",
          "Tata Steel Manufacturing (Thailand) SCSC Plant",
          "Siam Yamato Steel I plant",
          "Siam Yamato Steel II plant",
          "Millcon Steel plant",
          "Nippon G Steel plant",
          "Bangkok Steel Industry plant",
          "Pomina Steel 2 Phu My plant",
          "Tung Ho Steel Phu My plant",
          "Pomina Steel 3 Phu My plant",
          "POSCO Vietnam Phu My steel plant",
          "VNSteel Southern Steel Company plant",
          "Vina Kyoei Steel Phu My plant",
          "VAS Tue Minh Steel Binh Duong plant",
          "VAS An Hung Tuong Steel Binh Duong plant",
          "Formosa Ha Tinh Steel plant",
          "Hoa Phat Hai Duong Steel plant",
          "Hoa Phat Dung Quat steel plant",
          "VAS Nghi Son Cast Iron and Steel plant",
          "TenarisSiderca Campana steel plant",
          "ArcelorMittal Pecém steel plant",
          "Simec Cariacica steel plant",
          "ArcelorMittal Tubarão steel plant",
          "ArcelorMittal Barra Mansa steel plant",
          "ArcelorMittal Resende steel plant",
          "Ternium Brasil Santa Cruz steel plant",
          "Gerdau Cosigua Santa Cruz steel plant",
          "CSN Volta Redonda steel plant",
          "CAP Acero Huachipato steel plant",
          "AG Sidegua Masagua steel plant",
          "Gerdau Siderperu Chimbote steel plant",
          "Aceros Arequipa Pisco steel plant",
          "Baku Steel Company steel plant",
          "Abinsk Electric Steel Works",
          "TMK Taganrog Metallurgical Plant",
          "Kurum International Elbasan steel plant",
          "ArcelorMittal Gent steel plant",
          "Ovako Imatra steel plant",
          "Outokumpu Tornio steel plant",
          "SSAB Raahe steel plant",
          "ArcelorMittal Dunkerque steel plant",
          "Celsa France Boucau steel plant",
          "ArcelorMittal Méditerranée Fos sur Mer steel plant",
          "ArcelorMittal Bremen steel plant",
          "ArcelorMittal Hamburg steel plant",
          "Sidenor Steel Industry Thessaloniki plant",
          "Sovel Almyros steel plant",
          "Larco Larymna smelting plant",
          "Riva Acciaio Lesegno steel plant",
          "JSW Steel Piombino steel plant",
          "Acciaierie Venete Padua steel plant",
          "Alfa Acciai Catania steel plant",
          "ArcelorMittal Acciaierie d'Italia Taranto steel plant",
          "Danieli ABS Pozzuolo del Friuli steel plant",
          "Marcegaglia Palini e Bertoli San Giorgio di Nogaro steel plant",
          "Tata Steel IJmuiden steel plant",
          "Celsa Nordic steel plant",
          "SN MAIA Siderurgia Nacional steel plant",
          "SN SEIXAL Siderurgia Nacional steel plant",
          "ArcelorMittal Olaberria-Bergara (Olaberria) steel plant",
          "ArcelorMittal Asturias (Gijón) steel plant",
          "Celsa Barcelona Castellbisbal steel plant",
          "ArcelorMittal Sestao steel plant",
          "Acerinox Europa Los Barrios steel plant",
          "Celsa Global Steel Wire Santander plant",
          "ArcelorMittal Olaberria-Bergara (Olaberria) steel plant",
          "Megasa Siderúrgica Narón steel plant",
          "Celsa Nervacero steel plant",
          "SSAB Luleå steel plant",
          "SSAB Oxelösund steel plant",
          "Cebitas steel plant",
          "Asil Celik Orhangazi steel plant",
          "İÇDAŞ Biga steel plant",
          "Ekinciler Iron and Steel Iskenderun plant",
          "Yazici Iron and Steel Iskenderun plant",
          "Isdemir Payas steel plant",
          "MMK Türkiye Metallurgical Payas plant",
          "Aba Iron and Steel Payas plant",
          "Ege Steel Aliaga plant",
          "Habas Aliaga steel plant",
          "İDÇ Izdemir Aliaga steel plant",
          "Ozkan Iron and Steel Aliaga plant",
          "Kroman Steel Darica plant",
          "Colakoglu Metallurgical Dilovasi plant",
          "Diler Iron and Steel Dilovasi plant",
          "Siddik Kardesler Dilovasi steel plant",
          "Koc Metallurgical Toprakkale plant",
          "Toscelik Toprakkale steel plant",
          "Bastug Metallurgical Toprakkale plant",
          "Yesilyurt Iron and Steel Tekkekoy plant",
          "Kaptan Ereglisi steel plant",
          "Erdemir Eregli steel plant",
          "Azovstal Iron & Steel Works",
          "Metinvest Ilyich Iron & Steel Works",
          "British Steel Scunthorpe plant",
          "Celsa Steel UK Cardiff plant",
          "Tata Steel Port Talbot steel plant",
          "Sulb Bahrain Al Hidd steel plant",
          "Mobarakeh Steel Hormuzgan Steel Company plant",
          "Kish South Kaveh Steel Hormuzgan plant",
          "Khouzestan Steel plant Shadegan",
          "United Steel Industrial Kuwait Steel Sharq plant",
          "Jindal Shadeed Iron & Steel Sohar plant",
          "Industries Qatar Steel Mesaieed plant",
          "SABIC Hadeed Al Jubail steel plant",
          "Al Ittefaq National Steel Dammam plant",
          "Al Ittefaq Arab Steel Dammam plant",
          "Solb Steel Jizan plant",
          "Rajhi Al Assemah Steel Jeddah plant",
          "Al Yamamah Steel Industries Yanbu plant",
          "GHC Emirates Steel Industries Abu Dhabi plant",
          "Ivaco Rolling Mills steel plant",
          "ArcelorMittal Montreal steel plant",
          "Rio Tinto Fer et Titane steel plant",
          "ArcelorMittal Lázaro Cárdenas steel plant",
          "TenarisTamsa Veracruz steel plant",
          "SSAB Americas Alabama steel plant",
          "Outokumpu Stainless USA steel plant",
          "CMC Steel New Jersey plant",
          "Nucor Steel Hertford plant",
          "Cleveland-Cliffs Coatesville steel plant",
          "Liberty Steel Georgetown plant",
          "Nucor Steel Berkeley plant",
          "Optimus Steel Beaumont plant",
          "Gerdau Petersburg Steel Mill",
          "Nucor Steel Seattle plant"
         ],
         "lat": [
          36.795924,
          36.753961,
          35.770912,
          -8.5824,
          31.123467,
          29.692045,
          29.923176,
          29.872757,
          5.70949,
          32.335185,
          33.136529,
          33.592793,
          5.480763,
          -32.97952,
          -34.463834,
          -33.76601,
          -33.009381,
          -37.831379,
          22.38106,
          22.536569,
          22.472008,
          22.499834,
          22.87176,
          26.491308,
          26.483815,
          25.95923,
          26.48747,
          25.737777,
          26.768925,
          26.7695,
          26.961516,
          24.635769,
          24.472439,
          23.126822,
          21.697069,
          22.084904,
          21.056035,
          21.96092,
          21.519924,
          21.687637,
          21.67261,
          38.311738,
          38.289221,
          39.700721,
          39.748773,
          39.65849,
          39.648587,
          38.953664,
          39.468366,
          39.497472,
          39.19256,
          39.268452,
          39.600956,
          39.4632,
          39.146541,
          39.51833,
          39.222566,
          31.707656,
          31.602554,
          32.027791,
          32.104319,
          31.950191,
          31.952064,
          31.892299,
          31.985496,
          35.09556,
          34.38381,
          34.423786,
          31.855205,
          31.723833,
          31.681005,
          31.816482,
          33.211332,
          34.443469,
          32.249602,
          31.983146,
          31.980237,
          32.138393,
          39.193697,
          40.308494,
          40.671136,
          40.664651,
          35.6296,
          35.16535,
          35.188969,
          36.939125,
          36.970875,
          37.548627,
          31.41623,
          31.379422,
          39.501442,
          39.031083,
          39.034002,
          38.832642,
          38.825269,
          38.970638,
          39.300258,
          30.720411,
          30.944342,
          28.136096,
          29.918776,
          30.267113,
          17.612846,
          23.112781,
          21.112377,
          18.690312,
          19.262606,
          -6.007021,
          -5.998661,
          -6.181643,
          -3.339296,
          -6.282658,
          35.118836,
          34.702012,
          35.044558,
          35.016404,
          35.027575,
          35.065055,
          34.719644,
          34.465222,
          34.503883,
          34.501198,
          34.515062,
          34.221172,
          33.976513,
          42.341873,
          34.784113,
          34.786879,
          34.788074,
          34.783319,
          34.783057,
          34.720268,
          34.703624,
          34.693045,
          34.59822,
          34.699762,
          34.628162,
          34.816321,
          34.233519,
          35.580917,
          35.882023,
          35.93437,
          35.48069,
          35.360912,
          35.813807,
          33.911803,
          33.89771,
          33.881431,
          33.260829,
          38.265706,
          1.451512,
          4.007595,
          5.380391,
          2.812908,
          2.8072653,
          3.069682,
          3.077835,
          3.042585,
          4.285062,
          4.264364,
          -37.206878,
          41.777936,
          41.753784,
          38.742224,
          38.729864,
          24.841851,
          13.922346,
          1.30674117443,
          35.991176,
          36.00147,
          36.004981,
          36.00931,
          35.968596,
          37.482625,
          37.486465,
          37.489678,
          36.956486,
          36.983721,
          36.986282,
          35.083819,
          35.216552,
          35.204191,
          34.920086,
          25.067119,
          22.830857,
          22.78062,
          24.568401,
          24.31287,
          24.226897,
          22.563095,
          13.275832,
          13.052398,
          13.054668,
          12.677582,
          12.674898,
          12.706642,
          12.819544,
          12.793786,
          13.647672,
          10.601568,
          10.551445,
          10.577042,
          10.560316,
          10.576597,
          10.601423,
          11.113343,
          11.054204,
          18.036333,
          21.01536,
          15.37768,
          19.326924,
          -34.152554,
          -3.585917,
          -20.34291,
          -20.253447,
          -22.525806,
          -22.493597,
          -22.912549,
          -22.90242,
          -22.512631,
          -36.746421,
          14.232007,
          -9.059693,
          -13.788622,
          40.43136,
          44.881938,
          47.241557,
          41.094611,
          51.169929,
          61.149466,
          65.767115,
          64.651111,
          51.041274,
          43.529693,
          43.43283,
          53.133305,
          53.522601,
          40.704458,
          39.169632,
          38.564265,
          44.388023,
          42.93652,
          45.419168,
          37.438448,
          40.508993,
          46.008483,
          45.80649,
          52.484118,
          66.311519,
          41.255085,
          38.616023,
          43.554741,
          43.525092,
          41.454855,
          43.313144,
          36.181686,
          43.445344,
          43.03829,
          43.51421,
          43.30806,
          65.559719,
          58.670789,
          38.74074,
          40.42752,
          40.441491,
          36.690115,
          36.685932,
          36.735672,
          36.768975,
          36.747413,
          38.728005,
          38.751462,
          38.739596,
          38.737005,
          40.801101,
          40.768409,
          40.783161,
          40.800833,
          37.01488,
          37.016956,
          37.016498,
          41.241199,
          41.015222,
          41.261469,
          47.100396,
          47.142529,
          53.580827,
          51.472502,
          51.577368,
          26.198152,
          27.164518,
          27.188071,
          30.429452,
          28.989306,
          24.502551,
          24.952688,
          27.018411,
          26.244786,
          26.277917,
          17.298475,
          21.290402,
          23.929542,
          24.322033,
          45.613941,
          45.835148,
          46.044367,
          17.930688,
          19.182499,
          30.941783,
          31.148179,
          40.478824,
          36.353006,
          39.977819,
          33.367258,
          33.004319,
          30.08201,
          37.181168,
          47.569597
         ],
         "legendgroup": "False",
         "lon": [
          7.707633,
          6.24442,
          -0.263031,
          13.405271,
          29.80987,
          32.322117,
          32.466587,
          32.469342,
          -0.023595,
          15.215053,
          -8.603555,
          -7.475613,
          5.769839,
          18.023228,
          150.886191,
          150.849819,
          137.587836,
          144.788169,
          91.76862,
          91.700729,
          91.734827,
          91.715778,
          91.546568,
          119.63624,
          119.67105,
          119.452018,
          119.654461,
          119.592239,
          119.765203,
          119.738519,
          119.654272,
          117.603677,
          117.94885,
          113.505817,
          111.848841,
          111.642187,
          110.48657,
          113.198718,
          109.506427,
          108.412344,
          109.741866,
          117.457779,
          117.814367,
          118.871477,
          118.819472,
          118.894804,
          118.212487,
          118.50339,
          118.256774,
          118.272056,
          118.899533,
          119.024819,
          118.358726,
          118.247191,
          118.432261,
          118.715766,
          118.094201,
          120.079591,
          119.724256,
          119.57706,
          119.792126,
          120.328449,
          120.189749,
          120.198394,
          120.644565,
          119.279989,
          119.786878,
          119.778311,
          120.730505,
          120.835685,
          120.251785,
          120.424347,
          120.774892,
          119.816574,
          119.620438,
          120.638992,
          120.571455,
          119.554693,
          122.057788,
          122.13079,
          122.395441,
          122.415057,
          119.722335,
          119.366671,
          119.383723,
          118.785598,
          118.955444,
          121.277488,
          121.440087,
          121.484652,
          118.719554,
          117.499246,
          117.486798,
          117.102765,
          117.08849,
          117.495794,
          117.800231,
          120.898518,
          120.971803,
          120.380401,
          121.876423,
          121.052503,
          83.191918,
          70.0866885,
          72.647304,
          73.035902,
          73.396916,
          106.001766,
          105.99866,
          106.932331,
          115.927125,
          107.117683,
          136.867567,
          137.249114,
          136.900772,
          136.864744,
          136.870552,
          136.815384,
          137.322259,
          133.431205,
          133.710136,
          133.722123,
          133.745525,
          132.540104,
          131.173031,
          140.997803,
          134.658493,
          134.625301,
          134.672046,
          134.604616,
          134.669411,
          134.826275,
          135.247207,
          135.428537,
          135.45439,
          135.430119,
          135.459688,
          135.677444,
          135.135443,
          140.104196,
          140.731707,
          140.681019,
          139.729684,
          139.881953,
          139.883129,
          130.838014,
          130.882435,
          130.755978,
          131.645527,
          141.012963,
          103.917306,
          103.344458,
          100.377598,
          101.4995916,
          101.6055808,
          101.456474,
          101.46448,
          101.537011,
          103.432551,
          103.461728,
          174.728098,
          129.792399,
          129.752681,
          125.616814,
          125.414672,
          67.310159,
          120.823796,
          103.700300278,
          129.375791,
          129.397609,
          129.384829,
          129.394508,
          126.609524,
          126.670175,
          126.638607,
          126.637942,
          126.616956,
          126.744755,
          126.69735,
          128.989034,
          128.640158,
          128.604277,
          127.74865,
          121.141176,
          120.300604,
          120.357461,
          120.74062,
          120.712774,
          120.493911,
          120.362654,
          100.969791,
          101.086795,
          101.078842,
          101.149401,
          101.147002,
          101.111703,
          101.152954,
          101.244592,
          100.553882,
          107.045491,
          107.04368,
          107.040324,
          107.02684,
          107.028995,
          107.040679,
          106.831064,
          106.615962,
          106.428271,
          106.536023,
          108.793321,
          105.777449,
          -58.977388,
          -38.858932,
          -40.360864,
          -40.242298,
          -44.191067,
          -44.512628,
          -43.741614,
          -43.749319,
          -44.11287,
          -73.129171,
          -90.815444,
          -78.601178,
          -76.168172,
          49.886867,
          38.12751,
          38.928584,
          20.026117,
          3.804462,
          28.798774,
          24.176472,
          24.418544,
          2.292948,
          -1.500971,
          4.887166,
          8.688193,
          9.900749,
          22.816542,
          22.840216,
          23.293695,
          7.944998,
          10.537794,
          11.906625,
          15.03287,
          17.207589,
          13.255117,
          13.215433,
          4.615584,
          14.167557,
          -8.555285,
          -9.068527,
          -5.87259,
          -5.731926,
          1.980107,
          -2.998964,
          -5.426626,
          -3.839228,
          -2.219625,
          -8.163839,
          -3.026309,
          22.219699,
          17.127786,
          26.951743,
          29.270141,
          27.137563,
          36.205739,
          36.206275,
          36.204581,
          36.213842,
          36.21733,
          26.940095,
          26.950172,
          26.929091,
          26.950824,
          29.374115,
          29.529979,
          29.533568,
          29.512008,
          36.104416,
          36.10911,
          36.095126,
          36.442055,
          27.959978,
          31.420106,
          37.595944,
          37.586423,
          -0.616509,
          -3.157583,
          -3.783013,
          50.679893,
          56.094358,
          56.246848,
          49.093818,
          48.128118,
          56.600739,
          51.584777,
          49.576356,
          49.969064,
          49.949177,
          42.352338,
          39.183444,
          38.336103,
          54.467987,
          -74.704608,
          -73.254957,
          -73.138474,
          -102.201498,
          -96.237284,
          -88.012437,
          -87.98866,
          -74.321187,
          -76.811471,
          -75.824512,
          -79.292515,
          -79.880955,
          -94.074694,
          -77.449517,
          -122.367395
         ],
         "marker": {
          "color": "red"
         },
         "mode": "markers",
         "name": "False",
         "showlegend": true,
         "subplot": "mapbox",
         "type": "scattermapbox"
        },
        {
         "customdata": [
          [
           "Africa",
           "egypt"
          ],
          [
           "Africa",
           "egypt"
          ],
          [
           "Africa",
           "egypt"
          ],
          [
           "Africa",
           "egypt"
          ],
          [
           "Africa",
           "egypt"
          ],
          [
           "Africa",
           "south africa"
          ],
          [
           "Africa",
           "south africa"
          ],
          [
           "Africa",
           "south africa"
          ],
          [
           "Africa",
           "uganda"
          ],
          [
           "Asia Pacific",
           "china"
          ],
          [
           "Asia Pacific",
           "china"
          ],
          [
           "Asia Pacific",
           "china"
          ],
          [
           "Asia Pacific",
           "china"
          ],
          [
           "Asia Pacific",
           "china"
          ],
          [
           "Asia Pacific",
           "china"
          ],
          [
           "Asia Pacific",
           "china"
          ],
          [
           "Asia Pacific",
           "china"
          ],
          [
           "Asia Pacific",
           "china"
          ],
          [
           "Asia Pacific",
           "china"
          ],
          [
           "Asia Pacific",
           "china"
          ],
          [
           "Asia Pacific",
           "china"
          ],
          [
           "Asia Pacific",
           "china"
          ],
          [
           "Asia Pacific",
           "china"
          ],
          [
           "Asia Pacific",
           "china"
          ],
          [
           "Asia Pacific",
           "china"
          ],
          [
           "Asia Pacific",
           "china"
          ],
          [
           "Asia Pacific",
           "china"
          ],
          [
           "Asia Pacific",
           "china"
          ],
          [
           "Asia Pacific",
           "china"
          ],
          [
           "Asia Pacific",
           "china"
          ],
          [
           "Asia Pacific",
           "china"
          ],
          [
           "Asia Pacific",
           "china"
          ],
          [
           "Asia Pacific",
           "china"
          ],
          [
           "Asia Pacific",
           "china"
          ],
          [
           "Asia Pacific",
           "china"
          ],
          [
           "Asia Pacific",
           "china"
          ],
          [
           "Asia Pacific",
           "china"
          ],
          [
           "Asia Pacific",
           "china"
          ],
          [
           "Asia Pacific",
           "china"
          ],
          [
           "Asia Pacific",
           "china"
          ],
          [
           "Asia Pacific",
           "china"
          ],
          [
           "Asia Pacific",
           "china"
          ],
          [
           "Asia Pacific",
           "china"
          ],
          [
           "Asia Pacific",
           "china"
          ],
          [
           "Asia Pacific",
           "china"
          ],
          [
           "Asia Pacific",
           "china"
          ],
          [
           "Asia Pacific",
           "china"
          ],
          [
           "Asia Pacific",
           "china"
          ],
          [
           "Asia Pacific",
           "china"
          ],
          [
           "Asia Pacific",
           "china"
          ],
          [
           "Asia Pacific",
           "china"
          ],
          [
           "Asia Pacific",
           "china"
          ],
          [
           "Asia Pacific",
           "china"
          ],
          [
           "Asia Pacific",
           "china"
          ],
          [
           "Asia Pacific",
           "china"
          ],
          [
           "Asia Pacific",
           "china"
          ],
          [
           "Asia Pacific",
           "china"
          ],
          [
           "Asia Pacific",
           "china"
          ],
          [
           "Asia Pacific",
           "china"
          ],
          [
           "Asia Pacific",
           "china"
          ],
          [
           "Asia Pacific",
           "china"
          ],
          [
           "Asia Pacific",
           "china"
          ],
          [
           "Asia Pacific",
           "china"
          ],
          [
           "Asia Pacific",
           "china"
          ],
          [
           "Asia Pacific",
           "china"
          ],
          [
           "Asia Pacific",
           "china"
          ],
          [
           "Asia Pacific",
           "china"
          ],
          [
           "Asia Pacific",
           "china"
          ],
          [
           "Asia Pacific",
           "china"
          ],
          [
           "Asia Pacific",
           "china"
          ],
          [
           "Asia Pacific",
           "china"
          ],
          [
           "Asia Pacific",
           "china"
          ],
          [
           "Asia Pacific",
           "china"
          ],
          [
           "Asia Pacific",
           "china"
          ],
          [
           "Asia Pacific",
           "china"
          ],
          [
           "Asia Pacific",
           "china"
          ],
          [
           "Asia Pacific",
           "china"
          ],
          [
           "Asia Pacific",
           "china"
          ],
          [
           "Asia Pacific",
           "china"
          ],
          [
           "Asia Pacific",
           "china"
          ],
          [
           "Asia Pacific",
           "china"
          ],
          [
           "Asia Pacific",
           "china"
          ],
          [
           "Asia Pacific",
           "china"
          ],
          [
           "Asia Pacific",
           "china"
          ],
          [
           "Asia Pacific",
           "china"
          ],
          [
           "Asia Pacific",
           "china"
          ],
          [
           "Asia Pacific",
           "china"
          ],
          [
           "Asia Pacific",
           "china"
          ],
          [
           "Asia Pacific",
           "china"
          ],
          [
           "Asia Pacific",
           "china"
          ],
          [
           "Asia Pacific",
           "china"
          ],
          [
           "Asia Pacific",
           "china"
          ],
          [
           "Asia Pacific",
           "china"
          ],
          [
           "Asia Pacific",
           "china"
          ],
          [
           "Asia Pacific",
           "china"
          ],
          [
           "Asia Pacific",
           "china"
          ],
          [
           "Asia Pacific",
           "china"
          ],
          [
           "Asia Pacific",
           "china"
          ],
          [
           "Asia Pacific",
           "china"
          ],
          [
           "Asia Pacific",
           "china"
          ],
          [
           "Asia Pacific",
           "china"
          ],
          [
           "Asia Pacific",
           "china"
          ],
          [
           "Asia Pacific",
           "china"
          ],
          [
           "Asia Pacific",
           "china"
          ],
          [
           "Asia Pacific",
           "china"
          ],
          [
           "Asia Pacific",
           "china"
          ],
          [
           "Asia Pacific",
           "china"
          ],
          [
           "Asia Pacific",
           "china"
          ],
          [
           "Asia Pacific",
           "china"
          ],
          [
           "Asia Pacific",
           "china"
          ],
          [
           "Asia Pacific",
           "china"
          ],
          [
           "Asia Pacific",
           "china"
          ],
          [
           "Asia Pacific",
           "china"
          ],
          [
           "Asia Pacific",
           "china"
          ],
          [
           "Asia Pacific",
           "china"
          ],
          [
           "Asia Pacific",
           "china"
          ],
          [
           "Asia Pacific",
           "china"
          ],
          [
           "Asia Pacific",
           "china"
          ],
          [
           "Asia Pacific",
           "china"
          ],
          [
           "Asia Pacific",
           "china"
          ],
          [
           "Asia Pacific",
           "china"
          ],
          [
           "Asia Pacific",
           "china"
          ],
          [
           "Asia Pacific",
           "china"
          ],
          [
           "Asia Pacific",
           "china"
          ],
          [
           "Asia Pacific",
           "china"
          ],
          [
           "Asia Pacific",
           "china"
          ],
          [
           "Asia Pacific",
           "china"
          ],
          [
           "Asia Pacific",
           "china"
          ],
          [
           "Asia Pacific",
           "china"
          ],
          [
           "Asia Pacific",
           "china"
          ],
          [
           "Asia Pacific",
           "china"
          ],
          [
           "Asia Pacific",
           "china"
          ],
          [
           "Asia Pacific",
           "china"
          ],
          [
           "Asia Pacific",
           "china"
          ],
          [
           "Asia Pacific",
           "china"
          ],
          [
           "Asia Pacific",
           "china"
          ],
          [
           "Asia Pacific",
           "china"
          ],
          [
           "Asia Pacific",
           "china"
          ],
          [
           "Asia Pacific",
           "china"
          ],
          [
           "Asia Pacific",
           "china"
          ],
          [
           "Asia Pacific",
           "china"
          ],
          [
           "Asia Pacific",
           "china"
          ],
          [
           "Asia Pacific",
           "china"
          ],
          [
           "Asia Pacific",
           "china"
          ],
          [
           "Asia Pacific",
           "china"
          ],
          [
           "Asia Pacific",
           "china"
          ],
          [
           "Asia Pacific",
           "china"
          ],
          [
           "Asia Pacific",
           "china"
          ],
          [
           "Asia Pacific",
           "china"
          ],
          [
           "Asia Pacific",
           "china"
          ],
          [
           "Asia Pacific",
           "china"
          ],
          [
           "Asia Pacific",
           "china"
          ],
          [
           "Asia Pacific",
           "china"
          ],
          [
           "Asia Pacific",
           "china"
          ],
          [
           "Asia Pacific",
           "china"
          ],
          [
           "Asia Pacific",
           "china"
          ],
          [
           "Asia Pacific",
           "china"
          ],
          [
           "Asia Pacific",
           "china"
          ],
          [
           "Asia Pacific",
           "china"
          ],
          [
           "Asia Pacific",
           "china"
          ],
          [
           "Asia Pacific",
           "china"
          ],
          [
           "Asia Pacific",
           "china"
          ],
          [
           "Asia Pacific",
           "china"
          ],
          [
           "Asia Pacific",
           "china"
          ],
          [
           "Asia Pacific",
           "china"
          ],
          [
           "Asia Pacific",
           "china"
          ],
          [
           "Asia Pacific",
           "china"
          ],
          [
           "Asia Pacific",
           "china"
          ],
          [
           "Asia Pacific",
           "china"
          ],
          [
           "Asia Pacific",
           "china"
          ],
          [
           "Asia Pacific",
           "china"
          ],
          [
           "Asia Pacific",
           "china"
          ],
          [
           "Asia Pacific",
           "china"
          ],
          [
           "Asia Pacific",
           "china"
          ],
          [
           "Asia Pacific",
           "china"
          ],
          [
           "Asia Pacific",
           "china"
          ],
          [
           "Asia Pacific",
           "china"
          ],
          [
           "Asia Pacific",
           "china"
          ],
          [
           "Asia Pacific",
           "china"
          ],
          [
           "Asia Pacific",
           "china"
          ],
          [
           "Asia Pacific",
           "china"
          ],
          [
           "Asia Pacific",
           "china"
          ],
          [
           "Asia Pacific",
           "china"
          ],
          [
           "Asia Pacific",
           "china"
          ],
          [
           "Asia Pacific",
           "china"
          ],
          [
           "Asia Pacific",
           "china"
          ],
          [
           "Asia Pacific",
           "china"
          ],
          [
           "Asia Pacific",
           "china"
          ],
          [
           "Asia Pacific",
           "china"
          ],
          [
           "Asia Pacific",
           "china"
          ],
          [
           "Asia Pacific",
           "china"
          ],
          [
           "Asia Pacific",
           "china"
          ],
          [
           "Asia Pacific",
           "china"
          ],
          [
           "Asia Pacific",
           "china"
          ],
          [
           "Asia Pacific",
           "china"
          ],
          [
           "Asia Pacific",
           "china"
          ],
          [
           "Asia Pacific",
           "china"
          ],
          [
           "Asia Pacific",
           "china"
          ],
          [
           "Asia Pacific",
           "china"
          ],
          [
           "Asia Pacific",
           "china"
          ],
          [
           "Asia Pacific",
           "china"
          ],
          [
           "Asia Pacific",
           "china"
          ],
          [
           "Asia Pacific",
           "china"
          ],
          [
           "Asia Pacific",
           "china"
          ],
          [
           "Asia Pacific",
           "china"
          ],
          [
           "Asia Pacific",
           "china"
          ],
          [
           "Asia Pacific",
           "china"
          ],
          [
           "Asia Pacific",
           "china"
          ],
          [
           "Asia Pacific",
           "china"
          ],
          [
           "Asia Pacific",
           "china"
          ],
          [
           "Asia Pacific",
           "china"
          ],
          [
           "Asia Pacific",
           "china"
          ],
          [
           "Asia Pacific",
           "china"
          ],
          [
           "Asia Pacific",
           "china"
          ],
          [
           "Asia Pacific",
           "china"
          ],
          [
           "Asia Pacific",
           "china"
          ],
          [
           "Asia Pacific",
           "china"
          ],
          [
           "Asia Pacific",
           "china"
          ],
          [
           "Asia Pacific",
           "china"
          ],
          [
           "Asia Pacific",
           "china"
          ],
          [
           "Asia Pacific",
           "china"
          ],
          [
           "Asia Pacific",
           "china"
          ],
          [
           "Asia Pacific",
           "china"
          ],
          [
           "Asia Pacific",
           "china"
          ],
          [
           "Asia Pacific",
           "china"
          ],
          [
           "Asia Pacific",
           "china"
          ],
          [
           "Asia Pacific",
           "china"
          ],
          [
           "Asia Pacific",
           "china"
          ],
          [
           "Asia Pacific",
           "china"
          ],
          [
           "Asia Pacific",
           "china"
          ],
          [
           "Asia Pacific",
           "china"
          ],
          [
           "Asia Pacific",
           "china"
          ],
          [
           "Asia Pacific",
           "china"
          ],
          [
           "Asia Pacific",
           "china"
          ],
          [
           "Asia Pacific",
           "china"
          ],
          [
           "Asia Pacific",
           "china"
          ],
          [
           "Asia Pacific",
           "china"
          ],
          [
           "Asia Pacific",
           "china"
          ],
          [
           "Asia Pacific",
           "china"
          ],
          [
           "Asia Pacific",
           "china"
          ],
          [
           "Asia Pacific",
           "china"
          ],
          [
           "Asia Pacific",
           "china"
          ],
          [
           "Asia Pacific",
           "china"
          ],
          [
           "Asia Pacific",
           "china"
          ],
          [
           "Asia Pacific",
           "china"
          ],
          [
           "Asia Pacific",
           "china"
          ],
          [
           "Asia Pacific",
           "china"
          ],
          [
           "Asia Pacific",
           "china"
          ],
          [
           "Asia Pacific",
           "china"
          ],
          [
           "Asia Pacific",
           "china"
          ],
          [
           "Asia Pacific",
           "china"
          ],
          [
           "Asia Pacific",
           "china"
          ],
          [
           "Asia Pacific",
           "china"
          ],
          [
           "Asia Pacific",
           "china"
          ],
          [
           "Asia Pacific",
           "china"
          ],
          [
           "Asia Pacific",
           "china"
          ],
          [
           "Asia Pacific",
           "china"
          ],
          [
           "Asia Pacific",
           "china"
          ],
          [
           "Asia Pacific",
           "india"
          ],
          [
           "Asia Pacific",
           "india"
          ],
          [
           "Asia Pacific",
           "india"
          ],
          [
           "Asia Pacific",
           "india"
          ],
          [
           "Asia Pacific",
           "india"
          ],
          [
           "Asia Pacific",
           "india"
          ],
          [
           "Asia Pacific",
           "india"
          ],
          [
           "Asia Pacific",
           "india"
          ],
          [
           "Asia Pacific",
           "india"
          ],
          [
           "Asia Pacific",
           "india"
          ],
          [
           "Asia Pacific",
           "india"
          ],
          [
           "Asia Pacific",
           "india"
          ],
          [
           "Asia Pacific",
           "india"
          ],
          [
           "Asia Pacific",
           "india"
          ],
          [
           "Asia Pacific",
           "india"
          ],
          [
           "Asia Pacific",
           "india"
          ],
          [
           "Asia Pacific",
           "india"
          ],
          [
           "Asia Pacific",
           "india"
          ],
          [
           "Asia Pacific",
           "india"
          ],
          [
           "Asia Pacific",
           "india"
          ],
          [
           "Asia Pacific",
           "india"
          ],
          [
           "Asia Pacific",
           "india"
          ],
          [
           "Asia Pacific",
           "india"
          ],
          [
           "Asia Pacific",
           "india"
          ],
          [
           "Asia Pacific",
           "india"
          ],
          [
           "Asia Pacific",
           "india"
          ],
          [
           "Asia Pacific",
           "india"
          ],
          [
           "Asia Pacific",
           "india"
          ],
          [
           "Asia Pacific",
           "india"
          ],
          [
           "Asia Pacific",
           "india"
          ],
          [
           "Asia Pacific",
           "india"
          ],
          [
           "Asia Pacific",
           "india"
          ],
          [
           "Asia Pacific",
           "india"
          ],
          [
           "Asia Pacific",
           "india"
          ],
          [
           "Asia Pacific",
           "india"
          ],
          [
           "Asia Pacific",
           "india"
          ],
          [
           "Asia Pacific",
           "india"
          ],
          [
           "Asia Pacific",
           "india"
          ],
          [
           "Asia Pacific",
           "india"
          ],
          [
           "Asia Pacific",
           "india"
          ],
          [
           "Asia Pacific",
           "japan"
          ],
          [
           "Asia Pacific",
           "pakistan"
          ],
          [
           "Asia Pacific",
           "vietnam"
          ],
          [
           "Asia Pacific",
           "vietnam"
          ],
          [
           "Central & South America",
           "argentina"
          ],
          [
           "Central & South America",
           "argentina"
          ],
          [
           "Central & South America",
           "argentina"
          ],
          [
           "Central & South America",
           "brazil"
          ],
          [
           "Central & South America",
           "brazil"
          ],
          [
           "Central & South America",
           "brazil"
          ],
          [
           "Central & South America",
           "brazil"
          ],
          [
           "Central & South America",
           "brazil"
          ],
          [
           "Central & South America",
           "brazil"
          ],
          [
           "Central & South America",
           "brazil"
          ],
          [
           "Central & South America",
           "brazil"
          ],
          [
           "Central & South America",
           "brazil"
          ],
          [
           "Central & South America",
           "brazil"
          ],
          [
           "Central & South America",
           "brazil"
          ],
          [
           "Central & South America",
           "brazil"
          ],
          [
           "Central & South America",
           "brazil"
          ],
          [
           "Central & South America",
           "chile"
          ],
          [
           "Central & South America",
           "venezuela"
          ],
          [
           "Eurasia",
           "georgia"
          ],
          [
           "Eurasia",
           "kazakhstan"
          ],
          [
           "Eurasia",
           "kazakhstan"
          ],
          [
           "Eurasia",
           "russia"
          ],
          [
           "Eurasia",
           "russia"
          ],
          [
           "Eurasia",
           "russia"
          ],
          [
           "Eurasia",
           "russia"
          ],
          [
           "Eurasia",
           "russia"
          ],
          [
           "Eurasia",
           "russia"
          ],
          [
           "Eurasia",
           "russia"
          ],
          [
           "Eurasia",
           "russia"
          ],
          [
           "Eurasia",
           "russia"
          ],
          [
           "Eurasia",
           "russia"
          ],
          [
           "Eurasia",
           "russia"
          ],
          [
           "Eurasia",
           "russia"
          ],
          [
           "Eurasia",
           "russia"
          ],
          [
           "Eurasia",
           "russia"
          ],
          [
           "Eurasia",
           "russia"
          ],
          [
           "Eurasia",
           "russia"
          ],
          [
           "Eurasia",
           "russia"
          ],
          [
           "Eurasia",
           "russia"
          ],
          [
           "Eurasia",
           "russia"
          ],
          [
           "Eurasia",
           "russia"
          ],
          [
           "Eurasia",
           "russia"
          ],
          [
           "Eurasia",
           "russia"
          ],
          [
           "Eurasia",
           "russia"
          ],
          [
           "Eurasia",
           "russia"
          ],
          [
           "Eurasia",
           "uzbekistan"
          ],
          [
           "Europe",
           "austria"
          ],
          [
           "Europe",
           "austria"
          ],
          [
           "Europe",
           "belarus"
          ],
          [
           "Europe",
           "belgium"
          ],
          [
           "Europe",
           "belgium"
          ],
          [
           "Europe",
           "bosnia and herzegovina"
          ],
          [
           "Europe",
           "bulgaria"
          ],
          [
           "Europe",
           "croatia"
          ],
          [
           "Europe",
           "czech republic"
          ],
          [
           "Europe",
           "czech republic"
          ],
          [
           "Europe",
           "france"
          ],
          [
           "Europe",
           "france"
          ],
          [
           "Europe",
           "france"
          ],
          [
           "Europe",
           "france"
          ],
          [
           "Europe",
           "germany"
          ],
          [
           "Europe",
           "germany"
          ],
          [
           "Europe",
           "germany"
          ],
          [
           "Europe",
           "germany"
          ],
          [
           "Europe",
           "germany"
          ],
          [
           "Europe",
           "germany"
          ],
          [
           "Europe",
           "germany"
          ],
          [
           "Europe",
           "germany"
          ],
          [
           "Europe",
           "germany"
          ],
          [
           "Europe",
           "germany"
          ],
          [
           "Europe",
           "germany"
          ],
          [
           "Europe",
           "germany"
          ],
          [
           "Europe",
           "germany"
          ],
          [
           "Europe",
           "germany"
          ],
          [
           "Europe",
           "germany"
          ],
          [
           "Europe",
           "germany"
          ],
          [
           "Europe",
           "hungary"
          ],
          [
           "Europe",
           "hungary"
          ],
          [
           "Europe",
           "hungary"
          ],
          [
           "Europe",
           "italy"
          ],
          [
           "Europe",
           "italy"
          ],
          [
           "Europe",
           "italy"
          ],
          [
           "Europe",
           "italy"
          ],
          [
           "Europe",
           "italy"
          ],
          [
           "Europe",
           "italy"
          ],
          [
           "Europe",
           "italy"
          ],
          [
           "Europe",
           "italy"
          ],
          [
           "Europe",
           "italy"
          ],
          [
           "Europe",
           "italy"
          ],
          [
           "Europe",
           "italy"
          ],
          [
           "Europe",
           "italy"
          ],
          [
           "Europe",
           "italy"
          ],
          [
           "Europe",
           "italy"
          ],
          [
           "Europe",
           "italy"
          ],
          [
           "Europe",
           "italy"
          ],
          [
           "Europe",
           "luxembourg"
          ],
          [
           "Europe",
           "luxembourg"
          ],
          [
           "Europe",
           "moldova"
          ],
          [
           "Europe",
           "north macedonia"
          ],
          [
           "Europe",
           "poland"
          ],
          [
           "Europe",
           "poland"
          ],
          [
           "Europe",
           "poland"
          ],
          [
           "Europe",
           "poland"
          ],
          [
           "Europe",
           "poland"
          ],
          [
           "Europe",
           "poland"
          ],
          [
           "Europe",
           "poland"
          ],
          [
           "Europe",
           "romania"
          ],
          [
           "Europe",
           "romania"
          ],
          [
           "Europe",
           "romania"
          ],
          [
           "Europe",
           "romania"
          ],
          [
           "Europe",
           "serbia"
          ],
          [
           "Europe",
           "serbia"
          ],
          [
           "Europe",
           "slovakia"
          ],
          [
           "Europe",
           "slovenia"
          ],
          [
           "Europe",
           "spain"
          ],
          [
           "Europe",
           "spain"
          ],
          [
           "Europe",
           "spain"
          ],
          [
           "Europe",
           "spain"
          ],
          [
           "Europe",
           "sweden"
          ],
          [
           "Europe",
           "sweden"
          ],
          [
           "Europe",
           "sweden"
          ],
          [
           "Europe",
           "switzerland"
          ],
          [
           "Europe",
           "türkiye"
          ],
          [
           "Europe",
           "ukraine"
          ],
          [
           "Europe",
           "ukraine"
          ],
          [
           "Europe",
           "ukraine"
          ],
          [
           "Europe",
           "ukraine"
          ],
          [
           "Europe",
           "ukraine"
          ],
          [
           "Europe",
           "ukraine"
          ],
          [
           "Europe",
           "ukraine"
          ],
          [
           "Europe",
           "ukraine"
          ],
          [
           "Europe",
           "united kingdom"
          ],
          [
           "Middle East",
           "iran"
          ],
          [
           "Middle East",
           "iran"
          ],
          [
           "Middle East",
           "iran"
          ],
          [
           "Middle East",
           "iran"
          ],
          [
           "Middle East",
           "iran"
          ],
          [
           "Middle East",
           "iran"
          ],
          [
           "Middle East",
           "iran"
          ],
          [
           "Middle East",
           "iran"
          ],
          [
           "Middle East",
           "iran"
          ],
          [
           "Middle East",
           "iran"
          ],
          [
           "Middle East",
           "iran"
          ],
          [
           "Middle East",
           "iran"
          ],
          [
           "Middle East",
           "iran"
          ],
          [
           "Middle East",
           "iran"
          ],
          [
           "Middle East",
           "iran"
          ],
          [
           "Middle East",
           "iraq"
          ],
          [
           "Middle East",
           "syria"
          ],
          [
           "Middle East",
           "syria"
          ],
          [
           "North America",
           "canada"
          ],
          [
           "North America",
           "canada"
          ],
          [
           "North America",
           "canada"
          ],
          [
           "North America",
           "canada"
          ],
          [
           "North America",
           "canada"
          ],
          [
           "North America",
           "mexico"
          ],
          [
           "North America",
           "mexico"
          ],
          [
           "North America",
           "mexico"
          ],
          [
           "North America",
           "mexico"
          ],
          [
           "North America",
           "mexico"
          ],
          [
           "North America",
           "mexico"
          ],
          [
           "North America",
           "mexico"
          ],
          [
           "North America",
           "mexico"
          ],
          [
           "North America",
           "mexico"
          ],
          [
           "North America",
           "mexico"
          ],
          [
           "North America",
           "mexico"
          ],
          [
           "North America",
           "mexico"
          ],
          [
           "North America",
           "united states"
          ],
          [
           "North America",
           "united states"
          ],
          [
           "North America",
           "united states"
          ],
          [
           "North America",
           "united states"
          ],
          [
           "North America",
           "united states"
          ],
          [
           "North America",
           "united states"
          ],
          [
           "North America",
           "united states"
          ],
          [
           "North America",
           "united states"
          ],
          [
           "North America",
           "united states"
          ],
          [
           "North America",
           "united states"
          ],
          [
           "North America",
           "united states"
          ],
          [
           "North America",
           "united states"
          ],
          [
           "North America",
           "united states"
          ],
          [
           "North America",
           "united states"
          ],
          [
           "North America",
           "united states"
          ],
          [
           "North America",
           "united states"
          ],
          [
           "North America",
           "united states"
          ],
          [
           "North America",
           "united states"
          ],
          [
           "North America",
           "united states"
          ],
          [
           "North America",
           "united states"
          ],
          [
           "North America",
           "united states"
          ],
          [
           "North America",
           "united states"
          ],
          [
           "North America",
           "united states"
          ],
          [
           "North America",
           "united states"
          ],
          [
           "North America",
           "united states"
          ],
          [
           "North America",
           "united states"
          ],
          [
           "North America",
           "united states"
          ],
          [
           "North America",
           "united states"
          ],
          [
           "North America",
           "united states"
          ],
          [
           "North America",
           "united states"
          ],
          [
           "North America",
           "united states"
          ],
          [
           "North America",
           "united states"
          ],
          [
           "North America",
           "united states"
          ],
          [
           "North America",
           "united states"
          ],
          [
           "North America",
           "united states"
          ],
          [
           "North America",
           "united states"
          ],
          [
           "North America",
           "united states"
          ],
          [
           "North America",
           "united states"
          ],
          [
           "North America",
           "united states"
          ],
          [
           "North America",
           "united states"
          ],
          [
           "North America",
           "united states"
          ],
          [
           "North America",
           "united states"
          ],
          [
           "North America",
           "united states"
          ],
          [
           "North America",
           "united states"
          ],
          [
           "North America",
           "united states"
          ],
          [
           "North America",
           "united states"
          ],
          [
           "North America",
           "united states"
          ],
          [
           "North America",
           "united states"
          ],
          [
           "North America",
           "united states"
          ],
          [
           "North America",
           "united states"
          ],
          [
           "North America",
           "united states"
          ],
          [
           "North America",
           "united states"
          ],
          [
           "North America",
           "united states"
          ],
          [
           "North America",
           "united states"
          ],
          [
           "North America",
           "united states"
          ],
          [
           "North America",
           "united states"
          ],
          [
           "North America",
           "united states"
          ],
          [
           "North America",
           "united states"
          ],
          [
           "North America",
           "united states"
          ]
         ],
         "hovertemplate": "<b>%{hovertext}</b><br><br>more_than_50km=True<br>lat=%{lat}<br>lon=%{lon}<br>Region=%{customdata[0]}<br>Country=%{customdata[1]}<extra></extra>",
         "hovertext": [
          "Egyptian Steel Beni Suef plant",
          "Egyptian Iron & Steel Company Cairo plant",
          "Egyptian American Steel Rolling Company Sadat City plant",
          "Egyptian Sponge Iron and Steel Company Sadat City plant",
          "Ezz Steel Rebar Sadat City plant",
          "ArcelorMittal Vanderbijlpark Steel Works",
          "ArcelorMittal Newcastle Steel Works",
          "Acerinox Columbus Stainless steel plant",
          "Tembo Steels Iganga plant",
          "Anhui Guihang Special Steel Co., Ltd.",
          "Chizhou Guichi Guihang Metal Products Co., Ltd.",
          "Huainan Hongtai Iron and Steel Co., Ltd.",
          "Anhui Shoukuang Dachang Metal Material Co., Ltd.（phase 1)",
          "Ma'anshan Iron & Steel Co., Ltd.",
          "Anhui Changjiang Steel Co., Ltd.",
          "Tongling Fuxin Iron and Steel Co., Ltd.",
          "Tongling Xuanli Special Steel Co., Ltd.",
          "Wuhu Xinxing Ductile Iron Pipes Co., Ltd.",
          "Wuhu Fuxin Iron and Steel Co., Ltd.",
          "Anhui Langxi Hongtai Iron and Steel Co., Ltd.",
          "Anhui Jingxian Longxin Iron and Steel Co., Ltd.",
          "Chongqing Iron & Steel Co., Ltd.",
          "Sichuan Desheng Group Vanadium and Titanium Co., Ltd.",
          "Chongqing Zuhang Iron & Steel Co., Ltd",
          "Chongqing Yonghang Steel Group Co., Ltd.",
          "Fujian Quanzhou Minguang Iron and Steel Co., Ltd.",
          "Sansteel Minguang Co., Ltd. Fujian",
          "Gansu Jiu Steel Group Hongxing Iron and Steel Co., Ltd.",
          "Jiugang Group Yuzhong Iron & Steel Co., Ltd.",
          "Lanxin Steel Group Co., Ltd.",
          "Heyuan Derun Steel Co., Ltd.",
          "Heping Yueshen Steel Industry Co., Ltd.",
          "SGIS Songshan Co.,Ltd.",
          "Guangdong Yuebei United Steel Co., Ltd.",
          "Guangxi Guigang Iron and Steel Group Co., Ltd.",
          "Guangxi Guigang Iron and Steel Group Guigang Guibao Special Steel Co., Ltd.",
          "Guilin Pinggang Iron and Steel Co., Ltd.",
          "Guangxi Guixin Iron and Steel Group Co., Ltd.",
          "Hezhou Zhaoxin Hardware Products Co., Ltd.",
          "Guangxi Guifeng Special Steel Co., Ltd.",
          "Hezhou Xindu Sanyuan Casting Co., Ltd.",
          "Guangxi Hezhou Kexinda Metal Products Co., Ltd.",
          "Liuzhou Iron & Steel Co., Ltd.(Liuzhou Base）",
          "Guangxi Deyuan Metallurgy Co., Ltd.",
          "Wuzhou Yongda Iron and Steel Co., Ltd.",
          "Wuzhou Yongda Special Steel Co., Ltd.",
          "Guangxi Wuzhou Jinhai Stainless Steel Co., Ltd.",
          "Shougang Guiyang Special Steel Co., Ltd.",
          "Shougang Shuicheng Iron and Steel (Group) Co., Ltd.",
          "Guizhou Hexing Metal Products Co., Ltd.",
          "Guizhou Juxin Iron and Steel (Group) Co., Ltd.",
          "Guizhou United Iron and Steel (Group) Co., Ltd.",
          "Guizhou Ganglian Industrial Group Co., Ltd.",
          "Zunyi Fuxin Special Steel Equipment Manufacturing Co., Ltd.",
          "Zunyi Changling Special Steel Co., Ltd.",
          "Chengde Iron and Steel Group Co., Ltd.",
          "Chengde Jianlong Special Steel Co., Ltd.",
          "Chengde Zhaofeng Steel Group Co., Ltd.",
          "Chengde Shengfeng Iron and Steel Co., Ltd.",
          "Hebei Xinxing Ductile Iron Pipes Co., Ltd.",
          "Handan Iron and Steel Group Co., Ltd.",
          "Hebei Puyang Iron and Steel Co., Ltd.",
          "Wu'an Yuhua Iron and Steel Co., Ltd.",
          "Hebei Wenfeng Iron and Steel Co., Ltd.",
          "Zhongpu (Handan) Iron and Steel Co., Ltd.",
          "Hebei Xinwu'an Iron and Steel Group Xinhui Metallurgy Co., Ltd.",
          "Hebei Yongyang Special Steel Group Co., Ltd.",
          "Jinding Heavy Industry Co., Ltd.",
          "Hebei Xin Wu'an Steel Group Wen'an Iron and Steel Co., Ltd.",
          "Wu'an Mingfang Iron and Steel Co., Ltd.",
          "Hebei Baoxin Iron and Steel Group Co., Ltd.",
          "Hebei Xin Wu'an Steel Group Hongrong Iron and Steel Co., Ltd.",
          "Hebei Xinjin Iron and Steel Co., Ltd.",
          "Hebei Xinghua Iron and Steel Co., Ltd.",
          "Hebei Mingbin Iron and Steel Co., Ltd.",
          "Shijiazhuang Iron & Steel Co., Ltd.",
          "Jingye Iron and Steel Co., Ltd.",
          "Xinji Aosen Iron and Steel Group Co., Ltd.",
          "Qian'an Zhayi Steel Group Co., Ltd.",
          "Shougang Qian'an Iron and Steel Co., Ltd.",
          "Qian'an Jiujiang Wire Co., Ltd.",
          "Hebei Yanshan Iron and Steel Group Co., Ltd.",
          "Tangshan Songting Iron & Steel Co., Ltd.",
          "Hebei Jinxi Iron & Steel Group Co., Ltd.",
          "Tangshan Ganglu Iron and Steel Co., Ltd.",
          "Hebei Donghai Special Steel Co., Ltd.",
          "Tangshan Jianlong Special Steel Co., Ltd.",
          "Tangshan Stainless Steel Co., Ltd.",
          "Tangshan Xinbaotai Iron and Steel Co., Ltd.",
          "Tangshan Jinma Steel Group Co., Ltd.",
          "Hebei Xinda Iron and Steel Group Co., Ltd.",
          "Tangshan Guoyi Special Type Iron and Steel Co., Ltd.",
          "Hebei Rongxin Steel Co., Ltd.",
          "Tangshan Donghai Iron and Steel Group Co., Ltd.",
          "Tangshan Chunxing Special Steel Co., Ltd.",
          "Hebei Tianzhu Iron and Steel Group Co., Ltd.",
          "Hebei Tangyin Iron and Steel Co., Ltd.",
          "Tangshan Yutian Jinzhou Industrial Co., Ltd.",
          "Tangshan Zhengfeng Steel Co., Ltd.",
          "Xingtai Iron & Steel Co., Ltd.",
          "Delong Steel Co., Ltd.",
          "Xuanhua Iron and Steel Group Co., Ltd.",
          "Jianglong Acheng Iron & Steel Co., Ltd.",
          "Jianlong Beiman Special Steel Co., Ltd.",
          "Heilongjiang Jianlong Iron and Steel Co., Ltd.",
          "Jianlong Xilin Iron and Steel Co., Ltd.",
          "Anyang Iron & Steel Co., Ltd.",
          "Wuyang Iron and Steel Co., Ltd.",
          "Shagang Group Anyang Yongxing Special Steel Co., Ltd.",
          "Anyang Xinpu Steel Co., Ltd.",
          "Henan Yaxin Iron and Steel Group Co., Ltd.",
          "Anyang Huixin Special Steel Co., Ltd.",
          "Henan Xinjinhui Stainless Steel Industry Co., Ltd.",
          "Henan Changtai Stainless Steel Plate Co., Ltd.",
          "Henan Jiyuan Iron & Steel (Group) Co., Ltd.",
          "Henan Fengbao Special Steel Co., Ltd.",
          "Luoyang Luogang Group of Steel and Iron Co., Ltd.",
          "Nanyang Hanye Special Steel Co., Ltd.",
          "Angang Group Xinyang Iron and Steel Co., Ltd.",
          "Minyuan Iron and Steel Group Co., Ltd.",
          "Zhengzhou Yongtong Special Steel Co., Ltd.",
          "Baowu Group Echeng Iron and Steel Co., Ltd.",
          "Ezhou Hongtai Steel Co., Ltd.",
          "Hubei Wucheng Iron and Steel Group Co., Ltd.",
          "Daye Special Steel Co., Ltd.",
          "Daye Xinye Special Steel Co., Ltd.",
          "Daye Huaxin Industrial Co., Ltd.",
          "Jingzhou Qunli Metal Products Co., Ltd.",
          "Shiyan Fuyan Iron and Steel Co., Ltd.",
          "Shiyan Yunyang District Rongfeng Iron & Steel Co., Ltd.",
          "Guangshui Huaxin Metallurgical Industry Co., Ltd.",
          "Wuhan Iron and Steel Co., Ltd.",
          "Wuhan Shunle Stainless Steel Co., Ltd.",
          "WISCO Group Xiangyang Heavy Equipment Materials Co., Ltd.",
          "Hubei Lijin Steel Group Co., Ltd.",
          "Hubei Jinshenglan Metallurgical Technology Co., Ltd.",
          "Hubei Dazhan Iron & Steel Co., Ltd.",
          "Yichang Fulong Iron & Steel Co., Ltd.",
          "Hengyang Valin Steel Tube Co., Ltd.",
          "Lengshuijiang Steel Co., Ltd.",
          "Hunan Valin Lianyuan Iron and Steel Co., Ltd.",
          "Hunan Valin Xiangtan Iron and Steel Co., Ltd.",
          "Inner Mongolia BaoTou Steel Union Co., Ltd.",
          "Inner Mongolia Baotou Jiyu Iron and Steel Co., Ltd.",
          "Baotou Baoxin Special Steel Co., Ltd.",
          "Baotou Da'an Iron and Steel Co., Ltd.",
          "Inner Mongolia Yaxin Longshun Special Steel Co., Ltd.",
          "Chifeng Yuanlian Steel Co., Ltd.",
          "Inner Mongolia Desheng Metal Products Co., Ltd.",
          "Wuhai Baogang Wanteng Iron and Steel Co., Ltd.",
          "Wulanhot Steel Co., Ltd.",
          "Jiangsu Shente Steel Co. Ltd.",
          "Jiangsu Shagang Group Huaigang Special Steel Co., Ltd.",
          "Nanjing Iron & Steel Co., Ltd.",
          "Shanghai Meishan Iron and Steel Co., Ltd.",
          "Jiangsu Suxin Special Steel Group Co., Ltd.",
          "Jiangsu Xugang Iron and Steel Group Co., Ltd.",
          "Xuzhou Baofeng Special Steel Co., Ltd.",
          "Xuzhou Taifa Special Steel Group Co., Ltd.",
          "Zhongxin Iron and Steel Group Co., Ltd.",
          "Xuzhou Jinhong Iron and Steel Group Co., Ltd.",
          "Yangzhou Qinyou Special Metal Materials Co., Ltd.",
          "Longnan Fuxin Iron and Steel Co., Ltd.",
          "Jiujiang Pinggang Iron and Steel Co., Ltd.",
          "Fangda Special Steel Technology Co., Ltd.",
          "Pingxiang Pinggang Anyuan Iron & Steel Co., Ltd.",
          "Jiangxi Taixin Iron & Steel Co., Ltd.",
          "Xinyu Iron and Steel Group Co., Ltd.",
          "Baicheng Fuda Bar Rolling Co., Ltd.",
          "Jilin Steel Group Taihua Metal Equipment Manufacture Co., Ltd.",
          "Jilin Steel Group Fugang Metal Manufacturing Co., Ltd.",
          "Jilin Jianlong Steel Co., Ltd.",
          "Jilin Xinda Iron and Steel Co., Ltd.",
          "Panshi Jianlong Iron and Steel Co., Ltd.",
          "Jilin Jingang Iron and Steel Co., Ltd.",
          "Tonghua Iron and Steel Co., Ltd.",
          "Angang Steel Co., Ltd.",
          "Houying Group Haicheng Iron and Steel Co., Ltd. Datun Branch",
          "Anshan Baode Iron & Steel Co., Ltd.",
          "Bengang Steel Plates Co., Ltd.",
          "Benxi Beiying Iron & Steel (Group) Co., Ltd.",
          "Ansteel Group Chaoyang Steel & Iron Co., Ltd.",
          "Lingyuan Iron & Steel Co.,Ltd.",
          "Fushun New Steel Co., Ltd.",
          "Fushun Special Steel Co., Ltd.",
          "Liaoyang Xinyi Special Steel Co., Ltd.",
          "Ningxia Jianlong Special Steel Co., Ltd.",
          "Ningxia Iron and Steel (Group) Co., Ltd.",
          "Xining Special Steel Co., Ltd.",
          "Shaanxi Longmen Steel Co., Ltd.",
          "Shaanxi Steel Group Hanzhong Iron and Steel Co., Ltd.",
          "Shaanxi Lueyang Iron and Steel Co., Ltd.",
          "Shaanxi Hanzhong Iron & Steel Group Co., Ltd.",
          "Shaanxi Huaxin Special Steel Group Co., Ltd.",
          "Shandong Guangfu Group Co., Ltd.",
          "Xiwang Metal Science Technology Co., Ltd.",
          "Shandong Chuanyang Group Co., Ltd.",
          "Shandong Laigang Yongfeng Steel Co., Ltd.",
          "Shandong Taishan Steel Group Co., Ltd.",
          "Shandong Fulun Iron and Steel Co., Ltd.",
          "Shandong Minyuan Iron and Steel Co., Ltd.",
          "Laiwu Iron and Steel Group Yinshan Section Steel Co., Ltd.",
          "Linyi Jiangxin Iron and Steel Co., Ltd.",
          "Shiheng Special Steel Group Co., Ltd.",
          "Weifang Special Steel Group Co., Ltd.",
          "Shandong Iron and Steel Group Yongfeng Zibo Co., Ltd.",
          "Shandong Longsheng Iron and Steel Co., Ltd.",
          "Zibo Qilin Fushan Iron and Steel Co., Ltd.",
          "Changzhi Xingbao Steel Co., Ltd.",
          "Licheng Taihang Iron & Steel Co., Ltd.",
          "Shanxi Changxin Industrial Co., Ltd.",
          "Shougang Changzhi Iron and Steel Co., Ltd.",
          "Jinye Iron and Steel Group Co., Ltd.",
          "Shanxi Tongde Xinghua Special Steel Co., Ltd.",
          "Shanxi Hongda Iron and Steel Group Co., Ltd.",
          "Shanxi Huaxinyuan Steel & Iron Group Co., Ltd.",
          "Jincheng Fusheng Iron & Steel Co., Ltd.",
          "Shanxi Xintai Iron and Steel Co., Ltd.",
          "Shanxi Liheng Steel Co., Ltd.",
          "Xiangfen County Xingyuan Steel Group Co., Ltd.",
          "Shanxi Zhongsheng Iron and Steel Co., Ltd.",
          "Xiangfen County Xinjinshan Special Steel Co., Ltd.",
          "Shanxi Jianbang Group Casting Co., Ltd.",
          "Shanxi Zhongyang Iron and Steel Co., Ltd.",
          "Shanxi Taigang Stainless Steel Co., Ltd.",
          "Shanxi Meijin Iron and Steel Co., Ltd.",
          "Shanxi Gaoyi Steel Co., Ltd.",
          "Shanxi Jianlong Industrial Co., Ltd.",
          "Jishan Mingfu Steel Products Co., Ltd.",
          "Chengdu Changfeng Iron and Steel Group Co., Ltd.",
          "Pangang Group Xichang Steel and Vanadium Co., Ltd.",
          "Pangang Group Jiangyou Changcheng Special Steel Co., Ltd.",
          "Chengyu Vanadium & Titanium Technology Co., Ltd.",
          "Pangang Group Panzhihua Steel Vanadium Co., Ltd.",
          "Sichuan Shehong Chuanzhong Construction Materials Co., Ltd.",
          "Sichuan Dazhou Iron & Steel Group Co., Ltd.",
          "Sichuan Ya'an Anshan Iron and Steel Co., Ltd.",
          "Tianjin Iron Plant",
          "Xinjiang Kingtec Steel Co., Ltd.",
          "Xinjiang Tianshan Iron and Steel Bazhou Co., Ltd.",
          "Xinjiang Minxin Iron and Steel (Group) Minhang Special Steel Co., Ltd.",
          "Xinjiang Xin'an Special Steel Co., Ltd.",
          "Xinjiang Da'an Special Steel Co., Ltd.",
          "Xinjiang Kunyu Iron and Steel Co., Ltd.",
          "Xinjiang Yili Iron and Steel Co., Ltd.",
          "Baosteel Group Xinjiang Bayi Iron & Steel Co., Ltd.",
          "Yunnan Desheng Iron and Steel Co., Ltd.",
          "WISCO Group Kunming Steel Co., Ltd. Honghe Iron and Steel Company",
          "WISCO Group Kunming Steel Co., Ltd. Anning Branch",
          "Yunnan Tiangao Nickel Alloy Co., Ltd.",
          "Yunnan Qujing Iron and Steel Group Chenggang Iron and Steel Co., Ltd.",
          "Yunnan Qujing Iron and Steel Group Fenghuang Steel Co., Ltd.",
          "WISCO Group Kunming Steel Co., Ltd. Yuxi Xinxing Steel Company",
          "Yunnan Yuxi Iron and Steel Group Yukun Iron and Steel Co., Ltd.",
          "Yunnan Yuxi Xianfu Iron & Steel (Group) Co., Ltd.",
          "Lishui Huahong Iron and Steel Products Co., Ltd.",
          "Zhejiang Yuxin Industrial Co., Ltd.",
          "Quzhou Yuanli Metal Products Co., Ltd.",
          "Arjas Steel Tadipatri plant",
          "SAIL Bhilai steel plant BF and BOF 1 expansion",
          "Prakash Industries steel plant",
          "JSPL Chhattisgarh steel plant",
          "JSW Ispat Special Products Raigarh steel plant",
          "MSP Steel & Power Raigarh plant",
          "Jayaswal Neco Industries Raipur steel plant",
          "Godawari Power and Ispat steel plant",
          "JSW Ispat Special Products Raipur steel plant",
          "Jindal Stainless Hisar steel plant",
          "Atibir Industries steel plant",
          "ESL Steel plant",
          "SAIL Bokaro steel plant",
          "Tata Steel Jamshedpur steel plant",
          "Tata Steel Long Products steel plant",
          "JSPL Jharkhand steel plant",
          "BMM Ispat steel plant",
          "Kalyani Steels Hospet plant",
          "JSW Steel Vijayanagar steel plant",
          "Jayaswal Neco Industries Nagpur steel plant",
          "Sunflag Iron and Steel plant",
          "JSPL Odisha steel plant",
          "Neelachal Ispat Nigam steel plant",
          "Jindal Stainless Odisha steel plant",
          "Tata Steel Kalinganagar steel plant",
          "Mesco Steel Kalinganagar plant",
          "Sree Metaliks Barbil steel plant",
          "Orissa Sponge Iron & Steel plant",
          "Tata Steel BSL Dhenkanal plant",
          "SAIL Rourkela steel plant",
          "Jai Balaji Jyoti Steels plant",
          "JSW BPSL Odisha steel plant",
          "JSW Steel Salem steel plant",
          "SAIL IISCO steel plant",
          "SAIL Durgapur steel plant",
          "SAIL Alloy Steel Plant",
          "Jai Balaji Durgapur steel plant",
          "Shyam Steel Durgapur plant",
          "Tata Metaliks West Bengal steel plant",
          "Rashmi Metaliks Kharagpur steel plant",
          "Tokyo Steel Utsunomiya plant",
          "Ittehad Steel Faisalabad plant",
          "Lao Cai Cast Iron and Steel Plant",
          "Thai Nguyen Iron & Steel plant",
          "Ternium Siderar San Nicolás steel plant",
          "Gerdau Sipar Pérez steel plant",
          "ArcelorMittal Acindar Villa Constitución steel plant",
          "AVB Açailândia steel plant",
          "Gerdau Divinópolis steel plant",
          "Usiminas Ipatinga steel plant",
          "Vallourec Jeceaba steel plant",
          "ArcelorMittal Monlevade steel plant",
          "ArcelorMittal Juiz de Fora steel plant",
          "Gerdau Açominas Ouro Branco steel plant",
          "Aperam Timóteo steel plant",
          "Gerdau Guaíra Araucária steel plant",
          "Gerdau São Paulo Araçariguama steel plant",
          "Simec Pindamonhangaba steel plant",
          "Gerdau Pindamonhangaba steel plant",
          "ArcelorMittal Piracicaba steel plant",
          "AZA Colina steel plant",
          "Sidor Ciudad Guayana steel plant",
          "Rustavi Metallurgical Plant",
          "ArcelorMittal Temirtau steel plant",
          "KSP Steel Pavlodar steel plant",
          "Metalloinvest OEMK steel plant",
          "Ashinskiy Metallurgical Works",
          "Mechel Chelyabinsk Metallurgical Plant",
          "Magnitogorsk Iron & Steel Works",
          "Zlatoust Metallurgical Plant",
          "NLMK Kaluga steel plant",
          "Evraz ZSMK steel plant",
          "Amurstal steel plant",
          "NLMK Lipetsk steel plant",
          "OMK Vyksa Casting and Rolling Complex",
          "Ural Steel Metallurgical Plant",
          "Kamsky Metallurgical Works TEMPO",
          "Balakovo Steel Factory",
          "StavStal Metallurgical Plant",
          "Evraz NTMK steel plant",
          "Iron Ozone 32 steel plant",
          "TMK Seversky Pipe Plant",
          "NLMK Ural steel plant",
          "Nadezhdinski Metallurgical Plant (Serov)",
          "IMH Tulachermet",
          "Tyumen Electrosteel plant",
          "VMK Red October steel plant",
          "Volzhsky Pipe Plant",
          "Severstal Cherepovets steel plant",
          "Uzmetkombinat steel plant",
          "Voestalpine Stahl Donawitz steel plant",
          "Voestalpine Stahl Linz steel plant",
          "Byelorussian Steel Works",
          "Thy Marcinelle Charleroi steel plant",
          "Aperam Stainless Belgium Châtelet steel plant",
          "ArcelorMittal Zenica steel plant",
          "Stomana Industry Pernik steel plant",
          "ABS Sisak Iron & Steel plant",
          "GFG Liberty Ostrava steel plant",
          "TZMS Třinecké železárny Trinec steel plant",
          "Riva Sam Neuves-Maisons steel plant",
          "Riva Iton Seine Bonnieres Sur Seine steel plant",
          "Riva Alpa Gargenville steel plant",
          "Riva Sam Montereau steel plant",
          "Kehler Baden Steel Works",
          "Lech Stahlwerke Meitingen steel plant",
          "Riva Brandenburg Electric Steel Works",
          "ArcelorMittal Eisenhüttenstadt steel plant",
          "Riva Hennigsdorfer Electric Steel Works",
          "Benteler Steel Tube Lingen plant",
          "Salzgitter Peiner Träger Peine steel plant",
          "Salzgitter Flachstahl steel plant",
          "ThyssenKrupp Steel Duisburg steel plant",
          "Hüttenwerke Krupp Mannesmann (HKM) steel plant",
          "ArcelorMittal Duisburg steel plant",
          "Deutsche Edelstahlwerke steel plant",
          "AG der Dillinger Hüttenwerke Dillingen steel plant",
          "Saarstahl Völklingen Steelmaking Plant",
          "ESF Elbe Stahlwerke Feralpi Riesa plant",
          "CSN Stahlwerk Thüringen Unterwellenborn steel plant",
          "Diósgyőr Steelworks Miskolc",
          "ÓAM Ózdi Acélművek Kft Ózd steel plant",
          "ISD Dunaferr Dunaújváros steel plant",
          "Tenaris Dalmine steel plant",
          "Alfa Acciai Brescia steel plant",
          "Feralpi Siderurgica Lonato steel plant",
          "Ori Martin Brescia steel plant",
          "Feralpi Calvisano Lonato steel plant",
          "Ferriera Valsabbia Odolo steel plant",
          "IRO Odolo steel plant",
          "Duferci Travu e Profilati San Zeno Naviglio steel plant",
          "Finarvedi Cremona steel plant",
          "Pittini Siderpotenza Potenza steel plant",
          "Finarvedi Acciai Speciali Terni steel plant",
          "Acciaierie Venete Borgo Valsugana steel plant",
          "Pittini Ferriere Nord Osoppo steel plant",
          "Riva Acciaio Caronno Pertusella steel plant",
          "Pittini Acciaierie di Verona steel plant",
          "AFV Accaierie Beltrame Vicenza steel plant",
          "ArcelorMittal Differdange steel plant",
          "ArcelorMittal Esch-Belval steel plant",
          "JSC Moldova Steel Works",
          "Makstil Skopje Steel plant",
          "ArcelorMittal Kraków steel plant",
          "ArcelorMittal Warszawa steel plant",
          "Liberty Czestochowa steel plant",
          "ArcelorMittal Dąbrowa Górnicza steel plant",
          "CMC Zawiercie steel plant",
          "Ferrostal Labedy Gliwice steel plant",
          "Celsa Huta Ostrowiec steel plant",
          "Otelu Rosu Steel Plant",
          "Resita Iron & Steel Works",
          "GFG Liberty Galati steel plant",
          "ArcelorMittal Hunedoara steel plant",
          "HBIS GROUP Serbia Iron & Steel plant Belgrade",
          "Metalfer Steel Mill Sremska Mitrovica",
          "U. S. Steel Košice steel plant",
          "SIJ Acroni Jesenice steel plant",
          "Grupo Gallardo Siderurgica Balboa Jerez de los Caballeros steel plant",
          "Grupo Gallardo Corrugados Getafe steel plant",
          "Riva Siderurgica Sevillana steel plant",
          "Megasider Zaragoza steel plant",
          "Outokumpu Avesta steel plant",
          "Ovako Smedjebacken steel plant",
          "Ovako Hofors steel plant",
          "Stahl Gerlafingen steel plant",
          "Kardemir Merkez steel plant",
          "DCH Dnipro Metallurgical Plant",
          "Interpipe Steel Plant",
          "Metallurgical Plant Kametstal",
          "ArcelorMittal Kryvyi Rih steel plant",
          "Yuzovsky Metallurgical Plant",
          "Yenakiieve Iron & Steel Works",
          "Alchevsk Iron & Steel plant",
          "Metinvest Zaporizhstal steel plant",
          "Marcegaglia Sheffield steel plant",
          "Bonab Steel Complex",
          "Miyaneh Steel East Azerbaijan",
          "Pasargad Steel Complex Fars",
          "Esfahan Steel Isfahan plant",
          "Mobarakeh Steel Complex Isfahan",
          "Natanz Steel Company Isfahan plant",
          "Sirjan Iranian Steel Kerman Plant",
          "Butia Steel Kerman plant",
          "Jahan Foolad Sirjan Steel Kerman plant",
          "Zarand Iranian Steel Company Kerman plant",
          "Khorasan Steel Complex Khuzestan",
          "Ghadir Iron & Steel plant Yazd",
          "Arfa Iron and Steel Yazd plant",
          "Iran Alloy Steel Company Yazd plant",
          "West Alborz Ana Steel Zanjan plant",
          "Mass Iron and Steel Industry Co Sulaimaniya plant",
          "Hadeed Metal Manufacturing Co Damascus steel plant",
          "Hmisho Steel Hassia plant",
          "ArcelorMittal Dofasco steel plant",
          "Stelco Lake Erie steel plant",
          "Algoma Steel plant",
          "Gerdau Whitby Steel Mill",
          "Evraz Regina Steel plant",
          "Altos Hornos De Mexico S.A. (AHMSA) steel plant",
          "Deacero Saltillo-Ramos Arizpe steel plant",
          "Deacero Celaya steel plant",
          "Gerdau Corsa Ciudad Sahagún steel plant",
          "Ternium Apodaca steel plant",
          "Ternium Guerrero San Nicolás de los Garza steel plant",
          "Ternium Puebla steel plant",
          "Grupo Acerero steel plant",
          "Acero Simec San Luis steel plants",
          "Gerdau Tultitlán (Sidertul) steel plant",
          "Acero Simec Apizaco steel plant",
          "TYASA steel plant",
          "CMC Alabama steel plant",
          "Nucor Steel Decatur plant",
          "Nucor Steel Tuscaloosa plant",
          "CMC Arizona steel plant",
          "Nucor Steel Hickman plant",
          "Nucor-Yamato Steel Blytheville plant",
          "Gerdau Fort Smith steel plant",
          "U.S. Steel Big River Steel plant",
          "Evraz Pueblo steel plant",
          "CMC Steel Florida plant",
          "Gerdau Cartersville steel plant",
          "Alton Steel plant",
          "Nucor Steel Kankakee plant",
          "Finkl Steel Chicago plant",
          "U.S. Steel Granite City Works",
          "Liberty Steel & Wire Peoria plant",
          "Cleveland-Cliffs Riverdale steel plant",
          "Leggett & Platt Sterling Steel plant",
          "Cleveland-Cliffs Burns Harbor steel plant",
          "Steel Dynamics Butler plant",
          "Steel Dynamics Columbia City plant",
          "Nucor Steel Crawfordsville plant",
          "Cleveland-Cliffs Indiana Harbor steel plant",
          "U.S. Steel Gary Works",
          "Steel Dynamics Engineered Bar Products steel plant",
          "NLMK Indiana steel plant",
          "SSAB Americas Iowa steel plant",
          "North American Stainless steel plant",
          "Nucor Steel Gallatin plant",
          "Cleveland-Cliffs Dearborn steel plant",
          "U.S. Steel Great Lakes Works",
          "Gerdau Monroe steel plant",
          "Gerdau Saint Paul steel plant",
          "Steel Dynamics Columbus plant",
          "Nucor Steel Norfolk plant",
          "Republic Steel Canton plant",
          "Timken Harrison steel plant",
          "Timken Faircrest steel plant",
          "Cleveland-Cliffs Cleveland steel plant",
          "Charter Steel Cleveland plant",
          "BlueScope North Star Steel plant",
          "Cleveland-Cliffs Mansfield Works",
          "Cleveland-Cliffs Middletown steel plant",
          "JSW Steel USA Ohio plant",
          "Vallourec Star Youngstown steel plant",
          "Cascade Steel Rolling Mills",
          "U.S. Steel Edgar Thomson Plant",
          "Cleveland-Cliffs Butler steel plant",
          "Cleveland-Cliffs Steelton steel plant",
          "CMC South Carolina steel plant",
          "Nucor Steel Darlington plant",
          "CMC Tennessee steel plant",
          "Nucor Steel Memphis plant",
          "Nucor Steel Jewett plant",
          "Gerdau Midlothian Steel Mill",
          "CMC Steel Texas plant",
          "Nucor Steel Plymouth plant",
          "Steel Dynamics Roanoke steel plant",
          "Charter Steel Saukville plant"
         ],
         "lat": [
          29.152604,
          29.774458,
          30.389174,
          30.393079,
          30.382179,
          -26.657367,
          -27.705376,
          -25.796313,
          0.611975,
          30.531068,
          30.532786,
          32.619248,
          32.329171,
          31.698884,
          31.502272,
          30.907561,
          31.062807,
          31.229893,
          31.194505,
          31.246635,
          30.709058,
          29.790253,
          29.39798,
          29.440056,
          29.836163,
          25.244396,
          26.261109,
          39.812121,
          36.033646,
          36.488866,
          23.693659,
          24.49796,
          24.708232,
          24.262452,
          23.088182,
          23.089502,
          24.673567,
          23.978962,
          23.978567,
          23.987136,
          23.987007,
          23.979937,
          24.385304,
          22.712996,
          23.524465,
          23.520307,
          23.518229,
          26.873592,
          26.595229,
          26.509525,
          25.150857,
          27.591691,
          27.615147,
          27.591697,
          27.614947,
          40.947707,
          40.515035,
          40.593875,
          40.622466,
          36.621504,
          36.601308,
          36.733675,
          36.731752,
          36.64577,
          36.721376,
          36.664097,
          36.786851,
          36.718952,
          36.679431,
          36.710754,
          36.555205,
          36.640411,
          36.715632,
          36.744936,
          36.631491,
          38.060735,
          38.391372,
          37.752351,
          40.044026,
          39.976702,
          39.952209,
          39.925508,
          39.938866,
          40.209844,
          40.183913,
          39.610605,
          40.167686,
          39.730795,
          39.861425,
          39.700499,
          39.898362,
          39.659153,
          39.880661,
          39.748373,
          39.676326,
          39.803524,
          39.699354,
          39.967373,
          39.85271,
          37.041601,
          37.086116,
          40.589591,
          45.562002,
          47.191285,
          46.602297,
          47.495036,
          36.122129,
          33.287536,
          36.143573,
          36.163203,
          35.879956,
          36.152418,
          34.263509,
          34.702951,
          35.086396,
          36.131666,
          34.798477,
          33.269324,
          32.488704,
          34.013369,
          34.64443,
          30.39574,
          30.532352,
          30.341239,
          30.204603,
          30.067469,
          30.070219,
          30.3505,
          32.650367,
          32.738598,
          31.50221,
          30.616222,
          30.394434,
          32.10704,
          32.127263,
          29.916729,
          31.006752,
          30.586332,
          26.865484,
          27.690401,
          27.747782,
          27.81413,
          40.647997,
          40.662343,
          41.362925,
          40.662343,
          40.689778,
          42.278115,
          39.867015,
          39.855971,
          46.055685,
          31.471123,
          33.566039,
          32.200797,
          31.902969,
          31.400644,
          34.577016,
          34.364872,
          34.448514,
          34.368618,
          34.500122,
          32.838703,
          24.912904,
          29.778431,
          28.645441,
          27.64555,
          28.60445,
          27.786859,
          45.593303,
          44.138826,
          44.022802,
          44.011951,
          42.3249,
          43.196537,
          43.20023,
          41.779125,
          41.148267,
          40.981855,
          41.173613,
          41.274132,
          41.224814,
          41.528945,
          41.271048,
          41.841223,
          41.838774,
          41.225003,
          39.215452,
          37.503054,
          36.66856,
          35.618466,
          33.133192,
          33.323678,
          33.132446,
          34.523278,
          36.863145,
          36.928208,
          36.894784,
          36.813545,
          36.22141,
          36.308447,
          36.728409,
          36.106143,
          34.951117,
          36.229201,
          36.644469,
          36.906036,
          36.891189,
          36.887998,
          36.332449,
          36.472303,
          36.326589,
          36.356404,
          36.148131,
          40.183517,
          35.701895,
          35.605506,
          35.662985,
          37.075017,
          35.701541,
          35.880324,
          35.727776,
          35.934831,
          35.668163,
          37.370796,
          37.931488,
          37.571354,
          35.586841,
          35.417405,
          35.665945,
          31.031921,
          27.74799,
          31.763517,
          29.732143,
          26.565265,
          30.830726,
          31.18945,
          30.059133,
          36.58967,
          42.674192,
          42.333321,
          44.080866,
          44.290299,
          42.700465,
          44.404189,
          43.526808,
          43.852147,
          25.142516,
          23.470733,
          24.909695,
          24.80128,
          25.45543,
          26.275342,
          24.249024,
          24.465884,
          24.012309,
          28.090098,
          28.787202,
          28.893407,
          14.873471,
          21.185157,
          22.004694,
          21.922703,
          21.983709,
          21.87673,
          21.354495,
          21.376214,
          21.244467,
          29.127253,
          24.145239,
          23.632907,
          23.671677,
          22.788598,
          22.812895,
          23.632991,
          15.16972,
          15.339055,
          15.180423,
          21.118112,
          21.232929,
          20.884896,
          20.998641,
          20.954939,
          20.970411,
          20.976277,
          21.99181,
          21.801994,
          20.796053,
          22.210804,
          22.085338,
          21.763989,
          11.814912,
          23.673236,
          23.54843,
          23.522882,
          23.487077,
          23.50844,
          22.385611,
          22.360664,
          36.540425,
          31.643426,
          22.306931,
          21.557484,
          -33.37365,
          -32.9912336,
          -33.249936,
          -4.874373,
          -20.153931,
          -19.491277,
          -20.582683,
          -19.832129,
          -21.626963,
          -20.543507,
          -19.531272,
          -25.564041,
          -23.43864,
          -22.921912,
          -22.89918,
          -22.698154,
          -33.294729,
          8.259073,
          41.531645,
          50.045849,
          52.334465,
          51.142738,
          54.99484,
          55.27073,
          53.427593,
          55.197524,
          55.233675,
          53.88618,
          50.563131,
          52.557372,
          55.382815,
          51.214781,
          55.726872,
          51.936009,
          44.688323,
          57.922851,
          56.90205,
          56.478428,
          56.849666,
          59.593854,
          54.156726,
          57.109316,
          48.754025,
          48.804332,
          59.143998,
          40.233432,
          47.380455,
          48.274023,
          52.849321,
          50.410335,
          50.414998,
          44.224446,
          42.595629,
          45.445978,
          49.792139,
          49.689053,
          48.611482,
          49.033678,
          48.983515,
          48.387211,
          48.595058,
          48.512051,
          52.402617,
          52.168649,
          52.650903,
          52.467622,
          52.313935,
          52.161794,
          51.491649,
          51.371279,
          51.462987,
          50.922844,
          49.353884,
          49.247635,
          51.3128,
          50.654574,
          48.096936,
          48.242994,
          46.945694,
          45.641516,
          45.508698,
          45.460582,
          45.566054,
          45.371651,
          45.642905,
          45.645688,
          45.478363,
          45.145949,
          40.639356,
          42.564752,
          46.049182,
          46.232199,
          45.598187,
          45.42882,
          45.522097,
          49.527966,
          49.504175,
          47.783771,
          42.016228,
          50.083849,
          52.291337,
          50.782614,
          50.342417,
          50.487463,
          50.357438,
          50.947305,
          45.512949,
          45.293492,
          45.434119,
          45.735183,
          44.606332,
          44.977213,
          48.612001,
          46.423994,
          38.326405,
          40.310803,
          37.362968,
          41.56988,
          60.148821,
          60.13552,
          60.548682,
          47.171958,
          41.180307,
          48.48079,
          48.492146,
          48.528019,
          47.874411,
          47.982276,
          48.220502,
          48.478111,
          47.86838,
          53.399598,
          37.417437,
          37.424355,
          29.191019,
          32.418304,
          32.238827,
          33.428593,
          29.928062,
          30.602249,
          29.091397,
          30.7552,
          36.343459,
          32.389571,
          32.39309,
          31.940106,
          36.119288,
          35.660125,
          33.626258,
          34.364258,
          43.269255,
          42.805448,
          46.518984,
          43.856461,
          50.51499,
          26.876889,
          25.511162,
          20.518556,
          19.753326,
          25.742085,
          25.720327,
          19.169532,
          22.087328,
          22.103324,
          19.630355,
          19.395628,
          18.869272,
          33.534372,
          34.63963,
          33.234761,
          33.285828,
          35.901162,
          35.941421,
          35.307055,
          35.644264,
          38.22577,
          30.282907,
          34.241226,
          38.884465,
          41.180734,
          41.724915,
          38.695049,
          41.513249,
          41.657321,
          41.785971,
          41.631221,
          41.37064,
          41.121613,
          39.976379,
          41.669553,
          41.620799,
          39.875508,
          41.625912,
          41.482009,
          38.725418,
          38.759878,
          42.308171,
          42.263181,
          41.894229,
          44.895442,
          33.44758,
          42.078908,
          40.804114,
          40.778466,
          40.755388,
          41.464041,
          41.443147,
          41.568783,
          40.790123,
          39.488589,
          40.314891,
          41.125495,
          45.228035,
          40.39514,
          40.845524,
          40.23072,
          33.962272,
          34.375628,
          35.978104,
          35.048395,
          31.351853,
          32.457544,
          29.577459,
          41.882789,
          37.272927,
          43.400533
         ],
         "legendgroup": "True",
         "lon": [
          31.247401,
          31.312013,
          30.571894,
          30.58773,
          30.563029,
          27.82231,
          30.014063,
          29.497972,
          33.457629,
          117.251147,
          117.25166,
          116.905869,
          115.954963,
          118.468194,
          118.465162,
          117.772866,
          117.956015,
          118.150867,
          118.067833,
          119.120443,
          118.436638,
          107.040368,
          103.542532,
          105.741929,
          106.988138,
          118.029905,
          117.614709,
          98.295555,
          104.035535,
          103.922,
          114.743048,
          114.93888,
          113.635898,
          113.728198,
          109.634638,
          109.63938,
          110.78959,
          111.735523,
          111.735529,
          111.914197,
          111.739775,
          111.745037,
          109.37963,
          109.33725,
          111.2402,
          111.229981,
          111.235509,
          106.73215,
          104.877413,
          107.570458,
          105.041722,
          106.814024,
          106.949926,
          106.815453,
          106.949752,
          117.719747,
          117.596071,
          118.633334,
          118.490845,
          114.128189,
          114.439889,
          113.925994,
          114.098377,
          114.124258,
          113.910271,
          114.115263,
          114.376132,
          114.111677,
          114.169024,
          114.207855,
          114.108273,
          113.981172,
          114.208992,
          114.111602,
          113.968635,
          114.560358,
          114.139998,
          115.184798,
          118.552001,
          118.558788,
          118.559444,
          118.672756,
          118.576678,
          118.220547,
          118.073913,
          118.474722,
          117.964004,
          118.467608,
          118.03667,
          118.456775,
          118.579364,
          118.411488,
          118.558755,
          118.624794,
          118.427914,
          118.205663,
          118.213188,
          117.857659,
          118.181279,
          114.452352,
          114.384832,
          115.090889,
          126.968128,
          123.616512,
          131.071877,
          129.287919,
          114.283145,
          113.474328,
          114.149964,
          114.296223,
          114.334825,
          114.15839,
          113.853979,
          112.955911,
          112.553774,
          113.872158,
          112.580505,
          111.534635,
          114.038243,
          116.422599,
          112.937985,
          114.861313,
          114.747597,
          114.857744,
          115.125838,
          114.934091,
          114.926251,
          112.353782,
          110.654794,
          110.793269,
          114.008142,
          114.444975,
          114.257701,
          112.235621,
          112.715688,
          113.822921,
          113.754995,
          111.398846,
          112.576853,
          111.437288,
          111.967343,
          112.897377,
          109.740898,
          109.696243,
          110.988771,
          109.698333,
          110.214707,
          119.015289,
          106.890377,
          106.886647,
          122.063282,
          119.485941,
          118.988442,
          118.746315,
          118.61667,
          120.475103,
          117.339638,
          117.322633,
          117.271876,
          118.31556,
          116.908897,
          119.425236,
          114.844503,
          116.27527,
          115.99204,
          113.902126,
          118.163615,
          114.921595,
          122.895588,
          125.914941,
          125.505627,
          126.537086,
          125.246892,
          126.00063,
          124.335697,
          126.022349,
          122.983054,
          122.948643,
          122.945501,
          123.722099,
          123.608374,
          120.369983,
          119.41374,
          123.753895,
          123.806586,
          122.970488,
          106.688294,
          105.078348,
          101.671414,
          110.575788,
          106.671859,
          106.167206,
          106.657646,
          109.986042,
          117.616918,
          117.694654,
          117.888366,
          116.757697,
          117.627728,
          117.540425,
          117.426582,
          117.820108,
          118.305389,
          116.533981,
          119.238427,
          118.111833,
          118.187041,
          118.145416,
          113.15509,
          113.344155,
          113.117181,
          113.060809,
          113.209523,
          113.305462,
          110.786826,
          110.652056,
          112.882395,
          111.985148,
          111.42671,
          111.387956,
          111.330122,
          111.49707,
          111.37916,
          111.161118,
          112.539321,
          112.229791,
          111.258436,
          111.303919,
          111.025976,
          103.672956,
          102.20517,
          104.761441,
          104.504339,
          101.673737,
          105.367695,
          107.453099,
          102.625907,
          113.745792,
          86.280156,
          86.302481,
          88.417209,
          86.595826,
          93.542466,
          84.966753,
          83.294323,
          87.304639,
          102.077727,
          103.272784,
          102.48347,
          104.063455,
          103.547242,
          104.168311,
          102.521747,
          102.543682,
          102.186364,
          119.519509,
          120.248592,
          118.867125,
          78.048425,
          81.394207,
          82.671666,
          83.347178,
          83.238133,
          83.554495,
          81.676444,
          81.681888,
          81.771252,
          75.773075,
          86.334999,
          86.293671,
          86.10687,
          86.1996,
          86.084022,
          85.325308,
          76.37971,
          76.251696,
          76.663134,
          79.005585,
          79.632398,
          84.991539,
          86.019102,
          86.051986,
          86.015211,
          86.044419,
          85.325375,
          85.56751,
          85.260382,
          84.86895,
          84.86184,
          84.022529,
          77.918465,
          86.926179,
          87.245247,
          87.275935,
          87.369565,
          87.282253,
          87.287179,
          87.295932,
          139.993079,
          73.198542,
          104.12992,
          105.8728,
          -60.138697,
          -60.7588733,
          -60.300415,
          -47.4073517,
          -44.878995,
          -42.544253,
          -43.971555,
          -43.130164,
          -43.462361,
          -43.75295,
          -42.639979,
          -49.421729,
          -47.08825,
          -45.413234,
          -45.347726,
          -47.657146,
          -70.727881,
          -62.841126,
          45.02663,
          73.040384,
          76.956302,
          37.940532,
          57.277548,
          61.436492,
          59.054122,
          59.650247,
          36.679192,
          87.257618,
          136.976362,
          39.629574,
          42.188954,
          58.353913,
          52.535854,
          47.81591,
          41.927331,
          60.033543,
          59.992198,
          60.249411,
          59.908414,
          60.591196,
          37.725551,
          65.668641,
          44.561004,
          44.79408,
          37.86295,
          69.290873,
          15.065182,
          14.33434,
          29.988985,
          4.429693,
          4.532443,
          17.899815,
          23.093095,
          16.391655,
          18.309875,
          18.654557,
          6.111864,
          1.561022,
          1.76245,
          2.981091,
          7.821633,
          10.855292,
          12.496135,
          14.623473,
          13.212683,
          7.317169,
          10.258482,
          10.409371,
          6.733051,
          6.72331,
          6.744612,
          8.024006,
          6.746603,
          6.848662,
          13.280386,
          11.43745,
          20.737722,
          20.334486,
          18.93863,
          9.600242,
          10.248464,
          10.456748,
          10.2147,
          10.331967,
          10.380199,
          10.374305,
          10.209234,
          9.950821,
          15.827842,
          12.66936,
          11.440394,
          13.079104,
          9.035447,
          11.000861,
          11.499295,
          5.900398,
          5.993759,
          29.02835,
          21.46605,
          20.096306,
          20.917302,
          19.165566,
          19.285037,
          19.456759,
          18.610739,
          21.448763,
          22.339896,
          21.90241,
          27.976244,
          22.91627,
          20.970066,
          19.64601,
          21.191401,
          14.094645,
          -6.767326,
          -3.703568,
          -5.886865,
          -0.856566,
          16.172808,
          15.414372,
          16.302815,
          7.562287,
          32.634343,
          34.978097,
          35.092673,
          34.640915,
          33.392993,
          37.810634,
          38.228626,
          38.770787,
          35.161773,
          -1.395818,
          46.035778,
          47.722764,
          52.845405,
          51.331314,
          51.424746,
          51.982273,
          56.736539,
          56.911473,
          55.333468,
          56.664215,
          58.673691,
          53.750272,
          53.7566,
          54.037614,
          49.306341,
          45.039062,
          36.574968,
          36.803848,
          -79.804858,
          -80.095313,
          -84.374068,
          -78.908997,
          -104.630589,
          -101.416612,
          -100.961848,
          -100.925556,
          -98.596483,
          -100.236478,
          -100.301175,
          -98.318659,
          -100.901902,
          -100.919202,
          -99.180315,
          -98.088777,
          -97.047263,
          -86.75773,
          -87.085738,
          -87.508498,
          -111.586561,
          -89.77619,
          -89.713819,
          -94.372912,
          -89.941659,
          -104.607895,
          -81.978735,
          -84.799539,
          -90.14579,
          -87.856196,
          -87.589968,
          -90.136073,
          -87.621438,
          -87.625702,
          -89.710947,
          -87.143846,
          -84.917454,
          -85.348602,
          -86.830727,
          -87.438429,
          -87.348266,
          -86.484214,
          -87.159989,
          -90.820921,
          -85.076015,
          -84.996204,
          -83.161353,
          -83.121553,
          -83.358697,
          -93.010716,
          -88.572683,
          -97.360854,
          -81.334002,
          -81.396889,
          -81.439369,
          -81.676499,
          -81.659911,
          -84.048129,
          -82.526239,
          -84.386197,
          -80.605553,
          -80.683382,
          -123.163599,
          -79.859645,
          -79.921452,
          -76.838506,
          -81.052011,
          -79.895165,
          -83.956572,
          -90.163033,
          -96.165436,
          -97.034246,
          -98.032017,
          -112.196743,
          -79.998828,
          -87.9482
         ],
         "marker": {
          "color": "blue"
         },
         "mode": "markers",
         "name": "True",
         "showlegend": true,
         "subplot": "mapbox",
         "type": "scattermapbox"
        }
       ],
       "layout": {
        "height": 560,
        "legend": {
         "title": {
          "text": "more_than_50km"
         },
         "tracegroupgap": 0
        },
        "mapbox": {
         "center": {
          "lat": 32.22177358850406,
          "lon": 61.29563650021039
         },
         "domain": {
          "x": [
           0,
           1
          ],
          "y": [
           0,
           1
          ]
         },
         "style": "open-street-map",
         "zoom": 1
        },
        "margin": {
         "b": 0,
         "l": 0,
         "r": 0,
         "t": 0
        },
        "template": {
         "data": {
          "bar": [
           {
            "error_x": {
             "color": "#2a3f5f"
            },
            "error_y": {
             "color": "#2a3f5f"
            },
            "marker": {
             "line": {
              "color": "#E5ECF6",
              "width": 0.5
             },
             "pattern": {
              "fillmode": "overlay",
              "size": 10,
              "solidity": 0.2
             }
            },
            "type": "bar"
           }
          ],
          "barpolar": [
           {
            "marker": {
             "line": {
              "color": "#E5ECF6",
              "width": 0.5
             },
             "pattern": {
              "fillmode": "overlay",
              "size": 10,
              "solidity": 0.2
             }
            },
            "type": "barpolar"
           }
          ],
          "carpet": [
           {
            "aaxis": {
             "endlinecolor": "#2a3f5f",
             "gridcolor": "white",
             "linecolor": "white",
             "minorgridcolor": "white",
             "startlinecolor": "#2a3f5f"
            },
            "baxis": {
             "endlinecolor": "#2a3f5f",
             "gridcolor": "white",
             "linecolor": "white",
             "minorgridcolor": "white",
             "startlinecolor": "#2a3f5f"
            },
            "type": "carpet"
           }
          ],
          "choropleth": [
           {
            "colorbar": {
             "outlinewidth": 0,
             "ticks": ""
            },
            "type": "choropleth"
           }
          ],
          "contour": [
           {
            "colorbar": {
             "outlinewidth": 0,
             "ticks": ""
            },
            "colorscale": [
             [
              0,
              "#0d0887"
             ],
             [
              0.1111111111111111,
              "#46039f"
             ],
             [
              0.2222222222222222,
              "#7201a8"
             ],
             [
              0.3333333333333333,
              "#9c179e"
             ],
             [
              0.4444444444444444,
              "#bd3786"
             ],
             [
              0.5555555555555556,
              "#d8576b"
             ],
             [
              0.6666666666666666,
              "#ed7953"
             ],
             [
              0.7777777777777778,
              "#fb9f3a"
             ],
             [
              0.8888888888888888,
              "#fdca26"
             ],
             [
              1,
              "#f0f921"
             ]
            ],
            "type": "contour"
           }
          ],
          "contourcarpet": [
           {
            "colorbar": {
             "outlinewidth": 0,
             "ticks": ""
            },
            "type": "contourcarpet"
           }
          ],
          "heatmap": [
           {
            "colorbar": {
             "outlinewidth": 0,
             "ticks": ""
            },
            "colorscale": [
             [
              0,
              "#0d0887"
             ],
             [
              0.1111111111111111,
              "#46039f"
             ],
             [
              0.2222222222222222,
              "#7201a8"
             ],
             [
              0.3333333333333333,
              "#9c179e"
             ],
             [
              0.4444444444444444,
              "#bd3786"
             ],
             [
              0.5555555555555556,
              "#d8576b"
             ],
             [
              0.6666666666666666,
              "#ed7953"
             ],
             [
              0.7777777777777778,
              "#fb9f3a"
             ],
             [
              0.8888888888888888,
              "#fdca26"
             ],
             [
              1,
              "#f0f921"
             ]
            ],
            "type": "heatmap"
           }
          ],
          "heatmapgl": [
           {
            "colorbar": {
             "outlinewidth": 0,
             "ticks": ""
            },
            "colorscale": [
             [
              0,
              "#0d0887"
             ],
             [
              0.1111111111111111,
              "#46039f"
             ],
             [
              0.2222222222222222,
              "#7201a8"
             ],
             [
              0.3333333333333333,
              "#9c179e"
             ],
             [
              0.4444444444444444,
              "#bd3786"
             ],
             [
              0.5555555555555556,
              "#d8576b"
             ],
             [
              0.6666666666666666,
              "#ed7953"
             ],
             [
              0.7777777777777778,
              "#fb9f3a"
             ],
             [
              0.8888888888888888,
              "#fdca26"
             ],
             [
              1,
              "#f0f921"
             ]
            ],
            "type": "heatmapgl"
           }
          ],
          "histogram": [
           {
            "marker": {
             "pattern": {
              "fillmode": "overlay",
              "size": 10,
              "solidity": 0.2
             }
            },
            "type": "histogram"
           }
          ],
          "histogram2d": [
           {
            "colorbar": {
             "outlinewidth": 0,
             "ticks": ""
            },
            "colorscale": [
             [
              0,
              "#0d0887"
             ],
             [
              0.1111111111111111,
              "#46039f"
             ],
             [
              0.2222222222222222,
              "#7201a8"
             ],
             [
              0.3333333333333333,
              "#9c179e"
             ],
             [
              0.4444444444444444,
              "#bd3786"
             ],
             [
              0.5555555555555556,
              "#d8576b"
             ],
             [
              0.6666666666666666,
              "#ed7953"
             ],
             [
              0.7777777777777778,
              "#fb9f3a"
             ],
             [
              0.8888888888888888,
              "#fdca26"
             ],
             [
              1,
              "#f0f921"
             ]
            ],
            "type": "histogram2d"
           }
          ],
          "histogram2dcontour": [
           {
            "colorbar": {
             "outlinewidth": 0,
             "ticks": ""
            },
            "colorscale": [
             [
              0,
              "#0d0887"
             ],
             [
              0.1111111111111111,
              "#46039f"
             ],
             [
              0.2222222222222222,
              "#7201a8"
             ],
             [
              0.3333333333333333,
              "#9c179e"
             ],
             [
              0.4444444444444444,
              "#bd3786"
             ],
             [
              0.5555555555555556,
              "#d8576b"
             ],
             [
              0.6666666666666666,
              "#ed7953"
             ],
             [
              0.7777777777777778,
              "#fb9f3a"
             ],
             [
              0.8888888888888888,
              "#fdca26"
             ],
             [
              1,
              "#f0f921"
             ]
            ],
            "type": "histogram2dcontour"
           }
          ],
          "mesh3d": [
           {
            "colorbar": {
             "outlinewidth": 0,
             "ticks": ""
            },
            "type": "mesh3d"
           }
          ],
          "parcoords": [
           {
            "line": {
             "colorbar": {
              "outlinewidth": 0,
              "ticks": ""
             }
            },
            "type": "parcoords"
           }
          ],
          "pie": [
           {
            "automargin": true,
            "type": "pie"
           }
          ],
          "scatter": [
           {
            "fillpattern": {
             "fillmode": "overlay",
             "size": 10,
             "solidity": 0.2
            },
            "type": "scatter"
           }
          ],
          "scatter3d": [
           {
            "line": {
             "colorbar": {
              "outlinewidth": 0,
              "ticks": ""
             }
            },
            "marker": {
             "colorbar": {
              "outlinewidth": 0,
              "ticks": ""
             }
            },
            "type": "scatter3d"
           }
          ],
          "scattercarpet": [
           {
            "marker": {
             "colorbar": {
              "outlinewidth": 0,
              "ticks": ""
             }
            },
            "type": "scattercarpet"
           }
          ],
          "scattergeo": [
           {
            "marker": {
             "colorbar": {
              "outlinewidth": 0,
              "ticks": ""
             }
            },
            "type": "scattergeo"
           }
          ],
          "scattergl": [
           {
            "marker": {
             "colorbar": {
              "outlinewidth": 0,
              "ticks": ""
             }
            },
            "type": "scattergl"
           }
          ],
          "scattermapbox": [
           {
            "marker": {
             "colorbar": {
              "outlinewidth": 0,
              "ticks": ""
             }
            },
            "type": "scattermapbox"
           }
          ],
          "scatterpolar": [
           {
            "marker": {
             "colorbar": {
              "outlinewidth": 0,
              "ticks": ""
             }
            },
            "type": "scatterpolar"
           }
          ],
          "scatterpolargl": [
           {
            "marker": {
             "colorbar": {
              "outlinewidth": 0,
              "ticks": ""
             }
            },
            "type": "scatterpolargl"
           }
          ],
          "scatterternary": [
           {
            "marker": {
             "colorbar": {
              "outlinewidth": 0,
              "ticks": ""
             }
            },
            "type": "scatterternary"
           }
          ],
          "surface": [
           {
            "colorbar": {
             "outlinewidth": 0,
             "ticks": ""
            },
            "colorscale": [
             [
              0,
              "#0d0887"
             ],
             [
              0.1111111111111111,
              "#46039f"
             ],
             [
              0.2222222222222222,
              "#7201a8"
             ],
             [
              0.3333333333333333,
              "#9c179e"
             ],
             [
              0.4444444444444444,
              "#bd3786"
             ],
             [
              0.5555555555555556,
              "#d8576b"
             ],
             [
              0.6666666666666666,
              "#ed7953"
             ],
             [
              0.7777777777777778,
              "#fb9f3a"
             ],
             [
              0.8888888888888888,
              "#fdca26"
             ],
             [
              1,
              "#f0f921"
             ]
            ],
            "type": "surface"
           }
          ],
          "table": [
           {
            "cells": {
             "fill": {
              "color": "#EBF0F8"
             },
             "line": {
              "color": "white"
             }
            },
            "header": {
             "fill": {
              "color": "#C8D4E3"
             },
             "line": {
              "color": "white"
             }
            },
            "type": "table"
           }
          ]
         },
         "layout": {
          "annotationdefaults": {
           "arrowcolor": "#2a3f5f",
           "arrowhead": 0,
           "arrowwidth": 1
          },
          "autotypenumbers": "strict",
          "coloraxis": {
           "colorbar": {
            "outlinewidth": 0,
            "ticks": ""
           }
          },
          "colorscale": {
           "diverging": [
            [
             0,
             "#8e0152"
            ],
            [
             0.1,
             "#c51b7d"
            ],
            [
             0.2,
             "#de77ae"
            ],
            [
             0.3,
             "#f1b6da"
            ],
            [
             0.4,
             "#fde0ef"
            ],
            [
             0.5,
             "#f7f7f7"
            ],
            [
             0.6,
             "#e6f5d0"
            ],
            [
             0.7,
             "#b8e186"
            ],
            [
             0.8,
             "#7fbc41"
            ],
            [
             0.9,
             "#4d9221"
            ],
            [
             1,
             "#276419"
            ]
           ],
           "sequential": [
            [
             0,
             "#0d0887"
            ],
            [
             0.1111111111111111,
             "#46039f"
            ],
            [
             0.2222222222222222,
             "#7201a8"
            ],
            [
             0.3333333333333333,
             "#9c179e"
            ],
            [
             0.4444444444444444,
             "#bd3786"
            ],
            [
             0.5555555555555556,
             "#d8576b"
            ],
            [
             0.6666666666666666,
             "#ed7953"
            ],
            [
             0.7777777777777778,
             "#fb9f3a"
            ],
            [
             0.8888888888888888,
             "#fdca26"
            ],
            [
             1,
             "#f0f921"
            ]
           ],
           "sequentialminus": [
            [
             0,
             "#0d0887"
            ],
            [
             0.1111111111111111,
             "#46039f"
            ],
            [
             0.2222222222222222,
             "#7201a8"
            ],
            [
             0.3333333333333333,
             "#9c179e"
            ],
            [
             0.4444444444444444,
             "#bd3786"
            ],
            [
             0.5555555555555556,
             "#d8576b"
            ],
            [
             0.6666666666666666,
             "#ed7953"
            ],
            [
             0.7777777777777778,
             "#fb9f3a"
            ],
            [
             0.8888888888888888,
             "#fdca26"
            ],
            [
             1,
             "#f0f921"
            ]
           ]
          },
          "colorway": [
           "#636efa",
           "#EF553B",
           "#00cc96",
           "#ab63fa",
           "#FFA15A",
           "#19d3f3",
           "#FF6692",
           "#B6E880",
           "#FF97FF",
           "#FECB52"
          ],
          "font": {
           "color": "#2a3f5f"
          },
          "geo": {
           "bgcolor": "white",
           "lakecolor": "white",
           "landcolor": "#E5ECF6",
           "showlakes": true,
           "showland": true,
           "subunitcolor": "white"
          },
          "hoverlabel": {
           "align": "left"
          },
          "hovermode": "closest",
          "mapbox": {
           "style": "light"
          },
          "paper_bgcolor": "white",
          "plot_bgcolor": "#E5ECF6",
          "polar": {
           "angularaxis": {
            "gridcolor": "white",
            "linecolor": "white",
            "ticks": ""
           },
           "bgcolor": "#E5ECF6",
           "radialaxis": {
            "gridcolor": "white",
            "linecolor": "white",
            "ticks": ""
           }
          },
          "scene": {
           "xaxis": {
            "backgroundcolor": "#E5ECF6",
            "gridcolor": "white",
            "gridwidth": 2,
            "linecolor": "white",
            "showbackground": true,
            "ticks": "",
            "zerolinecolor": "white"
           },
           "yaxis": {
            "backgroundcolor": "#E5ECF6",
            "gridcolor": "white",
            "gridwidth": 2,
            "linecolor": "white",
            "showbackground": true,
            "ticks": "",
            "zerolinecolor": "white"
           },
           "zaxis": {
            "backgroundcolor": "#E5ECF6",
            "gridcolor": "white",
            "gridwidth": 2,
            "linecolor": "white",
            "showbackground": true,
            "ticks": "",
            "zerolinecolor": "white"
           }
          },
          "shapedefaults": {
           "line": {
            "color": "#2a3f5f"
           }
          },
          "ternary": {
           "aaxis": {
            "gridcolor": "white",
            "linecolor": "white",
            "ticks": ""
           },
           "baxis": {
            "gridcolor": "white",
            "linecolor": "white",
            "ticks": ""
           },
           "bgcolor": "#E5ECF6",
           "caxis": {
            "gridcolor": "white",
            "linecolor": "white",
            "ticks": ""
           }
          },
          "title": {
           "x": 0.05
          },
          "xaxis": {
           "automargin": true,
           "gridcolor": "white",
           "linecolor": "white",
           "ticks": "",
           "title": {
            "standoff": 15
           },
           "zerolinecolor": "white",
           "zerolinewidth": 2
          },
          "yaxis": {
           "automargin": true,
           "gridcolor": "white",
           "linecolor": "white",
           "ticks": "",
           "title": {
            "standoff": 15
           },
           "zerolinecolor": "white",
           "zerolinewidth": 2
          }
         }
        },
        "width": 1000
       }
      }
     },
     "metadata": {},
     "output_type": "display_data"
    }
   ],
   "source": [
    "import plotly.express as px\n",
    "\n",
    "fig = px.scatter_mapbox(df_gspt, lat=\"lat\", lon=\"lon\", hover_name=\"Plant name (English)\", hover_data=[\"Region\", \"Country\"],\n",
    "                        color=\"more_than_50km\", \n",
    "                        color_discrete_sequence=[\"red\", \"blue\"], \n",
    "                        zoom=1, \n",
    "                        height=560, width=1000)\n",
    "fig.update_layout(mapbox_style=\"open-street-map\")\n",
    "fig.update_layout(margin={\"r\":0,\"t\":0,\"l\":0,\"b\":0})\n",
    "fig.show()\n"
   ]
  },
  {
   "cell_type": "code",
   "execution_count": 28,
   "metadata": {},
   "outputs": [
    {
     "data": {
      "text/html": [
       "<div>\n",
       "<style scoped>\n",
       "    .dataframe tbody tr th:only-of-type {\n",
       "        vertical-align: middle;\n",
       "    }\n",
       "\n",
       "    .dataframe tbody tr th {\n",
       "        vertical-align: top;\n",
       "    }\n",
       "\n",
       "    .dataframe thead th {\n",
       "        text-align: right;\n",
       "    }\n",
       "</style>\n",
       "<table border=\"1\" class=\"dataframe\">\n",
       "  <thead>\n",
       "    <tr style=\"text-align: right;\">\n",
       "      <th></th>\n",
       "      <th>value</th>\n",
       "      <th>latitude</th>\n",
       "      <th>longitude</th>\n",
       "      <th>impf_TC</th>\n",
       "    </tr>\n",
       "  </thead>\n",
       "  <tbody>\n",
       "    <tr>\n",
       "      <th>0</th>\n",
       "      <td>1.272739e-09</td>\n",
       "      <td>25.208333</td>\n",
       "      <td>-112.125000</td>\n",
       "      <td>1</td>\n",
       "    </tr>\n",
       "    <tr>\n",
       "      <th>1</th>\n",
       "      <td>4.112933e-10</td>\n",
       "      <td>24.958333</td>\n",
       "      <td>-112.208333</td>\n",
       "      <td>1</td>\n",
       "    </tr>\n",
       "    <tr>\n",
       "      <th>2</th>\n",
       "      <td>2.850325e-10</td>\n",
       "      <td>24.875000</td>\n",
       "      <td>-112.208333</td>\n",
       "      <td>1</td>\n",
       "    </tr>\n",
       "    <tr>\n",
       "      <th>3</th>\n",
       "      <td>1.920596e-10</td>\n",
       "      <td>24.791667</td>\n",
       "      <td>-112.291667</td>\n",
       "      <td>1</td>\n",
       "    </tr>\n",
       "    <tr>\n",
       "      <th>4</th>\n",
       "      <td>1.978703e-10</td>\n",
       "      <td>24.791667</td>\n",
       "      <td>-112.208333</td>\n",
       "      <td>1</td>\n",
       "    </tr>\n",
       "    <tr>\n",
       "      <th>...</th>\n",
       "      <td>...</td>\n",
       "      <td>...</td>\n",
       "      <td>...</td>\n",
       "      <td>...</td>\n",
       "    </tr>\n",
       "    <tr>\n",
       "      <th>25084</th>\n",
       "      <td>9.700482e-05</td>\n",
       "      <td>14.625000</td>\n",
       "      <td>-92.291667</td>\n",
       "      <td>1</td>\n",
       "    </tr>\n",
       "    <tr>\n",
       "      <th>25085</th>\n",
       "      <td>7.649987e-05</td>\n",
       "      <td>14.625000</td>\n",
       "      <td>-92.208333</td>\n",
       "      <td>1</td>\n",
       "    </tr>\n",
       "    <tr>\n",
       "      <th>25086</th>\n",
       "      <td>2.513437e-08</td>\n",
       "      <td>24.208333</td>\n",
       "      <td>-109.875000</td>\n",
       "      <td>1</td>\n",
       "    </tr>\n",
       "    <tr>\n",
       "      <th>25087</th>\n",
       "      <td>5.717325e-09</td>\n",
       "      <td>24.541667</td>\n",
       "      <td>-110.375000</td>\n",
       "      <td>1</td>\n",
       "    </tr>\n",
       "    <tr>\n",
       "      <th>25088</th>\n",
       "      <td>2.603307e-06</td>\n",
       "      <td>27.041667</td>\n",
       "      <td>-109.958333</td>\n",
       "      <td>1</td>\n",
       "    </tr>\n",
       "  </tbody>\n",
       "</table>\n",
       "<p>25089 rows × 4 columns</p>\n",
       "</div>"
      ],
      "text/plain": [
       "              value   latitude   longitude  impf_TC\n",
       "0      1.272739e-09  25.208333 -112.125000        1\n",
       "1      4.112933e-10  24.958333 -112.208333        1\n",
       "2      2.850325e-10  24.875000 -112.208333        1\n",
       "3      1.920596e-10  24.791667 -112.291667        1\n",
       "4      1.978703e-10  24.791667 -112.208333        1\n",
       "...             ...        ...         ...      ...\n",
       "25084  9.700482e-05  14.625000  -92.291667        1\n",
       "25085  7.649987e-05  14.625000  -92.208333        1\n",
       "25086  2.513437e-08  24.208333 -109.875000        1\n",
       "25087  5.717325e-09  24.541667 -110.375000        1\n",
       "25088  2.603307e-06  27.041667 -109.958333        1\n",
       "\n",
       "[25089 rows x 4 columns]"
      ]
     },
     "execution_count": 28,
     "metadata": {},
     "output_type": "execute_result"
    }
   ],
   "source": [
    "database_exposure_country_coast_corrected('mexico', 25, 'exponential')"
   ]
  },
  {
   "cell_type": "code",
   "execution_count": 54,
   "metadata": {},
   "outputs": [
    {
     "data": {
      "text/html": [
       "<div>\n",
       "<style scoped>\n",
       "    .dataframe tbody tr th:only-of-type {\n",
       "        vertical-align: middle;\n",
       "    }\n",
       "\n",
       "    .dataframe tbody tr th {\n",
       "        vertical-align: top;\n",
       "    }\n",
       "\n",
       "    .dataframe thead th {\n",
       "        text-align: right;\n",
       "    }\n",
       "</style>\n",
       "<table border=\"1\" class=\"dataframe\">\n",
       "  <thead>\n",
       "    <tr style=\"text-align: right;\">\n",
       "      <th></th>\n",
       "      <th>true_cap</th>\n",
       "      <th>kernel_cap</th>\n",
       "      <th>coast_correction</th>\n",
       "    </tr>\n",
       "    <tr>\n",
       "      <th>index</th>\n",
       "      <th></th>\n",
       "      <th></th>\n",
       "      <th></th>\n",
       "    </tr>\n",
       "  </thead>\n",
       "  <tbody>\n",
       "    <tr>\n",
       "      <th>canada</th>\n",
       "      <td>0.098332</td>\n",
       "      <td>0.108398</td>\n",
       "      <td>0.107748</td>\n",
       "    </tr>\n",
       "    <tr>\n",
       "      <th>mexico</th>\n",
       "      <td>0.168188</td>\n",
       "      <td>0.128643</td>\n",
       "      <td>0.133870</td>\n",
       "    </tr>\n",
       "    <tr>\n",
       "      <th>usa</th>\n",
       "      <td>0.733481</td>\n",
       "      <td>0.762959</td>\n",
       "      <td>0.758382</td>\n",
       "    </tr>\n",
       "  </tbody>\n",
       "</table>\n",
       "</div>"
      ],
      "text/plain": [
       "        true_cap  kernel_cap  coast_correction\n",
       "index                                         \n",
       "canada  0.098332    0.108398          0.107748\n",
       "mexico  0.168188    0.128643          0.133870\n",
       "usa     0.733481    0.762959          0.758382"
      ]
     },
     "execution_count": 54,
     "metadata": {},
     "output_type": "execute_result"
    }
   ],
   "source": [
    "compare"
   ]
  },
  {
   "cell_type": "code",
   "execution_count": 33,
   "metadata": {},
   "outputs": [],
   "source": [
    "country_codes={'india':'IND','japan':'JPN','australia':'AUS','mexico':'MEX','usa':'USA'}\n",
    "country_continent={'india':'Asia Pacific','japan':'Asia Pacific','australia':'Australia',\n",
    "                   'mexico':'North America','usa':'North America'}\n",
    "country_output={'india':1.099165*(10**11),'japan':2.125171*(10**11), \n",
    "                'australia':1.351573*(10**10),'mexico':2.066791*(10**10),\n",
    "                'usa':1.301384*(10**11)} # output from EXIOBASE 2022\n"
   ]
  },
  {
   "cell_type": "code",
   "execution_count": 15,
   "metadata": {},
   "outputs": [],
   "source": [
    "countries_nam=['mexico','usa','canada']"
   ]
  },
  {
   "cell_type": "code",
   "execution_count": 17,
   "metadata": {},
   "outputs": [],
   "source": [
    "data['f_kernel']=data['f_kernel']/data['f_kernel'].sum()"
   ]
  },
  {
   "cell_type": "code",
   "execution_count": 4,
   "metadata": {},
   "outputs": [],
   "source": [
    "south_america_codes=['ARG','BRA','CHL',\n",
    "                     'GTM','PER','VEN'\n",
    "                     ]\n",
    "\n",
    "north_america_codes=['CAN','USA','MEX']"
   ]
  },
  {
   "cell_type": "code",
   "execution_count": 6,
   "metadata": {},
   "outputs": [],
   "source": [
    "path=\"C:\\\\Users\\\\Denisa.draghia\\\\Downloads\\\\climada_python-1.2.0\\\\climada_python-1.2.0\\\\data\\\\results\\\\5 minutes\\\\\""
   ]
  },
  {
   "cell_type": "code",
   "execution_count": 6,
   "metadata": {},
   "outputs": [
    {
     "name": "stdout",
     "output_type": "stream",
     "text": [
      "CAN\n",
      "USA\n",
      "MEX\n"
     ]
    }
   ],
   "source": [
    "north_am=pd.DataFrame()\n",
    "for country in north_america_codes:\n",
    "    print(country)\n",
    "    c=pd.read_hdf(path+\"LitPop_pc_300_arcsec_\"+country+\"_v1.hdf5\")\n",
    "    c[\"region_id\"]=country\n",
    "    north_am=pd.concat([north_am,c])\n",
    "north_am=north_am.reset_index(drop=True)"
   ]
  },
  {
   "cell_type": "code",
   "execution_count": 7,
   "metadata": {},
   "outputs": [
    {
     "data": {
      "text/html": [
       "<div>\n",
       "<style scoped>\n",
       "    .dataframe tbody tr th:only-of-type {\n",
       "        vertical-align: middle;\n",
       "    }\n",
       "\n",
       "    .dataframe tbody tr th {\n",
       "        vertical-align: top;\n",
       "    }\n",
       "\n",
       "    .dataframe thead th {\n",
       "        text-align: right;\n",
       "    }\n",
       "</style>\n",
       "<table border=\"1\" class=\"dataframe\">\n",
       "  <thead>\n",
       "    <tr style=\"text-align: right;\">\n",
       "      <th></th>\n",
       "      <th>value</th>\n",
       "      <th>latitude</th>\n",
       "      <th>longitude</th>\n",
       "      <th>geometry</th>\n",
       "      <th>region_id</th>\n",
       "      <th>impf_</th>\n",
       "    </tr>\n",
       "  </thead>\n",
       "  <tbody>\n",
       "    <tr>\n",
       "      <th>0</th>\n",
       "      <td>1.246857e+02</td>\n",
       "      <td>50.791667</td>\n",
       "      <td>-128.625000</td>\n",
       "      <td>POINT (-128.625 50.79166667)</td>\n",
       "      <td>CAN</td>\n",
       "      <td>1</td>\n",
       "    </tr>\n",
       "    <tr>\n",
       "      <th>1</th>\n",
       "      <td>2.764769e+03</td>\n",
       "      <td>50.875000</td>\n",
       "      <td>-127.791667</td>\n",
       "      <td>POINT (-127.79166667 50.875)</td>\n",
       "      <td>CAN</td>\n",
       "      <td>1</td>\n",
       "    </tr>\n",
       "    <tr>\n",
       "      <th>2</th>\n",
       "      <td>3.972300e+03</td>\n",
       "      <td>50.875000</td>\n",
       "      <td>-127.708333</td>\n",
       "      <td>POINT (-127.70833333 50.875)</td>\n",
       "      <td>CAN</td>\n",
       "      <td>1</td>\n",
       "    </tr>\n",
       "    <tr>\n",
       "      <th>3</th>\n",
       "      <td>3.125587e+02</td>\n",
       "      <td>51.708333</td>\n",
       "      <td>-128.041667</td>\n",
       "      <td>POINT (-128.04166667 51.70833333)</td>\n",
       "      <td>CAN</td>\n",
       "      <td>1</td>\n",
       "    </tr>\n",
       "    <tr>\n",
       "      <th>4</th>\n",
       "      <td>3.538172e+02</td>\n",
       "      <td>51.625000</td>\n",
       "      <td>-128.125000</td>\n",
       "      <td>POINT (-128.125 51.625)</td>\n",
       "      <td>CAN</td>\n",
       "      <td>1</td>\n",
       "    </tr>\n",
       "    <tr>\n",
       "      <th>...</th>\n",
       "      <td>...</td>\n",
       "      <td>...</td>\n",
       "      <td>...</td>\n",
       "      <td>...</td>\n",
       "      <td>...</td>\n",
       "      <td>...</td>\n",
       "    </tr>\n",
       "    <tr>\n",
       "      <th>429508</th>\n",
       "      <td>1.051088e+06</td>\n",
       "      <td>14.625000</td>\n",
       "      <td>-92.291667</td>\n",
       "      <td>POINT (-92.29166667 14.625)</td>\n",
       "      <td>MEX</td>\n",
       "      <td>1</td>\n",
       "    </tr>\n",
       "    <tr>\n",
       "      <th>429509</th>\n",
       "      <td>4.788892e+06</td>\n",
       "      <td>14.625000</td>\n",
       "      <td>-92.208333</td>\n",
       "      <td>POINT (-92.20833333 14.625)</td>\n",
       "      <td>MEX</td>\n",
       "      <td>1</td>\n",
       "    </tr>\n",
       "    <tr>\n",
       "      <th>429510</th>\n",
       "      <td>0.000000e+00</td>\n",
       "      <td>24.208333</td>\n",
       "      <td>-109.875000</td>\n",
       "      <td>POINT (-109.875 24.20833333)</td>\n",
       "      <td>MEX</td>\n",
       "      <td>1</td>\n",
       "    </tr>\n",
       "    <tr>\n",
       "      <th>429511</th>\n",
       "      <td>2.843701e+03</td>\n",
       "      <td>24.541667</td>\n",
       "      <td>-110.375000</td>\n",
       "      <td>POINT (-110.375 24.54166667)</td>\n",
       "      <td>MEX</td>\n",
       "      <td>1</td>\n",
       "    </tr>\n",
       "    <tr>\n",
       "      <th>429512</th>\n",
       "      <td>0.000000e+00</td>\n",
       "      <td>27.041667</td>\n",
       "      <td>-109.958333</td>\n",
       "      <td>POINT (-109.95833333 27.04166667)</td>\n",
       "      <td>MEX</td>\n",
       "      <td>1</td>\n",
       "    </tr>\n",
       "  </tbody>\n",
       "</table>\n",
       "<p>429513 rows × 6 columns</p>\n",
       "</div>"
      ],
      "text/plain": [
       "               value   latitude   longitude  \\\n",
       "0       1.246857e+02  50.791667 -128.625000   \n",
       "1       2.764769e+03  50.875000 -127.791667   \n",
       "2       3.972300e+03  50.875000 -127.708333   \n",
       "3       3.125587e+02  51.708333 -128.041667   \n",
       "4       3.538172e+02  51.625000 -128.125000   \n",
       "...              ...        ...         ...   \n",
       "429508  1.051088e+06  14.625000  -92.291667   \n",
       "429509  4.788892e+06  14.625000  -92.208333   \n",
       "429510  0.000000e+00  24.208333 -109.875000   \n",
       "429511  2.843701e+03  24.541667 -110.375000   \n",
       "429512  0.000000e+00  27.041667 -109.958333   \n",
       "\n",
       "                                 geometry region_id  impf_  \n",
       "0            POINT (-128.625 50.79166667)       CAN      1  \n",
       "1            POINT (-127.79166667 50.875)       CAN      1  \n",
       "2            POINT (-127.70833333 50.875)       CAN      1  \n",
       "3       POINT (-128.04166667 51.70833333)       CAN      1  \n",
       "4                 POINT (-128.125 51.625)       CAN      1  \n",
       "...                                   ...       ...    ...  \n",
       "429508        POINT (-92.29166667 14.625)       MEX      1  \n",
       "429509        POINT (-92.20833333 14.625)       MEX      1  \n",
       "429510       POINT (-109.875 24.20833333)       MEX      1  \n",
       "429511       POINT (-110.375 24.54166667)       MEX      1  \n",
       "429512  POINT (-109.95833333 27.04166667)       MEX      1  \n",
       "\n",
       "[429513 rows x 6 columns]"
      ]
     },
     "execution_count": 7,
     "metadata": {},
     "output_type": "execute_result"
    }
   ],
   "source": [
    "north_am"
   ]
  },
  {
   "cell_type": "code",
   "execution_count": 113,
   "metadata": {},
   "outputs": [
    {
     "data": {
      "text/plain": [
       "array(['canada', 'mexico', 'united states'], dtype=object)"
      ]
     },
     "execution_count": 113,
     "metadata": {},
     "output_type": "execute_result"
    }
   ],
   "source": [
    "steel_plants[steel_plants['Region']=='North America'].Country.unique()"
   ]
  },
  {
   "cell_type": "code",
   "execution_count": 11,
   "metadata": {},
   "outputs": [],
   "source": [
    "data=pd.read_csv(\"data\\\\clean_data\\\\only_steel_database_bycontinent\\\\only_steel_countries_North America.csv\")"
   ]
  },
  {
   "cell_type": "code",
   "execution_count": null,
   "metadata": {},
   "outputs": [],
   "source": [
    "data"
   ]
  },
  {
   "cell_type": "code",
   "execution_count": 118,
   "metadata": {},
   "outputs": [],
   "source": [
    "north_am.to_csv(\"only_steel_countries_North America.csv\",index=False)"
   ]
  },
  {
   "cell_type": "code",
   "execution_count": 11,
   "metadata": {},
   "outputs": [],
   "source": [
    "countries_continent={'Central & South America':['argentina','brazil','chile','peru'\n",
    "                                                ,'venezuela','guatemala'],\n",
    "                     'North America':['canada','mexico', 'united states']}"
   ]
  },
  {
   "cell_type": "code",
   "execution_count": 9,
   "metadata": {},
   "outputs": [],
   "source": [
    "def capacity_country_continent(continent,noyau,h):\n",
    "    data=pd.read_csv(\"data\\\\clean_data\\\\only_steel_database_bycontinent\\\\only_steel_countries_\"+continent+\".csv\")\n",
    "    \n",
    "    \n",
    "    coordinates=data[['latitude','longitude']].values\n",
    "    coordinates=np.radians(coordinates)\n",
    "    h_kernel=round(h/6371,4)\n",
    "    kde = KernelDensity(bandwidth=h_kernel, metric='haversine',kernel=noyau).set_fit_request(sample_weight=True)\n",
    "    kde.fit(np.radians(coordinates_change(steel_plants.loc[steel_plants[\"Region\"]==continent])),sample_weight=weigths_continent2(continent))\n",
    "    \n",
    "    f_kernel=np.exp(kde.score_samples(coordinates))\n",
    "    print('ok')\n",
    "    countries_cont=countries_continent[continent]\n",
    "    data['f_kernel']=pd.DataFrame(f_kernel)\n",
    "    kernel_plants_sum=data.groupby(\"region_id\")[\"f_kernel\"].sum().sum()\n",
    "    kernel_plants=data.groupby(\"region_id\")[\"f_kernel\"].sum()/kernel_plants_sum\n",
    "    compare=pd.DataFrame()\n",
    "    compare[\"index\"]=countries_cont\n",
    "    compare.set_index('index',inplace=True)\n",
    "    true_cap=steel_plants.loc[steel_plants[\"Region\"]==continent].groupby('Country')['Nominal crude steel capacity (ttpa)'].sum()\n",
    "    true_cap_sum=steel_plants.loc[steel_plants[\"Region\"]==continent].groupby('Country')['Nominal crude steel capacity (ttpa)'].sum().sum()\n",
    "    true_cap=true_cap/true_cap_sum\n",
    "    compare['true_cap']=pd.DataFrame(true_cap.values,index=countries_cont)\n",
    "    compare['kernel_cap']=pd.DataFrame(kernel_plants.values,index=countries_cont)\n",
    "    for country in countries_cont:\n",
    "        print(country)\n",
    "        \n",
    "        steel_plants_country=steel_plants.loc[(steel_plants['Country']==country)&(steel_plants['more_than_50km']==False)]\n",
    "        print(len(steel_plants_country))\n",
    "        for index,row in steel_plants_country.iterrows():\n",
    "            lat,lon=row['latitude'],row['longitude']\n",
    "            correction_factor=correction_coast_factor((lon,lat),h)\n",
    "            data['distance'] = data.apply(lambda row: haversine_distance((lat,lon), (row['latitude'], row['longitude'])), axis=1)\n",
    "            data['f_kernel'] = data.apply(lambda row: row['f_kernel'] * correction_factor if row['distance'] < 2*h else row['f_kernel'], axis=1)\n",
    "    data['f_kernel'] =data['f_kernel']/data['f_kernel'].sum()\n",
    "    coast_corr=data.groupby('region_id')['f_kernel'].sum()/data.groupby('region_id')['f_kernel'].sum().sum()\n",
    "    compare['coast_corection_cap']=pd.DataFrame(coast_corr.values,index=countries_cont)\n",
    "    return compare"
   ]
  },
  {
   "cell_type": "code",
   "execution_count": 12,
   "metadata": {},
   "outputs": [
    {
     "name": "stdout",
     "output_type": "stream",
     "text": [
      "ok\n",
      "canada\n",
      "3\n",
      "mexico\n",
      "2\n",
      "united states\n",
      "10\n"
     ]
    }
   ],
   "source": [
    "a=capacity_country_continent('North America','exponential',h=25)"
   ]
  },
  {
   "cell_type": "code",
   "execution_count": 13,
   "metadata": {},
   "outputs": [
    {
     "data": {
      "text/plain": [
       "array([0.09833159, 0.1681876 , 0.73348081])"
      ]
     },
     "execution_count": 13,
     "metadata": {},
     "output_type": "execute_result"
    }
   ],
   "source": [
    "a.true_cap.values"
   ]
  },
  {
   "cell_type": "code",
   "execution_count": 14,
   "metadata": {},
   "outputs": [
    {
     "data": {
      "text/plain": [
       "0.021058756940735442"
      ]
     },
     "execution_count": 14,
     "metadata": {},
     "output_type": "execute_result"
    }
   ],
   "source": [
    "np.sqrt(np.mean((a.coast_corection_cap.values-a.true_cap.values)**2)) # NEW DISTRIBUTION H=50"
   ]
  },
  {
   "cell_type": "code",
   "execution_count": 15,
   "metadata": {},
   "outputs": [
    {
     "data": {
      "text/html": [
       "<div>\n",
       "<style scoped>\n",
       "    .dataframe tbody tr th:only-of-type {\n",
       "        vertical-align: middle;\n",
       "    }\n",
       "\n",
       "    .dataframe tbody tr th {\n",
       "        vertical-align: top;\n",
       "    }\n",
       "\n",
       "    .dataframe thead th {\n",
       "        text-align: right;\n",
       "    }\n",
       "</style>\n",
       "<table border=\"1\" class=\"dataframe\">\n",
       "  <thead>\n",
       "    <tr style=\"text-align: right;\">\n",
       "      <th></th>\n",
       "      <th>true_cap</th>\n",
       "      <th>kernel_cap</th>\n",
       "      <th>coast_corection_cap</th>\n",
       "    </tr>\n",
       "    <tr>\n",
       "      <th>index</th>\n",
       "      <th></th>\n",
       "      <th></th>\n",
       "      <th></th>\n",
       "    </tr>\n",
       "  </thead>\n",
       "  <tbody>\n",
       "    <tr>\n",
       "      <th>canada</th>\n",
       "      <td>0.098332</td>\n",
       "      <td>0.113984</td>\n",
       "      <td>0.112257</td>\n",
       "    </tr>\n",
       "    <tr>\n",
       "      <th>mexico</th>\n",
       "      <td>0.168188</td>\n",
       "      <td>0.128704</td>\n",
       "      <td>0.138426</td>\n",
       "    </tr>\n",
       "    <tr>\n",
       "      <th>united states</th>\n",
       "      <td>0.733481</td>\n",
       "      <td>0.757312</td>\n",
       "      <td>0.749316</td>\n",
       "    </tr>\n",
       "  </tbody>\n",
       "</table>\n",
       "</div>"
      ],
      "text/plain": [
       "               true_cap  kernel_cap  coast_corection_cap\n",
       "index                                                   \n",
       "canada         0.098332    0.113984             0.112257\n",
       "mexico         0.168188    0.128704             0.138426\n",
       "united states  0.733481    0.757312             0.749316"
      ]
     },
     "execution_count": 15,
     "metadata": {},
     "output_type": "execute_result"
    }
   ],
   "source": [
    "a"
   ]
  },
  {
   "cell_type": "code",
   "execution_count": 24,
   "metadata": {},
   "outputs": [
    {
     "data": {
      "text/plain": [
       "0.026689302346933206"
      ]
     },
     "execution_count": 24,
     "metadata": {},
     "output_type": "execute_result"
    }
   ],
   "source": [
    "#OLD REDISTRIBUTION\n",
    "np.sqrt(np.mean((np.array([0.106278,0.132259,0.761462])-a.true_cap.values)**2)) \n"
   ]
  },
  {
   "cell_type": "code",
   "execution_count": 21,
   "metadata": {},
   "outputs": [
    {
     "data": {
      "text/plain": [
       "0.028118347170441555"
      ]
     },
     "execution_count": 21,
     "metadata": {},
     "output_type": "execute_result"
    }
   ],
   "source": [
    "np.sqrt(np.mean((a.kernel_cap.values-a.true_cap.values)**2))"
   ]
  },
  {
   "cell_type": "markdown",
   "metadata": {},
   "source": []
  },
  {
   "cell_type": "markdown",
   "metadata": {},
   "source": [
    "Analyse of circle distribution\n"
   ]
  },
  {
   "cell_type": "code",
   "execution_count": 16,
   "metadata": {},
   "outputs": [],
   "source": [
    "mexico=database_exposure_country('mexico', h=10, noyau='exponential')"
   ]
  },
  {
   "cell_type": "code",
   "execution_count": 5,
   "metadata": {},
   "outputs": [
    {
     "data": {
      "text/plain": [
       "25089"
      ]
     },
     "execution_count": 5,
     "metadata": {},
     "output_type": "execute_result"
    }
   ],
   "source": [
    "len(mexico.value.unique())"
   ]
  },
  {
   "cell_type": "code",
   "execution_count": 19,
   "metadata": {},
   "outputs": [],
   "source": [
    "lat,lon=26.87689,-101.4166"
   ]
  },
  {
   "cell_type": "code",
   "execution_count": 20,
   "metadata": {},
   "outputs": [],
   "source": [
    "mexico['distance'] = mexico.apply(lambda x: haversine_distance((lat,lon), (x['latitude'], x['longitude'])), axis=1)\n"
   ]
  },
  {
   "cell_type": "code",
   "execution_count": 32,
   "metadata": {},
   "outputs": [
    {
     "ename": "NameError",
     "evalue": "name 'mexico_output' is not defined",
     "output_type": "error",
     "traceback": [
      "\u001b[1;31m---------------------------------------------------------------------------\u001b[0m",
      "\u001b[1;31mNameError\u001b[0m                                 Traceback (most recent call last)",
      "\u001b[1;32mc:\\Users\\Denisa.draghia\\Desktop\\Acier\\new_exposures.ipynb Cell 36\u001b[0m line \u001b[0;36m5\n\u001b[0;32m      <a href='vscode-notebook-cell:/c%3A/Users/Denisa.draghia/Desktop/Acier/new_exposures.ipynb#X50sZmlsZQ%3D%3D?line=2'>3</a>\u001b[0m \u001b[39m# Sum the 'value' column for the filtered rows\u001b[39;00m\n\u001b[0;32m      <a href='vscode-notebook-cell:/c%3A/Users/Denisa.draghia/Desktop/Acier/new_exposures.ipynb#X50sZmlsZQ%3D%3D?line=3'>4</a>\u001b[0m sum_of_values \u001b[39m=\u001b[39m filtered_mexico[\u001b[39m'\u001b[39m\u001b[39mvalue\u001b[39m\u001b[39m'\u001b[39m]\u001b[39m.\u001b[39msum()\n\u001b[1;32m----> <a href='vscode-notebook-cell:/c%3A/Users/Denisa.draghia/Desktop/Acier/new_exposures.ipynb#X50sZmlsZQ%3D%3D?line=4'>5</a>\u001b[0m sum_of_values\u001b[39m/\u001b[39mmexico_output\n",
      "\u001b[1;31mNameError\u001b[0m: name 'mexico_output' is not defined"
     ]
    }
   ],
   "source": [
    "filtered_mexico = mexico[mexico['distance'] <40]\n",
    "\n",
    "# Sum the 'value' column for the filtered rows\n",
    "sum_of_values = filtered_mexico['value'].sum()\n",
    "sum_of_values/mexico_output"
   ]
  },
  {
   "cell_type": "code",
   "execution_count": 34,
   "metadata": {},
   "outputs": [],
   "source": [
    "mexico_output=2.066791*(10**10)"
   ]
  },
  {
   "cell_type": "code",
   "execution_count": 15,
   "metadata": {},
   "outputs": [
    {
     "data": {
      "text/plain": [
       "0         0.034067\n",
       "1         0.021497\n",
       "2         0.018984\n",
       "3         0.015579\n",
       "4         0.016855\n",
       "           ...    \n",
       "25084    18.143934\n",
       "25085    16.059779\n",
       "25086     0.557806\n",
       "25087     0.255872\n",
       "25088     2.199224\n",
       "Name: value, Length: 25089, dtype: float64"
      ]
     },
     "execution_count": 15,
     "metadata": {},
     "output_type": "execute_result"
    }
   ],
   "source": [
    "mexico[\"value\"]"
   ]
  },
  {
   "cell_type": "code",
   "execution_count": 23,
   "metadata": {},
   "outputs": [],
   "source": [
    "one_plant=steel_plants[steel_plants['Plant name (English)']=='Grupo Acerero steel plant']"
   ]
  },
  {
   "cell_type": "code",
   "execution_count": null,
   "metadata": {},
   "outputs": [],
   "source": [
    "one_plant"
   ]
  },
  {
   "cell_type": "code",
   "execution_count": 21,
   "metadata": {},
   "outputs": [],
   "source": [
    "mexico=pd.read_hdf(\"P:\\\\Projets Internes\\\\PLADIFES\\\\PLADIFES DATA CREATION\\\\Sectorial wealth\\\\data\\\\5 minutes\\\\LitPop_pc_300_arcsec_MEX_v1.hdf5\")"
   ]
  },
  {
   "cell_type": "code",
   "execution_count": 40,
   "metadata": {},
   "outputs": [
    {
     "data": {
      "text/plain": [
       "0.0015696123057604772"
      ]
     },
     "execution_count": 40,
     "metadata": {},
     "output_type": "execute_result"
    }
   ],
   "source": [
    "10/6371"
   ]
  },
  {
   "cell_type": "code",
   "execution_count": 24,
   "metadata": {},
   "outputs": [],
   "source": [
    "coordinates=mexico[['latitude','longitude']].values\n",
    "coordinates=np.radians(coordinates)\n",
    "kde = KernelDensity(bandwidth=25/6371, metric='haversine',kernel='exponential')\n",
    "kde.fit(np.radians(coordinates_change(one_plant)))\n",
    "f_kernel=np.exp(kde.score_samples(coordinates))"
   ]
  },
  {
   "cell_type": "code",
   "execution_count": 25,
   "metadata": {},
   "outputs": [],
   "source": [
    "mexico['f_kernel']=pd.DataFrame(f_kernel)\n",
    "mexico['f_kernel']=mexico['f_kernel']/mexico['f_kernel'].sum()"
   ]
  },
  {
   "cell_type": "code",
   "execution_count": null,
   "metadata": {},
   "outputs": [],
   "source": [
    "mexico"
   ]
  },
  {
   "cell_type": "code",
   "execution_count": 26,
   "metadata": {},
   "outputs": [],
   "source": [
    "lat,lon=one_plant.latitude.values[0],one_plant.longitude.values[0]"
   ]
  },
  {
   "cell_type": "code",
   "execution_count": 27,
   "metadata": {},
   "outputs": [],
   "source": [
    "mexico['distance'] = mexico.apply(lambda x: haversine_distance((lat,lon), (x['latitude'], x['longitude'])), axis=1)"
   ]
  },
  {
   "cell_type": "code",
   "execution_count": 28,
   "metadata": {},
   "outputs": [
    {
     "data": {
      "text/plain": [
       "[5,\n",
       " 10,\n",
       " 15,\n",
       " 20,\n",
       " 25,\n",
       " 30,\n",
       " 35,\n",
       " 40,\n",
       " 45,\n",
       " 50,\n",
       " 55,\n",
       " 60,\n",
       " 65,\n",
       " 70,\n",
       " 75,\n",
       " 80,\n",
       " 85,\n",
       " 90,\n",
       " 95,\n",
       " 100]"
      ]
     },
     "execution_count": 28,
     "metadata": {},
     "output_type": "execute_result"
    }
   ],
   "source": [
    "dist=[i*5 for i in range(1,21)]\n",
    "dist"
   ]
  },
  {
   "cell_type": "code",
   "execution_count": 29,
   "metadata": {},
   "outputs": [],
   "source": [
    "dict={}\n",
    "for d in dist:\n",
    "    filtered_mexico = mexico[mexico['distance'] <d]\n",
    "    sum_of_values = filtered_mexico['f_kernel'].sum()\n",
    "    dict[d]=sum_of_values\n",
    "    "
   ]
  },
  {
   "cell_type": "code",
   "execution_count": null,
   "metadata": {},
   "outputs": [],
   "source": [
    "dict"
   ]
  },
  {
   "cell_type": "code",
   "execution_count": null,
   "metadata": {},
   "outputs": [],
   "source": []
  }
 ],
 "metadata": {
  "kernelspec": {
   "display_name": "Denisa.draghia-IwxA2Vx_",
   "language": "python",
   "name": "python3"
  },
  "language_info": {
   "codemirror_mode": {
    "name": "ipython",
    "version": 3
   },
   "file_extension": ".py",
   "mimetype": "text/x-python",
   "name": "python",
   "nbconvert_exporter": "python",
   "pygments_lexer": "ipython3",
   "version": "3.9.13"
  }
 },
 "nbformat": 4,
 "nbformat_minor": 2
}
