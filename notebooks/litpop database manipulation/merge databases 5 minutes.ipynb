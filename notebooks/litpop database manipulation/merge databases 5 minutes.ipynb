{
 "cells": [
  {
   "cell_type": "markdown",
   "metadata": {},
   "source": [
    "This code merges the LitPop databases at country level in a world database for \n",
    "a resolution of 5 minutes (300 seconds)"
   ]
  },
  {
   "cell_type": "code",
   "execution_count": 2,
   "metadata": {},
   "outputs": [],
   "source": [
    "import warnings\n",
    "warnings.filterwarnings(\"ignore\")"
   ]
  },
  {
   "cell_type": "code",
   "execution_count": 5,
   "metadata": {},
   "outputs": [],
   "source": [
    "\n",
    "import os \n",
    "import pandas as pd\n",
    "file_path=\"P:\\\\Projets Internes\\\\PLADIFES\\\\PLADIFES DATA CREATION\\\\Sectorial wealth\\\\Data\\\\5 minutes\"\n",
    "file_list=os.listdir(file_path)\n"
   ]
  },
  {
   "cell_type": "code",
   "execution_count": null,
   "metadata": {},
   "outputs": [],
   "source": [
    "df_append=pd.DataFrame()\n",
    "for file in file_list:\n",
    "        print(file)\n",
    "        df_temp = pd.read_hdf(file_path+\"\\\\\"+file)\n",
    "        df_append = pd.concat([df_append, df_temp], ignore_index=True)\n",
    "\n"
   ]
  },
  {
   "cell_type": "code",
   "execution_count": 7,
   "metadata": {},
   "outputs": [],
   "source": [
    "df_world_5minutes=df_append[['value', 'latitude', 'longitude']]\n",
    "df_world_5minutes.to_csv(file_path+\"world_5minutes.csv\")"
   ]
  },
  {
   "cell_type": "code",
   "execution_count": 3,
   "metadata": {},
   "outputs": [
    {
     "data": {
      "text/html": [
       "<div>\n",
       "<style scoped>\n",
       "    .dataframe tbody tr th:only-of-type {\n",
       "        vertical-align: middle;\n",
       "    }\n",
       "\n",
       "    .dataframe tbody tr th {\n",
       "        vertical-align: top;\n",
       "    }\n",
       "\n",
       "    .dataframe thead th {\n",
       "        text-align: right;\n",
       "    }\n",
       "</style>\n",
       "<table border=\"1\" class=\"dataframe\">\n",
       "  <thead>\n",
       "    <tr style=\"text-align: right;\">\n",
       "      <th></th>\n",
       "      <th>Unnamed: 0</th>\n",
       "      <th>value</th>\n",
       "      <th>latitude</th>\n",
       "      <th>longitude</th>\n",
       "    </tr>\n",
       "  </thead>\n",
       "  <tbody>\n",
       "    <tr>\n",
       "      <th>0</th>\n",
       "      <td>0</td>\n",
       "      <td>3.509212e+09</td>\n",
       "      <td>12.541667</td>\n",
       "      <td>-70.041667</td>\n",
       "    </tr>\n",
       "    <tr>\n",
       "      <th>1</th>\n",
       "      <td>1</td>\n",
       "      <td>5.769801e+08</td>\n",
       "      <td>12.541667</td>\n",
       "      <td>-69.958333</td>\n",
       "    </tr>\n",
       "    <tr>\n",
       "      <th>2</th>\n",
       "      <td>2</td>\n",
       "      <td>4.379376e+04</td>\n",
       "      <td>38.458333</td>\n",
       "      <td>70.958333</td>\n",
       "    </tr>\n",
       "    <tr>\n",
       "      <th>3</th>\n",
       "      <td>3</td>\n",
       "      <td>9.023669e+04</td>\n",
       "      <td>38.375000</td>\n",
       "      <td>70.708333</td>\n",
       "    </tr>\n",
       "    <tr>\n",
       "      <th>4</th>\n",
       "      <td>4</td>\n",
       "      <td>7.836037e+04</td>\n",
       "      <td>38.375000</td>\n",
       "      <td>70.791667</td>\n",
       "    </tr>\n",
       "    <tr>\n",
       "      <th>...</th>\n",
       "      <td>...</td>\n",
       "      <td>...</td>\n",
       "      <td>...</td>\n",
       "      <td>...</td>\n",
       "    </tr>\n",
       "    <tr>\n",
       "      <th>2203390</th>\n",
       "      <td>2203390</td>\n",
       "      <td>2.067650e+05</td>\n",
       "      <td>-22.291667</td>\n",
       "      <td>31.125000</td>\n",
       "    </tr>\n",
       "    <tr>\n",
       "      <th>2203391</th>\n",
       "      <td>2203391</td>\n",
       "      <td>2.484672e+05</td>\n",
       "      <td>-22.291667</td>\n",
       "      <td>31.208333</td>\n",
       "    </tr>\n",
       "    <tr>\n",
       "      <th>2203392</th>\n",
       "      <td>2203392</td>\n",
       "      <td>2.627585e+05</td>\n",
       "      <td>-22.291667</td>\n",
       "      <td>31.291667</td>\n",
       "    </tr>\n",
       "    <tr>\n",
       "      <th>2203393</th>\n",
       "      <td>2203393</td>\n",
       "      <td>2.335752e+05</td>\n",
       "      <td>-22.291667</td>\n",
       "      <td>31.375000</td>\n",
       "    </tr>\n",
       "    <tr>\n",
       "      <th>2203394</th>\n",
       "      <td>2203394</td>\n",
       "      <td>1.730582e+05</td>\n",
       "      <td>-22.375000</td>\n",
       "      <td>31.291667</td>\n",
       "    </tr>\n",
       "  </tbody>\n",
       "</table>\n",
       "<p>2203395 rows × 4 columns</p>\n",
       "</div>"
      ],
      "text/plain": [
       "         Unnamed: 0         value   latitude  longitude\n",
       "0                 0  3.509212e+09  12.541667 -70.041667\n",
       "1                 1  5.769801e+08  12.541667 -69.958333\n",
       "2                 2  4.379376e+04  38.458333  70.958333\n",
       "3                 3  9.023669e+04  38.375000  70.708333\n",
       "4                 4  7.836037e+04  38.375000  70.791667\n",
       "...             ...           ...        ...        ...\n",
       "2203390     2203390  2.067650e+05 -22.291667  31.125000\n",
       "2203391     2203391  2.484672e+05 -22.291667  31.208333\n",
       "2203392     2203392  2.627585e+05 -22.291667  31.291667\n",
       "2203393     2203393  2.335752e+05 -22.291667  31.375000\n",
       "2203394     2203394  1.730582e+05 -22.375000  31.291667\n",
       "\n",
       "[2203395 rows x 4 columns]"
      ]
     },
     "execution_count": 3,
     "metadata": {},
     "output_type": "execute_result"
    }
   ],
   "source": [
    "a=pd.read_csv(\"P:\\\\Projets Internes\\\\PLADIFES\\\\PLADIFES DATA CREATION\\\\Sectorial wealth\\\\Data\\\\world_5 minutes.csv\")\n",
    "a"
   ]
  }
 ],
 "metadata": {
  "kernelspec": {
   "display_name": "Denisa.draghia-IwxA2Vx_",
   "language": "python",
   "name": "python3"
  },
  "language_info": {
   "codemirror_mode": {
    "name": "ipython",
    "version": 3
   },
   "file_extension": ".py",
   "mimetype": "text/x-python",
   "name": "python",
   "nbconvert_exporter": "python",
   "pygments_lexer": "ipython3",
   "version": "3.9.13"
  },
  "orig_nbformat": 4
 },
 "nbformat": 4,
 "nbformat_minor": 2
}
