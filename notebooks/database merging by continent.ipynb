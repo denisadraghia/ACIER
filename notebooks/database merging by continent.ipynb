{
 "cells": [
  {
   "cell_type": "markdown",
   "metadata": {},
   "source": [
    "In this notebook, I merged the country LitPop database by continent for the originial LitPop database (30 seconds). However, I couldn't create a world database (memory crash)."
   ]
  },
  {
   "cell_type": "code",
   "execution_count": 27,
   "metadata": {},
   "outputs": [],
   "source": [
    "import pandas as pd\n",
    "import os\n",
    "file_path='C:\\\\Users\\\\Denisa.draghia\\\\Desktop\\\\Acier\\\\data'\n",
    "file_list = os.listdir(file_path)"
   ]
  },
  {
   "cell_type": "code",
   "execution_count": 28,
   "metadata": {},
   "outputs": [
    {
     "data": {
      "text/plain": [
       "['AFRICA',\n",
       " 'ASIA',\n",
       " 'AUSTRALIA AND OCEANIA',\n",
       " 'EUROPE',\n",
       " 'NORTH_AMERICA',\n",
       " 'SOUTH_AMERICA']"
      ]
     },
     "execution_count": 28,
     "metadata": {},
     "output_type": "execute_result"
    }
   ],
   "source": [
    "file_list"
   ]
  },
  {
   "cell_type": "code",
   "execution_count": 26,
   "metadata": {},
   "outputs": [],
   "source": [
    "continents=['AFRICA','ASIA','EUROPE','AUSTRALIA_OCEANIA',\n",
    "            'NORTH_AMERICA','SOUTH_AMERICA']"
   ]
  },
  {
   "cell_type": "code",
   "execution_count": 30,
   "metadata": {},
   "outputs": [
    {
     "data": {
      "text/plain": [
       "'C:\\\\Users\\\\Denisa.draghia\\\\Desktop\\\\Acier\\\\data\\\\AUSTRALIA_OCEANIA'"
      ]
     },
     "execution_count": 30,
     "metadata": {},
     "output_type": "execute_result"
    }
   ],
   "source": [
    "file_path_continent=file_path+'\\\\'+continents[2]\n",
    "file_path_continent"
   ]
  },
  {
   "cell_type": "code",
   "execution_count": null,
   "metadata": {},
   "outputs": [],
   "source": [
    "'''Merge datasets for each continent'''\n",
    "for i in range(6):\n",
    "    df_append = pd.DataFrame()\n",
    "    file_path_continent=file_path+'\\\\'+continents[i]\n",
    "    file_list_continent = os.listdir(file_path_continent)\n",
    "    print(continents[i])\n",
    "    for file in file_list_continent:\n",
    "        df_temp = pd.read_csv(file_path_continent+\"\\\\\"+file)\n",
    "        df_append = pd.concat([df_append, df_temp], ignore_index=True)\n",
    "    df_append.to_csv(file_path_continent+\"\\\\\"+continents[i]+\".csv\")\n"
   ]
  },
  {
   "cell_type": "code",
   "execution_count": null,
   "metadata": {},
   "outputs": [],
   "source": [
    "'''Merge the continent datasets'''\n",
    "file_path_big_datasets=\"C:\\\\Users\\\\Denisa.draghia\\\\Desktop\\\\Acier\\\\data\\\\BIG DATABASES\\\\AMERICAS\"\n",
    "file_list_big_datasets = os.listdir(file_path_big_datasets)\n",
    "df_append = pd.DataFrame()\n",
    "for file in file_list_big_datasets:\n",
    "        print(file)\n",
    "        df_temp = pd.read_csv(file_path_big_datasets+\"\\\\\"+file)\n",
    "        df_append = pd.concat([df_append, df_temp], ignore_index=True)\n",
    "\n",
    "# MEMORY CRASH"
   ]
  },
  {
   "cell_type": "code",
   "execution_count": 51,
   "metadata": {},
   "outputs": [],
   "source": [
    "europe=pd.read_csv(\"C:\\\\Users\\\\Denisa.draghia\\\\Desktop\\\\Acier\\\\data\\\\BIG DATABASES\\\\ASIA.csv\", chunksize=1000)"
   ]
  }
 ],
 "metadata": {
  "kernelspec": {
   "display_name": "Denisa.draghia-IwxA2Vx_",
   "language": "python",
   "name": "python3"
  },
  "language_info": {
   "codemirror_mode": {
    "name": "ipython",
    "version": 3
   },
   "file_extension": ".py",
   "mimetype": "text/x-python",
   "name": "python",
   "nbconvert_exporter": "python",
   "pygments_lexer": "ipython3",
   "version": "3.9.13"
  },
  "orig_nbformat": 4
 },
 "nbformat": 4,
 "nbformat_minor": 2
}
